{
 "cells": [
  {
   "cell_type": "markdown",
   "id": "ce206ee0",
   "metadata": {},
   "source": [
    "### Function\n",
    "- A set of instructions that are placed together to perform a specified task"
   ]
  },
  {
   "cell_type": "code",
   "execution_count": 5,
   "id": "70882165",
   "metadata": {},
   "outputs": [
    {
     "name": "stdout",
     "output_type": "stream",
     "text": [
      "I am groot !\n"
     ]
    }
   ],
   "source": [
    "print('I am groot !')"
   ]
  },
  {
   "cell_type": "code",
   "execution_count": 6,
   "id": "5ff28889",
   "metadata": {},
   "outputs": [
    {
     "name": "stdout",
     "output_type": "stream",
     "text": [
      "\n"
     ]
    }
   ],
   "source": [
    "print()"
   ]
  },
  {
   "cell_type": "markdown",
   "id": "4d438d59",
   "metadata": {},
   "source": [
    "### Syntax :\n",
    "\n",
    "```python\n",
    "    def function_name():\n",
    "        lines of code\n",
    "```"
   ]
  },
  {
   "cell_type": "code",
   "execution_count": 7,
   "id": "7ab5a28d",
   "metadata": {},
   "outputs": [
    {
     "name": "stdout",
     "output_type": "stream",
     "text": [
      "Hello World !\n"
     ]
    }
   ],
   "source": [
    "print('Hello World !')"
   ]
  },
  {
   "cell_type": "code",
   "execution_count": 8,
   "id": "1f3f287a",
   "metadata": {},
   "outputs": [
    {
     "name": "stdout",
     "output_type": "stream",
     "text": [
      "Hello World !\n"
     ]
    }
   ],
   "source": [
    "print('Hello World !')"
   ]
  },
  {
   "cell_type": "code",
   "execution_count": 9,
   "id": "ab4f9841",
   "metadata": {},
   "outputs": [
    {
     "name": "stdout",
     "output_type": "stream",
     "text": [
      "Hello World !\n"
     ]
    }
   ],
   "source": [
    "print('Hello World !')"
   ]
  },
  {
   "cell_type": "code",
   "execution_count": 10,
   "id": "1ed3e840",
   "metadata": {},
   "outputs": [
    {
     "name": "stdout",
     "output_type": "stream",
     "text": [
      "Hello World !\n"
     ]
    }
   ],
   "source": [
    "print('Hello World !')"
   ]
  },
  {
   "cell_type": "markdown",
   "id": "42f28daa",
   "metadata": {},
   "source": [
    "#### Writing the function for Hello World !"
   ]
  },
  {
   "cell_type": "code",
   "execution_count": 26,
   "id": "de96bc5b",
   "metadata": {},
   "outputs": [],
   "source": [
    "def hello_world():\n",
    "    print('Hello World !')\n",
    "    print('I am Groot !')\n",
    "    print('I am a guardian of the galaxy !')\n",
    "    print('I am here for peace !')"
   ]
  },
  {
   "cell_type": "code",
   "execution_count": 27,
   "id": "54294acb",
   "metadata": {},
   "outputs": [
    {
     "name": "stdout",
     "output_type": "stream",
     "text": [
      "Hello World !\n",
      "I am Groot !\n",
      "I am a guardian of the galaxy !\n",
      "I am here for peace !\n"
     ]
    }
   ],
   "source": [
    "hello_world()"
   ]
  },
  {
   "cell_type": "markdown",
   "id": "c65be091",
   "metadata": {},
   "source": [
    "### calling the function : \n",
    "    function_name()"
   ]
  },
  {
   "cell_type": "code",
   "execution_count": 31,
   "id": "59a1b429",
   "metadata": {},
   "outputs": [],
   "source": [
    "def sum_of_2_n_3():\n",
    "    print(f'The sum of 2 and 3 is {2+3} !')"
   ]
  },
  {
   "cell_type": "code",
   "execution_count": 32,
   "id": "68fdcf7e",
   "metadata": {},
   "outputs": [
    {
     "name": "stdout",
     "output_type": "stream",
     "text": [
      "The sum of 2 and 3 is 5 !\n"
     ]
    }
   ],
   "source": [
    "sum_of_2_n_3()"
   ]
  },
  {
   "cell_type": "code",
   "execution_count": 33,
   "id": "4270b348",
   "metadata": {},
   "outputs": [],
   "source": [
    "def factorial():\n",
    "    number = int(input('Enter the number : '))\n",
    "    iterator = range(1,number+1)\n",
    "    fact = 1\n",
    "    for i in iterator:\n",
    "        fact*=i\n",
    "    print(f'The factorial of {number} is {fact} !')"
   ]
  },
  {
   "cell_type": "code",
   "execution_count": 34,
   "id": "7a6bae35",
   "metadata": {},
   "outputs": [
    {
     "name": "stdout",
     "output_type": "stream",
     "text": [
      "Enter the number : 4\n",
      "The factorial of 4 is 24 !\n"
     ]
    }
   ],
   "source": [
    "factorial()"
   ]
  },
  {
   "cell_type": "markdown",
   "id": "b6dfabbc",
   "metadata": {},
   "source": [
    "### Variables"
   ]
  },
  {
   "cell_type": "markdown",
   "id": "57267e0b",
   "metadata": {},
   "source": [
    "- Two types of variables\n",
    "    - Global variables\n",
    "    - Local variables"
   ]
  },
  {
   "cell_type": "markdown",
   "id": "7fe69b4a",
   "metadata": {},
   "source": [
    "#### Global Variable "
   ]
  },
  {
   "cell_type": "markdown",
   "id": "fd213b68",
   "metadata": {},
   "source": [
    "- The variables that are valid throughout the session\n",
    "- These variables are accessible from anywhere throughout the code"
   ]
  },
  {
   "cell_type": "code",
   "execution_count": 35,
   "id": "6d74fa5a",
   "metadata": {},
   "outputs": [],
   "source": [
    "x = 55"
   ]
  },
  {
   "cell_type": "code",
   "execution_count": 36,
   "id": "3b9fa727",
   "metadata": {},
   "outputs": [
    {
     "name": "stdout",
     "output_type": "stream",
     "text": [
      "55\n"
     ]
    }
   ],
   "source": [
    "print(x)"
   ]
  },
  {
   "cell_type": "code",
   "execution_count": 37,
   "id": "2d7b49e0",
   "metadata": {},
   "outputs": [
    {
     "data": {
      "text/plain": [
       "60"
      ]
     },
     "execution_count": 37,
     "metadata": {},
     "output_type": "execute_result"
    }
   ],
   "source": [
    "x + 5"
   ]
  },
  {
   "cell_type": "markdown",
   "id": "11e6d0e6",
   "metadata": {},
   "source": [
    "#### Local Variable"
   ]
  },
  {
   "cell_type": "markdown",
   "id": "50dbdd58",
   "metadata": {},
   "source": [
    "- Variables that arae explicitly defined inside a function\n",
    "- Such variables are not valid outside the function\n",
    "- They are initiated and exist inside the function only and outside the function they dont exist at all"
   ]
  },
  {
   "cell_type": "code",
   "execution_count": 46,
   "id": "6e8ecc0c",
   "metadata": {},
   "outputs": [],
   "source": [
    "def factorial():\n",
    "    number = int(input('Enter the number : '))\n",
    "    iterator = range(1,number+1)\n",
    "    fact = 1\n",
    "    \n",
    "    for temp in iterator:\n",
    "        fact*=temp\n",
    "        \n",
    "    print(f'The factorial of {number} is {fact} !')"
   ]
  },
  {
   "cell_type": "code",
   "execution_count": 47,
   "id": "bef5817e",
   "metadata": {},
   "outputs": [
    {
     "name": "stdout",
     "output_type": "stream",
     "text": [
      "Enter the number : 10\n",
      "The factorial of 10 is 3628800 !\n"
     ]
    }
   ],
   "source": [
    "factorial()"
   ]
  },
  {
   "cell_type": "markdown",
   "id": "e69a49a2",
   "metadata": {},
   "source": [
    "### Convert a local variable into a global variable"
   ]
  },
  {
   "cell_type": "markdown",
   "id": "5333be47",
   "metadata": {},
   "source": [
    "- We can forcefully convert a local variable into a global variable but it is not suggested to do so"
   ]
  },
  {
   "cell_type": "code",
   "execution_count": null,
   "id": "d6993acf",
   "metadata": {},
   "outputs": [],
   "source": [
    "def factorial():\n",
    "    number = int(input('Enter the number : '))\n",
    "    iterator = range(1,number+1)\n",
    "    fact = 1\n",
    "    \n",
    "    for temp in iterator:\n",
    "        fact*=temp\n",
    "        \n",
    "    print(f'The factorial of {number} is {fact} !')"
   ]
  },
  {
   "cell_type": "markdown",
   "id": "cf2fbd79",
   "metadata": {},
   "source": [
    "```python\n",
    "global : keyword used to globalise a variable\n",
    "    - syntax : global variable_name\n",
    "```"
   ]
  },
  {
   "cell_type": "code",
   "execution_count": 52,
   "id": "3ecdf7e5",
   "metadata": {},
   "outputs": [],
   "source": [
    "def factorial():\n",
    "    number = int(input('Enter the number : '))\n",
    "    iterator = range(1,number+1)\n",
    "    \n",
    "    global fact # converting a local variable into a global variable\n",
    "    fact = 1\n",
    "        \n",
    "    for temp in iterator:\n",
    "        fact*=temp\n",
    "        \n",
    "    print(f'The factorial of {number} is {fact} !')"
   ]
  },
  {
   "cell_type": "code",
   "execution_count": 53,
   "id": "7170b8de",
   "metadata": {},
   "outputs": [
    {
     "name": "stdout",
     "output_type": "stream",
     "text": [
      "Enter the number : 4\n",
      "The factorial of 4 is 24 !\n"
     ]
    }
   ],
   "source": [
    "factorial()"
   ]
  },
  {
   "cell_type": "code",
   "execution_count": 54,
   "id": "1fee6a75",
   "metadata": {},
   "outputs": [
    {
     "data": {
      "text/plain": [
       "24"
      ]
     },
     "execution_count": 54,
     "metadata": {},
     "output_type": "execute_result"
    }
   ],
   "source": [
    "fact"
   ]
  },
  {
   "cell_type": "code",
   "execution_count": 70,
   "id": "5fedf8d2",
   "metadata": {},
   "outputs": [],
   "source": [
    "final = [i for i in range(11)]"
   ]
  },
  {
   "cell_type": "code",
   "execution_count": 69,
   "id": "62535db7",
   "metadata": {},
   "outputs": [],
   "source": [
    "#-----------------------------function to add elements\n",
    "def adder():\n",
    "    numbers = input('Enter the numbers separated by commas : ').split(',')\n",
    "    numbers = [int(i.strip()) for i in numbers]\n",
    "    \n",
    "    final = sum(numbers)\n",
    "    print(f'The sum of the given numbers is : {final}')\n",
    "    \n",
    "#-----------------------------function to multiply elements\n",
    "def product():\n",
    "    numbers = input('Enter the numbers separated by commas : ').split(',')\n",
    "    numbers = [int(i.strip()) for i in numbers]\n",
    "    \n",
    "    final = 1\n",
    "    for i in numbers:\n",
    "        final*=i\n",
    "    \n",
    "    print(f'The product of the given numbers is : {final}')"
   ]
  },
  {
   "cell_type": "markdown",
   "id": "a6f70855",
   "metadata": {},
   "source": [
    "### Doc-strings"
   ]
  },
  {
   "cell_type": "markdown",
   "id": "569ec97a",
   "metadata": {},
   "source": [
    "- descriptions of the functions/what is it doing and what the parameters stand for"
   ]
  },
  {
   "cell_type": "code",
   "execution_count": 73,
   "id": "3732d7c6",
   "metadata": {},
   "outputs": [],
   "source": [
    "#-----------------------------function to add elements\n",
    "def adder():\n",
    "    '''Takes in the numeric elements(integers) separated by commas from the user and prints the sum of all these numbers\n",
    "    The elements need to be integers only else the code would throw a ValueError or TypeError'''\n",
    "    \n",
    "    numbers = input('Enter the numbers separated by commas : ').split(',')\n",
    "    numbers = [int(i.strip()) for i in numbers]\n",
    "    \n",
    "    final = sum(numbers)\n",
    "    print(f'The sum of the given numbers is : {final}')"
   ]
  },
  {
   "cell_type": "code",
   "execution_count": null,
   "id": "b80abc48",
   "metadata": {},
   "outputs": [],
   "source": [
    "adder()"
   ]
  },
  {
   "cell_type": "raw",
   "id": "7dd3941b",
   "metadata": {},
   "source": [
    "#---------------------------------------------------------------------------------------------------------------------"
   ]
  },
  {
   "cell_type": "markdown",
   "id": "a606df77",
   "metadata": {},
   "source": [
    "### 1. Problem : Take two names from the user and print out that these two people are best of friends"
   ]
  },
  {
   "cell_type": "code",
   "execution_count": 74,
   "id": "2df12d3e",
   "metadata": {},
   "outputs": [],
   "source": [
    "# Sangram\n",
    "def names():\n",
    "    print()\n",
    "    a=input(\"Enter name1: \")\n",
    "    print()\n",
    "    b=input(\"Enter name2: \")\n",
    "    print()\n",
    "    print(f'{a} and {b} are good friends!')"
   ]
  },
  {
   "cell_type": "code",
   "execution_count": 75,
   "id": "92291ab7",
   "metadata": {},
   "outputs": [
    {
     "name": "stdout",
     "output_type": "stream",
     "text": [
      "\n",
      "Enter name1: Mohan\n",
      "\n",
      "Enter name2: Rohan\n",
      "\n",
      "Mohan and Rohan are good friends!\n"
     ]
    }
   ],
   "source": [
    "names()"
   ]
  },
  {
   "cell_type": "code",
   "execution_count": 76,
   "id": "1f071d63",
   "metadata": {},
   "outputs": [],
   "source": [
    "# Sayali\n",
    "def func():\n",
    "    name1 = input('Enter the 1st name: ')\n",
    "    name2 = input('Enter the 2nd name: ')\n",
    "    print(f'{name1} and {name2} are good friends.')"
   ]
  },
  {
   "cell_type": "code",
   "execution_count": 77,
   "id": "7fc317f6",
   "metadata": {},
   "outputs": [
    {
     "name": "stdout",
     "output_type": "stream",
     "text": [
      "Enter the 1st name: m\n",
      "Enter the 2nd name: n\n",
      "m and n are good friends.\n"
     ]
    }
   ],
   "source": [
    "func()"
   ]
  },
  {
   "cell_type": "code",
   "execution_count": 78,
   "id": "ec5bd486",
   "metadata": {},
   "outputs": [],
   "source": [
    "# musaib\n",
    "def func():\n",
    "    friends = input('Enter names seperated by commas: ').split(',')\n",
    "    print(f'{friends[0]} and {friends[1]} are best friends!')"
   ]
  },
  {
   "cell_type": "code",
   "execution_count": 79,
   "id": "4982a100",
   "metadata": {},
   "outputs": [
    {
     "name": "stdout",
     "output_type": "stream",
     "text": [
      "Enter names seperated by commas: Mohan, Rohan\n",
      "Mohan and  Rohan are best friends!\n"
     ]
    }
   ],
   "source": [
    "func()"
   ]
  },
  {
   "cell_type": "code",
   "execution_count": 83,
   "id": "0ee86ac7",
   "metadata": {},
   "outputs": [],
   "source": [
    "# vaishali mhaske\n",
    "def best_friend():\n",
    "    '''It take input from user friend1 and friend 2 and print them as a best friend'''\n",
    "    friend1=input(\"first name : \")\n",
    "    friend2=input(\"second name : \")\n",
    "    \n",
    "    print(f\"{friend1} and {friend2} are best friend\")"
   ]
  },
  {
   "cell_type": "code",
   "execution_count": 84,
   "id": "d94b6399",
   "metadata": {},
   "outputs": [
    {
     "name": "stdout",
     "output_type": "stream",
     "text": [
      "first name : Batman\n",
      "second name : Joker\n",
      "Batman and Joker are best friend\n"
     ]
    }
   ],
   "source": [
    "best_friend()"
   ]
  },
  {
   "cell_type": "code",
   "execution_count": 85,
   "id": "04211fb7",
   "metadata": {},
   "outputs": [],
   "source": [
    "# Saikiran Mali\n",
    "def statement():\n",
    "    name1= input('Enter first person name: ')\n",
    "    name2= input('Enter second person name: ')\n",
    "    print(f'{name1} and {name2} are best friends!')"
   ]
  },
  {
   "cell_type": "code",
   "execution_count": 87,
   "id": "07e53986",
   "metadata": {},
   "outputs": [],
   "source": [
    "# Prachi Tambare21:41\n",
    "def funt():\n",
    "    name1 = input(\"enter First name: \")\n",
    "    name2 = input(\"enter second name: \") \n",
    "    print(f\"{name1} and {name2} are best friends.\")"
   ]
  },
  {
   "cell_type": "code",
   "execution_count": 90,
   "id": "ff1d54be",
   "metadata": {},
   "outputs": [],
   "source": [
    "# Bomblesh Kamdi21:41\n",
    "def best_friends():\n",
    "    '''This will takes two names and calls them as best friends'''\n",
    "    name1= input('Enter the first name: ')\n",
    "    name2= input('Enter the second name: ')\n",
    "    print()\n",
    "    print(f'{name1} and {name2} are best friends')"
   ]
  },
  {
   "cell_type": "code",
   "execution_count": 91,
   "id": "eb099924",
   "metadata": {},
   "outputs": [
    {
     "name": "stdout",
     "output_type": "stream",
     "text": [
      "Enter the first name: Batman\n",
      "Enter the second name: Joker\n",
      "\n",
      "Batman and Joker are best friends\n"
     ]
    }
   ],
   "source": [
    "best_friends()"
   ]
  },
  {
   "cell_type": "raw",
   "id": "512055ba",
   "metadata": {},
   "source": [
    "#---------------------------------------------------------------------------------------------------------------------"
   ]
  },
  {
   "cell_type": "markdown",
   "id": "5249e7ed",
   "metadata": {},
   "source": [
    "### 2. Problem : Take input from the user and check whether the input is an integer, a float or a string of characters"
   ]
  },
  {
   "cell_type": "code",
   "execution_count": 181,
   "id": "a67af62e",
   "metadata": {},
   "outputs": [],
   "source": [
    "def type_finder():\n",
    "    '''Takes input from the user and finds the type\n",
    "    The types can be : \n",
    "    1. integer\n",
    "    2. float\n",
    "    3. strings'''\n",
    "    \n",
    "    data = input('Enter the data : ')\n",
    "    print()\n",
    "    data = data.strip() # To remove unwanted spaces\n",
    "    \n",
    "#     Logic for finding out if the data is of integer type\n",
    "    if data.isnumeric():\n",
    "        print(f'{data} is an integer !')\n",
    "    \n",
    "#     Logic for finding out float values\n",
    "    elif (data.count('.')==1) and (len(data)>1):\n",
    "        elements = data.split('.') # To get individual elements from the data so that we can check if both of them are numeric\n",
    "         \n",
    "        # if there is a number like '0.55' it would be splitted to ['','55']; \n",
    "        # so it becomes necessary to remove these empty strings from the list first before checking for their actual data type\n",
    "        elements = [i for i in elements if not i==''] # Removing empty strings\n",
    "        flag = 1 # control element\n",
    "        \n",
    "        for i in elements:\n",
    "            if i.isnumeric()==True:\n",
    "#                 print(f'value of i : {i}')\n",
    "#                 print(f'value of flag : {flag}')\n",
    "#                 print('flag would not change !')\n",
    "#                 print()\n",
    "                pass\n",
    "            else:\n",
    "                flag*=0\n",
    "#                 print(f'value of i : {i}')\n",
    "#                 print(f'value of flag : {flag}')\n",
    "#                 print('flag would change !')\n",
    "        if flag==1:\n",
    "            print(f'{data} is a float !')\n",
    "        else:\n",
    "            print(f'{data} is a string !')\n",
    "            \n",
    "#     Logic for finding out the strings\n",
    "    else:\n",
    "        print(f'{data} is a string !')\n",
    "#---------------------------------------------------------------------------------------------------------------------"
   ]
  },
  {
   "cell_type": "code",
   "execution_count": 182,
   "id": "88552928",
   "metadata": {},
   "outputs": [
    {
     "name": "stdout",
     "output_type": "stream",
     "text": [
      "Enter the data : 55.groot\n",
      "\n",
      "55.groot is a string !\n"
     ]
    }
   ],
   "source": [
    "type_finder()"
   ]
  },
  {
   "cell_type": "code",
   "execution_count": 183,
   "id": "612134c3",
   "metadata": {},
   "outputs": [
    {
     "name": "stdout",
     "output_type": "stream",
     "text": [
      "Enter the data : .55\n",
      "\n",
      ".55 is a float !\n"
     ]
    }
   ],
   "source": [
    "type_finder()"
   ]
  }
 ],
 "metadata": {
  "kernelspec": {
   "display_name": "Python 3 (ipykernel)",
   "language": "python",
   "name": "python3"
  },
  "language_info": {
   "codemirror_mode": {
    "name": "ipython",
    "version": 3
   },
   "file_extension": ".py",
   "mimetype": "text/x-python",
   "name": "python",
   "nbconvert_exporter": "python",
   "pygments_lexer": "ipython3",
   "version": "3.9.12"
  }
 },
 "nbformat": 4,
 "nbformat_minor": 5
}

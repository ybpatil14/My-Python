{
 "cells": [
  {
   "cell_type": "code",
   "execution_count": 4,
   "id": "608827ac",
   "metadata": {},
   "outputs": [],
   "source": [
    "#datatypes= list,tuples,sets,dict,str,floats,int,\n",
    "\n",
    "def copys(data):\n",
    "    \n",
    "    \"Takes input as a any data types and create exact deep copy of that data\"\n",
    "    \n",
    "    # Creating empty variable to store the output data:\n",
    "    \n",
    "    d1=[]        # for list\n",
    "    d2=()        # for tuple\n",
    "    d3=set()     # for set\n",
    "    d4= {}       # for dict\n",
    "    d5=\"\"        # for str\n",
    "    d6=0         # for int\n",
    "    d7=\"\"        # for bool\n",
    "    d8=0         # for complex\n",
    "\n",
    "#----------------------------------------------------------------------------------------------\n",
    "# checking the data types and adding itmes into it accordingly\n",
    "#----------------------------------------------------------------------------------------------\n",
    "       \n",
    "    if type(data)== (list or tuple or str or set): \n",
    "        \n",
    "        for i in data:\n",
    "\n",
    "            if type(data)==list:\n",
    "                d1.append(i)         # adding items for the list\n",
    "            elif type(data)==tuple:\n",
    "                d2=d2.__add__((i,))  # adding items for the tuple\n",
    "            elif type(data)==set:\n",
    "                d3.add(i)            # adding items for the set\n",
    "            elif type(data)==str:\n",
    "                d5=d5.__add__(i)     # adding items for the str\n",
    "\n",
    "    elif  type(data)==dict:\n",
    "        for x,y in data.items():\n",
    "            d4[x]=y                  # adding items for the dict\n",
    "            \n",
    "    elif  type(data)==(int or float):\n",
    "        for i in [data]:\n",
    "            d6=d6+i                  # dding items for the int or float\n",
    "    \n",
    "    elif type(data)==bool:\n",
    "        for i in str(data):\n",
    "            d7=d7+i                  # adding items for the bool\n",
    "            \n",
    "    elif  type(data)==complex:\n",
    "        for i in [data]:\n",
    "            d8=d8+i                  # adding items for the complex\n",
    "            \n",
    "#--------------------------------------------------------------------------------------------\n",
    "# returning the updated values by checking thier types\n",
    "#--------------------------------------------------------------------------------------------\n",
    "\n",
    "    if type(data)==list: \n",
    "        return d1            \n",
    "    elif type(data)==tuple:\n",
    "        return d2            \n",
    "    elif type(data)==set:\n",
    "        return d3          \n",
    "    elif type(data)==dict:\n",
    "        return d4        \n",
    "    elif type(data)==str:\n",
    "        return d5          \n",
    "    elif type(data)==(int or float):\n",
    "        return d6             \n",
    "    elif type(data)==bool:\n",
    "        return bool(d7)      \n",
    "    elif type(data)==bool:\n",
    "        return d8            \n",
    "        "
   ]
  },
  {
   "cell_type": "code",
   "execution_count": 7,
   "id": "7140eb73",
   "metadata": {},
   "outputs": [],
   "source": [
    "dummy = {1:10,2:20,3:30}\n",
    "x = copys(dummy)"
   ]
  },
  {
   "cell_type": "code",
   "execution_count": 8,
   "id": "2d36b3d1",
   "metadata": {},
   "outputs": [
    {
     "data": {
      "text/plain": [
       "(4587548928, 4584542336)"
      ]
     },
     "execution_count": 8,
     "metadata": {},
     "output_type": "execute_result"
    }
   ],
   "source": [
    "id(x), id(dummy)"
   ]
  },
  {
   "cell_type": "code",
   "execution_count": 9,
   "id": "2c95e8cc",
   "metadata": {},
   "outputs": [],
   "source": [
    "dummy_c = 5+4j\n",
    "\n",
    "copys(dummy_c)"
   ]
  },
  {
   "cell_type": "code",
   "execution_count": 5,
   "id": "5dda07de",
   "metadata": {},
   "outputs": [
    {
     "data": {
      "text/plain": [
       "{1: 10, 2: 20, 3: 30}"
      ]
     },
     "execution_count": 5,
     "metadata": {},
     "output_type": "execute_result"
    }
   ],
   "source": [
    "\n",
    "dd={}\n",
    "if type(s)==dict:\n",
    "    for x,y in s.items():\n",
    "        dd[x]=y\n",
    "dd"
   ]
  },
  {
   "cell_type": "code",
   "execution_count": 60,
   "id": "615d533b",
   "metadata": {},
   "outputs": [],
   "source": [
    "a=0\n",
    "b=5+7j\n",
    "c=a+b"
   ]
  },
  {
   "cell_type": "code",
   "execution_count": 88,
   "id": "0838b7db",
   "metadata": {},
   "outputs": [
    {
     "data": {
      "text/plain": [
       "(55+77j)"
      ]
     },
     "execution_count": 88,
     "metadata": {},
     "output_type": "execute_result"
    }
   ],
   "source": [
    "a=55+77j\n",
    "b=0\n",
    "for i in [a]:\n",
    "    b=b+i\n",
    "b\n",
    "    "
   ]
  },
  {
   "cell_type": "code",
   "execution_count": 90,
   "id": "3048b91f",
   "metadata": {},
   "outputs": [
    {
     "data": {
      "text/plain": [
       "complex"
      ]
     },
     "execution_count": 90,
     "metadata": {},
     "output_type": "execute_result"
    }
   ],
   "source": [
    "nb=555+77j\n",
    "type(nb)"
   ]
  },
  {
   "cell_type": "code",
   "execution_count": 91,
   "id": "72451600",
   "metadata": {},
   "outputs": [],
   "source": [
    "copys(nb)"
   ]
  },
  {
   "cell_type": "code",
   "execution_count": 80,
   "id": "e9adabbf",
   "metadata": {},
   "outputs": [
    {
     "data": {
      "text/plain": [
       "bool"
      ]
     },
     "execution_count": 80,
     "metadata": {},
     "output_type": "execute_result"
    }
   ],
   "source": [
    "aa4=True\n",
    "ss=\"\"\n",
    "for i in str(aa4):\n",
    "    ss=ss+i\n",
    "    ds=bool(ss)\n",
    "ds    \n",
    "type(ds)   "
   ]
  },
  {
   "cell_type": "code",
   "execution_count": 77,
   "id": "fe6ded5f",
   "metadata": {},
   "outputs": [
    {
     "data": {
      "text/plain": [
       "bool"
      ]
     },
     "execution_count": 77,
     "metadata": {},
     "output_type": "execute_result"
    }
   ],
   "source": [
    "cl=\"True\"\n",
    "type(bool(cl))"
   ]
  },
  {
   "cell_type": "code",
   "execution_count": null,
   "id": "be5f4494",
   "metadata": {},
   "outputs": [],
   "source": []
  },
  {
   "cell_type": "code",
   "execution_count": null,
   "id": "fe0f1463",
   "metadata": {},
   "outputs": [],
   "source": []
  },
  {
   "cell_type": "code",
   "execution_count": null,
   "id": "c8206e68",
   "metadata": {},
   "outputs": [],
   "source": []
  },
  {
   "cell_type": "code",
   "execution_count": null,
   "id": "8302fe16",
   "metadata": {},
   "outputs": [],
   "source": []
  },
  {
   "cell_type": "code",
   "execution_count": null,
   "id": "9b23a556",
   "metadata": {},
   "outputs": [],
   "source": []
  },
  {
   "cell_type": "code",
   "execution_count": null,
   "id": "1633362a",
   "metadata": {},
   "outputs": [],
   "source": []
  },
  {
   "cell_type": "code",
   "execution_count": null,
   "id": "1327c604",
   "metadata": {},
   "outputs": [],
   "source": []
  },
  {
   "cell_type": "code",
   "execution_count": null,
   "id": "1a737462",
   "metadata": {},
   "outputs": [],
   "source": []
  },
  {
   "cell_type": "code",
   "execution_count": null,
   "id": "d1095ea6",
   "metadata": {},
   "outputs": [],
   "source": [
    "#datatypes= list,tuples,sets,dict,str,floats,int,\n",
    "\n",
    "def copys(data):\n",
    "    \"Takes input as a any data types and create exact deep copy of that data\"\n",
    "    \n",
    "    d1=[]    #empty list to store final output\n",
    "    d2=()    #empty tuple to store final output\n",
    "    d3=set() #empty set to store final output\n",
    "    d4= {}   #empty dict to store final output\n",
    "    d5=\"\"    #empty str to store final output\n",
    "    d6=0     #zero int to store final output\n",
    "    \n",
    "    if type(data)!=(int or float or dict or complex):\n",
    "        \n",
    "    # Checking data types, if its not int or float or dict then it wiil go through the condition\n",
    "        \n",
    "        for i in data:\n",
    "\n",
    "            if type(data)==list:\n",
    "                d1.append(i)         # adding items into the list\n",
    "            elif type(data)==tuple:\n",
    "                d2=d2.__add__((i,))\n",
    "            elif type(data)==set:\n",
    "                d3.add(i)\n",
    "            elif type(data)==str:\n",
    "                d5=d5.__add__(i)\n",
    "\n",
    "    elif  type(data)==dict:\n",
    "        for x,y in data.items():\n",
    "            d4[x]=y     \n",
    "            \n",
    "    elif  type(data)==(int or float or complex):\n",
    "        for i in [data]:\n",
    "            d6=d6+i\n",
    "            \n",
    "    \n",
    "    if type(data)==list: \n",
    "        return d1\n",
    "    elif type(data)==tuple:\n",
    "        return d2\n",
    "    elif type(data)==set:\n",
    "        return d3\n",
    "    elif type(data)==dict:\n",
    "        return d4\n",
    "    elif type(data)==str:\n",
    "        return d5\n",
    "    elif type(data)==(int or float):\n",
    "        return d6\n",
    "        "
   ]
  },
  {
   "cell_type": "code",
   "execution_count": null,
   "id": "8fb3eea0",
   "metadata": {},
   "outputs": [],
   "source": []
  },
  {
   "cell_type": "code",
   "execution_count": null,
   "id": "4d3b04bd",
   "metadata": {},
   "outputs": [],
   "source": []
  },
  {
   "cell_type": "code",
   "execution_count": null,
   "id": "ebf85ceb",
   "metadata": {},
   "outputs": [],
   "source": []
  },
  {
   "cell_type": "code",
   "execution_count": null,
   "id": "3488973e",
   "metadata": {},
   "outputs": [],
   "source": []
  },
  {
   "cell_type": "code",
   "execution_count": null,
   "id": "92123563",
   "metadata": {},
   "outputs": [],
   "source": []
  },
  {
   "cell_type": "code",
   "execution_count": null,
   "id": "81a53e9a",
   "metadata": {},
   "outputs": [],
   "source": []
  },
  {
   "cell_type": "code",
   "execution_count": null,
   "id": "35e7c0b2",
   "metadata": {},
   "outputs": [],
   "source": []
  },
  {
   "cell_type": "code",
   "execution_count": 1,
   "id": "3d55b9e1",
   "metadata": {},
   "outputs": [],
   "source": []
  },
  {
   "cell_type": "code",
   "execution_count": 3,
   "id": "ff3efc7a",
   "metadata": {},
   "outputs": [
    {
     "name": "stdout",
     "output_type": "stream",
     "text": [
      "4 to power of 5  is 1024\n"
     ]
    },
    {
     "data": {
      "text/plain": [
       "1024"
      ]
     },
     "execution_count": 3,
     "metadata": {},
     "output_type": "execute_result"
    }
   ],
   "source": []
  },
  {
   "cell_type": "code",
   "execution_count": null,
   "id": "c29e9e71",
   "metadata": {},
   "outputs": [],
   "source": []
  }
 ],
 "metadata": {
  "kernelspec": {
   "display_name": "Python 3 (ipykernel)",
   "language": "python",
   "name": "python3"
  },
  "language_info": {
   "codemirror_mode": {
    "name": "ipython",
    "version": 3
   },
   "file_extension": ".py",
   "mimetype": "text/x-python",
   "name": "python",
   "nbconvert_exporter": "python",
   "pygments_lexer": "ipython3",
   "version": "3.10.8"
  }
 },
 "nbformat": 4,
 "nbformat_minor": 5
}

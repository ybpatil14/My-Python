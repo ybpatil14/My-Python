{
 "cells": [
  {
   "cell_type": "markdown",
   "id": "e1364ead",
   "metadata": {},
   "source": [
    "### 1. str.strip()\n",
    "\n",
    "- would remove the specified data from ends"
   ]
  },
  {
   "cell_type": "code",
   "execution_count": 2,
   "id": "c3b2cb7a",
   "metadata": {},
   "outputs": [
    {
     "data": {
      "text/plain": [
       "'johnwick'"
      ]
     },
     "execution_count": 2,
     "metadata": {},
     "output_type": "execute_result"
    }
   ],
   "source": [
    "data = '    john wick  '\n",
    "data.replace(' ','')"
   ]
  },
  {
   "cell_type": "code",
   "execution_count": 3,
   "id": "6ee43cfc",
   "metadata": {},
   "outputs": [
    {
     "data": {
      "text/plain": [
       "'john wick'"
      ]
     },
     "execution_count": 3,
     "metadata": {},
     "output_type": "execute_result"
    }
   ],
   "source": [
    "data.strip()"
   ]
  },
  {
   "cell_type": "code",
   "execution_count": 6,
   "id": "38d37e4c",
   "metadata": {},
   "outputs": [
    {
     "data": {
      "text/plain": [
       "'john wick'"
      ]
     },
     "execution_count": 6,
     "metadata": {},
     "output_type": "execute_result"
    }
   ],
   "source": [
    "data = '***john wick#####     '\n",
    "data.strip().strip('*').strip('#')"
   ]
  },
  {
   "cell_type": "code",
   "execution_count": 8,
   "id": "ede6b8c1",
   "metadata": {},
   "outputs": [
    {
     "data": {
      "text/plain": [
       "'john wick'"
      ]
     },
     "execution_count": 8,
     "metadata": {},
     "output_type": "execute_result"
    }
   ],
   "source": [
    "data.strip('# *')"
   ]
  },
  {
   "cell_type": "code",
   "execution_count": 14,
   "id": "2bf74427",
   "metadata": {},
   "outputs": [
    {
     "data": {
      "text/plain": [
       "'john wick_wick john'"
      ]
     },
     "execution_count": 14,
     "metadata": {},
     "output_type": "execute_result"
    }
   ],
   "source": [
    "data = 'john wick_wick john'\n",
    "\n",
    "data.strip()"
   ]
  },
  {
   "cell_type": "markdown",
   "id": "a6398cdb",
   "metadata": {},
   "source": [
    "### 2. str.lstrip()\n",
    "\n",
    "- removes the data from left"
   ]
  },
  {
   "cell_type": "code",
   "execution_count": 15,
   "id": "ea48798e",
   "metadata": {},
   "outputs": [
    {
     "data": {
      "text/plain": [
       "'john wick#####     '"
      ]
     },
     "execution_count": 15,
     "metadata": {},
     "output_type": "execute_result"
    }
   ],
   "source": [
    "data = '***john wick#####     '\n",
    "data.lstrip('*')"
   ]
  },
  {
   "cell_type": "code",
   "execution_count": 16,
   "id": "2c62f6c9",
   "metadata": {},
   "outputs": [
    {
     "data": {
      "text/plain": [
       "'***john wick#####     '"
      ]
     },
     "execution_count": 16,
     "metadata": {},
     "output_type": "execute_result"
    }
   ],
   "source": [
    "data.lstrip(' ')"
   ]
  },
  {
   "cell_type": "markdown",
   "id": "40244c34",
   "metadata": {},
   "source": [
    "### 3. str.rstrip()\n",
    " - removes the data from the right end"
   ]
  },
  {
   "cell_type": "code",
   "execution_count": 17,
   "id": "c510d981",
   "metadata": {},
   "outputs": [
    {
     "data": {
      "text/plain": [
       "'john wick'"
      ]
     },
     "execution_count": 17,
     "metadata": {},
     "output_type": "execute_result"
    }
   ],
   "source": [
    "data = '***john wick#####     '\n",
    "data.lstrip('*').rstrip(' #')"
   ]
  },
  {
   "cell_type": "code",
   "execution_count": 18,
   "id": "f0aa4441",
   "metadata": {},
   "outputs": [
    {
     "data": {
      "text/plain": [
       "'file_sharing_system_'"
      ]
     },
     "execution_count": 18,
     "metadata": {},
     "output_type": "execute_result"
    }
   ],
   "source": [
    "data = '__file_sharing_system_'\n",
    "data.lstrip('_')"
   ]
  },
  {
   "cell_type": "code",
   "execution_count": null,
   "id": "b92658dd",
   "metadata": {},
   "outputs": [],
   "source": [
    "data = '***john wick#####     '\n",
    "\n",
    "data.strip('*# ')"
   ]
  },
  {
   "cell_type": "code",
   "execution_count": 25,
   "id": "733a96e8",
   "metadata": {},
   "outputs": [
    {
     "data": {
      "text/plain": [
       "'1234$%!'"
      ]
     },
     "execution_count": 25,
     "metadata": {},
     "output_type": "execute_result"
    }
   ],
   "source": [
    "'#*1234$%!'.strip('*$#')  # # *"
   ]
  },
  {
   "cell_type": "raw",
   "id": "58cb3047",
   "metadata": {},
   "source": [
    "'#*$' > '*$' > '$'\n",
    "\n",
    "'#*1234$%!'.strip('#')\n",
    "'*1234$%!'.strip('*')\n",
    "'1234$%!'.strip('$')\n",
    "'1234$%!'"
   ]
  },
  {
   "cell_type": "markdown",
   "id": "49559787",
   "metadata": {},
   "source": [
    "### 4. str.encode(), str.decode()"
   ]
  },
  {
   "cell_type": "code",
   "execution_count": 36,
   "id": "596039f9",
   "metadata": {},
   "outputs": [
    {
     "data": {
      "text/plain": [
       "b'I love python'"
      ]
     },
     "execution_count": 36,
     "metadata": {},
     "output_type": "execute_result"
    }
   ],
   "source": [
    "data = 'I love python'\n",
    "\n",
    "encoded = data.encode()\n",
    "encoded"
   ]
  },
  {
   "cell_type": "code",
   "execution_count": 37,
   "id": "8aa6c996",
   "metadata": {},
   "outputs": [
    {
     "data": {
      "text/plain": [
       "(62, 46)"
      ]
     },
     "execution_count": 37,
     "metadata": {},
     "output_type": "execute_result"
    }
   ],
   "source": [
    "data.__sizeof__(), encoded.__sizeof__()"
   ]
  },
  {
   "cell_type": "code",
   "execution_count": 38,
   "id": "11bdf173",
   "metadata": {},
   "outputs": [
    {
     "data": {
      "text/plain": [
       "'I love python'"
      ]
     },
     "execution_count": 38,
     "metadata": {},
     "output_type": "execute_result"
    }
   ],
   "source": [
    "encoded.decode()"
   ]
  },
  {
   "cell_type": "markdown",
   "id": "2a9151d2",
   "metadata": {},
   "source": [
    "## Special functions - Dunder functions - Double underscore functions"
   ]
  },
  {
   "cell_type": "markdown",
   "id": "f60ad867",
   "metadata": {},
   "source": [
    "### 1"
   ]
  },
  {
   "cell_type": "raw",
   "id": "57977dfa",
   "metadata": {},
   "source": [
    "1. str.__sizeof__()\n",
    "\n",
    "- returns the size of the data in bytes"
   ]
  },
  {
   "cell_type": "code",
   "execution_count": 27,
   "id": "f04fdcc1",
   "metadata": {},
   "outputs": [
    {
     "data": {
      "text/plain": [
       "62"
      ]
     },
     "execution_count": 27,
     "metadata": {},
     "output_type": "execute_result"
    }
   ],
   "source": [
    "data = 'I love python'\n",
    "data.__sizeof__()"
   ]
  },
  {
   "cell_type": "markdown",
   "id": "36cc16a2",
   "metadata": {},
   "source": [
    "### 2"
   ]
  },
  {
   "cell_type": "raw",
   "id": "44bbeea5",
   "metadata": {},
   "source": [
    "2. str.__contains__()\n",
    "\n",
    "- object_name.__contains__(substring)\n",
    "- returns True if the specified substring is in the data"
   ]
  },
  {
   "cell_type": "code",
   "execution_count": 30,
   "id": "de1c7c29",
   "metadata": {},
   "outputs": [
    {
     "data": {
      "text/plain": [
       "(True, True, True, True)"
      ]
     },
     "execution_count": 30,
     "metadata": {},
     "output_type": "execute_result"
    }
   ],
   "source": [
    "a = 'john wick'\n",
    "b = 'john doe'\n",
    "c = 'John Suryawanshi'\n",
    "d = 'Surya John Rastogi'\n",
    "\n",
    "name = 'john'\n",
    "a.lower().__contains__(name), b.lower().__contains__(name), c.lower().__contains__(name), d.lower().__contains__(name)"
   ]
  },
  {
   "cell_type": "code",
   "execution_count": 32,
   "id": "0f48eca8",
   "metadata": {},
   "outputs": [
    {
     "data": {
      "text/plain": [
       "True"
      ]
     },
     "execution_count": 32,
     "metadata": {},
     "output_type": "execute_result"
    }
   ],
   "source": [
    "a.lower().__contains__('john')"
   ]
  },
  {
   "cell_type": "markdown",
   "id": "f7d1b2d2",
   "metadata": {},
   "source": [
    "### 3"
   ]
  },
  {
   "cell_type": "raw",
   "id": "38c6152e",
   "metadata": {},
   "source": [
    "3. str.__add__()\n",
    "\n",
    "- syntax : object_name.__add__(sub-string)\n",
    "- concats the string"
   ]
  },
  {
   "cell_type": "code",
   "execution_count": 41,
   "id": "bf3e4cde",
   "metadata": {},
   "outputs": [
    {
     "data": {
      "text/plain": [
       "'I love Python.'"
      ]
     },
     "execution_count": 41,
     "metadata": {},
     "output_type": "execute_result"
    }
   ],
   "source": [
    "data = 'I love'\n",
    "data.__add__(' Python.')"
   ]
  },
  {
   "cell_type": "code",
   "execution_count": 42,
   "id": "3e18e16a",
   "metadata": {},
   "outputs": [
    {
     "data": {
      "text/plain": [
       "'PythonI love'"
      ]
     },
     "execution_count": 42,
     "metadata": {},
     "output_type": "execute_result"
    }
   ],
   "source": [
    "'Python'.__add__(data)"
   ]
  }
 ],
 "metadata": {
  "kernelspec": {
   "display_name": "Python 3 (ipykernel)",
   "language": "python",
   "name": "python3"
  },
  "language_info": {
   "codemirror_mode": {
    "name": "ipython",
    "version": 3
   },
   "file_extension": ".py",
   "mimetype": "text/x-python",
   "name": "python",
   "nbconvert_exporter": "python",
   "pygments_lexer": "ipython3",
   "version": "3.9.13"
  }
 },
 "nbformat": 4,
 "nbformat_minor": 5
}

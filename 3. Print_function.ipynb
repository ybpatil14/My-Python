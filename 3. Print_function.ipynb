{
 "cells": [
  {
   "cell_type": "markdown",
   "id": "fa12452e",
   "metadata": {},
   "source": [
    "# Print Function"
   ]
  },
  {
   "cell_type": "raw",
   "id": "c1bc032f",
   "metadata": {},
   "source": [
    "# Run commands\n",
    "\n",
    "1. Shift + Enter >> runs the current cell and navigates to the next one\n",
    "2. ctrl + Enter >> runs the current cell and stays at the current cell\n",
    "3. Alt + Enter >> runs the current cell and generates a new black cell beneath the current cell"
   ]
  },
  {
   "cell_type": "markdown",
   "id": "7fba5292",
   "metadata": {},
   "source": [
    "Print function : \n",
    "- built-in function : `perform a specific operation whenever called`\n",
    "- syntax : `print(content)`"
   ]
  },
  {
   "cell_type": "code",
   "execution_count": 2,
   "id": "4afa7505",
   "metadata": {},
   "outputs": [
    {
     "name": "stdout",
     "output_type": "stream",
     "text": [
      "dfjhvdjhfv\n"
     ]
    }
   ],
   "source": [
    "# this is how we work with text data\n",
    "print('dfjhvdjhfv')"
   ]
  },
  {
   "cell_type": "code",
   "execution_count": 3,
   "id": "b3a0b312",
   "metadata": {},
   "outputs": [
    {
     "name": "stdout",
     "output_type": "stream",
     "text": [
      "5\n"
     ]
    }
   ],
   "source": [
    "# This is how we work with numeric data\n",
    "print(5)"
   ]
  },
  {
   "cell_type": "code",
   "execution_count": 4,
   "id": "627a587d",
   "metadata": {},
   "outputs": [
    {
     "name": "stdout",
     "output_type": "stream",
     "text": [
      "4.0\n"
     ]
    }
   ],
   "source": [
    "print(4.0)"
   ]
  },
  {
   "cell_type": "code",
   "execution_count": 5,
   "id": "f96d4aac",
   "metadata": {},
   "outputs": [
    {
     "data": {
      "text/plain": [
       "float"
      ]
     },
     "execution_count": 5,
     "metadata": {},
     "output_type": "execute_result"
    }
   ],
   "source": [
    "type(4.0)"
   ]
  },
  {
   "cell_type": "code",
   "execution_count": 6,
   "id": "7222a01f",
   "metadata": {},
   "outputs": [
    {
     "data": {
      "text/plain": [
       "int"
      ]
     },
     "execution_count": 6,
     "metadata": {},
     "output_type": "execute_result"
    }
   ],
   "source": [
    "type(5)"
   ]
  },
  {
   "cell_type": "code",
   "execution_count": 7,
   "id": "540d5c0e",
   "metadata": {},
   "outputs": [
    {
     "data": {
      "text/plain": [
       "str"
      ]
     },
     "execution_count": 7,
     "metadata": {},
     "output_type": "execute_result"
    }
   ],
   "source": [
    "type('dfjhvdjhfv')"
   ]
  },
  {
   "cell_type": "markdown",
   "id": "0282b215",
   "metadata": {},
   "source": [
    "## Ways to print stuff"
   ]
  },
  {
   "cell_type": "code",
   "execution_count": 8,
   "id": "d38c300d",
   "metadata": {},
   "outputs": [
    {
     "name": "stdout",
     "output_type": "stream",
     "text": [
      "I am Groot !\n"
     ]
    }
   ],
   "source": [
    "#1. Hardcoded printing\n",
    "print('I am Groot !')"
   ]
  },
  {
   "cell_type": "code",
   "execution_count": 9,
   "id": "04774366",
   "metadata": {},
   "outputs": [
    {
     "name": "stdout",
     "output_type": "stream",
     "text": [
      "I am Groot ! I am Groot ! 5 4.0\n"
     ]
    }
   ],
   "source": [
    "print('I am Groot !', 'I am Groot !', 5, 4.0)"
   ]
  },
  {
   "cell_type": "code",
   "execution_count": 10,
   "id": "4de3a259",
   "metadata": {},
   "outputs": [
    {
     "name": "stdout",
     "output_type": "stream",
     "text": [
      "('I am Groot !', 'I am Groot !', 5, 4.0)\n"
     ]
    }
   ],
   "source": [
    "print(('I am Groot !', 'I am Groot !', 5, 4.0))"
   ]
  },
  {
   "cell_type": "markdown",
   "id": "717bf67a",
   "metadata": {},
   "source": [
    "## 2 . Dynamic printing - String formatting"
   ]
  },
  {
   "cell_type": "markdown",
   "id": "6cdd06e5",
   "metadata": {},
   "source": [
    "### 2.1. F-strings - Formatted strings"
   ]
  },
  {
   "cell_type": "code",
   "execution_count": 11,
   "id": "b3e114d1",
   "metadata": {},
   "outputs": [
    {
     "name": "stdout",
     "output_type": "stream",
     "text": [
      "I am Jadoo !\n"
     ]
    }
   ],
   "source": [
    "# syntax : f'content {variable_name}'\n",
    "# disclaimer : The f-string tries to pull the valeus of the variables explicitly mentioned inside the curly brackets; \n",
    "#     if the variable does not exist, it throws a NameError\n",
    "\n",
    "name = 'Jadoo'\n",
    "print(f'I am {name} !')"
   ]
  },
  {
   "cell_type": "code",
   "execution_count": 12,
   "id": "729fba37",
   "metadata": {},
   "outputs": [
    {
     "name": "stdout",
     "output_type": "stream",
     "text": [
      "The sum of x and y is 7\n",
      "My content The sum of 17 and 4 is 21\n",
      "My content The sum of 17 and 4 is 21\n"
     ]
    }
   ],
   "source": [
    "x = 17\n",
    "y = 4\n",
    "z = x+y\n",
    "\n",
    "print('The sum of x and y is 7')\n",
    "print('My content',f'The sum of {x} and {y} is {z}')\n",
    "print(f'My content',f'The sum of {x} and {y} is {z}')"
   ]
  },
  {
   "cell_type": "code",
   "execution_count": 13,
   "id": "c6d444de",
   "metadata": {},
   "outputs": [
    {
     "name": "stdout",
     "output_type": "stream",
     "text": [
      "The sum of 34 and 55 is 89\n",
      "The sum of 34 and 55 is 89\n"
     ]
    }
   ],
   "source": [
    "p = 34\n",
    "q = 55\n",
    "r = p+q\n",
    "print(f'The sum of {p} and {q} is {r}')\n",
    "print(f'The sum of {p} and {q} is {r}')"
   ]
  },
  {
   "cell_type": "code",
   "execution_count": 14,
   "id": "756ffff0",
   "metadata": {
    "scrolled": true
   },
   "outputs": [
    {
     "name": "stdout",
     "output_type": "stream",
     "text": [
      "The sum of {q} and {p} is {r}\n",
      "The sum of 55 and 34 is 89\n",
      "89 is the sum of 34 and 55\n",
      "89 is the sum of 34 and 123\n"
     ]
    }
   ],
   "source": [
    "print('The sum of {q} and {p} is {r}')\n",
    "print(f'The sum of {q} and {p} is {r}')\n",
    "print(f'{r} is the sum of {p} and {q}')\n",
    "print(f'{r} is the sum of {p} and {p+r}')"
   ]
  },
  {
   "cell_type": "code",
   "execution_count": 15,
   "id": "d16cd91c",
   "metadata": {
    "scrolled": true
   },
   "outputs": [
    {
     "name": "stdout",
     "output_type": "stream",
     "text": [
      "The data-type of 55 is <class 'int'>, The data-type of 55 is <class 'int'> !\n"
     ]
    }
   ],
   "source": [
    "course = 'Data Science'\n",
    "course = 55\n",
    "# print(f'I am learning {course1} and {course2} !')\n",
    "print(f'The data-type of {course} is {type(course)}, The data-type of {course} is {type(course)} !')"
   ]
  },
  {
   "cell_type": "code",
   "execution_count": 16,
   "id": "a3724b1e",
   "metadata": {},
   "outputs": [
    {
     "name": "stdout",
     "output_type": "stream",
     "text": [
      "IronMan\n"
     ]
    }
   ],
   "source": [
    "name = 'Groot'\n",
    "name = 'Thor'\n",
    "name = 'IronMan'\n",
    "\n",
    "# print(name1, name2, name3)\n",
    "print(name)"
   ]
  },
  {
   "cell_type": "code",
   "execution_count": 17,
   "id": "4febfa3d",
   "metadata": {},
   "outputs": [
    {
     "name": "stdout",
     "output_type": "stream",
     "text": [
      "Variable   Type    Data/Info\n",
      "----------------------------\n",
      "course     int     55\n",
      "name       str     IronMan\n",
      "p          int     34\n",
      "q          int     55\n",
      "r          int     89\n",
      "x          int     17\n",
      "y          int     4\n",
      "z          int     21\n"
     ]
    }
   ],
   "source": [
    "# Checking out all the variables\n",
    "%whos"
   ]
  },
  {
   "cell_type": "markdown",
   "id": "1b2182eb",
   "metadata": {},
   "source": [
    "### 2. Using commas"
   ]
  },
  {
   "cell_type": "code",
   "execution_count": 18,
   "id": "5dbd5958",
   "metadata": {},
   "outputs": [
    {
     "name": "stdout",
     "output_type": "stream",
     "text": [
      "Ramesh is eating Suresh candy\n"
     ]
    }
   ],
   "source": [
    "name1 = 'Ramesh'\n",
    "name2 = 'Suresh'\n",
    "print(name1,'is eating',name2,'candy')"
   ]
  },
  {
   "cell_type": "code",
   "execution_count": 30,
   "id": "c9d62b65",
   "metadata": {},
   "outputs": [
    {
     "name": "stdout",
     "output_type": "stream",
     "text": [
      "I have 5 mangoes !\n",
      "I have 5 mangoes and 10 apples !\n"
     ]
    }
   ],
   "source": [
    "mangoes = 5\n",
    "apples = 10\n",
    "print('I have',mangoes,'mangoes !')\n",
    "print(f'I have {mangoes} mangoes and {apples} apples !')"
   ]
  },
  {
   "cell_type": "markdown",
   "id": "9adccb81",
   "metadata": {},
   "source": [
    "### 3. Using %"
   ]
  },
  {
   "cell_type": "code",
   "execution_count": 43,
   "id": "8bac2e8c",
   "metadata": {},
   "outputs": [
    {
     "name": "stdout",
     "output_type": "stream",
     "text": [
      "The value of x is 1, the value of y is 2 and the value of z is 3\n",
      "The value of x is 1.000000, the value of y is 2.000000 and the value of z is 3.000000\n",
      "The value of x is <class 'int'>, the value of y is <class 'int'> and the value of z is <class 'int'>\n"
     ]
    }
   ],
   "source": [
    "x = 1\n",
    "y = 2\n",
    "z = 3\n",
    "\n",
    "print('The value of x is %d, the value of y is %d and the value of z is %d' %(x,y,z))\n",
    "print('The value of x is %f, the value of y is %f and the value of z is %f' %(x,y,z))\n",
    "print('The value of x is %s, the value of y is %s and the value of z is %s' %(type(x),type(y),type(z)))"
   ]
  },
  {
   "cell_type": "code",
   "execution_count": 42,
   "id": "7ec0c229",
   "metadata": {},
   "outputs": [
    {
     "name": "stdout",
     "output_type": "stream",
     "text": [
      "The value of x is 1, the value of y is 1 and the value of z is 1\n",
      "The value of x is 1.100000, the value of y is 1.200000 and the value of z is 1.300000\n",
      "The value of x is <class 'float'>, the value of y is <class 'float'> and the value of z is <class 'float'>\n"
     ]
    }
   ],
   "source": [
    "x = 1.1\n",
    "y = 1.2\n",
    "z = 1.3\n",
    "\n",
    "print('The value of x is %d, the value of y is %d and the value of z is %d' %(x,y,z))\n",
    "print('The value of x is %f, the value of y is %f and the value of z is %f' %(x,y,z))\n",
    "print('The value of x is %s, the value of y is %s and the value of z is %s' %(type(x),type(y),type(z)))"
   ]
  },
  {
   "cell_type": "markdown",
   "id": "3f780324",
   "metadata": {},
   "source": [
    "### 4. dot format method"
   ]
  },
  {
   "cell_type": "code",
   "execution_count": 46,
   "id": "5082b71c",
   "metadata": {
    "scrolled": true
   },
   "outputs": [
    {
     "name": "stdout",
     "output_type": "stream",
     "text": [
      "My name is Nilotpal Malakar\n",
      "My name is Nilotpal Malakar\n"
     ]
    }
   ],
   "source": [
    "first_name = 'Nilotpal'\n",
    "last_name = 'Malakar'\n",
    "\n",
    "print('My name is {} {}'.format(first_name,last_name))\n",
    "print(f'My name is {first_name} {last_name}')"
   ]
  },
  {
   "cell_type": "code",
   "execution_count": 3,
   "id": "a77a23e3",
   "metadata": {},
   "outputs": [
    {
     "name": "stdout",
     "output_type": "stream",
     "text": [
      "90 72 73 53\n"
     ]
    }
   ],
   "source": [
    "aa = 90\n",
    "bb = 72\n",
    "# cc = 107\n",
    "dd = 53\n",
    "\n",
    "print(aa,bb,cc,dd)"
   ]
  },
  {
   "cell_type": "code",
   "execution_count": 2,
   "id": "6fcc9b0e",
   "metadata": {},
   "outputs": [
    {
     "name": "stdout",
     "output_type": "stream",
     "text": [
      "Variable   Type    Data/Info\n",
      "----------------------------\n",
      "aa         int     55\n",
      "bb         int     64\n",
      "cc         int     73\n",
      "dd         int     51\n"
     ]
    }
   ],
   "source": [
    "%whos"
   ]
  },
  {
   "cell_type": "code",
   "execution_count": 4,
   "id": "986f38b2",
   "metadata": {},
   "outputs": [
    {
     "name": "stdout",
     "output_type": "stream",
     "text": [
      "Variable   Type    Data/Info\n",
      "----------------------------\n",
      "aa         int     90\n",
      "bb         int     72\n",
      "cc         int     73\n",
      "dd         int     53\n"
     ]
    }
   ],
   "source": [
    "%whos"
   ]
  }
 ],
 "metadata": {
  "kernelspec": {
   "display_name": "Python 3 (ipykernel)",
   "language": "python",
   "name": "python3"
  },
  "language_info": {
   "codemirror_mode": {
    "name": "ipython",
    "version": 3
   },
   "file_extension": ".py",
   "mimetype": "text/x-python",
   "name": "python",
   "nbconvert_exporter": "python",
   "pygments_lexer": "ipython3",
   "version": "3.9.13"
  }
 },
 "nbformat": 4,
 "nbformat_minor": 5
}

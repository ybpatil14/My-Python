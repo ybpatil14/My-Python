{
 "cells": [
  {
   "cell_type": "markdown",
   "id": "9633b9eb",
   "metadata": {},
   "source": [
    "### 1. sum function"
   ]
  },
  {
   "cell_type": "code",
   "execution_count": 13,
   "id": "5ff9fb73",
   "metadata": {},
   "outputs": [
    {
     "data": {
      "text/plain": [
       "453.0"
      ]
     },
     "execution_count": 13,
     "metadata": {},
     "output_type": "execute_result"
    }
   ],
   "source": [
    "data = [1,55,230,99.0,68]\n",
    "added_value = 0\n",
    "for i in data:\n",
    "    added_value = added_value + i\n",
    "added_value"
   ]
  },
  {
   "cell_type": "code",
   "execution_count": 15,
   "id": "8a1a2f60",
   "metadata": {},
   "outputs": [
    {
     "data": {
      "text/plain": [
       "453.0"
      ]
     },
     "execution_count": 15,
     "metadata": {},
     "output_type": "execute_result"
    }
   ],
   "source": [
    "data = [1,55,230,99.0,68]\n",
    "added_value = sum(data)\n",
    "added_value"
   ]
  },
  {
   "cell_type": "markdown",
   "id": "6fd98739",
   "metadata": {},
   "source": [
    "### 2. max function"
   ]
  },
  {
   "cell_type": "code",
   "execution_count": 16,
   "id": "aed1339c",
   "metadata": {},
   "outputs": [
    {
     "data": {
      "text/plain": [
       "230"
      ]
     },
     "execution_count": 16,
     "metadata": {},
     "output_type": "execute_result"
    }
   ],
   "source": [
    "data = [1,55,230,99.0,68]\n",
    "max_value = 0\n",
    "\n",
    "for i in data:\n",
    "    if i>max_value:\n",
    "        max_value = i\n",
    "max_value"
   ]
  },
  {
   "cell_type": "code",
   "execution_count": 18,
   "id": "da8a3723",
   "metadata": {},
   "outputs": [
    {
     "data": {
      "text/plain": [
       "230"
      ]
     },
     "execution_count": 18,
     "metadata": {},
     "output_type": "execute_result"
    }
   ],
   "source": [
    "data = [1,55,230,99.0,68]\n",
    "max_value = max(data)\n",
    "max_value"
   ]
  },
  {
   "cell_type": "markdown",
   "id": "823e8b05",
   "metadata": {},
   "source": [
    "### 3. min function"
   ]
  },
  {
   "cell_type": "code",
   "execution_count": 24,
   "id": "7cfaaa90",
   "metadata": {},
   "outputs": [
    {
     "data": {
      "text/plain": [
       "-45"
      ]
     },
     "execution_count": 24,
     "metadata": {},
     "output_type": "execute_result"
    }
   ],
   "source": [
    "data = [1,55,230,99.0,68,0.5,67,34,-45,76576576]\n",
    "min_value = data[0]\n",
    "\n",
    "for i in data:\n",
    "    if min_value>i:\n",
    "        min_value = i\n",
    "min_value"
   ]
  },
  {
   "cell_type": "code",
   "execution_count": 23,
   "id": "44d67371",
   "metadata": {},
   "outputs": [
    {
     "data": {
      "text/plain": [
       "0.5"
      ]
     },
     "execution_count": 23,
     "metadata": {},
     "output_type": "execute_result"
    }
   ],
   "source": [
    "data = [1,55,230,99.0,68,0.5,67,34]\n",
    "min_value = min(data)\n",
    "min_value"
   ]
  },
  {
   "cell_type": "code",
   "execution_count": null,
   "id": "a084dcef",
   "metadata": {},
   "outputs": [],
   "source": []
  },
  {
   "cell_type": "markdown",
   "id": "538ebcb5",
   "metadata": {},
   "source": [
    "## Question #1"
   ]
  },
  {
   "cell_type": "raw",
   "id": "3d2ed25a",
   "metadata": {},
   "source": [
    "You have a list of ages of students from a class\n",
    "1. Average age\n",
    "2. youngest student\n",
    "3. oldest student"
   ]
  },
  {
   "cell_type": "code",
   "execution_count": 28,
   "id": "57e27908",
   "metadata": {},
   "outputs": [
    {
     "data": {
      "text/plain": [
       "(10.714285714285714, 8, 15)"
      ]
     },
     "execution_count": 28,
     "metadata": {},
     "output_type": "execute_result"
    }
   ],
   "source": [
    "data = [10,12,8,9,11,10,15]\n",
    "\n",
    "mean_age = sum(data)/len(data)\n",
    "youngest = min(data)\n",
    "oldest = max(data)\n",
    "\n",
    "mean_age, youngest, oldest"
   ]
  }
 ],
 "metadata": {
  "kernelspec": {
   "display_name": "Python 3 (ipykernel)",
   "language": "python",
   "name": "python3"
  },
  "language_info": {
   "codemirror_mode": {
    "name": "ipython",
    "version": 3
   },
   "file_extension": ".py",
   "mimetype": "text/x-python",
   "name": "python",
   "nbconvert_exporter": "python",
   "pygments_lexer": "ipython3",
   "version": "3.9.12"
  }
 },
 "nbformat": 4,
 "nbformat_minor": 5
}

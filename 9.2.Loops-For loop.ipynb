{
 "cells": [
  {
   "cell_type": "markdown",
   "id": "600f037c",
   "metadata": {},
   "source": [
    "- Can only iterate over theitems of a collection type data {data that has multiple items within}"
   ]
  },
  {
   "cell_type": "markdown",
   "id": "c2d513e5",
   "metadata": {},
   "source": [
    "- iteration : to access individual items one by one"
   ]
  },
  {
   "cell_type": "code",
   "execution_count": 40,
   "id": "7e1f4455",
   "metadata": {},
   "outputs": [
    {
     "name": "stdout",
     "output_type": "stream",
     "text": [
      "The value of temp is : g\n",
      "The value of final is : _\n",
      "Length of final : 1\n",
      "\n",
      "The value of temp is : r\n",
      "The value of final is : __\n",
      "Length of final : 2\n",
      "\n",
      "The value of temp is : o\n",
      "The value of final is : ___\n",
      "Length of final : 3\n",
      "\n",
      "The value of temp is : o\n",
      "The value of final is : ____\n",
      "Length of final : 4\n",
      "\n",
      "The value of temp is : t\n",
      "The value of final is : _____\n",
      "Length of final : 5\n",
      "\n",
      "The value of temp is : 1\n",
      "The value of final is : ______\n",
      "Length of final : 6\n",
      "\n",
      "The value of temp is : 2\n",
      "The value of final is : _______\n",
      "Length of final : 7\n",
      "\n",
      "The value of temp is : 3\n",
      "The value of final is : ________\n",
      "Length of final : 8\n",
      "\n",
      "The value of temp is : @\n",
      "The value of final is : ________@\n",
      "Length of final : 9\n",
      "\n",
      "The value of temp is : g\n",
      "The value of final is : ________@_\n",
      "Length of final : 10\n",
      "\n",
      "The value of temp is : m\n",
      "The value of final is : ________@__\n",
      "Length of final : 11\n",
      "\n",
      "The value of temp is : a\n",
      "The value of final is : ________@___\n",
      "Length of final : 12\n",
      "\n",
      "The value of temp is : i\n",
      "The value of final is : ________@____\n",
      "Length of final : 13\n",
      "\n",
      "The value of temp is : l\n",
      "The value of final is : ________@_____\n",
      "Length of final : 14\n",
      "\n",
      "The value of temp is : .\n",
      "The value of final is : ________@_____.\n",
      "Length of final : 15\n",
      "\n",
      "The value of temp is : c\n",
      "The value of final is : ________@_____._\n",
      "Length of final : 16\n",
      "\n",
      "The value of temp is : o\n",
      "The value of final is : ________@_____.__\n",
      "Length of final : 17\n",
      "\n",
      "The value of temp is : m\n",
      "The value of final is : ________@_____.___\n",
      "Length of final : 18\n",
      "\n"
     ]
    }
   ],
   "source": [
    "data = 'groot123@gmail.com'\n",
    "final = ''\n",
    "\n",
    "for temp in data:\n",
    "    print(f'The value of temp is : {temp}')    \n",
    "    \n",
    "    if temp.isalnum()==False:\n",
    "        final = final + temp\n",
    "    else:\n",
    "        final = final + '_'\n",
    "        \n",
    "    print(f'The value of final is : {final}')\n",
    "    print(f'Length of final : {len(final)}')\n",
    "    print()"
   ]
  },
  {
   "cell_type": "code",
   "execution_count": 41,
   "id": "73d6f559",
   "metadata": {},
   "outputs": [
    {
     "data": {
      "text/plain": [
       "'m'"
      ]
     },
     "execution_count": 41,
     "metadata": {},
     "output_type": "execute_result"
    }
   ],
   "source": [
    "veriable"
   ]
  },
  {
   "cell_type": "code",
   "execution_count": 30,
   "id": "e3150d23",
   "metadata": {},
   "outputs": [
    {
     "data": {
      "text/plain": [
       "'________@_____.___'"
      ]
     },
     "execution_count": 30,
     "metadata": {},
     "output_type": "execute_result"
    }
   ],
   "source": [
    "final"
   ]
  },
  {
   "cell_type": "code",
   "execution_count": 17,
   "id": "e609649b",
   "metadata": {},
   "outputs": [
    {
     "name": "stdout",
     "output_type": "stream",
     "text": [
      "50\n"
     ]
    }
   ],
   "source": [
    "data = 50\n",
    "final = 'dummy'\n",
    "\n",
    "if data%2==0:\n",
    "    final = data\n",
    "\n",
    "print(final)"
   ]
  },
  {
   "cell_type": "code",
   "execution_count": null,
   "id": "f8058dd0",
   "metadata": {},
   "outputs": [],
   "source": []
  },
  {
   "cell_type": "code",
   "execution_count": 33,
   "id": "ad097518",
   "metadata": {},
   "outputs": [
    {
     "name": "stdout",
     "output_type": "stream",
     "text": [
      "Sanket__c__\n"
     ]
    }
   ],
   "source": [
    "data = 'abcde'\n",
    "final = 'Sanket'\n",
    "\n",
    "for i in data:\n",
    "    if i=='c':\n",
    "        final = final + i\n",
    "    else:\n",
    "        final = final + '_'\n",
    "        \n",
    "print(final)"
   ]
  },
  {
   "cell_type": "code",
   "execution_count": 32,
   "id": "23dd0449",
   "metadata": {},
   "outputs": [
    {
     "data": {
      "text/plain": [
       "'Sanket__c__'"
      ]
     },
     "execution_count": 32,
     "metadata": {},
     "output_type": "execute_result"
    }
   ],
   "source": [
    "final"
   ]
  },
  {
   "cell_type": "raw",
   "id": "204f98e4",
   "metadata": {},
   "source": [
    "i == 'a'\n",
    "final = '_'\n",
    "i == 'b'\n",
    "final = '__'\n",
    "i == 'c'\n",
    "final = '__c'\n",
    "i == 'd'\n",
    "final = '__c_'\n",
    "i == 'e'\n",
    "final = '__c__'"
   ]
  },
  {
   "cell_type": "code",
   "execution_count": null,
   "id": "bdf5fe50",
   "metadata": {},
   "outputs": [],
   "source": []
  },
  {
   "cell_type": "code",
   "execution_count": null,
   "id": "7161da34",
   "metadata": {},
   "outputs": [],
   "source": [
    "data = 'I am Groot. I am not Iron Man. I am 444 years old while Iron man is just 40. I am much older than him'"
   ]
  },
  {
   "cell_type": "code",
   "execution_count": 42,
   "id": "f7756f73",
   "metadata": {},
   "outputs": [
    {
     "name": "stdout",
     "output_type": "stream",
     "text": [
      "4\n",
      "4\n",
      "4\n",
      "4\n",
      "0\n"
     ]
    }
   ],
   "source": [
    "# Sukanya Jagtap\n",
    "\n",
    "data = 'I am Groot. I am not Iron Man. I am 444 years old while Iron man is just 40. I am much older than him'\n",
    "final= ''\n",
    "\n",
    "for temp in data:\n",
    "    if temp.isdecimal() == True:\n",
    "        final = final + temp\n",
    "        print(temp)"
   ]
  },
  {
   "cell_type": "code",
   "execution_count": 43,
   "id": "4cc4924b",
   "metadata": {},
   "outputs": [
    {
     "data": {
      "text/plain": [
       "'44440'"
      ]
     },
     "execution_count": 43,
     "metadata": {},
     "output_type": "execute_result"
    }
   ],
   "source": [
    "final"
   ]
  },
  {
   "cell_type": "code",
   "execution_count": 45,
   "id": "4102d4c8",
   "metadata": {},
   "outputs": [],
   "source": []
  },
  {
   "cell_type": "code",
   "execution_count": 65,
   "id": "9ea1dad9",
   "metadata": {},
   "outputs": [
    {
     "name": "stdout",
     "output_type": "stream",
     "text": [
      "444 40\n"
     ]
    }
   ],
   "source": [
    "data = 'I am Groot. I am not Iron Man. I am 444 years old while Iron man is just 40. I am much older than him'\n",
    "final = ''\n",
    "\n",
    "for i in data:\n",
    "    if i.isnumeric():\n",
    "        final += i\n",
    "    if i.isspace():\n",
    "        final += i\n",
    "\n",
    "final = final.strip()\n",
    "space_count = final.count(' ')\n",
    "final = final.replace(' '*space_count,' ')\n",
    "\n",
    "print(final)"
   ]
  },
  {
   "cell_type": "code",
   "execution_count": 66,
   "id": "d3810a0c",
   "metadata": {},
   "outputs": [
    {
     "name": "stdout",
     "output_type": "stream",
     "text": [
      " 444 40\n"
     ]
    }
   ],
   "source": [
    "# Akshit Naranje\n",
    "\n",
    "data = 'I am Groot. I am not Iron Man. I am 444 years old while Iron man is just 40. I am much older than him'\n",
    "final=' '\n",
    "for i in data:\n",
    "    if i.isnumeric()==True :\n",
    "        final=final+i \n",
    "print(final[:4],final[4:])"
   ]
  },
  {
   "cell_type": "code",
   "execution_count": null,
   "id": "f9cafee0",
   "metadata": {},
   "outputs": [],
   "source": []
  },
  {
   "cell_type": "code",
   "execution_count": 67,
   "id": "8ffb341f",
   "metadata": {},
   "outputs": [
    {
     "data": {
      "text/plain": [
       "'I am Groot. I am not Iron Man. I am 444 years old while Iron man is just 40. I am much older than him'"
      ]
     },
     "execution_count": 67,
     "metadata": {},
     "output_type": "execute_result"
    }
   ],
   "source": [
    "data = 'I am Groot. I am not Iron Man. I am 444 years old while Iron man is just 40. I am much older than him'\n",
    "data"
   ]
  },
  {
   "cell_type": "raw",
   "id": "1fbad3a6",
   "metadata": {},
   "source": [
    "1. find all the capitalized elements in the data\n",
    "2. find all the words that are capitalized using the elements"
   ]
  },
  {
   "cell_type": "code",
   "execution_count": 74,
   "id": "3fc43471",
   "metadata": {},
   "outputs": [
    {
     "data": {
      "text/plain": [
       "'I Groot. I Iron Man. I Iron I'"
      ]
     },
     "execution_count": 74,
     "metadata": {},
     "output_type": "execute_result"
    }
   ],
   "source": [
    "final = ''\n",
    "for i in data.split():\n",
    "    if i.istitle():\n",
    "#         print(i)\n",
    "        final = final + i + ' '\n",
    "final.strip()"
   ]
  },
  {
   "cell_type": "code",
   "execution_count": null,
   "id": "09a0a720",
   "metadata": {},
   "outputs": [],
   "source": []
  },
  {
   "cell_type": "code",
   "execution_count": null,
   "id": "52f35760",
   "metadata": {},
   "outputs": [],
   "source": [
    "data = '12345'\n",
    "# output = \n",
    "# *\n",
    "# **\n",
    "# ***\n",
    "# ****\n",
    "# *****"
   ]
  },
  {
   "cell_type": "code",
   "execution_count": 1,
   "id": "c4f188a3",
   "metadata": {},
   "outputs": [
    {
     "name": "stdout",
     "output_type": "stream",
     "text": [
      "*\n",
      "**\n",
      "***\n",
      "****\n",
      "*****\n"
     ]
    }
   ],
   "source": [
    "# Vaibhav Jagtap\n",
    "data = '12345'\n",
    "final=''\n",
    "\n",
    "for i in data:\n",
    "    i = '*'\n",
    "    final = final + i\n",
    "    print(final)"
   ]
  },
  {
   "cell_type": "code",
   "execution_count": null,
   "id": "559513f2",
   "metadata": {},
   "outputs": [],
   "source": []
  },
  {
   "cell_type": "code",
   "execution_count": 10,
   "id": "61be0ad7",
   "metadata": {},
   "outputs": [
    {
     "name": "stdout",
     "output_type": "stream",
     "text": [
      "*****\n",
      "****\n",
      "***\n",
      "**\n",
      "*\n"
     ]
    }
   ],
   "source": [
    "# Suryakiran Mali\n",
    "\n",
    "data= '54321'\n",
    "for i in data:\n",
    "    print(int(i)* '*')"
   ]
  },
  {
   "cell_type": "code",
   "execution_count": null,
   "id": "277fe74d",
   "metadata": {},
   "outputs": [],
   "source": []
  },
  {
   "cell_type": "code",
   "execution_count": 13,
   "id": "317982ab",
   "metadata": {},
   "outputs": [
    {
     "name": "stdout",
     "output_type": "stream",
     "text": [
      "*\n",
      "**\n",
      "***\n",
      "****\n",
      "*****\n"
     ]
    }
   ],
   "source": [
    "# vaishali mhaske\n",
    "data='12345'\n",
    "temp=\"*\"\n",
    "for i in data:\n",
    "    i='*'\n",
    "    print(temp)\n",
    "    temp=temp+i"
   ]
  },
  {
   "cell_type": "code",
   "execution_count": 17,
   "id": "71614057",
   "metadata": {},
   "outputs": [
    {
     "name": "stdout",
     "output_type": "stream",
     "text": [
      "*\n",
      "**\n",
      "***\n",
      "****\n",
      "*****\n"
     ]
    }
   ],
   "source": [
    "# Ashutosh Singh\n",
    "\n",
    "data = '12345'\n",
    "k = 0\n",
    "for i in data:\n",
    "    k = k+1\n",
    "    print('*'*k)"
   ]
  },
  {
   "cell_type": "code",
   "execution_count": 21,
   "id": "f30f925c",
   "metadata": {},
   "outputs": [
    {
     "name": "stdout",
     "output_type": "stream",
     "text": [
      "*\n",
      "**\n",
      "***\n",
      "****\n",
      "*****\n"
     ]
    }
   ],
   "source": [
    "# Rushikesh Khutafale22:12\n",
    "\n",
    "data='12345'\n",
    "final=''\n",
    "for i in data:\n",
    "    if int(i)<=5:\n",
    "        i=int(i)*'*'\n",
    "        print(i)"
   ]
  },
  {
   "cell_type": "code",
   "execution_count": 23,
   "id": "ee638a7a",
   "metadata": {},
   "outputs": [
    {
     "name": "stdout",
     "output_type": "stream",
     "text": [
      "*\n",
      "**\n",
      "***\n",
      "****\n",
      "*****\n",
      "******\n",
      "*******\n"
     ]
    }
   ],
   "source": [
    "# Shikhar Bhatia22:09\n",
    "\n",
    "data=\"1234567\"\n",
    "for i in data:\n",
    "    print(int(i)*\"*\")"
   ]
  },
  {
   "cell_type": "code",
   "execution_count": 25,
   "id": "5dbe8acd",
   "metadata": {},
   "outputs": [
    {
     "name": "stdout",
     "output_type": "stream",
     "text": [
      "*\n",
      "**\n",
      "***\n",
      "****\n",
      "*****\n",
      "******\n",
      "*******\n",
      "********\n"
     ]
    }
   ],
   "source": [
    "# Priya Kumbhar22:08\n",
    "\n",
    "\n",
    "data = '12345678'\n",
    "\n",
    "for i in data:\n",
    "    i= int (i) *'*'\n",
    "    print (i)"
   ]
  },
  {
   "cell_type": "code",
   "execution_count": 26,
   "id": "46a71de0",
   "metadata": {},
   "outputs": [
    {
     "name": "stdout",
     "output_type": "stream",
     "text": [
      "*\n",
      "**\n",
      "***\n",
      "****\n",
      "*****\n"
     ]
    }
   ],
   "source": [
    "# Yogita jadhav22:07\n",
    "\n",
    "data='12345'\n",
    "final=''\n",
    "for temp in data:\n",
    "    i='*'\n",
    "    final=final+i\n",
    "    print(final)"
   ]
  },
  {
   "cell_type": "code",
   "execution_count": null,
   "id": "7258808b",
   "metadata": {},
   "outputs": [],
   "source": []
  },
  {
   "cell_type": "code",
   "execution_count": 28,
   "id": "d2b37dfc",
   "metadata": {},
   "outputs": [
    {
     "name": "stdout",
     "output_type": "stream",
     "text": [
      "**\n",
      "****\n",
      "********\n",
      "****************\n",
      "********************************\n"
     ]
    }
   ],
   "source": [
    "# ketali patil22:07\n",
    "\n",
    "data='12345'\n",
    "final='*'\n",
    "for i in data:\n",
    "    if i.isnumeric():\n",
    "        final=final+final\n",
    "        print(final)"
   ]
  },
  {
   "cell_type": "code",
   "execution_count": 31,
   "id": "0f9435ee",
   "metadata": {},
   "outputs": [
    {
     "name": "stdout",
     "output_type": "stream",
     "text": [
      "*\n",
      "**\n",
      "***\n",
      "****\n",
      "*****\n",
      "******\n",
      "*******\n"
     ]
    }
   ],
   "source": [
    "# Shrikant Khade22:06\n",
    "data = '1234567'\n",
    "final = ''\n",
    "for i in data:\n",
    "    i.isnumeric()\n",
    "    final = final+'*'\n",
    "    print(final)"
   ]
  },
  {
   "cell_type": "code",
   "execution_count": 33,
   "id": "54eb038f",
   "metadata": {},
   "outputs": [
    {
     "name": "stdout",
     "output_type": "stream",
     "text": [
      "*\n",
      "**\n",
      "***\n",
      "****\n",
      "*****\n",
      "******\n",
      "*******\n"
     ]
    }
   ],
   "source": [
    "# gaurav tiwari22:06\n",
    "data=\"1234567\"\n",
    "num=\"\"\n",
    "for i in data:\n",
    "    num=num+\"*\"\n",
    "    print(num)"
   ]
  },
  {
   "cell_type": "code",
   "execution_count": 38,
   "id": "accd6da6",
   "metadata": {},
   "outputs": [
    {
     "name": "stdout",
     "output_type": "stream",
     "text": [
      "*\n",
      "**\n",
      "***\n",
      "****\n",
      "*****\n",
      "******\n",
      "*******\n"
     ]
    }
   ],
   "source": [
    "# musaib22:06\n",
    "data = '1234567'\n",
    "j = ''\n",
    "for i in data:\n",
    "    if i.isalnum()==True:\n",
    "        j = j + i\n",
    "    j = j.replace(i,'*')\n",
    "    print(j)"
   ]
  },
  {
   "cell_type": "code",
   "execution_count": 45,
   "id": "3b70472b",
   "metadata": {},
   "outputs": [
    {
     "name": "stdout",
     "output_type": "stream",
     "text": [
      "*\n",
      "**\n",
      "***\n",
      "****\n",
      "*****\n",
      "******\n",
      "*******\n",
      "********\n",
      "*********\n",
      "**********\n",
      "***********\n",
      "************\n"
     ]
    }
   ],
   "source": [
    "# musaib22:06\n",
    "data = '1234567'\n",
    "j = ''\n",
    "for i in data:\n",
    "    if i.isalnum()==True:\n",
    "        j = j + i\n",
    "    j = j.replace(i,'*')\n",
    "    print(j)"
   ]
  },
  {
   "cell_type": "code",
   "execution_count": 46,
   "id": "6ce1ac15",
   "metadata": {},
   "outputs": [
    {
     "name": "stdout",
     "output_type": "stream",
     "text": [
      "*\n",
      "**\n",
      "***\n",
      "****\n",
      "*****\n",
      "******\n",
      "*******\n"
     ]
    }
   ],
   "source": [
    "data = '1234567'\n",
    "\n",
    "for i in data:\n",
    "    dummy = '*'\n",
    "    if i.isnumeric():\n",
    "        print(dummy*int(i))"
   ]
  },
  {
   "cell_type": "code",
   "execution_count": 48,
   "id": "5d1d96db",
   "metadata": {},
   "outputs": [
    {
     "name": "stdout",
     "output_type": "stream",
     "text": [
      "initial final : *\n",
      "final final : *\n",
      "\n",
      "initial final : *\n",
      "final final : **\n",
      "\n",
      "initial final : **\n",
      "final final : ******\n",
      "\n",
      "initial final : ******\n",
      "final final : ************************\n",
      "\n",
      "initial final : ************************\n",
      "final final : ************************************************************************************************************************\n",
      "\n"
     ]
    }
   ],
   "source": [
    "data = '12345'\n",
    "final = '*'\n",
    "\n",
    "for i in data:\n",
    "    print(f'initial final : {final}')\n",
    "    final = final*int(i)\n",
    "    print(f'final final : {final}')\n",
    "\n",
    "    print()"
   ]
  },
  {
   "cell_type": "code",
   "execution_count": 49,
   "id": "296ab382",
   "metadata": {},
   "outputs": [
    {
     "name": "stdout",
     "output_type": "stream",
     "text": [
      "initial final : *\n",
      "final final : *\n",
      "\n",
      "initial final : *\n",
      "final final : **\n",
      "\n",
      "initial final : *\n",
      "final final : ***\n",
      "\n",
      "initial final : *\n",
      "final final : ****\n",
      "\n",
      "initial final : *\n",
      "final final : *****\n",
      "\n"
     ]
    }
   ],
   "source": [
    "data = '12345'\n",
    "\n",
    "for i in data:\n",
    "    final = '*'\n",
    "    \n",
    "    print(f'initial final : {final}')\n",
    "    final = final*int(i)\n",
    "    print(f'final final : {final}')\n",
    "\n",
    "    print()"
   ]
  }
 ],
 "metadata": {
  "kernelspec": {
   "display_name": "Python 3 (ipykernel)",
   "language": "python",
   "name": "python3"
  },
  "language_info": {
   "codemirror_mode": {
    "name": "ipython",
    "version": 3
   },
   "file_extension": ".py",
   "mimetype": "text/x-python",
   "name": "python",
   "nbconvert_exporter": "python",
   "pygments_lexer": "ipython3",
   "version": "3.9.12"
  }
 },
 "nbformat": 4,
 "nbformat_minor": 5
}

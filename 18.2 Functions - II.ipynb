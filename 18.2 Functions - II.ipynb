{
 "cells": [
  {
   "cell_type": "code",
   "execution_count": 35,
   "id": "2f905ea8",
   "metadata": {},
   "outputs": [],
   "source": [
    "def adder():\n",
    "    num1 = int(input('Enter the number1 : '))\n",
    "    num2 = int(input('Enter the number2 : '))\n",
    "    \n",
    "    print(f'The addition of {num1} and {num2} is {num1+num2}')"
   ]
  },
  {
   "cell_type": "code",
   "execution_count": 2,
   "id": "df79047b",
   "metadata": {},
   "outputs": [],
   "source": [
    "def adder():\n",
    "    num1 = int(input('enter the numbers 1 : '))\n",
    "    num2 = int(input('enter the number 2 :'))\n",
    "    print(f'the addition of both numbers: {num1+num2}')"
   ]
  },
  {
   "cell_type": "code",
   "execution_count": 3,
   "id": "98bfd896",
   "metadata": {},
   "outputs": [
    {
     "name": "stdout",
     "output_type": "stream",
     "text": [
      "enter the numbers 1 : 4\n",
      "enter the number 2 :4\n",
      "the addition of both numbers: 8\n"
     ]
    }
   ],
   "source": [
    "adder()"
   ]
  },
  {
   "cell_type": "code",
   "execution_count": null,
   "id": "77c528ca",
   "metadata": {},
   "outputs": [],
   "source": []
  },
  {
   "cell_type": "code",
   "execution_count": 36,
   "id": "04325bf0",
   "metadata": {},
   "outputs": [
    {
     "name": "stdout",
     "output_type": "stream",
     "text": [
      "Enter the number1 : 1\n",
      "Enter the number2 : 2\n",
      "The addition of 1 and 2 is 3\n"
     ]
    }
   ],
   "source": [
    "adder()"
   ]
  },
  {
   "cell_type": "markdown",
   "id": "8164a30e",
   "metadata": {},
   "source": [
    "### 1. Arguments"
   ]
  },
  {
   "cell_type": "markdown",
   "id": "abcfd49d",
   "metadata": {},
   "source": [
    "- the parts of the functions that are used to feed the function with initial data"
   ]
  },
  {
   "cell_type": "markdown",
   "id": "cbea9ab6",
   "metadata": {},
   "source": [
    "#### Rules for Arguments in a Function\n",
    "\n",
    "- While defining the function, if we provide a variable name inside the parenthesis of the function, these variable names would be considered as arguments to the function\n",
    "- These variable names can further be used inside the function to do any tasks\n",
    "- while calling such functions, which has been initiated/defined with arguments, we need to provide suitable values to these arguments"
   ]
  },
  {
   "cell_type": "code",
   "execution_count": 68,
   "id": "3ff03323",
   "metadata": {},
   "outputs": [],
   "source": [
    "def adder_1(number1, number2): #adder_1 function takes two arguments that are number1 and number2\n",
    "    '''Takes in number1 and number2 from the user and prints the sum of both'''\n",
    "    \n",
    "    addition = number1 + number2 # adding the numbers\n",
    "    \n",
    "    print(f'The sum of {number1} and {number2} is {addition} !')"
   ]
  },
  {
   "cell_type": "code",
   "execution_count": 40,
   "id": "dcecef76",
   "metadata": {},
   "outputs": [
    {
     "name": "stdout",
     "output_type": "stream",
     "text": [
      "The sum of 1 and 3 is 4 !\n"
     ]
    }
   ],
   "source": [
    "adder_1(1,3)"
   ]
  },
  {
   "cell_type": "code",
   "execution_count": 41,
   "id": "ca761020",
   "metadata": {},
   "outputs": [
    {
     "ename": "TypeError",
     "evalue": "adder_1() missing 1 required positional argument: 'number2'",
     "output_type": "error",
     "traceback": [
      "\u001b[0;31m---------------------------------------------------------------------------\u001b[0m",
      "\u001b[0;31mTypeError\u001b[0m                                 Traceback (most recent call last)",
      "Input \u001b[0;32mIn [41]\u001b[0m, in \u001b[0;36m<cell line: 1>\u001b[0;34m()\u001b[0m\n\u001b[0;32m----> 1\u001b[0m \u001b[43madder_1\u001b[49m\u001b[43m(\u001b[49m\u001b[38;5;241;43m1\u001b[39;49m\u001b[43m)\u001b[49m\n",
      "\u001b[0;31mTypeError\u001b[0m: adder_1() missing 1 required positional argument: 'number2'"
     ]
    }
   ],
   "source": [
    "adder_1(1)"
   ]
  },
  {
   "cell_type": "code",
   "execution_count": 42,
   "id": "a29aa7a8",
   "metadata": {},
   "outputs": [
    {
     "ename": "TypeError",
     "evalue": "adder_1() takes 2 positional arguments but 3 were given",
     "output_type": "error",
     "traceback": [
      "\u001b[0;31m---------------------------------------------------------------------------\u001b[0m",
      "\u001b[0;31mTypeError\u001b[0m                                 Traceback (most recent call last)",
      "Input \u001b[0;32mIn [42]\u001b[0m, in \u001b[0;36m<cell line: 1>\u001b[0;34m()\u001b[0m\n\u001b[0;32m----> 1\u001b[0m \u001b[43madder_1\u001b[49m\u001b[43m(\u001b[49m\u001b[38;5;241;43m1\u001b[39;49m\u001b[43m,\u001b[49m\u001b[38;5;241;43m2\u001b[39;49m\u001b[43m,\u001b[49m\u001b[38;5;241;43m3\u001b[39;49m\u001b[43m)\u001b[49m\n",
      "\u001b[0;31mTypeError\u001b[0m: adder_1() takes 2 positional arguments but 3 were given"
     ]
    }
   ],
   "source": [
    "adder_1(1,2,3)"
   ]
  },
  {
   "cell_type": "markdown",
   "id": "a4c07223",
   "metadata": {},
   "source": [
    "### 2. return keyword"
   ]
  },
  {
   "cell_type": "markdown",
   "id": "19edf121",
   "metadata": {},
   "source": [
    "- The `return` keyword is used when we have to return some value from the function\n",
    "- We use return when we want our function to produce an output that can be stored in a variable\n",
    "- It is usually used at the end of the function"
   ]
  },
  {
   "cell_type": "code",
   "execution_count": 69,
   "id": "78b5cacc",
   "metadata": {},
   "outputs": [],
   "source": [
    "def add(num1, num2):\n",
    "    '''Takes in two values and returns the sum of both\n",
    "    num1 : integer or float\n",
    "    num2 : integer or float\n",
    "    \n",
    "    returns : added_value : integer or float {sum of num1 and num2}'''\n",
    "    \n",
    "    added_value = num1 + num2\n",
    "    \n",
    "    return added_value"
   ]
  },
  {
   "cell_type": "code",
   "execution_count": 70,
   "id": "df4b34ba",
   "metadata": {},
   "outputs": [
    {
     "data": {
      "text/plain": [
       "61"
      ]
     },
     "execution_count": 70,
     "metadata": {},
     "output_type": "execute_result"
    }
   ],
   "source": [
    "add(55,6)"
   ]
  },
  {
   "cell_type": "code",
   "execution_count": 71,
   "id": "260b803e",
   "metadata": {},
   "outputs": [],
   "source": [
    "added = add(55,6)"
   ]
  },
  {
   "cell_type": "code",
   "execution_count": 72,
   "id": "c8a8051f",
   "metadata": {},
   "outputs": [
    {
     "data": {
      "text/plain": [
       "61"
      ]
     },
     "execution_count": 72,
     "metadata": {},
     "output_type": "execute_result"
    }
   ],
   "source": [
    "added"
   ]
  },
  {
   "cell_type": "code",
   "execution_count": 82,
   "id": "a33f04eb",
   "metadata": {},
   "outputs": [],
   "source": [
    "def adder(val1, val2):\n",
    "    '''Takes in two values and returns the added value of both'''\n",
    "    if (type(val1) == str) or (type(val2) == str):\n",
    "        val1 = str(val1)\n",
    "        val2 = str(val2)\n",
    "        \n",
    "        final = val1+val2\n",
    "        return final\n",
    "\n",
    "    else:\n",
    "        final = val1+val2\n",
    "        return final"
   ]
  },
  {
   "cell_type": "code",
   "execution_count": 85,
   "id": "8db64c4a",
   "metadata": {},
   "outputs": [],
   "source": [
    "adedd = adder(1,4)"
   ]
  },
  {
   "cell_type": "code",
   "execution_count": 79,
   "id": "c6741a83",
   "metadata": {},
   "outputs": [],
   "source": [
    "variable = adder(1,'4')"
   ]
  },
  {
   "cell_type": "code",
   "execution_count": 80,
   "id": "993ca26b",
   "metadata": {},
   "outputs": [
    {
     "data": {
      "text/plain": [
       "'14'"
      ]
     },
     "execution_count": 80,
     "metadata": {},
     "output_type": "execute_result"
    }
   ],
   "source": [
    "variable"
   ]
  },
  {
   "cell_type": "code",
   "execution_count": 7,
   "id": "2cebb83b",
   "metadata": {},
   "outputs": [],
   "source": [
    "def reverser_and_length(string):\n",
    "    rev = string[::-1]\n",
    "    length = len(string)\n",
    "    print(f'{rev},{length}')"
   ]
  },
  {
   "cell_type": "code",
   "execution_count": 8,
   "id": "78fc3aef",
   "metadata": {},
   "outputs": [
    {
     "name": "stdout",
     "output_type": "stream",
     "text": [
      "roht ma i dna toorg mai,23\n"
     ]
    }
   ],
   "source": [
    "reverser_and_length('iam groot and i am thor')"
   ]
  },
  {
   "cell_type": "code",
   "execution_count": 86,
   "id": "ee2dab76",
   "metadata": {},
   "outputs": [],
   "source": [
    "def reverser_and_find_length(string):\n",
    "    '''Takes in a string, reverses it and finds out the length of the string'''\n",
    "    \n",
    "    rev = string[::-1]\n",
    "    length = len(string)\n",
    "    \n",
    "    return rev, length"
   ]
  },
  {
   "cell_type": "code",
   "execution_count": 87,
   "id": "34eb2c75",
   "metadata": {},
   "outputs": [],
   "source": [
    "string = 'I am groot. I am not your enemy. I just am groot !'\n",
    "\n",
    "reversed_string, length_of_string = reverser_and_find_length(string)"
   ]
  },
  {
   "cell_type": "code",
   "execution_count": 89,
   "id": "620aaa69",
   "metadata": {},
   "outputs": [
    {
     "data": {
      "text/plain": [
       "'! toorg ma tsuj I .ymene ruoy ton ma I .toorg ma I'"
      ]
     },
     "execution_count": 89,
     "metadata": {},
     "output_type": "execute_result"
    }
   ],
   "source": [
    "reversed_string"
   ]
  },
  {
   "cell_type": "code",
   "execution_count": 90,
   "id": "3b7467e1",
   "metadata": {},
   "outputs": [
    {
     "data": {
      "text/plain": [
       "50"
      ]
     },
     "execution_count": 90,
     "metadata": {},
     "output_type": "execute_result"
    }
   ],
   "source": [
    "length_of_string"
   ]
  },
  {
   "cell_type": "code",
   "execution_count": 12,
   "id": "120dbaa3",
   "metadata": {},
   "outputs": [],
   "source": [
    "def dummy1(value1,value2):\n",
    "    if (type(value1)==int) and (type(value2)== int):\n",
    "        return value1+value2 , value1-value2\n",
    "    else:\n",
    "        (type(value1)== str) and (type(value2)== str)\n",
    "        return len(value1),len(value2)"
   ]
  },
  {
   "cell_type": "code",
   "execution_count": 91,
   "id": "821438a6",
   "metadata": {},
   "outputs": [],
   "source": [
    "def dummy(val1, val2):\n",
    "    if (type(val1) == int) and (type(val2)==int):\n",
    "        return val1+val2, val1-val2\n",
    "    elif (type(val1) == str) and (type(val2)==str):\n",
    "        return len(val1), len(val2)"
   ]
  },
  {
   "cell_type": "code",
   "execution_count": 92,
   "id": "32343423",
   "metadata": {},
   "outputs": [
    {
     "data": {
      "text/plain": [
       "(11, -1)"
      ]
     },
     "execution_count": 92,
     "metadata": {},
     "output_type": "execute_result"
    }
   ],
   "source": [
    "dummy(5,6)"
   ]
  },
  {
   "cell_type": "code",
   "execution_count": 93,
   "id": "4b2d1e21",
   "metadata": {},
   "outputs": [
    {
     "data": {
      "text/plain": [
       "(10, 15)"
      ]
     },
     "execution_count": 93,
     "metadata": {},
     "output_type": "execute_result"
    }
   ],
   "source": [
    "dummy('I am Groot', 'Captain America')"
   ]
  },
  {
   "cell_type": "code",
   "execution_count": 13,
   "id": "533e01f0",
   "metadata": {},
   "outputs": [
    {
     "data": {
      "text/plain": [
       "(7, -1)"
      ]
     },
     "execution_count": 13,
     "metadata": {},
     "output_type": "execute_result"
    }
   ],
   "source": [
    "dummy1(3,4)"
   ]
  },
  {
   "cell_type": "code",
   "execution_count": 94,
   "id": "297b110e",
   "metadata": {},
   "outputs": [],
   "source": [
    "def length_finder(string):\n",
    "    return len(string)"
   ]
  },
  {
   "cell_type": "code",
   "execution_count": 95,
   "id": "6a9b383c",
   "metadata": {},
   "outputs": [],
   "source": [
    "names_list = ['Akash', 'Avinash', 'Sharad', 'Nakul']"
   ]
  },
  {
   "cell_type": "code",
   "execution_count": 96,
   "id": "6946be5b",
   "metadata": {},
   "outputs": [
    {
     "data": {
      "text/plain": [
       "[5, 7, 6, 5]"
      ]
     },
     "execution_count": 96,
     "metadata": {},
     "output_type": "execute_result"
    }
   ],
   "source": [
    "names_lengths = [length_finder(name) for name in names_list]\n",
    "names_lengths"
   ]
  },
  {
   "cell_type": "code",
   "execution_count": 97,
   "id": "6d6f995f",
   "metadata": {},
   "outputs": [
    {
     "data": {
      "text/plain": [
       "[5, 7, 6, 5]"
      ]
     },
     "execution_count": 97,
     "metadata": {},
     "output_type": "execute_result"
    }
   ],
   "source": [
    "names_lengths = []\n",
    "\n",
    "for name in names_list:\n",
    "    length = length_finder(name)\n",
    "    names_lengths.append(length)\n",
    "    \n",
    "names_lengths"
   ]
  },
  {
   "cell_type": "markdown",
   "id": "1d156ba1",
   "metadata": {},
   "source": [
    "### Problem 1. Sum function replicator"
   ]
  },
  {
   "cell_type": "code",
   "execution_count": 112,
   "id": "636f10d3",
   "metadata": {},
   "outputs": [],
   "source": [
    "# Musaib\n",
    "def addition(val1):\n",
    "    '''Need to enter an iterable so as to be able to run the for loop'''\n",
    "    added = 0\n",
    "    if type(val1)==list or type(val1)==tuple or type(val1)==set or type(val1)==str:\n",
    "        for i in val1:\n",
    "            added = added + int(i)\n",
    "    else:\n",
    "        print('Enter valid input!')\n",
    "    return added"
   ]
  },
  {
   "cell_type": "code",
   "execution_count": 113,
   "id": "492156f8",
   "metadata": {},
   "outputs": [
    {
     "data": {
      "text/plain": [
       "21"
      ]
     },
     "execution_count": 113,
     "metadata": {},
     "output_type": "execute_result"
    }
   ],
   "source": [
    "addition('123456')"
   ]
  },
  {
   "cell_type": "code",
   "execution_count": 114,
   "id": "fd538b02",
   "metadata": {},
   "outputs": [
    {
     "data": {
      "text/plain": [
       "124"
      ]
     },
     "execution_count": 114,
     "metadata": {},
     "output_type": "execute_result"
    }
   ],
   "source": [
    "addition([1,2.3,55,66.56])"
   ]
  },
  {
   "cell_type": "code",
   "execution_count": 115,
   "id": "acab021e",
   "metadata": {},
   "outputs": [
    {
     "name": "stdout",
     "output_type": "stream",
     "text": [
      "Enter valid input!\n"
     ]
    },
    {
     "data": {
      "text/plain": [
       "0"
      ]
     },
     "execution_count": 115,
     "metadata": {},
     "output_type": "execute_result"
    }
   ],
   "source": [
    "addition(4)"
   ]
  },
  {
   "cell_type": "markdown",
   "id": "5c87369b",
   "metadata": {},
   "source": [
    "### Problem 2. Length function replicator"
   ]
  },
  {
   "cell_type": "code",
   "execution_count": 124,
   "id": "2af04401",
   "metadata": {},
   "outputs": [],
   "source": [
    "# Sangram\n",
    "def length(val1):\n",
    "    '''Need to enter an value so as to be able to len'''\n",
    "    lens = 0\n",
    "    if type(val1)==list or type(val1)==tuple or type(val1)==set or type(val1)==str:\n",
    "        lens=lens+len(val1)\n",
    "        return lens\n",
    "    else:\n",
    "        print('Enter valid input!')\n",
    "        return -1"
   ]
  },
  {
   "cell_type": "code",
   "execution_count": 128,
   "id": "4011990f",
   "metadata": {},
   "outputs": [
    {
     "name": "stdout",
     "output_type": "stream",
     "text": [
      "Enter valid input!\n"
     ]
    },
    {
     "data": {
      "text/plain": [
       "-1"
      ]
     },
     "execution_count": 128,
     "metadata": {},
     "output_type": "execute_result"
    }
   ],
   "source": [
    "length(55.678)"
   ]
  }
 ],
 "metadata": {
  "kernelspec": {
   "display_name": "Python 3 (ipykernel)",
   "language": "python",
   "name": "python3"
  },
  "language_info": {
   "codemirror_mode": {
    "name": "ipython",
    "version": 3
   },
   "file_extension": ".py",
   "mimetype": "text/x-python",
   "name": "python",
   "nbconvert_exporter": "python",
   "pygments_lexer": "ipython3",
   "version": "3.9.12"
  }
 },
 "nbformat": 4,
 "nbformat_minor": 5
}

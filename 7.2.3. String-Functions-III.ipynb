{
 "cells": [
  {
   "cell_type": "markdown",
   "id": "bfeb20fb",
   "metadata": {},
   "source": [
    "# Roman numbers in python"
   ]
  },
  {
   "cell_type": "markdown",
   "id": "d0677ba9",
   "metadata": {},
   "source": [
    "- 8544 - 8549 : upper case roman numbers\n",
    "- 8560 - 8576 : lowercase roman numbers"
   ]
  },
  {
   "cell_type": "code",
   "execution_count": 8,
   "id": "9145e353",
   "metadata": {},
   "outputs": [
    {
     "data": {
      "text/plain": [
       "('Ⅰ',\n",
       " 'Ⅱ',\n",
       " 'Ⅲ',\n",
       " 'Ⅳ',\n",
       " 'Ⅴ',\n",
       " 'Ⅵ',\n",
       " 'Ⅶ',\n",
       " 'Ⅷ',\n",
       " 'Ⅸ',\n",
       " 'Ⅹ',\n",
       " 'Ⅺ',\n",
       " 'Ⅻ',\n",
       " 'Ⅼ',\n",
       " 'Ⅽ',\n",
       " 'Ⅾ',\n",
       " 'Ⅿ')"
      ]
     },
     "execution_count": 8,
     "metadata": {},
     "output_type": "execute_result"
    }
   ],
   "source": [
    "chr(8544),chr(8545),chr(8546),chr(8547),chr(8548),chr(8549),chr(8550),chr(8551),chr(8552),chr(8553),chr(8554),chr(8555),chr(8556),chr(8557),chr(8558),chr(8559)"
   ]
  },
  {
   "cell_type": "code",
   "execution_count": 9,
   "id": "6ee57cf0",
   "metadata": {},
   "outputs": [
    {
     "data": {
      "text/plain": [
       "('ⅰ',\n",
       " 'ⅱ',\n",
       " 'ⅲ',\n",
       " 'ⅳ',\n",
       " 'ⅴ',\n",
       " 'ⅵ',\n",
       " 'ⅶ',\n",
       " 'ⅷ',\n",
       " 'ⅸ',\n",
       " 'ⅹ',\n",
       " 'ⅺ',\n",
       " 'ⅻ',\n",
       " 'ⅼ',\n",
       " 'ⅽ',\n",
       " 'ⅾ',\n",
       " 'ⅿ')"
      ]
     },
     "execution_count": 9,
     "metadata": {},
     "output_type": "execute_result"
    }
   ],
   "source": [
    "chr(8560),chr(8561),chr(8562),chr(8563),chr(8564),chr(8565),chr(8566),chr(8567),chr(8568),chr(8569),chr(8570),chr(8571),chr(8572),chr(8573),chr(8574),chr(8575)"
   ]
  },
  {
   "cell_type": "code",
   "execution_count": 11,
   "id": "903884c9",
   "metadata": {
    "scrolled": true
   },
   "outputs": [
    {
     "data": {
      "text/plain": [
       "True"
      ]
     },
     "execution_count": 11,
     "metadata": {},
     "output_type": "execute_result"
    }
   ],
   "source": [
    "chr(8560).isnumeric()"
   ]
  },
  {
   "cell_type": "markdown",
   "id": "0294d84d",
   "metadata": {},
   "source": [
    "# Functions : Basic syntax"
   ]
  },
  {
   "cell_type": "code",
   "execution_count": 23,
   "id": "791b241d",
   "metadata": {},
   "outputs": [
    {
     "name": "stdout",
     "output_type": "stream",
     "text": [
      "data\n"
     ]
    }
   ],
   "source": [
    "print('data')"
   ]
  },
  {
   "cell_type": "code",
   "execution_count": 24,
   "id": "801bbc79",
   "metadata": {},
   "outputs": [
    {
     "data": {
      "text/plain": [
       "int"
      ]
     },
     "execution_count": 24,
     "metadata": {},
     "output_type": "execute_result"
    }
   ],
   "source": [
    "type(234)"
   ]
  },
  {
   "cell_type": "code",
   "execution_count": 26,
   "id": "17295c0b",
   "metadata": {},
   "outputs": [
    {
     "data": {
      "text/plain": [
       "(False, 'I AM GROOT')"
      ]
     },
     "execution_count": 26,
     "metadata": {},
     "output_type": "execute_result"
    }
   ],
   "source": [
    "data = 'I am groot'\n",
    "\n",
    "data.isnumeric(), data.upper()"
   ]
  },
  {
   "cell_type": "markdown",
   "id": "40beb9ee",
   "metadata": {},
   "source": [
    "### First type of function syntax that we deal with"
   ]
  },
  {
   "cell_type": "code",
   "execution_count": 27,
   "id": "75980392",
   "metadata": {},
   "outputs": [],
   "source": [
    "def my_function():\n",
    "    print('this is my function')"
   ]
  },
  {
   "cell_type": "code",
   "execution_count": 28,
   "id": "371d5f3a",
   "metadata": {},
   "outputs": [
    {
     "name": "stdout",
     "output_type": "stream",
     "text": [
      "this is my function\n"
     ]
    }
   ],
   "source": [
    "my_function()"
   ]
  },
  {
   "cell_type": "markdown",
   "id": "3683c7c9",
   "metadata": {},
   "source": [
    "### Second type of function syntax that we deal with"
   ]
  },
  {
   "cell_type": "code",
   "execution_count": 36,
   "id": "476f5c3a",
   "metadata": {},
   "outputs": [],
   "source": [
    "def adder_function(x,y):\n",
    "    '''x and y are called arguments or parameters'''\n",
    "    \n",
    "    print(f'The sum of {x} and {y} is {x+y}')"
   ]
  },
  {
   "cell_type": "code",
   "execution_count": 37,
   "id": "3fd4ba7b",
   "metadata": {},
   "outputs": [
    {
     "name": "stdout",
     "output_type": "stream",
     "text": [
      "The sum of 5 and 7 is 12\n"
     ]
    }
   ],
   "source": [
    "adder_function(5,7)"
   ]
  },
  {
   "cell_type": "markdown",
   "id": "d49ff9cf",
   "metadata": {},
   "source": [
    "# Advanced string functions"
   ]
  },
  {
   "cell_type": "markdown",
   "id": "2f58f85d",
   "metadata": {},
   "source": [
    "### 1. str.startswith(sub-string)\n",
    "\n",
    "- checks whether a string is getting started with a particular substring or not"
   ]
  },
  {
   "cell_type": "code",
   "execution_count": 38,
   "id": "d2316041",
   "metadata": {},
   "outputs": [
    {
     "data": {
      "text/plain": [
       "True"
      ]
     },
     "execution_count": 38,
     "metadata": {},
     "output_type": "execute_result"
    }
   ],
   "source": [
    "data = 'I am Groot !'\n",
    "\n",
    "data.startswith('I')"
   ]
  },
  {
   "cell_type": "code",
   "execution_count": 39,
   "id": "2b1af000",
   "metadata": {},
   "outputs": [
    {
     "data": {
      "text/plain": [
       "True"
      ]
     },
     "execution_count": 39,
     "metadata": {},
     "output_type": "execute_result"
    }
   ],
   "source": [
    "data.startswith('I am')"
   ]
  },
  {
   "cell_type": "code",
   "execution_count": 40,
   "id": "41f91e7b",
   "metadata": {},
   "outputs": [
    {
     "data": {
      "text/plain": [
       "False"
      ]
     },
     "execution_count": 40,
     "metadata": {},
     "output_type": "execute_result"
    }
   ],
   "source": [
    "data = 'Groot is an avenger.'\n",
    "\n",
    "data.startswith('groot')"
   ]
  },
  {
   "cell_type": "code",
   "execution_count": 43,
   "id": "ee838fa8",
   "metadata": {},
   "outputs": [
    {
     "data": {
      "text/plain": [
       "True"
      ]
     },
     "execution_count": 43,
     "metadata": {},
     "output_type": "execute_result"
    }
   ],
   "source": [
    "data = 'groot is an avenger'\n",
    "\n",
    "data.startswith('groot is an ')"
   ]
  },
  {
   "cell_type": "code",
   "execution_count": 44,
   "id": "4f346af3",
   "metadata": {},
   "outputs": [
    {
     "data": {
      "text/plain": [
       "True"
      ]
     },
     "execution_count": 44,
     "metadata": {},
     "output_type": "execute_result"
    }
   ],
   "source": [
    "data = '_ i am groot'\n",
    "data.startswith('_')"
   ]
  },
  {
   "cell_type": "markdown",
   "id": "e411c236",
   "metadata": {},
   "source": [
    "## 2. str.endswith(sub-string)"
   ]
  },
  {
   "cell_type": "code",
   "execution_count": 45,
   "id": "75410179",
   "metadata": {},
   "outputs": [
    {
     "data": {
      "text/plain": [
       "True"
      ]
     },
     "execution_count": 45,
     "metadata": {},
     "output_type": "execute_result"
    }
   ],
   "source": [
    "data = 'Avengers assemble'\n",
    "data.endswith('e')"
   ]
  },
  {
   "cell_type": "code",
   "execution_count": 46,
   "id": "632f52cf",
   "metadata": {},
   "outputs": [
    {
     "data": {
      "text/plain": [
       "True"
      ]
     },
     "execution_count": 46,
     "metadata": {},
     "output_type": "execute_result"
    }
   ],
   "source": [
    "data.endswith('assemble')"
   ]
  },
  {
   "cell_type": "markdown",
   "id": "7af1fd59",
   "metadata": {},
   "source": [
    "# Note : Special case"
   ]
  },
  {
   "cell_type": "code",
   "execution_count": 50,
   "id": "de237de0",
   "metadata": {},
   "outputs": [
    {
     "data": {
      "text/plain": [
       "(0, str, False)"
      ]
     },
     "execution_count": 50,
     "metadata": {},
     "output_type": "execute_result"
    }
   ],
   "source": [
    "empty_string = ''\n",
    "len(empty_string), type(empty_string), empty_string.isspace()"
   ]
  },
  {
   "cell_type": "code",
   "execution_count": 49,
   "id": "10121938",
   "metadata": {},
   "outputs": [
    {
     "data": {
      "text/plain": [
       "(True, True)"
      ]
     },
     "execution_count": 49,
     "metadata": {},
     "output_type": "execute_result"
    }
   ],
   "source": [
    "data = 'groot is an avenger'\n",
    "\n",
    "data.startswith(empty_string), data.endswith(empty_string)"
   ]
  },
  {
   "cell_type": "raw",
   "id": "225a8d79",
   "metadata": {},
   "source": [
    "09 = 9 = 000009\n",
    "9.1 = 9.10 = 9.100000"
   ]
  },
  {
   "cell_type": "code",
   "execution_count": 56,
   "id": "adaf7c34",
   "metadata": {},
   "outputs": [
    {
     "data": {
      "text/plain": [
       "True"
      ]
     },
     "execution_count": 56,
     "metadata": {},
     "output_type": "execute_result"
    }
   ],
   "source": [
    "movie1 = 'Marvel avengers'\n",
    "movie2 = 'marvel spider man'\n",
    "movie3 = 'dawn of justice'\n",
    "movie4 = 'twillight'\n",
    "movie5 = 'kantara'\n",
    "movie6 = 'avatar'\n",
    "movie7 = 'MARVEL THE HULK'\n",
    "\n",
    "movie7.lower().startswith('marvel')"
   ]
  },
  {
   "cell_type": "code",
   "execution_count": 59,
   "id": "18ba31ea",
   "metadata": {},
   "outputs": [
    {
     "data": {
      "text/plain": [
       "(False, False, False, True, False, True, True)"
      ]
     },
     "execution_count": 59,
     "metadata": {},
     "output_type": "execute_result"
    }
   ],
   "source": [
    "movie1 = 'spider man 1'\n",
    "movie2 = 'hera pheri'\n",
    "movie3 = 'golmaal'\n",
    "movie4 = 'golmaal 2'\n",
    "movie5 = 'khatta meetha'\n",
    "movie6 = 'spider man 2'\n",
    "movie7 = 'hulk 2'\n",
    "\n",
    "movie1.endswith('2'), movie2.endswith('2'), movie3.endswith('2'), movie4.endswith('2'), movie5.endswith('2'), movie6.endswith('2'), movie7.endswith('2')"
   ]
  },
  {
   "cell_type": "markdown",
   "id": "c3d04434",
   "metadata": {},
   "source": [
    "# Main topic : Indexing"
   ]
  },
  {
   "cell_type": "code",
   "execution_count": 61,
   "id": "afe4d79e",
   "metadata": {},
   "outputs": [],
   "source": [
    "data = 'python'"
   ]
  },
  {
   "cell_type": "code",
   "execution_count": 62,
   "id": "d8c4ee56",
   "metadata": {},
   "outputs": [
    {
     "data": {
      "text/plain": [
       "6"
      ]
     },
     "execution_count": 62,
     "metadata": {},
     "output_type": "execute_result"
    }
   ],
   "source": [
    "len(data)"
   ]
  },
  {
   "cell_type": "markdown",
   "id": "5341a364",
   "metadata": {},
   "source": [
    "this 6 resembles the count of characters in the given string"
   ]
  },
  {
   "cell_type": "markdown",
   "id": "30f0f511",
   "metadata": {},
   "source": [
    "Note : The indices start with 0 and goes till (length-1)"
   ]
  },
  {
   "cell_type": "raw",
   "id": "8f8370bb",
   "metadata": {},
   "source": [
    "p y t h o n\n",
    "0 1 2 3 4 5"
   ]
  },
  {
   "cell_type": "markdown",
   "id": "1fc63500",
   "metadata": {},
   "source": [
    "### 1. Accessing individual elements - Indexing"
   ]
  },
  {
   "cell_type": "code",
   "execution_count": 63,
   "id": "a260cf49",
   "metadata": {},
   "outputs": [
    {
     "data": {
      "text/plain": [
       "'t'"
      ]
     },
     "execution_count": 63,
     "metadata": {},
     "output_type": "execute_result"
    }
   ],
   "source": [
    "data[2]"
   ]
  },
  {
   "cell_type": "code",
   "execution_count": 64,
   "id": "d81e60d9",
   "metadata": {},
   "outputs": [
    {
     "data": {
      "text/plain": [
       "'o'"
      ]
     },
     "execution_count": 64,
     "metadata": {},
     "output_type": "execute_result"
    }
   ],
   "source": [
    "data[4]"
   ]
  },
  {
   "cell_type": "code",
   "execution_count": null,
   "id": "b62b2776",
   "metadata": {},
   "outputs": [],
   "source": [
    "data = 'I am groot'\n",
    "# am = x\n",
    "'I x groot'"
   ]
  },
  {
   "cell_type": "raw",
   "id": "dc50a7f4",
   "metadata": {},
   "source": [
    "position extraction : returns a number that signifies the starting position of that element\n",
    "data extraction : returns a sub-string"
   ]
  },
  {
   "cell_type": "raw",
   "id": "a4d26698",
   "metadata": {},
   "source": [
    "position extraction example :\n",
    "     The position of 'am' in 'I am groot' is 2\n",
    "data extraction : \n",
    "    We extract 'am' from 'I am groot'"
   ]
  },
  {
   "cell_type": "markdown",
   "id": "5997d96a",
   "metadata": {},
   "source": [
    "### 2. Accessing a group of elements - Slicing"
   ]
  },
  {
   "cell_type": "raw",
   "id": "509a010a",
   "metadata": {},
   "source": [
    "syntax : string[starting_point:ending_point+1:step-size]\n",
    "\n",
    "- Note : slicing would always include the first positional element but it would always exclude the last positional element"
   ]
  },
  {
   "cell_type": "code",
   "execution_count": 65,
   "id": "955e26c9",
   "metadata": {},
   "outputs": [
    {
     "data": {
      "text/plain": [
       "'am'"
      ]
     },
     "execution_count": 65,
     "metadata": {},
     "output_type": "execute_result"
    }
   ],
   "source": [
    "data = 'I am groot'\n",
    "data[2:4]"
   ]
  },
  {
   "cell_type": "code",
   "execution_count": 74,
   "id": "e5a8da31",
   "metadata": {},
   "outputs": [
    {
     "data": {
      "text/plain": [
       "'12345'"
      ]
     },
     "execution_count": 74,
     "metadata": {},
     "output_type": "execute_result"
    }
   ],
   "source": [
    "data = '1234567890'\n",
    "\n",
    "data[:5]"
   ]
  },
  {
   "cell_type": "code",
   "execution_count": 75,
   "id": "a6100ef6",
   "metadata": {},
   "outputs": [
    {
     "data": {
      "text/plain": [
       "'67890'"
      ]
     },
     "execution_count": 75,
     "metadata": {},
     "output_type": "execute_result"
    }
   ],
   "source": [
    "data[5:]"
   ]
  },
  {
   "cell_type": "raw",
   "id": "2e13e0d8",
   "metadata": {},
   "source": [
    "1 2 3 4 5 6 7 8 9 0 #actual data\n",
    "0 1 2 3 4 5 6 7 8 9 #index"
   ]
  },
  {
   "cell_type": "code",
   "execution_count": 77,
   "id": "e509153c",
   "metadata": {},
   "outputs": [
    {
     "data": {
      "text/plain": [
       "'6789'"
      ]
     },
     "execution_count": 77,
     "metadata": {},
     "output_type": "execute_result"
    }
   ],
   "source": [
    "data[5:9]"
   ]
  },
  {
   "cell_type": "code",
   "execution_count": 135,
   "id": "5ee6f52f",
   "metadata": {},
   "outputs": [
    {
     "data": {
      "text/plain": [
       "'a,b,c,d,e,f,g,h,i,j,k,l,m,n,o,p,q,r,s,t,u,v,w,x,y,z'"
      ]
     },
     "execution_count": 135,
     "metadata": {},
     "output_type": "execute_result"
    }
   ],
   "source": [
    "data = 'a,b,c,d,e,f,g,h,i,j,k,l,m,n,o,p,q,r,s,t,u,v,w,x,y,z'\n",
    "data"
   ]
  },
  {
   "cell_type": "code",
   "execution_count": 81,
   "id": "0327b362",
   "metadata": {},
   "outputs": [
    {
     "data": {
      "text/plain": [
       "51"
      ]
     },
     "execution_count": 81,
     "metadata": {},
     "output_type": "execute_result"
    }
   ],
   "source": [
    "len(data)"
   ]
  },
  {
   "cell_type": "code",
   "execution_count": 85,
   "id": "0901db5f",
   "metadata": {},
   "outputs": [
    {
     "data": {
      "text/plain": [
       "'acegikmoqsuwy'"
      ]
     },
     "execution_count": 85,
     "metadata": {},
     "output_type": "execute_result"
    }
   ],
   "source": [
    "data[::4] # step size"
   ]
  },
  {
   "cell_type": "code",
   "execution_count": 104,
   "id": "e7d89e45",
   "metadata": {},
   "outputs": [
    {
     "data": {
      "text/plain": [
       "'z,y,x,w,v,u,t,s,r,q,p,o,n,m,l,k,j,i,h,g,f,e,d,c,b,a'"
      ]
     },
     "execution_count": 104,
     "metadata": {},
     "output_type": "execute_result"
    }
   ],
   "source": [
    "# Reversing a string\n",
    "data[::-1]"
   ]
  },
  {
   "cell_type": "code",
   "execution_count": 102,
   "id": "664e5eb0",
   "metadata": {},
   "outputs": [
    {
     "data": {
      "text/plain": [
       "'a,b,c,d,e,f,g,h,i,j,k,l,m,n,o,p,q,r,s,t,u,v,w,x,y,z'"
      ]
     },
     "execution_count": 102,
     "metadata": {},
     "output_type": "execute_result"
    }
   ],
   "source": [
    "data"
   ]
  },
  {
   "cell_type": "markdown",
   "id": "f4470b5e",
   "metadata": {},
   "source": [
    "## Rules of slicing\n",
    "- if start point is kept empty, it will assume the start point to be 0\n",
    "- if end point is kept empty, it would run till the end of the string\n",
    "- by default step-size is always equal to 1"
   ]
  },
  {
   "cell_type": "code",
   "execution_count": 141,
   "id": "1ec3f78e",
   "metadata": {},
   "outputs": [
    {
     "data": {
      "text/plain": [
       "'h,g,f,e,d,c,b'"
      ]
     },
     "execution_count": 141,
     "metadata": {},
     "output_type": "execute_result"
    }
   ],
   "source": [
    "data = 'a,b,c,d,e,f,g,h,i,j,k,l,m,n,o,p,q,r,s,t,u,v,w,x,y,z'\n",
    "data[2:15:][::-1] # [::-1] is used to reverse the string"
   ]
  },
  {
   "cell_type": "code",
   "execution_count": 128,
   "id": "4cc1d0da",
   "metadata": {},
   "outputs": [
    {
     "data": {
      "text/plain": [
       "'toorg'"
      ]
     },
     "execution_count": 128,
     "metadata": {},
     "output_type": "execute_result"
    }
   ],
   "source": [
    "data = 'I am groot'\n",
    "data[5:][::-1]"
   ]
  },
  {
   "cell_type": "markdown",
   "id": "bb949ac1",
   "metadata": {},
   "source": [
    "### Step-size in slicing"
   ]
  },
  {
   "cell_type": "markdown",
   "id": "fe6521ad",
   "metadata": {},
   "source": [
    "- We mention how many elements to skip while traversing over the data\n",
    "- the number of elements skipped would be equal to (stepsize-1)"
   ]
  },
  {
   "cell_type": "code",
   "execution_count": 133,
   "id": "34b88571",
   "metadata": {},
   "outputs": [
    {
     "data": {
      "text/plain": [
       "'13579'"
      ]
     },
     "execution_count": 133,
     "metadata": {},
     "output_type": "execute_result"
    }
   ],
   "source": [
    "data = '1234567890'\n",
    "data[::2]"
   ]
  },
  {
   "cell_type": "raw",
   "id": "9c9ec06e",
   "metadata": {},
   "source": [
    "a   b  c  d  e  f  g\n",
    "0   1  2  3  4  5  6 # positive index\n",
    "-7 -6 -5 -4 -3 -2 -1 # negative index"
   ]
  },
  {
   "cell_type": "code",
   "execution_count": 147,
   "id": "b5c9ea80",
   "metadata": {},
   "outputs": [
    {
     "name": "stdout",
     "output_type": "stream",
     "text": [
      "t\n",
      "t\n"
     ]
    }
   ],
   "source": [
    "data = 'I am groot'\n",
    "print(data[-1]) # negative indexing\n",
    "print(data[9]) #positive indexing"
   ]
  },
  {
   "cell_type": "raw",
   "id": "521ffbe0",
   "metadata": {},
   "source": [
    "I am groot\n",
    "\n",
    "I        0     -10\n",
    "space    1     -9\n",
    "a        2     -8\n",
    "m        3     -7\n",
    "space    4     -6\n",
    "g        5     -5\n",
    "r        6     -4\n",
    "o        7     -3\n",
    "o        8     -2\n",
    "t        9     -1"
   ]
  },
  {
   "cell_type": "raw",
   "id": "e62dca1e",
   "metadata": {},
   "source": [
    "positive indexing : It starts with (0) and ends with (length-1)\n",
    "negative indexing : It would start with -(length) and end with (-1)"
   ]
  },
  {
   "cell_type": "code",
   "execution_count": 152,
   "id": "7c03304b",
   "metadata": {},
   "outputs": [
    {
     "data": {
      "text/plain": [
       "('T', 'P', 'r')"
      ]
     },
     "execution_count": 152,
     "metadata": {},
     "output_type": "execute_result"
    }
   ],
   "source": [
    "data1 = 'Thor'\n",
    "data2 = 'Peacock'\n",
    "data3 = 'ramesh babu'\n",
    "\n",
    "data1[0], data2[0], data3[0]"
   ]
  },
  {
   "cell_type": "code",
   "execution_count": 155,
   "id": "dd0f6952",
   "metadata": {},
   "outputs": [
    {
     "data": {
      "text/plain": [
       "('r', 'k', 'u')"
      ]
     },
     "execution_count": 155,
     "metadata": {},
     "output_type": "execute_result"
    }
   ],
   "source": [
    "data1[-1], data2[-1], data3[-1]"
   ]
  },
  {
   "cell_type": "code",
   "execution_count": 162,
   "id": "107c6253",
   "metadata": {},
   "outputs": [
    {
     "data": {
      "text/plain": [
       "'groot'"
      ]
     },
     "execution_count": 162,
     "metadata": {},
     "output_type": "execute_result"
    }
   ],
   "source": [
    "data = 'I am not groot.'\n",
    "data[9:14]"
   ]
  },
  {
   "cell_type": "code",
   "execution_count": 165,
   "id": "50077396",
   "metadata": {},
   "outputs": [
    {
     "data": {
      "text/plain": [
       "'groot'"
      ]
     },
     "execution_count": 165,
     "metadata": {},
     "output_type": "execute_result"
    }
   ],
   "source": [
    "data[-6:-1]"
   ]
  },
  {
   "cell_type": "code",
   "execution_count": 173,
   "id": "92a1a2a6",
   "metadata": {},
   "outputs": [
    {
     "data": {
      "text/plain": [
       "'not'"
      ]
     },
     "execution_count": 173,
     "metadata": {},
     "output_type": "execute_result"
    }
   ],
   "source": [
    "data = 'I am not groot'\n",
    "data[5:8]"
   ]
  },
  {
   "cell_type": "code",
   "execution_count": 179,
   "id": "d3116daa",
   "metadata": {},
   "outputs": [
    {
     "data": {
      "text/plain": [
       "'not'"
      ]
     },
     "execution_count": 179,
     "metadata": {},
     "output_type": "execute_result"
    }
   ],
   "source": [
    "data = 'I am not groot'\n",
    "temp = 'not'\n",
    "\n",
    "temp_index = data.index(temp)\n",
    "start_point = temp_index\n",
    "end_point = start_point + len(temp)\n",
    "\n",
    "data[start_point:end_point]"
   ]
  },
  {
   "cell_type": "code",
   "execution_count": 168,
   "id": "e980b867",
   "metadata": {},
   "outputs": [
    {
     "data": {
      "text/plain": [
       "5"
      ]
     },
     "execution_count": 168,
     "metadata": {},
     "output_type": "execute_result"
    }
   ],
   "source": [
    "data.index('not')"
   ]
  },
  {
   "cell_type": "code",
   "execution_count": 170,
   "id": "9fbaad20",
   "metadata": {},
   "outputs": [
    {
     "data": {
      "text/plain": [
       "'p'"
      ]
     },
     "execution_count": 170,
     "metadata": {},
     "output_type": "execute_result"
    }
   ],
   "source": [
    "data[30]"
   ]
  },
  {
   "cell_type": "code",
   "execution_count": 172,
   "id": "45a36950",
   "metadata": {},
   "outputs": [
    {
     "data": {
      "text/plain": [
       "30"
      ]
     },
     "execution_count": 172,
     "metadata": {},
     "output_type": "execute_result"
    }
   ],
   "source": [
    "data = 'a,b,c,d,e,f,g,h,i,j,k,l,m,n,o,p,q,r,s,t,u,v,w,x,y,z'\n",
    "data.index('p')"
   ]
  }
 ],
 "metadata": {
  "kernelspec": {
   "display_name": "Python 3 (ipykernel)",
   "language": "python",
   "name": "python3"
  },
  "language_info": {
   "codemirror_mode": {
    "name": "ipython",
    "version": 3
   },
   "file_extension": ".py",
   "mimetype": "text/x-python",
   "name": "python",
   "nbconvert_exporter": "python",
   "pygments_lexer": "ipython3",
   "version": "3.9.12"
  }
 },
 "nbformat": 4,
 "nbformat_minor": 5
}

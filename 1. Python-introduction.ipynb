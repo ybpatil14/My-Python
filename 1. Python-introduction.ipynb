{
 "cells": [
  {
   "cell_type": "markdown",
   "id": "c0336a36",
   "metadata": {},
   "source": [
    "# Notations"
   ]
  },
  {
   "cell_type": "raw",
   "id": "030396ee",
   "metadata": {},
   "source": [
    "Cells :\n",
    "    blocks of codes"
   ]
  },
  {
   "cell_type": "raw",
   "id": "303399b2",
   "metadata": {},
   "source": [
    "Notations : \n",
    "    Header : Select `Markdown` in the code dropdown in the ribbon bar\n",
    "        press 1 on the cell on non-edit mode"
   ]
  },
  {
   "cell_type": "markdown",
   "id": "7673761d",
   "metadata": {},
   "source": [
    "# ex1. This is my new header"
   ]
  },
  {
   "cell_type": "raw",
   "id": "29dd140b",
   "metadata": {},
   "source": [
    "## ex2. This is my sub header"
   ]
  },
  {
   "cell_type": "raw",
   "id": "ca854647",
   "metadata": {},
   "source": [
    "# Neutral Text\n",
    "Write the text in the cell\n",
    "press 'R'"
   ]
  },
  {
   "cell_type": "raw",
   "id": "2a134ddc",
   "metadata": {},
   "source": [
    "ex. This is my neutral text. I pressed R to create it"
   ]
  },
  {
   "cell_type": "raw",
   "id": "c8bd05a2",
   "metadata": {},
   "source": [
    "Note : To convert the neutral texts or markdown texts back to codes\n",
    "    press Y"
   ]
  },
  {
   "cell_type": "markdown",
   "id": "654d7320",
   "metadata": {},
   "source": [
    "# I am Nilotpal Malakar\n",
    "## I am Nilotpal Malakar\n",
    "### I am Nilotpal Malakar\n",
    "#### I am Nilotpal Malakar\n",
    "##### I am Nilotpal Malakar\n",
    "###### I am Nilotpal Malakar\n",
    "\n",
    "I am Nilotpal Malakar.\n",
    "I live in Pune.\n",
    "I work as a Data Scientist."
   ]
  },
  {
   "cell_type": "raw",
   "id": "29aec558",
   "metadata": {},
   "source": [
    "I am Nilotpal Malakar"
   ]
  },
  {
   "cell_type": "raw",
   "id": "08a54a01",
   "metadata": {},
   "source": [
    "x = 55\n",
    "y = x+5"
   ]
  },
  {
   "cell_type": "raw",
   "id": "1331a356",
   "metadata": {},
   "source": [
    "Markdown cells would net preserve the linebreaks while raw text{neutral text} would preserve the line breaks"
   ]
  },
  {
   "cell_type": "markdown",
   "id": "4a7065b5",
   "metadata": {},
   "source": [
    "# Running the cells"
   ]
  },
  {
   "cell_type": "raw",
   "id": "6d7170bb",
   "metadata": {},
   "source": [
    "1. Write the code in the cell\n",
    "2. Shift + Enter OR Alt + Enter OR ctrl + Enter\n",
    "\n",
    "    - Shift + Enter : Would run the current cell and then move to the next cell\n",
    "    - Alt + Enter : Would run the current cell and stay at the current cell"
   ]
  },
  {
   "cell_type": "markdown",
   "id": "a56d0a40",
   "metadata": {},
   "source": [
    "# Working with cells in jupyter notebook"
   ]
  },
  {
   "cell_type": "code",
   "execution_count": null,
   "id": "fa626f3e",
   "metadata": {},
   "outputs": [],
   "source": [
    "Esc A : Adds a blank new cell above the current cell\n",
    "Esc B : Adds a blank new cell below the current cell\n",
    "Esc D D : Deletes a cell\n",
    "Esc X : cuts a cell\n",
    "Esc V : pastes a cell"
   ]
  }
 ],
 "metadata": {
  "kernelspec": {
   "display_name": "Python 3 (ipykernel)",
   "language": "python",
   "name": "python3"
  },
  "language_info": {
   "codemirror_mode": {
    "name": "ipython",
    "version": 3
   },
   "file_extension": ".py",
   "mimetype": "text/x-python",
   "name": "python",
   "nbconvert_exporter": "python",
   "pygments_lexer": "ipython3",
   "version": "3.9.12"
  }
 },
 "nbformat": 4,
 "nbformat_minor": 5
}

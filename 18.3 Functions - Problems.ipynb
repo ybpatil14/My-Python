{
 "cells": [
  {
   "cell_type": "markdown",
   "id": "a9c34c09",
   "metadata": {},
   "source": [
    "# Problem statement 1"
   ]
  },
  {
   "cell_type": "markdown",
   "id": "22d3421f",
   "metadata": {},
   "source": [
    "#### Create an alternative replace function for strings that would accept dictionaries as well for word replacements.\n",
    "- It should accept tuples/ lists or length 2 as well\n",
    "- In case a tuple or list is been passed, the first element would be the replacee and the second element would be the replacement\n",
    "- In case a dictionary is passed, the keys would be the replacee's and the values would be their corresponding replacements"
   ]
  },
  {
   "cell_type": "code",
   "execution_count": 3,
   "id": "55232de7",
   "metadata": {},
   "outputs": [
    {
     "data": {
      "text/plain": [
       "'I am Thor. I am the prince of asguard. I am here to invade.'"
      ]
     },
     "execution_count": 3,
     "metadata": {},
     "output_type": "execute_result"
    }
   ],
   "source": [
    "data = 'I am Groot. I am the prince of forest. I am here to help.'\n",
    "\n",
    "data.replace('Groot','Thor').replace('forest','asguard').replace('help','invade')"
   ]
  },
  {
   "cell_type": "raw",
   "id": "9addb3e5",
   "metadata": {},
   "source": [
    "data.replace({'Groot':'Thor', 'forest':'asguard', 'help':'invade'})# Should also work"
   ]
  },
  {
   "cell_type": "markdown",
   "id": "0f7b7b7d",
   "metadata": {},
   "source": [
    "### Student Solutions"
   ]
  },
  {
   "cell_type": "code",
   "execution_count": 42,
   "id": "1dd9ad27",
   "metadata": {},
   "outputs": [],
   "source": [
    "def alternative_replace_old(data, replacements):\n",
    "    '''Takes in the replacees and the replacements from the user and returns a string with replaced values\n",
    "    \n",
    "    replacements : tuple of length 2 or list or length 2 or a dictionary of n number of key value pairs'''\n",
    "    \n",
    "#     Handling the tuple or list values\n",
    "    if type(replacements) in [tuple, list]:\n",
    "        if len(replacements) == 2:\n",
    "            data = data.replace(replacements[0], replacements[1])\n",
    "    \n",
    "#     Handling the dictionary data\n",
    "    elif type(replacements) == dict:\n",
    "        for key in replacements:\n",
    "            data = data.replace(key, replacements.get(key))\n",
    "    else:\n",
    "        print('Bad input ! Please Check the data !')"
   ]
  },
  {
   "cell_type": "code",
   "execution_count": null,
   "id": "34395a2b",
   "metadata": {},
   "outputs": [],
   "source": []
  },
  {
   "cell_type": "code",
   "execution_count": 58,
   "id": "e6a748ad",
   "metadata": {},
   "outputs": [],
   "source": [
    "#-------------------------------------------------------------------Helper function\n",
    "def helper_replace(data, word, replacement):\n",
    "    '''Helper function for the replace function alternative\n",
    "    \n",
    "    data : string : main data to perform operations on\n",
    "    word : string : word to be replaced\n",
    "    replacement : string : word to replace with\n",
    "    \n",
    "    returns : data after performing the replacement'''\n",
    "    \n",
    "    splitted_data = data.split(word)\n",
    "    final_data = replacement.join(splitted_data)\n",
    "    \n",
    "    return final_data\n",
    "#-------------------------------------------------------------------Main function\n",
    "def alternative_replace_new(data, replacements):\n",
    "    '''Takes in the replacees and the replacements from the user and returns a string with replaced values\n",
    "    \n",
    "    replacements : tuple of length 2 or list or length 2 or a dictionary of n number of key value pairs'''\n",
    "    \n",
    "#     Handling the tuple or list values\n",
    "    if type(replacements) in [tuple, list]:\n",
    "        if len(replacements) == 2:\n",
    "            data = helper_replace(data, replacements[0], replacements[1])\n",
    "    \n",
    "#     Handling the dictionary data\n",
    "    elif type(replacements) == dict:\n",
    "        for word in replacements:\n",
    "#             print(f'Word : {word}')\n",
    "#             print(f'Replacement : {replacements.get(word)}')\n",
    "#             print(f'Old string : {data}')\n",
    "            data = helper_replace(data, word, replacements.get(word))\n",
    "#             print(f'New string : {data}')\n",
    "#             print()\n",
    "    else:\n",
    "        print('Bad input ! Please check the feed !')\n",
    "        \n",
    "    return data"
   ]
  },
  {
   "cell_type": "code",
   "execution_count": 59,
   "id": "d925f0b8",
   "metadata": {},
   "outputs": [],
   "source": [
    "replacements0 = ('am','is')\n",
    "replacements1 = ['the', 'THE']\n",
    "replacements2 = {'Groot':'Thor', 'forest':'asguard', 'help':'invade'}\n",
    "\n",
    "data = 'I am Groot. I am the prince of forest. I am here to help. Groot'"
   ]
  },
  {
   "cell_type": "code",
   "execution_count": 60,
   "id": "70fd4798",
   "metadata": {},
   "outputs": [
    {
     "name": "stdout",
     "output_type": "stream",
     "text": [
      "Word : Groot\n",
      "Replacement : Thor\n",
      "Old string : I am Groot. I am the prince of forest. I am here to help. Groot\n",
      "New string : I am Thor. I am the prince of forest. I am here to help. Thor\n",
      "\n",
      "Word : forest\n",
      "Replacement : asguard\n",
      "Old string : I am Thor. I am the prince of forest. I am here to help. Thor\n",
      "New string : I am Thor. I am the prince of asguard. I am here to help. Thor\n",
      "\n",
      "Word : help\n",
      "Replacement : invade\n",
      "Old string : I am Thor. I am the prince of asguard. I am here to help. Thor\n",
      "New string : I am Thor. I am the prince of asguard. I am here to invade. Thor\n",
      "\n"
     ]
    },
    {
     "data": {
      "text/plain": [
       "'I am Thor. I am the prince of asguard. I am here to invade. Thor'"
      ]
     },
     "execution_count": 60,
     "metadata": {},
     "output_type": "execute_result"
    }
   ],
   "source": [
    "alternative_replace_new(data, replacements2)"
   ]
  },
  {
   "cell_type": "code",
   "execution_count": 38,
   "id": "8dbc04af",
   "metadata": {},
   "outputs": [
    {
     "data": {
      "text/plain": [
       "'I is Groot. I is the prince of forest. I is here to help. Groot'"
      ]
     },
     "execution_count": 38,
     "metadata": {},
     "output_type": "execute_result"
    }
   ],
   "source": [
    "alternative_replace_new(data, replacements0)"
   ]
  },
  {
   "cell_type": "code",
   "execution_count": 39,
   "id": "2a1137d3",
   "metadata": {},
   "outputs": [
    {
     "data": {
      "text/plain": [
       "'I am Groot. I am THE prince of forest. I am here to help. Groot'"
      ]
     },
     "execution_count": 39,
     "metadata": {},
     "output_type": "execute_result"
    }
   ],
   "source": [
    "alternative_replace_new(data, replacements1)"
   ]
  },
  {
   "cell_type": "code",
   "execution_count": 40,
   "id": "d98c2229",
   "metadata": {},
   "outputs": [
    {
     "data": {
      "text/plain": [
       "'I am Thor. I am the prince of asguard. I am here to invade. Thor'"
      ]
     },
     "execution_count": 40,
     "metadata": {},
     "output_type": "execute_result"
    }
   ],
   "source": [
    "alternative_replace_new(data, replacements2)"
   ]
  },
  {
   "cell_type": "markdown",
   "id": "4f6e7202",
   "metadata": {},
   "source": [
    "----------------------------------------------------------------------------------------------------------------------"
   ]
  },
  {
   "cell_type": "code",
   "execution_count": null,
   "id": "b1f1e7f1",
   "metadata": {},
   "outputs": [],
   "source": []
  },
  {
   "cell_type": "code",
   "execution_count": 81,
   "id": "1c17b170",
   "metadata": {
    "scrolled": true
   },
   "outputs": [
    {
     "name": "stdout",
     "output_type": "stream",
     "text": [
      "Enter a number: 1340\n",
      "0\n",
      "4\n",
      "3\n",
      "1\n",
      "Reversed number: 431\n"
     ]
    }
   ],
   "source": [
    "# Reversing a number using while loop in Python\n",
    "n = int(input(\"Enter a number: \"))\n",
    "rev = 0\n",
    "\n",
    "while n!=0:\n",
    "    r = n%10\n",
    "    print(r)\n",
    "    rev = rev * 10 + r\n",
    "    n = n//10\n",
    "    \n",
    "print(\"Reversed number:\",rev)"
   ]
  },
  {
   "cell_type": "raw",
   "id": "a3bfcf20",
   "metadata": {},
   "source": [
    "### Logic\n",
    "\n",
    "# new final eqn : (old final*10) + rem\n",
    "\n",
    "stage 1 : final = 0, n = 1234\n",
    "stage 2 : final = (0*10) + 4 = 0 + 4 = 4, n = 123\n",
    "stage 3 : final = (4*10) + 3 = 40 + 3 = 43, n = 12\n",
    "stage 4 : final = (43*10) + 2 = 430 + 2 = 432, n = 1\n",
    "stage 5 : final = (432*10) + 1 = 4320 + 1 = 4321, n = 0"
   ]
  },
  {
   "cell_type": "code",
   "execution_count": null,
   "id": "8f224e5b",
   "metadata": {},
   "outputs": [],
   "source": []
  }
 ],
 "metadata": {
  "kernelspec": {
   "display_name": "Python 3 (ipykernel)",
   "language": "python",
   "name": "python3"
  },
  "language_info": {
   "codemirror_mode": {
    "name": "ipython",
    "version": 3
   },
   "file_extension": ".py",
   "mimetype": "text/x-python",
   "name": "python",
   "nbconvert_exporter": "python",
   "pygments_lexer": "ipython3",
   "version": "3.9.12"
  }
 },
 "nbformat": 4,
 "nbformat_minor": 5
}

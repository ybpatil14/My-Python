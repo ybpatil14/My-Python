{
 "cells": [
  {
   "cell_type": "markdown",
   "id": "ac0198cb",
   "metadata": {},
   "source": [
    "### 3 types of Numerical data-types\n",
    "- Integers\n",
    "- Floats\n",
    "- Complex\n",
    "\n",
    "- Integers : \n",
    "    - positive or negative whole numbers\n",
    "    - there is no decimal points\n",
    "    - applications : counts/ frequency\n",
    "- Float :\n",
    "    - positive or negative fractional elements\n",
    "    - There would always be a decimal point even if the values after the point is zero {2.0 is a float}\n",
    "    - applications : average, someone's weight etc\n",
    "Complex number : \n",
    "    - has a real and an imaginary part\n",
    "    - example : 5+6j"
   ]
  },
  {
   "cell_type": "markdown",
   "id": "71ea3da5",
   "metadata": {},
   "source": [
    "### Rules of operations :\n",
    "1. Operations between integers and integers:\n",
    "    - integer + integer = integer\n",
    "    - integer - integer = integer\n",
    "    - integer * integer = integer\n",
    "    - integer / integer = float\n",
    "2. Operations between a float and a float:\n",
    "    - float + float = float\n",
    "    - float - float = float\n",
    "    - float * float = float\n",
    "    - float / float = float\n",
    "3. operations between an integer and a float:\n",
    "    - It would always end up with a float"
   ]
  },
  {
   "cell_type": "raw",
   "id": "f8f4cf44",
   "metadata": {},
   "source": [
    "real_part + imaginary_part\n",
    "\n",
    "syntax of a complex number : (co-efficient of the real part)i + (co-efficient of the imaginary part)j\n",
    "co-efficient of the real part + (co-efficient of the inmaginary part)j : 5+6j"
   ]
  },
  {
   "cell_type": "markdown",
   "id": "6b836e69",
   "metadata": {},
   "source": [
    "### Initiating the numerical datatypes"
   ]
  },
  {
   "cell_type": "code",
   "execution_count": 1,
   "id": "95cd2289",
   "metadata": {},
   "outputs": [
    {
     "data": {
      "text/plain": [
       "(int, int)"
      ]
     },
     "execution_count": 1,
     "metadata": {},
     "output_type": "execute_result"
    }
   ],
   "source": [
    "# Integers\n",
    "x = 4\n",
    "y = int(4)\n",
    "\n",
    "type(x), type(y)"
   ]
  },
  {
   "cell_type": "code",
   "execution_count": 2,
   "id": "17e06868",
   "metadata": {},
   "outputs": [
    {
     "data": {
      "text/plain": [
       "(float, float)"
      ]
     },
     "execution_count": 2,
     "metadata": {},
     "output_type": "execute_result"
    }
   ],
   "source": [
    "# Float values\n",
    "a = 4.0\n",
    "b = float(-4.4)\n",
    "\n",
    "type(a), type(b)"
   ]
  },
  {
   "cell_type": "code",
   "execution_count": 4,
   "id": "5d408bd2",
   "metadata": {},
   "outputs": [
    {
     "name": "stdout",
     "output_type": "stream",
     "text": [
      "(5+9j) <class 'complex'>\n",
      "(45+56j) <class 'complex'>\n"
     ]
    }
   ],
   "source": [
    "# Complex numbers\n",
    "p = complex(5,9)\n",
    "print(p, type(p))\n",
    "\n",
    "q = 45+56j\n",
    "print(q, type(q))"
   ]
  },
  {
   "cell_type": "markdown",
   "id": "a987f07a",
   "metadata": {},
   "source": [
    "### Type casting"
   ]
  },
  {
   "cell_type": "code",
   "execution_count": null,
   "id": "1b65f823",
   "metadata": {},
   "outputs": [],
   "source": [
    "# Conversion of one data-type into another"
   ]
  },
  {
   "cell_type": "raw",
   "id": "1c474b5e",
   "metadata": {},
   "source": [
    "To typecast we have to provide the value inside the initializer of other data type"
   ]
  },
  {
   "cell_type": "raw",
   "id": "65346736",
   "metadata": {},
   "source": [
    "Initializers : {int(), float(), complex()}"
   ]
  },
  {
   "cell_type": "code",
   "execution_count": 7,
   "id": "9c36a716",
   "metadata": {},
   "outputs": [
    {
     "name": "stdout",
     "output_type": "stream",
     "text": [
      "55.0 <class 'float'>\n"
     ]
    }
   ],
   "source": [
    "# 1. int to float\n",
    "a = 55\n",
    "b = float(a)\n",
    "print(b, type(b))"
   ]
  },
  {
   "cell_type": "code",
   "execution_count": 24,
   "id": "7a2bfa15",
   "metadata": {},
   "outputs": [
    {
     "name": "stdout",
     "output_type": "stream",
     "text": [
      "6.5423 <class 'float'> 6 <class 'int'>\n"
     ]
    }
   ],
   "source": [
    "# 2. float to int\n",
    "# Note : We will loose data post the decimal point > removes everything after the decimal point\n",
    "x = 6.5423\n",
    "y = int(x) # will loose .5423 from the original values and the new value would be 6\n",
    "\n",
    "print(x,type(x), y, type(y))"
   ]
  },
  {
   "cell_type": "code",
   "execution_count": 25,
   "id": "576f3026",
   "metadata": {},
   "outputs": [
    {
     "name": "stdout",
     "output_type": "stream",
     "text": [
      "6.9999999999 6\n"
     ]
    }
   ],
   "source": [
    "a = 6.9999999999\n",
    "b = int(a)\n",
    "\n",
    "print(a,b)"
   ]
  },
  {
   "cell_type": "code",
   "execution_count": 27,
   "id": "413615c2",
   "metadata": {},
   "outputs": [
    {
     "data": {
      "text/plain": [
       "(67+0j)"
      ]
     },
     "execution_count": 27,
     "metadata": {},
     "output_type": "execute_result"
    }
   ],
   "source": [
    "# 3. integer to complex number\n",
    "z = 67\n",
    "complex(z)"
   ]
  },
  {
   "cell_type": "code",
   "execution_count": 29,
   "id": "017767eb",
   "metadata": {},
   "outputs": [
    {
     "ename": "TypeError",
     "evalue": "can't convert complex to int",
     "output_type": "error",
     "traceback": [
      "\u001b[0;31m---------------------------------------------------------------------------\u001b[0m",
      "\u001b[0;31mTypeError\u001b[0m                                 Traceback (most recent call last)",
      "Input \u001b[0;32mIn [29]\u001b[0m, in \u001b[0;36m<cell line: 2>\u001b[0;34m()\u001b[0m\n\u001b[1;32m      1\u001b[0m x \u001b[38;5;241m=\u001b[39m \u001b[38;5;28mcomplex\u001b[39m(\u001b[38;5;241m67\u001b[39m,\u001b[38;5;241m0\u001b[39m)\n\u001b[0;32m----> 2\u001b[0m \u001b[38;5;28;43mint\u001b[39;49m\u001b[43m(\u001b[49m\u001b[43mx\u001b[49m\u001b[43m)\u001b[49m\n",
      "\u001b[0;31mTypeError\u001b[0m: can't convert complex to int"
     ]
    }
   ],
   "source": [
    "x = complex(67,0)\n",
    "int(x)"
   ]
  },
  {
   "cell_type": "code",
   "execution_count": 30,
   "id": "656867d4",
   "metadata": {},
   "outputs": [
    {
     "data": {
      "text/plain": [
       "(55.4+0j)"
      ]
     },
     "execution_count": 30,
     "metadata": {},
     "output_type": "execute_result"
    }
   ],
   "source": [
    "b = 55.4\n",
    "complex(b)"
   ]
  },
  {
   "cell_type": "code",
   "execution_count": 31,
   "id": "86e9c911",
   "metadata": {},
   "outputs": [
    {
     "ename": "TypeError",
     "evalue": "can't convert complex to float",
     "output_type": "error",
     "traceback": [
      "\u001b[0;31m---------------------------------------------------------------------------\u001b[0m",
      "\u001b[0;31mTypeError\u001b[0m                                 Traceback (most recent call last)",
      "Input \u001b[0;32mIn [31]\u001b[0m, in \u001b[0;36m<cell line: 1>\u001b[0;34m()\u001b[0m\n\u001b[0;32m----> 1\u001b[0m \u001b[38;5;28;43mfloat\u001b[39;49m\u001b[43m(\u001b[49m\u001b[38;5;28;43mcomplex\u001b[39;49m\u001b[43m(\u001b[49m\u001b[43mb\u001b[49m\u001b[43m)\u001b[49m\u001b[43m)\u001b[49m\n",
      "\u001b[0;31mTypeError\u001b[0m: can't convert complex to float"
     ]
    }
   ],
   "source": [
    "float(complex(b))"
   ]
  },
  {
   "cell_type": "markdown",
   "id": "0acbb6ff",
   "metadata": {},
   "source": [
    "1. Possibilities:\n",
    "    - int > float\n",
    "    - int > complex\n",
    "    - float > int {Might lead to loss of data}\n",
    "    - float > complex\n",
    "    \n",
    "2. Not possible : \n",
    "    - complex > int\n",
    "    - complex > float"
   ]
  },
  {
   "cell_type": "markdown",
   "id": "dae531fb",
   "metadata": {},
   "source": [
    "# Phase II : Arithematic Operations"
   ]
  },
  {
   "cell_type": "raw",
   "id": "e55e5adc",
   "metadata": {},
   "source": [
    "Whenever we are performing any kind of mathematical operation on any set of numbers, we are applying arithematic operations"
   ]
  },
  {
   "cell_type": "raw",
   "id": "e71c615d",
   "metadata": {},
   "source": [
    "1. Arithematic Operators : Would always return a numeric value\n",
    "    - + : Addition\n",
    "    - - : Subtraction\n",
    "    - * : Multiplication\n",
    "    - / : Division\n",
    "    - // : Floor division (returns the integer value of the Quotient)\n",
    "    - % : Modulus {Remainder of a division}\n",
    "    - = : assignment operator {Used to assign/update a value to a variable}\n",
    "\n",
    "2. Comparison operators : Would always return a boolean value\n",
    "    - == : Equating {Returns a boolean : True/False}\n",
    "    - != : Reverse of equating operator/ Not equal to\n",
    "    - >, < : Greater than or less than : Compares the values : Returns boolean\n",
    "    - >=, <= : greater than or equals to and less than or equals to : Compares : Returns boolean value"
   ]
  },
  {
   "cell_type": "code",
   "execution_count": 33,
   "id": "3a46ba09",
   "metadata": {},
   "outputs": [
    {
     "data": {
      "text/plain": [
       "(61, 51, 280, 11.2)"
      ]
     },
     "execution_count": 33,
     "metadata": {},
     "output_type": "execute_result"
    }
   ],
   "source": [
    "# General arithematic operations\n",
    "a = 56\n",
    "b = 5\n",
    "\n",
    "a+b, a-b, a*b, a/b"
   ]
  },
  {
   "cell_type": "code",
   "execution_count": 37,
   "id": "660ccdf7",
   "metadata": {},
   "outputs": [
    {
     "data": {
      "text/plain": [
       "(11, 11)"
      ]
     },
     "execution_count": 37,
     "metadata": {},
     "output_type": "execute_result"
    }
   ],
   "source": [
    "# Floor division : returns the truncated integer value of the Quotient\n",
    "int(56/5), 56//5"
   ]
  },
  {
   "cell_type": "code",
   "execution_count": 39,
   "id": "3a3b7c87",
   "metadata": {},
   "outputs": [
    {
     "data": {
      "text/plain": [
       "1"
      ]
     },
     "execution_count": 39,
     "metadata": {},
     "output_type": "execute_result"
    }
   ],
   "source": [
    "# Modulus operator\n",
    "# x/y : remainder\n",
    "# % : x%y\n",
    "a%b"
   ]
  },
  {
   "cell_type": "code",
   "execution_count": 44,
   "id": "587759ec",
   "metadata": {},
   "outputs": [
    {
     "name": "stdout",
     "output_type": "stream",
     "text": [
      "Equation : 75 = 4 * 18 + 3\n"
     ]
    }
   ],
   "source": [
    "# Dummy Program\n",
    "# To print the equation of division\n",
    "number1 = 75\n",
    "number2 = 4\n",
    "\n",
    "quotient = number1//number2\n",
    "remainder = number1%number2\n",
    "\n",
    "# Dividend = Divisor * Quotient + Remainder\n",
    "print(f'Equation : {number1} = {number2} * {quotient} + {remainder}')"
   ]
  },
  {
   "cell_type": "code",
   "execution_count": 47,
   "id": "85630df3",
   "metadata": {},
   "outputs": [
    {
     "data": {
      "text/plain": [
       "True"
      ]
     },
     "execution_count": 47,
     "metadata": {},
     "output_type": "execute_result"
    }
   ],
   "source": [
    "# Equating operator > retuens boolean value\n",
    "x = 55\n",
    "y = 5\n",
    "a = 66\n",
    "b = 6\n",
    "\n",
    "x/y == a/b"
   ]
  },
  {
   "cell_type": "code",
   "execution_count": 50,
   "id": "533f15ea",
   "metadata": {},
   "outputs": [],
   "source": [
    "# Assignment operator\n",
    "p = 56"
   ]
  },
  {
   "cell_type": "code",
   "execution_count": 54,
   "id": "50a80101",
   "metadata": {},
   "outputs": [
    {
     "name": "stdout",
     "output_type": "stream",
     "text": [
      "Ram and Shyam are not of same age !\n"
     ]
    }
   ],
   "source": [
    "# Dummy program 2\n",
    "# Not Equal to > returns boolean value\n",
    "person1 = 'Ram'\n",
    "person2 = 'Shyam'\n",
    "person1_age = 45\n",
    "person2_age = 22\n",
    "\n",
    "if person1_age!=person2_age:\n",
    "    print(f'{person1} and {person2} are not of same age !')\n",
    "if person1_age == person2_age:\n",
    "    print(f'{person1} and {person2} are of same age !')"
   ]
  },
  {
   "cell_type": "raw",
   "id": "d4e5245d",
   "metadata": {},
   "source": [
    "# Syntaxes for omparision operators\n",
    "# primary sign secondary sign\n",
    "\n",
    "not equals : !(not)=(equals to) : != : Right syntax\n",
    "           : =(equals to)!(not) : =! : Wrong syntax\n",
    "less than or equal to : <= : Right syntax\n",
    "                      : =< : Wrong syntax\n",
    "greater than or equal to : >= : Right syntax\n",
    "                         : => : Wrong syntax"
   ]
  },
  {
   "cell_type": "code",
   "execution_count": 64,
   "id": "20205204",
   "metadata": {},
   "outputs": [
    {
     "data": {
      "text/plain": [
       "True"
      ]
     },
     "execution_count": 64,
     "metadata": {},
     "output_type": "execute_result"
    }
   ],
   "source": [
    "a = 55\n",
    "b = 34\n",
    "\n",
    "a!=b"
   ]
  },
  {
   "cell_type": "code",
   "execution_count": 62,
   "id": "917a79ba",
   "metadata": {},
   "outputs": [],
   "source": [
    "a=!b #wrong syntax"
   ]
  },
  {
   "cell_type": "code",
   "execution_count": 65,
   "id": "2d96317a",
   "metadata": {},
   "outputs": [
    {
     "data": {
      "text/plain": [
       "True"
      ]
     },
     "execution_count": 65,
     "metadata": {},
     "output_type": "execute_result"
    }
   ],
   "source": [
    "a>=b"
   ]
  },
  {
   "cell_type": "code",
   "execution_count": 66,
   "id": "b20d7903",
   "metadata": {},
   "outputs": [
    {
     "ename": "SyntaxError",
     "evalue": "invalid syntax (3983463657.py, line 1)",
     "output_type": "error",
     "traceback": [
      "\u001b[0;36m  Input \u001b[0;32mIn [66]\u001b[0;36m\u001b[0m\n\u001b[0;31m    a=>b\u001b[0m\n\u001b[0m      ^\u001b[0m\n\u001b[0;31mSyntaxError\u001b[0m\u001b[0;31m:\u001b[0m invalid syntax\n"
     ]
    }
   ],
   "source": [
    "a=>b"
   ]
  },
  {
   "cell_type": "code",
   "execution_count": 67,
   "id": "3583a5c6",
   "metadata": {},
   "outputs": [
    {
     "data": {
      "text/plain": [
       "False"
      ]
     },
     "execution_count": 67,
     "metadata": {},
     "output_type": "execute_result"
    }
   ],
   "source": [
    "a = 55\n",
    "b = 34\n",
    "\n",
    "a<=b"
   ]
  },
  {
   "cell_type": "code",
   "execution_count": 68,
   "id": "0cd5466b",
   "metadata": {},
   "outputs": [
    {
     "ename": "SyntaxError",
     "evalue": "invalid syntax (316874081.py, line 1)",
     "output_type": "error",
     "traceback": [
      "\u001b[0;36m  Input \u001b[0;32mIn [68]\u001b[0;36m\u001b[0m\n\u001b[0;31m    a=<b\u001b[0m\n\u001b[0m      ^\u001b[0m\n\u001b[0;31mSyntaxError\u001b[0m\u001b[0;31m:\u001b[0m invalid syntax\n"
     ]
    }
   ],
   "source": [
    "a=<b"
   ]
  },
  {
   "cell_type": "code",
   "execution_count": null,
   "id": "dbf803c6",
   "metadata": {},
   "outputs": [],
   "source": [
    "# Problem 1:\n",
    "# Take 5 numbers\n",
    "# print the average of them"
   ]
  }
 ],
 "metadata": {
  "kernelspec": {
   "display_name": "Python 3 (ipykernel)",
   "language": "python",
   "name": "python3"
  },
  "language_info": {
   "codemirror_mode": {
    "name": "ipython",
    "version": 3
   },
   "file_extension": ".py",
   "mimetype": "text/x-python",
   "name": "python",
   "nbconvert_exporter": "python",
   "pygments_lexer": "ipython3",
   "version": "3.9.13"
  }
 },
 "nbformat": 4,
 "nbformat_minor": 5
}

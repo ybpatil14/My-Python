{
 "cells": [
  {
   "cell_type": "raw",
   "id": "0e9d52b8",
   "metadata": {},
   "source": [
    "Iterations : Repititions or cycles\n",
    "    \n",
    "Loops are used to iterate over things"
   ]
  },
  {
   "cell_type": "raw",
   "id": "fd9cdee6",
   "metadata": {},
   "source": [
    "'123456'\n",
    "\n",
    "'1'\n",
    "'2'\n",
    "'3'\n",
    "'4'\n",
    "'5'\n",
    "'6'"
   ]
  },
  {
   "cell_type": "markdown",
   "id": "019e66cf",
   "metadata": {},
   "source": [
    "### Two types of loops:\n",
    "    1. For loops\n",
    "    2. While loops"
   ]
  },
  {
   "cell_type": "markdown",
   "id": "52832b2c",
   "metadata": {},
   "source": [
    "For loop syntax : \n",
    "- for{keyword} temp{temporary variable to store the data in} in data{source(collection data type)}:"
   ]
  },
  {
   "cell_type": "code",
   "execution_count": 10,
   "id": "283647d8",
   "metadata": {},
   "outputs": [],
   "source": [
    "data = 'abcde'"
   ]
  },
  {
   "cell_type": "code",
   "execution_count": 11,
   "id": "6ab6b9af",
   "metadata": {},
   "outputs": [
    {
     "name": "stdout",
     "output_type": "stream",
     "text": [
      "cycle : 1\n",
      "temp : a\n",
      "\n",
      "cycle : 2\n",
      "temp : b\n",
      "\n",
      "cycle : 3\n",
      "temp : c\n",
      "\n",
      "cycle : 4\n",
      "temp : d\n",
      "\n",
      "cycle : 5\n",
      "temp : e\n",
      "\n"
     ]
    }
   ],
   "source": [
    "cycle = 1\n",
    "for temp in data:\n",
    "    print(f'cycle : {cycle}')\n",
    "    print(f'temp : {temp}')\n",
    "    print()\n",
    "    cycle = cycle + 1"
   ]
  },
  {
   "cell_type": "code",
   "execution_count": 14,
   "id": "3d17e86f",
   "metadata": {},
   "outputs": [
    {
     "name": "stdout",
     "output_type": "stream",
     "text": [
      "1\n",
      "2\n",
      "3\n"
     ]
    }
   ],
   "source": [
    "data = 'abc123ab'\n",
    "for temp in data:\n",
    "    if temp.isnumeric():\n",
    "        print(temp)"
   ]
  },
  {
   "cell_type": "code",
   "execution_count": 30,
   "id": "aeb92b9f",
   "metadata": {},
   "outputs": [
    {
     "name": "stdout",
     "output_type": "stream",
     "text": [
      "1\n",
      "2\n",
      "3\n",
      "4\n",
      "5\n",
      "a\n",
      "b\n",
      "c\n",
      "a\n",
      "b\n",
      "I am Groot !\n"
     ]
    }
   ],
   "source": [
    "data = '12345abcab'\n",
    "\n",
    "for i in data:\n",
    "    print(i)\n",
    "\n",
    "print('I am Groot !')"
   ]
  },
  {
   "cell_type": "code",
   "execution_count": 31,
   "id": "34096fd6",
   "metadata": {},
   "outputs": [
    {
     "name": "stdout",
     "output_type": "stream",
     "text": [
      "1\n",
      "I am Groot !\n",
      "2\n",
      "I am Groot !\n",
      "3\n",
      "I am Groot !\n",
      "4\n",
      "I am Groot !\n",
      "5\n",
      "I am Groot !\n",
      "a\n",
      "I am Groot !\n",
      "b\n",
      "I am Groot !\n",
      "c\n",
      "I am Groot !\n",
      "a\n",
      "I am Groot !\n",
      "b\n",
      "I am Groot !\n"
     ]
    }
   ],
   "source": [
    "data = '12345abcab'\n",
    "\n",
    "for i in data:\n",
    "    print(i)\n",
    "    print('I am Groot !')"
   ]
  },
  {
   "cell_type": "code",
   "execution_count": null,
   "id": "308b2253",
   "metadata": {},
   "outputs": [],
   "source": []
  },
  {
   "cell_type": "code",
   "execution_count": 32,
   "id": "c60d32a3",
   "metadata": {},
   "outputs": [
    {
     "name": "stdout",
     "output_type": "stream",
     "text": [
      "1\n",
      "2\n",
      "3\n",
      ".\n",
      "2\n",
      "3\n",
      "4\n",
      ".\n",
      "5\n",
      "6\n",
      "7\n"
     ]
    }
   ],
   "source": [
    "data = '123.234.567'\n",
    "for num in data:\n",
    "    print(num)"
   ]
  },
  {
   "cell_type": "code",
   "execution_count": 33,
   "id": "9db69cdb",
   "metadata": {},
   "outputs": [
    {
     "name": "stdout",
     "output_type": "stream",
     "text": [
      "1\n",
      "2\n",
      "3\n",
      ".\n",
      "2\n",
      "3\n",
      "4\n",
      ".\n",
      "5\n",
      "6\n",
      "7\n"
     ]
    }
   ],
   "source": [
    "for item in data:\n",
    "    print(item)"
   ]
  },
  {
   "cell_type": "code",
   "execution_count": 34,
   "id": "dd8d4227",
   "metadata": {},
   "outputs": [
    {
     "name": "stdout",
     "output_type": "stream",
     "text": [
      "1\n",
      "2\n",
      "3\n",
      ".\n",
      "2\n",
      "3\n",
      "4\n",
      ".\n",
      "5\n",
      "6\n",
      "7\n"
     ]
    }
   ],
   "source": [
    "for character in data:\n",
    "    print(character)"
   ]
  },
  {
   "cell_type": "code",
   "execution_count": 48,
   "id": "d578208c",
   "metadata": {},
   "outputs": [
    {
     "name": "stdout",
     "output_type": "stream",
     "text": [
      "The actual value of i is : 1\n",
      "The modified value of i is : 10\n",
      "\n",
      "The actual value of i is : 2\n",
      "The modified value of i is : 20\n",
      "\n",
      "The actual value of i is : 3\n",
      "The modified value of i is : 30\n",
      "\n",
      "The actual value of i is : 4\n",
      "The modified value of i is : 40\n",
      "\n"
     ]
    }
   ],
   "source": [
    "data = '1234'\n",
    "\n",
    "for i in data:\n",
    "    print(f'The actual value of i is : {i}')\n",
    "    i = i+'0'\n",
    "    print(f'The modified value of i is : {i}')\n",
    "    print()"
   ]
  },
  {
   "cell_type": "code",
   "execution_count": 49,
   "id": "50369a1e",
   "metadata": {},
   "outputs": [
    {
     "name": "stdout",
     "output_type": "stream",
     "text": [
      "40\n"
     ]
    }
   ],
   "source": [
    "print(i)"
   ]
  },
  {
   "cell_type": "code",
   "execution_count": 53,
   "id": "3574af9e",
   "metadata": {},
   "outputs": [
    {
     "name": "stdout",
     "output_type": "stream",
     "text": [
      "<class 'str'>\n",
      "<class 'str'>\n",
      "<class 'str'>\n",
      "<class 'str'>\n"
     ]
    }
   ],
   "source": [
    "data = '1234'\n",
    "for i in data:\n",
    "    print(type(i))"
   ]
  },
  {
   "cell_type": "code",
   "execution_count": 51,
   "id": "cdb97d8d",
   "metadata": {},
   "outputs": [
    {
     "name": "stdout",
     "output_type": "stream",
     "text": [
      "4\n"
     ]
    }
   ],
   "source": [
    "print(i)"
   ]
  },
  {
   "cell_type": "code",
   "execution_count": 52,
   "id": "ce5b7278",
   "metadata": {},
   "outputs": [
    {
     "data": {
      "text/plain": [
       "'1234'"
      ]
     },
     "execution_count": 52,
     "metadata": {},
     "output_type": "execute_result"
    }
   ],
   "source": [
    "data = '1234'\n",
    "'1'+'2'+'3'+'4'"
   ]
  }
 ],
 "metadata": {
  "kernelspec": {
   "display_name": "Python 3 (ipykernel)",
   "language": "python",
   "name": "python3"
  },
  "language_info": {
   "codemirror_mode": {
    "name": "ipython",
    "version": 3
   },
   "file_extension": ".py",
   "mimetype": "text/x-python",
   "name": "python",
   "nbconvert_exporter": "python",
   "pygments_lexer": "ipython3",
   "version": "3.9.13"
  }
 },
 "nbformat": 4,
 "nbformat_minor": 5
}

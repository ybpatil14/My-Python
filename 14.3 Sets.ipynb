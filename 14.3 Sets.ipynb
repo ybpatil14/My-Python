{
 "cells": [
  {
   "cell_type": "markdown",
   "id": "78a32d89",
   "metadata": {},
   "source": [
    "### 10. add"
   ]
  },
  {
   "cell_type": "raw",
   "id": "906bdc65",
   "metadata": {},
   "source": [
    "syntax : set.add()"
   ]
  },
  {
   "cell_type": "markdown",
   "id": "c18f3d68",
   "metadata": {},
   "source": [
    "- it is primarily used to push elements inside n already existing set\n",
    "- inplace operation"
   ]
  },
  {
   "cell_type": "code",
   "execution_count": 2,
   "id": "51e05565",
   "metadata": {},
   "outputs": [],
   "source": [
    "set1 = {1,2,3,4,5}\n",
    "set1.add(55)"
   ]
  },
  {
   "cell_type": "code",
   "execution_count": 3,
   "id": "363db8ca",
   "metadata": {},
   "outputs": [
    {
     "data": {
      "text/plain": [
       "{1, 2, 3, 4, 5, 55}"
      ]
     },
     "execution_count": 3,
     "metadata": {},
     "output_type": "execute_result"
    }
   ],
   "source": [
    "set1"
   ]
  },
  {
   "cell_type": "code",
   "execution_count": 4,
   "id": "d5d8d185",
   "metadata": {},
   "outputs": [
    {
     "ename": "TypeError",
     "evalue": "unhashable type: 'set'",
     "output_type": "error",
     "traceback": [
      "\u001b[0;31m---------------------------------------------------------------------------\u001b[0m",
      "\u001b[0;31mTypeError\u001b[0m                                 Traceback (most recent call last)",
      "Input \u001b[0;32mIn [4]\u001b[0m, in \u001b[0;36m<cell line: 4>\u001b[0;34m()\u001b[0m\n\u001b[1;32m      1\u001b[0m set1 \u001b[38;5;241m=\u001b[39m {\u001b[38;5;241m1\u001b[39m,\u001b[38;5;241m2\u001b[39m,\u001b[38;5;241m3\u001b[39m,\u001b[38;5;241m4\u001b[39m,\u001b[38;5;241m5\u001b[39m}\n\u001b[1;32m      2\u001b[0m set2 \u001b[38;5;241m=\u001b[39m {\u001b[38;5;241m1\u001b[39m,\u001b[38;5;241m9\u001b[39m,\u001b[38;5;241m0\u001b[39m}\n\u001b[0;32m----> 4\u001b[0m \u001b[43mset1\u001b[49m\u001b[38;5;241;43m.\u001b[39;49m\u001b[43madd\u001b[49m\u001b[43m(\u001b[49m\u001b[43mset2\u001b[49m\u001b[43m)\u001b[49m\n",
      "\u001b[0;31mTypeError\u001b[0m: unhashable type: 'set'"
     ]
    }
   ],
   "source": [
    "set1 = {1,2,3,4,5}\n",
    "set2 = {1,9,0}\n",
    "\n",
    "set1.add(set2)"
   ]
  },
  {
   "cell_type": "code",
   "execution_count": 7,
   "id": "f4f24343",
   "metadata": {},
   "outputs": [
    {
     "ename": "TypeError",
     "evalue": "unhashable type: 'list'",
     "output_type": "error",
     "traceback": [
      "\u001b[0;31m---------------------------------------------------------------------------\u001b[0m",
      "\u001b[0;31mTypeError\u001b[0m                                 Traceback (most recent call last)",
      "Input \u001b[0;32mIn [7]\u001b[0m, in \u001b[0;36m<cell line: 4>\u001b[0;34m()\u001b[0m\n\u001b[1;32m      1\u001b[0m set1 \u001b[38;5;241m=\u001b[39m {\u001b[38;5;241m1\u001b[39m,\u001b[38;5;241m2\u001b[39m,\u001b[38;5;241m3\u001b[39m,\u001b[38;5;241m4\u001b[39m,\u001b[38;5;241m5\u001b[39m}\n\u001b[1;32m      2\u001b[0m set2 \u001b[38;5;241m=\u001b[39m [\u001b[38;5;241m1\u001b[39m,\u001b[38;5;241m9\u001b[39m,\u001b[38;5;241m0\u001b[39m]\n\u001b[0;32m----> 4\u001b[0m \u001b[43mset1\u001b[49m\u001b[38;5;241;43m.\u001b[39;49m\u001b[43madd\u001b[49m\u001b[43m(\u001b[49m\u001b[43mset2\u001b[49m\u001b[43m)\u001b[49m\n\u001b[1;32m      5\u001b[0m set1\n",
      "\u001b[0;31mTypeError\u001b[0m: unhashable type: 'list'"
     ]
    }
   ],
   "source": [
    "set1 = {1,2,3,4,5}\n",
    "set2 = [1,9,0]\n",
    "\n",
    "set1.add(set2)\n",
    "set1"
   ]
  },
  {
   "cell_type": "code",
   "execution_count": 8,
   "id": "9cf7ec4c",
   "metadata": {},
   "outputs": [
    {
     "data": {
      "text/plain": [
       "{(1, 9, 0), 1, 2, 3, 4, 5}"
      ]
     },
     "execution_count": 8,
     "metadata": {},
     "output_type": "execute_result"
    }
   ],
   "source": [
    "set1 = {1,2,3,4,5}\n",
    "set2 = [1,9,0]\n",
    "\n",
    "set1.add(tuple(set2))\n",
    "set1"
   ]
  },
  {
   "cell_type": "code",
   "execution_count": 5,
   "id": "417ebb70",
   "metadata": {},
   "outputs": [],
   "source": [
    "set1 = {1,2,3,4,5}\n",
    "set2 = (1,9,0)\n",
    "\n",
    "set1.add(set2)"
   ]
  },
  {
   "cell_type": "code",
   "execution_count": 6,
   "id": "6cd5f29a",
   "metadata": {},
   "outputs": [
    {
     "data": {
      "text/plain": [
       "{(1, 9, 0), 1, 2, 3, 4, 5}"
      ]
     },
     "execution_count": 6,
     "metadata": {},
     "output_type": "execute_result"
    }
   ],
   "source": [
    "set1"
   ]
  },
  {
   "cell_type": "markdown",
   "id": "9ac12427",
   "metadata": {},
   "source": [
    "### 11. update"
   ]
  },
  {
   "cell_type": "raw",
   "id": "0b51ef3e",
   "metadata": {},
   "source": [
    "set1.update(iterable1)"
   ]
  },
  {
   "cell_type": "markdown",
   "id": "2eaf016f",
   "metadata": {},
   "source": [
    "- It would add the vakues of the second iterable into the first set\n",
    "- inplace operation"
   ]
  },
  {
   "cell_type": "code",
   "execution_count": 49,
   "id": "97b05b4e",
   "metadata": {},
   "outputs": [],
   "source": [
    "set1 = {1,2,3,4,5}\n",
    "list1 = ['Groot', 'Iron Man', 'Hulk', 'Thor']\n",
    "\n",
    "set1.update(list1)"
   ]
  },
  {
   "cell_type": "code",
   "execution_count": 50,
   "id": "3896c014",
   "metadata": {},
   "outputs": [
    {
     "data": {
      "text/plain": [
       "{1, 2, 3, 4, 5, 'Groot', 'Hulk', 'Iron Man', 'Thor'}"
      ]
     },
     "execution_count": 50,
     "metadata": {},
     "output_type": "execute_result"
    }
   ],
   "source": [
    "set1"
   ]
  },
  {
   "cell_type": "code",
   "execution_count": 58,
   "id": "42b70d29",
   "metadata": {},
   "outputs": [
    {
     "ename": "TypeError",
     "evalue": "unhashable type: 'list'",
     "output_type": "error",
     "traceback": [
      "\u001b[0;31m---------------------------------------------------------------------------\u001b[0m",
      "\u001b[0;31mTypeError\u001b[0m                                 Traceback (most recent call last)",
      "Input \u001b[0;32mIn [58]\u001b[0m, in \u001b[0;36m<cell line: 4>\u001b[0;34m()\u001b[0m\n\u001b[1;32m      1\u001b[0m set1 \u001b[38;5;241m=\u001b[39m {\u001b[38;5;241m1\u001b[39m,\u001b[38;5;241m2\u001b[39m,\u001b[38;5;241m3\u001b[39m,\u001b[38;5;241m4\u001b[39m,\u001b[38;5;241m5\u001b[39m}\n\u001b[1;32m      2\u001b[0m list1 \u001b[38;5;241m=\u001b[39m [[\u001b[38;5;124m'\u001b[39m\u001b[38;5;124mGroot\u001b[39m\u001b[38;5;124m'\u001b[39m, \u001b[38;5;124m'\u001b[39m\u001b[38;5;124mIron Man\u001b[39m\u001b[38;5;124m'\u001b[39m, \u001b[38;5;124m'\u001b[39m\u001b[38;5;124mHulk\u001b[39m\u001b[38;5;124m'\u001b[39m, \u001b[38;5;124m'\u001b[39m\u001b[38;5;124mThor\u001b[39m\u001b[38;5;124m'\u001b[39m]]\n\u001b[0;32m----> 4\u001b[0m \u001b[43mset1\u001b[49m\u001b[38;5;241;43m.\u001b[39;49m\u001b[43mupdate\u001b[49m\u001b[43m(\u001b[49m\u001b[43mlist1\u001b[49m\u001b[43m)\u001b[49m\n\u001b[1;32m      5\u001b[0m set1\n",
      "\u001b[0;31mTypeError\u001b[0m: unhashable type: 'list'"
     ]
    }
   ],
   "source": [
    "set1 = {1,2,3,4,5}\n",
    "list1 = [['Groot', 'Iron Man', 'Hulk', 'Thor']]\n",
    "\n",
    "set1.update(list1)\n",
    "set1"
   ]
  },
  {
   "cell_type": "markdown",
   "id": "42adb405",
   "metadata": {},
   "source": [
    "### 12. discard"
   ]
  },
  {
   "cell_type": "raw",
   "id": "f69436e2",
   "metadata": {},
   "source": [
    "syntax : set.discard(element)"
   ]
  },
  {
   "cell_type": "markdown",
   "id": "0128fd91",
   "metadata": {},
   "source": [
    "- to remove elements from a set\n",
    "- inplace operation\n",
    "- if the element is not present, it wont throw errors"
   ]
  },
  {
   "cell_type": "code",
   "execution_count": 9,
   "id": "aa242832",
   "metadata": {},
   "outputs": [
    {
     "data": {
      "text/plain": [
       "{1, 2, 3, 4}"
      ]
     },
     "execution_count": 9,
     "metadata": {},
     "output_type": "execute_result"
    }
   ],
   "source": [
    "set1 = {1,2,3,4,5}\n",
    "set1.discard(5)\n",
    "set1"
   ]
  },
  {
   "cell_type": "code",
   "execution_count": 10,
   "id": "a492d000",
   "metadata": {},
   "outputs": [],
   "source": [
    "set1.discard(55)"
   ]
  },
  {
   "cell_type": "code",
   "execution_count": 11,
   "id": "148ca164",
   "metadata": {},
   "outputs": [
    {
     "data": {
      "text/plain": [
       "{1, 2, 3, 4}"
      ]
     },
     "execution_count": 11,
     "metadata": {},
     "output_type": "execute_result"
    }
   ],
   "source": [
    "set1"
   ]
  },
  {
   "cell_type": "markdown",
   "id": "de283af2",
   "metadata": {},
   "source": [
    "### 13. pop"
   ]
  },
  {
   "cell_type": "raw",
   "id": "f08660f8",
   "metadata": {},
   "source": [
    "syntax : set.pop()"
   ]
  },
  {
   "cell_type": "markdown",
   "id": "d561efdd",
   "metadata": {},
   "source": [
    "- removes a value from the set arbitrarily/randomly\n",
    "- when the pop operation is performed, it would return the value been removed"
   ]
  },
  {
   "cell_type": "code",
   "execution_count": 25,
   "id": "a0cd4861",
   "metadata": {},
   "outputs": [],
   "source": [
    "og_set = {'Iron man', 'Groot', 'Hulk'}"
   ]
  },
  {
   "cell_type": "code",
   "execution_count": 26,
   "id": "3eb7c127",
   "metadata": {},
   "outputs": [
    {
     "data": {
      "text/plain": [
       "'Groot'"
      ]
     },
     "execution_count": 26,
     "metadata": {},
     "output_type": "execute_result"
    }
   ],
   "source": [
    "element_removed = og_set.pop()\n",
    "element_removed"
   ]
  },
  {
   "cell_type": "code",
   "execution_count": 27,
   "id": "983979ae",
   "metadata": {},
   "outputs": [
    {
     "data": {
      "text/plain": [
       "{'Hulk', 'Iron man'}"
      ]
     },
     "execution_count": 27,
     "metadata": {},
     "output_type": "execute_result"
    }
   ],
   "source": [
    "og_set"
   ]
  },
  {
   "cell_type": "code",
   "execution_count": 20,
   "id": "e18e81a7",
   "metadata": {},
   "outputs": [
    {
     "data": {
      "text/plain": [
       "1"
      ]
     },
     "execution_count": 20,
     "metadata": {},
     "output_type": "execute_result"
    }
   ],
   "source": [
    "set1 = {1,2,3,4,5}\n",
    "set1.pop()"
   ]
  },
  {
   "cell_type": "code",
   "execution_count": 19,
   "id": "be1d59f8",
   "metadata": {},
   "outputs": [
    {
     "data": {
      "text/plain": [
       "({1, 2, 3}, {4, 5})"
      ]
     },
     "execution_count": 19,
     "metadata": {},
     "output_type": "execute_result"
    }
   ],
   "source": [
    "set1 = {1,2,3,4,5}\n",
    "removed_elements_set = set()\n",
    "\n",
    "removed_elements_set.add(set1.pop())\n",
    "removed_elements_set.add(set1.pop())\n",
    "removed_elements_set.add(set1.pop())\n",
    "\n",
    "removed_elements_set, set1"
   ]
  },
  {
   "cell_type": "code",
   "execution_count": 18,
   "id": "c5b54031",
   "metadata": {},
   "outputs": [
    {
     "data": {
      "text/plain": [
       "{4, 5}"
      ]
     },
     "execution_count": 18,
     "metadata": {},
     "output_type": "execute_result"
    }
   ],
   "source": [
    "set1"
   ]
  },
  {
   "cell_type": "markdown",
   "id": "3e1329f8",
   "metadata": {},
   "source": [
    "### 14. remove"
   ]
  },
  {
   "cell_type": "raw",
   "id": "eaa5e34d",
   "metadata": {},
   "source": [
    "syntax : set.remove()"
   ]
  },
  {
   "cell_type": "markdown",
   "id": "51152f65",
   "metadata": {},
   "source": [
    "- used to remove elements from the set"
   ]
  },
  {
   "cell_type": "code",
   "execution_count": 28,
   "id": "5d051fa8",
   "metadata": {},
   "outputs": [],
   "source": [
    "set1 = {1,2,3,4,5}\n",
    "set1.remove(5)"
   ]
  },
  {
   "cell_type": "code",
   "execution_count": 29,
   "id": "54da2631",
   "metadata": {},
   "outputs": [
    {
     "data": {
      "text/plain": [
       "{1, 2, 3, 4}"
      ]
     },
     "execution_count": 29,
     "metadata": {},
     "output_type": "execute_result"
    }
   ],
   "source": [
    "set1"
   ]
  },
  {
   "cell_type": "code",
   "execution_count": 30,
   "id": "a74eceb1",
   "metadata": {},
   "outputs": [
    {
     "data": {
      "text/plain": [
       "'Musaib'"
      ]
     },
     "execution_count": 30,
     "metadata": {},
     "output_type": "execute_result"
    }
   ],
   "source": [
    "students = {'Akshay', 'Musaib', 'Gayatri', 'Ketali'}\n",
    "\n",
    "students.pop()"
   ]
  },
  {
   "cell_type": "code",
   "execution_count": 31,
   "id": "ab9cd61e",
   "metadata": {},
   "outputs": [
    {
     "data": {
      "text/plain": [
       "{'Akshay', 'Gayatri', 'Ketali'}"
      ]
     },
     "execution_count": 31,
     "metadata": {},
     "output_type": "execute_result"
    }
   ],
   "source": [
    "students"
   ]
  },
  {
   "cell_type": "markdown",
   "id": "cbbe271b",
   "metadata": {},
   "source": [
    "### 15. issubset and issuperset"
   ]
  },
  {
   "attachments": {
    "image.png": {
     "image/png": "[encoded data removed]"
    }
   },
   "cell_type": "markdown",
   "id": "6f8b0583",
   "metadata": {},
   "source": [
    "![image.png](attachment:image.png)"
   ]
  },
  {
   "cell_type": "markdown",
   "id": "6358e0f3",
   "metadata": {},
   "source": [
    "- That what is present in a subset would be present in the superset as well because subset is a part of the supoerset and the superset is much laarger in size\n",
    "- That what is present inside a superset may not neccessarily be in the subset"
   ]
  },
  {
   "cell_type": "raw",
   "id": "6c4ec81b",
   "metadata": {},
   "source": [
    "alphabets{superset} = vowels{subset1} + consonants{subset2}"
   ]
  },
  {
   "cell_type": "code",
   "execution_count": 41,
   "id": "678a6e79",
   "metadata": {},
   "outputs": [],
   "source": [
    "range1 = set(range(100))\n",
    "range2 = set(range(60,88,2))"
   ]
  },
  {
   "cell_type": "code",
   "execution_count": 42,
   "id": "f3e45e2d",
   "metadata": {},
   "outputs": [
    {
     "name": "stdout",
     "output_type": "stream",
     "text": [
      "{0, 1, 2, 3, 4, 5, 6, 7, 8, 9, 10, 11, 12, 13, 14, 15, 16, 17, 18, 19, 20, 21, 22, 23, 24, 25, 26, 27, 28, 29, 30, 31, 32, 33, 34, 35, 36, 37, 38, 39, 40, 41, 42, 43, 44, 45, 46, 47, 48, 49, 50, 51, 52, 53, 54, 55, 56, 57, 58, 59, 60, 61, 62, 63, 64, 65, 66, 67, 68, 69, 70, 71, 72, 73, 74, 75, 76, 77, 78, 79, 80, 81, 82, 83, 84, 85, 86, 87, 88, 89, 90, 91, 92, 93, 94, 95, 96, 97, 98, 99}\n"
     ]
    }
   ],
   "source": [
    "print(range1)"
   ]
  },
  {
   "cell_type": "code",
   "execution_count": 43,
   "id": "bf72e317",
   "metadata": {},
   "outputs": [
    {
     "name": "stdout",
     "output_type": "stream",
     "text": [
      "{64, 66, 68, 70, 72, 74, 76, 78, 80, 82, 84, 86, 60, 62}\n"
     ]
    }
   ],
   "source": [
    "print(range2)"
   ]
  },
  {
   "cell_type": "code",
   "execution_count": 44,
   "id": "aa25cdbe",
   "metadata": {},
   "outputs": [
    {
     "data": {
      "text/plain": [
       "True"
      ]
     },
     "execution_count": 44,
     "metadata": {},
     "output_type": "execute_result"
    }
   ],
   "source": [
    "range2.issubset(range1)"
   ]
  },
  {
   "cell_type": "code",
   "execution_count": 45,
   "id": "b2c46eb3",
   "metadata": {},
   "outputs": [
    {
     "data": {
      "text/plain": [
       "True"
      ]
     },
     "execution_count": 45,
     "metadata": {},
     "output_type": "execute_result"
    }
   ],
   "source": [
    "range1.issuperset(range2)"
   ]
  },
  {
   "cell_type": "markdown",
   "id": "6aa49f8d",
   "metadata": {},
   "source": [
    "### 16. isdisjoint"
   ]
  },
  {
   "cell_type": "raw",
   "id": "0298d2e9",
   "metadata": {},
   "source": [
    "syntax : set1.isdisjoint(set2)"
   ]
  },
  {
   "cell_type": "markdown",
   "id": "65035549",
   "metadata": {},
   "source": [
    "- It tells us whether two given sets have any common items{intersection} or not\n",
    "- returns a boolean value"
   ]
  },
  {
   "cell_type": "code",
   "execution_count": 57,
   "id": "5475621d",
   "metadata": {},
   "outputs": [
    {
     "data": {
      "text/plain": [
       "True"
      ]
     },
     "execution_count": 57,
     "metadata": {},
     "output_type": "execute_result"
    }
   ],
   "source": [
    "set1 = {1,2,3,4,5}\n",
    "set2 = {6,7,8,9,0}\n",
    "\n",
    "set1.isdisjoint(set2)"
   ]
  },
  {
   "cell_type": "code",
   "execution_count": 51,
   "id": "136d7da4",
   "metadata": {},
   "outputs": [
    {
     "data": {
      "text/plain": [
       "True"
      ]
     },
     "execution_count": 51,
     "metadata": {},
     "output_type": "execute_result"
    }
   ],
   "source": [
    "set1 = {'Groot', 'Iron Man', 'Hulk'}\n",
    "set2 = {'BatMan', 'Super Man', 'Wonder Woman'}\n",
    "\n",
    "set1.isdisjoint(set2)"
   ]
  },
  {
   "cell_type": "code",
   "execution_count": 52,
   "id": "8ffa3226",
   "metadata": {},
   "outputs": [
    {
     "data": {
      "text/plain": [
       "False"
      ]
     },
     "execution_count": 52,
     "metadata": {},
     "output_type": "execute_result"
    }
   ],
   "source": [
    "set1 = {'spider man', 'venom', 'carnage', 'targariyan'}\n",
    "set2 = {'doctor strange', 'iron man', 'spider man'}\n",
    "\n",
    "set1.isdisjoint(set2)"
   ]
  },
  {
   "cell_type": "code",
   "execution_count": 53,
   "id": "be2fd6c0",
   "metadata": {
    "scrolled": true
   },
   "outputs": [
    {
     "data": {
      "text/plain": [
       "{'spider man'}"
      ]
     },
     "execution_count": 53,
     "metadata": {},
     "output_type": "execute_result"
    }
   ],
   "source": [
    "set1.intersection(set2)"
   ]
  },
  {
   "cell_type": "markdown",
   "id": "aaab6700",
   "metadata": {},
   "source": [
    "# Special function"
   ]
  },
  {
   "cell_type": "markdown",
   "id": "c6c7d311",
   "metadata": {},
   "source": [
    "### join function"
   ]
  },
  {
   "cell_type": "raw",
   "id": "1ed8c8a6",
   "metadata": {},
   "source": [
    "syntax : 'separator'.join(iterable)"
   ]
  },
  {
   "cell_type": "markdown",
   "id": "55745414",
   "metadata": {},
   "source": [
    "- It is used to connect multiple strings in a list using a specified separator\n",
    "- returns a string object"
   ]
  },
  {
   "cell_type": "code",
   "execution_count": 59,
   "id": "8c614a50",
   "metadata": {},
   "outputs": [
    {
     "data": {
      "text/plain": [
       "'I am Groot '"
      ]
     },
     "execution_count": 59,
     "metadata": {},
     "output_type": "execute_result"
    }
   ],
   "source": [
    "data = ['I', 'am', 'Groot']\n",
    "dummy = ''\n",
    "for i in data:\n",
    "    dummy = dummy+i+' '\n",
    "dummy"
   ]
  },
  {
   "cell_type": "code",
   "execution_count": 69,
   "id": "fa259406",
   "metadata": {},
   "outputs": [
    {
     "data": {
      "text/plain": [
       "'I_am_Groot'"
      ]
     },
     "execution_count": 69,
     "metadata": {},
     "output_type": "execute_result"
    }
   ],
   "source": [
    "data = ['I', 'am', 'Groot']\n",
    "joined_data = '_'.join(data)\n",
    "joined_data"
   ]
  },
  {
   "cell_type": "code",
   "execution_count": 63,
   "id": "2132aa13",
   "metadata": {},
   "outputs": [
    {
     "data": {
      "text/plain": [
       "['I', 'am', 'Groot']"
      ]
     },
     "execution_count": 63,
     "metadata": {},
     "output_type": "execute_result"
    }
   ],
   "source": [
    "splitted_data = joined_data.split('_')\n",
    "splitted_data"
   ]
  },
  {
   "cell_type": "code",
   "execution_count": 67,
   "id": "f748da78",
   "metadata": {},
   "outputs": [
    {
     "data": {
      "text/plain": [
       "'I+am+Groot'"
      ]
     },
     "execution_count": 67,
     "metadata": {},
     "output_type": "execute_result"
    }
   ],
   "source": [
    "'+'.join(splitted_data)"
   ]
  },
  {
   "cell_type": "code",
   "execution_count": 70,
   "id": "5ffa2825",
   "metadata": {},
   "outputs": [
    {
     "ename": "TypeError",
     "evalue": "sequence item 3: expected str instance, int found",
     "output_type": "error",
     "traceback": [
      "\u001b[0;31m---------------------------------------------------------------------------\u001b[0m",
      "\u001b[0;31mTypeError\u001b[0m                                 Traceback (most recent call last)",
      "Input \u001b[0;32mIn [70]\u001b[0m, in \u001b[0;36m<cell line: 2>\u001b[0;34m()\u001b[0m\n\u001b[1;32m      1\u001b[0m data \u001b[38;5;241m=\u001b[39m [\u001b[38;5;124m'\u001b[39m\u001b[38;5;124mI\u001b[39m\u001b[38;5;124m'\u001b[39m, \u001b[38;5;124m'\u001b[39m\u001b[38;5;124mam\u001b[39m\u001b[38;5;124m'\u001b[39m, \u001b[38;5;124m'\u001b[39m\u001b[38;5;124mGroot\u001b[39m\u001b[38;5;124m'\u001b[39m, \u001b[38;5;241m55\u001b[39m]\n\u001b[0;32m----> 2\u001b[0m joined_data \u001b[38;5;241m=\u001b[39m \u001b[38;5;124;43m'\u001b[39;49m\u001b[38;5;124;43m_\u001b[39;49m\u001b[38;5;124;43m'\u001b[39;49m\u001b[38;5;241;43m.\u001b[39;49m\u001b[43mjoin\u001b[49m\u001b[43m(\u001b[49m\u001b[43mdata\u001b[49m\u001b[43m)\u001b[49m\n\u001b[1;32m      3\u001b[0m joined_data\n",
      "\u001b[0;31mTypeError\u001b[0m: sequence item 3: expected str instance, int found"
     ]
    }
   ],
   "source": [
    "data = ['I', 'am', 'Groot', 55]\n",
    "joined_data = '_'.join(data)\n",
    "joined_data"
   ]
  }
 ],
 "metadata": {
  "kernelspec": {
   "display_name": "Python 3 (ipykernel)",
   "language": "python",
   "name": "python3"
  },
  "language_info": {
   "codemirror_mode": {
    "name": "ipython",
    "version": 3
   },
   "file_extension": ".py",
   "mimetype": "text/x-python",
   "name": "python",
   "nbconvert_exporter": "python",
   "pygments_lexer": "ipython3",
   "version": "3.9.13"
  }
 },
 "nbformat": 4,
 "nbformat_minor": 5
}

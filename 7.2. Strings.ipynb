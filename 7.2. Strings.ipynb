{
 "cells": [
  {
   "cell_type": "markdown",
   "id": "125e6b4f",
   "metadata": {},
   "source": [
    "# Strings"
   ]
  },
  {
   "cell_type": "raw",
   "id": "d7e4259a",
   "metadata": {},
   "source": [
    "Strings : Bunch of characters\n",
    "    : textual data\n",
    "    : can contain alpha-numeric data\n",
    "    : can contain symbols as well"
   ]
  },
  {
   "cell_type": "markdown",
   "id": "b5998701",
   "metadata": {},
   "source": [
    "- Syntax of strings : \n",
    "    - single quote string : data is enlosed inside single quotes : ex. 'This is my single quoted string'\n",
    "    - double quote string : data is enclosed inside double quotes : ex. \"This is my double quoted string\"\n",
    "    - triple quoted strings: \n",
    "        - triple single quoted : '''This is my triple single quoted string'''\n",
    "        - triple double quoted : \"\"\"This is my triple double quoted string\"\"\""
   ]
  },
  {
   "cell_type": "raw",
   "id": "35d18528",
   "metadata": {},
   "source": [
    "Note : There is absolutely no difference between single and double quoted strings\n",
    "    : The triple quoted strings can be used as multiline strings as well"
   ]
  },
  {
   "cell_type": "code",
   "execution_count": 2,
   "id": "1309142f",
   "metadata": {},
   "outputs": [
    {
     "data": {
      "text/plain": [
       "(True, True, True)"
      ]
     },
     "execution_count": 2,
     "metadata": {},
     "output_type": "execute_result"
    }
   ],
   "source": [
    "str1 = 'I am groot !'\n",
    "str2 = \"I am groot !\"\n",
    "str3 = '''I am groot !'''\n",
    "str4 = \"\"\"I am groot !\"\"\"\n",
    "\n",
    "str1==str2, str1==str3, str1==str4"
   ]
  },
  {
   "cell_type": "code",
   "execution_count": 3,
   "id": "492c03ba",
   "metadata": {},
   "outputs": [
    {
     "data": {
      "text/plain": [
       "'Hi. My name is Groot. I come from andromeda. I am here to destroy humanity. Kneel before me !'"
      ]
     },
     "execution_count": 3,
     "metadata": {},
     "output_type": "execute_result"
    }
   ],
   "source": [
    "single_quoted_text = 'Hi. My name is Groot. I come from andromeda. I am here to destroy humanity. Kneel before me !'\n",
    "single_quoted_text"
   ]
  },
  {
   "cell_type": "code",
   "execution_count": 4,
   "id": "ed772fb6",
   "metadata": {},
   "outputs": [
    {
     "data": {
      "text/plain": [
       "'Hi. \\nMy name is Groot. \\nI come from andromeda. \\nI am here to destroy humanity. Kneel before me !'"
      ]
     },
     "execution_count": 4,
     "metadata": {},
     "output_type": "execute_result"
    }
   ],
   "source": [
    "single_quoted_text = '''Hi.\n",
    "My name is Groot.\n",
    "I come from andromeda.\n",
    "I am here to destroy humanity. Kneel before me !'''\n",
    "\n",
    "single_quoted_text"
   ]
  },
  {
   "cell_type": "code",
   "execution_count": 7,
   "id": "de72ed9c",
   "metadata": {},
   "outputs": [
    {
     "data": {
      "text/plain": [
       "'Machine learning is a branch of artificial intelligence (AI) and computer science which focuses on the use of data and algorithms to imitate the way that humans learn, gradually improving its accuracy.'"
      ]
     },
     "execution_count": 7,
     "metadata": {},
     "output_type": "execute_result"
    }
   ],
   "source": [
    "data1 = 'Machine learning is a branch of artificial intelligence (AI) and computer science which focuses on the use of data and algorithms to imitate the way that humans learn, gradually improving its accuracy.'\n",
    "data1"
   ]
  },
  {
   "cell_type": "code",
   "execution_count": 10,
   "id": "b8c9e028",
   "metadata": {},
   "outputs": [
    {
     "data": {
      "text/plain": [
       "'What is machine learning? Machine learning is a branch of artificial intelligence (AI) and computer science which focuses on the use of data and algorithms to imitate the way that humans learn, gradually improving its accuracy.IBM has a rich history with machine learning. One of its own, Arthur Samuel, is credited for coining the term, “machine learning” with his research (PDF, 492 KB) (link resides outside IBM) around the game of checkers. Robert Nealey, the self-proclaimed checkers master, played the game on an IBM 7094 computer in 1962, and he lost to the computer. Compared to what can be done today, this feat almost seems trivial, but it’s considered a major milestone within the field of artificial intelligence. Over the next couple of decades, the technological developments around storage and processing power will enable some innovative products that we know and love today, such as Netflix’s recommendation engine or self-driving cars.Machine learning is an important component of the growing field of data science. Through the use of statistical methods, algorithms are trained to make classifications or predictions, uncovering key insights within data mining projects. These insights subsequently drive decision making within applications and businesses, ideally impacting key growth metrics. As big data continues to expand and grow, the market demand for data scientists will increase, requiring them to assist in the identification of the most relevant business questions and subsequently the data to answer them.'"
      ]
     },
     "execution_count": 10,
     "metadata": {},
     "output_type": "execute_result"
    }
   ],
   "source": [
    "data_x = 'What is machine learning? Machine learning is a branch of artificial intelligence (AI) and computer science which focuses on the use of data and algorithms to imitate the way that humans learn, gradually improving its accuracy.IBM has a rich history with machine learning. One of its own, Arthur Samuel, is credited for coining the term, “machine learning” with his research (PDF, 492 KB) (link resides outside IBM) around the game of checkers. Robert Nealey, the self-proclaimed checkers master, played the game on an IBM 7094 computer in 1962, and he lost to the computer. Compared to what can be done today, this feat almost seems trivial, but it’s considered a major milestone within the field of artificial intelligence. Over the next couple of decades, the technological developments around storage and processing power will enable some innovative products that we know and love today, such as Netflix’s recommendation engine or self-driving cars.Machine learning is an important component of the growing field of data science. Through the use of statistical methods, algorithms are trained to make classifications or predictions, uncovering key insights within data mining projects. These insights subsequently drive decision making within applications and businesses, ideally impacting key growth metrics. As big data continues to expand and grow, the market demand for data scientists will increase, requiring them to assist in the identification of the most relevant business questions and subsequently the data to answer them.'\n",
    "data_x"
   ]
  },
  {
   "cell_type": "code",
   "execution_count": 28,
   "id": "5d5867db",
   "metadata": {},
   "outputs": [
    {
     "data": {
      "text/plain": [
       "'What is machine learning?\\nMachine learning is a branch of artificial intelligence (AI) and computer science which focuses on the use of data and algorithms to imitate the way that humans learn, gradually improving its accuracy.\\n\\nIBM has a rich history with machine learning. One of its own, Arthur Samuel, is credited for coining the term, “machine learning” with his research (PDF, 492 KB) (link resides outside IBM) around the game of checkers. Robert Nealey, the self-proclaimed checkers master, played the game on an IBM 7094 computer in 1962, and he lost to the computer. Compared to what can be done today, this feat almost seems trivial, but it’s considered a major milestone within the field of artificial intelligence. Over the next couple of decades, the technological developments around storage and processing power will enable some innovative products that we know and love today, such as Netflix’s recommendation engine or self-driving cars.\\n\\nMachine learning is an important component of the growing field of data science. Through the use of statistical methods, algorithms are trained to make classifications or predictions, uncovering key insights within data mining projects. These insights subsequently drive decision making within applications and businesses, ideally impacting key growth metrics. As big data continues to expand and grow, the market demand for data scientists will increase, requiring them to assist in the identification of the most relevant business questions and subsequently the data to answer them.'"
      ]
     },
     "execution_count": 28,
     "metadata": {},
     "output_type": "execute_result"
    }
   ],
   "source": [
    "data2 = '''What is machine learning?\n",
    "Machine learning is a branch of artificial intelligence (AI) and computer science which focuses on the use of data and algorithms to imitate the way that humans learn, gradually improving its accuracy.\n",
    "\n",
    "IBM has a rich history with machine learning. One of its own, Arthur Samuel, is credited for coining the term, “machine learning” with his research (PDF, 492 KB) (link resides outside IBM) around the game of checkers. Robert Nealey, the self-proclaimed checkers master, played the game on an IBM 7094 computer in 1962, and he lost to the computer. Compared to what can be done today, this feat almost seems trivial, but it’s considered a major milestone within the field of artificial intelligence. Over the next couple of decades, the technological developments around storage and processing power will enable some innovative products that we know and love today, such as Netflix’s recommendation engine or self-driving cars.\n",
    "\n",
    "Machine learning is an important component of the growing field of data science. Through the use of statistical methods, algorithms are trained to make classifications or predictions, uncovering key insights within data mining projects. These insights subsequently drive decision making within applications and businesses, ideally impacting key growth metrics. As big data continues to expand and grow, the market demand for data scientists will increase, requiring them to assist in the identification of the most relevant business questions and subsequently the data to answer them.'''\n",
    "\n",
    "data2"
   ]
  },
  {
   "cell_type": "code",
   "execution_count": 14,
   "id": "ce93cb0b",
   "metadata": {},
   "outputs": [
    {
     "data": {
      "text/plain": [
       "'They both live in Hyderabad.'"
      ]
     },
     "execution_count": 14,
     "metadata": {},
     "output_type": "execute_result"
    }
   ],
   "source": [
    "x = 'Ramesh and Suresh are best friends. They both live in Hyderabad.'\n",
    "y = \"Ramesh and Suresh are best friends. They both live in Hyderabad.\"\n",
    "\n",
    "z = \"Ramesh and Suresh are best friends.\n",
    "They both live in Hyderabad.\""
   ]
  },
  {
   "cell_type": "raw",
   "id": "8dc8afaa",
   "metadata": {},
   "source": [
    "'I am groot'\n",
    "\"I am groot\"\n",
    "\n",
    "'i\n",
    "am\n",
    "groot'\n",
    "\n",
    "\"i\n",
    "am\n",
    "groot\"\n",
    "\n",
    "'''i\n",
    "am\n",
    "groot'''\n",
    "\n",
    "\"\"\"i\n",
    "am\n",
    "groot\"\"\""
   ]
  },
  {
   "cell_type": "code",
   "execution_count": 15,
   "id": "8e5064bc",
   "metadata": {},
   "outputs": [
    {
     "data": {
      "text/plain": [
       "\"Ramesh is Suresh's best friend\""
      ]
     },
     "execution_count": 15,
     "metadata": {},
     "output_type": "execute_result"
    }
   ],
   "source": [
    "x = \"Ramesh is Suresh's best friend\"\n",
    "x"
   ]
  },
  {
   "cell_type": "code",
   "execution_count": 23,
   "id": "f5222168",
   "metadata": {},
   "outputs": [
    {
     "data": {
      "text/plain": [
       "('Ramesh is Suresh', 'lalala', 1234, 'sdgfhjdjf', '')"
      ]
     },
     "execution_count": 23,
     "metadata": {},
     "output_type": "execute_result"
    }
   ],
   "source": [
    "s = 'lalala'\n",
    "best = 1234\n",
    "friend = 'sdgfhjdjf'\n",
    "x = 'Ramesh is Suresh',s, best, friend,''\n",
    "x"
   ]
  },
  {
   "cell_type": "raw",
   "id": "1f534362",
   "metadata": {},
   "source": [
    "str1 = 'I am thor's friend'\n",
    "str1 = \"I am thor's friend\""
   ]
  },
  {
   "cell_type": "code",
   "execution_count": 24,
   "id": "cc7c26ee",
   "metadata": {},
   "outputs": [],
   "source": [
    "str1 = 'Ramesh said : \"Let me go !\"'\n",
    "str2 = \"Ramesh was not going to take Suresh's money\""
   ]
  },
  {
   "cell_type": "code",
   "execution_count": 25,
   "id": "070e9f82",
   "metadata": {},
   "outputs": [
    {
     "data": {
      "text/plain": [
       "'Ramesh said : \"I am not going to take Suresh\\'s money\"'"
      ]
     },
     "execution_count": 25,
     "metadata": {},
     "output_type": "execute_result"
    }
   ],
   "source": [
    "str3 = '''Ramesh said : \"I am not going to take Suresh's money\"'''\n",
    "str3"
   ]
  },
  {
   "cell_type": "code",
   "execution_count": 31,
   "id": "ea538af3",
   "metadata": {},
   "outputs": [
    {
     "data": {
      "text/plain": [
       "'Ramesh said : \"I am not going to take Suresh\\'s money\" and he went to his home.'"
      ]
     },
     "execution_count": 31,
     "metadata": {},
     "output_type": "execute_result"
    }
   ],
   "source": [
    "str3 = \"\"\"Ramesh said : \"I am not going to take Suresh's money\" and he went to his home.\"\"\"\n",
    "str3"
   ]
  },
  {
   "cell_type": "code",
   "execution_count": 35,
   "id": "98bfd387",
   "metadata": {},
   "outputs": [
    {
     "name": "stdout",
     "output_type": "stream",
     "text": [
      "\"\"\"Ramesh said : \"I am not going to take Suresh's money\" and he went to his home.\"\"\"\n"
     ]
    }
   ],
   "source": [
    "str4 = '''\"\"\"Ramesh said : \"I am not going to take Suresh's money\" and he went to his home.\"\"\"'''\n",
    "print(str4)"
   ]
  },
  {
   "cell_type": "code",
   "execution_count": 29,
   "id": "4a02a399",
   "metadata": {},
   "outputs": [
    {
     "name": "stdout",
     "output_type": "stream",
     "text": [
      "Ramesh\n",
      "Suresh\n",
      "\n",
      "Ashish\n"
     ]
    }
   ],
   "source": [
    "print('Ramesh\\nSuresh\\n\\nAshish')"
   ]
  },
  {
   "cell_type": "markdown",
   "id": "8d0cf4b0",
   "metadata": {},
   "source": [
    "# Functions related to strings"
   ]
  },
  {
   "cell_type": "code",
   "execution_count": 30,
   "id": "c110d597",
   "metadata": {},
   "outputs": [
    {
     "data": {
      "text/plain": [
       "['__add__',\n",
       " '__class__',\n",
       " '__contains__',\n",
       " '__delattr__',\n",
       " '__dir__',\n",
       " '__doc__',\n",
       " '__eq__',\n",
       " '__format__',\n",
       " '__ge__',\n",
       " '__getattribute__',\n",
       " '__getitem__',\n",
       " '__getnewargs__',\n",
       " '__gt__',\n",
       " '__hash__',\n",
       " '__init__',\n",
       " '__init_subclass__',\n",
       " '__iter__',\n",
       " '__le__',\n",
       " '__len__',\n",
       " '__lt__',\n",
       " '__mod__',\n",
       " '__mul__',\n",
       " '__ne__',\n",
       " '__new__',\n",
       " '__reduce__',\n",
       " '__reduce_ex__',\n",
       " '__repr__',\n",
       " '__rmod__',\n",
       " '__rmul__',\n",
       " '__setattr__',\n",
       " '__sizeof__',\n",
       " '__str__',\n",
       " '__subclasshook__',\n",
       " 'capitalize',\n",
       " 'casefold',\n",
       " 'center',\n",
       " 'count',\n",
       " 'encode',\n",
       " 'endswith',\n",
       " 'expandtabs',\n",
       " 'find',\n",
       " 'format',\n",
       " 'format_map',\n",
       " 'index',\n",
       " 'isalnum',\n",
       " 'isalpha',\n",
       " 'isascii',\n",
       " 'isdecimal',\n",
       " 'isdigit',\n",
       " 'isidentifier',\n",
       " 'islower',\n",
       " 'isnumeric',\n",
       " 'isprintable',\n",
       " 'isspace',\n",
       " 'istitle',\n",
       " 'isupper',\n",
       " 'join',\n",
       " 'ljust',\n",
       " 'lower',\n",
       " 'lstrip',\n",
       " 'maketrans',\n",
       " 'partition',\n",
       " 'removeprefix',\n",
       " 'removesuffix',\n",
       " 'replace',\n",
       " 'rfind',\n",
       " 'rindex',\n",
       " 'rjust',\n",
       " 'rpartition',\n",
       " 'rsplit',\n",
       " 'rstrip',\n",
       " 'split',\n",
       " 'splitlines',\n",
       " 'startswith',\n",
       " 'strip',\n",
       " 'swapcase',\n",
       " 'title',\n",
       " 'translate',\n",
       " 'upper',\n",
       " 'zfill']"
      ]
     },
     "execution_count": 30,
     "metadata": {},
     "output_type": "execute_result"
    }
   ],
   "source": [
    "a = 'Groot'\n",
    "dir(a)"
   ]
  },
  {
   "cell_type": "code",
   "execution_count": 34,
   "id": "255fc5ba",
   "metadata": {},
   "outputs": [
    {
     "name": "stdout",
     "output_type": "stream",
     "text": [
      "We are learning \"python\" and data science\n"
     ]
    }
   ],
   "source": [
    "str1 = \"We are learning \\\"python\\\" and data science\"\n",
    "print(str1)"
   ]
  },
  {
   "cell_type": "code",
   "execution_count": 36,
   "id": "c4b0768f",
   "metadata": {},
   "outputs": [
    {
     "data": {
      "text/plain": [
       "\"I dont want Suresh's money\""
      ]
     },
     "execution_count": 36,
     "metadata": {},
     "output_type": "execute_result"
    }
   ],
   "source": [
    "x = 'I dont want Suresh\\'s money'\n",
    "x"
   ]
  }
 ],
 "metadata": {
  "kernelspec": {
   "display_name": "Python 3 (ipykernel)",
   "language": "python",
   "name": "python3"
  },
  "language_info": {
   "codemirror_mode": {
    "name": "ipython",
    "version": 3
   },
   "file_extension": ".py",
   "mimetype": "text/x-python",
   "name": "python",
   "nbconvert_exporter": "python",
   "pygments_lexer": "ipython3",
   "version": "3.9.12"
  }
 },
 "nbformat": 4,
 "nbformat_minor": 5
}

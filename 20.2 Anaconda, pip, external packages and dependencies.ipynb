{
 "cells": [
  {
   "cell_type": "markdown",
   "id": "2e1e88e3",
   "metadata": {},
   "source": [
    "# Environment - Virtual environment"
   ]
  },
  {
   "cell_type": "markdown",
   "id": "40b79317",
   "metadata": {},
   "source": [
    "- developed a game : \n",
    "    - pkg1\n",
    "    - pkg2\n",
    "    - pkg3\n",
    "- tested the game in my local system and it is working fine\n",
    "\n",
    "- Rohan wants to play the same game in his system\n",
    "    - export the game to a flash drive\n",
    "    - rohan would run the program from the flash drive in his system\n",
    "    - GAME NOT GETTING EXECUTED IN ROHAN'S SYSTEM\n",
    "        - the dependencies pkg1, pkg2 and pkg3 were not installed in Rohan's system\n",
    "        - these packages need to be installed first and the versions should also match otherwise the game wont work\n",
    "        - But my system has 40 packages installed while the game needs only 3\n",
    "    \n",
    "- Here comes the role of environments"
   ]
  },
  {
   "cell_type": "markdown",
   "id": "2c8397bb",
   "metadata": {},
   "source": [
    "- An environment is an isolated space which is specifically maintained for development of individual or related projects"
   ]
  },
  {
   "cell_type": "markdown",
   "id": "e81807fd",
   "metadata": {},
   "source": [
    "- python's native package manager\n",
    "- to enlist all the packages installed in the system\n",
    "- to install new external packages"
   ]
  },
  {
   "cell_type": "markdown",
   "id": "119b7fed",
   "metadata": {
    "heading_collapsed": true
   },
   "source": [
    "## pip"
   ]
  },
  {
   "cell_type": "markdown",
   "id": "c331e1b6",
   "metadata": {
    "heading_collapsed": true,
    "hidden": true
   },
   "source": [
    "#### Getting all the names of the packages in the current environment"
   ]
  },
  {
   "cell_type": "code",
   "execution_count": 1,
   "id": "2878e1e8",
   "metadata": {
    "hidden": true,
    "scrolled": false
   },
   "outputs": [
    {
     "name": "stdout",
     "output_type": "stream",
     "text": [
      "Package                           Version\r\n",
      "--------------------------------- -----------\r\n",
      "appnope                           0.1.2\r\n",
      "argon2-cffi                       21.3.0\r\n",
      "argon2-cffi-bindings              21.2.0\r\n",
      "asttokens                         2.0.5\r\n",
      "attrs                             21.4.0\r\n",
      "backcall                          0.2.0\r\n",
      "beautifulsoup4                    4.11.1\r\n",
      "bleach                            4.1.0\r\n",
      "brotlipy                          0.7.0\r\n",
      "certifi                           2022.5.18.1\r\n",
      "cffi                              1.15.0\r\n",
      "charset-normalizer                2.0.12\r\n",
      "click                             8.1.3\r\n",
      "colorama                          0.4.4\r\n",
      "conda                             4.12.0\r\n",
      "conda-package-handling            1.8.1\r\n",
      "contourpy                         1.0.6\r\n",
      "cryptography                      37.0.2\r\n",
      "cycler                            0.11.0\r\n",
      "debugpy                           1.5.1\r\n",
      "decorator                         5.1.1\r\n",
      "defusedxml                        0.7.1\r\n",
      "entrypoints                       0.4\r\n",
      "executing                         0.8.3\r\n",
      "fastjsonschema                    2.15.1\r\n",
      "fonttools                         4.38.0\r\n",
      "idna                              3.3\r\n",
      "ipykernel                         6.9.1\r\n",
      "ipython                           8.3.0\r\n",
      "ipython-genutils                  0.2.0\r\n",
      "ipywidgets                        7.6.5\r\n",
      "jedi                              0.18.1\r\n",
      "Jinja2                            3.0.3\r\n",
      "joblib                            1.2.0\r\n",
      "jsonschema                        4.4.0\r\n",
      "jupyter                           1.0.0\r\n",
      "jupyter-client                    7.2.2\r\n",
      "jupyter-console                   6.4.3\r\n",
      "jupyter-contrib-core              0.4.2\r\n",
      "jupyter-contrib-nbextensions      0.7.0\r\n",
      "jupyter-core                      4.10.0\r\n",
      "jupyter-highlight-selected-word   0.2.0\r\n",
      "jupyter-nbextensions-configurator 0.6.1\r\n",
      "jupyterlab-pygments               0.1.2\r\n",
      "jupyterlab-widgets                1.0.0\r\n",
      "kiwisolver                        1.4.4\r\n",
      "lxml                              4.9.2\r\n",
      "MarkupSafe                        2.1.1\r\n",
      "matplotlib                        3.6.2\r\n",
      "matplotlib-inline                 0.1.2\r\n",
      "mistune                           0.8.4\r\n",
      "nbclient                          0.5.13\r\n",
      "nbconvert                         6.4.4\r\n",
      "nbformat                          5.3.0\r\n",
      "nest-asyncio                      1.5.5\r\n",
      "nltk                              3.7\r\n",
      "notebook                          6.4.11\r\n",
      "numpy                             1.23.4\r\n",
      "packaging                         21.3\r\n",
      "pandas                            1.5.2\r\n",
      "pandocfilters                     1.5.0\r\n",
      "parso                             0.8.3\r\n",
      "pexpect                           4.8.0\r\n",
      "pickleshare                       0.7.5\r\n",
      "Pillow                            9.3.0\r\n",
      "pip                               22.1.2\r\n",
      "prometheus-client                 0.13.1\r\n",
      "prompt-toolkit                    3.0.20\r\n",
      "ptyprocess                        0.7.0\r\n",
      "pure-eval                         0.2.2\r\n",
      "pycosat                           0.6.3\r\n",
      "pycparser                         2.21\r\n",
      "Pygments                          2.11.2\r\n",
      "pyOpenSSL                         22.0.0\r\n",
      "pyparsing                         3.0.4\r\n",
      "PyQt5                             5.15.2\r\n",
      "PyQt5_sip                         4.19.25\r\n",
      "PyQtChart                         5.15.2\r\n",
      "pyrsistent                        0.18.0\r\n",
      "PySocks                           1.7.1\r\n",
      "python-dateutil                   2.8.2\r\n",
      "pytz                              2022.6\r\n",
      "PyYAML                            6.0\r\n",
      "pyzmq                             22.3.0\r\n",
      "qtconsole                         5.3.0\r\n",
      "QtPy                              2.0.1\r\n",
      "regex                             2022.10.31\r\n",
      "requests                          2.27.1\r\n",
      "ruamel-yaml-conda                 0.15.80\r\n",
      "seaborn                           0.12.1\r\n",
      "Send2Trash                        1.8.0\r\n",
      "setuptools                        62.3.2\r\n",
      "six                               1.16.0\r\n",
      "soupsieve                         2.3.1\r\n",
      "stack-data                        0.2.0\r\n",
      "terminado                         0.13.1\r\n",
      "testpath                          0.6.0\r\n",
      "tornado                           6.1\r\n",
      "tqdm                              4.64.0\r\n",
      "traitlets                         5.1.1\r\n",
      "typing_extensions                 4.1.1\r\n",
      "urllib3                           1.26.9\r\n",
      "wcwidth                           0.2.5\r\n",
      "webencodings                      0.5.1\r\n",
      "wheel                             0.37.1\r\n",
      "widgetsnbextension                3.5.2\r\n"
     ]
    }
   ],
   "source": [
    "# to be used in the terminal without exclamation mark\n",
    "# in case we want to use it in the notebook, we need to use the ! in front of the command\n",
    "!pip list "
   ]
  },
  {
   "cell_type": "markdown",
   "id": "d833e59e",
   "metadata": {
    "heading_collapsed": true,
    "hidden": true
   },
   "source": [
    "#### Getting the location of the packages in the current environment"
   ]
  },
  {
   "cell_type": "code",
   "execution_count": 2,
   "id": "9612d440",
   "metadata": {
    "hidden": true,
    "scrolled": true
   },
   "outputs": [
    {
     "name": "stdout",
     "output_type": "stream",
     "text": [
      "appnope @ file:///Users/ktietz/demo/mc3/conda-bld/appnope_1629146036738/work\r\n",
      "argon2-cffi @ file:///opt/conda/conda-bld/argon2-cffi_1645000214183/work\r\n",
      "argon2-cffi-bindings @ file:///private/var/folders/nz/j6p8yfhx1mv_0grj5xl4650h0000gp/T/croot-wbf5edig/argon2-cffi-bindings_1644845754377/work\r\n",
      "asttokens @ file:///opt/conda/conda-bld/asttokens_1646925590279/work\r\n",
      "attrs @ file:///opt/conda/conda-bld/attrs_1642510447205/work\r\n",
      "backcall @ file:///home/ktietz/src/ci/backcall_1611930011877/work\r\n",
      "beautifulsoup4 @ file:///private/var/folders/nz/j6p8yfhx1mv_0grj5xl4650h0000gp/T/abs_croot-15cbtalq/beautifulsoup4_1650462161715/work\r\n",
      "bleach @ file:///opt/conda/conda-bld/bleach_1641577558959/work\r\n",
      "brotlipy @ file:///Users/runner/miniforge3/conda-bld/brotlipy_1648854242877/work\r\n",
      "certifi==2022.5.18.1\r\n",
      "cffi @ file:///Users/runner/miniforge3/conda-bld/cffi_1636046173594/work\r\n",
      "charset-normalizer @ file:///home/conda/feedstock_root/build_artifacts/charset-normalizer_1644853463426/work\r\n",
      "click==8.1.3\r\n",
      "colorama @ file:///home/conda/feedstock_root/build_artifacts/colorama_1602866480661/work\r\n",
      "conda==4.12.0\r\n",
      "conda-package-handling @ file:///Users/runner/miniforge3/conda-bld/conda-package-handling_1649385125392/work\r\n",
      "contourpy==1.0.6\r\n",
      "cryptography @ file:///Users/runner/miniforge3/conda-bld/cryptography_1652967108255/work\r\n",
      "cycler==0.11.0\r\n",
      "debugpy @ file:///Users/builder/miniconda3/envs/prefect/conda-bld/debugpy_1637092214173/work\r\n",
      "decorator @ file:///opt/conda/conda-bld/decorator_1643638310831/work\r\n",
      "defusedxml @ file:///tmp/build/80754af9/defusedxml_1615228127516/work\r\n",
      "entrypoints @ file:///private/var/folders/nz/j6p8yfhx1mv_0grj5xl4650h0000gp/T/abs_croot-jb01gaox/entrypoints_1650293758411/work\r\n",
      "executing @ file:///opt/conda/conda-bld/executing_1646925071911/work\r\n",
      "fastjsonschema @ file:///tmp/build/80754af9/python-fastjsonschema_1620414857593/work/dist\r\n",
      "fonttools==4.38.0\r\n",
      "idna @ file:///home/conda/feedstock_root/build_artifacts/idna_1642433548627/work\r\n",
      "ipykernel @ file:///private/var/folders/nz/j6p8yfhx1mv_0grj5xl4650h0000gp/T/abs_croot-4yxj69n0/ipykernel_1647009452031/work/dist/ipykernel-6.9.1-py3-none-any.whl\r\n",
      "ipython @ file:///private/var/folders/nz/j6p8yfhx1mv_0grj5xl4650h0000gp/T/abs_b42ce53b-9348-4ffe-874e-ee7a7d34be58zn88hkt_/croots/recipe/ipython_1651600151534/work\r\n",
      "ipython-genutils @ file:///tmp/build/80754af9/ipython_genutils_1606773439826/work\r\n",
      "ipywidgets @ file:///tmp/build/80754af9/ipywidgets_1634143127070/work\r\n",
      "jedi @ file:///private/var/folders/nz/j6p8yfhx1mv_0grj5xl4650h0000gp/T/croot-f1t6hma6/jedi_1644315882177/work\r\n",
      "Jinja2 @ file:///opt/conda/conda-bld/jinja2_1647436528585/work\r\n",
      "joblib==1.2.0\r\n",
      "jsonschema @ file:///private/var/folders/nz/j6p8yfhx1mv_0grj5xl4650h0000gp/T/abs_croot-s120sjbo/jsonschema_1650294446111/work\r\n",
      "jupyter @ file:///Users/ktietz/demo/mc3/conda-bld/jupyter_1629146554731/work\r\n",
      "jupyter-client @ file:///private/var/folders/nz/j6p8yfhx1mv_0grj5xl4650h0000gp/T/abs_37f0874a-8189-43c8-984a-7cc5aa7f2a00vekz677y/croots/recipe/jupyter_client_1650622203010/work\r\n",
      "jupyter-console @ file:///opt/conda/conda-bld/jupyter_console_1647002188872/work\r\n",
      "jupyter-contrib-core==0.4.2\r\n",
      "jupyter-contrib-nbextensions==0.7.0\r\n",
      "jupyter-core @ file:///private/var/folders/nz/j6p8yfhx1mv_0grj5xl4650h0000gp/T/abs_5839c60e-0f30-4a99-b0b9-2b009ec5fec40y9fo9ym/croots/recipe/jupyter_core_1651671230982/work\r\n",
      "jupyter-highlight-selected-word==0.2.0\r\n",
      "jupyter-nbextensions-configurator==0.6.1\r\n",
      "jupyterlab-pygments @ file:///tmp/build/80754af9/jupyterlab_pygments_1601490720602/work\r\n",
      "jupyterlab-widgets @ file:///tmp/build/80754af9/jupyterlab_widgets_1609884341231/work\r\n",
      "kiwisolver==1.4.4\r\n",
      "lxml==4.9.2\r\n",
      "MarkupSafe @ file:///private/var/folders/nz/j6p8yfhx1mv_0grj5xl4650h0000gp/T/abs_12c133f5-0720-4727-9c18-599a3af825723lzwham3/croots/recipe/markupsafe_1654597866058/work\r\n",
      "matplotlib==3.6.2\r\n",
      "matplotlib-inline @ file:///tmp/build/80754af9/matplotlib-inline_1628242447089/work\r\n",
      "mistune @ file:///Users/ktietz/demo/mc3/conda-bld/mistune_1629356075445/work\r\n",
      "nbclient @ file:///private/var/folders/nz/j6p8yfhx1mv_0grj5xl4650h0000gp/T/abs_croot-08wgx75f/nbclient_1650373566605/work\r\n",
      "nbconvert @ file:///private/var/folders/nz/j6p8yfhx1mv_0grj5xl4650h0000gp/T/abs_croot-bbvj0nuy/nbconvert_1649751921251/work\r\n",
      "nbformat @ file:///private/var/folders/nz/j6p8yfhx1mv_0grj5xl4650h0000gp/T/abs_croot-vjh9n2f2/nbformat_1649931502895/work\r\n",
      "nest-asyncio @ file:///private/var/folders/nz/j6p8yfhx1mv_0grj5xl4650h0000gp/T/abs_croot-xymukih3/nest-asyncio_1649931465456/work\r\n",
      "nltk==3.7\r\n",
      "notebook @ file:///private/var/folders/nz/j6p8yfhx1mv_0grj5xl4650h0000gp/T/abs_3f7fff69-9830-45da-8980-fb36e722af3e4wgyb5p_/croots/recipe/notebook_1651734541650/work\r\n",
      "numpy==1.23.4\r\n",
      "packaging @ file:///tmp/build/80754af9/packaging_1637314298585/work\r\n",
      "pandas==1.5.2\r\n",
      "pandocfilters @ file:///opt/conda/conda-bld/pandocfilters_1643405455980/work\r\n",
      "parso @ file:///opt/conda/conda-bld/parso_1641458642106/work\r\n",
      "pexpect @ file:///tmp/build/80754af9/pexpect_1605563209008/work\r\n",
      "pickleshare @ file:///tmp/build/80754af9/pickleshare_1606932040724/work\r\n",
      "Pillow==9.3.0\r\n",
      "prometheus-client @ file:///opt/conda/conda-bld/prometheus_client_1643788673601/work\r\n",
      "prompt-toolkit @ file:///tmp/build/80754af9/prompt-toolkit_1633440160888/work\r\n",
      "ptyprocess @ file:///tmp/build/80754af9/ptyprocess_1609355006118/work/dist/ptyprocess-0.7.0-py2.py3-none-any.whl\r\n",
      "pure-eval @ file:///opt/conda/conda-bld/pure_eval_1646925070566/work\r\n",
      "pycosat @ file:///Users/runner/miniforge3/conda-bld/pycosat_1649384941891/work\r\n",
      "pycparser @ file:///home/conda/feedstock_root/build_artifacts/pycparser_1636257122734/work\r\n",
      "Pygments @ file:///opt/conda/conda-bld/pygments_1644249106324/work\r\n",
      "pyOpenSSL @ file:///home/conda/feedstock_root/build_artifacts/pyopenssl_1643496850550/work\r\n",
      "pyparsing @ file:///tmp/build/80754af9/pyparsing_1635766073266/work\r\n",
      "PyQt5==5.15.2\r\n",
      "PyQt5_sip==4.19.25\r\n",
      "PyQtChart==5.15.2\r\n",
      "pyrsistent @ file:///Users/ktietz/demo/mc3/conda-bld/pyrsistent_1628941062930/work\r\n",
      "PySocks @ file:///Users/runner/miniforge3/conda-bld/pysocks_1648857374584/work\r\n",
      "python-dateutil @ file:///tmp/build/80754af9/python-dateutil_1626374649649/work\r\n",
      "pytz==2022.6\r\n",
      "PyYAML==6.0\r\n",
      "pyzmq @ file:///Users/builder/miniconda3/envs/prefect/conda-bld/pyzmq_1638447141825/work\r\n",
      "qtconsole @ file:///opt/conda/conda-bld/qtconsole_1649078897110/work\r\n",
      "QtPy @ file:///opt/conda/conda-bld/qtpy_1649073884068/work\r\n",
      "regex==2022.10.31\r\n",
      "requests @ file:///home/conda/feedstock_root/build_artifacts/requests_1641580202195/work\r\n",
      "ruamel-yaml-conda @ file:///Users/runner/miniforge3/conda-bld/ruamel_yaml_1653464548430/work\r\n",
      "seaborn==0.12.1\r\n",
      "Send2Trash @ file:///tmp/build/80754af9/send2trash_1632406701022/work\r\n",
      "six @ file:///home/conda/feedstock_root/build_artifacts/six_1620240208055/work\r\n",
      "soupsieve @ file:///tmp/build/80754af9/soupsieve_1636706018808/work\r\n",
      "stack-data @ file:///opt/conda/conda-bld/stack_data_1646927590127/work\r\n",
      "terminado @ file:///private/var/folders/nz/j6p8yfhx1mv_0grj5xl4650h0000gp/T/croot-n1puqh63/terminado_1644395131327/work\r\n",
      "testpath @ file:///private/var/folders/nz/j6p8yfhx1mv_0grj5xl4650h0000gp/T/abs_8eff48dc-c5e8-4dc1-bdf5-49b333fc562a74hpzn48/croots/recipe/testpath_1655908554731/work\r\n",
      "tornado @ file:///Users/ktietz/demo/mc3/conda-bld/tornado_1628698929452/work\r\n",
      "tqdm @ file:///home/conda/feedstock_root/build_artifacts/tqdm_1649051611147/work\r\n",
      "traitlets @ file:///tmp/build/80754af9/traitlets_1636710298902/work\r\n",
      "typing_extensions @ file:///opt/conda/conda-bld/typing_extensions_1647553014482/work\r\n",
      "urllib3 @ file:///home/conda/feedstock_root/build_artifacts/urllib3_1647489083693/work\r\n",
      "wcwidth @ file:///Users/ktietz/demo/mc3/conda-bld/wcwidth_1629357192024/work\r\n",
      "webencodings==0.5.1\r\n",
      "widgetsnbextension @ file:///private/var/folders/nz/j6p8yfhx1mv_0grj5xl4650h0000gp/T/croot-ppn8qoma/widgetsnbextension_1645010005457/work\r\n"
     ]
    }
   ],
   "source": [
    "!pip freeze"
   ]
  },
  {
   "cell_type": "markdown",
   "id": "732e3026",
   "metadata": {
    "hidden": true
   },
   "source": [
    "#### Installing new packages using pip"
   ]
  },
  {
   "cell_type": "markdown",
   "id": "139221d6",
   "metadata": {
    "hidden": true
   },
   "source": [
    "###### with all the dependencies :  installs the latest version\n",
    "\n",
    "`pip install package_name`"
   ]
  },
  {
   "cell_type": "markdown",
   "id": "3ded8615",
   "metadata": {
    "hidden": true
   },
   "source": [
    "- package_1\n",
    "    - package_a\n",
    "        - package_x\n",
    "    - package_b\n",
    "        - package_0\n",
    "    \n",
    "    \n",
    "- here `package_1` has dependencies on `package_a, package_x, package_b, package_0`\n",
    "- whenever we will try to install `package_1` all these dependencies would get automatically installed"
   ]
  },
  {
   "cell_type": "markdown",
   "id": "b8b7d41f",
   "metadata": {
    "hidden": true
   },
   "source": [
    "###### without dependencies\n",
    "\n",
    "`pip install --no-deps package_name`"
   ]
  },
  {
   "cell_type": "markdown",
   "id": "e14740b8",
   "metadata": {
    "hidden": true
   },
   "source": [
    "##### with some specific version\n",
    "\n",
    "`pip install package_name==package_version`"
   ]
  },
  {
   "cell_type": "markdown",
   "id": "56a896db",
   "metadata": {
    "hidden": true
   },
   "source": [
    "##### if we want to install a package and upgrade it at the same time\n",
    "\n",
    "`pip install --upgrade package_name`"
   ]
  },
  {
   "cell_type": "markdown",
   "id": "38121d0c",
   "metadata": {
    "heading_collapsed": true,
    "hidden": true
   },
   "source": [
    "#### Uninstalling packages using pip"
   ]
  },
  {
   "cell_type": "markdown",
   "id": "cfe40a78",
   "metadata": {
    "hidden": true
   },
   "source": [
    "`pip uninstall package_name`"
   ]
  },
  {
   "cell_type": "markdown",
   "id": "2a908e8e",
   "metadata": {
    "hidden": true
   },
   "source": [
    "#### Creating a list of all the available packages from the current environment"
   ]
  },
  {
   "cell_type": "markdown",
   "id": "b1eadfe0",
   "metadata": {
    "hidden": true
   },
   "source": [
    "`pip list --format=freeze > requirements.txt`"
   ]
  },
  {
   "cell_type": "markdown",
   "id": "cbfee51e",
   "metadata": {
    "hidden": true
   },
   "source": [
    "#### Installing all the packages from the requirements.txt file"
   ]
  },
  {
   "cell_type": "markdown",
   "id": "32c633d3",
   "metadata": {
    "hidden": true
   },
   "source": [
    "`pip install -r requirements.txt`"
   ]
  },
  {
   "cell_type": "markdown",
   "id": "9d0ab700",
   "metadata": {},
   "source": [
    "## Conda / Anaconda"
   ]
  },
  {
   "cell_type": "markdown",
   "id": "d1dd4569",
   "metadata": {},
   "source": [
    "- `Anaconda prompt` : Terminal for anaconda\n",
    "- conda always starts on the `base` environment"
   ]
  },
  {
   "cell_type": "markdown",
   "id": "f7ed59af",
   "metadata": {
    "heading_collapsed": true
   },
   "source": [
    "#### Installing a new package"
   ]
  },
  {
   "cell_type": "markdown",
   "id": "54a1f03a",
   "metadata": {
    "hidden": true
   },
   "source": [
    "- `conda install package_name`\n",
    "- `conda install -c conda package_name`\n",
    "- `conda install -c anaconda package_name`\n",
    "- `conda install -c conda-forge package_name`"
   ]
  },
  {
   "cell_type": "markdown",
   "id": "cbc40ffa",
   "metadata": {
    "heading_collapsed": true
   },
   "source": [
    "#### Uninstalling a package"
   ]
  },
  {
   "cell_type": "markdown",
   "id": "2450192f",
   "metadata": {
    "hidden": true
   },
   "source": [
    "- `conda uninstall package_name`"
   ]
  },
  {
   "cell_type": "markdown",
   "id": "c81fe868",
   "metadata": {},
   "source": [
    "### Working with environments using conda"
   ]
  },
  {
   "cell_type": "markdown",
   "id": "b6e780d4",
   "metadata": {},
   "source": [
    "#### Getting a list of all the available conda environments in the system"
   ]
  },
  {
   "cell_type": "markdown",
   "id": "85ed4e09",
   "metadata": {},
   "source": [
    "`conda env list`"
   ]
  },
  {
   "cell_type": "markdown",
   "id": "a368b280",
   "metadata": {},
   "source": [
    "#### Creating a .yml file from the current conda environment"
   ]
  },
  {
   "cell_type": "markdown",
   "id": "72024903",
   "metadata": {},
   "source": [
    "`conda env export > environment.yml`"
   ]
  },
  {
   "cell_type": "markdown",
   "id": "c9cf76f0",
   "metadata": {},
   "source": [
    "- This environment.yml is an equivalent file to the requirements.txt file\n",
    "- This file contains all the details related to the packages in the current environment"
   ]
  },
  {
   "cell_type": "markdown",
   "id": "987cb2b0",
   "metadata": {},
   "source": [
    "#### Creating a new environment"
   ]
  },
  {
   "cell_type": "markdown",
   "id": "017a77d4",
   "metadata": {
    "heading_collapsed": true
   },
   "source": [
    "##### Plain basic creation"
   ]
  },
  {
   "cell_type": "markdown",
   "id": "76142723",
   "metadata": {
    "hidden": true
   },
   "source": [
    "`conda create -n new_environment_name`"
   ]
  },
  {
   "cell_type": "markdown",
   "id": "1bb6c1cf",
   "metadata": {
    "heading_collapsed": true
   },
   "source": [
    "##### Creating the new environment with a different python version"
   ]
  },
  {
   "cell_type": "markdown",
   "id": "b7ec5ade",
   "metadata": {
    "hidden": true
   },
   "source": [
    "`conda create -n new_environment_name python=3.8`"
   ]
  },
  {
   "cell_type": "markdown",
   "id": "90477f90",
   "metadata": {
    "heading_collapsed": true
   },
   "source": [
    "##### Creating a new environment with a specified version of a package"
   ]
  },
  {
   "cell_type": "markdown",
   "id": "2c4b4b7e",
   "metadata": {
    "hidden": true
   },
   "source": [
    "`conda create -n new_environment_name packagae_name=package_version`"
   ]
  },
  {
   "cell_type": "markdown",
   "id": "2c903cc8",
   "metadata": {
    "heading_collapsed": true
   },
   "source": [
    "##### Creating a new environment using a .yaml file"
   ]
  },
  {
   "cell_type": "markdown",
   "id": "0fd463cf",
   "metadata": {
    "hidden": true
   },
   "source": [
    "`conda create -n new_environment_name --file environment.yaml`"
   ]
  },
  {
   "cell_type": "markdown",
   "id": "5d5a223e",
   "metadata": {},
   "source": [
    "#### Removing an already existing environment"
   ]
  },
  {
   "cell_type": "markdown",
   "id": "04067c96",
   "metadata": {},
   "source": [
    "1. You should be out of that environment i.e. the environment that you want to remove should not be the current working environment\n",
    "2. If you are inside the same environment that you want to remove, deactiavte/ get out of the environment first and then attempt to remove the same"
   ]
  },
  {
   "cell_type": "markdown",
   "id": "90a48c3f",
   "metadata": {},
   "source": [
    "`conda env remove -n environment_name`"
   ]
  },
  {
   "cell_type": "markdown",
   "id": "2dc88023",
   "metadata": {
    "heading_collapsed": true
   },
   "source": [
    "#### Activating an environment that we created"
   ]
  },
  {
   "cell_type": "markdown",
   "id": "bd7e77ad",
   "metadata": {
    "hidden": true
   },
   "source": [
    "`conda activate environment_name`"
   ]
  },
  {
   "cell_type": "markdown",
   "id": "8e2dc0c6",
   "metadata": {
    "heading_collapsed": true
   },
   "source": [
    "#### To return back to the base environment"
   ]
  },
  {
   "cell_type": "markdown",
   "id": "59c9a5b0",
   "metadata": {
    "hidden": true
   },
   "source": [
    "`conda deactivate`"
   ]
  }
 ],
 "metadata": {
  "kernelspec": {
   "display_name": "Python 3 (ipykernel)",
   "language": "python",
   "name": "python3"
  },
  "language_info": {
   "codemirror_mode": {
    "name": "ipython",
    "version": 3
   },
   "file_extension": ".py",
   "mimetype": "text/x-python",
   "name": "python",
   "nbconvert_exporter": "python",
   "pygments_lexer": "ipython3",
   "version": "3.9.12"
  },
  "toc": {
   "base_numbering": 1,
   "nav_menu": {},
   "number_sections": true,
   "sideBar": true,
   "skip_h1_title": false,
   "title_cell": "Table of Contents",
   "title_sidebar": "Contents",
   "toc_cell": false,
   "toc_position": {},
   "toc_section_display": true,
   "toc_window_display": false
  },
  "varInspector": {
   "cols": {
    "lenName": 16,
    "lenType": 16,
    "lenVar": 40
   },
   "kernels_config": {
    "python": {
     "delete_cmd_postfix": "",
     "delete_cmd_prefix": "del ",
     "library": "var_list.py",
     "varRefreshCmd": "print(var_dic_list())"
    },
    "r": {
     "delete_cmd_postfix": ") ",
     "delete_cmd_prefix": "rm(",
     "library": "var_list.r",
     "varRefreshCmd": "cat(var_dic_list()) "
    }
   },
   "types_to_exclude": [
    "module",
    "function",
    "builtin_function_or_method",
    "instance",
    "_Feature"
   ],
   "window_display": false
  }
 },
 "nbformat": 4,
 "nbformat_minor": 5
}

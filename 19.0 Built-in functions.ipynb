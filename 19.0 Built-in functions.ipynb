{
 "cells": [
  {
   "cell_type": "markdown",
   "id": "2eca62a3",
   "metadata": {},
   "source": [
    "#### Some more functions\n",
    "1. assert\n",
    "2. abs\n",
    "3. pow\n",
    "4. iter and next\n",
    "\n",
    "### Special built in functions\n",
    "\n",
    "1. filter\n",
    "2. map\n",
    "3. eval"
   ]
  },
  {
   "cell_type": "markdown",
   "id": "3c182aa1",
   "metadata": {},
   "source": [
    "### 1. assert function\n",
    "\n",
    "- Used usually in conditionals to check for assertions\n",
    "- Throws assertion error in case the condition is not passed\n",
    "- Usually used to raise errors\n",
    "- Usually used when we have a strict condition for something"
   ]
  },
  {
   "cell_type": "code",
   "execution_count": 2,
   "id": "0e91e8de",
   "metadata": {},
   "outputs": [
    {
     "name": "stdout",
     "output_type": "stream",
     "text": [
      "0\n"
     ]
    },
    {
     "ename": "AssertionError",
     "evalue": "",
     "output_type": "error",
     "traceback": [
      "\u001b[0;31m---------------------------------------------------------------------------\u001b[0m",
      "\u001b[0;31mAssertionError\u001b[0m                            Traceback (most recent call last)",
      "Input \u001b[0;32mIn [2]\u001b[0m, in \u001b[0;36m<cell line: 1>\u001b[0;34m()\u001b[0m\n\u001b[1;32m      1\u001b[0m \u001b[38;5;28;01mfor\u001b[39;00m i \u001b[38;5;129;01min\u001b[39;00m \u001b[38;5;28mrange\u001b[39m(\u001b[38;5;241m100\u001b[39m):\n\u001b[1;32m      2\u001b[0m     \u001b[38;5;28mprint\u001b[39m(i)\n\u001b[0;32m----> 3\u001b[0m     \u001b[38;5;28;01massert\u001b[39;00m i\u001b[38;5;241m==\u001b[39m\u001b[38;5;241m10\u001b[39m\n",
      "\u001b[0;31mAssertionError\u001b[0m: "
     ]
    }
   ],
   "source": [
    "for i in range(100):\n",
    "    print(i)\n",
    "    assert i==10"
   ]
  },
  {
   "cell_type": "code",
   "execution_count": 5,
   "id": "a79e0eaa",
   "metadata": {},
   "outputs": [
    {
     "name": "stdout",
     "output_type": "stream",
     "text": [
      "Enter the name without spaces : Subhash Rastogi\n",
      "Enter the name without spaces : Rahul Mahajan\n"
     ]
    },
    {
     "ename": "AssertionError",
     "evalue": "",
     "output_type": "error",
     "traceback": [
      "\u001b[0;31m---------------------------------------------------------------------------\u001b[0m",
      "\u001b[0;31mAssertionError\u001b[0m                            Traceback (most recent call last)",
      "Input \u001b[0;32mIn [5]\u001b[0m, in \u001b[0;36m<cell line: 4>\u001b[0;34m()\u001b[0m\n\u001b[1;32m      1\u001b[0m name1 \u001b[38;5;241m=\u001b[39m \u001b[38;5;28minput\u001b[39m(\u001b[38;5;124m'\u001b[39m\u001b[38;5;124mEnter the name without spaces : \u001b[39m\u001b[38;5;124m'\u001b[39m)\n\u001b[1;32m      2\u001b[0m name2 \u001b[38;5;241m=\u001b[39m \u001b[38;5;28minput\u001b[39m(\u001b[38;5;124m'\u001b[39m\u001b[38;5;124mEnter the name without spaces : \u001b[39m\u001b[38;5;124m'\u001b[39m)\n\u001b[0;32m----> 4\u001b[0m \u001b[38;5;28;01massert\u001b[39;00m \u001b[38;5;28mlen\u001b[39m(name1) \u001b[38;5;241m==\u001b[39m \u001b[38;5;28mlen\u001b[39m(name1\u001b[38;5;241m.\u001b[39mreplace(\u001b[38;5;124m'\u001b[39m\u001b[38;5;124m \u001b[39m\u001b[38;5;124m'\u001b[39m,\u001b[38;5;124m'\u001b[39m\u001b[38;5;124m'\u001b[39m))\n\u001b[1;32m      5\u001b[0m \u001b[38;5;28;01massert\u001b[39;00m \u001b[38;5;28mlen\u001b[39m(name2) \u001b[38;5;241m==\u001b[39m \u001b[38;5;28mlen\u001b[39m(name2\u001b[38;5;241m.\u001b[39mreplace(\u001b[38;5;124m'\u001b[39m\u001b[38;5;124m \u001b[39m\u001b[38;5;124m'\u001b[39m,\u001b[38;5;124m'\u001b[39m\u001b[38;5;124m'\u001b[39m))\n\u001b[1;32m      7\u001b[0m \u001b[38;5;28mprint\u001b[39m(\u001b[38;5;124m'\u001b[39m\u001b[38;5;124mEverything is fine...\u001b[39m\u001b[38;5;124m'\u001b[39m)\n",
      "\u001b[0;31mAssertionError\u001b[0m: "
     ]
    }
   ],
   "source": [
    "name1 = input('Enter the name without spaces : ')\n",
    "name2 = input('Enter the name without spaces : ')\n",
    "\n",
    "assert len(name1) == len(name1.replace(' ',''))\n",
    "assert len(name2) == len(name2.replace(' ',''))\n",
    "\n",
    "print('Everything is fine...')"
   ]
  },
  {
   "cell_type": "markdown",
   "id": "2f30f892",
   "metadata": {},
   "source": [
    "### 2. abs\n",
    "\n",
    "- mathematical absolute\n",
    "- returns the magnitude of the given number irrespective of its direction{sign}"
   ]
  },
  {
   "cell_type": "raw",
   "id": "2092133e",
   "metadata": {},
   "source": [
    "_-6_-5_-4_-3_-2_-1_0_1_2_3_4_5_6_"
   ]
  },
  {
   "cell_type": "code",
   "execution_count": 6,
   "id": "6028113c",
   "metadata": {},
   "outputs": [
    {
     "data": {
      "text/plain": [
       "55"
      ]
     },
     "execution_count": 6,
     "metadata": {},
     "output_type": "execute_result"
    }
   ],
   "source": [
    "abs(55)"
   ]
  },
  {
   "cell_type": "code",
   "execution_count": 7,
   "id": "2587933b",
   "metadata": {},
   "outputs": [
    {
     "data": {
      "text/plain": [
       "55"
      ]
     },
     "execution_count": 7,
     "metadata": {},
     "output_type": "execute_result"
    }
   ],
   "source": [
    "abs(-55)"
   ]
  },
  {
   "cell_type": "code",
   "execution_count": 8,
   "id": "72dd070b",
   "metadata": {},
   "outputs": [
    {
     "data": {
      "text/plain": [
       "7.346658734587635e+17"
      ]
     },
     "execution_count": 8,
     "metadata": {},
     "output_type": "execute_result"
    }
   ],
   "source": [
    "abs(-734665873458763458.47657346586485)"
   ]
  },
  {
   "cell_type": "markdown",
   "id": "83d4722b",
   "metadata": {},
   "source": [
    "### 3. pow\n",
    "\n",
    "- power"
   ]
  },
  {
   "cell_type": "raw",
   "id": "145324ac",
   "metadata": {},
   "source": [
    "pow(number, power)"
   ]
  },
  {
   "cell_type": "code",
   "execution_count": 9,
   "id": "d7873815",
   "metadata": {},
   "outputs": [
    {
     "data": {
      "text/plain": [
       "8"
      ]
     },
     "execution_count": 9,
     "metadata": {},
     "output_type": "execute_result"
    }
   ],
   "source": [
    "pow(2,3)"
   ]
  },
  {
   "cell_type": "code",
   "execution_count": 10,
   "id": "18243b14",
   "metadata": {},
   "outputs": [
    {
     "data": {
      "text/plain": [
       "25"
      ]
     },
     "execution_count": 10,
     "metadata": {},
     "output_type": "execute_result"
    }
   ],
   "source": [
    "pow(5,2)"
   ]
  },
  {
   "cell_type": "markdown",
   "id": "f4530e62",
   "metadata": {},
   "source": [
    "### 4. Writing numbers in exponential terms"
   ]
  },
  {
   "cell_type": "code",
   "execution_count": 11,
   "id": "28db8a84",
   "metadata": {},
   "outputs": [
    {
     "data": {
      "text/plain": [
       "0.001"
      ]
     },
     "execution_count": 11,
     "metadata": {},
     "output_type": "execute_result"
    }
   ],
   "source": [
    "number = 1e-3\n",
    "number"
   ]
  },
  {
   "cell_type": "code",
   "execution_count": 12,
   "id": "f09325e3",
   "metadata": {},
   "outputs": [
    {
     "data": {
      "text/plain": [
       "1000000.0"
      ]
     },
     "execution_count": 12,
     "metadata": {},
     "output_type": "execute_result"
    }
   ],
   "source": [
    "number = 1e6\n",
    "number"
   ]
  },
  {
   "cell_type": "markdown",
   "id": "fcbec2f7",
   "metadata": {},
   "source": [
    "### 5 . iter and next"
   ]
  },
  {
   "cell_type": "code",
   "execution_count": 24,
   "id": "d65d6038",
   "metadata": {},
   "outputs": [
    {
     "data": {
      "text/plain": [
       "list"
      ]
     },
     "execution_count": 24,
     "metadata": {},
     "output_type": "execute_result"
    }
   ],
   "source": [
    "my_list = [1,5,2,3,7,8]\n",
    "type(my_list)"
   ]
  },
  {
   "cell_type": "code",
   "execution_count": 23,
   "id": "857b1aa9",
   "metadata": {},
   "outputs": [
    {
     "data": {
      "text/plain": [
       "list_iterator"
      ]
     },
     "execution_count": 23,
     "metadata": {},
     "output_type": "execute_result"
    }
   ],
   "source": [
    "# Converting the iterable into an iter object\n",
    "iter_my_list = iter(my_list)\n",
    "\n",
    "type(iter_my_list)"
   ]
  },
  {
   "cell_type": "code",
   "execution_count": 15,
   "id": "45c74c48",
   "metadata": {},
   "outputs": [
    {
     "data": {
      "text/plain": [
       "1"
      ]
     },
     "execution_count": 15,
     "metadata": {},
     "output_type": "execute_result"
    }
   ],
   "source": [
    "next(iter_my_list)"
   ]
  },
  {
   "cell_type": "code",
   "execution_count": 16,
   "id": "a46349a7",
   "metadata": {},
   "outputs": [
    {
     "data": {
      "text/plain": [
       "5"
      ]
     },
     "execution_count": 16,
     "metadata": {},
     "output_type": "execute_result"
    }
   ],
   "source": [
    "next(iter_my_list)"
   ]
  },
  {
   "cell_type": "code",
   "execution_count": 17,
   "id": "92b7a8f8",
   "metadata": {},
   "outputs": [
    {
     "data": {
      "text/plain": [
       "2"
      ]
     },
     "execution_count": 17,
     "metadata": {},
     "output_type": "execute_result"
    }
   ],
   "source": [
    "next(iter_my_list)"
   ]
  },
  {
   "cell_type": "code",
   "execution_count": 18,
   "id": "0fb2218b",
   "metadata": {},
   "outputs": [
    {
     "data": {
      "text/plain": [
       "3"
      ]
     },
     "execution_count": 18,
     "metadata": {},
     "output_type": "execute_result"
    }
   ],
   "source": [
    "next(iter_my_list)"
   ]
  },
  {
   "cell_type": "code",
   "execution_count": 19,
   "id": "bf845120",
   "metadata": {},
   "outputs": [
    {
     "data": {
      "text/plain": [
       "7"
      ]
     },
     "execution_count": 19,
     "metadata": {},
     "output_type": "execute_result"
    }
   ],
   "source": [
    "next(iter_my_list)"
   ]
  },
  {
   "cell_type": "code",
   "execution_count": 20,
   "id": "0e12da08",
   "metadata": {},
   "outputs": [
    {
     "data": {
      "text/plain": [
       "8"
      ]
     },
     "execution_count": 20,
     "metadata": {},
     "output_type": "execute_result"
    }
   ],
   "source": [
    "next(iter_my_list)"
   ]
  },
  {
   "cell_type": "code",
   "execution_count": 21,
   "id": "22a5318e",
   "metadata": {},
   "outputs": [
    {
     "ename": "StopIteration",
     "evalue": "",
     "output_type": "error",
     "traceback": [
      "\u001b[0;31m---------------------------------------------------------------------------\u001b[0m",
      "\u001b[0;31mStopIteration\u001b[0m                             Traceback (most recent call last)",
      "Input \u001b[0;32mIn [21]\u001b[0m, in \u001b[0;36m<cell line: 1>\u001b[0;34m()\u001b[0m\n\u001b[0;32m----> 1\u001b[0m \u001b[38;5;28;43mnext\u001b[39;49m\u001b[43m(\u001b[49m\u001b[43miter_my_list\u001b[49m\u001b[43m)\u001b[49m\n",
      "\u001b[0;31mStopIteration\u001b[0m: "
     ]
    }
   ],
   "source": [
    "next(iter_my_list)"
   ]
  },
  {
   "cell_type": "markdown",
   "id": "d3540175",
   "metadata": {},
   "source": [
    "### 1. filter function\n",
    "\n",
    "\n",
    "- used to filter out things based on a certain condition\n",
    "- Takes in a function-object and an iterable to operate the function up on\n",
    "- Returns an iterable with elements from the input iterable which satisfied the criteria\n",
    "- returns an iterable filtered object that can be converted into a list/tuple/set etc by typecasting to be used"
   ]
  },
  {
   "cell_type": "markdown",
   "id": "c401b9d9",
   "metadata": {},
   "source": [
    "### Syntax : "
   ]
  },
  {
   "cell_type": "markdown",
   "id": "afa284df",
   "metadata": {},
   "source": [
    "```python\n",
    "filter(function_object, iterable)\n",
    "```"
   ]
  },
  {
   "cell_type": "raw",
   "id": "d3f38d43",
   "metadata": {},
   "source": [
    "sum()  > function\n",
    "sum    > function-object"
   ]
  },
  {
   "cell_type": "code",
   "execution_count": 28,
   "id": "b89e8d23",
   "metadata": {},
   "outputs": [
    {
     "data": {
      "text/plain": [
       "5"
      ]
     },
     "execution_count": 28,
     "metadata": {},
     "output_type": "execute_result"
    }
   ],
   "source": [
    "# To create a function object we just write the name of the function without parenthesis\n",
    "# We can store function objects in diff variables as well\n",
    "x = sum # creating the function object\n",
    "\n",
    "\n",
    "# to use a function object all we have to do is just use parenthesis in front of the function object and \n",
    "# provide the exact number of arguments that the original function takes\n",
    "x((2,3)) # using the function object"
   ]
  },
  {
   "cell_type": "code",
   "execution_count": 42,
   "id": "be7bd6b3",
   "metadata": {},
   "outputs": [],
   "source": [
    "my_list = [i for i in range(1,100)]\n",
    "\n",
    "lmb_div_7 = lambda x : True if x%7==0 else False"
   ]
  },
  {
   "cell_type": "code",
   "execution_count": 43,
   "id": "86bb6641",
   "metadata": {},
   "outputs": [
    {
     "data": {
      "text/plain": [
       "filter"
      ]
     },
     "execution_count": 43,
     "metadata": {},
     "output_type": "execute_result"
    }
   ],
   "source": [
    "my_filtered_object = filter(lmb_div_7, my_list)\n",
    "\n",
    "type(my_filtered_object)"
   ]
  },
  {
   "cell_type": "code",
   "execution_count": 41,
   "id": "e7aba828",
   "metadata": {},
   "outputs": [
    {
     "data": {
      "text/plain": [
       "[7, 14, 21, 28, 35, 42, 49, 56, 63, 70, 77, 84, 91, 98]"
      ]
     },
     "execution_count": 41,
     "metadata": {},
     "output_type": "execute_result"
    }
   ],
   "source": [
    "list(my_filtered_object)"
   ]
  },
  {
   "cell_type": "code",
   "execution_count": 36,
   "id": "907d7db2",
   "metadata": {},
   "outputs": [
    {
     "data": {
      "text/plain": [
       "[7, 14, 21, 28, 35, 42, 49, 56, 63, 70, 77, 84, 91, 98]"
      ]
     },
     "execution_count": 36,
     "metadata": {},
     "output_type": "execute_result"
    }
   ],
   "source": [
    "[i for i in my_list if lmb_div_7(i)==True]"
   ]
  },
  {
   "cell_type": "code",
   "execution_count": null,
   "id": "6be73e4b",
   "metadata": {},
   "outputs": [],
   "source": []
  },
  {
   "cell_type": "code",
   "execution_count": 44,
   "id": "4ceb7408",
   "metadata": {},
   "outputs": [
    {
     "data": {
      "text/plain": [
       "filter"
      ]
     },
     "execution_count": 44,
     "metadata": {},
     "output_type": "execute_result"
    }
   ],
   "source": [
    "name_list = ['ashutosh', 'Sangram', 'swapnil', 'Musaib', 'Gayatri', 'ketali']\n",
    "\n",
    "lowercaser = lambda x : x.islower()\n",
    "\n",
    "filtered_names = filter(lowercaser, name_list)\n",
    "type(filtered_names)"
   ]
  },
  {
   "cell_type": "code",
   "execution_count": 45,
   "id": "6c102581",
   "metadata": {},
   "outputs": [
    {
     "data": {
      "text/plain": [
       "('ashutosh', 'swapnil', 'ketali')"
      ]
     },
     "execution_count": 45,
     "metadata": {},
     "output_type": "execute_result"
    }
   ],
   "source": [
    "tuple(filtered_names)"
   ]
  },
  {
   "cell_type": "code",
   "execution_count": null,
   "id": "ee155f83",
   "metadata": {},
   "outputs": [],
   "source": []
  },
  {
   "cell_type": "markdown",
   "id": "72135ec6",
   "metadata": {},
   "source": [
    "### 2. map\n",
    "\n",
    "- to implement a function on a number of elements at once"
   ]
  },
  {
   "cell_type": "markdown",
   "id": "802aa020",
   "metadata": {},
   "source": [
    "#### Syntax : "
   ]
  },
  {
   "cell_type": "markdown",
   "id": "8c3e64ce",
   "metadata": {},
   "source": [
    "```python\n",
    "map(function_object, iterable)\n",
    "```"
   ]
  },
  {
   "cell_type": "markdown",
   "id": "82871434",
   "metadata": {},
   "source": [
    "##### Single parameter"
   ]
  },
  {
   "cell_type": "code",
   "execution_count": 48,
   "id": "f2a40953",
   "metadata": {},
   "outputs": [
    {
     "data": {
      "text/plain": [
       "[1, 2, 3, 4, 5, 6, 7, 8, 9, 10]"
      ]
     },
     "execution_count": 48,
     "metadata": {},
     "output_type": "execute_result"
    }
   ],
   "source": [
    "adder_2 = lambda x : x+2\n",
    "\n",
    "my_list = list(range(1,11))\n",
    "my_list"
   ]
  },
  {
   "cell_type": "code",
   "execution_count": 50,
   "id": "c2b6b162",
   "metadata": {},
   "outputs": [
    {
     "data": {
      "text/plain": [
       "map"
      ]
     },
     "execution_count": 50,
     "metadata": {},
     "output_type": "execute_result"
    }
   ],
   "source": [
    "mapped_object = map(adder_2, my_list)\n",
    "type(mapped_object)"
   ]
  },
  {
   "cell_type": "code",
   "execution_count": 51,
   "id": "a6012d31",
   "metadata": {},
   "outputs": [
    {
     "data": {
      "text/plain": [
       "[3, 4, 5, 6, 7, 8, 9, 10, 11, 12]"
      ]
     },
     "execution_count": 51,
     "metadata": {},
     "output_type": "execute_result"
    }
   ],
   "source": [
    "list(mapped_object)"
   ]
  },
  {
   "cell_type": "markdown",
   "id": "46001182",
   "metadata": {},
   "source": [
    "##### Multiple parameters"
   ]
  },
  {
   "cell_type": "raw",
   "id": "7a633015",
   "metadata": {},
   "source": [
    "All the lists should have equal number of elements"
   ]
  },
  {
   "cell_type": "code",
   "execution_count": 56,
   "id": "ec450bf1",
   "metadata": {},
   "outputs": [
    {
     "name": "stdout",
     "output_type": "stream",
     "text": [
      "Both lists are of equal lengths...\n",
      "mapping the function on the iterables....\n",
      "Mapped object data type : <class 'map'>\n",
      "\n",
      "First list : [1, 2, 3, 4, 5, 6, 7, 8, 9, 10]\n",
      "Second list : [11, 12, 13, 14, 15, 16, 17, 18, 19, 20]\n",
      "\n",
      "Final list : [11, 24, 39, 56, 75, 96, 119, 144, 171, 200]\n"
     ]
    }
   ],
   "source": [
    "product_function = lambda x,y : x*y\n",
    "\n",
    "my_list_1 = list(range(1,11))\n",
    "my_list_2 = list(range(11,21))\n",
    "\n",
    "assert len(my_list_1) == len(my_list_2)\n",
    "\n",
    "print('Both lists are of equal lengths...')\n",
    "print('mapping the function on the iterables....')\n",
    "\n",
    "mapped_object = map(product_function, my_list_1, my_list_2)\n",
    "print(f'Mapped object data type : {type(mapped_object)}\\n')\n",
    "\n",
    "final_list = list(mapped_object)\n",
    "print(f'First list : {my_list_1}')\n",
    "print(f'Second list : {my_list_2}\\n')\n",
    "print(f'Final list : {final_list}')"
   ]
  },
  {
   "cell_type": "markdown",
   "id": "3b474690",
   "metadata": {},
   "source": [
    "### 3. eval\n",
    "\n",
    "- used to execute expressions in strings"
   ]
  },
  {
   "cell_type": "code",
   "execution_count": 60,
   "id": "a9675826",
   "metadata": {},
   "outputs": [
    {
     "data": {
      "text/plain": [
       "'print(\"I am Groot !\")'"
      ]
     },
     "execution_count": 60,
     "metadata": {},
     "output_type": "execute_result"
    }
   ],
   "source": [
    "x = 'print(\"I am Groot !\")'\n",
    "x"
   ]
  },
  {
   "cell_type": "code",
   "execution_count": 58,
   "id": "b1aeda22",
   "metadata": {},
   "outputs": [
    {
     "name": "stdout",
     "output_type": "stream",
     "text": [
      "I am Groot !\n"
     ]
    }
   ],
   "source": [
    "print(\"I am Groot !\")"
   ]
  },
  {
   "cell_type": "code",
   "execution_count": 59,
   "id": "c55a1925",
   "metadata": {},
   "outputs": [
    {
     "name": "stdout",
     "output_type": "stream",
     "text": [
      "I am Groot !\n"
     ]
    }
   ],
   "source": [
    "eval(x)"
   ]
  },
  {
   "cell_type": "code",
   "execution_count": null,
   "id": "e898cb9a",
   "metadata": {},
   "outputs": [],
   "source": []
  },
  {
   "cell_type": "code",
   "execution_count": 61,
   "id": "321e827d",
   "metadata": {},
   "outputs": [
    {
     "ename": "SyntaxError",
     "evalue": "invalid syntax (<string>, line 1)",
     "output_type": "error",
     "traceback": [
      "Traceback \u001b[0;36m(most recent call last)\u001b[0m:\n",
      "  File \u001b[1;32m~/miniforge3/lib/python3.9/site-packages/IPython/core/interactiveshell.py:3397\u001b[0m in \u001b[1;35mrun_code\u001b[0m\n    exec(code_obj, self.user_global_ns, self.user_ns)\n",
      "\u001b[0;36m  Input \u001b[0;32mIn [61]\u001b[0;36m in \u001b[0;35m<cell line: 3>\u001b[0;36m\u001b[0m\n\u001b[0;31m    eval(y)\u001b[0m\n",
      "\u001b[0;36m  File \u001b[0;32m<string>:1\u001b[0;36m\u001b[0m\n\u001b[0;31m    x=55\u001b[0m\n\u001b[0m     ^\u001b[0m\n\u001b[0;31mSyntaxError\u001b[0m\u001b[0;31m:\u001b[0m invalid syntax\n"
     ]
    }
   ],
   "source": [
    "y = 'x=55'\n",
    "\n",
    "eval(y)"
   ]
  },
  {
   "cell_type": "code",
   "execution_count": null,
   "id": "b81ee075",
   "metadata": {},
   "outputs": [],
   "source": []
  }
 ],
 "metadata": {
  "kernelspec": {
   "display_name": "Python 3 (ipykernel)",
   "language": "python",
   "name": "python3"
  },
  "language_info": {
   "codemirror_mode": {
    "name": "ipython",
    "version": 3
   },
   "file_extension": ".py",
   "mimetype": "text/x-python",
   "name": "python",
   "nbconvert_exporter": "python",
   "pygments_lexer": "ipython3",
   "version": "3.9.13"
  }
 },
 "nbformat": 4,
 "nbformat_minor": 5
}

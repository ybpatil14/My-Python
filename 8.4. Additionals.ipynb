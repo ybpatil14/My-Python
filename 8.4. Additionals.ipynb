{
 "cells": [
  {
   "cell_type": "code",
   "execution_count": 1,
   "id": "0bc0dacc",
   "metadata": {},
   "outputs": [
    {
     "name": "stdout",
     "output_type": "stream",
     "text": [
      "Nilut\n"
     ]
    },
    {
     "data": {
      "text/plain": [
       "'Nilut'"
      ]
     },
     "execution_count": 1,
     "metadata": {},
     "output_type": "execute_result"
    }
   ],
   "source": [
    "# 1. taking input from the user\n",
    "input()"
   ]
  },
  {
   "cell_type": "code",
   "execution_count": 4,
   "id": "41e84260",
   "metadata": {},
   "outputs": [
    {
     "name": "stdout",
     "output_type": "stream",
     "text": [
      "Groot\n",
      "My name is : Groot\n"
     ]
    }
   ],
   "source": [
    "name = input()\n",
    "print(f'My name is : {name}')"
   ]
  },
  {
   "cell_type": "code",
   "execution_count": 5,
   "id": "40d8034a",
   "metadata": {},
   "outputs": [
    {
     "name": "stdout",
     "output_type": "stream",
     "text": [
      "55\n",
      "The number is 55\n",
      "The data-type of the number is <class 'str'>\n"
     ]
    }
   ],
   "source": [
    "# input function would always generate a string value\n",
    "number = input()\n",
    "print(f'The number is {number}')\n",
    "print(f'The data-type of the number is {type(number)}')"
   ]
  },
  {
   "cell_type": "code",
   "execution_count": 6,
   "id": "01fcd6a9",
   "metadata": {},
   "outputs": [
    {
     "name": "stdout",
     "output_type": "stream",
     "text": [
      "Please enter the number 1:\n",
      "2\n",
      "Please enter the number 2:\n",
      "4\n",
      "The addition of 2 and 4 is 6\n"
     ]
    }
   ],
   "source": [
    "print('Please enter the number 1:')\n",
    "number1 = int(input())\n",
    "print('Please enter the number 2:')\n",
    "number2 = int(input())\n",
    "\n",
    "sum_ = number1+number2\n",
    "\n",
    "print(f'The addition of {number1} and {number2} is {sum_}')"
   ]
  },
  {
   "cell_type": "code",
   "execution_count": 8,
   "id": "423e81af",
   "metadata": {},
   "outputs": [
    {
     "name": "stdout",
     "output_type": "stream",
     "text": [
      "Please enter the number 1:\n",
      "1\n",
      "Please enter the number 2:\n",
      "1\n",
      "The addition of 1 and 1 is 11\n"
     ]
    }
   ],
   "source": [
    "print('Please enter the number 1:')\n",
    "number1 = input()\n",
    "print('Please enter the number 2:')\n",
    "number2 = input()\n",
    "\n",
    "sum_ = number1+number2\n",
    "\n",
    "print(f'The addition of {number1} and {number2} is {sum_}')"
   ]
  },
  {
   "cell_type": "code",
   "execution_count": null,
   "id": "6f4250d1",
   "metadata": {},
   "outputs": [],
   "source": []
  },
  {
   "cell_type": "code",
   "execution_count": 10,
   "id": "4b91e330",
   "metadata": {},
   "outputs": [
    {
     "name": "stdout",
     "output_type": "stream",
     "text": [
      "Please enter the word : \n",
      "dinosaur\n",
      "The word entered is : dinosaur\n",
      "The word : dinosaur starts with the consonant d !\n"
     ]
    }
   ],
   "source": [
    "print('Please enter the word : ')\n",
    "word = input()\n",
    "print(f'The word entered is : {word}')\n",
    "vowels = 'aeiouAEIOU'\n",
    "if vowels.__contains__(word[0]):\n",
    "    print(f'The word : {word} starts with the vowel {word[0].lower()} !')\n",
    "else:\n",
    "    print(f'The word : {word} starts with the consonant {word[0].lower()} !')"
   ]
  },
  {
   "cell_type": "code",
   "execution_count": null,
   "id": "1ebb54b0",
   "metadata": {},
   "outputs": [],
   "source": []
  },
  {
   "cell_type": "code",
   "execution_count": 21,
   "id": "ff1990fc",
   "metadata": {},
   "outputs": [
    {
     "name": "stdout",
     "output_type": "stream",
     "text": [
      "Enter your full name : \n",
      "Groot Yadav\n",
      "Enter your age : \n",
      "500\n",
      "Enter the name of your city : \n",
      "Chandrapur\n",
      "Enter the name of your state : \n",
      "Maharashtra\n",
      "\n",
      "Please verify your details : \n",
      "name of the candidate : Groot Yadav\n",
      "Age of the candidate is : 500\n",
      "Location of the candidate is : Chandrapur,Maharashtra\n"
     ]
    }
   ],
   "source": [
    "print('Enter your full name : ')\n",
    "name = input()\n",
    "print('Enter your age : ')\n",
    "age = int(input())\n",
    "print('Enter the name of your city : ')\n",
    "city = input()\n",
    "print('Enter the name of your state : ')\n",
    "state = input()\n",
    "\n",
    "print()\n",
    "print('Please verify your details : ')\n",
    "print(f'name of the candidate : {name}')\n",
    "print(f'Age of the candidate is : {age}')\n",
    "print(f'Location of the candidate is : {city},{state}')"
   ]
  },
  {
   "cell_type": "code",
   "execution_count": 17,
   "id": "f81f6316",
   "metadata": {},
   "outputs": [
    {
     "name": "stdout",
     "output_type": "stream",
     "text": [
      "1\n",
      "2\n",
      "3\n",
      "\n",
      "A\n",
      "B\n",
      "C\n"
     ]
    }
   ],
   "source": [
    "print(1)\n",
    "print(2)\n",
    "print(3)\n",
    "print()\n",
    "print('A')\n",
    "print('B')\n",
    "print('C')"
   ]
  },
  {
   "cell_type": "code",
   "execution_count": null,
   "id": "03fa708a",
   "metadata": {},
   "outputs": [],
   "source": []
  },
  {
   "cell_type": "code",
   "execution_count": 23,
   "id": "4ccf90cf",
   "metadata": {},
   "outputs": [
    {
     "name": "stdout",
     "output_type": "stream",
     "text": [
      "Enter your age : \n",
      "25\n"
     ]
    }
   ],
   "source": [
    "print('Enter your age : ')\n",
    "x = input()"
   ]
  },
  {
   "cell_type": "code",
   "execution_count": 24,
   "id": "80efcff6",
   "metadata": {},
   "outputs": [
    {
     "name": "stdout",
     "output_type": "stream",
     "text": [
      "Abc\n",
      "def\n"
     ]
    }
   ],
   "source": [
    "x = input()\n",
    "y = input()"
   ]
  },
  {
   "cell_type": "code",
   "execution_count": 25,
   "id": "58d067fe",
   "metadata": {},
   "outputs": [
    {
     "name": "stdout",
     "output_type": "stream",
     "text": [
      "Please enter your name : Amish Tripathi\n",
      "\n",
      "The name entered is : Amish Tripathi\n"
     ]
    }
   ],
   "source": [
    "name = input('Please enter your name : ')\n",
    "print()\n",
    "print(f'The name entered is : {name}')"
   ]
  },
  {
   "cell_type": "code",
   "execution_count": null,
   "id": "ef4990c7",
   "metadata": {},
   "outputs": [],
   "source": []
  },
  {
   "cell_type": "markdown",
   "id": "1992b5a1",
   "metadata": {},
   "source": [
    "# Problem statement #1"
   ]
  },
  {
   "cell_type": "raw",
   "id": "78005917",
   "metadata": {},
   "source": [
    "Ram and shyam are brothers. Ram earns 1000 rs per day while shyam earns 1500. Ram saves 10% of his income everyday. Shyam saves just 7%. How much do they both save in a month."
   ]
  },
  {
   "cell_type": "raw",
   "id": "7d29cf43",
   "metadata": {},
   "source": [
    "month_days = 55\n",
    "\n",
    "print('Invalid number of days in the month !')"
   ]
  },
  {
   "cell_type": "code",
   "execution_count": null,
   "id": "5d65ea68",
   "metadata": {},
   "outputs": [],
   "source": []
  },
  {
   "cell_type": "code",
   "execution_count": 33,
   "id": "6b686a56",
   "metadata": {
    "scrolled": true
   },
   "outputs": [
    {
     "name": "stdout",
     "output_type": "stream",
     "text": [
      "ram earn 1000 and save 3100 in 31 days\n",
      "\n",
      "shyam earn 1500 and save 3255 in 31 days\n"
     ]
    }
   ],
   "source": [
    "name, name2 = 'ram',\"shyam\"\n",
    "earn,earn1 = 1000, 1500\n",
    "ram_save = int(earn*0.10)\n",
    "shyam_save = int(earn1*0.07)\n",
    "days = 31\n",
    "print(f'{name} earn {earn} and save {ram_save*days} in {days} days')\n",
    "print()\n",
    "print(f'{name2} earn {earn1} and save {shyam_save*days} in {days} days')"
   ]
  },
  {
   "cell_type": "code",
   "execution_count": null,
   "id": "6eec1da6",
   "metadata": {},
   "outputs": [],
   "source": []
  },
  {
   "cell_type": "code",
   "execution_count": 37,
   "id": "e6f15985",
   "metadata": {},
   "outputs": [
    {
     "name": "stdout",
     "output_type": "stream",
     "text": [
      "Enters number of days in month: 28\n",
      "Enter Ram's Salary: 1000\n",
      "Enter Shyam's Salary: 1200\n",
      "Enter Saving % of Ram:10\n",
      "Enter Saving % of Shyam:10\n",
      "3460.0\n"
     ]
    }
   ],
   "source": [
    "month_days=int(input(\"Enters number of days in month: \"))\n",
    "if 28<=month_days<=31:\n",
    "    ram_sal=int(input(\"Enter Ram's Salary: \"))\n",
    "    shyam_sal=int(input(\"Enter Shyam's Salary: \"))\n",
    "    ram_save=int(input(\"Enter Saving % of Ram:\"))\n",
    "    shyam_save=int(input(\"Enter Saving % of Shyam:\"))\n",
    "\n",
    "    total_save=(ram_sal*(ram_save/100)+shyam_sal*(shyam_save/100)*month_days)\n",
    "    print(total_save)\n",
    "else:\n",
    "    print('Number of days is not valid !')"
   ]
  },
  {
   "cell_type": "code",
   "execution_count": null,
   "id": "580ab331",
   "metadata": {},
   "outputs": [],
   "source": []
  },
  {
   "cell_type": "code",
   "execution_count": 42,
   "id": "4a407818",
   "metadata": {},
   "outputs": [
    {
     "name": "stdout",
     "output_type": "stream",
     "text": [
      "Enter the Ram's earning per month1000\n",
      "Enter the Shyam's earning per month1000\n",
      "enter the % of Ram saves10\n",
      "Eneter % of shyam saves10\n",
      "Enter the month nameFeb\n",
      "enter month days55\n"
     ]
    },
    {
     "ename": "TypeError",
     "evalue": "unsupported operand type(s) for /: 'str' and 'int'",
     "output_type": "error",
     "traceback": [
      "\u001b[0;31m---------------------------------------------------------------------------\u001b[0m",
      "\u001b[0;31mTypeError\u001b[0m                                 Traceback (most recent call last)",
      "Input \u001b[0;32mIn [42]\u001b[0m, in \u001b[0;36m<cell line: 8>\u001b[0;34m()\u001b[0m\n\u001b[1;32m      9\u001b[0m     \u001b[38;5;28mprint\u001b[39m(\u001b[38;5;124m\"\u001b[39m\u001b[38;5;124mEnetred month is not valid\u001b[39m\u001b[38;5;124m\"\u001b[39m)\n\u001b[1;32m     10\u001b[0m \u001b[38;5;28;01melse\u001b[39;00m:\n\u001b[0;32m---> 11\u001b[0m     Ramsave\u001b[38;5;241m=\u001b[39m\u001b[43mRam_earns\u001b[49m\u001b[38;5;241;43m*\u001b[39;49m\u001b[43mram_save\u001b[49m\u001b[38;5;241;43m/\u001b[39;49m\u001b[38;5;241;43m100\u001b[39;49m\n\u001b[1;32m     12\u001b[0m     Shamsave\u001b[38;5;241m=\u001b[39msham_earns\u001b[38;5;241m*\u001b[39msham_save\u001b[38;5;241m/\u001b[39m\u001b[38;5;241m100\u001b[39m\n\u001b[1;32m     13\u001b[0m     total_save\u001b[38;5;241m=\u001b[39mRamsave\u001b[38;5;241m+\u001b[39mShamsave\n",
      "\u001b[0;31mTypeError\u001b[0m: unsupported operand type(s) for /: 'str' and 'int'"
     ]
    }
   ],
   "source": [
    "Ram_earns=input(\"Enter the Ram's earning per month\")\n",
    "Sham_earns=input(\"Enter the Shyam's earning per month\")\n",
    "ram_save=int(input(\"enter the % of Ram saves\"))\n",
    "sham_save=int(input(\"Eneter % of shyam saves\"))\n",
    "month=input(\"Enter the month name\")\n",
    "month_days=int(input(\"enter month days\"))\n",
    "\n",
    "if month_days<=28:\n",
    "    print(\"Enetred month is not valid\")\n",
    "else:\n",
    "    Ramsave=Ram_earns*ram_save/100\n",
    "    Shamsave=sham_earns*sham_save/100\n",
    "    total_save=Ramsave+Shamsave\n",
    "    print(\"Total saving sof both is :\", {total_save})"
   ]
  },
  {
   "cell_type": "code",
   "execution_count": null,
   "id": "d39bff18",
   "metadata": {},
   "outputs": [],
   "source": []
  },
  {
   "cell_type": "code",
   "execution_count": 46,
   "id": "9dc58032",
   "metadata": {},
   "outputs": [
    {
     "name": "stdout",
     "output_type": "stream",
     "text": [
      "Ram's Salary =\n",
      "1000\n",
      "Shyam's Salary =\n",
      "1000\n",
      "Daily Savings Percentage for Ram =\n",
      "15\n",
      "Daily Savings Percentage for Shyam =\n",
      "10\n",
      "Specify the month = \n",
      "28\n",
      "Ram and Shyam salary were 28000 and 28000 for the month. They collectively saved 700.0 for 28 days\n"
     ]
    }
   ],
   "source": [
    "print(\"Ram's Salary =\")\n",
    "num1 = int(input())\n",
    "print(\"Shyam's Salary =\")\n",
    "num2 = int(input())\n",
    "\n",
    "print(\"Daily Savings Percentage for Ram =\")\n",
    "save1 = int(input())\n",
    "print(\"Daily Savings Percentage for Shyam =\")\n",
    "save2 = int(input())\n",
    "\n",
    "print(\"Specify the month = \")\n",
    "month = int(input())\n",
    "\n",
    "ram_saves = save1/100\n",
    "shyam_saves = save2/100\n",
    "\n",
    "if 28<=month<=31:\n",
    "    print(f\"Ram and Shyam salary were {num1*month} and {num2*month} for the month. They collectively saved {(ram_saves+shyam_saves)*month*100} for {month} days\")\n",
    "else:\n",
    "    print('Please enter a valid value !')"
   ]
  },
  {
   "cell_type": "code",
   "execution_count": 48,
   "id": "ec9ff0c5",
   "metadata": {},
   "outputs": [
    {
     "data": {
      "text/plain": [
       "4200.0"
      ]
     },
     "execution_count": 48,
     "metadata": {},
     "output_type": "execute_result"
    }
   ],
   "source": [
    "(1000 * 0.15)*28"
   ]
  },
  {
   "cell_type": "code",
   "execution_count": null,
   "id": "abfab1b0",
   "metadata": {},
   "outputs": [],
   "source": []
  },
  {
   "cell_type": "code",
   "execution_count": 53,
   "id": "35efbbd6",
   "metadata": {},
   "outputs": [
    {
     "name": "stdout",
     "output_type": "stream",
     "text": [
      "Enter's Ram's Income per day :1000\n",
      "Enter Shyam's Income per day : 2000\n",
      "\n",
      "Enter Number of Days : 55\n",
      "Invalid Days\n"
     ]
    }
   ],
   "source": [
    "# Ashutosh Singh\n",
    "\n",
    "Ram_income = int(input(\"Enter's Ram's Income per day :\"))\n",
    "Shyam_income = int(input(\"Enter Shyam's Income per day : \"))\n",
    "\n",
    "print()\n",
    "days = input('Enter Number of Days : ')\n",
    "\n",
    "if days == '31' or days== '30' or days =='28' or days =='29':\n",
    "    print()\n",
    "    print(f'Ram monthly Income : {int(days)*Ram_income}')\n",
    "    print(f'Shyam monthly Income : {int(days)*Shyam_income}')\n",
    "    print()\n",
    "    Ram_saving = input(\"Ram's saving percentage : \")\n",
    "    Shyam_saving = input(\"Shyam's saving percentage : \")\n",
    "    \n",
    "    if(int(Ram_saving)<=100 or int(Shyam_saving)<=100 ):\n",
    "        R_s = (int(Ram_income)*int(days))*(int(Ram_saving)/100)\n",
    "        S_s = (int(Shyam_income)*int(days))*(int(Shyam_saving)/100)\n",
    "        print()\n",
    "        print(f'Ram Saving : {R_s}')\n",
    "        print(f'Shyam Saving : {S_s}')\n",
    "    else: \n",
    "        print(\"Invalid Saving Percentage\")\n",
    "        \n",
    "else:\n",
    "    print(\"Invalid Days\")"
   ]
  },
  {
   "cell_type": "code",
   "execution_count": null,
   "id": "de32f68e",
   "metadata": {},
   "outputs": [],
   "source": []
  },
  {
   "cell_type": "code",
   "execution_count": 83,
   "id": "3a3ecc66",
   "metadata": {
    "scrolled": true
   },
   "outputs": [
    {
     "name": "stdout",
     "output_type": "stream",
     "text": [
      "ram salary : 1000\n",
      "the ram salary is 1000\n",
      "shyam salary : 1200\n",
      "the shyam salary is 1200\n",
      "month days: 22\n",
      "4048\n"
     ]
    }
   ],
   "source": [
    "ram=int(input(\"ram salary : \"))\n",
    "print(f\"the ram salary is {ram}\")\n",
    "shyam=int(input(\"shyam salary : \"))\n",
    "print(f\"the shyam salary is {shyam}\")\n",
    "ram_savings =int(ram*0.10)\n",
    "shyam_savings=int(shyam*0.07)\n",
    "month=int(input(\"month days: \"))\n",
    "\n",
    "if month>=31:\n",
    "    print(\"month day is invalid\")\n",
    "\n",
    "total_saving =int((ram_savings+shyam_savings)*month)\n",
    "print(total_saving)\n",
    "# print(f\"the total saving in month is {int(total_saving)}\")"
   ]
  },
  {
   "cell_type": "code",
   "execution_count": null,
   "id": "18fe14f8",
   "metadata": {},
   "outputs": [],
   "source": []
  }
 ],
 "metadata": {
  "kernelspec": {
   "display_name": "Python 3 (ipykernel)",
   "language": "python",
   "name": "python3"
  },
  "language_info": {
   "codemirror_mode": {
    "name": "ipython",
    "version": 3
   },
   "file_extension": ".py",
   "mimetype": "text/x-python",
   "name": "python",
   "nbconvert_exporter": "python",
   "pygments_lexer": "ipython3",
   "version": "3.9.12"
  }
 },
 "nbformat": 4,
 "nbformat_minor": 5
}

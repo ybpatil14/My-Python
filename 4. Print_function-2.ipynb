{
 "cells": [
  {
   "cell_type": "markdown",
   "id": "4ddce060",
   "metadata": {},
   "source": [
    "- Can explicitly define the seperators and the end elements"
   ]
  },
  {
   "cell_type": "code",
   "execution_count": 1,
   "id": "6e1cbca4",
   "metadata": {},
   "outputs": [
    {
     "name": "stdout",
     "output_type": "stream",
     "text": [
      "I am Groot\n"
     ]
    }
   ],
   "source": [
    "x = 'I'\n",
    "y = 'am'\n",
    "z = 'Groot'\n",
    "\n",
    "print(x,y,z)"
   ]
  },
  {
   "cell_type": "markdown",
   "id": "d7fe7f3d",
   "metadata": {},
   "source": [
    "## parameter 1 : sep:\n",
    "- Used to provide explicitly the connecting elements\n",
    "- Can be used only if there are multiple items in the print statement : minimum 2 elements are required\n",
    "- separator should be a string only"
   ]
  },
  {
   "cell_type": "code",
   "execution_count": 6,
   "id": "a064fa6a",
   "metadata": {},
   "outputs": [
    {
     "name": "stdout",
     "output_type": "stream",
     "text": [
      "Groot\n"
     ]
    }
   ],
   "source": [
    "print(z,sep = '_')"
   ]
  },
  {
   "cell_type": "code",
   "execution_count": 2,
   "id": "92e37cc5",
   "metadata": {
    "scrolled": true
   },
   "outputs": [
    {
     "name": "stdout",
     "output_type": "stream",
     "text": [
      "I_am_Groot\n"
     ]
    }
   ],
   "source": [
    "print(x,y,z, sep = '_')"
   ]
  },
  {
   "cell_type": "code",
   "execution_count": 3,
   "id": "f64e4533",
   "metadata": {},
   "outputs": [
    {
     "name": "stdout",
     "output_type": "stream",
     "text": [
      "I_______*_______am_______*_______Groot\n"
     ]
    }
   ],
   "source": [
    "print(x,y,z, sep = '_______*_______')"
   ]
  },
  {
   "cell_type": "markdown",
   "id": "d328604c",
   "metadata": {},
   "source": [
    "## parameter 2 : end:\n",
    "- used to define the last element to print explicitly : the printed content would be \"content\" + \"end item\"\n",
    "- end item should be a string only"
   ]
  },
  {
   "cell_type": "code",
   "execution_count": 8,
   "id": "9056e294",
   "metadata": {},
   "outputs": [
    {
     "name": "stdout",
     "output_type": "stream",
     "text": [
      "Ramesh is a funny guy lol"
     ]
    }
   ],
   "source": [
    "print('Ramesh is a funny guy', end = ' lol')"
   ]
  },
  {
   "cell_type": "code",
   "execution_count": 9,
   "id": "805a6216",
   "metadata": {},
   "outputs": [
    {
     "name": "stdout",
     "output_type": "stream",
     "text": [
      "Ramesh is a funny guy lol"
     ]
    }
   ],
   "source": [
    "print('Ramesh is a funny guy', end = ' lol', sep = '_')"
   ]
  },
  {
   "cell_type": "code",
   "execution_count": 12,
   "id": "aa06e448",
   "metadata": {},
   "outputs": [
    {
     "name": "stdout",
     "output_type": "stream",
     "text": [
      "Ramesh_is_a_funny_guy lol"
     ]
    }
   ],
   "source": [
    "print('Ramesh','is','a','funny','guy', end = ' lol', sep = '_')"
   ]
  },
  {
   "cell_type": "code",
   "execution_count": 11,
   "id": "47a74805",
   "metadata": {},
   "outputs": [
    {
     "name": "stdout",
     "output_type": "stream",
     "text": [
      "I_am_Groot !"
     ]
    }
   ],
   "source": [
    "print(x, y, z, end = ' !', sep = '_')# >> print('I','am','Groot',sep='_')"
   ]
  },
  {
   "cell_type": "code",
   "execution_count": 14,
   "id": "3ef7840b",
   "metadata": {},
   "outputs": [
    {
     "name": "stdout",
     "output_type": "stream",
     "text": [
      "home/Nilut/Documents/The_ufo_files/"
     ]
    }
   ],
   "source": [
    "root_dir = 'home'\n",
    "sub_dir_1 = 'Nilut'\n",
    "sub_dir_2 = 'Documents'\n",
    "sub_dir_3 = 'The_ufo_files'\n",
    "\n",
    "print(root_dir,sub_dir_1,sub_dir_2,sub_dir_3, sep = '/',end = '/')"
   ]
  },
  {
   "cell_type": "code",
   "execution_count": 4,
   "id": "a07f5b28",
   "metadata": {
    "scrolled": true
   },
   "outputs": [
    {
     "name": "stdout",
     "output_type": "stream",
     "text": [
      "I_am_Groot !"
     ]
    }
   ],
   "source": [
    "print(x,y,z, sep = '_',end = ' !')"
   ]
  },
  {
   "cell_type": "code",
   "execution_count": 5,
   "id": "9e1b7f3b",
   "metadata": {},
   "outputs": [
    {
     "name": "stdout",
     "output_type": "stream",
     "text": [
      "I\n",
      "am\n",
      "Groot\n"
     ]
    }
   ],
   "source": [
    "print(x,y,z,sep = '\\n')"
   ]
  },
  {
   "cell_type": "markdown",
   "id": "f9718229",
   "metadata": {},
   "source": [
    "## Using `sep` and `end` in f-strings"
   ]
  },
  {
   "cell_type": "code",
   "execution_count": 18,
   "id": "576f02a6",
   "metadata": {},
   "outputs": [
    {
     "name": "stdout",
     "output_type": "stream",
     "text": [
      "Hello Nilotpal - I am Groot -  !\n"
     ]
    }
   ],
   "source": [
    "person_name = 'Nilotpal'\n",
    "character_name = 'Groot'\n",
    "print(f'Hello {person_name}',f'I am {character_name}',' !',sep = ' - ')"
   ]
  },
  {
   "cell_type": "markdown",
   "id": "421a0e58",
   "metadata": {},
   "source": [
    "# Imp. Identifying the avaialable parameters in a function"
   ]
  },
  {
   "cell_type": "code",
   "execution_count": 19,
   "id": "d7aca93e",
   "metadata": {},
   "outputs": [],
   "source": [
    "?print"
   ]
  },
  {
   "cell_type": "code",
   "execution_count": null,
   "id": "4532be01",
   "metadata": {},
   "outputs": [],
   "source": [
    "print()"
   ]
  },
  {
   "cell_type": "markdown",
   "id": "fefdc2ec",
   "metadata": {},
   "source": [
    "### Hardcoded prints"
   ]
  },
  {
   "cell_type": "code",
   "execution_count": 23,
   "id": "dd56b56b",
   "metadata": {},
   "outputs": [
    {
     "name": "stdout",
     "output_type": "stream",
     "text": [
      "<<<<<<<< Hello Nilotpal I am Groot >>>>>>>"
     ]
    }
   ],
   "source": [
    "person_name = 'Nilotpal'\n",
    "character_name = 'Groot'\n",
    "first_element = '<<<<<<<<'\n",
    "seperator = ' '\n",
    "end_element = ' >>>>>>>'\n",
    "\n",
    "print(first_element, f'Hello {person_name}', f'I am {character_name}',sep = seperator, end = end_element)\n"
   ]
  },
  {
   "cell_type": "code",
   "execution_count": 39,
   "id": "b89902b6",
   "metadata": {},
   "outputs": [
    {
     "name": "stdout",
     "output_type": "stream",
     "text": [
      "!!Hello Iron Man!I am Groot!"
     ]
    }
   ],
   "source": [
    "person_name = 'Iron Man'\n",
    "character_name = 'Groot'\n",
    "seperator = '!'\n",
    "\n",
    "print(seperator, f'Hello {person_name}', f'I am {character_name}',sep = seperator, end = seperator)"
   ]
  },
  {
   "cell_type": "code",
   "execution_count": 27,
   "id": "b900d5e3",
   "metadata": {},
   "outputs": [
    {
     "data": {
      "text/plain": [
       "('!', 'Hello Iron Man', 'I am Groot')"
      ]
     },
     "execution_count": 27,
     "metadata": {},
     "output_type": "execute_result"
    }
   ],
   "source": [
    "seperator, f'Hello {person_name}', f'I am {character_name}'"
   ]
  },
  {
   "cell_type": "code",
   "execution_count": null,
   "id": "8b0f4ce7",
   "metadata": {},
   "outputs": [],
   "source": [
    "'!'(seperator)'Hello Iron Man'(seperator)'I am Groot'\n",
    "\n",
    "'!!Hello Iron Man!I am Groot!'"
   ]
  },
  {
   "cell_type": "code",
   "execution_count": 35,
   "id": "00d9db4f",
   "metadata": {
    "scrolled": true
   },
   "outputs": [
    {
     "data": {
      "text/plain": [
       "('a', 'b', 'c')"
      ]
     },
     "execution_count": 35,
     "metadata": {},
     "output_type": "execute_result"
    }
   ],
   "source": [
    "item1 = 'a'\n",
    "item2 = 'b'\n",
    "item3 = 'c'\n",
    "seperator = item1\n",
    "\n",
    "item1, item2, item3"
   ]
  },
  {
   "cell_type": "code",
   "execution_count": 33,
   "id": "91282a41",
   "metadata": {},
   "outputs": [
    {
     "ename": "TypeError",
     "evalue": "sep must be None or a string, not int",
     "output_type": "error",
     "traceback": [
      "\u001b[0;31m---------------------------------------------------------------------------\u001b[0m",
      "\u001b[0;31mTypeError\u001b[0m                                 Traceback (most recent call last)",
      "Input \u001b[0;32mIn [33]\u001b[0m, in \u001b[0;36m<cell line: 5>\u001b[0;34m()\u001b[0m\n\u001b[1;32m      2\u001b[0m character_name \u001b[38;5;241m=\u001b[39m \u001b[38;5;124m'\u001b[39m\u001b[38;5;124mGroot\u001b[39m\u001b[38;5;124m'\u001b[39m\n\u001b[1;32m      3\u001b[0m seperator \u001b[38;5;241m=\u001b[39m \u001b[38;5;241m654665656\u001b[39m\n\u001b[0;32m----> 5\u001b[0m \u001b[38;5;28;43mprint\u001b[39;49m\u001b[43m(\u001b[49m\u001b[43mseperator\u001b[49m\u001b[43m,\u001b[49m\u001b[43m \u001b[49m\u001b[38;5;124;43mf\u001b[39;49m\u001b[38;5;124;43m'\u001b[39;49m\u001b[38;5;124;43mHello \u001b[39;49m\u001b[38;5;132;43;01m{\u001b[39;49;00m\u001b[43mperson_name\u001b[49m\u001b[38;5;132;43;01m}\u001b[39;49;00m\u001b[38;5;124;43m'\u001b[39;49m\u001b[43m,\u001b[49m\u001b[43m \u001b[49m\u001b[38;5;124;43mf\u001b[39;49m\u001b[38;5;124;43m'\u001b[39;49m\u001b[38;5;124;43mI am \u001b[39;49m\u001b[38;5;132;43;01m{\u001b[39;49;00m\u001b[43mcharacter_name\u001b[49m\u001b[38;5;132;43;01m}\u001b[39;49;00m\u001b[38;5;124;43m'\u001b[39;49m\u001b[43m,\u001b[49m\u001b[43msep\u001b[49m\u001b[43m \u001b[49m\u001b[38;5;241;43m=\u001b[39;49m\u001b[43m \u001b[49m\u001b[43mseperator\u001b[49m\u001b[43m,\u001b[49m\u001b[43m \u001b[49m\u001b[43mend\u001b[49m\u001b[43m \u001b[49m\u001b[38;5;241;43m=\u001b[39;49m\u001b[43m \u001b[49m\u001b[43mseperator\u001b[49m\u001b[43m)\u001b[49m\n",
      "\u001b[0;31mTypeError\u001b[0m: sep must be None or a string, not int"
     ]
    }
   ],
   "source": [
    "person_name = 'Iron Man'\n",
    "character_name = 'Groot'\n",
    "seperator = 654665656\n",
    "\n",
    "print(seperator, f'Hello {person_name}', f'I am {character_name}',sep = seperator, end = seperator)"
   ]
  }
 ],
 "metadata": {
  "kernelspec": {
   "display_name": "Python 3 (ipykernel)",
   "language": "python",
   "name": "python3"
  },
  "language_info": {
   "codemirror_mode": {
    "name": "ipython",
    "version": 3
   },
   "file_extension": ".py",
   "mimetype": "text/x-python",
   "name": "python",
   "nbconvert_exporter": "python",
   "pygments_lexer": "ipython3",
   "version": "3.9.13"
  }
 },
 "nbformat": 4,
 "nbformat_minor": 5
}

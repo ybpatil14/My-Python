{
 "cells": [
  {
   "cell_type": "markdown",
   "id": "05624186",
   "metadata": {},
   "source": [
    "### 2 conditions\n",
    "\n",
    "- if the person is older than 27 : give them a green pen\n",
    "- if the person is between 18 and 27 : give them a blue pen\n",
    "- otherwise : give them a pencil"
   ]
  },
  {
   "cell_type": "raw",
   "id": "f144b480",
   "metadata": {},
   "source": [
    "Syntax:-\n",
    "\n",
    "if condition:\n",
    "    operation to be followed"
   ]
  },
  {
   "cell_type": "code",
   "execution_count": 3,
   "id": "b0d02534",
   "metadata": {},
   "outputs": [],
   "source": [
    "number = 5\n",
    "if number > 10:\n",
    "    print('The number is greater than 10')"
   ]
  },
  {
   "cell_type": "code",
   "execution_count": 4,
   "id": "48990516",
   "metadata": {},
   "outputs": [
    {
     "name": "stdout",
     "output_type": "stream",
     "text": [
      "The number is not greater than 10\n"
     ]
    }
   ],
   "source": [
    "number = 5\n",
    "if number > 10:\n",
    "    print('The number is greater than 10')\n",
    "else:\n",
    "    print('The number is not greater than 10')"
   ]
  },
  {
   "cell_type": "markdown",
   "id": "d462a602",
   "metadata": {},
   "source": [
    "### Question : 1"
   ]
  },
  {
   "cell_type": "raw",
   "id": "1e991678",
   "metadata": {},
   "source": [
    "Write a program to identify if the given number is an even number or not. If the number is an even number find the closest value that is a multiple of 4."
   ]
  },
  {
   "cell_type": "code",
   "execution_count": 24,
   "id": "cae51ef8",
   "metadata": {},
   "outputs": [
    {
     "name": "stdout",
     "output_type": "stream",
     "text": [
      "0 is an even number !\n",
      "The number which is closest to 4 is : 0\n"
     ]
    }
   ],
   "source": [
    "number = 0\n",
    "\n",
    "if number%2==0:\n",
    "    print(f'{number} is an even number !')\n",
    "    closest_to_4 = number - (number%4)\n",
    "    output = f'The number which is closest to 4 is : {closest_to_4}'\n",
    "    print(output)\n",
    "else:\n",
    "    output = f'{number} is an odd number !'\n",
    "    print(output)"
   ]
  },
  {
   "cell_type": "code",
   "execution_count": 31,
   "id": "69fc9338",
   "metadata": {},
   "outputs": [
    {
     "data": {
      "text/plain": [
       "(False, True, False, True, False, True)"
      ]
     },
     "execution_count": 31,
     "metadata": {},
     "output_type": "execute_result"
    }
   ],
   "source": [
    "x = 55\n",
    "y = 45\n",
    "\n",
    "x==y, x>y, x<y, x>=y, x<=y, x!=y"
   ]
  },
  {
   "cell_type": "code",
   "execution_count": null,
   "id": "96079d99",
   "metadata": {},
   "outputs": [],
   "source": []
  },
  {
   "cell_type": "code",
   "execution_count": 35,
   "id": "7f4922a6",
   "metadata": {},
   "outputs": [],
   "source": [
    "data = 'I am groot. I am not thor. I am not a villian.'"
   ]
  },
  {
   "cell_type": "code",
   "execution_count": 34,
   "id": "3971d4c5",
   "metadata": {},
   "outputs": [
    {
     "data": {
      "text/plain": [
       "0"
      ]
     },
     "execution_count": 34,
     "metadata": {},
     "output_type": "execute_result"
    }
   ],
   "source": [
    "data.index('I')"
   ]
  },
  {
   "cell_type": "code",
   "execution_count": 37,
   "id": "8dad6c94",
   "metadata": {},
   "outputs": [
    {
     "data": {
      "text/plain": [
       "11"
      ]
     },
     "execution_count": 37,
     "metadata": {},
     "output_type": "execute_result"
    }
   ],
   "source": [
    "data[0+1:].index('I')"
   ]
  },
  {
   "cell_type": "code",
   "execution_count": 41,
   "id": "746c28d3",
   "metadata": {},
   "outputs": [
    {
     "data": {
      "text/plain": [
       "14"
      ]
     },
     "execution_count": 41,
     "metadata": {},
     "output_type": "execute_result"
    }
   ],
   "source": [
    "data[12+1:].index('I')"
   ]
  },
  {
   "cell_type": "code",
   "execution_count": 42,
   "id": "e4387b45",
   "metadata": {},
   "outputs": [],
   "source": [
    "first_index = 0\n",
    "second_index = 11+1\n",
    "third_index = 14 + 12+1"
   ]
  },
  {
   "cell_type": "code",
   "execution_count": 43,
   "id": "02a80298",
   "metadata": {},
   "outputs": [
    {
     "data": {
      "text/plain": [
       "'I'"
      ]
     },
     "execution_count": 43,
     "metadata": {},
     "output_type": "execute_result"
    }
   ],
   "source": [
    "data[first_index]"
   ]
  },
  {
   "cell_type": "code",
   "execution_count": 44,
   "id": "b5a6c521",
   "metadata": {},
   "outputs": [
    {
     "data": {
      "text/plain": [
       "'I'"
      ]
     },
     "execution_count": 44,
     "metadata": {},
     "output_type": "execute_result"
    }
   ],
   "source": [
    "data[second_index]"
   ]
  },
  {
   "cell_type": "code",
   "execution_count": 45,
   "id": "6b64b8b9",
   "metadata": {},
   "outputs": [
    {
     "data": {
      "text/plain": [
       "'I'"
      ]
     },
     "execution_count": 45,
     "metadata": {},
     "output_type": "execute_result"
    }
   ],
   "source": [
    "data[third_index]"
   ]
  },
  {
   "cell_type": "code",
   "execution_count": null,
   "id": "e7cd5392",
   "metadata": {},
   "outputs": [],
   "source": []
  },
  {
   "cell_type": "code",
   "execution_count": 46,
   "id": "ed22f386",
   "metadata": {},
   "outputs": [
    {
     "data": {
      "text/plain": [
       "'ab'"
      ]
     },
     "execution_count": 46,
     "metadata": {},
     "output_type": "execute_result"
    }
   ],
   "source": [
    "data = 'abcdef'\n",
    "data[:2]"
   ]
  },
  {
   "cell_type": "code",
   "execution_count": 47,
   "id": "77ba4477",
   "metadata": {},
   "outputs": [
    {
     "data": {
      "text/plain": [
       "'ef'"
      ]
     },
     "execution_count": 47,
     "metadata": {},
     "output_type": "execute_result"
    }
   ],
   "source": [
    "data[-2:]"
   ]
  },
  {
   "cell_type": "code",
   "execution_count": 48,
   "id": "7dc349b6",
   "metadata": {},
   "outputs": [
    {
     "data": {
      "text/plain": [
       "'abef'"
      ]
     },
     "execution_count": 48,
     "metadata": {},
     "output_type": "execute_result"
    }
   ],
   "source": [
    "data[:2] + data[-2:]"
   ]
  }
 ],
 "metadata": {
  "kernelspec": {
   "display_name": "Python 3 (ipykernel)",
   "language": "python",
   "name": "python3"
  },
  "language_info": {
   "codemirror_mode": {
    "name": "ipython",
    "version": 3
   },
   "file_extension": ".py",
   "mimetype": "text/x-python",
   "name": "python",
   "nbconvert_exporter": "python",
   "pygments_lexer": "ipython3",
   "version": "3.9.12"
  }
 },
 "nbformat": 4,
 "nbformat_minor": 5
}

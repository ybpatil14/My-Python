{
 "cells": [
  {
   "cell_type": "raw",
   "id": "4e6d8b10",
   "metadata": {},
   "source": [
    "Write a Python program to remove duplicate characters of a given string"
   ]
  },
  {
   "cell_type": "code",
   "execution_count": 11,
   "id": "e947f250",
   "metadata": {},
   "outputs": [],
   "source": [
    "data = 'i am groot. I am not your enemy.'\n",
    "final = ''\n",
    "\n",
    "for character in data:\n",
    "    if not final.__contains__(character):\n",
    "        final = final.__add__(character)"
   ]
  },
  {
   "cell_type": "code",
   "execution_count": 12,
   "id": "b7a7c74a",
   "metadata": {},
   "outputs": [
    {
     "data": {
      "text/plain": [
       "'i amgrot.Inyue'"
      ]
     },
     "execution_count": 12,
     "metadata": {},
     "output_type": "execute_result"
    }
   ],
   "source": [
    "final"
   ]
  },
  {
   "cell_type": "code",
   "execution_count": 14,
   "id": "53313a64",
   "metadata": {},
   "outputs": [],
   "source": [
    "data='veevek1@@@'\n",
    "p=''\n",
    "\n",
    "for i in data:\n",
    "    if i  not in p:\n",
    "        p+=i\n",
    "# print(p)"
   ]
  },
  {
   "cell_type": "code",
   "execution_count": 19,
   "id": "aec65607",
   "metadata": {},
   "outputs": [
    {
     "name": "stdout",
     "output_type": "stream",
     "text": [
      "The initial value of dummy was : \n",
      "The value of i is : v\n",
      "v is not present in dummy ! So adding the same !\n",
      "The final value of dummy is : v\n",
      "\n",
      "The initial value of dummy was : v\n",
      "The value of i is : e\n",
      "e is not present in dummy ! So adding the same !\n",
      "The final value of dummy is : ve\n",
      "\n",
      "The initial value of dummy was : ve\n",
      "The value of i is : e\n",
      "Dummy already has e. So, skipping the same !\n",
      "The final value of dummy is : ve\n",
      "\n",
      "The initial value of dummy was : ve\n",
      "The value of i is : v\n",
      "Dummy already has v. So, skipping the same !\n",
      "The final value of dummy is : ve\n",
      "\n",
      "The initial value of dummy was : ve\n",
      "The value of i is : e\n",
      "Dummy already has e. So, skipping the same !\n",
      "The final value of dummy is : ve\n",
      "\n",
      "The initial value of dummy was : ve\n",
      "The value of i is : k\n",
      "k is not present in dummy ! So adding the same !\n",
      "The final value of dummy is : vek\n",
      "\n",
      "The initial value of dummy was : vek\n",
      "The value of i is : 1\n",
      "1 is not present in dummy ! So adding the same !\n",
      "The final value of dummy is : vek1\n",
      "\n",
      "The initial value of dummy was : vek1\n",
      "The value of i is : @\n",
      "@ is not present in dummy ! So adding the same !\n",
      "The final value of dummy is : vek1@\n",
      "\n",
      "The initial value of dummy was : vek1@\n",
      "The value of i is : @\n",
      "Dummy already has @. So, skipping the same !\n",
      "The final value of dummy is : vek1@\n",
      "\n",
      "The initial value of dummy was : vek1@\n",
      "The value of i is : @\n",
      "Dummy already has @. So, skipping the same !\n",
      "The final value of dummy is : vek1@\n",
      "\n"
     ]
    }
   ],
   "source": [
    "data='veevek1@@@'\n",
    "dummy = ''\n",
    "\n",
    "for i in data:\n",
    "    print(f'The initial value of dummy was : {dummy}')\n",
    "    print(f'The value of i is : {i}')\n",
    "    \n",
    "    if i not in dummy:\n",
    "        print(f'{i} is not present in dummy ! So adding the same !')\n",
    "        dummy = dummy + i\n",
    "    else:\n",
    "        print(f'Dummy already has {i}. So, skipping the same !')\n",
    "        \n",
    "    print(f'The final value of dummy is : {dummy}')\n",
    "    print()"
   ]
  },
  {
   "cell_type": "raw",
   "id": "2332575d",
   "metadata": {},
   "source": [
    "Write a Python program to format a number with a percentage(0.05 >> 5%)"
   ]
  },
  {
   "cell_type": "code",
   "execution_count": 29,
   "id": "cd270096",
   "metadata": {},
   "outputs": [
    {
     "name": "stdout",
     "output_type": "stream",
     "text": [
      "Enter the number you want to convert into percentage : 256\n",
      "The given number is not a valid number !\n"
     ]
    }
   ],
   "source": [
    "number = float(input('Enter the number you want to convert into percentage : '))\n",
    "\n",
    "# Checking if the number is less than or equal to 100% i.e 1.0\n",
    "if number <= 1.0:\n",
    "    print('The number is valid for processing !')\n",
    "    print(f'The percentage of the given number is : {number *100} %')\n",
    "else:\n",
    "    print('The given number is not a valid number !')"
   ]
  },
  {
   "cell_type": "raw",
   "id": "c0eb6c50",
   "metadata": {},
   "source": [
    "18. Write a Python program to count the occurrences of each word in a given\n",
    "sentence."
   ]
  },
  {
   "cell_type": "code",
   "execution_count": 36,
   "id": "77cfced3",
   "metadata": {},
   "outputs": [
    {
     "name": "stdout",
     "output_type": "stream",
     "text": [
      "Please enter a string: I am Groot\n",
      "Enter letter: Gr\n",
      "The total occurances of 'gr' are 0 in 'i am groot'\n"
     ]
    }
   ],
   "source": [
    "word = input('Please enter a string: ').lower()\n",
    "letter = input('Enter letter: ').lower()\n",
    "\n",
    "counter = 0\n",
    "for i in word:\n",
    "    if i == letter:\n",
    "        counter = counter + 1\n",
    "        \n",
    "print(f'The total occurances of \\'{letter}\\' are {counter} in \\'{word}\\'')"
   ]
  },
  {
   "cell_type": "code",
   "execution_count": 37,
   "id": "13dcedc5",
   "metadata": {},
   "outputs": [
    {
     "name": "stdout",
     "output_type": "stream",
     "text": [
      "index of character you want to remove:8\n"
     ]
    },
    {
     "data": {
      "text/plain": [
       "'hell, Good morning Everyone'"
      ]
     },
     "execution_count": 37,
     "metadata": {},
     "output_type": "execute_result"
    }
   ],
   "source": [
    "# Write a Python program to remove the nth index character from a non-empty string.\n",
    "\n",
    "data=\"hello, Good morning Everyone\"\n",
    "num= int(input(\"index of character you want to remove:\"))\n",
    "new_data=data.replace(data[num:],\"\",1)\n",
    "new_data"
   ]
  },
  {
   "cell_type": "code",
   "execution_count": 42,
   "id": "87e1df56",
   "metadata": {},
   "outputs": [
    {
     "data": {
      "text/plain": [
       "'hello, God morning Everyone'"
      ]
     },
     "execution_count": 42,
     "metadata": {},
     "output_type": "execute_result"
    }
   ],
   "source": [
    "data[:num] + data[num:].replace(data[num],\"\",1)"
   ]
  },
  {
   "cell_type": "code",
   "execution_count": 44,
   "id": "6965cdef",
   "metadata": {},
   "outputs": [
    {
     "data": {
      "text/plain": [
       "'I am Groot. I am not your enemy.'"
      ]
     },
     "execution_count": 44,
     "metadata": {},
     "output_type": "execute_result"
    }
   ],
   "source": [
    "# 22. Write a Python program to remove a newline in Python.\n",
    "\n",
    "data = '''I am Groot.\n",
    "I am not your enemy.'''\n",
    "\n",
    "data.replace('\\n',' ')"
   ]
  },
  {
   "cell_type": "code",
   "execution_count": 46,
   "id": "c7ee2857",
   "metadata": {},
   "outputs": [
    {
     "data": {
      "text/plain": [
       "'I am Groot.I am not your enemy.'"
      ]
     },
     "execution_count": 46,
     "metadata": {},
     "output_type": "execute_result"
    }
   ],
   "source": [
    "final = ''\n",
    "\n",
    "for line in data.split('\\n'):\n",
    "    final = final + line\n",
    "\n",
    "final"
   ]
  },
  {
   "cell_type": "raw",
   "id": "80cf2574",
   "metadata": {},
   "source": [
    "Write a Python program to swap commas and dots in a string ○ Sample string: \"32.054,23\" ○ Expected Output: \"32,054.23\""
   ]
  },
  {
   "cell_type": "code",
   "execution_count": 49,
   "id": "7409534c",
   "metadata": {},
   "outputs": [
    {
     "data": {
      "text/plain": [
       "'32,054.23'"
      ]
     },
     "execution_count": 49,
     "metadata": {},
     "output_type": "execute_result"
    }
   ],
   "source": [
    "data = \"32.054,23\"\n",
    "output = \"32,054.23\"\n",
    "\n",
    "data.replace('.','_').replace(',','.').replace('_',',')"
   ]
  },
  {
   "cell_type": "code",
   "execution_count": 56,
   "id": "1484628a",
   "metadata": {},
   "outputs": [
    {
     "data": {
      "text/plain": [
       "'32,054.23'"
      ]
     },
     "execution_count": 56,
     "metadata": {},
     "output_type": "execute_result"
    }
   ],
   "source": [
    "data=\"32.054,23\"\n",
    "data.replace(\",\",\".\").replace(\".\",\",\",1)"
   ]
  },
  {
   "cell_type": "code",
   "execution_count": 95,
   "id": "3ace62d4",
   "metadata": {
    "scrolled": false
   },
   "outputs": [],
   "source": [
    "# data = 'Python is meant to be an easily readable language. Its formatting is visually uncluttered and often uses English keywords where other languages use punctuation. Unlike many other languages, it does not use curly brackets to delimit blocks, and semicolons after statements are allowed but rarely used'\n",
    "# data = data.replace('. ', '.')\n",
    "# k = ''\n",
    "# no = 1\n",
    "# final =''\n",
    "\n",
    "# for i in data:\n",
    "#     k = k + i\n",
    "#     if i =='.':\n",
    "#         final = str(no) + final + k + '\\n'\n",
    "#         k = ''\n",
    "#         no +=1\n",
    "#     else:\n",
    "#         final = final + k\n",
    "#         k = ''\n",
    "    \n",
    "# # print(final)"
   ]
  },
  {
   "cell_type": "raw",
   "id": "cd885853",
   "metadata": {},
   "source": [
    "1. Python is meant to be an easily readable language. \n",
    "2. Its formatting is visually uncluttered and often uses English keywords where other languages use punctuation. \n",
    "3. Unlike many other languages, it does not use curly brackets to delimit blocks, and semicolons after statements are allowed but rarely used"
   ]
  },
  {
   "cell_type": "code",
   "execution_count": 70,
   "id": "d08e6fbd",
   "metadata": {},
   "outputs": [
    {
     "data": {
      "text/plain": [
       "'Python is meant to be an easily readable language. Its formatting is visually uncluttered and often uses English keywords where other languages use punctuation. Unlike many other languages, it does not use curly brackets to delimit blocks, and semicolons after statements are allowed but rarely used'"
      ]
     },
     "execution_count": 70,
     "metadata": {},
     "output_type": "execute_result"
    }
   ],
   "source": [
    "data"
   ]
  },
  {
   "cell_type": "code",
   "execution_count": 105,
   "id": "1dd27d0e",
   "metadata": {},
   "outputs": [
    {
     "name": "stdout",
     "output_type": "stream",
     "text": [
      "1. Python is meant to be an easily readable language.\n",
      "2. Its formatting is visually uncluttered and often uses English keywords where other languages use punctuation.\n",
      "3. Unlike many other languages, it does not use curly brackets to delimit blocks, and semicolons after statements are allowed but rarely used.\n",
      "4. I am Groot.\n"
     ]
    }
   ],
   "source": [
    "# Would not work as expected if there is no '.' at the end of statement\n",
    "\n",
    "data = 'Python is meant to be an easily readable language. Its formatting is visually uncluttered and often uses English keywords where other languages use punctuation. Unlike many other languages, it does not use curly brackets to delimit blocks, and semicolons after statements are allowed but rarely used. I am Groot.'\n",
    "marker = 0\n",
    "counter = data.count('.')\n",
    "\n",
    "for i in data:\n",
    "    if marker == 0: # Printing the line number {explicitly for first line only}\n",
    "        print(str(marker+1) + '. ', end = '')\n",
    "        marker += 1\n",
    "        \n",
    "    elif i == '.': # Printing the line number {for all the other lines}\n",
    "        print('.', end = '\\n')\n",
    "        if marker < counter: # So that we dont print additional line numbers {To stop at the final line}\n",
    "            print(str(marker+1) + '.', end = '')\n",
    "        marker += 1\n",
    "        \n",
    "    if not i == '.': # Printing the characters of the string\n",
    "        print(i, end = '')"
   ]
  },
  {
   "cell_type": "code",
   "execution_count": 106,
   "id": "6fd75740",
   "metadata": {},
   "outputs": [
    {
     "name": "stdout",
     "output_type": "stream",
     "text": [
      "1. Python is meant to be an easily readable language.\n",
      "2. Its formatting is visually uncluttered and often uses English keywords where other languages use punctuation.\n",
      "3. Unlike many other languages, it does not use curly brackets to delimit blocks, and semicolons after statements are allowed but rarely used.\n"
     ]
    }
   ],
   "source": [
    "data = 'Python is meant to be an easily readable language. Its formatting is visually uncluttered and often uses English keywords where other languages use punctuation. Unlike many other languages, it does not use curly brackets to delimit blocks, and semicolons after statements are allowed but rarely used.'\n",
    "splitted_data = data.split('.')\n",
    "\n",
    "for i in range(len(splitted_data)):\n",
    "    if i+1 < len(splitted_data):\n",
    "        print(str(i+1), end = '. ')\n",
    "        print(splitted_data[i].strip(), end = '.\\n')"
   ]
  }
 ],
 "metadata": {
  "kernelspec": {
   "display_name": "Python 3 (ipykernel)",
   "language": "python",
   "name": "python3"
  },
  "language_info": {
   "codemirror_mode": {
    "name": "ipython",
    "version": 3
   },
   "file_extension": ".py",
   "mimetype": "text/x-python",
   "name": "python",
   "nbconvert_exporter": "python",
   "pygments_lexer": "ipython3",
   "version": "3.9.13"
  }
 },
 "nbformat": 4,
 "nbformat_minor": 5
}

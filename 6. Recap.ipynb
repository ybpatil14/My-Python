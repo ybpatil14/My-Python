{
 "cells": [
  {
   "cell_type": "code",
   "execution_count": 8,
   "id": "66ba8181",
   "metadata": {},
   "outputs": [
    {
     "name": "stdout",
     "output_type": "stream",
     "text": [
      "Hello World !\n"
     ]
    }
   ],
   "source": [
    "print('Hello World !')"
   ]
  },
  {
   "cell_type": "code",
   "execution_count": 11,
   "id": "16eb13ff",
   "metadata": {},
   "outputs": [
    {
     "name": "stdout",
     "output_type": "stream",
     "text": [
      "Ramesh and Suresh are best friends !\n"
     ]
    }
   ],
   "source": [
    "# Ramesh and Suresh are best friends !\n",
    "print('Ramesh and Suresh are best friends !')"
   ]
  },
  {
   "cell_type": "code",
   "execution_count": 26,
   "id": "4446ab34",
   "metadata": {},
   "outputs": [
    {
     "name": "stdout",
     "output_type": "stream",
     "text": [
      "Bablu and Tony are best friends !\n",
      "Bablu lives in Delhi ! Tony lives in Mumbai !\n"
     ]
    }
   ],
   "source": [
    "name1,name2 = 'Bablu', 'Tony'\n",
    "\n",
    "statement1 = f'{name1} lives in Delhi !'\n",
    "statement2 = f'{name2} lives in Mumbai !'\n",
    "print(f'{name1} and {name2} are best friends !')\n",
    "print(statement1, statement2)"
   ]
  },
  {
   "cell_type": "code",
   "execution_count": 28,
   "id": "6e0885a7",
   "metadata": {},
   "outputs": [
    {
     "name": "stdout",
     "output_type": "stream",
     "text": [
      "15 12\n"
     ]
    }
   ],
   "source": [
    "# print(content)\n",
    "# print(contents seperated by a comma)\n",
    "\n",
    "print(x, y)"
   ]
  },
  {
   "cell_type": "code",
   "execution_count": 30,
   "id": "078a8535",
   "metadata": {},
   "outputs": [
    {
     "name": "stdout",
     "output_type": "stream",
     "text": [
      "Variable     Type    Data/Info\n",
      "------------------------------\n",
      "i            int     31200\n",
      "name1        str     Bablu\n",
      "name2        str     Tony\n",
      "path_        str     nilotpal\\narayan\\users\n",
      "statement1   str     Bablu lives in Delhi !\n",
      "statement2   str     Tony lives in Mumbai !\n",
      "temp         int     31215\n",
      "x            int     15\n",
      "y            int     12\n",
      "z            int     33\n"
     ]
    }
   ],
   "source": [
    "%whos"
   ]
  },
  {
   "cell_type": "code",
   "execution_count": 35,
   "id": "7f56a1ed",
   "metadata": {},
   "outputs": [],
   "source": [
    "data = 'Ramesh is a nice person. He donates atleast 50 rs everyday. He feeds the poor and helps the needy.'"
   ]
  },
  {
   "cell_type": "code",
   "execution_count": 36,
   "id": "beb7c9e7",
   "metadata": {},
   "outputs": [
    {
     "name": "stdout",
     "output_type": "stream",
     "text": [
      "Ramesh is a nice person. He donates atleast 50 rs everyday. He feeds the poor and helps the needy.\n"
     ]
    }
   ],
   "source": [
    "print(data)"
   ]
  },
  {
   "cell_type": "code",
   "execution_count": 37,
   "id": "f779c12b",
   "metadata": {},
   "outputs": [
    {
     "name": "stdout",
     "output_type": "stream",
     "text": [
      "<class 'str'>\n"
     ]
    }
   ],
   "source": [
    "print(type(data))"
   ]
  },
  {
   "cell_type": "code",
   "execution_count": 38,
   "id": "c4834462",
   "metadata": {},
   "outputs": [],
   "source": [
    "data = 1234"
   ]
  },
  {
   "cell_type": "code",
   "execution_count": 39,
   "id": "df5eaccc",
   "metadata": {},
   "outputs": [
    {
     "name": "stdout",
     "output_type": "stream",
     "text": [
      "1234\n"
     ]
    }
   ],
   "source": [
    "print(data)"
   ]
  },
  {
   "cell_type": "code",
   "execution_count": 40,
   "id": "114b79bf",
   "metadata": {},
   "outputs": [
    {
     "name": "stdout",
     "output_type": "stream",
     "text": [
      "<class 'int'>\n"
     ]
    }
   ],
   "source": [
    "print(type(data))"
   ]
  },
  {
   "cell_type": "code",
   "execution_count": 41,
   "id": "87e93889",
   "metadata": {},
   "outputs": [],
   "source": [
    "data = '1234'"
   ]
  },
  {
   "cell_type": "code",
   "execution_count": 42,
   "id": "8efbe851",
   "metadata": {},
   "outputs": [
    {
     "name": "stdout",
     "output_type": "stream",
     "text": [
      "1234\n"
     ]
    }
   ],
   "source": [
    "print(data)"
   ]
  },
  {
   "cell_type": "code",
   "execution_count": 43,
   "id": "d923fc4d",
   "metadata": {},
   "outputs": [
    {
     "name": "stdout",
     "output_type": "stream",
     "text": [
      "<class 'str'>\n"
     ]
    }
   ],
   "source": [
    "print(type(data))"
   ]
  },
  {
   "cell_type": "code",
   "execution_count": null,
   "id": "335a45ce",
   "metadata": {},
   "outputs": [],
   "source": [
    "# data, Data, daTa, DaTa, dAtA......"
   ]
  },
  {
   "cell_type": "code",
   "execution_count": 44,
   "id": "ca7b4608",
   "metadata": {},
   "outputs": [],
   "source": [
    "data = 123\n",
    "Data = 'I love pizza'\n",
    "dAtA = 'I am groot'\n",
    "datA = 'Lets go bananas'"
   ]
  },
  {
   "cell_type": "code",
   "execution_count": 45,
   "id": "9548b1d5",
   "metadata": {},
   "outputs": [
    {
     "data": {
      "text/plain": [
       "123"
      ]
     },
     "execution_count": 45,
     "metadata": {},
     "output_type": "execute_result"
    }
   ],
   "source": [
    "data"
   ]
  },
  {
   "cell_type": "code",
   "execution_count": 46,
   "id": "c5807038",
   "metadata": {},
   "outputs": [
    {
     "data": {
      "text/plain": [
       "'I love pizza'"
      ]
     },
     "execution_count": 46,
     "metadata": {},
     "output_type": "execute_result"
    }
   ],
   "source": [
    "Data"
   ]
  },
  {
   "cell_type": "code",
   "execution_count": 47,
   "id": "31c9f413",
   "metadata": {},
   "outputs": [
    {
     "data": {
      "text/plain": [
       "'Lets go bananas'"
      ]
     },
     "execution_count": 47,
     "metadata": {},
     "output_type": "execute_result"
    }
   ],
   "source": [
    "datA"
   ]
  },
  {
   "cell_type": "code",
   "execution_count": 48,
   "id": "7acdea4c",
   "metadata": {},
   "outputs": [
    {
     "data": {
      "text/plain": [
       "'I am groot'"
      ]
     },
     "execution_count": 48,
     "metadata": {},
     "output_type": "execute_result"
    }
   ],
   "source": [
    "dAtA"
   ]
  },
  {
   "cell_type": "code",
   "execution_count": 49,
   "id": "ff94c98f",
   "metadata": {},
   "outputs": [],
   "source": [
    "my_container_name_1 = 'Groot'\n",
    "my_container_name_2 = 'Thor'"
   ]
  },
  {
   "cell_type": "code",
   "execution_count": 50,
   "id": "8f661256",
   "metadata": {},
   "outputs": [
    {
     "name": "stdout",
     "output_type": "stream",
     "text": [
      "Groot and Thor are best friends !\n"
     ]
    }
   ],
   "source": [
    "print(f'{my_container_name_1} and {my_container_name_2} are best friends !')"
   ]
  },
  {
   "cell_type": "code",
   "execution_count": 51,
   "id": "007b1008",
   "metadata": {},
   "outputs": [
    {
     "name": "stdout",
     "output_type": "stream",
     "text": [
      "Groot and Thor are best friends !\n"
     ]
    }
   ],
   "source": [
    "hero1, hero2 = 'Groot', 'Thor'\n",
    "print(f'{hero1} and {hero2} are best friends !')"
   ]
  },
  {
   "cell_type": "code",
   "execution_count": 53,
   "id": "fe1b0a7f",
   "metadata": {},
   "outputs": [
    {
     "name": "stdout",
     "output_type": "stream",
     "text": [
      "The names are : name1, name2, name3, name4, name5, name6 ,name7, name8, name9\n"
     ]
    }
   ],
   "source": [
    "my_container_name_1 = 'name1'\n",
    "my_container_name_2 = 'name2'\n",
    "my_container_name_3 = 'name3'\n",
    "my_container_name_4 = 'name4'\n",
    "my_container_name_5 = 'name5'\n",
    "my_container_name_6 = 'name6'\n",
    "my_container_name_7 = 'name7'\n",
    "my_container_name_8 = 'name8'\n",
    "my_container_name_9 = 'name9'\n",
    "\n",
    "print(f'The names are : {my_container_name_1}, {my_container_name_2}, {my_container_name_3}, {my_container_name_4}, {my_container_name_5}, {my_container_name_6} ,{my_container_name_7}, {my_container_name_8}, {my_container_name_9}')"
   ]
  },
  {
   "cell_type": "code",
   "execution_count": 54,
   "id": "b6e8a49c",
   "metadata": {},
   "outputs": [
    {
     "name": "stdout",
     "output_type": "stream",
     "text": [
      "The names are : name1, name2, name3, name4, name5, name6 ,name7, name8, name9\n"
     ]
    }
   ],
   "source": [
    "names_1 = 'name1'\n",
    "names_2 = 'name2'\n",
    "names_3 = 'name3'\n",
    "names_4 = 'name4'\n",
    "names_5 = 'name5'\n",
    "names_6 = 'name6'\n",
    "names_7 = 'name7'\n",
    "names_8 = 'name8'\n",
    "names_9 = 'name9'\n",
    "\n",
    "print(f'The names are : {names_1}, {names_2}, {names_3}, {names_4}, {names_5}, {names_6} ,{names_7}, {names_8}, {names_9}')"
   ]
  },
  {
   "cell_type": "code",
   "execution_count": 55,
   "id": "a95a4d8e",
   "metadata": {},
   "outputs": [
    {
     "name": "stdout",
     "output_type": "stream",
     "text": [
      "Variable              Type    Data/Info\n",
      "---------------------------------------\n",
      "Data                  str     I love pizza\n",
      "dAtA                  str     I am groot\n",
      "datA                  str     Lets go bananas\n",
      "data                  int     123\n",
      "hero1                 str     Groot\n",
      "hero2                 str     Thor\n",
      "i                     int     9\n",
      "my_container_name_1   str     name1\n",
      "my_container_name_2   str     name2\n",
      "my_container_name_3   str     name3\n",
      "my_container_name_4   str     name4\n",
      "my_container_name_5   str     name5\n",
      "my_container_name_6   str     name6\n",
      "my_container_name_7   str     name7\n",
      "my_container_name_8   str     name8\n",
      "my_container_name_9   str     name9\n",
      "name1                 str     Bablu\n",
      "name2                 str     Tony\n",
      "names_1               str     name1\n",
      "names_2               str     name2\n",
      "names_3               str     name3\n",
      "names_4               str     name4\n",
      "names_5               str     name5\n",
      "names_6               str     name6\n",
      "names_7               str     name7\n",
      "names_8               str     name8\n",
      "names_9               str     name9\n",
      "path_                 str     nilotpal\\narayan\\users\n",
      "statement1            str     Bablu lives in Delhi !\n",
      "statement2            str     Tony lives in Mumbai !\n",
      "temp                  int     31215\n",
      "x                     int     15\n",
      "y                     int     12\n",
      "z                     int     33\n"
     ]
    }
   ],
   "source": [
    "%whos"
   ]
  },
  {
   "cell_type": "code",
   "execution_count": 56,
   "id": "f5abfdd2",
   "metadata": {},
   "outputs": [],
   "source": [
    "del(x, y, z)"
   ]
  },
  {
   "cell_type": "code",
   "execution_count": 57,
   "id": "f55f2e7f",
   "metadata": {},
   "outputs": [
    {
     "name": "stdout",
     "output_type": "stream",
     "text": [
      "Variable              Type    Data/Info\n",
      "---------------------------------------\n",
      "Data                  str     I love pizza\n",
      "dAtA                  str     I am groot\n",
      "datA                  str     Lets go bananas\n",
      "data                  int     123\n",
      "hero1                 str     Groot\n",
      "hero2                 str     Thor\n",
      "i                     int     9\n",
      "my_container_name_1   str     name1\n",
      "my_container_name_2   str     name2\n",
      "my_container_name_3   str     name3\n",
      "my_container_name_4   str     name4\n",
      "my_container_name_5   str     name5\n",
      "my_container_name_6   str     name6\n",
      "my_container_name_7   str     name7\n",
      "my_container_name_8   str     name8\n",
      "my_container_name_9   str     name9\n",
      "name1                 str     Bablu\n",
      "name2                 str     Tony\n",
      "names_1               str     name1\n",
      "names_2               str     name2\n",
      "names_3               str     name3\n",
      "names_4               str     name4\n",
      "names_5               str     name5\n",
      "names_6               str     name6\n",
      "names_7               str     name7\n",
      "names_8               str     name8\n",
      "names_9               str     name9\n",
      "path_                 str     nilotpal\\narayan\\users\n",
      "statement1            str     Bablu lives in Delhi !\n",
      "statement2            str     Tony lives in Mumbai !\n",
      "temp                  int     31215\n"
     ]
    }
   ],
   "source": [
    "%whos"
   ]
  }
 ],
 "metadata": {
  "kernelspec": {
   "display_name": "Python 3 (ipykernel)",
   "language": "python",
   "name": "python3"
  },
  "language_info": {
   "codemirror_mode": {
    "name": "ipython",
    "version": 3
   },
   "file_extension": ".py",
   "mimetype": "text/x-python",
   "name": "python",
   "nbconvert_exporter": "python",
   "pygments_lexer": "ipython3",
   "version": "3.9.13"
  }
 },
 "nbformat": 4,
 "nbformat_minor": 5
}

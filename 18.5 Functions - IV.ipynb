{
 "cells": [
  {
   "cell_type": "markdown",
   "id": "5d166f94",
   "metadata": {},
   "source": [
    "# Arbitrary and Keyword Arbitrary arguments"
   ]
  },
  {
   "cell_type": "markdown",
   "id": "0ec71115",
   "metadata": {},
   "source": [
    "## 1. Arbitrary Arguments"
   ]
  },
  {
   "cell_type": "markdown",
   "id": "18deb20b",
   "metadata": {},
   "source": [
    "- Positional arguments, arbitrary arguments, default_arguments\n",
    "- Allows multiple values as inputs without taking into account the count of values been provided"
   ]
  },
  {
   "cell_type": "code",
   "execution_count": 73,
   "id": "b5745837",
   "metadata": {},
   "outputs": [],
   "source": [
    "def my_func(*args, number1, number2 = 55):\n",
    "    return [(i*number1)-number2 for i in args]"
   ]
  },
  {
   "cell_type": "code",
   "execution_count": 74,
   "id": "c5e899e9",
   "metadata": {},
   "outputs": [
    {
     "data": {
      "text/plain": [
       "[-30, -30, -35, -40, -45, -30, 280, -30]"
      ]
     },
     "execution_count": 74,
     "metadata": {},
     "output_type": "execute_result"
    }
   ],
   "source": [
    "my_func(5,5,4,3,2,5,67,5,number2 = 55, number1 = 5)"
   ]
  },
  {
   "cell_type": "code",
   "execution_count": 88,
   "id": "b41aeca0",
   "metadata": {},
   "outputs": [],
   "source": [
    "def longest_list_finder(*args):\n",
    "    \n",
    "    final = None\n",
    "    initial_length = 0\n",
    "    \n",
    "    for list_ in args:\n",
    "        if len(list_)>initial_length:\n",
    "            initial_length = len(list_)\n",
    "            final = list_\n",
    "            print(final)\n",
    "    return final"
   ]
  },
  {
   "cell_type": "code",
   "execution_count": 90,
   "id": "5f241eba",
   "metadata": {},
   "outputs": [
    {
     "name": "stdout",
     "output_type": "stream",
     "text": [
      "[1, 2, 3, 5, 6, 1]\n",
      "[1, 2, 3, 4, 5, 6, 7, 8]\n"
     ]
    }
   ],
   "source": [
    "list1, list2, list3 = ([1,2,3,5,6,1], ['I', 'am', 'Groot',55], [1,2,3,4,5,6,7,8])\n",
    "final_op = longest_list_finder(list1, list2, list3)"
   ]
  },
  {
   "cell_type": "code",
   "execution_count": 91,
   "id": "c26d4f57",
   "metadata": {},
   "outputs": [
    {
     "data": {
      "text/plain": [
       "[1, 2, 3, 4, 5, 6, 7, 8]"
      ]
     },
     "execution_count": 91,
     "metadata": {},
     "output_type": "execute_result"
    }
   ],
   "source": [
    "final_op"
   ]
  },
  {
   "cell_type": "code",
   "execution_count": 92,
   "id": "5328fc25",
   "metadata": {},
   "outputs": [
    {
     "data": {
      "text/plain": [
       "3"
      ]
     },
     "execution_count": 92,
     "metadata": {},
     "output_type": "execute_result"
    }
   ],
   "source": [
    "my_list = ([1,2,3,5,6,1], ['I', 'am', 'Groot',55], [1,2,3,4,5,6,7,8])\n",
    "len(my_list)"
   ]
  },
  {
   "cell_type": "code",
   "execution_count": 98,
   "id": "25b5a3b4",
   "metadata": {},
   "outputs": [],
   "source": [
    "def dummy(*args):\n",
    "    print(args[0])\n",
    "    return args[0]"
   ]
  },
  {
   "cell_type": "code",
   "execution_count": 99,
   "id": "c6e1b448",
   "metadata": {},
   "outputs": [
    {
     "name": "stdout",
     "output_type": "stream",
     "text": [
      "([1, 2, 3, 5, 6, 1], ['I', 'am', 'Groot', 55], [1, 2, 3, 4, 5, 6, 7, 8])\n"
     ]
    },
    {
     "data": {
      "text/plain": [
       "3"
      ]
     },
     "execution_count": 99,
     "metadata": {},
     "output_type": "execute_result"
    }
   ],
   "source": [
    "len(dummy(my_list))"
   ]
  },
  {
   "cell_type": "markdown",
   "id": "2f0576b2",
   "metadata": {},
   "source": [
    "## 2. Keyword Arbitrary arguments"
   ]
  },
  {
   "cell_type": "markdown",
   "id": "8ac0972f",
   "metadata": {},
   "source": [
    "- kwargs : keyword arguments"
   ]
  },
  {
   "cell_type": "code",
   "execution_count": 114,
   "id": "c1760b65",
   "metadata": {},
   "outputs": [],
   "source": [
    "def my_func(**kwargs):\n",
    "    keys_ = kwargs.keys()\n",
    "    values_ = kwargs.values()\n",
    "    print(keys_,values_)"
   ]
  },
  {
   "cell_type": "code",
   "execution_count": 115,
   "id": "aa3edd84",
   "metadata": {},
   "outputs": [
    {
     "name": "stdout",
     "output_type": "stream",
     "text": [
      "dict_keys(['a', 'b']) dict_values([1, 2])\n"
     ]
    }
   ],
   "source": [
    "my_func(a=1,b=2)"
   ]
  },
  {
   "cell_type": "code",
   "execution_count": 108,
   "id": "0a516831",
   "metadata": {},
   "outputs": [],
   "source": [
    "my_dict = {'a':1, 'b':2, 'c':3}"
   ]
  },
  {
   "cell_type": "code",
   "execution_count": 111,
   "id": "4c93e161",
   "metadata": {},
   "outputs": [
    {
     "name": "stdout",
     "output_type": "stream",
     "text": [
      "True\n"
     ]
    }
   ],
   "source": [
    "if my_dict.get('a'):\n",
    "    print(True)"
   ]
  },
  {
   "cell_type": "code",
   "execution_count": 162,
   "id": "214407d1",
   "metadata": {},
   "outputs": [],
   "source": [
    "def calculator(number1, number2, operation = None, **kwargs):\n",
    "\n",
    "    flag = 0\n",
    "    if kwargs.get('square'):\n",
    "        print('Finding out the squares...')\n",
    "        flag = 2\n",
    "    elif kwargs.get('cube'):\n",
    "        flag = 3\n",
    "        print('Finding out the cubes...')\n",
    "    elif kwargs.get('power'):\n",
    "        flag = kwargs.get('power')\n",
    "        print(f'Finding out the {flag}th power...')\n",
    "    \n",
    "    \n",
    "    if flag:\n",
    "        final = [num**flag for num in (number1, number2)]\n",
    "        return final\n",
    "    \n",
    "    elif operation == None:\n",
    "        final = (number1==number2)\n",
    "        if final:\n",
    "            print('The numbers are equal !')\n",
    "        else:\n",
    "            print('The numbers are not equal !')\n",
    "        return -1\n",
    "\n",
    "    elif operation == 'add':\n",
    "        final = number1 + number2\n",
    "        print(f'The sum of {number1} and {number2} is {final} !')\n",
    "        return final\n",
    "    \n",
    "    elif operation == 'sub':\n",
    "        final = number1 - number2\n",
    "        print(f'The difference of {number1} and {number2} is {final} !')\n",
    "        return final\n",
    "    \n",
    "    elif operation == 'product':\n",
    "        final = number1 * number2\n",
    "        print(f'The product of {number1} and {number2} is {final} !')\n",
    "        return final\n",
    "    \n",
    "    elif operation == 'division':\n",
    "        final = number1 / number2\n",
    "        print(f'The division of {number1} and {number2} is {final} !')\n",
    "        return final\n",
    "    \n",
    "    "
   ]
  },
  {
   "cell_type": "code",
   "execution_count": 163,
   "id": "576906bb",
   "metadata": {},
   "outputs": [
    {
     "name": "stdout",
     "output_type": "stream",
     "text": [
      "Finding out the 10th power...\n",
      "The sum of 5 and 2 is 7 !\n"
     ]
    },
    {
     "data": {
      "text/plain": [
       "7"
      ]
     },
     "execution_count": 163,
     "metadata": {},
     "output_type": "execute_result"
    }
   ],
   "source": [
    "calculator(5,2, operation = 'add', power = 10)"
   ]
  },
  {
   "cell_type": "code",
   "execution_count": 142,
   "id": "11cea8f5",
   "metadata": {},
   "outputs": [
    {
     "name": "stdout",
     "output_type": "stream",
     "text": [
      "Finding out the 5th power...\n"
     ]
    },
    {
     "data": {
      "text/plain": [
       "[3125, 32]"
      ]
     },
     "execution_count": 142,
     "metadata": {},
     "output_type": "execute_result"
    }
   ],
   "source": [
    "calculator(5,2, power=5)"
   ]
  },
  {
   "cell_type": "code",
   "execution_count": null,
   "id": "dbf33513",
   "metadata": {},
   "outputs": [],
   "source": []
  },
  {
   "cell_type": "code",
   "execution_count": 145,
   "id": "cb0f834b",
   "metadata": {},
   "outputs": [
    {
     "data": {
      "text/plain": [
       "[3125, 243]"
      ]
     },
     "execution_count": 145,
     "metadata": {},
     "output_type": "execute_result"
    }
   ],
   "source": [
    "number1 = 5\n",
    "number2 = 3\n",
    "flag = 5\n",
    "\n",
    "[num**flag for num in (number1, number2)]"
   ]
  },
  {
   "cell_type": "code",
   "execution_count": 148,
   "id": "f158182f",
   "metadata": {},
   "outputs": [
    {
     "data": {
      "text/plain": [
       "True"
      ]
     },
     "execution_count": 148,
     "metadata": {},
     "output_type": "execute_result"
    }
   ],
   "source": [
    "bool()"
   ]
  },
  {
   "cell_type": "code",
   "execution_count": 156,
   "id": "0a02fbb7",
   "metadata": {},
   "outputs": [
    {
     "data": {
      "text/plain": [
       "73"
      ]
     },
     "execution_count": 156,
     "metadata": {},
     "output_type": "execute_result"
    }
   ],
   "source": [
    "adder(number1 = 6, number2 = 67)"
   ]
  },
  {
   "cell_type": "code",
   "execution_count": 181,
   "id": "b05205c4",
   "metadata": {},
   "outputs": [],
   "source": [
    "def longest_list_finder2(**kwargs):\n",
    "    '''would take in keyword arguments from the users and would return the name of the longest list'''\n",
    "    final = None\n",
    "    initial_length = 0\n",
    "    \n",
    "#     print(f'The kwargs look like this : {kwargs}\\n')\n",
    "    \n",
    "    for key in kwargs:\n",
    "        if len(kwargs.get(key)) > initial_length:\n",
    "            initial_length = len(kwargs.get(key))\n",
    "            final = key\n",
    "    return final"
   ]
  },
  {
   "cell_type": "code",
   "execution_count": 182,
   "id": "ba3ff47f",
   "metadata": {},
   "outputs": [
    {
     "data": {
      "text/plain": [
       "'list3'"
      ]
     },
     "execution_count": 182,
     "metadata": {},
     "output_type": "execute_result"
    }
   ],
   "source": [
    "list1 = [1,2,3,4,5,6]\n",
    "list2 = [4,2,6,7,8,1,2,3,5]\n",
    "list3 = list('dvfjfjhvbjdhfvjhdvfj')\n",
    "list4 = list('dvbfjhfj')\n",
    "list5 = list('jbfvjdbkjbdjhbejkdbk')\n",
    "\n",
    "longest_list_finder2(list1 = list1, list2 = list2, list3 = list3, list4 = list4, list5 = list5)"
   ]
  },
  {
   "cell_type": "code",
   "execution_count": 167,
   "id": "e7c43ede",
   "metadata": {},
   "outputs": [
    {
     "data": {
      "text/plain": [
       "20"
      ]
     },
     "execution_count": 167,
     "metadata": {},
     "output_type": "execute_result"
    }
   ],
   "source": [
    "([1,2,3,4,5,6] = [1,2,3,4,5,6], [4,2,6,7,8,1,2,3,5] = [4,2,6,7,8,1,2,3,5],...)"
   ]
  },
  {
   "cell_type": "code",
   "execution_count": 173,
   "id": "6702b0d8",
   "metadata": {},
   "outputs": [
    {
     "data": {
      "text/plain": [
       "\"[1, 2, 3, 4, 5, 6]=[1, 2, 3, 4, 5, 6], [4, 2, 6, 7, 8, 1, 2, 3, 5] = [4, 2, 6, 7, 8, 1, 2, 3, 5], ['d', 'v', 'f', 'j', 'f', 'j', 'h', 'v', 'b', 'j', 'd', 'h', 'f', 'v', 'j', 'h', 'd', 'v', 'f', 'j']=['d', 'v', 'f', 'j', 'f', 'j', 'h', 'v', 'b', 'j', 'd', 'h', 'f', 'v', 'j', 'h', 'd', 'v', 'f', 'j'], ['d', 'v', 'b', 'f', 'j', 'h', 'f', 'j'] = ['d', 'v', 'b', 'f', 'j', 'h', 'f', 'j'], ['j', 'b', 'f', 'v', 'j', 'd', 'b', 'k', 'j', 'b', 'd', 'j', 'h', 'b', 'e', 'j', 'k', 'd', 'b', 'k'] = ['j', 'b', 'f', 'v', 'j', 'd', 'b', 'k', 'j', 'b', 'd', 'j', 'h', 'b', 'e', 'j', 'k', 'd', 'b', 'k']\""
      ]
     },
     "execution_count": 173,
     "metadata": {},
     "output_type": "execute_result"
    }
   ],
   "source": [
    "f'{list1}={list1}, {list2} = {list2}, {list3}={list3}, {list4} = {list4}, {list5} = {list5}'"
   ]
  },
  {
   "cell_type": "code",
   "execution_count": 174,
   "id": "800ca84b",
   "metadata": {},
   "outputs": [
    {
     "name": "stdout",
     "output_type": "stream",
     "text": [
      "Variable               Type        Data/Info\n",
      "--------------------------------------------\n",
      "adder                  function    <function adder at 0x1051ad040>\n",
      "adder2                 function    <function adder2 at 0x1051ad310>\n",
      "all_lists              tuple       n=3\n",
      "args                   tuple       n=7\n",
      "calculator             function    <function calculator at 0x1053344c0>\n",
      "data                   list        n=3\n",
      "dummy                  function    <function dummy at 0x105202550>\n",
      "final_op               list        n=8\n",
      "flag                   int         5\n",
      "i                      list        n=3\n",
      "list1                  list        n=6\n",
      "list2                  list        n=9\n",
      "list3                  list        n=20\n",
      "list4                  list        n=8\n",
      "list5                  list        n=20\n",
      "list_of_lists          list        n=3\n",
      "longest_list_finder    function    <function longest_list_finder at 0x105257f70>\n",
      "longest_list_finder2   function    <function longest_list_finder2 at 0x105221af0>\n",
      "my_dict                dict        n=3\n",
      "my_func                function    <function my_func at 0x1052ab820>\n",
      "my_list                tuple       n=3\n",
      "my_power               function    <function my_power at 0x103996310>\n",
      "my_power1              function    <function my_power1 at 0x105176ee0>\n",
      "number1                int         5\n",
      "number2                int         3\n",
      "splitter               function    <function splitter at 0x105159e50>\n"
     ]
    }
   ],
   "source": [
    "%whos"
   ]
  },
  {
   "cell_type": "code",
   "execution_count": 175,
   "id": "8a1c55e9",
   "metadata": {},
   "outputs": [
    {
     "ename": "NameError",
     "evalue": "name 'z' is not defined",
     "output_type": "error",
     "traceback": [
      "\u001b[0;31m---------------------------------------------------------------------------\u001b[0m",
      "\u001b[0;31mNameError\u001b[0m                                 Traceback (most recent call last)",
      "Input \u001b[0;32mIn [175]\u001b[0m, in \u001b[0;36m<cell line: 1>\u001b[0;34m()\u001b[0m\n\u001b[0;32m----> 1\u001b[0m \u001b[43mz\u001b[49m\n",
      "\u001b[0;31mNameError\u001b[0m: name 'z' is not defined"
     ]
    }
   ],
   "source": [
    "z"
   ]
  },
  {
   "cell_type": "code",
   "execution_count": 180,
   "id": "6e4e8cc7",
   "metadata": {},
   "outputs": [
    {
     "data": {
      "text/plain": [
       "{'z': 55, 'hghgsfv': 43}"
      ]
     },
     "execution_count": 180,
     "metadata": {},
     "output_type": "execute_result"
    }
   ],
   "source": [
    "dict(z = 55, hghgsfv = 43)"
   ]
  },
  {
   "cell_type": "code",
   "execution_count": 196,
   "id": "b7cc8278",
   "metadata": {},
   "outputs": [],
   "source": [
    "data = (1,2,3,4,5)"
   ]
  },
  {
   "cell_type": "code",
   "execution_count": 202,
   "id": "cecf9b9d",
   "metadata": {},
   "outputs": [],
   "source": [
    "a,b,*_ = data"
   ]
  },
  {
   "cell_type": "code",
   "execution_count": 204,
   "id": "d53c3c30",
   "metadata": {},
   "outputs": [
    {
     "data": {
      "text/plain": [
       "[3, 4, 5]"
      ]
     },
     "execution_count": 204,
     "metadata": {},
     "output_type": "execute_result"
    }
   ],
   "source": [
    "_"
   ]
  },
  {
   "cell_type": "code",
   "execution_count": 205,
   "id": "d4fe05df",
   "metadata": {},
   "outputs": [
    {
     "data": {
      "text/plain": [
       "1"
      ]
     },
     "execution_count": 205,
     "metadata": {},
     "output_type": "execute_result"
    }
   ],
   "source": [
    "a"
   ]
  },
  {
   "cell_type": "code",
   "execution_count": 206,
   "id": "84557c5d",
   "metadata": {},
   "outputs": [
    {
     "data": {
      "text/plain": [
       "2"
      ]
     },
     "execution_count": 206,
     "metadata": {},
     "output_type": "execute_result"
    }
   ],
   "source": [
    "b"
   ]
  },
  {
   "cell_type": "code",
   "execution_count": 237,
   "id": "37d9f1d1",
   "metadata": {},
   "outputs": [],
   "source": [
    "# Nil Suryawanshi22:26\n",
    "def perfect_number(num):                          \n",
    "    sum_=0\n",
    "    for i in range(1,num):\n",
    "        if num % i == 0:\n",
    "            sum_ += i\n",
    "          \n",
    "    if sum_ == num:\n",
    "        return (f'{num} is a perfect number.')\n",
    "    else:\n",
    "        return (f'{num} is not a perfect number.')"
   ]
  },
  {
   "cell_type": "code",
   "execution_count": 236,
   "id": "34adac43",
   "metadata": {},
   "outputs": [
    {
     "data": {
      "text/plain": [
       "'28 is a perfect number.'"
      ]
     },
     "execution_count": 236,
     "metadata": {},
     "output_type": "execute_result"
    }
   ],
   "source": [
    "perfect_number(28)"
   ]
  },
  {
   "cell_type": "code",
   "execution_count": 216,
   "id": "92c5cb53",
   "metadata": {},
   "outputs": [
    {
     "data": {
      "text/plain": [
       "28"
      ]
     },
     "execution_count": 216,
     "metadata": {},
     "output_type": "execute_result"
    }
   ],
   "source": [
    "sum((1,2,4,7,14))"
   ]
  },
  {
   "cell_type": "code",
   "execution_count": null,
   "id": "b1e86ef3",
   "metadata": {},
   "outputs": [],
   "source": []
  }
 ],
 "metadata": {
  "kernelspec": {
   "display_name": "Python 3 (ipykernel)",
   "language": "python",
   "name": "python3"
  },
  "language_info": {
   "codemirror_mode": {
    "name": "ipython",
    "version": 3
   },
   "file_extension": ".py",
   "mimetype": "text/x-python",
   "name": "python",
   "nbconvert_exporter": "python",
   "pygments_lexer": "ipython3",
   "version": "3.9.12"
  }
 },
 "nbformat": 4,
 "nbformat_minor": 5
}

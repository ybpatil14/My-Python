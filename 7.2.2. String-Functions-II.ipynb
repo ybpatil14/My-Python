{
 "cells": [
  {
   "cell_type": "markdown",
   "id": "956324c4",
   "metadata": {},
   "source": [
    "# Part 2. "
   ]
  },
  {
   "cell_type": "markdown",
   "id": "091106d6",
   "metadata": {},
   "source": [
    "## a. Alphabetical data"
   ]
  },
  {
   "cell_type": "markdown",
   "id": "3ec78198",
   "metadata": {},
   "source": [
    "### 1. isalpha\n",
    "\n",
    "- syntax : object_name.isalpha()\n",
    "- returns a boolean value\n",
    "- True if all the characters are alphabetic only {Even special characters would lead the ans to be False}\n",
    "- case-insensitive\n",
    "- spaces are not allowed"
   ]
  },
  {
   "cell_type": "code",
   "execution_count": 13,
   "id": "7a6e02c2",
   "metadata": {},
   "outputs": [
    {
     "data": {
      "text/plain": [
       "True"
      ]
     },
     "execution_count": 13,
     "metadata": {},
     "output_type": "execute_result"
    }
   ],
   "source": [
    "data = 'Groot'\n",
    "\n",
    "data.isalpha()"
   ]
  },
  {
   "cell_type": "code",
   "execution_count": 15,
   "id": "76f8d4fb",
   "metadata": {
    "scrolled": true
   },
   "outputs": [
    {
     "data": {
      "text/plain": [
       "(True, True, False)"
      ]
     },
     "execution_count": 15,
     "metadata": {},
     "output_type": "execute_result"
    }
   ],
   "source": [
    "data1 = 'GROOT'\n",
    "data2 = 'groot'\n",
    "data3 = 'groot2'\n",
    "\n",
    "data1.isalpha(), data2.isalpha(), data3.isalpha()"
   ]
  },
  {
   "cell_type": "code",
   "execution_count": 17,
   "id": "d4680120",
   "metadata": {},
   "outputs": [
    {
     "data": {
      "text/plain": [
       "'What is machine learning? Machine learning is a subfield of artificial intelligence, which is broadly defined as the capability of a machine to imitate intelligent human behavior. Artificial intelligence systems are used to perform complex tasks in a way that is similar to how humans solve problems.21-Apr-2021'"
      ]
     },
     "execution_count": 17,
     "metadata": {},
     "output_type": "execute_result"
    }
   ],
   "source": [
    "data = '''What is machine learning? Machine learning is a subfield of artificial intelligence, which is broadly defined as the capability of a machine to imitate intelligent human behavior. Artificial intelligence systems are used to perform complex tasks in a way that is similar to how humans solve problems.21-Apr-2021'''\n",
    "data"
   ]
  },
  {
   "cell_type": "markdown",
   "id": "b9e88487",
   "metadata": {},
   "source": [
    "## b. Numeric data"
   ]
  },
  {
   "cell_type": "markdown",
   "id": "0ec4425a",
   "metadata": {},
   "source": [
    "- isdecimal() method supports only Decimal Numbers.\n",
    "- isdigit() method supports Decimals, Subscripts, Superscripts.\n",
    "- isnumeric() method supports Digits, Vulgar Fractions, Subscripts, Superscripts, Roman Numerals, Currency Numerators."
   ]
  },
  {
   "cell_type": "markdown",
   "id": "a7d36e91",
   "metadata": {},
   "source": [
    "### 2. isnumeric - Most superior function - Used almost everytime\n",
    "\n",
    "- syntax : object_name.isnumeric()\n",
    "- returns a boolean value\n",
    "- returns True only if all the characters are numbers {even decimal points are considered as special characters}\n",
    "- spaces are not allowed\n",
    "- the data should preferably be an integer in quotes"
   ]
  },
  {
   "cell_type": "code",
   "execution_count": 38,
   "id": "c23931ed",
   "metadata": {},
   "outputs": [
    {
     "data": {
      "text/plain": [
       "True"
      ]
     },
     "execution_count": 38,
     "metadata": {},
     "output_type": "execute_result"
    }
   ],
   "source": [
    "data = '12344'\n",
    "data.isnumeric()"
   ]
  },
  {
   "cell_type": "code",
   "execution_count": 37,
   "id": "2d098d1d",
   "metadata": {},
   "outputs": [
    {
     "data": {
      "text/plain": [
       "False"
      ]
     },
     "execution_count": 37,
     "metadata": {},
     "output_type": "execute_result"
    }
   ],
   "source": [
    "data = '12344 '\n",
    "data.isnumeric()"
   ]
  },
  {
   "cell_type": "code",
   "execution_count": 25,
   "id": "196b6918",
   "metadata": {},
   "outputs": [
    {
     "data": {
      "text/plain": [
       "False"
      ]
     },
     "execution_count": 25,
     "metadata": {},
     "output_type": "execute_result"
    }
   ],
   "source": [
    "data = '123.44'\n",
    "data.isnumeric()"
   ]
  },
  {
   "cell_type": "code",
   "execution_count": 26,
   "id": "423ea799",
   "metadata": {},
   "outputs": [
    {
     "data": {
      "text/plain": [
       "True"
      ]
     },
     "execution_count": 26,
     "metadata": {},
     "output_type": "execute_result"
    }
   ],
   "source": [
    "data = '007'\n",
    "data.isnumeric()"
   ]
  },
  {
   "cell_type": "code",
   "execution_count": 28,
   "id": "a09c5574",
   "metadata": {},
   "outputs": [
    {
     "data": {
      "text/plain": [
       "(True, False, True)"
      ]
     },
     "execution_count": 28,
     "metadata": {},
     "output_type": "execute_result"
    }
   ],
   "source": [
    "x = '8888888888'\n",
    "y = '27 years'\n",
    "z = '446402'\n",
    "\n",
    "x.isnumeric(), y.isnumeric(), z.isnumeric()"
   ]
  },
  {
   "cell_type": "markdown",
   "id": "4770b94a",
   "metadata": {},
   "source": [
    "### 3. isdecimal\n",
    "\n",
    "- syntax : object_name.isdecimal()\n",
    "- returns True if the unocode is a numeric data unicode"
   ]
  },
  {
   "cell_type": "code",
   "execution_count": 45,
   "id": "37a7a4f8",
   "metadata": {},
   "outputs": [
    {
     "data": {
      "text/plain": [
       "False"
      ]
     },
     "execution_count": 45,
     "metadata": {},
     "output_type": "execute_result"
    }
   ],
   "source": [
    "data = '560.5'\n",
    "data.isdecimal(), data.isnumeric()"
   ]
  },
  {
   "cell_type": "code",
   "execution_count": 65,
   "id": "fe3c786d",
   "metadata": {},
   "outputs": [
    {
     "data": {
      "text/plain": [
       "('3', True, True, True)"
      ]
     },
     "execution_count": 65,
     "metadata": {},
     "output_type": "execute_result"
    }
   ],
   "source": [
    "data = '\\u0033'\n",
    "data, data.isdecimal(), data.isnumeric(), data.isdigit()"
   ]
  },
  {
   "cell_type": "markdown",
   "id": "7b483796",
   "metadata": {},
   "source": [
    "### 4. isdigit"
   ]
  },
  {
   "cell_type": "code",
   "execution_count": 62,
   "id": "70e22247",
   "metadata": {},
   "outputs": [
    {
     "data": {
      "text/plain": [
       "True"
      ]
     },
     "execution_count": 62,
     "metadata": {},
     "output_type": "execute_result"
    }
   ],
   "source": [
    "data = '555'\n",
    "data.isdigit()"
   ]
  },
  {
   "cell_type": "code",
   "execution_count": 63,
   "id": "aab42052",
   "metadata": {},
   "outputs": [
    {
     "data": {
      "text/plain": [
       "False"
      ]
     },
     "execution_count": 63,
     "metadata": {},
     "output_type": "execute_result"
    }
   ],
   "source": [
    "data = '555.556'\n",
    "data.isdigit()"
   ]
  },
  {
   "cell_type": "markdown",
   "id": "500ee514",
   "metadata": {},
   "source": [
    "## c. Alphanumeric data"
   ]
  },
  {
   "cell_type": "markdown",
   "id": "6dcbc3ed",
   "metadata": {},
   "source": [
    "### 5. isalnum\n",
    "\n",
    "- syntax : object_name.isalnum()"
   ]
  },
  {
   "cell_type": "code",
   "execution_count": 71,
   "id": "6aeb8eca",
   "metadata": {},
   "outputs": [
    {
     "data": {
      "text/plain": [
       "(True, True, True, False)"
      ]
     },
     "execution_count": 71,
     "metadata": {},
     "output_type": "execute_result"
    }
   ],
   "source": [
    "data = '123'\n",
    "data1 = 'abc'\n",
    "data2 = 'abc123'\n",
    "data3 = 'abc 123'\n",
    "\n",
    "data.isalnum(), data1.isalnum(), data2.isalnum(), data3.isalnum()"
   ]
  },
  {
   "cell_type": "markdown",
   "id": "c2ed911c",
   "metadata": {},
   "source": [
    "## d. To find out the cases of data"
   ]
  },
  {
   "cell_type": "markdown",
   "id": "193dd5db",
   "metadata": {},
   "source": [
    "### 6. isupper\n",
    "- syntax : object_name.isupper()"
   ]
  },
  {
   "cell_type": "code",
   "execution_count": 80,
   "id": "48698aec",
   "metadata": {},
   "outputs": [
    {
     "data": {
      "text/plain": [
       "True"
      ]
     },
     "execution_count": 80,
     "metadata": {},
     "output_type": "execute_result"
    }
   ],
   "source": [
    "data = 'GROOT'\n",
    "data.isupper()"
   ]
  },
  {
   "cell_type": "markdown",
   "id": "721be38a",
   "metadata": {},
   "source": [
    "### 7. islower\n",
    "- syntax : object_name.islower()"
   ]
  },
  {
   "cell_type": "code",
   "execution_count": 81,
   "id": "5b5404c6",
   "metadata": {},
   "outputs": [
    {
     "data": {
      "text/plain": [
       "True"
      ]
     },
     "execution_count": 81,
     "metadata": {},
     "output_type": "execute_result"
    }
   ],
   "source": [
    "data = 'sea'\n",
    "data.islower()"
   ]
  },
  {
   "cell_type": "code",
   "execution_count": 82,
   "id": "765075c1",
   "metadata": {},
   "outputs": [
    {
     "data": {
      "text/plain": [
       "(False, False, True, True)"
      ]
     },
     "execution_count": 82,
     "metadata": {},
     "output_type": "execute_result"
    }
   ],
   "source": [
    "data = 'Sea'\n",
    "\n",
    "data.isupper(), data.islower(), data.isalpha(), data.isalnum()"
   ]
  },
  {
   "cell_type": "markdown",
   "id": "9aaaadc8",
   "metadata": {},
   "source": [
    "### 8. istitle\n",
    "- syntax : object_name.istitle()"
   ]
  },
  {
   "cell_type": "code",
   "execution_count": 83,
   "id": "7b959f72",
   "metadata": {},
   "outputs": [
    {
     "data": {
      "text/plain": [
       "True"
      ]
     },
     "execution_count": 83,
     "metadata": {},
     "output_type": "execute_result"
    }
   ],
   "source": [
    "data = 'Sea'\n",
    "data.istitle()"
   ]
  },
  {
   "cell_type": "markdown",
   "id": "91a0b1d4",
   "metadata": {},
   "source": [
    "### 9. isspace\n",
    "- syntax : object_name.isspace()"
   ]
  },
  {
   "cell_type": "code",
   "execution_count": 84,
   "id": "bf7ba116",
   "metadata": {},
   "outputs": [
    {
     "data": {
      "text/plain": [
       "True"
      ]
     },
     "execution_count": 84,
     "metadata": {},
     "output_type": "execute_result"
    }
   ],
   "source": [
    "data = '      '\n",
    "data.isspace()"
   ]
  },
  {
   "cell_type": "code",
   "execution_count": 88,
   "id": "bd92fe21",
   "metadata": {},
   "outputs": [
    {
     "data": {
      "text/plain": [
       "(False, False, False, True, True, False, False)"
      ]
     },
     "execution_count": 88,
     "metadata": {},
     "output_type": "execute_result"
    }
   ],
   "source": [
    "x = 'groot'\n",
    "y = 'i'\n",
    "z = 'am'\n",
    "p = '       '\n",
    "q = ' '\n",
    "r = 'groot '\n",
    "s = 'I am Groot'\n",
    "\n",
    "x.isspace(), y.isspace(), z.isspace(), p.isspace(), q.isspace(), r.isspace(), s.isspace()"
   ]
  },
  {
   "cell_type": "markdown",
   "id": "17f00f30",
   "metadata": {},
   "source": [
    "## Extra doubts"
   ]
  },
  {
   "cell_type": "code",
   "execution_count": 97,
   "id": "4b5a935e",
   "metadata": {},
   "outputs": [
    {
     "data": {
      "text/plain": [
       "'This work will \\\\ be done'"
      ]
     },
     "execution_count": 97,
     "metadata": {},
     "output_type": "execute_result"
    }
   ],
   "source": [
    "data = r'This work will \\ be done'\n",
    "data"
   ]
  },
  {
   "cell_type": "code",
   "execution_count": 96,
   "id": "1f3bb083",
   "metadata": {},
   "outputs": [
    {
     "name": "stdout",
     "output_type": "stream",
     "text": [
      "C:\n",
      ".Python\tock Assignments\n"
     ]
    }
   ],
   "source": [
    "str_='C:\\n.Python\\tock Assignments'\n",
    "print(str_)"
   ]
  },
  {
   "cell_type": "markdown",
   "id": "3a2899d2",
   "metadata": {},
   "source": [
    "----------------------------------------------------------------------------------------------"
   ]
  },
  {
   "cell_type": "markdown",
   "id": "50cabbc0",
   "metadata": {},
   "source": [
    "## String formatting\n",
    "\n",
    "\n",
    "- :<\t\tLeft aligns the result (within the available space)\n",
    "- :>\t\tRight aligns the result (within the available space)\n",
    "- :^\t\tCenter aligns the result (within the available space)\n",
    "- :=\t\tPlaces the sign to the left most position\n",
    "- :+\t\tUse a plus sign to indicate if the result is positive or negative\n",
    "- :-\t\tUse a minus sign for negative values only\n",
    "- : \t\tUse a space to insert an extra space before positive numbers (and a minus sign before negative numbers)\n",
    "- :,\t\tUse a comma as a thousand separator\n",
    "- :_\t\tUse a underscore as a thousand separator\n",
    "- :b\t\tBinary format\n",
    "- :c\t\tConverts the value into the corresponding unicode character\n",
    "- :d\t\tDecimal format\n",
    "- :e\t\tScientific format, with a lower case e\n",
    "- :E\t\tScientific format, with an upper case E\n",
    "- :f\t\tFix point number format\n",
    "- :F\t\tFix point number format, in uppercase format (show inf and nan as INF and NAN)\n",
    "- :g\t\tGeneral format\n",
    "- :G\t\tGeneral format (using a upper case E for scientific notations)\n",
    "- :o\t\tOctal format\n",
    "- :x\t\tHex format, lower case\n",
    "- :X\t\tHex format, upper case\n",
    "- :n\t\tNumber format\n",
    "- :%\t\tPercentage format\n",
    "\n",
    "## Escape sequence characters\n",
    "\n",
    "- \\'\tSingle Quote\t\n",
    "- \\\\\tBackslash\t\n",
    "- \\n\tNew Line\t\n",
    "- \\r\tCarriage Return\t\n",
    "- \\t\tTab\t\n",
    "- \\b\tBackspace\t\n",
    "- \\f\tForm Feed\t\n",
    "- \\ooo\tOctal value\t\n",
    "- \\xhh\tHex value"
   ]
  },
  {
   "cell_type": "code",
   "execution_count": 155,
   "id": "e4ef548a",
   "metadata": {
    "scrolled": false
   },
   "outputs": [
    {
     "data": {
      "text/plain": [
       "1862"
      ]
     },
     "execution_count": 155,
     "metadata": {},
     "output_type": "execute_result"
    }
   ],
   "source": [
    "x = {chr(i):i for i in range(1000000) if chr(i).isnumeric()}\n",
    "len(x)"
   ]
  },
  {
   "cell_type": "code",
   "execution_count": 163,
   "id": "da416935",
   "metadata": {
    "collapsed": true
   },
   "outputs": [
    {
     "data": {
      "text/plain": [
       "{'0': 48,\n",
       " '1': 49,\n",
       " '2': 50,\n",
       " '3': 51,\n",
       " '4': 52,\n",
       " '5': 53,\n",
       " '6': 54,\n",
       " '7': 55,\n",
       " '8': 56,\n",
       " '9': 57,\n",
       " '²': 178,\n",
       " '³': 179,\n",
       " '¹': 185,\n",
       " '¼': 188,\n",
       " '½': 189,\n",
       " '¾': 190,\n",
       " '٠': 1632,\n",
       " '١': 1633,\n",
       " '٢': 1634,\n",
       " '٣': 1635,\n",
       " '٤': 1636,\n",
       " '٥': 1637,\n",
       " '٦': 1638,\n",
       " '٧': 1639,\n",
       " '٨': 1640,\n",
       " '٩': 1641,\n",
       " '۰': 1776,\n",
       " '۱': 1777,\n",
       " '۲': 1778,\n",
       " '۳': 1779,\n",
       " '۴': 1780,\n",
       " '۵': 1781,\n",
       " '۶': 1782,\n",
       " '۷': 1783,\n",
       " '۸': 1784,\n",
       " '۹': 1785,\n",
       " '߀': 1984,\n",
       " '߁': 1985,\n",
       " '߂': 1986,\n",
       " '߃': 1987,\n",
       " '߄': 1988,\n",
       " '߅': 1989,\n",
       " '߆': 1990,\n",
       " '߇': 1991,\n",
       " '߈': 1992,\n",
       " '߉': 1993,\n",
       " '०': 2406,\n",
       " '१': 2407,\n",
       " '२': 2408,\n",
       " '३': 2409,\n",
       " '४': 2410,\n",
       " '५': 2411,\n",
       " '६': 2412,\n",
       " '७': 2413,\n",
       " '८': 2414,\n",
       " '९': 2415,\n",
       " '০': 2534,\n",
       " '১': 2535,\n",
       " '২': 2536,\n",
       " '৩': 2537,\n",
       " '৪': 2538,\n",
       " '৫': 2539,\n",
       " '৬': 2540,\n",
       " '৭': 2541,\n",
       " '৮': 2542,\n",
       " '৯': 2543,\n",
       " '৴': 2548,\n",
       " '৵': 2549,\n",
       " '৶': 2550,\n",
       " '৷': 2551,\n",
       " '৸': 2552,\n",
       " '৹': 2553,\n",
       " '੦': 2662,\n",
       " '੧': 2663,\n",
       " '੨': 2664,\n",
       " '੩': 2665,\n",
       " '੪': 2666,\n",
       " '੫': 2667,\n",
       " '੬': 2668,\n",
       " '੭': 2669,\n",
       " '੮': 2670,\n",
       " '੯': 2671,\n",
       " '૦': 2790,\n",
       " '૧': 2791,\n",
       " '૨': 2792,\n",
       " '૩': 2793,\n",
       " '૪': 2794,\n",
       " '૫': 2795,\n",
       " '૬': 2796,\n",
       " '૭': 2797,\n",
       " '૮': 2798,\n",
       " '૯': 2799,\n",
       " '୦': 2918,\n",
       " '୧': 2919,\n",
       " '୨': 2920,\n",
       " '୩': 2921,\n",
       " '୪': 2922,\n",
       " '୫': 2923,\n",
       " '୬': 2924,\n",
       " '୭': 2925,\n",
       " '୮': 2926,\n",
       " '୯': 2927,\n",
       " '୲': 2930,\n",
       " '୳': 2931,\n",
       " '୴': 2932,\n",
       " '୵': 2933,\n",
       " '୶': 2934,\n",
       " '୷': 2935,\n",
       " '௦': 3046,\n",
       " '௧': 3047,\n",
       " '௨': 3048,\n",
       " '௩': 3049,\n",
       " '௪': 3050,\n",
       " '௫': 3051,\n",
       " '௬': 3052,\n",
       " '௭': 3053,\n",
       " '௮': 3054,\n",
       " '௯': 3055,\n",
       " '௰': 3056,\n",
       " '௱': 3057,\n",
       " '௲': 3058,\n",
       " '౦': 3174,\n",
       " '౧': 3175,\n",
       " '౨': 3176,\n",
       " '౩': 3177,\n",
       " '౪': 3178,\n",
       " '౫': 3179,\n",
       " '౬': 3180,\n",
       " '౭': 3181,\n",
       " '౮': 3182,\n",
       " '౯': 3183,\n",
       " '౸': 3192,\n",
       " '౹': 3193,\n",
       " '౺': 3194,\n",
       " '౻': 3195,\n",
       " '౼': 3196,\n",
       " '౽': 3197,\n",
       " '౾': 3198,\n",
       " '೦': 3302,\n",
       " '೧': 3303,\n",
       " '೨': 3304,\n",
       " '೩': 3305,\n",
       " '೪': 3306,\n",
       " '೫': 3307,\n",
       " '೬': 3308,\n",
       " '೭': 3309,\n",
       " '೮': 3310,\n",
       " '೯': 3311,\n",
       " '൘': 3416,\n",
       " '൙': 3417,\n",
       " '൚': 3418,\n",
       " '൛': 3419,\n",
       " '൜': 3420,\n",
       " '൝': 3421,\n",
       " '൞': 3422,\n",
       " '൦': 3430,\n",
       " '൧': 3431,\n",
       " '൨': 3432,\n",
       " '൩': 3433,\n",
       " '൪': 3434,\n",
       " '൫': 3435,\n",
       " '൬': 3436,\n",
       " '൭': 3437,\n",
       " '൮': 3438,\n",
       " '൯': 3439,\n",
       " '൰': 3440,\n",
       " '൱': 3441,\n",
       " '൲': 3442,\n",
       " '൳': 3443,\n",
       " '൴': 3444,\n",
       " '൵': 3445,\n",
       " '൶': 3446,\n",
       " '൷': 3447,\n",
       " '൸': 3448,\n",
       " '෦': 3558,\n",
       " '෧': 3559,\n",
       " '෨': 3560,\n",
       " '෩': 3561,\n",
       " '෪': 3562,\n",
       " '෫': 3563,\n",
       " '෬': 3564,\n",
       " '෭': 3565,\n",
       " '෮': 3566,\n",
       " '෯': 3567,\n",
       " '๐': 3664,\n",
       " '๑': 3665,\n",
       " '๒': 3666,\n",
       " '๓': 3667,\n",
       " '๔': 3668,\n",
       " '๕': 3669,\n",
       " '๖': 3670,\n",
       " '๗': 3671,\n",
       " '๘': 3672,\n",
       " '๙': 3673,\n",
       " '໐': 3792,\n",
       " '໑': 3793,\n",
       " '໒': 3794,\n",
       " '໓': 3795,\n",
       " '໔': 3796,\n",
       " '໕': 3797,\n",
       " '໖': 3798,\n",
       " '໗': 3799,\n",
       " '໘': 3800,\n",
       " '໙': 3801,\n",
       " '༠': 3872,\n",
       " '༡': 3873,\n",
       " '༢': 3874,\n",
       " '༣': 3875,\n",
       " '༤': 3876,\n",
       " '༥': 3877,\n",
       " '༦': 3878,\n",
       " '༧': 3879,\n",
       " '༨': 3880,\n",
       " '༩': 3881,\n",
       " '༪': 3882,\n",
       " '༫': 3883,\n",
       " '༬': 3884,\n",
       " '༭': 3885,\n",
       " '༮': 3886,\n",
       " '༯': 3887,\n",
       " '༰': 3888,\n",
       " '༱': 3889,\n",
       " '༲': 3890,\n",
       " '༳': 3891,\n",
       " '၀': 4160,\n",
       " '၁': 4161,\n",
       " '၂': 4162,\n",
       " '၃': 4163,\n",
       " '၄': 4164,\n",
       " '၅': 4165,\n",
       " '၆': 4166,\n",
       " '၇': 4167,\n",
       " '၈': 4168,\n",
       " '၉': 4169,\n",
       " '႐': 4240,\n",
       " '႑': 4241,\n",
       " '႒': 4242,\n",
       " '႓': 4243,\n",
       " '႔': 4244,\n",
       " '႕': 4245,\n",
       " '႖': 4246,\n",
       " '႗': 4247,\n",
       " '႘': 4248,\n",
       " '႙': 4249,\n",
       " '፩': 4969,\n",
       " '፪': 4970,\n",
       " '፫': 4971,\n",
       " '፬': 4972,\n",
       " '፭': 4973,\n",
       " '፮': 4974,\n",
       " '፯': 4975,\n",
       " '፰': 4976,\n",
       " '፱': 4977,\n",
       " '፲': 4978,\n",
       " '፳': 4979,\n",
       " '፴': 4980,\n",
       " '፵': 4981,\n",
       " '፶': 4982,\n",
       " '፷': 4983,\n",
       " '፸': 4984,\n",
       " '፹': 4985,\n",
       " '፺': 4986,\n",
       " '፻': 4987,\n",
       " '፼': 4988,\n",
       " 'ᛮ': 5870,\n",
       " 'ᛯ': 5871,\n",
       " 'ᛰ': 5872,\n",
       " '០': 6112,\n",
       " '១': 6113,\n",
       " '២': 6114,\n",
       " '៣': 6115,\n",
       " '៤': 6116,\n",
       " '៥': 6117,\n",
       " '៦': 6118,\n",
       " '៧': 6119,\n",
       " '៨': 6120,\n",
       " '៩': 6121,\n",
       " '៰': 6128,\n",
       " '៱': 6129,\n",
       " '៲': 6130,\n",
       " '៳': 6131,\n",
       " '៴': 6132,\n",
       " '៵': 6133,\n",
       " '៶': 6134,\n",
       " '៷': 6135,\n",
       " '៸': 6136,\n",
       " '៹': 6137,\n",
       " '᠐': 6160,\n",
       " '᠑': 6161,\n",
       " '᠒': 6162,\n",
       " '᠓': 6163,\n",
       " '᠔': 6164,\n",
       " '᠕': 6165,\n",
       " '᠖': 6166,\n",
       " '᠗': 6167,\n",
       " '᠘': 6168,\n",
       " '᠙': 6169,\n",
       " '᥆': 6470,\n",
       " '᥇': 6471,\n",
       " '᥈': 6472,\n",
       " '᥉': 6473,\n",
       " '᥊': 6474,\n",
       " '᥋': 6475,\n",
       " '᥌': 6476,\n",
       " '᥍': 6477,\n",
       " '᥎': 6478,\n",
       " '᥏': 6479,\n",
       " '᧐': 6608,\n",
       " '᧑': 6609,\n",
       " '᧒': 6610,\n",
       " '᧓': 6611,\n",
       " '᧔': 6612,\n",
       " '᧕': 6613,\n",
       " '᧖': 6614,\n",
       " '᧗': 6615,\n",
       " '᧘': 6616,\n",
       " '᧙': 6617,\n",
       " '᧚': 6618,\n",
       " '᪀': 6784,\n",
       " '᪁': 6785,\n",
       " '᪂': 6786,\n",
       " '᪃': 6787,\n",
       " '᪄': 6788,\n",
       " '᪅': 6789,\n",
       " '᪆': 6790,\n",
       " '᪇': 6791,\n",
       " '᪈': 6792,\n",
       " '᪉': 6793,\n",
       " '᪐': 6800,\n",
       " '᪑': 6801,\n",
       " '᪒': 6802,\n",
       " '᪓': 6803,\n",
       " '᪔': 6804,\n",
       " '᪕': 6805,\n",
       " '᪖': 6806,\n",
       " '᪗': 6807,\n",
       " '᪘': 6808,\n",
       " '᪙': 6809,\n",
       " '᭐': 6992,\n",
       " '᭑': 6993,\n",
       " '᭒': 6994,\n",
       " '᭓': 6995,\n",
       " '᭔': 6996,\n",
       " '᭕': 6997,\n",
       " '᭖': 6998,\n",
       " '᭗': 6999,\n",
       " '᭘': 7000,\n",
       " '᭙': 7001,\n",
       " '᮰': 7088,\n",
       " '᮱': 7089,\n",
       " '᮲': 7090,\n",
       " '᮳': 7091,\n",
       " '᮴': 7092,\n",
       " '᮵': 7093,\n",
       " '᮶': 7094,\n",
       " '᮷': 7095,\n",
       " '᮸': 7096,\n",
       " '᮹': 7097,\n",
       " '᱀': 7232,\n",
       " '᱁': 7233,\n",
       " '᱂': 7234,\n",
       " '᱃': 7235,\n",
       " '᱄': 7236,\n",
       " '᱅': 7237,\n",
       " '᱆': 7238,\n",
       " '᱇': 7239,\n",
       " '᱈': 7240,\n",
       " '᱉': 7241,\n",
       " '᱐': 7248,\n",
       " '᱑': 7249,\n",
       " '᱒': 7250,\n",
       " '᱓': 7251,\n",
       " '᱔': 7252,\n",
       " '᱕': 7253,\n",
       " '᱖': 7254,\n",
       " '᱗': 7255,\n",
       " '᱘': 7256,\n",
       " '᱙': 7257,\n",
       " '⁰': 8304,\n",
       " '⁴': 8308,\n",
       " '⁵': 8309,\n",
       " '⁶': 8310,\n",
       " '⁷': 8311,\n",
       " '⁸': 8312,\n",
       " '⁹': 8313,\n",
       " '₀': 8320,\n",
       " '₁': 8321,\n",
       " '₂': 8322,\n",
       " '₃': 8323,\n",
       " '₄': 8324,\n",
       " '₅': 8325,\n",
       " '₆': 8326,\n",
       " '₇': 8327,\n",
       " '₈': 8328,\n",
       " '₉': 8329,\n",
       " '⅐': 8528,\n",
       " '⅑': 8529,\n",
       " '⅒': 8530,\n",
       " '⅓': 8531,\n",
       " '⅔': 8532,\n",
       " '⅕': 8533,\n",
       " '⅖': 8534,\n",
       " '⅗': 8535,\n",
       " '⅘': 8536,\n",
       " '⅙': 8537,\n",
       " '⅚': 8538,\n",
       " '⅛': 8539,\n",
       " '⅜': 8540,\n",
       " '⅝': 8541,\n",
       " '⅞': 8542,\n",
       " '⅟': 8543,\n",
       " 'Ⅰ': 8544,\n",
       " 'Ⅱ': 8545,\n",
       " 'Ⅲ': 8546,\n",
       " 'Ⅳ': 8547,\n",
       " 'Ⅴ': 8548,\n",
       " 'Ⅵ': 8549,\n",
       " 'Ⅶ': 8550,\n",
       " 'Ⅷ': 8551,\n",
       " 'Ⅸ': 8552,\n",
       " 'Ⅹ': 8553,\n",
       " 'Ⅺ': 8554,\n",
       " 'Ⅻ': 8555,\n",
       " 'Ⅼ': 8556,\n",
       " 'Ⅽ': 8557,\n",
       " 'Ⅾ': 8558,\n",
       " 'Ⅿ': 8559,\n",
       " 'ⅰ': 8560,\n",
       " 'ⅱ': 8561,\n",
       " 'ⅲ': 8562,\n",
       " 'ⅳ': 8563,\n",
       " 'ⅴ': 8564,\n",
       " 'ⅵ': 8565,\n",
       " 'ⅶ': 8566,\n",
       " 'ⅷ': 8567,\n",
       " 'ⅸ': 8568,\n",
       " 'ⅹ': 8569,\n",
       " 'ⅺ': 8570,\n",
       " 'ⅻ': 8571,\n",
       " 'ⅼ': 8572,\n",
       " 'ⅽ': 8573,\n",
       " 'ⅾ': 8574,\n",
       " 'ⅿ': 8575,\n",
       " 'ↀ': 8576,\n",
       " 'ↁ': 8577,\n",
       " 'ↂ': 8578,\n",
       " 'ↅ': 8581,\n",
       " 'ↆ': 8582,\n",
       " 'ↇ': 8583,\n",
       " 'ↈ': 8584,\n",
       " '↉': 8585,\n",
       " '①': 9312,\n",
       " '②': 9313,\n",
       " '③': 9314,\n",
       " '④': 9315,\n",
       " '⑤': 9316,\n",
       " '⑥': 9317,\n",
       " '⑦': 9318,\n",
       " '⑧': 9319,\n",
       " '⑨': 9320,\n",
       " '⑩': 9321,\n",
       " '⑪': 9322,\n",
       " '⑫': 9323,\n",
       " '⑬': 9324,\n",
       " '⑭': 9325,\n",
       " '⑮': 9326,\n",
       " '⑯': 9327,\n",
       " '⑰': 9328,\n",
       " '⑱': 9329,\n",
       " '⑲': 9330,\n",
       " '⑳': 9331,\n",
       " '⑴': 9332,\n",
       " '⑵': 9333,\n",
       " '⑶': 9334,\n",
       " '⑷': 9335,\n",
       " '⑸': 9336,\n",
       " '⑹': 9337,\n",
       " '⑺': 9338,\n",
       " '⑻': 9339,\n",
       " '⑼': 9340,\n",
       " '⑽': 9341,\n",
       " '⑾': 9342,\n",
       " '⑿': 9343,\n",
       " '⒀': 9344,\n",
       " '⒁': 9345,\n",
       " '⒂': 9346,\n",
       " '⒃': 9347,\n",
       " '⒄': 9348,\n",
       " '⒅': 9349,\n",
       " '⒆': 9350,\n",
       " '⒇': 9351,\n",
       " '⒈': 9352,\n",
       " '⒉': 9353,\n",
       " '⒊': 9354,\n",
       " '⒋': 9355,\n",
       " '⒌': 9356,\n",
       " '⒍': 9357,\n",
       " '⒎': 9358,\n",
       " '⒏': 9359,\n",
       " '⒐': 9360,\n",
       " '⒑': 9361,\n",
       " '⒒': 9362,\n",
       " '⒓': 9363,\n",
       " '⒔': 9364,\n",
       " '⒕': 9365,\n",
       " '⒖': 9366,\n",
       " '⒗': 9367,\n",
       " '⒘': 9368,\n",
       " '⒙': 9369,\n",
       " '⒚': 9370,\n",
       " '⒛': 9371,\n",
       " '⓪': 9450,\n",
       " '⓫': 9451,\n",
       " '⓬': 9452,\n",
       " '⓭': 9453,\n",
       " '⓮': 9454,\n",
       " '⓯': 9455,\n",
       " '⓰': 9456,\n",
       " '⓱': 9457,\n",
       " '⓲': 9458,\n",
       " '⓳': 9459,\n",
       " '⓴': 9460,\n",
       " '⓵': 9461,\n",
       " '⓶': 9462,\n",
       " '⓷': 9463,\n",
       " '⓸': 9464,\n",
       " '⓹': 9465,\n",
       " '⓺': 9466,\n",
       " '⓻': 9467,\n",
       " '⓼': 9468,\n",
       " '⓽': 9469,\n",
       " '⓾': 9470,\n",
       " '⓿': 9471,\n",
       " '❶': 10102,\n",
       " '❷': 10103,\n",
       " '❸': 10104,\n",
       " '❹': 10105,\n",
       " '❺': 10106,\n",
       " '❻': 10107,\n",
       " '❼': 10108,\n",
       " '❽': 10109,\n",
       " '❾': 10110,\n",
       " '❿': 10111,\n",
       " '➀': 10112,\n",
       " '➁': 10113,\n",
       " '➂': 10114,\n",
       " '➃': 10115,\n",
       " '➄': 10116,\n",
       " '➅': 10117,\n",
       " '➆': 10118,\n",
       " '➇': 10119,\n",
       " '➈': 10120,\n",
       " '➉': 10121,\n",
       " '➊': 10122,\n",
       " '➋': 10123,\n",
       " '➌': 10124,\n",
       " '➍': 10125,\n",
       " '➎': 10126,\n",
       " '➏': 10127,\n",
       " '➐': 10128,\n",
       " '➑': 10129,\n",
       " '➒': 10130,\n",
       " '➓': 10131,\n",
       " '⳽': 11517,\n",
       " '〇': 12295,\n",
       " '〡': 12321,\n",
       " '〢': 12322,\n",
       " '〣': 12323,\n",
       " '〤': 12324,\n",
       " '〥': 12325,\n",
       " '〦': 12326,\n",
       " '〧': 12327,\n",
       " '〨': 12328,\n",
       " '〩': 12329,\n",
       " '〸': 12344,\n",
       " '〹': 12345,\n",
       " '〺': 12346,\n",
       " '㆒': 12690,\n",
       " '㆓': 12691,\n",
       " '㆔': 12692,\n",
       " '㆕': 12693,\n",
       " '㈠': 12832,\n",
       " '㈡': 12833,\n",
       " '㈢': 12834,\n",
       " '㈣': 12835,\n",
       " '㈤': 12836,\n",
       " '㈥': 12837,\n",
       " '㈦': 12838,\n",
       " '㈧': 12839,\n",
       " '㈨': 12840,\n",
       " '㈩': 12841,\n",
       " '㉈': 12872,\n",
       " '㉉': 12873,\n",
       " '㉊': 12874,\n",
       " '㉋': 12875,\n",
       " '㉌': 12876,\n",
       " '㉍': 12877,\n",
       " '㉎': 12878,\n",
       " '㉏': 12879,\n",
       " '㉑': 12881,\n",
       " '㉒': 12882,\n",
       " '㉓': 12883,\n",
       " '㉔': 12884,\n",
       " '㉕': 12885,\n",
       " '㉖': 12886,\n",
       " '㉗': 12887,\n",
       " '㉘': 12888,\n",
       " '㉙': 12889,\n",
       " '㉚': 12890,\n",
       " '㉛': 12891,\n",
       " '㉜': 12892,\n",
       " '㉝': 12893,\n",
       " '㉞': 12894,\n",
       " '㉟': 12895,\n",
       " '㊀': 12928,\n",
       " '㊁': 12929,\n",
       " '㊂': 12930,\n",
       " '㊃': 12931,\n",
       " '㊄': 12932,\n",
       " '㊅': 12933,\n",
       " '㊆': 12934,\n",
       " '㊇': 12935,\n",
       " '㊈': 12936,\n",
       " '㊉': 12937,\n",
       " '㊱': 12977,\n",
       " '㊲': 12978,\n",
       " '㊳': 12979,\n",
       " '㊴': 12980,\n",
       " '㊵': 12981,\n",
       " '㊶': 12982,\n",
       " '㊷': 12983,\n",
       " '㊸': 12984,\n",
       " '㊹': 12985,\n",
       " '㊺': 12986,\n",
       " '㊻': 12987,\n",
       " '㊼': 12988,\n",
       " '㊽': 12989,\n",
       " '㊾': 12990,\n",
       " '㊿': 12991,\n",
       " '㐅': 13317,\n",
       " '㒃': 13443,\n",
       " '㠪': 14378,\n",
       " '㭍': 15181,\n",
       " '一': 19968,\n",
       " '七': 19971,\n",
       " '万': 19975,\n",
       " '三': 19977,\n",
       " '九': 20061,\n",
       " '二': 20108,\n",
       " '五': 20116,\n",
       " '亖': 20118,\n",
       " '亿': 20159,\n",
       " '什': 20160,\n",
       " '仟': 20191,\n",
       " '仨': 20200,\n",
       " '伍': 20237,\n",
       " '佰': 20336,\n",
       " '億': 20740,\n",
       " '兆': 20806,\n",
       " '兩': 20841,\n",
       " '八': 20843,\n",
       " '六': 20845,\n",
       " '十': 21313,\n",
       " '千': 21315,\n",
       " '卄': 21316,\n",
       " '卅': 21317,\n",
       " '卌': 21324,\n",
       " '叁': 21441,\n",
       " '参': 21442,\n",
       " '參': 21443,\n",
       " '叄': 21444,\n",
       " '四': 22235,\n",
       " '壱': 22769,\n",
       " '壹': 22777,\n",
       " '幺': 24186,\n",
       " '廾': 24318,\n",
       " '廿': 24319,\n",
       " '弌': 24332,\n",
       " '弍': 24333,\n",
       " '弎': 24334,\n",
       " '弐': 24336,\n",
       " '拾': 25342,\n",
       " '捌': 25420,\n",
       " '柒': 26578,\n",
       " '漆': 28422,\n",
       " '玖': 29590,\n",
       " '百': 30334,\n",
       " '肆': 32902,\n",
       " '萬': 33836,\n",
       " '貮': 36014,\n",
       " '貳': 36019,\n",
       " '贰': 36144,\n",
       " '阡': 38433,\n",
       " '陆': 38470,\n",
       " '陌': 38476,\n",
       " '陸': 38520,\n",
       " '零': 38646,\n",
       " '꘠': 42528,\n",
       " '꘡': 42529,\n",
       " '꘢': 42530,\n",
       " '꘣': 42531,\n",
       " '꘤': 42532,\n",
       " '꘥': 42533,\n",
       " '꘦': 42534,\n",
       " '꘧': 42535,\n",
       " '꘨': 42536,\n",
       " '꘩': 42537,\n",
       " 'ꛦ': 42726,\n",
       " 'ꛧ': 42727,\n",
       " 'ꛨ': 42728,\n",
       " 'ꛩ': 42729,\n",
       " 'ꛪ': 42730,\n",
       " 'ꛫ': 42731,\n",
       " 'ꛬ': 42732,\n",
       " 'ꛭ': 42733,\n",
       " 'ꛮ': 42734,\n",
       " 'ꛯ': 42735,\n",
       " '꠰': 43056,\n",
       " '꠱': 43057,\n",
       " '꠲': 43058,\n",
       " '꠳': 43059,\n",
       " '꠴': 43060,\n",
       " '꠵': 43061,\n",
       " '꣐': 43216,\n",
       " '꣑': 43217,\n",
       " '꣒': 43218,\n",
       " '꣓': 43219,\n",
       " '꣔': 43220,\n",
       " '꣕': 43221,\n",
       " '꣖': 43222,\n",
       " '꣗': 43223,\n",
       " '꣘': 43224,\n",
       " '꣙': 43225,\n",
       " '꤀': 43264,\n",
       " '꤁': 43265,\n",
       " '꤂': 43266,\n",
       " '꤃': 43267,\n",
       " '꤄': 43268,\n",
       " '꤅': 43269,\n",
       " '꤆': 43270,\n",
       " '꤇': 43271,\n",
       " '꤈': 43272,\n",
       " '꤉': 43273,\n",
       " '꧐': 43472,\n",
       " '꧑': 43473,\n",
       " '꧒': 43474,\n",
       " '꧓': 43475,\n",
       " '꧔': 43476,\n",
       " '꧕': 43477,\n",
       " '꧖': 43478,\n",
       " '꧗': 43479,\n",
       " '꧘': 43480,\n",
       " '꧙': 43481,\n",
       " '꧰': 43504,\n",
       " '꧱': 43505,\n",
       " '꧲': 43506,\n",
       " '꧳': 43507,\n",
       " '꧴': 43508,\n",
       " '꧵': 43509,\n",
       " '꧶': 43510,\n",
       " '꧷': 43511,\n",
       " '꧸': 43512,\n",
       " '꧹': 43513,\n",
       " '꩐': 43600,\n",
       " '꩑': 43601,\n",
       " '꩒': 43602,\n",
       " '꩓': 43603,\n",
       " '꩔': 43604,\n",
       " '꩕': 43605,\n",
       " '꩖': 43606,\n",
       " '꩗': 43607,\n",
       " '꩘': 43608,\n",
       " '꩙': 43609,\n",
       " '꯰': 44016,\n",
       " '꯱': 44017,\n",
       " '꯲': 44018,\n",
       " '꯳': 44019,\n",
       " '꯴': 44020,\n",
       " '꯵': 44021,\n",
       " '꯶': 44022,\n",
       " '꯷': 44023,\n",
       " '꯸': 44024,\n",
       " '꯹': 44025,\n",
       " '參': 63851,\n",
       " '拾': 63859,\n",
       " '兩': 63864,\n",
       " '零': 63922,\n",
       " '六': 63953,\n",
       " '陸': 63955,\n",
       " '什': 63997,\n",
       " '０': 65296,\n",
       " '１': 65297,\n",
       " '２': 65298,\n",
       " '３': 65299,\n",
       " '４': 65300,\n",
       " '５': 65301,\n",
       " '６': 65302,\n",
       " '７': 65303,\n",
       " '８': 65304,\n",
       " '９': 65305,\n",
       " '𐄇': 65799,\n",
       " '𐄈': 65800,\n",
       " '𐄉': 65801,\n",
       " '𐄊': 65802,\n",
       " '𐄋': 65803,\n",
       " '𐄌': 65804,\n",
       " '𐄍': 65805,\n",
       " '𐄎': 65806,\n",
       " '𐄏': 65807,\n",
       " '𐄐': 65808,\n",
       " '𐄑': 65809,\n",
       " '𐄒': 65810,\n",
       " '𐄓': 65811,\n",
       " '𐄔': 65812,\n",
       " '𐄕': 65813,\n",
       " '𐄖': 65814,\n",
       " '𐄗': 65815,\n",
       " '𐄘': 65816,\n",
       " '𐄙': 65817,\n",
       " '𐄚': 65818,\n",
       " '𐄛': 65819,\n",
       " '𐄜': 65820,\n",
       " '𐄝': 65821,\n",
       " '𐄞': 65822,\n",
       " '𐄟': 65823,\n",
       " '𐄠': 65824,\n",
       " '𐄡': 65825,\n",
       " '𐄢': 65826,\n",
       " '𐄣': 65827,\n",
       " '𐄤': 65828,\n",
       " '𐄥': 65829,\n",
       " '𐄦': 65830,\n",
       " '𐄧': 65831,\n",
       " '𐄨': 65832,\n",
       " '𐄩': 65833,\n",
       " '𐄪': 65834,\n",
       " '𐄫': 65835,\n",
       " '𐄬': 65836,\n",
       " '𐄭': 65837,\n",
       " '𐄮': 65838,\n",
       " '𐄯': 65839,\n",
       " '𐄰': 65840,\n",
       " '𐄱': 65841,\n",
       " '𐄲': 65842,\n",
       " '𐄳': 65843,\n",
       " '𐅀': 65856,\n",
       " '𐅁': 65857,\n",
       " '𐅂': 65858,\n",
       " '𐅃': 65859,\n",
       " '𐅄': 65860,\n",
       " '𐅅': 65861,\n",
       " '𐅆': 65862,\n",
       " '𐅇': 65863,\n",
       " '𐅈': 65864,\n",
       " '𐅉': 65865,\n",
       " '𐅊': 65866,\n",
       " '𐅋': 65867,\n",
       " '𐅌': 65868,\n",
       " '𐅍': 65869,\n",
       " '𐅎': 65870,\n",
       " '𐅏': 65871,\n",
       " '𐅐': 65872,\n",
       " '𐅑': 65873,\n",
       " '𐅒': 65874,\n",
       " '𐅓': 65875,\n",
       " '𐅔': 65876,\n",
       " '𐅕': 65877,\n",
       " '𐅖': 65878,\n",
       " '𐅗': 65879,\n",
       " '𐅘': 65880,\n",
       " '𐅙': 65881,\n",
       " '𐅚': 65882,\n",
       " '𐅛': 65883,\n",
       " '𐅜': 65884,\n",
       " '𐅝': 65885,\n",
       " '𐅞': 65886,\n",
       " '𐅟': 65887,\n",
       " '𐅠': 65888,\n",
       " '𐅡': 65889,\n",
       " '𐅢': 65890,\n",
       " '𐅣': 65891,\n",
       " '𐅤': 65892,\n",
       " '𐅥': 65893,\n",
       " '𐅦': 65894,\n",
       " '𐅧': 65895,\n",
       " '𐅨': 65896,\n",
       " '𐅩': 65897,\n",
       " '𐅪': 65898,\n",
       " '𐅫': 65899,\n",
       " '𐅬': 65900,\n",
       " '𐅭': 65901,\n",
       " '𐅮': 65902,\n",
       " '𐅯': 65903,\n",
       " '𐅰': 65904,\n",
       " '𐅱': 65905,\n",
       " '𐅲': 65906,\n",
       " '𐅳': 65907,\n",
       " '𐅴': 65908,\n",
       " '𐅵': 65909,\n",
       " '𐅶': 65910,\n",
       " '𐅷': 65911,\n",
       " '𐅸': 65912,\n",
       " '𐆊': 65930,\n",
       " '𐆋': 65931,\n",
       " '𐋡': 66273,\n",
       " '𐋢': 66274,\n",
       " '𐋣': 66275,\n",
       " '𐋤': 66276,\n",
       " '𐋥': 66277,\n",
       " '𐋦': 66278,\n",
       " '𐋧': 66279,\n",
       " '𐋨': 66280,\n",
       " '𐋩': 66281,\n",
       " '𐋪': 66282,\n",
       " '𐋫': 66283,\n",
       " '𐋬': 66284,\n",
       " '𐋭': 66285,\n",
       " '𐋮': 66286,\n",
       " '𐋯': 66287,\n",
       " '𐋰': 66288,\n",
       " '𐋱': 66289,\n",
       " '𐋲': 66290,\n",
       " '𐋳': 66291,\n",
       " '𐋴': 66292,\n",
       " '𐋵': 66293,\n",
       " '𐋶': 66294,\n",
       " '𐋷': 66295,\n",
       " '𐋸': 66296,\n",
       " '𐋹': 66297,\n",
       " '𐋺': 66298,\n",
       " '𐋻': 66299,\n",
       " '𐌠': 66336,\n",
       " '𐌡': 66337,\n",
       " '𐌢': 66338,\n",
       " '𐌣': 66339,\n",
       " '𐍁': 66369,\n",
       " '𐍊': 66378,\n",
       " '𐏑': 66513,\n",
       " '𐏒': 66514,\n",
       " '𐏓': 66515,\n",
       " '𐏔': 66516,\n",
       " '𐏕': 66517,\n",
       " '𐒠': 66720,\n",
       " '𐒡': 66721,\n",
       " '𐒢': 66722,\n",
       " '𐒣': 66723,\n",
       " '𐒤': 66724,\n",
       " '𐒥': 66725,\n",
       " '𐒦': 66726,\n",
       " '𐒧': 66727,\n",
       " '𐒨': 66728,\n",
       " '𐒩': 66729,\n",
       " '𐡘': 67672,\n",
       " '𐡙': 67673,\n",
       " '𐡚': 67674,\n",
       " '𐡛': 67675,\n",
       " '𐡜': 67676,\n",
       " '𐡝': 67677,\n",
       " '𐡞': 67678,\n",
       " '𐡟': 67679,\n",
       " '𐡹': 67705,\n",
       " '𐡺': 67706,\n",
       " '𐡻': 67707,\n",
       " '𐡼': 67708,\n",
       " '𐡽': 67709,\n",
       " '𐡾': 67710,\n",
       " '𐡿': 67711,\n",
       " '𐢧': 67751,\n",
       " '𐢨': 67752,\n",
       " '𐢩': 67753,\n",
       " '𐢪': 67754,\n",
       " '𐢫': 67755,\n",
       " '𐢬': 67756,\n",
       " '𐢭': 67757,\n",
       " '𐢮': 67758,\n",
       " '𐢯': 67759,\n",
       " '𐣻': 67835,\n",
       " '𐣼': 67836,\n",
       " '𐣽': 67837,\n",
       " '𐣾': 67838,\n",
       " '𐣿': 67839,\n",
       " '𐤖': 67862,\n",
       " '𐤗': 67863,\n",
       " '𐤘': 67864,\n",
       " '𐤙': 67865,\n",
       " '𐤚': 67866,\n",
       " '𐤛': 67867,\n",
       " '𐦼': 68028,\n",
       " '𐦽': 68029,\n",
       " '𐧀': 68032,\n",
       " '𐧁': 68033,\n",
       " '𐧂': 68034,\n",
       " '𐧃': 68035,\n",
       " '𐧄': 68036,\n",
       " '𐧅': 68037,\n",
       " '𐧆': 68038,\n",
       " '𐧇': 68039,\n",
       " '𐧈': 68040,\n",
       " '𐧉': 68041,\n",
       " '𐧊': 68042,\n",
       " ...}"
      ]
     },
     "execution_count": 163,
     "metadata": {},
     "output_type": "execute_result"
    }
   ],
   "source": [
    "x"
   ]
  },
  {
   "cell_type": "code",
   "execution_count": 173,
   "id": "b8f07cc1",
   "metadata": {},
   "outputs": [
    {
     "data": {
      "text/plain": [
       "'Ⅰ,Ⅱ,Ⅲ,Ⅳ,Ⅴ,Ⅵ,Ⅶ,Ⅷ,Ⅸ,Ⅹ,Ⅺ,Ⅻ,Ⅼ,Ⅽ,Ⅾ,Ⅿ,ⅰ,ⅱ,ⅲ,ⅳ,ⅴ,ⅵ,ⅶ,ⅷ,ⅸ,ⅹ,ⅺ,ⅻ,ⅼ,ⅽ,ⅾ,ⅿ,ↀ,ↁ,ↂ,Ↄ,ↄ'"
      ]
     },
     "execution_count": 173,
     "metadata": {},
     "output_type": "execute_result"
    }
   ],
   "source": []
  }
 ],
 "metadata": {
  "kernelspec": {
   "display_name": "Python 3 (ipykernel)",
   "language": "python",
   "name": "python3"
  },
  "language_info": {
   "codemirror_mode": {
    "name": "ipython",
    "version": 3
   },
   "file_extension": ".py",
   "mimetype": "text/x-python",
   "name": "python",
   "nbconvert_exporter": "python",
   "pygments_lexer": "ipython3",
   "version": "3.9.12"
  }
 },
 "nbformat": 4,
 "nbformat_minor": 5
}

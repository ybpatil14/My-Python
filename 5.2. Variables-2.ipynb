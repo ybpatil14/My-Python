{
 "cells": [
  {
   "cell_type": "markdown",
   "id": "ddb62f34",
   "metadata": {},
   "source": [
    "##### Rule 1. The variable name should be self-explanatory"
   ]
  },
  {
   "cell_type": "code",
   "execution_count": 1,
   "id": "b0ebb67c",
   "metadata": {},
   "outputs": [
    {
     "data": {
      "text/plain": [
       "5300"
      ]
     },
     "execution_count": 1,
     "metadata": {},
     "output_type": "execute_result"
    }
   ],
   "source": [
    "# Price per kg\n",
    "mangoes_price = 200\n",
    "apples_price = 250\n",
    "banana_price = 100\n",
    "\n",
    "# Units sold for the day\n",
    "mangoes = 10\n",
    "apples = 8\n",
    "banana = 13\n",
    "\n",
    "overall_income = (mangoes_price * mangoes) + (apples_price * apples) + (banana_price * banana)\n",
    "overall_income"
   ]
  },
  {
   "cell_type": "code",
   "execution_count": 2,
   "id": "71104e5f",
   "metadata": {},
   "outputs": [
    {
     "data": {
      "text/plain": [
       "5300"
      ]
     },
     "execution_count": 2,
     "metadata": {},
     "output_type": "execute_result"
    }
   ],
   "source": [
    "x = 200\n",
    "y = 250\n",
    "z = 100\n",
    "\n",
    "a = 10\n",
    "b = 8\n",
    "c = 13\n",
    "\n",
    "m = (x*a) + (y*b) + (z*c)\n",
    "m"
   ]
  },
  {
   "cell_type": "markdown",
   "id": "1f8f4b88",
   "metadata": {},
   "source": [
    "##### Rule 2 : The variable name can only contain alphanumeric terms and '_' ; No special characters are allowed ; the variable name should never start with a number"
   ]
  },
  {
   "cell_type": "code",
   "execution_count": 5,
   "id": "3ceb92a5",
   "metadata": {},
   "outputs": [],
   "source": [
    "student1 = 'Ramesh'"
   ]
  },
  {
   "cell_type": "code",
   "execution_count": 6,
   "id": "5373d203",
   "metadata": {},
   "outputs": [],
   "source": [
    "student_1 = 'Ramesh'"
   ]
  },
  {
   "cell_type": "code",
   "execution_count": 7,
   "id": "2e55be58",
   "metadata": {},
   "outputs": [],
   "source": [
    "_student1 = 'Ramesh'"
   ]
  },
  {
   "cell_type": "code",
   "execution_count": 9,
   "id": "58187af4",
   "metadata": {},
   "outputs": [],
   "source": [
    "student_1_0 = 'Ramesh'"
   ]
  },
  {
   "cell_type": "code",
   "execution_count": 8,
   "id": "c5889d7b",
   "metadata": {},
   "outputs": [
    {
     "ename": "SyntaxError",
     "evalue": "invalid syntax (3959850185.py, line 1)",
     "output_type": "error",
     "traceback": [
      "\u001b[0;36m  Input \u001b[0;32mIn [8]\u001b[0;36m\u001b[0m\n\u001b[0;31m    1st_student = 'Ramesh'\u001b[0m\n\u001b[0m     ^\u001b[0m\n\u001b[0;31mSyntaxError\u001b[0m\u001b[0;31m:\u001b[0m invalid syntax\n"
     ]
    }
   ],
   "source": [
    "1st_student = 'Ramesh'"
   ]
  },
  {
   "cell_type": "code",
   "execution_count": 10,
   "id": "3275f0ac",
   "metadata": {},
   "outputs": [
    {
     "ename": "SyntaxError",
     "evalue": "invalid syntax (2264167605.py, line 1)",
     "output_type": "error",
     "traceback": [
      "\u001b[0;36m  Input \u001b[0;32mIn [10]\u001b[0;36m\u001b[0m\n\u001b[0;31m    name? = 'Groot'\u001b[0m\n\u001b[0m        ^\u001b[0m\n\u001b[0;31mSyntaxError\u001b[0m\u001b[0;31m:\u001b[0m invalid syntax\n"
     ]
    }
   ],
   "source": [
    "name? = 'Groot'"
   ]
  },
  {
   "cell_type": "markdown",
   "id": "7494a81c",
   "metadata": {},
   "source": [
    "##### Rule 3 : The variable names are case-sensitive"
   ]
  },
  {
   "cell_type": "code",
   "execution_count": 11,
   "id": "fe8d8253",
   "metadata": {},
   "outputs": [
    {
     "data": {
      "text/plain": [
       "('Groot', 'Wakanda')"
      ]
     },
     "execution_count": 11,
     "metadata": {},
     "output_type": "execute_result"
    }
   ],
   "source": [
    "Name = 'Groot'\n",
    "name = 'Wakanda'\n",
    "\n",
    "Name, name"
   ]
  },
  {
   "cell_type": "code",
   "execution_count": 12,
   "id": "6faf7994",
   "metadata": {},
   "outputs": [
    {
     "data": {
      "text/plain": [
       "('Tony', 'Iron Man')"
      ]
     },
     "execution_count": 12,
     "metadata": {},
     "output_type": "execute_result"
    }
   ],
   "source": [
    "name__ = 'Tony'\n",
    "name_ = 'Iron Man'\n",
    "\n",
    "name__, name_"
   ]
  },
  {
   "cell_type": "code",
   "execution_count": 13,
   "id": "dadd727a",
   "metadata": {},
   "outputs": [
    {
     "name": "stdout",
     "output_type": "stream",
     "text": [
      "Variable         Type    Data/Info\n",
      "----------------------------------\n",
      "Name             str     Groot\n",
      "a                int     10\n",
      "apples           int     8\n",
      "apples_price     int     250\n",
      "b                int     8\n",
      "banana           int     13\n",
      "banana_price     int     100\n",
      "c                int     13\n",
      "m                int     5300\n",
      "mangoes          int     10\n",
      "mangoes_price    int     200\n",
      "name             str     Wakanda\n",
      "name_            str     Iron Man\n",
      "name__           str     Tony\n",
      "overall_income   int     5300\n",
      "student1         str     Ramesh\n",
      "student_1        str     Ramesh\n",
      "student_1_0      str     Ramesh\n",
      "x                int     200\n",
      "y                int     250\n",
      "z                int     100\n"
     ]
    }
   ],
   "source": [
    "%whos"
   ]
  },
  {
   "cell_type": "markdown",
   "id": "207ef6af",
   "metadata": {},
   "source": [
    "#### ex. Example of upper_case and lower_case use cases"
   ]
  },
  {
   "cell_type": "code",
   "execution_count": 23,
   "id": "b8b8193a",
   "metadata": {},
   "outputs": [],
   "source": [
    "# Configuration file\n",
    "MANGOES_PRICE = 200\n",
    "APPLES_PRICE = 250\n",
    "BANANA_PRICE = 80\n",
    "\n",
    "MANGOES = 20\n",
    "APPLES = 8\n",
    "BANANA = 18\n",
    "\n",
    "DATE = '21-10-2022'"
   ]
  },
  {
   "cell_type": "code",
   "execution_count": 24,
   "id": "cb61d191",
   "metadata": {},
   "outputs": [
    {
     "name": "stdout",
     "output_type": "stream",
     "text": [
      "The overall income for 21-10-2022 is 7440 !\n",
      "Total 46 were sold !\n"
     ]
    }
   ],
   "source": [
    "# Price per kg\n",
    "mangoes_price = MANGOES_PRICE\n",
    "apples_price = APPLES_PRICE\n",
    "banana_price = BANANA_PRICE\n",
    "\n",
    "# Units sold for the day\n",
    "mangoes = MANGOES\n",
    "apples = APPLES\n",
    "banana = BANANA\n",
    "\n",
    "date = DATE\n",
    "\n",
    "overall_income = (mangoes_price * mangoes) + (apples_price * apples) + (banana_price * banana)\n",
    "print(f'The overall income for {date} is {overall_income} !')\n",
    "\n",
    "total_products_sold = mangoes+apples+banana\n",
    "print(f'Total {total_products_sold} were sold !')"
   ]
  },
  {
   "cell_type": "markdown",
   "id": "c0d171ff",
   "metadata": {},
   "source": [
    "#### Note : Camel case Vs snake case"
   ]
  },
  {
   "cell_type": "code",
   "execution_count": 25,
   "id": "5bc307b5",
   "metadata": {},
   "outputs": [],
   "source": [
    "student_id = '4418acd' # example of snake case variable name\n",
    "StudentID = '4418acd' # example of camel case variable name"
   ]
  },
  {
   "cell_type": "markdown",
   "id": "49df5515",
   "metadata": {},
   "source": [
    "- StudentName, VariableName, ClientName, VersionID > examples of pascal case\n",
    "- studentName, variableName, clientName, versionID > examples of camel case\n",
    "- student_name, variable_name, client_name, version_id > examples of snake case"
   ]
  },
  {
   "cell_type": "markdown",
   "id": "92490cca",
   "metadata": {},
   "source": [
    "##### Rule 4 : We cannot use reserved keywords as variable names"
   ]
  },
  {
   "cell_type": "markdown",
   "id": "9e09f710",
   "metadata": {},
   "source": [
    "### Syntax for help\n",
    "- help(keyword in quotes) OR help(function name without parenthesis)\n",
    "- eg. for a keyword - help('del')\n",
    "- eg. for a function - help(print)"
   ]
  },
  {
   "cell_type": "code",
   "execution_count": 27,
   "id": "8880cea9",
   "metadata": {
    "scrolled": true
   },
   "outputs": [
    {
     "name": "stdout",
     "output_type": "stream",
     "text": [
      "\n",
      "Here is a list of the Python keywords.  Enter any keyword to get more help.\n",
      "\n",
      "False               break               for                 not\n",
      "None                class               from                or\n",
      "True                continue            global              pass\n",
      "__peg_parser__      def                 if                  raise\n",
      "and                 del                 import              return\n",
      "as                  elif                in                  try\n",
      "assert              else                is                  while\n",
      "async               except              lambda              with\n",
      "await               finally             nonlocal            yield\n",
      "\n"
     ]
    }
   ],
   "source": [
    "# To get a list of the reserved keywords\n",
    "help('keywords')"
   ]
  },
  {
   "cell_type": "code",
   "execution_count": 28,
   "id": "0e6f8e68",
   "metadata": {},
   "outputs": [
    {
     "ename": "SyntaxError",
     "evalue": "invalid syntax (841670873.py, line 1)",
     "output_type": "error",
     "traceback": [
      "\u001b[0;36m  Input \u001b[0;32mIn [28]\u001b[0;36m\u001b[0m\n\u001b[0;31m    del = 55\u001b[0m\n\u001b[0m        ^\u001b[0m\n\u001b[0;31mSyntaxError\u001b[0m\u001b[0;31m:\u001b[0m invalid syntax\n"
     ]
    }
   ],
   "source": [
    "del = 55"
   ]
  },
  {
   "cell_type": "code",
   "execution_count": 29,
   "id": "3c5cc15a",
   "metadata": {},
   "outputs": [
    {
     "ename": "SyntaxError",
     "evalue": "invalid syntax (4261897127.py, line 1)",
     "output_type": "error",
     "traceback": [
      "\u001b[0;36m  Input \u001b[0;32mIn [29]\u001b[0;36m\u001b[0m\n\u001b[0;31m    if = 55\u001b[0m\n\u001b[0m       ^\u001b[0m\n\u001b[0;31mSyntaxError\u001b[0m\u001b[0;31m:\u001b[0m invalid syntax\n"
     ]
    }
   ],
   "source": [
    "if = 55"
   ]
  },
  {
   "cell_type": "code",
   "execution_count": 32,
   "id": "308ecddb",
   "metadata": {},
   "outputs": [],
   "source": [
    "Del = 55\n",
    "del_ = 56"
   ]
  },
  {
   "cell_type": "code",
   "execution_count": 33,
   "id": "9224b6a3",
   "metadata": {},
   "outputs": [
    {
     "data": {
      "text/plain": [
       "(55, 56)"
      ]
     },
     "execution_count": 33,
     "metadata": {},
     "output_type": "execute_result"
    }
   ],
   "source": [
    "Del, del_"
   ]
  },
  {
   "cell_type": "code",
   "execution_count": 34,
   "id": "e7f87314",
   "metadata": {},
   "outputs": [
    {
     "ename": "SyntaxError",
     "evalue": "cannot assign to True (2777739020.py, line 1)",
     "output_type": "error",
     "traceback": [
      "\u001b[0;36m  Input \u001b[0;32mIn [34]\u001b[0;36m\u001b[0m\n\u001b[0;31m    True = 67\u001b[0m\n\u001b[0m    ^\u001b[0m\n\u001b[0;31mSyntaxError\u001b[0m\u001b[0;31m:\u001b[0m cannot assign to True\n"
     ]
    }
   ],
   "source": [
    "True = 67\n",
    "False = 33\n",
    "\n",
    "True+False"
   ]
  },
  {
   "cell_type": "code",
   "execution_count": 36,
   "id": "4ba25d88",
   "metadata": {},
   "outputs": [
    {
     "data": {
      "text/plain": [
       "100"
      ]
     },
     "execution_count": 36,
     "metadata": {},
     "output_type": "execute_result"
    }
   ],
   "source": [
    "True_ = 67\n",
    "False_ = 33\n",
    "\n",
    "True_+False_"
   ]
  },
  {
   "cell_type": "code",
   "execution_count": 37,
   "id": "42b2a077",
   "metadata": {},
   "outputs": [
    {
     "data": {
      "text/plain": [
       "100"
      ]
     },
     "execution_count": 37,
     "metadata": {},
     "output_type": "execute_result"
    }
   ],
   "source": [
    "_True = 56\n",
    "_False = 44\n",
    "\n",
    "_True + _False"
   ]
  },
  {
   "cell_type": "markdown",
   "id": "7364cd13",
   "metadata": {},
   "source": [
    "##### Keywords Vs functions"
   ]
  },
  {
   "cell_type": "markdown",
   "id": "36acad1d",
   "metadata": {},
   "source": [
    "- Functions always need `parenthesis` '()' after the function name while keywords wont need those to work\n",
    "- A function would be storing an operation/ sequence of operations within and hence we will get some value as an output from a function\n",
    "- A keyword is usually used as a helper to write logics or create functions"
   ]
  },
  {
   "cell_type": "code",
   "execution_count": 39,
   "id": "171c18cf",
   "metadata": {},
   "outputs": [
    {
     "data": {
      "text/plain": [
       "100"
      ]
     },
     "execution_count": 39,
     "metadata": {},
     "output_type": "execute_result"
    }
   ],
   "source": [
    "a = 55\n",
    "b = 45\n",
    "\n",
    "sum((a,b))"
   ]
  },
  {
   "cell_type": "code",
   "execution_count": 40,
   "id": "f1a2a1d5",
   "metadata": {},
   "outputs": [
    {
     "name": "stdout",
     "output_type": "stream",
     "text": [
      "X is greater than 10\n"
     ]
    }
   ],
   "source": [
    "x = 50\n",
    "\n",
    "if x>10:\n",
    "    print('X is greater than 10')"
   ]
  },
  {
   "cell_type": "code",
   "execution_count": 41,
   "id": "5fc01dbf",
   "metadata": {},
   "outputs": [
    {
     "name": "stdout",
     "output_type": "stream",
     "text": [
      "I am groot !\n"
     ]
    }
   ],
   "source": [
    "print('I am groot !')"
   ]
  },
  {
   "cell_type": "code",
   "execution_count": 42,
   "id": "ea06e749",
   "metadata": {},
   "outputs": [
    {
     "name": "stdout",
     "output_type": "stream",
     "text": [
      "Help on built-in function print in module builtins:\n",
      "\n",
      "print(...)\n",
      "    print(value, ..., sep=' ', end='\\n', file=sys.stdout, flush=False)\n",
      "    \n",
      "    Prints the values to a stream, or to sys.stdout by default.\n",
      "    Optional keyword arguments:\n",
      "    file:  a file-like object (stream); defaults to the current sys.stdout.\n",
      "    sep:   string inserted between values, default a space.\n",
      "    end:   string appended after the last value, default a newline.\n",
      "    flush: whether to forcibly flush the stream.\n",
      "\n"
     ]
    }
   ],
   "source": [
    "help(print)"
   ]
  },
  {
   "cell_type": "code",
   "execution_count": 43,
   "id": "d69f8ba8",
   "metadata": {},
   "outputs": [
    {
     "name": "stdout",
     "output_type": "stream",
     "text": [
      "Variable              Type    Data/Info\n",
      "---------------------------------------\n",
      "APPLES                int     8\n",
      "APPLES_PRICE          int     250\n",
      "BANANA                int     18\n",
      "BANANA_PRICE          int     80\n",
      "DATE                  str     21-10-2022\n",
      "Del                   int     55\n",
      "EXTENSION             str     .txt\n",
      "False_                int     33\n",
      "MANGOES               int     20\n",
      "MANGOES_PRICE         int     200\n",
      "Name                  str     Groot\n",
      "ROOT_PATH             str     c:/users/groot/\n",
      "StudentID             str     4418acd\n",
      "True_                 int     67\n",
      "a                     int     55\n",
      "apples                int     8\n",
      "apples_price          int     250\n",
      "b                     int     45\n",
      "banana                int     18\n",
      "banana_price          int     80\n",
      "c                     int     13\n",
      "date                  str     21-10-2022\n",
      "del_                  int     56\n",
      "false                 int     33\n",
      "m                     int     5300\n",
      "mangoes               int     20\n",
      "mangoes_price         int     200\n",
      "name                  str     Wakanda\n",
      "name_                 str     Iron Man\n",
      "name__                str     Tony\n",
      "overall_income        int     7440\n",
      "student1              str     Ramesh\n",
      "student_1             str     Ramesh\n",
      "student_1_0           str     Ramesh\n",
      "student_id            str     4418acd\n",
      "total_products_sold   int     46\n",
      "true                  int     67\n",
      "x                     int     50\n",
      "y                     int     250\n",
      "z                     int     100\n"
     ]
    }
   ],
   "source": [
    "%whos"
   ]
  },
  {
   "cell_type": "markdown",
   "id": "cab9d949",
   "metadata": {},
   "source": [
    "##### Caution : We should never over-write the built-in functions ; We should never use the names of built-in functions as variable names"
   ]
  },
  {
   "cell_type": "code",
   "execution_count": 45,
   "id": "4f262344",
   "metadata": {},
   "outputs": [
    {
     "name": "stdout",
     "output_type": "stream",
     "text": [
      "Hello ! I am Rajesh !\n"
     ]
    }
   ],
   "source": [
    "print('Hello ! I am Rajesh !')"
   ]
  },
  {
   "cell_type": "code",
   "execution_count": 5,
   "id": "ce0512db",
   "metadata": {},
   "outputs": [],
   "source": [
    "print = 'Ramesh'"
   ]
  },
  {
   "cell_type": "code",
   "execution_count": 6,
   "id": "64352965",
   "metadata": {},
   "outputs": [
    {
     "data": {
      "text/plain": [
       "'Ramesh'"
      ]
     },
     "execution_count": 6,
     "metadata": {},
     "output_type": "execute_result"
    }
   ],
   "source": [
    "print"
   ]
  },
  {
   "cell_type": "code",
   "execution_count": 47,
   "id": "2548ebcc",
   "metadata": {},
   "outputs": [
    {
     "ename": "TypeError",
     "evalue": "'str' object is not callable",
     "output_type": "error",
     "traceback": [
      "\u001b[0;31m---------------------------------------------------------------------------\u001b[0m",
      "\u001b[0;31mTypeError\u001b[0m                                 Traceback (most recent call last)",
      "Input \u001b[0;32mIn [47]\u001b[0m, in \u001b[0;36m<cell line: 1>\u001b[0;34m()\u001b[0m\n\u001b[0;32m----> 1\u001b[0m \u001b[38;5;28;43mprint\u001b[39;49m\u001b[43m(\u001b[49m\u001b[38;5;124;43m'\u001b[39;49m\u001b[38;5;124;43mI am Rajesh\u001b[39;49m\u001b[38;5;124;43m'\u001b[39;49m\u001b[43m)\u001b[49m\n",
      "\u001b[0;31mTypeError\u001b[0m: 'str' object is not callable"
     ]
    }
   ],
   "source": [
    "print('I am Rajesh')"
   ]
  },
  {
   "cell_type": "code",
   "execution_count": 48,
   "id": "f851024f",
   "metadata": {},
   "outputs": [],
   "source": [
    "del print"
   ]
  },
  {
   "cell_type": "code",
   "execution_count": 49,
   "id": "e6267c69",
   "metadata": {},
   "outputs": [
    {
     "name": "stdout",
     "output_type": "stream",
     "text": [
      "I am Ramesh\n"
     ]
    }
   ],
   "source": [
    "print('I am Ramesh')"
   ]
  },
  {
   "cell_type": "code",
   "execution_count": 50,
   "id": "142e5a46",
   "metadata": {},
   "outputs": [],
   "source": [
    "help = 'Peter Parker'"
   ]
  },
  {
   "cell_type": "code",
   "execution_count": 51,
   "id": "44dc8257",
   "metadata": {},
   "outputs": [
    {
     "ename": "TypeError",
     "evalue": "'str' object is not callable",
     "output_type": "error",
     "traceback": [
      "\u001b[0;31m---------------------------------------------------------------------------\u001b[0m",
      "\u001b[0;31mTypeError\u001b[0m                                 Traceback (most recent call last)",
      "Input \u001b[0;32mIn [51]\u001b[0m, in \u001b[0;36m<cell line: 1>\u001b[0;34m()\u001b[0m\n\u001b[0;32m----> 1\u001b[0m \u001b[43mhelp\u001b[49m\u001b[43m(\u001b[49m\u001b[38;5;28;43mprint\u001b[39;49m\u001b[43m)\u001b[49m\n",
      "\u001b[0;31mTypeError\u001b[0m: 'str' object is not callable"
     ]
    }
   ],
   "source": [
    "help(print)"
   ]
  },
  {
   "cell_type": "code",
   "execution_count": 54,
   "id": "f8e0fcc4",
   "metadata": {},
   "outputs": [
    {
     "data": {
      "text/plain": [
       "380"
      ]
     },
     "execution_count": 54,
     "metadata": {},
     "output_type": "execute_result"
    }
   ],
   "source": [
    "x = 55\n",
    "y = 123\n",
    "z = 67\n",
    "a = 90\n",
    "b = 45\n",
    "\n",
    "final = x+y+z+a+b\n",
    "final"
   ]
  },
  {
   "cell_type": "code",
   "execution_count": 57,
   "id": "23696a8e",
   "metadata": {},
   "outputs": [
    {
     "data": {
      "text/plain": [
       "380"
      ]
     },
     "execution_count": 57,
     "metadata": {},
     "output_type": "execute_result"
    }
   ],
   "source": [
    "sum((x,y,z,a,b))"
   ]
  },
  {
   "cell_type": "code",
   "execution_count": 1,
   "id": "61b8da3d",
   "metadata": {},
   "outputs": [
    {
     "name": "stdout",
     "output_type": "stream",
     "text": [
      "Help on built-in function print in module builtins:\n",
      "\n",
      "print(...)\n",
      "    print(value, ..., sep=' ', end='\\n', file=sys.stdout, flush=False)\n",
      "    \n",
      "    Prints the values to a stream, or to sys.stdout by default.\n",
      "    Optional keyword arguments:\n",
      "    file:  a file-like object (stream); defaults to the current sys.stdout.\n",
      "    sep:   string inserted between values, default a space.\n",
      "    end:   string appended after the last value, default a newline.\n",
      "    flush: whether to forcibly flush the stream.\n",
      "\n"
     ]
    }
   ],
   "source": [
    "help(print)"
   ]
  },
  {
   "cell_type": "code",
   "execution_count": 3,
   "id": "437ae1c8",
   "metadata": {},
   "outputs": [
    {
     "name": "stdout",
     "output_type": "stream",
     "text": [
      "The \"if\" statement\n",
      "******************\n",
      "\n",
      "The \"if\" statement is used for conditional execution:\n",
      "\n",
      "   if_stmt ::= \"if\" assignment_expression \":\" suite\n",
      "               (\"elif\" assignment_expression \":\" suite)*\n",
      "               [\"else\" \":\" suite]\n",
      "\n",
      "It selects exactly one of the suites by evaluating the expressions one\n",
      "by one until one is found to be true (see section Boolean operations\n",
      "for the definition of true and false); then that suite is executed\n",
      "(and no other part of the \"if\" statement is executed or evaluated).\n",
      "If all expressions are false, the suite of the \"else\" clause, if\n",
      "present, is executed.\n",
      "\n",
      "Related help topics: TRUTHVALUE\n",
      "\n"
     ]
    }
   ],
   "source": [
    "help('if')"
   ]
  },
  {
   "cell_type": "markdown",
   "id": "c47475d1",
   "metadata": {},
   "source": [
    "##### Note : Ways to assign variables"
   ]
  },
  {
   "cell_type": "code",
   "execution_count": 10,
   "id": "fd455b8c",
   "metadata": {},
   "outputs": [
    {
     "name": "stdout",
     "output_type": "stream",
     "text": [
      "55 67 78\n"
     ]
    }
   ],
   "source": [
    "# Defining variables one by one\n",
    "x = 55\n",
    "y = 67\n",
    "z = 78\n",
    "\n",
    "print(x,y,z)"
   ]
  },
  {
   "cell_type": "code",
   "execution_count": 12,
   "id": "da31a116",
   "metadata": {},
   "outputs": [
    {
     "name": "stdout",
     "output_type": "stream",
     "text": [
      "100 Groot 300\n"
     ]
    }
   ],
   "source": [
    "# Defining multiple variables in a single line \n",
    "x,y,z = 100,'Groot',300\n",
    "\n",
    "print(x,y,z)"
   ]
  },
  {
   "cell_type": "code",
   "execution_count": 34,
   "id": "7187687f",
   "metadata": {},
   "outputs": [
    {
     "name": "stdout",
     "output_type": "stream",
     "text": [
      "Groot Iron Man\n"
     ]
    }
   ],
   "source": [
    "a,b = 'Groot', 'Iron Man'\n",
    "print(a,b)"
   ]
  },
  {
   "cell_type": "code",
   "execution_count": 19,
   "id": "3c937915",
   "metadata": {},
   "outputs": [],
   "source": [
    "# This would reduce runtime\n",
    "x1,x2,x3,x4,x5,x6,x7,x8,x9,x10,x11,x12,x13,x14,x15 = 10,20,30,40,50,60,70,80,90,100,110,120,130,140,150"
   ]
  },
  {
   "cell_type": "code",
   "execution_count": 24,
   "id": "e9a9c9ee",
   "metadata": {},
   "outputs": [],
   "source": [
    "# This would take more time\n",
    "x1=10\n",
    "x2=20\n",
    "x3=30\n",
    "x4=40\n",
    "x5=50\n",
    "x6=60\n",
    "x7=70\n",
    "x8=80\n",
    "x9=90\n",
    "x10=100\n",
    "x11=110\n",
    "x12=120\n",
    "x13=130\n",
    "x14=140 \n",
    "x15=150"
   ]
  },
  {
   "cell_type": "markdown",
   "id": "cb2ff3a8",
   "metadata": {},
   "source": [
    "##### Interchanging the values of variables"
   ]
  },
  {
   "cell_type": "code",
   "execution_count": 35,
   "id": "c459847f",
   "metadata": {},
   "outputs": [],
   "source": [
    "a, b = 5,4"
   ]
  },
  {
   "cell_type": "code",
   "execution_count": 36,
   "id": "3bd781fe",
   "metadata": {},
   "outputs": [
    {
     "name": "stdout",
     "output_type": "stream",
     "text": [
      "4 5\n"
     ]
    }
   ],
   "source": [
    "# Old traditional way\n",
    "temporary = a\n",
    "a = b\n",
    "b = temporary\n",
    "\n",
    "print(a,b)"
   ]
  },
  {
   "cell_type": "code",
   "execution_count": 37,
   "id": "e3e136aa",
   "metadata": {},
   "outputs": [
    {
     "data": {
      "text/plain": [
       "(4, 5)"
      ]
     },
     "execution_count": 37,
     "metadata": {},
     "output_type": "execute_result"
    }
   ],
   "source": [
    "a,b"
   ]
  },
  {
   "cell_type": "code",
   "execution_count": 38,
   "id": "05884a3f",
   "metadata": {},
   "outputs": [
    {
     "name": "stdout",
     "output_type": "stream",
     "text": [
      "5 4\n"
     ]
    }
   ],
   "source": [
    "# Python's way\n",
    "a,b = 4,5\n",
    "# 1\n",
    "a,b = b,a # a = 5, b = 4\n",
    "# 2\n",
    "print(a,b)"
   ]
  },
  {
   "cell_type": "code",
   "execution_count": 39,
   "id": "ca46b389",
   "metadata": {},
   "outputs": [
    {
     "name": "stdout",
     "output_type": "stream",
     "text": [
      "3 1 3\n"
     ]
    }
   ],
   "source": [
    "a,b,c = 1,2,3\n",
    "\n",
    "a,b = c,a\n",
    "\n",
    "print(a,b,c)"
   ]
  }
 ],
 "metadata": {
  "kernelspec": {
   "display_name": "Python 3 (ipykernel)",
   "language": "python",
   "name": "python3"
  },
  "language_info": {
   "codemirror_mode": {
    "name": "ipython",
    "version": 3
   },
   "file_extension": ".py",
   "mimetype": "text/x-python",
   "name": "python",
   "nbconvert_exporter": "python",
   "pygments_lexer": "ipython3",
   "version": "3.9.13"
  }
 },
 "nbformat": 4,
 "nbformat_minor": 5
}

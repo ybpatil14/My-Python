{
 "cells": [
  {
   "cell_type": "code",
   "execution_count": 46,
   "id": "c26a1e1e",
   "metadata": {},
   "outputs": [
    {
     "name": "stdout",
     "output_type": "stream",
     "text": [
      "The ball color is invalid !\n",
      "Total score is 0\n"
     ]
    }
   ],
   "source": [
    "# green = 5, yellow = 3, blue = 2, black = 1\n",
    "ball = 'red'\n",
    "points = 0\n",
    "player = 'Nithish'\n",
    "\n",
    "if ball == 'green':\n",
    "    points+=5\n",
    "elif ball == 'yellow':\n",
    "    points+=3\n",
    "elif ball == 'blue':\n",
    "    points+=2\n",
    "elif ball == 'black':\n",
    "    points+=1\n",
    "else:\n",
    "    print('The ball color is invalid !')\n",
    "    \n",
    "print(f'Total score is {points}')"
   ]
  },
  {
   "cell_type": "code",
   "execution_count": null,
   "id": "d691a7c1",
   "metadata": {},
   "outputs": [],
   "source": [
    "# spades = 1, diamonds = 2, clubs = 3, hearts = 4\n"
   ]
  },
  {
   "cell_type": "code",
   "execution_count": 7,
   "id": "7260626b",
   "metadata": {},
   "outputs": [
    {
     "data": {
      "text/plain": [
       "8"
      ]
     },
     "execution_count": 7,
     "metadata": {},
     "output_type": "execute_result"
    }
   ],
   "source": [
    "'4 diamonds'\n",
    "\n",
    "4*2"
   ]
  },
  {
   "cell_type": "code",
   "execution_count": 13,
   "id": "76f9c13c",
   "metadata": {},
   "outputs": [
    {
     "name": "stdout",
     "output_type": "stream",
     "text": [
      "House is not diamond\n"
     ]
    }
   ],
   "source": [
    "card = '0 hearts'\n",
    "number = int(card[0])\n",
    "house = card[2:]\n",
    "\n",
    "if house == 'diamonds': #first condition\n",
    "    print('house is diamonds')\n",
    "    if 0<number<11:\n",
    "        print('number is valid')\n",
    "    else:\n",
    "        print('number is invalid')\n",
    "        \n",
    "else: #else for the first condition\n",
    "    print('House is not diamond')"
   ]
  },
  {
   "cell_type": "code",
   "execution_count": null,
   "id": "83e66638",
   "metadata": {},
   "outputs": [],
   "source": []
  },
  {
   "cell_type": "markdown",
   "id": "ebe5b759",
   "metadata": {},
   "source": [
    "### Nested if-else > multilevel if-else > multilevel conditionals"
   ]
  },
  {
   "cell_type": "raw",
   "id": "9431ebb0",
   "metadata": {},
   "source": [
    "if condition1: #line1\n",
    "    code1\n",
    "else: #line2\n",
    "    code2"
   ]
  },
  {
   "cell_type": "raw",
   "id": "fd9b9e87",
   "metadata": {},
   "source": [
    "if condition1:\n",
    "    if condition 1.1:\n",
    "        code 1.1\n",
    "    else:\n",
    "        code 1.2\n",
    "else:\n",
    "    code 2"
   ]
  },
  {
   "cell_type": "code",
   "execution_count": 16,
   "id": "59e96ab5",
   "metadata": {},
   "outputs": [
    {
     "name": "stdout",
     "output_type": "stream",
     "text": [
      "Number is divisible by 11\n"
     ]
    }
   ],
   "source": [
    "number = 55\n",
    "#--------------------------condition 1 starts\n",
    "if number%11==0:\n",
    "    print('Number is divisible by 11')\n",
    "    \n",
    "    #--------------------------condition 2 starts\n",
    "    if number%5==0:\n",
    "        print('The number is divisible by 5')\n",
    "    else:\n",
    "        print('The number is not divisible by 5')\n",
    "    #--------------------------condition 2 ends\n",
    "else:\n",
    "    print('The number is not divisible by 11')\n",
    "#--------------------------condition 1 ends"
   ]
  },
  {
   "cell_type": "code",
   "execution_count": 17,
   "id": "9e9148c7",
   "metadata": {},
   "outputs": [
    {
     "name": "stdout",
     "output_type": "stream",
     "text": [
      "The number is divisible by 5\n"
     ]
    }
   ],
   "source": [
    "if number%5==0:\n",
    "    print('The number is divisible by 5')\n",
    "else:\n",
    "    print('The number is not divisible by 5')"
   ]
  },
  {
   "cell_type": "code",
   "execution_count": null,
   "id": "fad9b15b",
   "metadata": {},
   "outputs": [],
   "source": []
  },
  {
   "cell_type": "code",
   "execution_count": 22,
   "id": "36d1bc80",
   "metadata": {},
   "outputs": [
    {
     "name": "stdout",
     "output_type": "stream",
     "text": [
      "nahi khana\n"
     ]
    }
   ],
   "source": [
    "fruit_ripe = False\n",
    "fruit_taste = 'sweet'\n",
    "\n",
    "############################code starts here############################\n",
    "#-------------------parent 1 starts\n",
    "if fruit_ripe == True:\n",
    "    print('eat it 1')\n",
    "#-------------------parent 1 ends\n",
    "\n",
    "#-------------------parent 2 starts\n",
    "if fruit_ripe != False:\n",
    "    #-------------------child 2.1 starts\n",
    "    if fruit_taste == 'bitter':\n",
    "        print('do not eat it 1')\n",
    "    else:\n",
    "        print('eat it 2')\n",
    "    #-------------------child 2.1 ends\n",
    "    \n",
    "    #-------------------child 2.2 starts\n",
    "    if fruit_taste == 'sour':\n",
    "        print('Take sugar with the fruit')\n",
    "    elif fruit_taste == 'sweet':\n",
    "        print('Eat it 3')\n",
    "    else:\n",
    "        print('do not eat it 2')\n",
    "    #-------------------child 2.2 ends\n",
    "else:\n",
    "    print('nahi khana')\n",
    "#-------------------parent 2 ends\n",
    "############################code ends here############################"
   ]
  },
  {
   "cell_type": "code",
   "execution_count": null,
   "id": "92a64c9d",
   "metadata": {},
   "outputs": [],
   "source": []
  },
  {
   "cell_type": "code",
   "execution_count": 25,
   "id": "69357285",
   "metadata": {},
   "outputs": [
    {
     "name": "stdout",
     "output_type": "stream",
     "text": [
      "The number is greater than 5\n",
      "the number is not divisible by 2\n"
     ]
    }
   ],
   "source": [
    "number = 2\n",
    "\n",
    "if number>5:\n",
    "    print('The number is greater than 5') #1\n",
    "    if number%2==0:\n",
    "        print('The number is divisible by 2') #2\n",
    "        if number<10:\n",
    "            print('the number is less than 10') #3\n",
    "            if number==2:\n",
    "                print('the number is equals to 2') #4\n",
    "            else:\n",
    "                print('number is not equal to 2') #5\n",
    "        else:\n",
    "            print('the number is greater than 10') #6\n",
    "    else:\n",
    "        print('the number is not divisible by 2') #7\n",
    "else:\n",
    "    print('the number is less than or equal to 5') #8"
   ]
  },
  {
   "cell_type": "code",
   "execution_count": null,
   "id": "13c7f14f",
   "metadata": {},
   "outputs": [],
   "source": []
  },
  {
   "cell_type": "code",
   "execution_count": 29,
   "id": "a333c7c6",
   "metadata": {},
   "outputs": [
    {
     "name": "stdout",
     "output_type": "stream",
     "text": [
      "the number is less than or equal to 5\n"
     ]
    }
   ],
   "source": [
    "number = -10\n",
    "\n",
    "if number>5:\n",
    "    print('The number is greater than 5') #1\n",
    "    if number%2==0:\n",
    "        print('The number is divisible by 2') #2\n",
    "        if number<10:\n",
    "            print('the number is less than 10') #3\n",
    "            if number==2:\n",
    "                print('the number is equals to 2') #4\n",
    "            else:\n",
    "                print('number is not equal to 2') #5\n",
    "        else:\n",
    "            print('the number is greater than 10') #6\n",
    "    else:\n",
    "        print('the number is not divisible by 2') #7\n",
    "else:\n",
    "    print('the number is less than or equal to 5') #8"
   ]
  },
  {
   "cell_type": "code",
   "execution_count": 45,
   "id": "8ad6e27d",
   "metadata": {},
   "outputs": [],
   "source": [
    "number = 4\n",
    "if not (number>5 or number%2==0):\n",
    "    print(1)\n",
    "    if number<10:\n",
    "        print(2)"
   ]
  },
  {
   "cell_type": "code",
   "execution_count": 39,
   "id": "5968dd09",
   "metadata": {},
   "outputs": [
    {
     "data": {
      "text/plain": [
       "(True, False)"
      ]
     },
     "execution_count": 39,
     "metadata": {},
     "output_type": "execute_result"
    }
   ],
   "source": [
    "number = 7\n",
    "number>5, number%2==0"
   ]
  },
  {
   "cell_type": "code",
   "execution_count": null,
   "id": "9457b7a9",
   "metadata": {},
   "outputs": [],
   "source": []
  },
  {
   "cell_type": "raw",
   "id": "11cdab85",
   "metadata": {},
   "source": [
    "1. number should be a multiple of 11\n",
    "2. if the number is a multiple of 11, it should be a multiple of 5 as well"
   ]
  }
 ],
 "metadata": {
  "kernelspec": {
   "display_name": "Python 3 (ipykernel)",
   "language": "python",
   "name": "python3"
  },
  "language_info": {
   "codemirror_mode": {
    "name": "ipython",
    "version": 3
   },
   "file_extension": ".py",
   "mimetype": "text/x-python",
   "name": "python",
   "nbconvert_exporter": "python",
   "pygments_lexer": "ipython3",
   "version": "3.9.12"
  }
 },
 "nbformat": 4,
 "nbformat_minor": 5
}

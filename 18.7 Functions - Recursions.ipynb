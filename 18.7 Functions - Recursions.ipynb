{
 "cells": [
  {
   "cell_type": "raw",
   "id": "8110c0a2",
   "metadata": {},
   "source": [
    "Recursive function\n",
    "\n",
    "function:\n",
    "    code:\n",
    "        condition1:\n",
    "            output\n",
    "        condition2:\n",
    "            call function again"
   ]
  },
  {
   "cell_type": "code",
   "execution_count": null,
   "id": "860bac91",
   "metadata": {},
   "outputs": [],
   "source": []
  },
  {
   "cell_type": "code",
   "execution_count": 1,
   "id": "adfa69d7",
   "metadata": {},
   "outputs": [
    {
     "name": "stdout",
     "output_type": "stream",
     "text": [
      "0\n",
      "1\n",
      "2\n",
      "3\n",
      "4\n",
      "5\n",
      "6\n",
      "7\n",
      "8\n",
      "9\n"
     ]
    }
   ],
   "source": [
    "for i in range(10):\n",
    "    print(i)"
   ]
  },
  {
   "cell_type": "code",
   "execution_count": 33,
   "id": "d76ac603",
   "metadata": {},
   "outputs": [
    {
     "data": {
      "text/plain": [
       "[[1, 2],\n",
       " 2,\n",
       " 4,\n",
       " [3, 4, 5, 6],\n",
       " (2,\n",
       "  3,\n",
       "  (1,\n",
       "   2,\n",
       "   3,\n",
       "   4,\n",
       "   5,\n",
       "   6,\n",
       "   7,\n",
       "   8,\n",
       "   9,\n",
       "   0,\n",
       "   1,\n",
       "   2,\n",
       "   3,\n",
       "   4,\n",
       "   (1, 2, 3, 23, 23, 4, 45, 2, 3, 2, 4, 46, 3, 2, 4, 34, 5, 345, 345345))),\n",
       " 'a',\n",
       " 'c',\n",
       " [1, 2, 3, 5, 7, 4, 3]]"
      ]
     },
     "execution_count": 33,
     "metadata": {},
     "output_type": "execute_result"
    }
   ],
   "source": [
    "x = [[1,2], 2,4,[3,4,5,6],(2,3, (1,2,3,4,5,6,7,8,9,0,1,2,3,4, (1,2,3,23,23,4,45,2,3,2,4,46,3,2,4,34,5,345,345345))),'a','c',[1,2,3,5,7,4,3]]\n",
    "x"
   ]
  },
  {
   "cell_type": "code",
   "execution_count": 34,
   "id": "860cc0d6",
   "metadata": {},
   "outputs": [],
   "source": [
    "temp_length = 0\n",
    "temp_list = None\n",
    "for i in x:\n",
    "    if type(i) in (set, tuple, list):    \n",
    "        if len(i)>temp_length:\n",
    "            temp_length = len(i)\n",
    "            temp_list = i\n",
    "\n",
    "        for j in i:\n",
    "            if type(j) in (set, tuple, list):\n",
    "                if len(j)>temp_length:\n",
    "                    temp_length = len(j)\n",
    "                    temp_list = j\n",
    "\n",
    "            for j in i:\n",
    "                if type(j) in (set, tuple, list):\n",
    "                    if len(j)>temp_length:\n",
    "                        temp_length = len(j)\n",
    "                        temp_list = j"
   ]
  },
  {
   "cell_type": "code",
   "execution_count": 35,
   "id": "31dec825",
   "metadata": {},
   "outputs": [
    {
     "data": {
      "text/plain": [
       "(1,\n",
       " 2,\n",
       " 3,\n",
       " 4,\n",
       " 5,\n",
       " 6,\n",
       " 7,\n",
       " 8,\n",
       " 9,\n",
       " 0,\n",
       " 1,\n",
       " 2,\n",
       " 3,\n",
       " 4,\n",
       " (1, 2, 3, 23, 23, 4, 45, 2, 3, 2, 4, 46, 3, 2, 4, 34, 5, 345, 345345))"
      ]
     },
     "execution_count": 35,
     "metadata": {},
     "output_type": "execute_result"
    }
   ],
   "source": [
    "temp_list"
   ]
  },
  {
   "cell_type": "code",
   "execution_count": null,
   "id": "80a58832",
   "metadata": {},
   "outputs": [],
   "source": []
  },
  {
   "cell_type": "code",
   "execution_count": 36,
   "id": "15b48331",
   "metadata": {},
   "outputs": [],
   "source": [
    "my_list = [[1,2], \n",
    "           2,\n",
    "           4,\n",
    "           [3,4,5,6],\n",
    "           (2,3, (1,2,3,4,5,6,7,8,9,0,1,2,3,4, (1,2,3,23,23,4,45,2,3,2,4,46,3,2,4,34,5,345,345345))),\n",
    "           'a',\n",
    "           'c',\n",
    "           [1,2,3,5,7,4,3]]"
   ]
  },
  {
   "cell_type": "code",
   "execution_count": 129,
   "id": "5d0c76dd",
   "metadata": {},
   "outputs": [],
   "source": [
    "def longest_list_finder(main_list, temp_length = 0, temp_list = None):\n",
    "    '''It is designed to find the iterable of the longest length even if it lies inside another iterable\n",
    "    Takes into consideration lists, sets and tuples only'''\n",
    "    \n",
    "    for internal_list in main_list: # iterating over the main_list\n",
    "        if type(internal_list) in (set, list, tuple): # filters out the iterables only everything else would simply be discarded\n",
    "            print('Main Iterable : ',internal_list)\n",
    "#             print('Length',len(internal_list))\n",
    "#             print()\n",
    "            \n",
    "            if len(internal_list)>temp_length: # Comparing the temp_length with the length of the current iterable\n",
    "                temp_length = len(internal_list) # the temp_length would get updated if the length of the current iterable exceeds it\n",
    "                temp_list = internal_list # the temp_list will get updated if the current list is longer than itself\n",
    "                \n",
    "            for element in internal_list: # iterating over the current iterable to check if it contains any more iterables\n",
    "                if type(element) in (set,list, tuple): # Checking if the internal items are iterable\n",
    "                    print('*'*114)\n",
    "                    print(f'Internal iterbles : {element}')\n",
    "                    print('*'*114)\n",
    "                    return longest_list_finder(element, temp_length, temp_list) # if the internal item is an iterable, we would have to repeat the entire process till this point, to repeat the entire process without writing the entire code over and over again, we will simply perform recursion\n",
    "                else:\n",
    "                    print(f'{element} : Not an internal iterable !!!')\n",
    "            print()\n",
    "            print('#'*114)\n",
    "            print()\n",
    "            \n",
    "    return temp_list # returns the temp list if there are no more iterables inside the main_list"
   ]
  },
  {
   "cell_type": "code",
   "execution_count": 130,
   "id": "73dda7d4",
   "metadata": {},
   "outputs": [
    {
     "name": "stdout",
     "output_type": "stream",
     "text": [
      "Main Iterable :  [1, 2]\n",
      "1 : Not an internal iterable !!!\n",
      "2 : Not an internal iterable !!!\n",
      "\n",
      "##################################################################################################################\n",
      "\n",
      "Main Iterable :  [3, 4, 5, 6]\n",
      "3 : Not an internal iterable !!!\n",
      "4 : Not an internal iterable !!!\n",
      "5 : Not an internal iterable !!!\n",
      "6 : Not an internal iterable !!!\n",
      "\n",
      "##################################################################################################################\n",
      "\n",
      "Main Iterable :  (2, 3, (1, 2, 3, 4, 5, 6, 7, 8, 9, 0, 1, 2, 3, 4, (1, 2, 3, 23, 23, 4, 45, 2, 3, 2, 4, 46, 3, 2, 4, 34, 5, 345, 345345)))\n",
      "2 : Not an internal iterable !!!\n",
      "3 : Not an internal iterable !!!\n",
      "******************************************************************************************************************\n",
      "Internal iterbles : (1, 2, 3, 4, 5, 6, 7, 8, 9, 0, 1, 2, 3, 4, (1, 2, 3, 23, 23, 4, 45, 2, 3, 2, 4, 46, 3, 2, 4, 34, 5, 345, 345345))\n",
      "******************************************************************************************************************\n",
      "Main Iterable :  (1, 2, 3, 23, 23, 4, 45, 2, 3, 2, 4, 46, 3, 2, 4, 34, 5, 345, 345345)\n",
      "1 : Not an internal iterable !!!\n",
      "2 : Not an internal iterable !!!\n",
      "3 : Not an internal iterable !!!\n",
      "23 : Not an internal iterable !!!\n",
      "23 : Not an internal iterable !!!\n",
      "4 : Not an internal iterable !!!\n",
      "45 : Not an internal iterable !!!\n",
      "2 : Not an internal iterable !!!\n",
      "3 : Not an internal iterable !!!\n",
      "2 : Not an internal iterable !!!\n",
      "4 : Not an internal iterable !!!\n",
      "46 : Not an internal iterable !!!\n",
      "3 : Not an internal iterable !!!\n",
      "2 : Not an internal iterable !!!\n",
      "4 : Not an internal iterable !!!\n",
      "34 : Not an internal iterable !!!\n",
      "5 : Not an internal iterable !!!\n",
      "345 : Not an internal iterable !!!\n",
      "345345 : Not an internal iterable !!!\n",
      "\n",
      "##################################################################################################################\n",
      "\n"
     ]
    }
   ],
   "source": [
    "x = longest_list_finder(my_list)"
   ]
  },
  {
   "cell_type": "code",
   "execution_count": 131,
   "id": "0f2c93bf",
   "metadata": {},
   "outputs": [
    {
     "data": {
      "text/plain": [
       "(1, 2, 3, 23, 23, 4, 45, 2, 3, 2, 4, 46, 3, 2, 4, 34, 5, 345, 345345)"
      ]
     },
     "execution_count": 131,
     "metadata": {},
     "output_type": "execute_result"
    }
   ],
   "source": [
    "x"
   ]
  },
  {
   "cell_type": "markdown",
   "id": "c17fb4f3",
   "metadata": {},
   "source": [
    "### Fibonacci Series\n",
    "\n",
    "[0,1,1,2,3,5,8,13...] fibonacci series\n",
    "- it always starts with 0,1\n",
    "- the next element is the sum of the previous 2 elements"
   ]
  },
  {
   "cell_type": "code",
   "execution_count": 162,
   "id": "e0fe3dbc",
   "metadata": {},
   "outputs": [],
   "source": [
    "def fibonacci_general(length, initial_state = [0,1]):\n",
    "    if length <= 2:\n",
    "        initial_state = initial_state[:length]\n",
    "        \n",
    "    for iteration in range(length-2):\n",
    "        end_element = initial_state[-1] + initial_state[-2]\n",
    "        initial_state.append(end_element)\n",
    "        \n",
    "    return initial_state"
   ]
  },
  {
   "cell_type": "code",
   "execution_count": null,
   "id": "52df43d3",
   "metadata": {},
   "outputs": [],
   "source": [
    "def fibonacci_recursive(length, initial_state = [0,1]):\n",
    "    if length <= 2:\n",
    "        return initial_state[:length]\n",
    "    elif length == len(initial_state):\n",
    "        return initial_state\n",
    "    else:\n",
    "        end_element = initial_state[-1]+initial_state[-2]\n",
    "        initial_state.append(end_element)\n",
    "        return fibonacci_recursive(length, initial_state)"
   ]
  },
  {
   "cell_type": "code",
   "execution_count": 163,
   "id": "0b16e12b",
   "metadata": {},
   "outputs": [
    {
     "data": {
      "text/plain": [
       "[0, 1, 1, 2, 3, 5, 8, 13, 21, 34]"
      ]
     },
     "execution_count": 163,
     "metadata": {},
     "output_type": "execute_result"
    }
   ],
   "source": [
    "x = fibonacci_general(10)\n",
    "x"
   ]
  },
  {
   "cell_type": "code",
   "execution_count": 182,
   "id": "22518428",
   "metadata": {},
   "outputs": [],
   "source": [
    "def fibonacci_recursive(length, initial_state = [0,1]):\n",
    "    \n",
    "    print(f'Initial state : {initial_state}')\n",
    "    print(f'Current length : {len(initial_state)}')\n",
    "    print(f'Required length : {length}')\n",
    "    \n",
    "    if length <= 2:\n",
    "        print(f'The given length is : {length}')\n",
    "        print('Slicing the initial state....')\n",
    "        return initial_state[:length]\n",
    "    \n",
    "    elif length == len(initial_state):\n",
    "        print('The lengths have matched !')\n",
    "        print('Stopping recursion !')\n",
    "        return initial_state\n",
    "    \n",
    "    else:\n",
    "        print(f'We need to add {length - len(initial_state)} more values...')\n",
    "        print('Adding a value....')\n",
    "        \n",
    "        end_element = initial_state[-1]+initial_state[-2]\n",
    "        initial_state.append(end_element)\n",
    "        \n",
    "        print('Value added to the initial state.')\n",
    "        print(f'Updated initial state {initial_state}')\n",
    "        print()\n",
    "        return fibonacci_recursive(length, initial_state)"
   ]
  },
  {
   "cell_type": "code",
   "execution_count": 184,
   "id": "37a174a0",
   "metadata": {},
   "outputs": [
    {
     "name": "stdout",
     "output_type": "stream",
     "text": [
      "Initial state : [0, 1, 1, 2, 3]\n",
      "Current length : 5\n",
      "Required length : 2\n",
      "The given length is : 2\n",
      "Slicing the initial state....\n"
     ]
    },
    {
     "data": {
      "text/plain": [
       "[0, 1]"
      ]
     },
     "execution_count": 184,
     "metadata": {},
     "output_type": "execute_result"
    }
   ],
   "source": [
    "fibonacci_recursive(2)"
   ]
  },
  {
   "cell_type": "code",
   "execution_count": null,
   "id": "cc02d54b",
   "metadata": {},
   "outputs": [],
   "source": []
  }
 ],
 "metadata": {
  "kernelspec": {
   "display_name": "Python 3 (ipykernel)",
   "language": "python",
   "name": "python3"
  },
  "language_info": {
   "codemirror_mode": {
    "name": "ipython",
    "version": 3
   },
   "file_extension": ".py",
   "mimetype": "text/x-python",
   "name": "python",
   "nbconvert_exporter": "python",
   "pygments_lexer": "ipython3",
   "version": "3.9.12"
  }
 },
 "nbformat": 4,
 "nbformat_minor": 5
}

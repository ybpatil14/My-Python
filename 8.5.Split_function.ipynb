{
 "cells": [
  {
   "cell_type": "markdown",
   "id": "327a0b3c",
   "metadata": {},
   "source": [
    "### str.split()\n",
    "\n",
    "- syntax : object_name.split()\n",
    "- breaks the string into a list of items on a specified point\n",
    "- input data-type : string\n",
    "- output data-type : list\n",
    "- by default the separator is a space ' '"
   ]
  },
  {
   "cell_type": "code",
   "execution_count": 3,
   "id": "d5bae196",
   "metadata": {},
   "outputs": [
    {
     "data": {
      "text/plain": [
       "['I', 'am', 'Groot']"
      ]
     },
     "execution_count": 3,
     "metadata": {},
     "output_type": "execute_result"
    }
   ],
   "source": [
    "data = 'I am Groot'\n",
    "splitted_data = data.split()\n",
    "\n",
    "splitted_data"
   ]
  },
  {
   "cell_type": "code",
   "execution_count": 4,
   "id": "4ec3941f",
   "metadata": {},
   "outputs": [
    {
     "data": {
      "text/plain": [
       "list"
      ]
     },
     "execution_count": 4,
     "metadata": {},
     "output_type": "execute_result"
    }
   ],
   "source": [
    "type(splitted_data)"
   ]
  },
  {
   "cell_type": "markdown",
   "id": "97707893",
   "metadata": {},
   "source": [
    "#### Breaking the data using a different separator"
   ]
  },
  {
   "cell_type": "code",
   "execution_count": 5,
   "id": "27bbbc66",
   "metadata": {},
   "outputs": [
    {
     "data": {
      "text/plain": [
       "['I', 'am', 'Groot', '!']"
      ]
     },
     "execution_count": 5,
     "metadata": {},
     "output_type": "execute_result"
    }
   ],
   "source": [
    "data2 = 'I_am_Groot_!'\n",
    "data2.split('_')"
   ]
  },
  {
   "cell_type": "markdown",
   "id": "4c118f41",
   "metadata": {},
   "source": [
    "#### Controlling the number of splits"
   ]
  },
  {
   "cell_type": "code",
   "execution_count": 8,
   "id": "dc463a36",
   "metadata": {},
   "outputs": [
    {
     "data": {
      "text/plain": [
       "['I', 'am', 'Groot.', 'I am a guardian of the galaxy.']"
      ]
     },
     "execution_count": 8,
     "metadata": {},
     "output_type": "execute_result"
    }
   ],
   "source": [
    "data3 = 'I am Groot. I am a guardian of the galaxy.'\n",
    "data3.split(maxsplit=3)"
   ]
  },
  {
   "cell_type": "code",
   "execution_count": 9,
   "id": "d60e0ae4",
   "metadata": {},
   "outputs": [
    {
     "data": {
      "text/plain": [
       "['I', 'am', 'Iron Man']"
      ]
     },
     "execution_count": 9,
     "metadata": {},
     "output_type": "execute_result"
    }
   ],
   "source": [
    "'I am Iron Man'.split(maxsplit=2)"
   ]
  },
  {
   "cell_type": "markdown",
   "id": "4397edab",
   "metadata": {},
   "source": [
    "### Problem #1"
   ]
  },
  {
   "cell_type": "markdown",
   "id": "13f653c3",
   "metadata": {},
   "source": [
    "#### Find out how many grammatical sentences are there in the data that we have"
   ]
  },
  {
   "cell_type": "code",
   "execution_count": 10,
   "id": "d26ffe64",
   "metadata": {},
   "outputs": [],
   "source": [
    "data = '''Machine learning (ML) is a field of inquiry devoted to understanding and building methods that 'learn', that is, methods that leverage data to improve performance on some set of tasks.[1] It is seen as a part of artificial intelligence. Machine learning algorithms build a model based on sample data, known as training data, in order to make predictions or decisions without being explicitly programmed to do so.[2] Machine learning algorithms are used in a wide variety of applications, such as in medicine, email filtering, speech recognition, agriculture, and computer vision, where it is difficult or unfeasible to develop conventional algorithms to perform the needed tasks.[3][4] A subset of machine learning is closely related to computational statistics, which focuses on making predictions using computers, but not all machine learning is statistical learning. The study of mathematical optimization delivers methods, theory and application domains to the field of machine learning. Data mining is a related field of study, focusing on exploratory data analysis through unsupervised learning.[6][7] Some implementations of machine learning use data and neural networks in a way that mimics the working of a biological brain.[8][9] In its application across business problems, machine learning is also referred to as predictive analytics.'''"
   ]
  },
  {
   "cell_type": "code",
   "execution_count": 13,
   "id": "83a30527",
   "metadata": {},
   "outputs": [
    {
     "data": {
      "text/plain": [
       "10"
      ]
     },
     "execution_count": 13,
     "metadata": {},
     "output_type": "execute_result"
    }
   ],
   "source": [
    "len(data.split('.'))"
   ]
  },
  {
   "cell_type": "code",
   "execution_count": 15,
   "id": "39e44d3d",
   "metadata": {},
   "outputs": [
    {
     "data": {
      "text/plain": [
       "13"
      ]
     },
     "execution_count": 15,
     "metadata": {},
     "output_type": "execute_result"
    }
   ],
   "source": [
    "statement = 'Ramesh and Suresh are best friends. They always take care of each other.'\n",
    "len(statement.split())"
   ]
  },
  {
   "cell_type": "code",
   "execution_count": 17,
   "id": "8bfa84ff",
   "metadata": {},
   "outputs": [
    {
     "data": {
      "text/plain": [
       "['I am', 'Groot']"
      ]
     },
     "execution_count": 17,
     "metadata": {},
     "output_type": "execute_result"
    }
   ],
   "source": [
    "data2 = 'I am #Groot'\n",
    "data2.split(' #')"
   ]
  },
  {
   "cell_type": "code",
   "execution_count": 18,
   "id": "16f09ea8",
   "metadata": {},
   "outputs": [
    {
     "data": {
      "text/plain": [
       "['i ', ' groot. I ', ' not iron man']"
      ]
     },
     "execution_count": 18,
     "metadata": {},
     "output_type": "execute_result"
    }
   ],
   "source": [
    "data = 'i am groot. I am not iron man'\n",
    "data.split('am')"
   ]
  },
  {
   "cell_type": "markdown",
   "id": "91028e29",
   "metadata": {},
   "source": [
    "### str.rsplit(sep, maxsplit)\n",
    "- same as split but the direction is opposite\n",
    "- similar as rfind or rindex"
   ]
  },
  {
   "cell_type": "code",
   "execution_count": 22,
   "id": "3dcf3b7d",
   "metadata": {},
   "outputs": [
    {
     "data": {
      "text/plain": [
       "['Ramesh and Suresh are best friends. They always take care of',\n",
       " 'each',\n",
       " 'other.']"
      ]
     },
     "execution_count": 22,
     "metadata": {},
     "output_type": "execute_result"
    }
   ],
   "source": [
    "statement = 'Ramesh and Suresh are best friends. They always take care of each other.'\n",
    "statement.rsplit(maxsplit=2)"
   ]
  },
  {
   "cell_type": "code",
   "execution_count": 52,
   "id": "05452080",
   "metadata": {
    "scrolled": true
   },
   "outputs": [
    {
     "name": "stdout",
     "output_type": "stream",
     "text": [
      "Please enter the number : .602\n",
      "\n",
      "The data is a floating point number !\n"
     ]
    }
   ],
   "source": [
    "data = input('Please enter the number : ')\n",
    "print()\n",
    "splitted = data.split('.')\n",
    "\n",
    "if len(splitted) <= 2:\n",
    "    \n",
    "    if len(splitted)==2:\n",
    "        first_element, second_element = splitted # fetching out all the individual elements\n",
    "        \n",
    "        if ((len(first_element)==0 or first_element.isnumeric()) and second_element.isnumeric()):\n",
    "            print('The data is a floating point number !')\n",
    "        else:\n",
    "            print('The data is not numeric in nature !')\n",
    "            \n",
    "    elif len(splitted)==1:\n",
    "        element = splitted[0]\n",
    "        if element.isnumeric():\n",
    "            print('The data is an integer !')\n",
    "        else:\n",
    "            print('The data is not numeric in nature !')\n",
    "    \n",
    "else:\n",
    "    print('The data is not numeric in nature !')"
   ]
  }
 ],
 "metadata": {
  "kernelspec": {
   "display_name": "Python 3 (ipykernel)",
   "language": "python",
   "name": "python3"
  },
  "language_info": {
   "codemirror_mode": {
    "name": "ipython",
    "version": 3
   },
   "file_extension": ".py",
   "mimetype": "text/x-python",
   "name": "python",
   "nbconvert_exporter": "python",
   "pygments_lexer": "ipython3",
   "version": "3.9.12"
  }
 },
 "nbformat": 4,
 "nbformat_minor": 5
}

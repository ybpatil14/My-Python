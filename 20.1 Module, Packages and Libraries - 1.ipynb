{
 "cells": [
  {
   "cell_type": "markdown",
   "id": "8329fce2",
   "metadata": {},
   "source": [
    "# Some important definitions : "
   ]
  },
  {
   "cell_type": "markdown",
   "id": "f9aa07d2",
   "metadata": {},
   "source": [
    "##### 1. Variable : \n",
    "- Container to store the values/objects so that we can re-use the same whenever we need them without re-initiation"
   ]
  },
  {
   "cell_type": "raw",
   "id": "ef6e8e2f",
   "metadata": {},
   "source": [
    "#--------------------------------------------------------------------------------------------------------------------#"
   ]
  },
  {
   "cell_type": "markdown",
   "id": "93bf347a",
   "metadata": {},
   "source": [
    "##### 2. Function/method : \n",
    "- A re-usable block of code/ set of instructions written to attain a pre-determined output using a given input/ to perform a pre-specified task\n",
    "- A function once written can be used again and again by calling the function name with parameters if required"
   ]
  },
  {
   "cell_type": "raw",
   "id": "7fbeaca1",
   "metadata": {},
   "source": [
    "#--------------------------------------------------------------------------------------------------------------------#"
   ]
  },
  {
   "cell_type": "markdown",
   "id": "1f8b0510",
   "metadata": {},
   "source": [
    "##### 3. Module :\n",
    "- A collection of similar functions and/or global-variables that can be called/imported from anywhere whenever required\n",
    "- It saves us an immense amount of time to replicate the same logics again and again\n",
    "- A much cleaner way of writing code\n",
    "- A module would always have an extension of `.py` which is the native file format for python codes/files\n",
    "- `.py` is different than `.ipynb`\n",
    "- `.ipynb` > `I`nteractive `PY`thon `N`ote`B`ook"
   ]
  },
  {
   "cell_type": "markdown",
   "id": "3c2cea7c",
   "metadata": {},
   "source": [
    "##### 3.a. Syntax to import a module:"
   ]
  },
  {
   "cell_type": "markdown",
   "id": "4614d826",
   "metadata": {},
   "source": [
    "1. To import the entire module : \n",
    "```python \n",
    "import module_name\n",
    "```\n",
    "2. To import a specific function from the module : \n",
    "```python\n",
    "from module_name import function_name\n",
    "```\n",
    "3. To import a module with an alias\n",
    "```python\n",
    "import module_name as alias\n",
    "```\n",
    "4. To import a function from a module with an alias\n",
    "```python\n",
    "from module_name import function_name as alias\n",
    "```"
   ]
  },
  {
   "cell_type": "code",
   "execution_count": 19,
   "id": "0b47a673",
   "metadata": {},
   "outputs": [],
   "source": [
    "# Method 1\n",
    "\n",
    "import dummy_module"
   ]
  },
  {
   "cell_type": "code",
   "execution_count": 20,
   "id": "a900ad7e",
   "metadata": {},
   "outputs": [
    {
     "data": {
      "text/plain": [
       "['__builtins__',\n",
       " '__cached__',\n",
       " '__doc__',\n",
       " '__file__',\n",
       " '__loader__',\n",
       " '__name__',\n",
       " '__package__',\n",
       " '__spec__',\n",
       " 'adder',\n",
       " 'divide',\n",
       " 'multiply',\n",
       " 'subtraction']"
      ]
     },
     "execution_count": 20,
     "metadata": {},
     "output_type": "execute_result"
    }
   ],
   "source": [
    "dir(dummy_module)"
   ]
  },
  {
   "cell_type": "markdown",
   "id": "6bcf015b",
   "metadata": {},
   "source": [
    "#### Using a function from the module which has been invoked using method1\n",
    "\n",
    "\n",
    "```python\n",
    "module_name.function_name(parameters)\n",
    "```"
   ]
  },
  {
   "cell_type": "code",
   "execution_count": 22,
   "id": "5eb7179d",
   "metadata": {},
   "outputs": [
    {
     "name": "stdout",
     "output_type": "stream",
     "text": [
      "15\n"
     ]
    }
   ],
   "source": [
    "# Using a function from the module which has been invoked using method1\n",
    "added = dummy_module.adder(4,5,6)\n",
    "print(added)"
   ]
  },
  {
   "cell_type": "code",
   "execution_count": null,
   "id": "ff25c234",
   "metadata": {},
   "outputs": [],
   "source": [
    "dummy_module.divide()"
   ]
  },
  {
   "cell_type": "code",
   "execution_count": 5,
   "id": "82c8640f",
   "metadata": {},
   "outputs": [],
   "source": [
    "# Method 2\n",
    "\n",
    "from dummy_module import multiply # used to import only a single function\n",
    "from dummy_module import multiply, adder, divide # used to import only a multiple functions at once\n",
    "\n",
    "# To import everything from the module at once\n",
    "from dummy_module import *"
   ]
  },
  {
   "cell_type": "markdown",
   "id": "e7d3d443",
   "metadata": {},
   "source": [
    "#### Using a function from the module which has been invoked using method2\n",
    "\n",
    "\n",
    "```python\n",
    "function_name(parameters)\n",
    "```"
   ]
  },
  {
   "cell_type": "code",
   "execution_count": 2,
   "id": "3697da3c",
   "metadata": {},
   "outputs": [
    {
     "data": {
      "text/plain": [
       "144"
      ]
     },
     "execution_count": 2,
     "metadata": {},
     "output_type": "execute_result"
    }
   ],
   "source": [
    "multiply(2,4,3,6)"
   ]
  },
  {
   "cell_type": "code",
   "execution_count": 3,
   "id": "ada4b2e1",
   "metadata": {},
   "outputs": [
    {
     "ename": "NameError",
     "evalue": "name 'divide' is not defined",
     "output_type": "error",
     "traceback": [
      "\u001b[0;31m---------------------------------------------------------------------------\u001b[0m",
      "\u001b[0;31mNameError\u001b[0m                                 Traceback (most recent call last)",
      "Input \u001b[0;32mIn [3]\u001b[0m, in \u001b[0;36m<cell line: 1>\u001b[0;34m()\u001b[0m\n\u001b[0;32m----> 1\u001b[0m \u001b[43mdivide\u001b[49m(\u001b[38;5;241m3\u001b[39m,\u001b[38;5;241m2\u001b[39m)\n",
      "\u001b[0;31mNameError\u001b[0m: name 'divide' is not defined"
     ]
    }
   ],
   "source": [
    "divide(3,2)"
   ]
  },
  {
   "cell_type": "code",
   "execution_count": 4,
   "id": "90e50a0f",
   "metadata": {},
   "outputs": [
    {
     "ename": "NameError",
     "evalue": "name 'dummy_module' is not defined",
     "output_type": "error",
     "traceback": [
      "\u001b[0;31m---------------------------------------------------------------------------\u001b[0m",
      "\u001b[0;31mNameError\u001b[0m                                 Traceback (most recent call last)",
      "Input \u001b[0;32mIn [4]\u001b[0m, in \u001b[0;36m<cell line: 1>\u001b[0;34m()\u001b[0m\n\u001b[0;32m----> 1\u001b[0m \u001b[43mdummy_module\u001b[49m\u001b[38;5;241m.\u001b[39mdivide(\u001b[38;5;241m4\u001b[39m,\u001b[38;5;241m3\u001b[39m)\n",
      "\u001b[0;31mNameError\u001b[0m: name 'dummy_module' is not defined"
     ]
    }
   ],
   "source": [
    "dummy_module.divide(4,3)"
   ]
  },
  {
   "cell_type": "code",
   "execution_count": 6,
   "id": "e24caf9f",
   "metadata": {},
   "outputs": [
    {
     "data": {
      "text/plain": [
       "-5"
      ]
     },
     "execution_count": 6,
     "metadata": {},
     "output_type": "execute_result"
    }
   ],
   "source": [
    "subtraction(2,3,4)"
   ]
  },
  {
   "cell_type": "code",
   "execution_count": 1,
   "id": "59394e7d",
   "metadata": {},
   "outputs": [],
   "source": [
    "# Method3\n",
    "\n",
    "import dummy_module as dm"
   ]
  },
  {
   "cell_type": "code",
   "execution_count": 2,
   "id": "18ea746c",
   "metadata": {},
   "outputs": [
    {
     "data": {
      "text/plain": [
       "13"
      ]
     },
     "execution_count": 2,
     "metadata": {},
     "output_type": "execute_result"
    }
   ],
   "source": [
    "dm.adder(1,4,3,2,3)"
   ]
  },
  {
   "cell_type": "code",
   "execution_count": 3,
   "id": "a77e6947",
   "metadata": {
    "scrolled": true
   },
   "outputs": [
    {
     "ename": "NameError",
     "evalue": "name 'dummy_module' is not defined",
     "output_type": "error",
     "traceback": [
      "\u001b[0;31m---------------------------------------------------------------------------\u001b[0m",
      "\u001b[0;31mNameError\u001b[0m                                 Traceback (most recent call last)",
      "Input \u001b[0;32mIn [3]\u001b[0m, in \u001b[0;36m<cell line: 1>\u001b[0;34m()\u001b[0m\n\u001b[0;32m----> 1\u001b[0m \u001b[43mdummy_module\u001b[49m\u001b[38;5;241m.\u001b[39madder(\u001b[38;5;241m2\u001b[39m,\u001b[38;5;241m34\u001b[39m,\u001b[38;5;241m5\u001b[39m)\n",
      "\u001b[0;31mNameError\u001b[0m: name 'dummy_module' is not defined"
     ]
    }
   ],
   "source": [
    "dummy_module.adder(2,34,5)"
   ]
  },
  {
   "cell_type": "code",
   "execution_count": 3,
   "id": "fa01319e",
   "metadata": {},
   "outputs": [],
   "source": [
    "# Method4\n",
    "\n",
    "from dummy_module import multiply as mul # for a single function\n",
    "from dummy_module import adder, subtraction as sub, divide as div, multiply  # for a multiple functions"
   ]
  },
  {
   "cell_type": "code",
   "execution_count": 2,
   "id": "b31036c0",
   "metadata": {},
   "outputs": [
    {
     "data": {
      "text/plain": [
       "120"
      ]
     },
     "execution_count": 2,
     "metadata": {},
     "output_type": "execute_result"
    }
   ],
   "source": [
    "mul(2,3,4,5)"
   ]
  },
  {
   "cell_type": "code",
   "execution_count": 4,
   "id": "38611692",
   "metadata": {},
   "outputs": [
    {
     "data": {
      "text/plain": [
       "-6"
      ]
     },
     "execution_count": 4,
     "metadata": {},
     "output_type": "execute_result"
    }
   ],
   "source": [
    "sub(3,4,5)"
   ]
  },
  {
   "cell_type": "code",
   "execution_count": 5,
   "id": "4867cb21",
   "metadata": {},
   "outputs": [
    {
     "data": {
      "text/plain": [
       "12"
      ]
     },
     "execution_count": 5,
     "metadata": {},
     "output_type": "execute_result"
    }
   ],
   "source": [
    "multiply(3,4)"
   ]
  },
  {
   "cell_type": "code",
   "execution_count": 6,
   "id": "59efefee",
   "metadata": {},
   "outputs": [
    {
     "data": {
      "text/plain": [
       "12"
      ]
     },
     "execution_count": 6,
     "metadata": {},
     "output_type": "execute_result"
    }
   ],
   "source": [
    "mul(3,4)"
   ]
  },
  {
   "cell_type": "raw",
   "id": "6fe51990",
   "metadata": {},
   "source": [
    "#--------------------------------------------------------------------------------------------------------------------#"
   ]
  },
  {
   "cell_type": "markdown",
   "id": "45023b0d",
   "metadata": {},
   "source": [
    "##### 3. Package : \n",
    "- A package is nothing but a collection of various modules\n",
    "- Package is the folder that would contain multiple module scripts"
   ]
  },
  {
   "cell_type": "markdown",
   "id": "f8d96a50",
   "metadata": {},
   "source": [
    "- EDA {package}\n",
    "    - eda related modules\n",
    "- Pre-process {package}\n",
    "    - preprocessing related modules\n",
    "- Model building {package}\n",
    "    - model building related modules\n",
    "- Deployment {package}\n",
    "    - deployment related modules"
   ]
  },
  {
   "cell_type": "markdown",
   "id": "63422a55",
   "metadata": {},
   "source": [
    "It is imported in a similar fasion as packages"
   ]
  },
  {
   "cell_type": "markdown",
   "id": "915e6303",
   "metadata": {},
   "source": [
    "```python\n",
    "\n",
    "from package_name import module_name # imports the specified module from the package\n",
    "from package_name import module_name as alias # imports the specified module from the package with the module renamed to alias\n",
    "\n",
    "from package_name.module_name import function_name # imports the specified function from the module from the package\n",
    "from package_name.module_name import function_name as alias # imports the specified function from the module from the package with the function been renamed to alias\n",
    "```"
   ]
  },
  {
   "cell_type": "markdown",
   "id": "0d4c629e",
   "metadata": {},
   "source": [
    "#### 1. importing module"
   ]
  },
  {
   "cell_type": "code",
   "execution_count": 4,
   "id": "d2619d0d",
   "metadata": {},
   "outputs": [],
   "source": [
    "from Preprocessing_dummy import preprocessing_module"
   ]
  },
  {
   "cell_type": "code",
   "execution_count": 5,
   "id": "37d902d1",
   "metadata": {},
   "outputs": [
    {
     "data": {
      "text/plain": [
       "['__builtins__',\n",
       " '__cached__',\n",
       " '__doc__',\n",
       " '__file__',\n",
       " '__loader__',\n",
       " '__name__',\n",
       " '__package__',\n",
       " '__spec__',\n",
       " 'preprocessor']"
      ]
     },
     "execution_count": 5,
     "metadata": {},
     "output_type": "execute_result"
    }
   ],
   "source": [
    "dir(preprocessing_module)"
   ]
  },
  {
   "cell_type": "code",
   "execution_count": 6,
   "id": "1cf04384",
   "metadata": {},
   "outputs": [
    {
     "name": "stdout",
     "output_type": "stream",
     "text": [
      "This is preprocessor function from the preprocessing_module from the Preprocessing_dummy package\n"
     ]
    }
   ],
   "source": [
    "preprocessing_module.preprocessor()"
   ]
  },
  {
   "cell_type": "markdown",
   "id": "0cb42ab1",
   "metadata": {},
   "source": [
    "#### 2. Importing the module with an alias"
   ]
  },
  {
   "cell_type": "code",
   "execution_count": 9,
   "id": "b22c2eb1",
   "metadata": {},
   "outputs": [],
   "source": [
    "from Preprocessing_dummy import preprocessing_module as pm"
   ]
  },
  {
   "cell_type": "code",
   "execution_count": 10,
   "id": "80d448f8",
   "metadata": {},
   "outputs": [
    {
     "name": "stdout",
     "output_type": "stream",
     "text": [
      "This is preprocessor function from the preprocessing_module from the Preprocessing_dummy package\n"
     ]
    }
   ],
   "source": [
    "pm.preprocessor()"
   ]
  },
  {
   "cell_type": "markdown",
   "id": "430726cc",
   "metadata": {},
   "source": [
    "#### 3. Importing specified functions from the modules in a package"
   ]
  },
  {
   "cell_type": "markdown",
   "id": "81983391",
   "metadata": {},
   "source": [
    "##### syntax\n",
    "\n",
    "```python\n",
    "from package_name.module_name import function_name\n",
    "```"
   ]
  },
  {
   "cell_type": "code",
   "execution_count": 16,
   "id": "ee500e29",
   "metadata": {},
   "outputs": [],
   "source": [
    "from Preprocessing_dummy.preprocessing_module import preprocessor"
   ]
  },
  {
   "cell_type": "code",
   "execution_count": 17,
   "id": "eed04548",
   "metadata": {},
   "outputs": [
    {
     "name": "stdout",
     "output_type": "stream",
     "text": [
      "This is preprocessor function from the preprocessing_module from the Preprocessing_dummy package\n"
     ]
    }
   ],
   "source": [
    "preprocessor()"
   ]
  },
  {
   "cell_type": "markdown",
   "id": "dc0fb757",
   "metadata": {},
   "source": [
    "#### 4. Importing specified functions from the modules in a package using an alias"
   ]
  },
  {
   "cell_type": "markdown",
   "id": "ffa88777",
   "metadata": {},
   "source": [
    "##### syntax\n",
    "\n",
    "```python\n",
    "from package_name.module_name import function_name as alias\n",
    "```"
   ]
  },
  {
   "cell_type": "code",
   "execution_count": 12,
   "id": "aeb54b6b",
   "metadata": {},
   "outputs": [],
   "source": [
    "from Preprocessing_dummy.preprocessing_module import preprocessor as prep"
   ]
  },
  {
   "cell_type": "code",
   "execution_count": 13,
   "id": "a4110c43",
   "metadata": {},
   "outputs": [
    {
     "name": "stdout",
     "output_type": "stream",
     "text": [
      "This is preprocessor function from the preprocessing_module from the Preprocessing_dummy package\n"
     ]
    }
   ],
   "source": [
    "prep()"
   ]
  },
  {
   "cell_type": "markdown",
   "id": "80c0bc9a",
   "metadata": {},
   "source": [
    "#### 6. Importing multiple modules from the package"
   ]
  },
  {
   "cell_type": "markdown",
   "id": "4872e7d0",
   "metadata": {},
   "source": [
    "##### Syntax\n",
    "```python\n",
    "from package_name import module_name1, module_name2\n",
    "```"
   ]
  },
  {
   "cell_type": "code",
   "execution_count": 19,
   "id": "fec30985",
   "metadata": {},
   "outputs": [],
   "source": [
    "from Preprocessing_dummy import preprocessing_module, module2"
   ]
  },
  {
   "cell_type": "code",
   "execution_count": 20,
   "id": "bde61cf4",
   "metadata": {},
   "outputs": [
    {
     "name": "stdout",
     "output_type": "stream",
     "text": [
      "This is my module 2\n"
     ]
    }
   ],
   "source": [
    "module2.my_function()"
   ]
  },
  {
   "cell_type": "code",
   "execution_count": 21,
   "id": "8e2cf116",
   "metadata": {},
   "outputs": [
    {
     "name": "stdout",
     "output_type": "stream",
     "text": [
      "This is preprocessor function from the preprocessing_module from the Preprocessing_dummy package\n"
     ]
    }
   ],
   "source": [
    "preprocessing_module.preprocessor()"
   ]
  },
  {
   "cell_type": "markdown",
   "id": "6fcfea49",
   "metadata": {},
   "source": [
    "#### 7. importing specified functions from different modules from the same package at once"
   ]
  },
  {
   "cell_type": "code",
   "execution_count": 23,
   "id": "caf53524",
   "metadata": {},
   "outputs": [],
   "source": [
    "from Preprocessing_dummy.preprocessing_module import preprocessor\n",
    "from Preprocessing_dummy.module2 import my_function"
   ]
  },
  {
   "cell_type": "code",
   "execution_count": 24,
   "id": "1941f4a4",
   "metadata": {},
   "outputs": [
    {
     "name": "stdout",
     "output_type": "stream",
     "text": [
      "This is preprocessor function from the preprocessing_module from the Preprocessing_dummy package\n"
     ]
    }
   ],
   "source": [
    "preprocessor()"
   ]
  },
  {
   "cell_type": "code",
   "execution_count": 25,
   "id": "e07ca847",
   "metadata": {},
   "outputs": [
    {
     "name": "stdout",
     "output_type": "stream",
     "text": [
      "This is my module 2\n"
     ]
    }
   ],
   "source": [
    "my_function()"
   ]
  },
  {
   "cell_type": "raw",
   "id": "02e7f123",
   "metadata": {},
   "source": [
    "#--------------------------------------------------------------------------------------------------------------------#"
   ]
  },
  {
   "cell_type": "markdown",
   "id": "f068864f",
   "metadata": {},
   "source": [
    "##### 4. Library : \n",
    "- A collection of different packages"
   ]
  },
  {
   "cell_type": "raw",
   "id": "661a55bb",
   "metadata": {},
   "source": [
    "#--------------------------------------------------------------------------------------------------------------------#"
   ]
  },
  {
   "cell_type": "markdown",
   "id": "e9d8774e",
   "metadata": {},
   "source": [
    "### Problem 1. Create a function\n",
    "- input > a list of numbers\n",
    "- output > True or False\n",
    "\n",
    "\n",
    "#### True : \n",
    "1. Descending order : [6,3,2,1,0]\n",
    "2. Going up till a point and then going down only : [1,4,5,6,4,3,1,0.7,0.1,0]\n",
    "            \n",
    "#### False :\n",
    "- Otherwise"
   ]
  },
  {
   "cell_type": "code",
   "execution_count": 17,
   "id": "a8536ba7",
   "metadata": {},
   "outputs": [],
   "source": [
    "# Shikhar Bhatia22:26\n",
    "def fun(list1):\n",
    "    maxi=max(list1)\n",
    "    maxi_index=list1.index(maxi)\n",
    "    leftlist=list1[:maxi_index]\n",
    "    rightlist=list1[maxi_index:]\n",
    "    if (rightlist==sorted(rightlist,reverse=True) and leftlist==sorted(leftlist) or list1==sorted(list1)):\n",
    "        return(True)\n",
    "    else:\n",
    "        return(False)"
   ]
  },
  {
   "cell_type": "code",
   "execution_count": 25,
   "id": "2c6785ed",
   "metadata": {},
   "outputs": [
    {
     "data": {
      "text/plain": [
       "True"
      ]
     },
     "execution_count": 25,
     "metadata": {},
     "output_type": "execute_result"
    }
   ],
   "source": [
    "my_list = [6,5,4,3]\n",
    "fun(my_list)"
   ]
  }
 ],
 "metadata": {
  "kernelspec": {
   "display_name": "Python 3 (ipykernel)",
   "language": "python",
   "name": "python3"
  },
  "language_info": {
   "codemirror_mode": {
    "name": "ipython",
    "version": 3
   },
   "file_extension": ".py",
   "mimetype": "text/x-python",
   "name": "python",
   "nbconvert_exporter": "python",
   "pygments_lexer": "ipython3",
   "version": "3.10.5"
  }
 },
 "nbformat": 4,
 "nbformat_minor": 5
}

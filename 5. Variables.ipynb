{
 "cells": [
  {
   "cell_type": "markdown",
   "id": "3c88d63b",
   "metadata": {},
   "source": [
    "Variables :\n",
    "- Containers to store values/ different types of data\n",
    "- The values can be initiated, updated or deleted"
   ]
  },
  {
   "cell_type": "markdown",
   "id": "07404576",
   "metadata": {},
   "source": [
    "## Initializing a variable"
   ]
  },
  {
   "cell_type": "code",
   "execution_count": 28,
   "id": "d3dcd960",
   "metadata": {},
   "outputs": [],
   "source": [
    "x = 55 # Assignment : Assigning values to a non-existing variable"
   ]
  },
  {
   "cell_type": "code",
   "execution_count": 29,
   "id": "c6994f1a",
   "metadata": {},
   "outputs": [
    {
     "name": "stdout",
     "output_type": "stream",
     "text": [
      "55\n"
     ]
    }
   ],
   "source": [
    "print(x)"
   ]
  },
  {
   "cell_type": "markdown",
   "id": "d797c832",
   "metadata": {},
   "source": [
    "## Updating an existing variable"
   ]
  },
  {
   "cell_type": "code",
   "execution_count": 30,
   "id": "6d3f614b",
   "metadata": {},
   "outputs": [],
   "source": [
    "x = 66 # Replaces the existing value for an already existing variable"
   ]
  },
  {
   "cell_type": "code",
   "execution_count": 31,
   "id": "c5e2372f",
   "metadata": {},
   "outputs": [
    {
     "name": "stdout",
     "output_type": "stream",
     "text": [
      "66\n"
     ]
    }
   ],
   "source": [
    "print(x)"
   ]
  },
  {
   "cell_type": "code",
   "execution_count": 39,
   "id": "1845c1ef",
   "metadata": {},
   "outputs": [],
   "source": [
    "x = 'Groot'"
   ]
  },
  {
   "cell_type": "code",
   "execution_count": 33,
   "id": "028f7aaa",
   "metadata": {},
   "outputs": [
    {
     "name": "stdout",
     "output_type": "stream",
     "text": [
      "Groot\n"
     ]
    }
   ],
   "source": [
    "print(x)"
   ]
  },
  {
   "cell_type": "code",
   "execution_count": 34,
   "id": "c0fbbe32",
   "metadata": {},
   "outputs": [],
   "source": [
    "y = 'Iron Man'\n",
    "z = 'Darth Vader'"
   ]
  },
  {
   "cell_type": "code",
   "execution_count": 35,
   "id": "862acb89",
   "metadata": {},
   "outputs": [
    {
     "name": "stdout",
     "output_type": "stream",
     "text": [
      "Groot_Iron Man_Darth Vader\n"
     ]
    }
   ],
   "source": [
    "print(x,y,z, sep = '_')"
   ]
  },
  {
   "cell_type": "markdown",
   "id": "c75313e9",
   "metadata": {},
   "source": [
    "## Deleting a variable"
   ]
  },
  {
   "cell_type": "code",
   "execution_count": 36,
   "id": "5c3a0459",
   "metadata": {},
   "outputs": [
    {
     "data": {
      "text/plain": [
       "'Groot'"
      ]
     },
     "execution_count": 36,
     "metadata": {},
     "output_type": "execute_result"
    }
   ],
   "source": [
    "x"
   ]
  },
  {
   "cell_type": "code",
   "execution_count": 41,
   "id": "c4a43a41",
   "metadata": {},
   "outputs": [],
   "source": [
    "del x # Removes the variable from the memory itself"
   ]
  },
  {
   "cell_type": "code",
   "execution_count": 42,
   "id": "f67c0311",
   "metadata": {},
   "outputs": [
    {
     "ename": "NameError",
     "evalue": "name 'x' is not defined",
     "output_type": "error",
     "traceback": [
      "\u001b[0;31m---------------------------------------------------------------------------\u001b[0m",
      "\u001b[0;31mNameError\u001b[0m                                 Traceback (most recent call last)",
      "Input \u001b[0;32mIn [42]\u001b[0m, in \u001b[0;36m<cell line: 1>\u001b[0;34m()\u001b[0m\n\u001b[0;32m----> 1\u001b[0m \u001b[43mx\u001b[49m\n",
      "\u001b[0;31mNameError\u001b[0m: name 'x' is not defined"
     ]
    }
   ],
   "source": [
    "x"
   ]
  },
  {
   "cell_type": "code",
   "execution_count": 26,
   "id": "69aa5d7f",
   "metadata": {},
   "outputs": [
    {
     "name": "stdout",
     "output_type": "stream",
     "text": [
      "Iron Man Darth Vader\n"
     ]
    }
   ],
   "source": [
    "print(y,z)"
   ]
  },
  {
   "cell_type": "code",
   "execution_count": 27,
   "id": "957986db",
   "metadata": {},
   "outputs": [
    {
     "name": "stdout",
     "output_type": "stream",
     "text": [
      "Variable       Type    Data/Info\n",
      "--------------------------------\n",
      "data           str     hello_there__i_am_learning_data_science_\n",
      "final_result   str     hello_there_i_am_learning_data_science\n",
      "y              str     Iron Man\n",
      "z              str     Darth Vader\n"
     ]
    }
   ],
   "source": [
    "%whos"
   ]
  },
  {
   "cell_type": "code",
   "execution_count": 43,
   "id": "8e5267b0",
   "metadata": {},
   "outputs": [],
   "source": [
    "del data"
   ]
  },
  {
   "cell_type": "code",
   "execution_count": 44,
   "id": "3f1a4354",
   "metadata": {},
   "outputs": [
    {
     "name": "stdout",
     "output_type": "stream",
     "text": [
      "Variable       Type    Data/Info\n",
      "--------------------------------\n",
      "final_result   str     hello_there_i_am_learning_data_science\n",
      "y              str     Iron Man\n",
      "z              str     Darth Vader\n"
     ]
    }
   ],
   "source": [
    "%whos"
   ]
  },
  {
   "cell_type": "code",
   "execution_count": 45,
   "id": "ec1fddc4",
   "metadata": {},
   "outputs": [],
   "source": [
    "del final_result"
   ]
  },
  {
   "cell_type": "code",
   "execution_count": 46,
   "id": "c76065d3",
   "metadata": {},
   "outputs": [
    {
     "name": "stdout",
     "output_type": "stream",
     "text": [
      "Variable   Type    Data/Info\n",
      "----------------------------\n",
      "y          str     Iron Man\n",
      "z          str     Darth Vader\n"
     ]
    }
   ],
   "source": [
    "%whos"
   ]
  },
  {
   "cell_type": "code",
   "execution_count": 50,
   "id": "e1279cd7",
   "metadata": {},
   "outputs": [
    {
     "name": "stdout",
     "output_type": "stream",
     "text": [
      "56 73\n"
     ]
    }
   ],
   "source": [
    "x = 55\n",
    "y = 56\n",
    "z = 73\n",
    "\n",
    "# Delete x\n",
    "del x\n",
    "\n",
    "print(y,z)"
   ]
  },
  {
   "cell_type": "code",
   "execution_count": 51,
   "id": "7e89dae1",
   "metadata": {},
   "outputs": [
    {
     "name": "stdout",
     "output_type": "stream",
     "text": [
      "Variable   Type    Data/Info\n",
      "----------------------------\n",
      "y          int     56\n",
      "z          int     73\n"
     ]
    }
   ],
   "source": [
    "%whos"
   ]
  },
  {
   "cell_type": "raw",
   "id": "0b06d9a4",
   "metadata": {},
   "source": [
    "total memory = 100 mb\n",
    "\n",
    "variables = x,y,z\n",
    "\n",
    "x = 50mb\n",
    "y = 20mb\n",
    "z = 20mb\n",
    "\n",
    "(x = y+z)\n",
    "del y\n",
    "del z\n",
    "\n",
    "p ~ 50mb"
   ]
  },
  {
   "cell_type": "code",
   "execution_count": 67,
   "id": "006fd795",
   "metadata": {},
   "outputs": [
    {
     "name": "stdout",
     "output_type": "stream",
     "text": [
      "51 223 765\n"
     ]
    }
   ],
   "source": [
    "x = 51\n",
    "y = 223\n",
    "z = 765\n",
    "\n",
    "print(x,y,z)"
   ]
  },
  {
   "cell_type": "code",
   "execution_count": 68,
   "id": "4da78f73",
   "metadata": {},
   "outputs": [
    {
     "name": "stdout",
     "output_type": "stream",
     "text": [
      "Variable   Type    Data/Info\n",
      "----------------------------\n",
      "x          int     51\n",
      "y          int     223\n",
      "z          int     765\n"
     ]
    }
   ],
   "source": [
    "%whos"
   ]
  }
 ],
 "metadata": {
  "kernelspec": {
   "display_name": "Python 3 (ipykernel)",
   "language": "python",
   "name": "python3"
  },
  "language_info": {
   "codemirror_mode": {
    "name": "ipython",
    "version": 3
   },
   "file_extension": ".py",
   "mimetype": "text/x-python",
   "name": "python",
   "nbconvert_exporter": "python",
   "pygments_lexer": "ipython3",
   "version": "3.9.13"
  }
 },
 "nbformat": 4,
 "nbformat_minor": 5
}

{
 "cells": [
  {
   "cell_type": "markdown",
   "id": "b0e7b6d1",
   "metadata": {},
   "source": [
    "# 1. Parameters {arguments}"
   ]
  },
  {
   "cell_type": "markdown",
   "id": "ba203f27",
   "metadata": {},
   "source": [
    "- A parameter is an object using which we can pass information to the function"
   ]
  },
  {
   "cell_type": "code",
   "execution_count": 66,
   "id": "83049352",
   "metadata": {},
   "outputs": [],
   "source": [
    "def square(number): # here number is theparameter/argument that we are using to pass the data to the function\n",
    "    return number**2"
   ]
  },
  {
   "cell_type": "code",
   "execution_count": 65,
   "id": "26c6597d",
   "metadata": {},
   "outputs": [
    {
     "data": {
      "text/plain": [
       "25"
      ]
     },
     "execution_count": 65,
     "metadata": {},
     "output_type": "execute_result"
    }
   ],
   "source": [
    "square(5)"
   ]
  },
  {
   "cell_type": "markdown",
   "id": "7fd8a8dd",
   "metadata": {},
   "source": [
    "## Types of Arguments\n",
    "\n",
    "### Generic argument types\n",
    "- Positional arguments\n",
    "- Default arguments\n",
    "\n",
    "### Special types of arguments\n",
    "- Arbitrary arguments\n",
    "- Arbitrary keyword arguments"
   ]
  },
  {
   "cell_type": "markdown",
   "id": "c965d6ec",
   "metadata": {},
   "source": [
    "## 1. Positional arguments"
   ]
  },
  {
   "cell_type": "markdown",
   "id": "7a706a8e",
   "metadata": {},
   "source": [
    "- Positional arguments are the arguments that are defined without any pre-defined value\n",
    "- Any function with positional arguments would break in case any value for any of the arguments is missed\n",
    "- Whenever we are using positional arguments, the order in which the values are been passed holds immense importance\n",
    "- If the positions of these values are changed anyhow, the function might end up giving faulty results"
   ]
  },
  {
   "cell_type": "markdown",
   "id": "901f6ab2",
   "metadata": {},
   "source": [
    "syntax : \n",
    "```python\n",
    "    def my_function(arg1, arg2):\n",
    "        return arg1+arg2\n",
    "```\n",
    "\n",
    "- Here arg1 and arg2 are positional arguments"
   ]
  },
  {
   "cell_type": "code",
   "execution_count": 67,
   "id": "f72cc0ab",
   "metadata": {},
   "outputs": [],
   "source": [
    "def square(number): # here number is theparameter/argument that we are using to pass the data to the function\n",
    "    return number**2"
   ]
  },
  {
   "cell_type": "code",
   "execution_count": 69,
   "id": "4090eea1",
   "metadata": {},
   "outputs": [],
   "source": [
    "def subtractor(number1,number2):\n",
    "    return number1 - number2"
   ]
  },
  {
   "cell_type": "code",
   "execution_count": null,
   "id": "75297f87",
   "metadata": {},
   "outputs": [],
   "source": [
    "# number1-number2 != number2-number1\n",
    "\n",
    "105 - 67"
   ]
  },
  {
   "cell_type": "code",
   "execution_count": 70,
   "id": "97206c0a",
   "metadata": {},
   "outputs": [
    {
     "data": {
      "text/plain": [
       "38"
      ]
     },
     "execution_count": 70,
     "metadata": {},
     "output_type": "execute_result"
    }
   ],
   "source": [
    "subtractor(105,67)"
   ]
  },
  {
   "cell_type": "code",
   "execution_count": 71,
   "id": "04013137",
   "metadata": {},
   "outputs": [
    {
     "data": {
      "text/plain": [
       "-38"
      ]
     },
     "execution_count": 71,
     "metadata": {},
     "output_type": "execute_result"
    }
   ],
   "source": [
    "subtractor(67,105)"
   ]
  },
  {
   "cell_type": "code",
   "execution_count": 72,
   "id": "1b2e812b",
   "metadata": {},
   "outputs": [],
   "source": [
    "def power(number, power_):\n",
    "    return number**power_"
   ]
  },
  {
   "cell_type": "code",
   "execution_count": 73,
   "id": "82868cf4",
   "metadata": {},
   "outputs": [
    {
     "data": {
      "text/plain": [
       "15625"
      ]
     },
     "execution_count": 73,
     "metadata": {},
     "output_type": "execute_result"
    }
   ],
   "source": [
    "power(25,3)"
   ]
  },
  {
   "cell_type": "code",
   "execution_count": 74,
   "id": "2fe9123e",
   "metadata": {},
   "outputs": [
    {
     "data": {
      "text/plain": [
       "847288609443"
      ]
     },
     "execution_count": 74,
     "metadata": {},
     "output_type": "execute_result"
    }
   ],
   "source": [
    "power(3,25)"
   ]
  },
  {
   "cell_type": "code",
   "execution_count": 75,
   "id": "917b5739",
   "metadata": {},
   "outputs": [
    {
     "ename": "TypeError",
     "evalue": "power() missing 1 required positional argument: 'power_'",
     "output_type": "error",
     "traceback": [
      "\u001b[0;31m---------------------------------------------------------------------------\u001b[0m",
      "\u001b[0;31mTypeError\u001b[0m                                 Traceback (most recent call last)",
      "Cell \u001b[0;32mIn [75], line 1\u001b[0m\n\u001b[0;32m----> 1\u001b[0m \u001b[43mpower\u001b[49m\u001b[43m(\u001b[49m\u001b[38;5;241;43m2\u001b[39;49m\u001b[43m)\u001b[49m\n",
      "\u001b[0;31mTypeError\u001b[0m: power() missing 1 required positional argument: 'power_'"
     ]
    }
   ],
   "source": [
    "power(2)"
   ]
  },
  {
   "cell_type": "markdown",
   "id": "2bba068b",
   "metadata": {},
   "source": [
    "## 2. Default arguments"
   ]
  },
  {
   "cell_type": "markdown",
   "id": "142a80bd",
   "metadata": {},
   "source": [
    "- The arguments which come with some pre-defined values\n",
    "- These values are delared while creating the function itself\n",
    "- These values are declared while declaring the arguments itself inside the parenthesis of the function only"
   ]
  },
  {
   "cell_type": "code",
   "execution_count": 83,
   "id": "6a571fad",
   "metadata": {},
   "outputs": [],
   "source": [
    "# if i dont provide any power value, it should give me the square of the number been provided\n",
    "def power(number, power_ = 2):\n",
    "    return number**power_"
   ]
  },
  {
   "cell_type": "code",
   "execution_count": 82,
   "id": "521f8cef",
   "metadata": {},
   "outputs": [
    {
     "data": {
      "text/plain": [
       "25"
      ]
     },
     "execution_count": 82,
     "metadata": {},
     "output_type": "execute_result"
    }
   ],
   "source": [
    "power(5)"
   ]
  },
  {
   "cell_type": "markdown",
   "id": "135b2bb2",
   "metadata": {},
   "source": [
    "```python\n",
    "sorted(iterable, /, *, key=None, reverse=False)\n",
    "```"
   ]
  },
  {
   "cell_type": "code",
   "execution_count": 85,
   "id": "05a05ff4",
   "metadata": {},
   "outputs": [],
   "source": [
    "def my_sorted_func(iterable, reverse = False, stringify = False):\n",
    "    sorted_iter = sorted(iterable)\n",
    "    \n",
    "    if reverse == True:\n",
    "        sorted_iter = sorted_iter[::-1]\n",
    "    if stringify == True:\n",
    "        sorted_iter = [str(i) for i in sorted_iter]\n",
    "    \n",
    "    return sorted_iter"
   ]
  },
  {
   "cell_type": "code",
   "execution_count": 88,
   "id": "e75979cd",
   "metadata": {},
   "outputs": [
    {
     "ename": "TypeError",
     "evalue": "my_sorted_func() missing 1 required positional argument: 'iterable'",
     "output_type": "error",
     "traceback": [
      "\u001b[0;31m---------------------------------------------------------------------------\u001b[0m",
      "\u001b[0;31mTypeError\u001b[0m                                 Traceback (most recent call last)",
      "Cell \u001b[0;32mIn [88], line 2\u001b[0m\n\u001b[1;32m      1\u001b[0m list_ \u001b[38;5;241m=\u001b[39m [\u001b[38;5;241m3\u001b[39m,\u001b[38;5;241m4\u001b[39m,\u001b[38;5;241m12\u001b[39m,\u001b[38;5;241m2\u001b[39m,\u001b[38;5;241m7\u001b[39m,\u001b[38;5;241m8\u001b[39m,\u001b[38;5;241m4\u001b[39m,\u001b[38;5;241m5\u001b[39m,\u001b[38;5;241m0\u001b[39m,\u001b[38;5;241m-\u001b[39m\u001b[38;5;241m33\u001b[39m]\n\u001b[0;32m----> 2\u001b[0m \u001b[43mmy_sorted_func\u001b[49m\u001b[43m(\u001b[49m\u001b[43m)\u001b[49m\n",
      "\u001b[0;31mTypeError\u001b[0m: my_sorted_func() missing 1 required positional argument: 'iterable'"
     ]
    }
   ],
   "source": [
    "list_ = [3,4,12,2,7,8,4,5,0,-33]\n",
    "my_sorted_func()"
   ]
  },
  {
   "cell_type": "code",
   "execution_count": 89,
   "id": "627a748e",
   "metadata": {},
   "outputs": [
    {
     "data": {
      "text/plain": [
       "[-33, 0, 2, 3, 4, 4, 5, 7, 8, 12]"
      ]
     },
     "execution_count": 89,
     "metadata": {},
     "output_type": "execute_result"
    }
   ],
   "source": [
    "my_sorted_func(iterable = list_)"
   ]
  },
  {
   "cell_type": "code",
   "execution_count": 90,
   "id": "0a073372",
   "metadata": {},
   "outputs": [
    {
     "ename": "TypeError",
     "evalue": "my_sorted_func() missing 1 required positional argument: 'iterable'",
     "output_type": "error",
     "traceback": [
      "\u001b[0;31m---------------------------------------------------------------------------\u001b[0m",
      "\u001b[0;31mTypeError\u001b[0m                                 Traceback (most recent call last)",
      "Cell \u001b[0;32mIn [90], line 1\u001b[0m\n\u001b[0;32m----> 1\u001b[0m \u001b[43mmy_sorted_func\u001b[49m\u001b[43m(\u001b[49m\u001b[43mreverse\u001b[49m\u001b[43m \u001b[49m\u001b[38;5;241;43m=\u001b[39;49m\u001b[43m \u001b[49m\u001b[38;5;28;43;01mTrue\u001b[39;49;00m\u001b[43m)\u001b[49m\n",
      "\u001b[0;31mTypeError\u001b[0m: my_sorted_func() missing 1 required positional argument: 'iterable'"
     ]
    }
   ],
   "source": [
    "my_sorted_func(reverse = True)"
   ]
  },
  {
   "cell_type": "code",
   "execution_count": 91,
   "id": "de883a90",
   "metadata": {},
   "outputs": [
    {
     "data": {
      "text/plain": [
       "['12', '8', '7', '5', '4', '4', '3', '2', '0', '-33']"
      ]
     },
     "execution_count": 91,
     "metadata": {},
     "output_type": "execute_result"
    }
   ],
   "source": [
    "my_sorted_func(iterable = list_, reverse = True, stringify = True)"
   ]
  },
  {
   "cell_type": "code",
   "execution_count": 92,
   "id": "0482ee2e",
   "metadata": {},
   "outputs": [
    {
     "data": {
      "text/plain": [
       "['12', '8', '7', '5', '4', '4', '3', '2', '0', '-33']"
      ]
     },
     "execution_count": 92,
     "metadata": {},
     "output_type": "execute_result"
    }
   ],
   "source": [
    "my_sorted_func(reverse = True, iterable = list_, stringify = True)"
   ]
  },
  {
   "cell_type": "code",
   "execution_count": 93,
   "id": "079164ae",
   "metadata": {},
   "outputs": [
    {
     "ename": "SyntaxError",
     "evalue": "positional argument follows keyword argument (220305443.py, line 1)",
     "output_type": "error",
     "traceback": [
      "\u001b[0;36m  Cell \u001b[0;32mIn [93], line 1\u001b[0;36m\u001b[0m\n\u001b[0;31m    my_sorted_func(reverse = True, list_, stringify = True)\u001b[0m\n\u001b[0m                                                          ^\u001b[0m\n\u001b[0;31mSyntaxError\u001b[0m\u001b[0;31m:\u001b[0m positional argument follows keyword argument\n"
     ]
    }
   ],
   "source": [
    "my_sorted_func(reverse = True, list_, stringify = True)"
   ]
  },
  {
   "cell_type": "markdown",
   "id": "2b29d965",
   "metadata": {},
   "source": [
    "Positional arguments > Default arguments"
   ]
  },
  {
   "cell_type": "code",
   "execution_count": 95,
   "id": "78506d8f",
   "metadata": {},
   "outputs": [],
   "source": [
    "def my_print(statement = 'This is my print function !'):\n",
    "    print(statement)"
   ]
  },
  {
   "cell_type": "code",
   "execution_count": 98,
   "id": "ccffc435",
   "metadata": {},
   "outputs": [
    {
     "name": "stdout",
     "output_type": "stream",
     "text": [
      "I am Groot !\n"
     ]
    }
   ],
   "source": [
    "my_print(statement = 'I am Groot !')"
   ]
  },
  {
   "cell_type": "code",
   "execution_count": 101,
   "id": "6701b4c2",
   "metadata": {},
   "outputs": [
    {
     "name": "stdout",
     "output_type": "stream",
     "text": [
      "4\n",
      "\n",
      "5\n"
     ]
    }
   ],
   "source": [
    "print(4)\n",
    "print()\n",
    "print(5)"
   ]
  },
  {
   "cell_type": "code",
   "execution_count": null,
   "id": "bbb2d7a4",
   "metadata": {},
   "outputs": [],
   "source": []
  },
  {
   "cell_type": "code",
   "execution_count": null,
   "id": "92cdcca4",
   "metadata": {},
   "outputs": [],
   "source": []
  },
  {
   "cell_type": "code",
   "execution_count": null,
   "id": "b10dff9c",
   "metadata": {},
   "outputs": [],
   "source": []
  },
  {
   "cell_type": "code",
   "execution_count": null,
   "id": "9abf6428",
   "metadata": {},
   "outputs": [],
   "source": []
  },
  {
   "cell_type": "code",
   "execution_count": null,
   "id": "7d11dfb9",
   "metadata": {},
   "outputs": [],
   "source": []
  },
  {
   "cell_type": "code",
   "execution_count": 102,
   "id": "f2d6f2b3",
   "metadata": {},
   "outputs": [
    {
     "data": {
      "text/plain": [
       "['i',\n",
       " 'am',\n",
       " 'groot',\n",
       " 'i',\n",
       " 'am',\n",
       " 'not',\n",
       " 'your',\n",
       " 'enemy',\n",
       " 'i',\n",
       " 'just',\n",
       " 'am',\n",
       " 'groot']"
      ]
     },
     "execution_count": 102,
     "metadata": {},
     "output_type": "execute_result"
    }
   ],
   "source": [
    "my_list = 'I am Groot. I am not your enemy. I just am Groot.'.replace('.','').lower().split()\n",
    "my_list"
   ]
  },
  {
   "cell_type": "code",
   "execution_count": 106,
   "id": "9b356c38",
   "metadata": {},
   "outputs": [],
   "source": [
    "def preprocessor(statement):\n",
    "    return statement.replace('.','').lower().split()\n",
    "\n",
    "def word_finder(list_of_words, starting_letter, final = []):\n",
    "    for word in list_of_words:\n",
    "        if word.startswith(starting_letter):\n",
    "            final.append(word)\n",
    "    return final"
   ]
  },
  {
   "cell_type": "code",
   "execution_count": 112,
   "id": "d376c21a",
   "metadata": {},
   "outputs": [
    {
     "name": "stdout",
     "output_type": "stream",
     "text": [
      "The initial final list is : []\n",
      "\n",
      "Iteration : 1\n",
      "The data-list is : ['i', 'am', 'groot', 'i', 'am', 'not', 'your', 'enemy', 'i', 'just', 'am', 'groot']\n",
      "The updated final list is : ['am', 'am', 'am']\n",
      "\n",
      "Iteration : 2\n",
      "The data-list is : ['i', 'am', 'the', 'almighty', 'thor', 'bow', 'to', 'me', '!']\n",
      "The updated final list is : ['am', 'am', 'am', 'am', 'almighty']\n",
      "\n",
      "Iteration : 3\n",
      "The data-list is : ['i', 'will', 'not', 'let', 'you', 'eat', 'my', 'pudding', 'get', 'away', 'from', 'the', 'fridge', '!']\n",
      "The updated final list is : ['am', 'am', 'am', 'am', 'almighty', 'away']\n",
      "\n"
     ]
    }
   ],
   "source": [
    "my_letter = 'a'\n",
    "\n",
    "data = ['I am Groot. I am not your enemy. I just am Groot.',\n",
    "       'I am the almighty Thor. Bow to me !',\n",
    "       'I will not let you eat my pudding. Get away from the fridge !']\n",
    "\n",
    "preprocessed_data = [preprocessor(statement) for statement in data]\n",
    "\n",
    "i = 1\n",
    "final = []\n",
    "\n",
    "\n",
    "print(f'The initial final list is : {final}')\n",
    "print()\n",
    "for data_list in preprocessed_data:\n",
    "    print(f'Iteration : {i}')\n",
    "    final = word_finder(list_of_words = data_list, starting_letter = my_letter, final = final)\n",
    "    print(f'The data-list is : {data_list}')\n",
    "    print(f'The updated final list is : {final}')\n",
    "    print()\n",
    "    i+=1"
   ]
  },
  {
   "cell_type": "code",
   "execution_count": 113,
   "id": "9cfc7291",
   "metadata": {},
   "outputs": [
    {
     "data": {
      "text/plain": [
       "['am', 'am', 'am', 'am', 'almighty', 'away']"
      ]
     },
     "execution_count": 113,
     "metadata": {},
     "output_type": "execute_result"
    }
   ],
   "source": [
    "final"
   ]
  },
  {
   "cell_type": "markdown",
   "id": "6b29b2b2",
   "metadata": {},
   "source": [
    "# Calculator"
   ]
  },
  {
   "cell_type": "markdown",
   "id": "fe3c61da",
   "metadata": {},
   "source": [
    "- Takes in two numbers\n",
    "- take in the operation in terms of a string : 'add', 'subtract', 'multiply', 'divide', 'power'\n",
    "- if no operation is provided :  it should return the equate status i.e if number1 == number2"
   ]
  },
  {
   "cell_type": "code",
   "execution_count": 159,
   "id": "7cf88787",
   "metadata": {},
   "outputs": [],
   "source": [
    "#---------------------------Helper functions\n",
    "def add(x,y):\n",
    "    return x+y\n",
    "def subtract(x,y):\n",
    "    return x-y\n",
    "def multiply(x,y):\n",
    "    return x*y\n",
    "def divide(x,y):\n",
    "    return x/y\n",
    "def power(x,y):\n",
    "    return x**y\n",
    "#---------------------------Helper functions\n",
    "\n",
    "\n",
    "#---------------------------Main function\n",
    "def calculator(num1,num2, action = None):\n",
    "    '''Docstring'''\n",
    "    \n",
    "    if (type(num1) in (int, float)) and (type(num2) in (int, float)):\n",
    "        if action == None:\n",
    "            final = (num1 == num2)\n",
    "            if final:\n",
    "                print(f'{num1} and {num2} are equals !')\n",
    "            else:\n",
    "                print(f'{num1} and {num2} are not equals !')\n",
    "        elif action in ['add', 'sub', 'mul', 'div', 'pow']:\n",
    "            if action == 'add':\n",
    "                final = add(num1, num2)\n",
    "                print(f'The sum of {num1} and {num2} is {final} !')\n",
    "            elif action == 'sub':\n",
    "                final = subtract(num1, num2)\n",
    "                print(f'The difference of {num1} and {num2} is {final} !')\n",
    "            elif action == 'mul':\n",
    "                final = multiply(num1, num2)\n",
    "                print(f'The product of {num1} and {num2} is {final} !')\n",
    "            elif action == 'div':\n",
    "                final = divide(num1, num2)\n",
    "                print(f'The division of {num1} and {num2} is {final} !')\n",
    "            else:\n",
    "                final = power(num1, num2)\n",
    "                print(f'{num1}^{num2} is {final} !')          \n",
    "    else:\n",
    "        print('Data type not numeric !')\n",
    "#---------------------------Main function"
   ]
  },
  {
   "cell_type": "code",
   "execution_count": 160,
   "id": "6f0225e5",
   "metadata": {},
   "outputs": [
    {
     "name": "stdout",
     "output_type": "stream",
     "text": [
      "The product of 5 and 4 is 20 !\n"
     ]
    }
   ],
   "source": [
    "calculator(5,4, 'mul')"
   ]
  },
  {
   "cell_type": "code",
   "execution_count": 162,
   "id": "d9282fb6",
   "metadata": {},
   "outputs": [],
   "source": [
    "# Musaib\n",
    "def calc(num1 = 0,num2 = 0,oper = None):\n",
    "    '''This is a basic calculator, where it will take three values, num1 and num2 as numeric value and operation (oper)\n",
    "    in form of string. You can use the following keywords:\n",
    "    -For Addition - \"add\" or \"sum\"\n",
    "    -For Subtraction - \"subtract\" or \"difference\"\n",
    "    -For Multiplication - \"multiply\" or \"product\"\n",
    "    -For Division - \"divide\" '''\n",
    "    \n",
    "    if type(oper)==str:\n",
    "        if oper.lower()=='add' or oper.lower()=='sum':\n",
    "            return print(f'The addition of {num1} and {num2} is {num1+num2}')\n",
    "\n",
    "        if oper.lower()=='subtract' or oper.lower()=='difference':\n",
    "            if num1>num2:\n",
    "                return print(f'The subtrated value of {num1} and {num2} is {num1-num2}')\n",
    "            else:\n",
    "                return print(f'The difference of value of {num1} and {num2} is {num2-num1}')\n",
    "        if oper.lower()=='multiply' or oper.lower()=='product':\n",
    "            return print(f'The product of {num1} and {num2} is {num1*num2}')\n",
    "\n",
    "        if oper.lower()=='divide':\n",
    "            if num1%num2==0:\n",
    "                return print(f'The quotient of {num1} and {num2} is {num1/num2} and remainder is 0.')\n",
    "            else:\n",
    "                return print(f'The quotient of {num1} and {num2} is {num1/num2} and remainder is {num1%num2}.')\n",
    "    elif oper==None:\n",
    "        print(f'{num1} could be equal to {num2}')\n",
    "    else:\n",
    "        print('Enter valid input (Refer to Dogstruing!)')"
   ]
  },
  {
   "cell_type": "code",
   "execution_count": 166,
   "id": "a65386d8",
   "metadata": {},
   "outputs": [
    {
     "name": "stdout",
     "output_type": "stream",
     "text": [
      "The quotient of 4 and 5 is 0.8 and remainder is 4.\n"
     ]
    }
   ],
   "source": [
    "calc(4,5, 'divide')"
   ]
  },
  {
   "cell_type": "code",
   "execution_count": null,
   "id": "f8c21d4f",
   "metadata": {},
   "outputs": [],
   "source": [
    "# Gayatri\n",
    "\n",
    "def calculator(num1,num2,operation='equate'):\n",
    "    \"\"\"This function acts as calculator.It takes 3 arguments\n",
    "    num1:int\n",
    "    num2:int\n",
    "    operation:string\n",
    "    operation takes values add or subtract or multiply or divide or power\n",
    "    by default operation gives output of equate operator\"\"\"\n",
    "    \n",
    "    if operation=='add':\n",
    "        print(f'The sum of {num1} and {num2} is {num1+num2}')\n",
    "        return num1+num2\n",
    "    elif operation=='subtract':\n",
    "        print(f'The difference of {num1} and {num2} is {num1-num2}')\n",
    "        return num1-num2\n",
    "    elif operation=='multiply':\n",
    "        print(f'The multiplication of {num1} and {num2}  is {num1*num2}')\n",
    "        return num1*num2\n",
    "    elif operation=='divide':\n",
    "        print(f'The division of {num1} and {num2}  is {num1/num2}')\n",
    "        return num1/num2\n",
    "    elif operation=='power':\n",
    "        print(f'{num1} to power of {num2}  is {num1**num2}')\n",
    "        return num1**num2\n",
    "    elif operation=='equate':\n",
    "        if num1==num2:\n",
    "            print(f'{num1} and {num2} are equal')\n",
    "            return True\n",
    "        else:\n",
    "            print(f'{num1} and {num2} are not equal')\n",
    "            return False\n",
    "        \n",
    "calculator(4,5, 'power')"
   ]
  },
  {
   "cell_type": "code",
   "execution_count": 167,
   "id": "e42a02f4",
   "metadata": {},
   "outputs": [
    {
     "name": "stdout",
     "output_type": "stream",
     "text": [
      " type  operation which want to complete:\n",
      "+ for addition\n",
      "- for subtraction\n",
      "* for multiplication\n",
      "/ for division\n",
      "+\n",
      "Please enter the first number: 12\n",
      "Please enter the second number: 45\n",
      "12 + 45 = \n",
      "57\n"
     ]
    }
   ],
   "source": [
    "# sonali Jawale22:12\n",
    "def calculate():\n",
    "    operation = input(''' type  operation which want to complete:\n",
    "+ for addition\n",
    "- for subtraction\n",
    "* for multiplication\n",
    "/ for division\n",
    "''')\n",
    "\n",
    "    number_1 = int(input('Please enter the first number: '))\n",
    "    number_2 = int(input('Please enter the second number: '))\n",
    "\n",
    "    if operation == '+':\n",
    "        print('{} + {} = '.format(number_1, number_2))\n",
    "        print(number_1 + number_2)\n",
    "\n",
    "    elif operation == '-':\n",
    "        print('{} - {} = '.format(number_1, number_2))\n",
    "        print(number_1 - number_2)\n",
    "              \n",
    "    elif operation == '*':\n",
    "        print('{} * {} = '.format(number_1, number_2))\n",
    "        print(number_1 * number_2)\n",
    "\n",
    "    elif operation == '/':\n",
    "        print('{} / {} = '.format(number_1, number_2))\n",
    "        print(number_1 / number_2)\n",
    "\n",
    "    else:\n",
    "        print('number1=nmber2')\n",
    "\n",
    "calculate()"
   ]
  }
 ],
 "metadata": {
  "kernelspec": {
   "display_name": "Python 3 (ipykernel)",
   "language": "python",
   "name": "python3"
  },
  "language_info": {
   "codemirror_mode": {
    "name": "ipython",
    "version": 3
   },
   "file_extension": ".py",
   "mimetype": "text/x-python",
   "name": "python",
   "nbconvert_exporter": "python",
   "pygments_lexer": "ipython3",
   "version": "3.9.12"
  }
 },
 "nbformat": 4,
 "nbformat_minor": 5
}

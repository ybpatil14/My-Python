{
 "cells": [
  {
   "cell_type": "markdown",
   "id": "a78a8fba",
   "metadata": {},
   "source": [
    "## Tuples"
   ]
  },
  {
   "cell_type": "markdown",
   "id": "6d9370a2",
   "metadata": {},
   "source": [
    "- First of the actual collection data types\n",
    "- Immutable data type\n",
    "- Can contain any other data types\n",
    "- A tuple can have another tuple inside it, it can have a list, it can have a dict and so on\n",
    "- Faster to work with\n",
    "- syntax : \n",
    "    - case I : for a single value : (value,)\n",
    "    - case II : for multiple values : (value_1, value_2, value_3......value_n)\n",
    "    - case III : empty tuple : tuple()"
   ]
  },
  {
   "cell_type": "markdown",
   "id": "0127832a",
   "metadata": {},
   "source": [
    "#### Instantiating a tuple"
   ]
  },
  {
   "cell_type": "code",
   "execution_count": 13,
   "id": "5de28e3e",
   "metadata": {},
   "outputs": [
    {
     "data": {
      "text/plain": [
       "tuple"
      ]
     },
     "execution_count": 13,
     "metadata": {},
     "output_type": "execute_result"
    }
   ],
   "source": [
    "type((1,))"
   ]
  },
  {
   "cell_type": "code",
   "execution_count": 14,
   "id": "4ee1ac21",
   "metadata": {},
   "outputs": [
    {
     "data": {
      "text/plain": [
       "(1, 2, 3, 'a', 'b', 'Groot')"
      ]
     },
     "execution_count": 14,
     "metadata": {},
     "output_type": "execute_result"
    }
   ],
   "source": [
    "tuple((1,2,3,'a','b','Groot'))"
   ]
  },
  {
   "cell_type": "code",
   "execution_count": 15,
   "id": "e1ebfe3f",
   "metadata": {},
   "outputs": [
    {
     "data": {
      "text/plain": [
       "(1, 2, 3, 'a', 'Groot', (1, 2, 5, 'abc'))"
      ]
     },
     "execution_count": 15,
     "metadata": {},
     "output_type": "execute_result"
    }
   ],
   "source": [
    "tuple((1,2,3,'a','Groot',(1,2,5,'abc')))"
   ]
  },
  {
   "cell_type": "code",
   "execution_count": 18,
   "id": "fc0efbc7",
   "metadata": {},
   "outputs": [
    {
     "data": {
      "text/plain": [
       "tuple"
      ]
     },
     "execution_count": 18,
     "metadata": {},
     "output_type": "execute_result"
    }
   ],
   "source": [
    "name1 = 'saurabh'\n",
    "name2 = 'rishi'\n",
    "name3 = 'groot'\n",
    "\n",
    "type((name1, name2, name3))"
   ]
  },
  {
   "cell_type": "markdown",
   "id": "9f1101c3",
   "metadata": {},
   "source": [
    "#### Type-casting into tuples"
   ]
  },
  {
   "cell_type": "code",
   "execution_count": 7,
   "id": "160d7e5c",
   "metadata": {},
   "outputs": [
    {
     "data": {
      "text/plain": [
       "(1, 2, 3, 4, 5)"
      ]
     },
     "execution_count": 7,
     "metadata": {},
     "output_type": "execute_result"
    }
   ],
   "source": [
    "tuple((1,2,3,4,5))"
   ]
  },
  {
   "cell_type": "code",
   "execution_count": 9,
   "id": "e15fd4d1",
   "metadata": {},
   "outputs": [
    {
     "data": {
      "text/plain": [
       "(1, 2, 3, 4, 5)"
      ]
     },
     "execution_count": 9,
     "metadata": {},
     "output_type": "execute_result"
    }
   ],
   "source": [
    "tuple([1,2,3,4,5])"
   ]
  },
  {
   "cell_type": "code",
   "execution_count": 1,
   "id": "cbf4e7cb",
   "metadata": {},
   "outputs": [
    {
     "name": "stdout",
     "output_type": "stream",
     "text": [
      "I\n",
      " \n",
      "a\n",
      "m\n",
      " \n",
      "G\n",
      "r\n",
      "o\n",
      "o\n",
      "t\n",
      ".\n"
     ]
    }
   ],
   "source": [
    "data = 'I am Groot. I am not your enemy.'\n",
    "for i in data:\n",
    "    print(i)"
   ]
  },
  {
   "cell_type": "raw",
   "id": "b2849861",
   "metadata": {},
   "source": [
    "('I','am','Groot','.','I','am','not','your','enemy','.')"
   ]
  },
  {
   "cell_type": "raw",
   "id": "e2a14087",
   "metadata": {},
   "source": [
    "1 - 'I'\n",
    "2 - 'am'\n",
    "3- 'Groot'\n",
    "4 - '.'\n",
    "5 - 'I'\n",
    "6 - 'am'\n",
    "7 - 'not'\n",
    "8 - 'your'\n",
    "9 - 'enemy'\n",
    "10 - '.'"
   ]
  },
  {
   "cell_type": "code",
   "execution_count": 2,
   "id": "433b27c4",
   "metadata": {},
   "outputs": [
    {
     "ename": "TypeError",
     "evalue": "'str' object does not support item assignment",
     "output_type": "error",
     "traceback": [
      "\u001b[0;31m---------------------------------------------------------------------------\u001b[0m",
      "\u001b[0;31mTypeError\u001b[0m                                 Traceback (most recent call last)",
      "Input \u001b[0;32mIn [2]\u001b[0m, in \u001b[0;36m<cell line: 2>\u001b[0;34m()\u001b[0m\n\u001b[1;32m      1\u001b[0m data \u001b[38;5;241m=\u001b[39m \u001b[38;5;124m'\u001b[39m\u001b[38;5;124mGroot\u001b[39m\u001b[38;5;124m'\u001b[39m\n\u001b[0;32m----> 2\u001b[0m data[\u001b[38;5;241m0\u001b[39m] \u001b[38;5;241m=\u001b[39m \u001b[38;5;124m'\u001b[39m\u001b[38;5;124mF\u001b[39m\u001b[38;5;124m'\u001b[39m\n",
      "\u001b[0;31mTypeError\u001b[0m: 'str' object does not support item assignment"
     ]
    }
   ],
   "source": [
    "data = 'Groot'\n",
    "data[0] = 'F'"
   ]
  },
  {
   "cell_type": "code",
   "execution_count": 3,
   "id": "2edd161c",
   "metadata": {},
   "outputs": [],
   "source": [
    "data1 = data.replace('G','F')"
   ]
  },
  {
   "cell_type": "code",
   "execution_count": 4,
   "id": "e3dec4bd",
   "metadata": {},
   "outputs": [
    {
     "data": {
      "text/plain": [
       "'Froot'"
      ]
     },
     "execution_count": 4,
     "metadata": {},
     "output_type": "execute_result"
    }
   ],
   "source": [
    "data1"
   ]
  },
  {
   "cell_type": "code",
   "execution_count": 5,
   "id": "8eba7271",
   "metadata": {},
   "outputs": [
    {
     "data": {
      "text/plain": [
       "'Groot'"
      ]
     },
     "execution_count": 5,
     "metadata": {},
     "output_type": "execute_result"
    }
   ],
   "source": [
    "data"
   ]
  },
  {
   "cell_type": "markdown",
   "id": "9f7ef41e",
   "metadata": {},
   "source": [
    "#### Question 1"
   ]
  },
  {
   "cell_type": "code",
   "execution_count": null,
   "id": "fbf6d0fd",
   "metadata": {},
   "outputs": [],
   "source": [
    "'Groot'\n",
    "\n",
    "1. ('Groot,') : False\n",
    "2. ('Groot',) : True\n",
    "3. tuple('Groot') : False\n",
    "4. tuple(('Groot')) : False\n",
    "5. tuple(('Groot',))"
   ]
  },
  {
   "cell_type": "code",
   "execution_count": 20,
   "id": "30ab3583",
   "metadata": {},
   "outputs": [
    {
     "data": {
      "text/plain": [
       "str"
      ]
     },
     "execution_count": 20,
     "metadata": {},
     "output_type": "execute_result"
    }
   ],
   "source": [
    "type(('Groot,'))"
   ]
  },
  {
   "cell_type": "code",
   "execution_count": 22,
   "id": "df9bc192",
   "metadata": {},
   "outputs": [
    {
     "data": {
      "text/plain": [
       "tuple"
      ]
     },
     "execution_count": 22,
     "metadata": {},
     "output_type": "execute_result"
    }
   ],
   "source": [
    "type(('Groot',))"
   ]
  },
  {
   "cell_type": "code",
   "execution_count": 23,
   "id": "2c9711e6",
   "metadata": {},
   "outputs": [
    {
     "data": {
      "text/plain": [
       "('G', 'r', 'o', 'o', 't')"
      ]
     },
     "execution_count": 23,
     "metadata": {},
     "output_type": "execute_result"
    }
   ],
   "source": [
    "tuple('Groot')"
   ]
  },
  {
   "cell_type": "code",
   "execution_count": 24,
   "id": "58951bad",
   "metadata": {},
   "outputs": [
    {
     "data": {
      "text/plain": [
       "('G', 'r', 'o', 'o', 't')"
      ]
     },
     "execution_count": 24,
     "metadata": {},
     "output_type": "execute_result"
    }
   ],
   "source": [
    "tuple(('Groot'))"
   ]
  },
  {
   "cell_type": "code",
   "execution_count": 26,
   "id": "1888c378",
   "metadata": {},
   "outputs": [
    {
     "data": {
      "text/plain": [
       "('Groot',)"
      ]
     },
     "execution_count": 26,
     "metadata": {},
     "output_type": "execute_result"
    }
   ],
   "source": [
    "tuple(('Groot',))"
   ]
  },
  {
   "cell_type": "markdown",
   "id": "25954000",
   "metadata": {},
   "source": [
    "#### Question 2"
   ]
  },
  {
   "cell_type": "code",
   "execution_count": 29,
   "id": "2355556b",
   "metadata": {},
   "outputs": [
    {
     "data": {
      "text/plain": [
       "tuple"
      ]
     },
     "execution_count": 29,
     "metadata": {},
     "output_type": "execute_result"
    }
   ],
   "source": [
    "'Groot', 55, 64\n",
    "\n",
    "x = ('Groot', 55, 64)\n",
    "type(x)"
   ]
  },
  {
   "cell_type": "code",
   "execution_count": 32,
   "id": "a4ee769c",
   "metadata": {},
   "outputs": [
    {
     "data": {
      "text/plain": [
       "tuple"
      ]
     },
     "execution_count": 32,
     "metadata": {},
     "output_type": "execute_result"
    }
   ],
   "source": [
    "x = tuple(('Groot',55,64))\n",
    "type(x)"
   ]
  },
  {
   "cell_type": "code",
   "execution_count": 34,
   "id": "b793b116",
   "metadata": {},
   "outputs": [
    {
     "data": {
      "text/plain": [
       "tuple"
      ]
     },
     "execution_count": 34,
     "metadata": {},
     "output_type": "execute_result"
    }
   ],
   "source": [
    "x = tuple(['Groot',55,64])\n",
    "type(x)"
   ]
  },
  {
   "cell_type": "code",
   "execution_count": 35,
   "id": "86b12ca2",
   "metadata": {},
   "outputs": [
    {
     "data": {
      "text/plain": [
       "('Groot', 55, 64)"
      ]
     },
     "execution_count": 35,
     "metadata": {},
     "output_type": "execute_result"
    }
   ],
   "source": [
    "'Groot', 55, 64"
   ]
  },
  {
   "cell_type": "code",
   "execution_count": 36,
   "id": "e0ad14f8",
   "metadata": {},
   "outputs": [],
   "source": [
    "x = 'Groot', 55, 64"
   ]
  },
  {
   "cell_type": "code",
   "execution_count": 37,
   "id": "5ab04c9b",
   "metadata": {},
   "outputs": [
    {
     "data": {
      "text/plain": [
       "('Groot', 55, 64)"
      ]
     },
     "execution_count": 37,
     "metadata": {},
     "output_type": "execute_result"
    }
   ],
   "source": [
    "x"
   ]
  },
  {
   "cell_type": "code",
   "execution_count": 50,
   "id": "3bb5c4a4",
   "metadata": {},
   "outputs": [
    {
     "ename": "ValueError",
     "evalue": "too many values to unpack (expected 2)",
     "output_type": "error",
     "traceback": [
      "\u001b[0;31m---------------------------------------------------------------------------\u001b[0m",
      "\u001b[0;31mValueError\u001b[0m                                Traceback (most recent call last)",
      "Input \u001b[0;32mIn [50]\u001b[0m, in \u001b[0;36m<cell line: 1>\u001b[0;34m()\u001b[0m\n\u001b[0;32m----> 1\u001b[0m x,y \u001b[38;5;241m=\u001b[39m \u001b[38;5;124m'\u001b[39m\u001b[38;5;124mGroot\u001b[39m\u001b[38;5;124m'\u001b[39m, \u001b[38;5;241m55\u001b[39m, \u001b[38;5;241m64\u001b[39m\n",
      "\u001b[0;31mValueError\u001b[0m: too many values to unpack (expected 2)"
     ]
    }
   ],
   "source": [
    "x,y = 'Groot', 55, 64"
   ]
  },
  {
   "cell_type": "code",
   "execution_count": 51,
   "id": "1cf9e161",
   "metadata": {},
   "outputs": [],
   "source": [
    "x,y,z = 'Groot', 55, 64"
   ]
  },
  {
   "cell_type": "code",
   "execution_count": null,
   "id": "c06883b0",
   "metadata": {},
   "outputs": [],
   "source": []
  },
  {
   "cell_type": "code",
   "execution_count": 38,
   "id": "48ba215a",
   "metadata": {},
   "outputs": [
    {
     "data": {
      "text/plain": [
       "(55, 56)"
      ]
     },
     "execution_count": 38,
     "metadata": {},
     "output_type": "execute_result"
    }
   ],
   "source": [
    "x = 55\n",
    "y = 56\n",
    "\n",
    "x,y"
   ]
  },
  {
   "cell_type": "code",
   "execution_count": null,
   "id": "75ef608b",
   "metadata": {},
   "outputs": [],
   "source": []
  },
  {
   "cell_type": "code",
   "execution_count": 40,
   "id": "0f77bd51",
   "metadata": {},
   "outputs": [
    {
     "data": {
      "text/plain": [
       "(1, 2, 3)"
      ]
     },
     "execution_count": 40,
     "metadata": {},
     "output_type": "execute_result"
    }
   ],
   "source": [
    "(1,2,3)"
   ]
  },
  {
   "cell_type": "code",
   "execution_count": 44,
   "id": "8a1d6a96",
   "metadata": {},
   "outputs": [
    {
     "data": {
      "text/plain": [
       "int"
      ]
     },
     "execution_count": 44,
     "metadata": {},
     "output_type": "execute_result"
    }
   ],
   "source": [
    "type((54))"
   ]
  },
  {
   "cell_type": "code",
   "execution_count": 43,
   "id": "97cc2717",
   "metadata": {},
   "outputs": [
    {
     "data": {
      "text/plain": [
       "tuple"
      ]
     },
     "execution_count": 43,
     "metadata": {},
     "output_type": "execute_result"
    }
   ],
   "source": [
    "type((54,))"
   ]
  },
  {
   "cell_type": "code",
   "execution_count": 45,
   "id": "fae26ca1",
   "metadata": {},
   "outputs": [
    {
     "data": {
      "text/plain": [
       "('I', ' ', 'a', 'm', ' ', 'G', 'r', 'o', 'o', 't', '.')"
      ]
     },
     "execution_count": 45,
     "metadata": {},
     "output_type": "execute_result"
    }
   ],
   "source": [
    "data = 'I am Groot.'\n",
    "tuple(data)"
   ]
  },
  {
   "cell_type": "code",
   "execution_count": 46,
   "id": "cc55dee4",
   "metadata": {},
   "outputs": [
    {
     "data": {
      "text/plain": [
       "['I', 'am', 'Groot.']"
      ]
     },
     "execution_count": 46,
     "metadata": {},
     "output_type": "execute_result"
    }
   ],
   "source": [
    "data.split()"
   ]
  },
  {
   "cell_type": "code",
   "execution_count": 48,
   "id": "39c7e229",
   "metadata": {},
   "outputs": [
    {
     "data": {
      "text/plain": [
       "('I', 'am', 'Groot.')"
      ]
     },
     "execution_count": 48,
     "metadata": {},
     "output_type": "execute_result"
    }
   ],
   "source": [
    "tuple(data.split())"
   ]
  },
  {
   "cell_type": "code",
   "execution_count": 47,
   "id": "40b0ab22",
   "metadata": {},
   "outputs": [
    {
     "data": {
      "text/plain": [
       "('1', '2', '3', '4', '5')"
      ]
     },
     "execution_count": 47,
     "metadata": {},
     "output_type": "execute_result"
    }
   ],
   "source": [
    "tuple('12345')"
   ]
  },
  {
   "cell_type": "code",
   "execution_count": 52,
   "id": "76d5af7d",
   "metadata": {},
   "outputs": [
    {
     "name": "stdout",
     "output_type": "stream",
     "text": [
      "range(0, 10)\n"
     ]
    }
   ],
   "source": [
    "x = range(0,10)\n",
    "print(x)"
   ]
  },
  {
   "cell_type": "code",
   "execution_count": 53,
   "id": "2f8953cf",
   "metadata": {
    "scrolled": true
   },
   "outputs": [
    {
     "data": {
      "text/plain": [
       "(0, 1, 2, 3, 4, 5, 6, 7, 8, 9)"
      ]
     },
     "execution_count": 53,
     "metadata": {},
     "output_type": "execute_result"
    }
   ],
   "source": [
    "tuple(x)"
   ]
  },
  {
   "cell_type": "code",
   "execution_count": null,
   "id": "9d045539",
   "metadata": {},
   "outputs": [],
   "source": [
    "x = (1,5,2,4,7,89,9)"
   ]
  },
  {
   "cell_type": "markdown",
   "id": "3966cfe0",
   "metadata": {},
   "source": [
    "### Nested - Tuples"
   ]
  },
  {
   "cell_type": "markdown",
   "id": "460298c8",
   "metadata": {},
   "source": [
    "- Tuples inside tuples"
   ]
  },
  {
   "cell_type": "code",
   "execution_count": 55,
   "id": "62f85b03",
   "metadata": {},
   "outputs": [
    {
     "data": {
      "text/plain": [
       "tuple"
      ]
     },
     "execution_count": 55,
     "metadata": {},
     "output_type": "execute_result"
    }
   ],
   "source": [
    "data = (1,2,3,(4,5,6,(7,8,9)))\n",
    "type(data)"
   ]
  },
  {
   "cell_type": "code",
   "execution_count": 56,
   "id": "04825276",
   "metadata": {},
   "outputs": [
    {
     "data": {
      "text/plain": [
       "4"
      ]
     },
     "execution_count": 56,
     "metadata": {},
     "output_type": "execute_result"
    }
   ],
   "source": [
    "len(data)"
   ]
  },
  {
   "cell_type": "code",
   "execution_count": 57,
   "id": "94e41db8",
   "metadata": {},
   "outputs": [
    {
     "data": {
      "text/plain": [
       "'x'"
      ]
     },
     "execution_count": 57,
     "metadata": {},
     "output_type": "execute_result"
    }
   ],
   "source": [
    "# Assume : 'x' = (4,5,6,(7,8,9)) in data\n",
    "\n",
    "data = (1,2,3,'x')\n",
    "data[3]"
   ]
  },
  {
   "cell_type": "code",
   "execution_count": 58,
   "id": "276d56bf",
   "metadata": {},
   "outputs": [
    {
     "data": {
      "text/plain": [
       "(4, 5, 6, (7, 8, 9))"
      ]
     },
     "execution_count": 58,
     "metadata": {},
     "output_type": "execute_result"
    }
   ],
   "source": [
    "data = (1,2,3,(4,5,6,(7,8,9)))\n",
    "data[3]"
   ]
  },
  {
   "cell_type": "code",
   "execution_count": 59,
   "id": "bde9c6aa",
   "metadata": {},
   "outputs": [
    {
     "data": {
      "text/plain": [
       "6"
      ]
     },
     "execution_count": 59,
     "metadata": {},
     "output_type": "execute_result"
    }
   ],
   "source": [
    "x = (4, 5, 6, (7, 8, 9))\n",
    "x[2]"
   ]
  },
  {
   "cell_type": "code",
   "execution_count": 67,
   "id": "a918e74d",
   "metadata": {},
   "outputs": [
    {
     "data": {
      "text/plain": [
       "9"
      ]
     },
     "execution_count": 67,
     "metadata": {},
     "output_type": "execute_result"
    }
   ],
   "source": [
    "data = (1,2,3,(4,5,6,(7,8,9)))\n",
    "data[3][-1][-1]"
   ]
  },
  {
   "cell_type": "code",
   "execution_count": 73,
   "id": "bcd591c1",
   "metadata": {},
   "outputs": [
    {
     "ename": "IndexError",
     "evalue": "string index out of range",
     "output_type": "error",
     "traceback": [
      "\u001b[0;31m---------------------------------------------------------------------------\u001b[0m",
      "\u001b[0;31mIndexError\u001b[0m                                Traceback (most recent call last)",
      "Input \u001b[0;32mIn [73]\u001b[0m, in \u001b[0;36m<cell line: 3>\u001b[0;34m()\u001b[0m\n\u001b[1;32m      1\u001b[0m data \u001b[38;5;241m=\u001b[39m (\u001b[38;5;241m1\u001b[39m,\u001b[38;5;241m2\u001b[39m,\u001b[38;5;124m'\u001b[39m\u001b[38;5;124m3.abc\u001b[39m\u001b[38;5;124m'\u001b[39m,(\u001b[38;5;241m4\u001b[39m,\u001b[38;5;241m5\u001b[39m,\u001b[38;5;241m6\u001b[39m,(\u001b[38;5;241m7\u001b[39m,\u001b[38;5;241m8\u001b[39m,\u001b[38;5;241m9\u001b[39m)))\n\u001b[0;32m----> 3\u001b[0m \u001b[43mdata\u001b[49m\u001b[43m[\u001b[49m\u001b[38;5;241;43m2\u001b[39;49m\u001b[43m]\u001b[49m\u001b[43m[\u001b[49m\u001b[38;5;241;43m10\u001b[39;49m\u001b[43m]\u001b[49m\n",
      "\u001b[0;31mIndexError\u001b[0m: string index out of range"
     ]
    }
   ],
   "source": [
    "data = (1,2,'3.abc',(4,5,6,(7,8,9)))\n",
    "\n",
    "data[2][10]"
   ]
  },
  {
   "cell_type": "code",
   "execution_count": 65,
   "id": "8fece70b",
   "metadata": {},
   "outputs": [
    {
     "data": {
      "text/plain": [
       "(1, 2, 3, (4, 5, 6, (7, 8, 9)))"
      ]
     },
     "execution_count": 65,
     "metadata": {},
     "output_type": "execute_result"
    }
   ],
   "source": [
    "tuple((1,2,3,(4,5,6,(7,8,9))))"
   ]
  },
  {
   "cell_type": "raw",
   "id": "75a8ddd7",
   "metadata": {},
   "source": [
    ">>> (('a','b','c'),(1,2,3),('.',',','!'))\n",
    ">>> ('a','b','c'),(1,2,3),('.',',','!')"
   ]
  },
  {
   "cell_type": "raw",
   "id": "414b7514",
   "metadata": {},
   "source": [
    ">>> ('a','b','c',(1,2,3,('.',',','!')))\n",
    ">>> 'a','b','c',(1,2,3,('.',',','!'))\n",
    ">>> 1,2,3,('.',',','!')\n",
    ">>> '.',',','!'"
   ]
  },
  {
   "cell_type": "code",
   "execution_count": 81,
   "id": "53093ede",
   "metadata": {},
   "outputs": [
    {
     "data": {
      "text/plain": [
       "('a', 'b', 'c', (1, 2, 3, ('.', ',', '!'), 55, 67), 'Groot')"
      ]
     },
     "execution_count": 81,
     "metadata": {},
     "output_type": "execute_result"
    }
   ],
   "source": [
    "data = ('a','b','c',(1,2,3,('.',',','!'),55,67),'Groot')\n",
    "data"
   ]
  },
  {
   "cell_type": "code",
   "execution_count": 82,
   "id": "2de5ab84",
   "metadata": {},
   "outputs": [
    {
     "data": {
      "text/plain": [
       "5"
      ]
     },
     "execution_count": 82,
     "metadata": {},
     "output_type": "execute_result"
    }
   ],
   "source": [
    "len(data)"
   ]
  },
  {
   "cell_type": "code",
   "execution_count": 83,
   "id": "6533d4c2",
   "metadata": {},
   "outputs": [
    {
     "name": "stdout",
     "output_type": "stream",
     "text": [
      "a\n",
      "b\n",
      "c\n",
      "(1, 2, 3, ('.', ',', '!'), 55, 67)\n",
      "Groot\n"
     ]
    }
   ],
   "source": [
    "for i in data:\n",
    "    print(i)"
   ]
  },
  {
   "cell_type": "code",
   "execution_count": 84,
   "id": "52e77ac2",
   "metadata": {},
   "outputs": [
    {
     "data": {
      "text/plain": [
       "(1, 2, 3, ('.', ',', '!'), 55, 67)"
      ]
     },
     "execution_count": 84,
     "metadata": {},
     "output_type": "execute_result"
    }
   ],
   "source": [
    "data[3]"
   ]
  },
  {
   "cell_type": "code",
   "execution_count": 85,
   "id": "7afdf8f6",
   "metadata": {},
   "outputs": [
    {
     "name": "stdout",
     "output_type": "stream",
     "text": [
      "1\n",
      "2\n",
      "3\n",
      "('.', ',', '!')\n",
      "55\n",
      "67\n"
     ]
    }
   ],
   "source": [
    "for i in data[3]:\n",
    "    print(i)"
   ]
  },
  {
   "cell_type": "code",
   "execution_count": 91,
   "id": "84fa1521",
   "metadata": {},
   "outputs": [
    {
     "data": {
      "text/plain": [
       "','"
      ]
     },
     "execution_count": 91,
     "metadata": {},
     "output_type": "execute_result"
    }
   ],
   "source": [
    "data[3][3][-2]"
   ]
  },
  {
   "cell_type": "code",
   "execution_count": 92,
   "id": "3d699349",
   "metadata": {},
   "outputs": [],
   "source": [
    "data = ('a','b','c',(1,2,3,('.',',','!'),55,67),'Groot')"
   ]
  },
  {
   "cell_type": "code",
   "execution_count": 97,
   "id": "5928af25",
   "metadata": {},
   "outputs": [
    {
     "data": {
      "text/plain": [
       "('c', 'b', 'a')"
      ]
     },
     "execution_count": 97,
     "metadata": {},
     "output_type": "execute_result"
    }
   ],
   "source": [
    "data[2::-1]"
   ]
  },
  {
   "cell_type": "code",
   "execution_count": null,
   "id": "94ed46f0",
   "metadata": {},
   "outputs": [],
   "source": []
  },
  {
   "cell_type": "code",
   "execution_count": 98,
   "id": "80e44bcc",
   "metadata": {},
   "outputs": [
    {
     "data": {
      "text/plain": [
       "(1, 2, 3, 'a', 'b', 'c')"
      ]
     },
     "execution_count": 98,
     "metadata": {},
     "output_type": "execute_result"
    }
   ],
   "source": [
    "a = (1,2,3)\n",
    "b = ('a','b','c')\n",
    "\n",
    "a+b"
   ]
  },
  {
   "cell_type": "code",
   "execution_count": 99,
   "id": "6a0a1960",
   "metadata": {},
   "outputs": [
    {
     "data": {
      "text/plain": [
       "(1, 2, 3)"
      ]
     },
     "execution_count": 99,
     "metadata": {},
     "output_type": "execute_result"
    }
   ],
   "source": [
    "a"
   ]
  },
  {
   "cell_type": "code",
   "execution_count": 100,
   "id": "7d83618c",
   "metadata": {},
   "outputs": [
    {
     "data": {
      "text/plain": [
       "('a', 'b', 'c')"
      ]
     },
     "execution_count": 100,
     "metadata": {},
     "output_type": "execute_result"
    }
   ],
   "source": [
    "b"
   ]
  },
  {
   "cell_type": "code",
   "execution_count": 101,
   "id": "bb626a83",
   "metadata": {},
   "outputs": [
    {
     "data": {
      "text/plain": [
       "(1, 2, 3, 'a', 'b', 'c')"
      ]
     },
     "execution_count": 101,
     "metadata": {},
     "output_type": "execute_result"
    }
   ],
   "source": [
    "c = a+b\n",
    "c"
   ]
  },
  {
   "cell_type": "code",
   "execution_count": 103,
   "id": "99af8daa",
   "metadata": {},
   "outputs": [
    {
     "data": {
      "text/plain": [
       "['__add__',\n",
       " '__class__',\n",
       " '__class_getitem__',\n",
       " '__contains__',\n",
       " '__delattr__',\n",
       " '__dir__',\n",
       " '__doc__',\n",
       " '__eq__',\n",
       " '__format__',\n",
       " '__ge__',\n",
       " '__getattribute__',\n",
       " '__getitem__',\n",
       " '__getnewargs__',\n",
       " '__gt__',\n",
       " '__hash__',\n",
       " '__init__',\n",
       " '__init_subclass__',\n",
       " '__iter__',\n",
       " '__le__',\n",
       " '__len__',\n",
       " '__lt__',\n",
       " '__mul__',\n",
       " '__ne__',\n",
       " '__new__',\n",
       " '__reduce__',\n",
       " '__reduce_ex__',\n",
       " '__repr__',\n",
       " '__rmul__',\n",
       " '__setattr__',\n",
       " '__sizeof__',\n",
       " '__str__',\n",
       " '__subclasshook__',\n",
       " 'count',\n",
       " 'index']"
      ]
     },
     "execution_count": 103,
     "metadata": {},
     "output_type": "execute_result"
    }
   ],
   "source": [
    "dir(c)"
   ]
  },
  {
   "cell_type": "code",
   "execution_count": 104,
   "id": "611000a2",
   "metadata": {},
   "outputs": [
    {
     "data": {
      "text/plain": [
       "64"
      ]
     },
     "execution_count": 104,
     "metadata": {},
     "output_type": "execute_result"
    }
   ],
   "source": [
    "data1 = ('a','b','c',(1,2,3,('.',',','!'),55,67),'Groot')\n",
    "data2 = ['a','b','c',[1,2,3,['.',',','!'],55,67],'Groot']\n",
    "\n",
    "data1.__sizeof__()"
   ]
  },
  {
   "cell_type": "code",
   "execution_count": 105,
   "id": "31fb2300",
   "metadata": {
    "scrolled": true
   },
   "outputs": [
    {
     "data": {
      "text/plain": [
       "80"
      ]
     },
     "execution_count": 105,
     "metadata": {},
     "output_type": "execute_result"
    }
   ],
   "source": [
    "data2.__sizeof__()"
   ]
  },
  {
   "cell_type": "code",
   "execution_count": null,
   "id": "499253c4",
   "metadata": {},
   "outputs": [],
   "source": []
  },
  {
   "cell_type": "code",
   "execution_count": 108,
   "id": "205189d6",
   "metadata": {},
   "outputs": [
    {
     "data": {
      "text/plain": [
       "(0,\n",
       " 2,\n",
       " 4,\n",
       " 6,\n",
       " 8,\n",
       " 10,\n",
       " 12,\n",
       " 14,\n",
       " 16,\n",
       " 18,\n",
       " 20,\n",
       " 22,\n",
       " 24,\n",
       " 26,\n",
       " 28,\n",
       " 30,\n",
       " 32,\n",
       " 34,\n",
       " 36,\n",
       " 38,\n",
       " 40,\n",
       " 42,\n",
       " 44,\n",
       " 46,\n",
       " 48,\n",
       " 50,\n",
       " 52,\n",
       " 54,\n",
       " 56,\n",
       " 58,\n",
       " 60,\n",
       " 62,\n",
       " 64,\n",
       " 66,\n",
       " 68,\n",
       " 70,\n",
       " 72,\n",
       " 74,\n",
       " 76,\n",
       " 78,\n",
       " 80,\n",
       " 82,\n",
       " 84,\n",
       " 86,\n",
       " 88,\n",
       " 90,\n",
       " 92,\n",
       " 94,\n",
       " 96,\n",
       " 98)"
      ]
     },
     "execution_count": 108,
     "metadata": {},
     "output_type": "execute_result"
    }
   ],
   "source": [
    "final = tuple()\n",
    "\n",
    "for number in range(100):\n",
    "    if number%2==0:\n",
    "        final = final.__add__((number,))\n",
    "final"
   ]
  },
  {
   "cell_type": "code",
   "execution_count": 128,
   "id": "ce895657",
   "metadata": {},
   "outputs": [],
   "source": [
    "x = str(final)\n",
    "y = tuple()\n",
    "for i in tuple(x.strip('()').replace(',','').split()):\n",
    "    y = y.__add__((int(i),))"
   ]
  },
  {
   "cell_type": "code",
   "execution_count": 133,
   "id": "2368fae5",
   "metadata": {},
   "outputs": [
    {
     "data": {
      "text/plain": [
       "['0',\n",
       " '2',\n",
       " '4',\n",
       " '6',\n",
       " '8',\n",
       " '10',\n",
       " '12',\n",
       " '14',\n",
       " '16',\n",
       " '18',\n",
       " '20',\n",
       " '22',\n",
       " '24',\n",
       " '26',\n",
       " '28',\n",
       " '30',\n",
       " '32',\n",
       " '34',\n",
       " '36',\n",
       " '38',\n",
       " '40',\n",
       " '42',\n",
       " '44',\n",
       " '46',\n",
       " '48',\n",
       " '50',\n",
       " '52',\n",
       " '54',\n",
       " '56',\n",
       " '58',\n",
       " '60',\n",
       " '62',\n",
       " '64',\n",
       " '66',\n",
       " '68',\n",
       " '70',\n",
       " '72',\n",
       " '74',\n",
       " '76',\n",
       " '78',\n",
       " '80',\n",
       " '82',\n",
       " '84',\n",
       " '86',\n",
       " '88',\n",
       " '90',\n",
       " '92',\n",
       " '94',\n",
       " '96',\n",
       " '98']"
      ]
     },
     "execution_count": 133,
     "metadata": {},
     "output_type": "execute_result"
    }
   ],
   "source": [
    "x.strip('()').split(', ')"
   ]
  },
  {
   "cell_type": "code",
   "execution_count": 112,
   "id": "39c9ebb3",
   "metadata": {},
   "outputs": [
    {
     "data": {
      "text/plain": [
       "'I am Froot'"
      ]
     },
     "execution_count": 112,
     "metadata": {},
     "output_type": "execute_result"
    }
   ],
   "source": [
    "string = 'I am Groot'\n",
    "string.replace('G','F')"
   ]
  },
  {
   "cell_type": "code",
   "execution_count": 113,
   "id": "78521bf0",
   "metadata": {},
   "outputs": [
    {
     "data": {
      "text/plain": [
       "'I am Groot'"
      ]
     },
     "execution_count": 113,
     "metadata": {},
     "output_type": "execute_result"
    }
   ],
   "source": [
    "string"
   ]
  }
 ],
 "metadata": {
  "kernelspec": {
   "display_name": "Python 3 (ipykernel)",
   "language": "python",
   "name": "python3"
  },
  "language_info": {
   "codemirror_mode": {
    "name": "ipython",
    "version": 3
   },
   "file_extension": ".py",
   "mimetype": "text/x-python",
   "name": "python",
   "nbconvert_exporter": "python",
   "pygments_lexer": "ipython3",
   "version": "3.9.13"
  }
 },
 "nbformat": 4,
 "nbformat_minor": 5
}

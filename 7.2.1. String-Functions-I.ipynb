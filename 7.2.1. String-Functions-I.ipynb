{
 "cells": [
  {
   "cell_type": "markdown",
   "id": "67a266b9",
   "metadata": {},
   "source": [
    "# Part 1. Working with cases"
   ]
  },
  {
   "cell_type": "markdown",
   "id": "1a8b7975",
   "metadata": {},
   "source": [
    "- Inbuilt functions : Works on anything in python if it satisfies the criteria\n",
    "    - function_name(object)\n",
    "- datatype specific functions : Works only on the specified data types. ex. string functions would only work on strings and not on integers or floats\n",
    "    - object_name.function_name()"
   ]
  },
  {
   "cell_type": "code",
   "execution_count": 2,
   "id": "dcac9d27",
   "metadata": {},
   "outputs": [],
   "source": [
    "str1 = 'i am groot !'"
   ]
  },
  {
   "cell_type": "markdown",
   "id": "4c7a94e4",
   "metadata": {},
   "source": [
    "# Find out all the available functions for the data-type"
   ]
  },
  {
   "cell_type": "code",
   "execution_count": 3,
   "id": "c52a5913",
   "metadata": {},
   "outputs": [
    {
     "data": {
      "text/plain": [
       "['__add__',\n",
       " '__class__',\n",
       " '__contains__',\n",
       " '__delattr__',\n",
       " '__dir__',\n",
       " '__doc__',\n",
       " '__eq__',\n",
       " '__format__',\n",
       " '__ge__',\n",
       " '__getattribute__',\n",
       " '__getitem__',\n",
       " '__getnewargs__',\n",
       " '__gt__',\n",
       " '__hash__',\n",
       " '__init__',\n",
       " '__init_subclass__',\n",
       " '__iter__',\n",
       " '__le__',\n",
       " '__len__',\n",
       " '__lt__',\n",
       " '__mod__',\n",
       " '__mul__',\n",
       " '__ne__',\n",
       " '__new__',\n",
       " '__reduce__',\n",
       " '__reduce_ex__',\n",
       " '__repr__',\n",
       " '__rmod__',\n",
       " '__rmul__',\n",
       " '__setattr__',\n",
       " '__sizeof__',\n",
       " '__str__',\n",
       " '__subclasshook__',\n",
       " 'capitalize',\n",
       " 'casefold',\n",
       " 'center',\n",
       " 'count',\n",
       " 'encode',\n",
       " 'endswith',\n",
       " 'expandtabs',\n",
       " 'find',\n",
       " 'format',\n",
       " 'format_map',\n",
       " 'index',\n",
       " 'isalnum',\n",
       " 'isalpha',\n",
       " 'isascii',\n",
       " 'isdecimal',\n",
       " 'isdigit',\n",
       " 'isidentifier',\n",
       " 'islower',\n",
       " 'isnumeric',\n",
       " 'isprintable',\n",
       " 'isspace',\n",
       " 'istitle',\n",
       " 'isupper',\n",
       " 'join',\n",
       " 'ljust',\n",
       " 'lower',\n",
       " 'lstrip',\n",
       " 'maketrans',\n",
       " 'partition',\n",
       " 'removeprefix',\n",
       " 'removesuffix',\n",
       " 'replace',\n",
       " 'rfind',\n",
       " 'rindex',\n",
       " 'rjust',\n",
       " 'rpartition',\n",
       " 'rsplit',\n",
       " 'rstrip',\n",
       " 'split',\n",
       " 'splitlines',\n",
       " 'startswith',\n",
       " 'strip',\n",
       " 'swapcase',\n",
       " 'title',\n",
       " 'translate',\n",
       " 'upper',\n",
       " 'zfill']"
      ]
     },
     "execution_count": 3,
     "metadata": {},
     "output_type": "execute_result"
    }
   ],
   "source": [
    "dir(str1)"
   ]
  },
  {
   "cell_type": "markdown",
   "id": "b48f8268",
   "metadata": {},
   "source": [
    "# How to call a function on a data-type"
   ]
  },
  {
   "cell_type": "raw",
   "id": "65ffbae6",
   "metadata": {},
   "source": [
    "1. object_name.function_name(parameters) #parameters = optional\n",
    "- parameters are the additional instructions provided to a function for better control over the output\n",
    "\n",
    "If there are no parameters required, we would write the same statement as \n",
    "\n",
    "2. object_name.function_name()"
   ]
  },
  {
   "cell_type": "code",
   "execution_count": 5,
   "id": "bb1b721d",
   "metadata": {},
   "outputs": [
    {
     "name": "stdout",
     "output_type": "stream",
     "text": [
      "i am groot !\n"
     ]
    }
   ],
   "source": [
    "print(str1)"
   ]
  },
  {
   "cell_type": "markdown",
   "id": "e121a435",
   "metadata": {},
   "source": [
    "# 1. Capitalize"
   ]
  },
  {
   "cell_type": "markdown",
   "id": "8e62cab4",
   "metadata": {},
   "source": [
    "- Capitalizes the first letter of the entire data and keeps everything else lowercased\n",
    "- syntax = object_name.capitalize()"
   ]
  },
  {
   "cell_type": "code",
   "execution_count": 4,
   "id": "1bd327e4",
   "metadata": {},
   "outputs": [
    {
     "data": {
      "text/plain": [
       "'I am groot !'"
      ]
     },
     "execution_count": 4,
     "metadata": {},
     "output_type": "execute_result"
    }
   ],
   "source": [
    "str1.capitalize()"
   ]
  },
  {
   "cell_type": "code",
   "execution_count": null,
   "id": "5061204d",
   "metadata": {},
   "outputs": [],
   "source": []
  },
  {
   "cell_type": "code",
   "execution_count": 6,
   "id": "834a512b",
   "metadata": {},
   "outputs": [
    {
     "data": {
      "text/plain": [
       "'I am groot !'"
      ]
     },
     "execution_count": 6,
     "metadata": {},
     "output_type": "execute_result"
    }
   ],
   "source": [
    "str2 = 'I AM GROOT !'\n",
    "str2.capitalize()"
   ]
  },
  {
   "cell_type": "code",
   "execution_count": 7,
   "id": "adfd4e6e",
   "metadata": {},
   "outputs": [
    {
     "data": {
      "text/plain": [
       "'I am groot !'"
      ]
     },
     "execution_count": 7,
     "metadata": {},
     "output_type": "execute_result"
    }
   ],
   "source": [
    "str3 = 'i AM GroOt !'\n",
    "str3.capitalize()"
   ]
  },
  {
   "cell_type": "code",
   "execution_count": 8,
   "id": "b1c2e65b",
   "metadata": {},
   "outputs": [
    {
     "data": {
      "text/plain": [
       "'I am groot. i am not a plant.'"
      ]
     },
     "execution_count": 8,
     "metadata": {},
     "output_type": "execute_result"
    }
   ],
   "source": [
    "str4 = 'I am gRoot. i am not A plant.'\n",
    "str4.capitalize()"
   ]
  },
  {
   "cell_type": "code",
   "execution_count": 9,
   "id": "a1935242",
   "metadata": {},
   "outputs": [
    {
     "data": {
      "text/plain": [
       "'I am groot, i am thor !'"
      ]
     },
     "execution_count": 9,
     "metadata": {},
     "output_type": "execute_result"
    }
   ],
   "source": [
    "str5 = 'I am grOOt, I am THOR !'\n",
    "str5.capitalize()"
   ]
  },
  {
   "cell_type": "markdown",
   "id": "5ef36f20",
   "metadata": {},
   "source": [
    "# 2. title"
   ]
  },
  {
   "cell_type": "markdown",
   "id": "e6dcb740",
   "metadata": {},
   "source": [
    "- converts the data into title-casse\n",
    "- syntax : object_name.title()"
   ]
  },
  {
   "cell_type": "code",
   "execution_count": 10,
   "id": "3b63ff5e",
   "metadata": {},
   "outputs": [
    {
     "data": {
      "text/plain": [
       "'I Am Groot !'"
      ]
     },
     "execution_count": 10,
     "metadata": {},
     "output_type": "execute_result"
    }
   ],
   "source": [
    "str1 = 'i am groot !'\n",
    "str1.title()"
   ]
  },
  {
   "cell_type": "code",
   "execution_count": 22,
   "id": "7f3def3f",
   "metadata": {},
   "outputs": [
    {
     "data": {
      "text/plain": [
       "\"I Am Thor'S Father\""
      ]
     },
     "execution_count": 22,
     "metadata": {},
     "output_type": "execute_result"
    }
   ],
   "source": [
    "str2 = 'I AM THOR\\'S FATHER'\n",
    "str2.title()"
   ]
  },
  {
   "cell_type": "code",
   "execution_count": 23,
   "id": "4fdd5853",
   "metadata": {},
   "outputs": [
    {
     "data": {
      "text/plain": [
       "\"I Am Thor'S Father\""
      ]
     },
     "execution_count": 23,
     "metadata": {},
     "output_type": "execute_result"
    }
   ],
   "source": [
    "str3 = \"I AM THOR'S FATHER\"\n",
    "str3.title()"
   ]
  },
  {
   "cell_type": "code",
   "execution_count": 26,
   "id": "0077500e",
   "metadata": {},
   "outputs": [
    {
     "data": {
      "text/plain": [
       "'I Am Thor,I I Am Not Groot'"
      ]
     },
     "execution_count": 26,
     "metadata": {},
     "output_type": "execute_result"
    }
   ],
   "source": [
    "str4 = 'I am thor,i I am not groot'\n",
    "str4.title()"
   ]
  },
  {
   "cell_type": "code",
   "execution_count": 27,
   "id": "9d6ec15d",
   "metadata": {},
   "outputs": [
    {
     "data": {
      "text/plain": [
       "'I Am Dead-Pool'"
      ]
     },
     "execution_count": 27,
     "metadata": {},
     "output_type": "execute_result"
    }
   ],
   "source": [
    "str5 = 'I am dead-pool'\n",
    "str5.title()"
   ]
  },
  {
   "cell_type": "markdown",
   "id": "5105d369",
   "metadata": {},
   "source": [
    "# 3. upper"
   ]
  },
  {
   "cell_type": "markdown",
   "id": "749696d9",
   "metadata": {},
   "source": [
    "- converts all the alphabetic letters into uppercases\n",
    "- syntax : object_name.upper()"
   ]
  },
  {
   "cell_type": "code",
   "execution_count": 30,
   "id": "3174dd62",
   "metadata": {},
   "outputs": [
    {
     "data": {
      "text/plain": [
       "'I AM GROOT !'"
      ]
     },
     "execution_count": 30,
     "metadata": {},
     "output_type": "execute_result"
    }
   ],
   "source": [
    "str1 = 'i Am GrOot !'\n",
    "str1.upper()"
   ]
  },
  {
   "cell_type": "code",
   "execution_count": 31,
   "id": "c028003c",
   "metadata": {},
   "outputs": [
    {
     "data": {
      "text/plain": [
       "\"I AM NOT THOR'S FRIEND\""
      ]
     },
     "execution_count": 31,
     "metadata": {},
     "output_type": "execute_result"
    }
   ],
   "source": [
    "str2 = 'i am not thor\\'s friend'\n",
    "str2.upper()"
   ]
  },
  {
   "cell_type": "code",
   "execution_count": 32,
   "id": "053c2d83",
   "metadata": {},
   "outputs": [
    {
     "data": {
      "text/plain": [
       "'I AM GROOT !'"
      ]
     },
     "execution_count": 32,
     "metadata": {},
     "output_type": "execute_result"
    }
   ],
   "source": [
    "str3 = 'I AM GROOT !'\n",
    "str3.upper()"
   ]
  },
  {
   "cell_type": "code",
   "execution_count": 33,
   "id": "c5d7d23a",
   "metadata": {},
   "outputs": [
    {
     "data": {
      "text/plain": [
       "'I AM 55'"
      ]
     },
     "execution_count": 33,
     "metadata": {},
     "output_type": "execute_result"
    }
   ],
   "source": [
    "str4 = 'I am 55'\n",
    "str4.upper()"
   ]
  },
  {
   "cell_type": "markdown",
   "id": "3d5e653f",
   "metadata": {},
   "source": [
    "## Challenge #1"
   ]
  },
  {
   "cell_type": "code",
   "execution_count": 38,
   "id": "87e1d94c",
   "metadata": {},
   "outputs": [
    {
     "data": {
      "text/plain": [
       "'Learn from the best and get placed in a top role by investing in yourself, risk-free. 10+ cutting edge tools and technologies like Python, R, NumPy, SciPy and more. Instructor-led Training. Learn From Home. Video Based e-Learning.'"
      ]
     },
     "execution_count": 38,
     "metadata": {},
     "output_type": "execute_result"
    }
   ],
   "source": [
    "data = '''Learn from the best and get placed in a top role by investing in yourself, risk-free. 10+ cutting edge tools and technologies like Python, R, NumPy, SciPy and more. Instructor-led Training. Learn From Home. Video Based e-Learning.'''\n",
    "data"
   ]
  },
  {
   "cell_type": "code",
   "execution_count": 41,
   "id": "8ee12e77",
   "metadata": {},
   "outputs": [
    {
     "name": "stdout",
     "output_type": "stream",
     "text": [
      "LEARN FROM THE BEST AND GET PLACED IN A TOP ROLE BY INVESTING IN YOURSELF, RISK-FREE. 10+ CUTTING EDGE TOOLS AND TECHNOLOGIES LIKE PYTHON, R, NUMPY, SCIPY AND MORE. INSTRUCTOR-LED TRAINING. LEARN FROM HOME. VIDEO BASED E-LEARNING.\n"
     ]
    }
   ],
   "source": [
    "print(data.title().capitalize().upper())"
   ]
  },
  {
   "cell_type": "code",
   "execution_count": 40,
   "id": "70be3906",
   "metadata": {},
   "outputs": [
    {
     "name": "stdout",
     "output_type": "stream",
     "text": [
      "Learn from the best and get placed in a top role by investing in yourself, risk-free. 10+ cutting edge tools and technologies like Python, R, NumPy, SciPy and more. Instructor-led Training. Learn From Home. Video Based e-Learning.\n"
     ]
    }
   ],
   "source": [
    "print(data)"
   ]
  },
  {
   "cell_type": "code",
   "execution_count": 42,
   "id": "994143e5",
   "metadata": {},
   "outputs": [
    {
     "data": {
      "text/plain": [
       "'LEARN FROM THE BEST AND GET PLACED IN A TOP ROLE BY INVESTING IN YOURSELF, RISK-FREE. 10+ CUTTING EDGE TOOLS AND TECHNOLOGIES LIKE PYTHON, R, NUMPY, SCIPY AND MORE. INSTRUCTOR-LED TRAINING. LEARN FROM HOME. VIDEO BASED E-LEARNING.'"
      ]
     },
     "execution_count": 42,
     "metadata": {},
     "output_type": "execute_result"
    }
   ],
   "source": [
    "temp = data.title()\n",
    "temp = temp.capitalize()\n",
    "temp = temp.upper()\n",
    "print(temp)"
   ]
  },
  {
   "cell_type": "code",
   "execution_count": 43,
   "id": "7af916e3",
   "metadata": {},
   "outputs": [
    {
     "data": {
      "text/plain": [
       "('Learn From The Best And Get Placed In A Top Role By Investing In Yourself, Risk-Free. 10+ Cutting Edge Tools And Technologies Like Python, R, Numpy, Scipy And More. Instructor-Led Training. Learn From Home. Video Based E-Learning.',\n",
       " 'Learn from the best and get placed in a top role by investing in yourself, risk-free. 10+ cutting edge tools and technologies like python, r, numpy, scipy and more. instructor-led training. learn from home. video based e-learning.',\n",
       " 'LEARN FROM THE BEST AND GET PLACED IN A TOP ROLE BY INVESTING IN YOURSELF, RISK-FREE. 10+ CUTTING EDGE TOOLS AND TECHNOLOGIES LIKE PYTHON, R, NUMPY, SCIPY AND MORE. INSTRUCTOR-LED TRAINING. LEARN FROM HOME. VIDEO BASED E-LEARNING.')"
      ]
     },
     "execution_count": 43,
     "metadata": {},
     "output_type": "execute_result"
    }
   ],
   "source": [
    "data_t, data_c, data_u = data.title(), data.capitalize(), data.upper()\n",
    "data_t, data_c, data_u"
   ]
  },
  {
   "cell_type": "markdown",
   "id": "cd1688aa",
   "metadata": {},
   "source": [
    "## Challenge #2"
   ]
  },
  {
   "cell_type": "code",
   "execution_count": 45,
   "id": "bc79ec92",
   "metadata": {},
   "outputs": [
    {
     "ename": "AttributeError",
     "evalue": "'str' object has no attribute '__abs__'",
     "output_type": "error",
     "traceback": [
      "\u001b[0;31m---------------------------------------------------------------------------\u001b[0m",
      "\u001b[0;31mAttributeError\u001b[0m                            Traceback (most recent call last)",
      "Input \u001b[0;32mIn [45]\u001b[0m, in \u001b[0;36m<cell line: 2>\u001b[0;34m()\u001b[0m\n\u001b[1;32m      1\u001b[0m data \u001b[38;5;241m=\u001b[39m \u001b[38;5;124m'\u001b[39m\u001b[38;5;124m55.04356\u001b[39m\u001b[38;5;124m'\u001b[39m\n\u001b[0;32m----> 2\u001b[0m \u001b[38;5;28mfloat\u001b[39m(\u001b[43mdata\u001b[49m\u001b[38;5;241;43m.\u001b[39;49m\u001b[43mupper\u001b[49m\u001b[43m(\u001b[49m\u001b[43m)\u001b[49m\u001b[38;5;241;43m.\u001b[39;49m\u001b[38;5;21;43m__abs__\u001b[39;49m())\n",
      "\u001b[0;31mAttributeError\u001b[0m: 'str' object has no attribute '__abs__'"
     ]
    }
   ],
   "source": [
    "data = '55.04356'\n",
    "float(data.upper().__abs__())"
   ]
  },
  {
   "cell_type": "code",
   "execution_count": 46,
   "id": "894dece1",
   "metadata": {},
   "outputs": [
    {
     "data": {
      "text/plain": [
       "55.04356"
      ]
     },
     "execution_count": 46,
     "metadata": {},
     "output_type": "execute_result"
    }
   ],
   "source": [
    "data = '55.04356'\n",
    "float(data.upper()).__abs__()"
   ]
  },
  {
   "cell_type": "code",
   "execution_count": 48,
   "id": "9934007c",
   "metadata": {},
   "outputs": [
    {
     "data": {
      "text/plain": [
       "'55.04356'"
      ]
     },
     "execution_count": 48,
     "metadata": {},
     "output_type": "execute_result"
    }
   ],
   "source": [
    "data"
   ]
  },
  {
   "cell_type": "markdown",
   "id": "90cd86b8",
   "metadata": {},
   "source": [
    "# 4. lower"
   ]
  },
  {
   "cell_type": "markdown",
   "id": "79257619",
   "metadata": {},
   "source": [
    "- converts all thge characters into lowercase\n",
    "- syntax : object_name.lower()"
   ]
  },
  {
   "cell_type": "code",
   "execution_count": 49,
   "id": "85bd574d",
   "metadata": {},
   "outputs": [
    {
     "data": {
      "text/plain": [
       "'i am groot !'"
      ]
     },
     "execution_count": 49,
     "metadata": {},
     "output_type": "execute_result"
    }
   ],
   "source": [
    "data = 'I am GrOot !'\n",
    "data.lower()"
   ]
  },
  {
   "cell_type": "code",
   "execution_count": 50,
   "id": "37c676d2",
   "metadata": {},
   "outputs": [
    {
     "data": {
      "text/plain": [
       "'I am not in paris'"
      ]
     },
     "execution_count": 50,
     "metadata": {},
     "output_type": "execute_result"
    }
   ],
   "source": [
    "data = 'I am not in Paris'\n",
    "data.lower().capitalize()"
   ]
  },
  {
   "cell_type": "code",
   "execution_count": 56,
   "id": "d2da72b4",
   "metadata": {},
   "outputs": [
    {
     "data": {
      "text/plain": [
       "\"i am 55 years old. but i feel like 17. {it}'s just psychology\""
      ]
     },
     "execution_count": 56,
     "metadata": {},
     "output_type": "execute_result"
    }
   ],
   "source": [
    "data = 'I am 55 years old. But i feel like 17. It\\'s just psychology'\n",
    "data.lower()"
   ]
  },
  {
   "cell_type": "markdown",
   "id": "087bbc6f",
   "metadata": {},
   "source": [
    "# 5. casefold"
   ]
  },
  {
   "cell_type": "markdown",
   "id": "61f84ca0",
   "metadata": {},
   "source": [
    "- lowercases data aggressively\n",
    "- syntax : object_name.casefold()"
   ]
  },
  {
   "cell_type": "code",
   "execution_count": 60,
   "id": "e76f9196",
   "metadata": {},
   "outputs": [
    {
     "data": {
      "text/plain": [
       "'süßer friede'"
      ]
     },
     "execution_count": 60,
     "metadata": {},
     "output_type": "execute_result"
    }
   ],
   "source": [
    "data = 'Süßer Friede'\n",
    "data.lower()"
   ]
  },
  {
   "cell_type": "code",
   "execution_count": 61,
   "id": "e63c1e21",
   "metadata": {},
   "outputs": [
    {
     "data": {
      "text/plain": [
       "'süsser friede'"
      ]
     },
     "execution_count": 61,
     "metadata": {},
     "output_type": "execute_result"
    }
   ],
   "source": [
    "data.casefold()"
   ]
  },
  {
   "cell_type": "markdown",
   "id": "95612d91",
   "metadata": {},
   "source": [
    "# 6. swapcase"
   ]
  },
  {
   "cell_type": "code",
   "execution_count": 62,
   "id": "f1ea6f46",
   "metadata": {},
   "outputs": [
    {
     "data": {
      "text/plain": [
       "'I aM gROoT !'"
      ]
     },
     "execution_count": 62,
     "metadata": {},
     "output_type": "execute_result"
    }
   ],
   "source": [
    "data = 'i Am GroOt !'\n",
    "data.swapcase()"
   ]
  },
  {
   "cell_type": "code",
   "execution_count": 63,
   "id": "196ac784",
   "metadata": {},
   "outputs": [
    {
     "data": {
      "text/plain": [
       "'i am groot !'"
      ]
     },
     "execution_count": 63,
     "metadata": {},
     "output_type": "execute_result"
    }
   ],
   "source": [
    "data = 'I AM GROOT !'\n",
    "data.swapcase()"
   ]
  },
  {
   "cell_type": "markdown",
   "id": "1ad5fd12",
   "metadata": {},
   "source": [
    "## Challenge #3"
   ]
  },
  {
   "cell_type": "code",
   "execution_count": 64,
   "id": "9b23d9f6",
   "metadata": {},
   "outputs": [
    {
     "data": {
      "text/plain": [
       "'Learn from the best and get placed in a top role by investing in yourself, risk-free. 10+ cutting edge tools and technologies like Python, R, NumPy, SciPy and more. Instructor-led Training. Learn From Home. Video Based e-Learning.'"
      ]
     },
     "execution_count": 64,
     "metadata": {},
     "output_type": "execute_result"
    }
   ],
   "source": [
    "data = '''Learn from the best and get placed in a top role by investing in yourself, risk-free. 10+ cutting edge tools and technologies like Python, R, NumPy, SciPy and more. Instructor-led Training. Learn From Home. Video Based e-Learning.'''\n",
    "data"
   ]
  },
  {
   "cell_type": "code",
   "execution_count": 65,
   "id": "e7d9de2f",
   "metadata": {},
   "outputs": [
    {
     "data": {
      "text/plain": [
       "'lEARN fROM tHE bEST aND gET pLACED iN a tOP rOLE bY iNVESTING iN yOURSELF, rISK-fREE. 10+ cUTTING eDGE tOOLS aND tECHNOLOGIES lIKE pYTHON, r, nUMPY, sCIPY aND mORE. iNSTRUCTOR-lED tRAINING. lEARN fROM hOME. vIDEO bASED e-lEARNING.'"
      ]
     },
     "execution_count": 65,
     "metadata": {},
     "output_type": "execute_result"
    }
   ],
   "source": [
    "data.title().swapcase()"
   ]
  }
 ],
 "metadata": {
  "kernelspec": {
   "display_name": "Python 3 (ipykernel)",
   "language": "python",
   "name": "python3"
  },
  "language_info": {
   "codemirror_mode": {
    "name": "ipython",
    "version": 3
   },
   "file_extension": ".py",
   "mimetype": "text/x-python",
   "name": "python",
   "nbconvert_exporter": "python",
   "pygments_lexer": "ipython3",
   "version": "3.9.12"
  }
 },
 "nbformat": 4,
 "nbformat_minor": 5
}

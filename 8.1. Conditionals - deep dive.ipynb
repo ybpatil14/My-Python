{
 "cells": [
  {
   "cell_type": "raw",
   "id": "23eca3d8",
   "metadata": {},
   "source": [
    "- if-else statements:"
   ]
  },
  {
   "cell_type": "raw",
   "id": "7f840568",
   "metadata": {},
   "source": [
    "if condition:\n",
    "    code\n",
    "else: {would never have any conditions}"
   ]
  },
  {
   "cell_type": "markdown",
   "id": "fa719b69",
   "metadata": {},
   "source": [
    "### Conditions for using if-else statements\n",
    "\n",
    "- if can exist alone; It can exist independently\n",
    "- There can be any number of if statements\n",
    "- . \n",
    "- else statements cannot exist independently\n",
    "- there can only be one else statement for an if statement"
   ]
  },
  {
   "cell_type": "code",
   "execution_count": 1,
   "id": "41f709ff",
   "metadata": {},
   "outputs": [
    {
     "name": "stdout",
     "output_type": "stream",
     "text": [
      "The number is even\n"
     ]
    }
   ],
   "source": [
    "number = 56\n",
    "\n",
    "if number%2==0:\n",
    "    print('The number is even')\n",
    "else:\n",
    "    print('The number is odd')"
   ]
  },
  {
   "cell_type": "code",
   "execution_count": 1,
   "id": "4074eece",
   "metadata": {},
   "outputs": [
    {
     "name": "stdout",
     "output_type": "stream",
     "text": [
      "the number is not divisible by 3\n"
     ]
    }
   ],
   "source": [
    "number =56\n",
    "if number%3==0:\n",
    "    print('the number is divisible by 3')\n",
    "else:\n",
    "    print('the number is not divisible by 3')"
   ]
  },
  {
   "cell_type": "code",
   "execution_count": 2,
   "id": "c1d738b6",
   "metadata": {},
   "outputs": [],
   "source": [
    "statement = 'I am Groot'\n",
    "word = 'Thor'\n",
    "\n",
    "if statement.lower().__contains__(word.lower()):\n",
    "    print(f'{word} is present in the statement')"
   ]
  },
  {
   "cell_type": "code",
   "execution_count": null,
   "id": "dfd71965",
   "metadata": {},
   "outputs": [],
   "source": [
    "statement = 'i am groot'\n",
    "data = 'thor'\n",
    "if statement.contains(data):\n",
    "    print('the statement is present in data')\n",
    "else:\n",
    "    print('the data is not present in statement')\n",
    "    "
   ]
  },
  {
   "cell_type": "code",
   "execution_count": 5,
   "id": "b92923c3",
   "metadata": {},
   "outputs": [
    {
     "name": "stdout",
     "output_type": "stream",
     "text": [
      "groot is present in the statement\n"
     ]
    }
   ],
   "source": [
    "statement = 'I am Groot'\n",
    "word = 'groot'\n",
    "\n",
    "if statement.lower().__contains__(word.lower()):\n",
    "    print(f'{word} is present in the statement')\n",
    "else:\n",
    "    print(f'{word} is not present in the statement')"
   ]
  },
  {
   "cell_type": "code",
   "execution_count": null,
   "id": "c1b1361c",
   "metadata": {},
   "outputs": [],
   "source": []
  },
  {
   "cell_type": "code",
   "execution_count": null,
   "id": "b0bb87d3",
   "metadata": {},
   "outputs": [],
   "source": [
    "# Problem statement : print \"The color is red\" if the given color is 'Red'\n",
    "\n",
    "color = 'red'\n",
    "\n",
    "if color=='red':\n",
    "    print('The color is red !')"
   ]
  },
  {
   "cell_type": "code",
   "execution_count": null,
   "id": "951a1478",
   "metadata": {},
   "outputs": [],
   "source": []
  },
  {
   "cell_type": "code",
   "execution_count": 7,
   "id": "fa2bbf95",
   "metadata": {},
   "outputs": [
    {
     "name": "stdout",
     "output_type": "stream",
     "text": [
      "Raise a request to the principal\n"
     ]
    }
   ],
   "source": [
    "# Problem statement : Given the number of students in the class. If the number of students \n",
    "#     exceeds 55, raise a request to the Principal stating that you will need more resourses, \n",
    "#     otherwise just start the session.\n",
    "    \n",
    "num_students = 344\n",
    "\n",
    "if num_students > 55:\n",
    "    print('Raise a request to the principal')\n",
    "else:\n",
    "    print('Start the session')"
   ]
  },
  {
   "cell_type": "code",
   "execution_count": null,
   "id": "70a58d9b",
   "metadata": {},
   "outputs": [],
   "source": []
  },
  {
   "cell_type": "raw",
   "id": "8e7edaf9",
   "metadata": {},
   "source": [
    "Left syntax would update the variable values as well\n",
    "\n",
    "points += 5 : points = points + 5\n",
    "points -= 5 : points = points - 5\n",
    "points *= 5 : points = points * 5\n",
    "points /= 5 : points = points / 5"
   ]
  },
  {
   "cell_type": "code",
   "execution_count": 16,
   "id": "4d714edd",
   "metadata": {},
   "outputs": [],
   "source": [
    "# Problem statement : there are black, green, blue and red balls in a bag. \n",
    "#     If someone pulls out a red ball, he gets 5 points. \n",
    "#     If someone pulls out a green ball, they will get 3 points. \n",
    "#     If someone pulls out a blue ball, they will get 1 point,\n",
    "#     if someone pulls out a black ball, they will be out of the game.\n",
    "    \n",
    "ball_color = 'yellow'\n",
    "points = 0\n",
    "\n",
    "if ball_color == 'red':\n",
    "    points += 5\n",
    "    print('red')\n",
    "\n",
    "if ball_color == 'green':\n",
    "    points += 3\n",
    "    print('green')\n",
    "    \n",
    "if ball_color == 'blue':\n",
    "    points += 1 \n",
    "    print('blue')\n",
    "\n",
    "if ball_color == 'black':\n",
    "    print('The player is disqualified !')"
   ]
  },
  {
   "cell_type": "code",
   "execution_count": null,
   "id": "75ba0f83",
   "metadata": {},
   "outputs": [],
   "source": []
  },
  {
   "cell_type": "code",
   "execution_count": null,
   "id": "d2da90e9",
   "metadata": {},
   "outputs": [],
   "source": [
    "if statement1\n",
    "\n",
    "if statement2\n",
    "else"
   ]
  },
  {
   "cell_type": "code",
   "execution_count": null,
   "id": "9c80dc70",
   "metadata": {},
   "outputs": [],
   "source": []
  },
  {
   "cell_type": "code",
   "execution_count": 10,
   "id": "23da6661",
   "metadata": {},
   "outputs": [
    {
     "name": "stdout",
     "output_type": "stream",
     "text": [
      "a\n",
      "b\n",
      "c\n",
      "d\n"
     ]
    }
   ],
   "source": [
    "a, b, c, d = 10, 20, 30, 40\n",
    "\n",
    "number = 5\n",
    "\n",
    "if a%number==0:\n",
    "    print('a')\n",
    "if b%number==0:\n",
    "    print('b')\n",
    "if c%number==0:\n",
    "    print('c')\n",
    "if d%number == 0:\n",
    "    print('d')"
   ]
  },
  {
   "cell_type": "code",
   "execution_count": 11,
   "id": "a8aa896d",
   "metadata": {},
   "outputs": [
    {
     "name": "stdout",
     "output_type": "stream",
     "text": [
      "a\n"
     ]
    }
   ],
   "source": [
    "if a%number==0:\n",
    "    print('a')\n",
    "elif b%number==0:\n",
    "    print('b')\n",
    "elif c%number==0:\n",
    "    print('c')\n",
    "elif d%number == 0:\n",
    "    print('d')"
   ]
  },
  {
   "cell_type": "code",
   "execution_count": 19,
   "id": "64d7a296",
   "metadata": {},
   "outputs": [
    {
     "name": "stdout",
     "output_type": "stream",
     "text": [
      "Chalo kerela hi !\n"
     ]
    }
   ],
   "source": [
    "goa = 1\n",
    "andaman = 1\n",
    "\n",
    "if goa>=3:\n",
    "    print('Goa is on')\n",
    "elif andaman>=3:\n",
    "    print('Andaman is on')\n",
    "else:\n",
    "    print('Chalo kerela hi !')"
   ]
  },
  {
   "cell_type": "code",
   "execution_count": 3,
   "id": "e32544cf",
   "metadata": {},
   "outputs": [
    {
     "name": "stdout",
     "output_type": "stream",
     "text": [
      "chalo kerla hi\n"
     ]
    }
   ],
   "source": [
    "goa =1\n",
    "andaman =1\n",
    "if goa>=3:\n",
    "    print('goa is on')\n",
    "elif andaman>=3:\n",
    "    print('andaman is on')\n",
    "else:\n",
    "    print('chalo kerla hi')"
   ]
  },
  {
   "cell_type": "markdown",
   "id": "2ccbd6b1",
   "metadata": {},
   "source": [
    "- Multiple if statements would give you the 'AND' situation\n",
    "- if-elif-else statements would give you either-or situations"
   ]
  },
  {
   "cell_type": "code",
   "execution_count": 36,
   "id": "881eaf98",
   "metadata": {},
   "outputs": [
    {
     "name": "stdout",
     "output_type": "stream",
     "text": [
      "The person is a Teenager !\n",
      "The person is an Adult !\n"
     ]
    }
   ],
   "source": [
    "# Problem statement : if the age of the person is below 10; print - Child\n",
    "#     if the age of the person is between 11-20; print - teenager\n",
    "#     if the age of the person is between 20-50 ; print - adult\n",
    "#     if the age of the person is greater than 50; print - old\n",
    "\n",
    "age = 20\n",
    "\n",
    "if age<=10:\n",
    "    print('The person is a Kid !')\n",
    "elif 11<=age<=20:\n",
    "    print('The person is a Teenager !')\n",
    "elif 20<=age<50:\n",
    "    print('The person is an Adult !')\n",
    "else:\n",
    "    print('Otherwise')"
   ]
  },
  {
   "cell_type": "code",
   "execution_count": null,
   "id": "9a69301f",
   "metadata": {},
   "outputs": [],
   "source": []
  },
  {
   "cell_type": "code",
   "execution_count": 66,
   "id": "b9b53204",
   "metadata": {},
   "outputs": [
    {
     "name": "stdout",
     "output_type": "stream",
     "text": [
      "the word starting with g\n"
     ]
    }
   ],
   "source": [
    "# Problem statement : Find out if the word starts with a vowel\n",
    "# If it is not starting with a vowel; it should print the first letter\n",
    "\n",
    "word= \"greece\"\n",
    "if word.startswith('a'):\n",
    "    print('The word starts with a vowel !')\n",
    "elif word.startswith('e'):\n",
    "    print('The word starts with a vowel !')\n",
    "elif word.startswith('i'):\n",
    "    print('The word starts with a vowel !')\n",
    "elif word.startswith('o'):\n",
    "    print('The word starts with a vowel !')\n",
    "elif word.startswith('u'):\n",
    "    print('The word starts with a vowel !')\n",
    "else:\n",
    "    print(\"the word starting with\", word[0])"
   ]
  },
  {
   "cell_type": "code",
   "execution_count": 78,
   "id": "87dd74f5",
   "metadata": {},
   "outputs": [
    {
     "name": "stdout",
     "output_type": "stream",
     "text": [
      "word start with consonant G\n"
     ]
    }
   ],
   "source": [
    "word ='Greece'\n",
    "vowel= 'aeiou'\n",
    "if word[0].lower() in vowel:\n",
    "    print('word start with vowel',word[0])\n",
    "else:\n",
    "    print('word start with consonant',word[0])"
   ]
  },
  {
   "cell_type": "markdown",
   "id": "f341fe7a",
   "metadata": {},
   "source": [
    "# Summary"
   ]
  },
  {
   "cell_type": "markdown",
   "id": "4fe24dab",
   "metadata": {},
   "source": [
    "1. if\n",
    "    - if condition:\n",
    "        action\n",
    "        \n",
    "2. (if-else)\n",
    "    - if condition:\n",
    "        action1\n",
    "      else:\n",
    "        action2\n",
    "    - action1 would be triggerred if the if condition passes action2 would be triggered if the if condition fails\n",
    "        \n",
    "3. (if-elif-elif.....-else)\n",
    "    - if condition:\n",
    "        action1\n",
    "    - elif condition:\n",
    "        action2\n",
    "    - else:\n",
    "        action3\n",
    "    - action 1 would be triggerred if the if statememnt passes\n",
    "    - action2 would be triggered if the if statement fails but the elif statement passes\n",
    "    - action3 would be triggerred if everything fails\n",
    "\n",
    "4. if-if-if....-(if-else)\n",
    "- every if condition would be run\n",
    "- the else condition would be applicable for the last if condition only"
   ]
  }
 ],
 "metadata": {
  "kernelspec": {
   "display_name": "Python 3 (ipykernel)",
   "language": "python",
   "name": "python3"
  },
  "language_info": {
   "codemirror_mode": {
    "name": "ipython",
    "version": 3
   },
   "file_extension": ".py",
   "mimetype": "text/x-python",
   "name": "python",
   "nbconvert_exporter": "python",
   "pygments_lexer": "ipython3",
   "version": "3.9.12"
  }
 },
 "nbformat": 4,
 "nbformat_minor": 5
}

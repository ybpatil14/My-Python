{
 "cells": [
  {
   "cell_type": "markdown",
   "id": "8d3d0adb",
   "metadata": {},
   "source": [
    "### Comprehensions"
   ]
  },
  {
   "cell_type": "markdown",
   "id": "5d9685b0",
   "metadata": {},
   "source": [
    "- compressed codes/iterations\n",
    "    - list comprehensions {list data-type}\n",
    "    - dictionary comprehensions {dict data type}\n",
    "    - set comprehensions {set data type}\n",
    "    - generator objects {tuple data type}"
   ]
  },
  {
   "cell_type": "markdown",
   "id": "e385343c",
   "metadata": {},
   "source": [
    "### 1. list comprehension:\n",
    "```python\n",
    "[actions for temp_var in iterable]\n",
    "```"
   ]
  },
  {
   "cell_type": "markdown",
   "id": "7f3b32ec",
   "metadata": {},
   "source": [
    "#### 1. Without conditions"
   ]
  },
  {
   "cell_type": "markdown",
   "id": "bce3066f",
   "metadata": {},
   "source": [
    "syntax : [temp_var for temp_var in iterable]"
   ]
  },
  {
   "cell_type": "markdown",
   "id": "d09ff82f",
   "metadata": {},
   "source": [
    "#### Traditional approach"
   ]
  },
  {
   "cell_type": "code",
   "execution_count": 5,
   "id": "e35c9897",
   "metadata": {},
   "outputs": [
    {
     "name": "stdout",
     "output_type": "stream",
     "text": [
      "Enter the limit : 10\n",
      "[0, 1, 2, 3, 4, 5, 6, 7, 8, 9]\n"
     ]
    }
   ],
   "source": [
    "numbers_till_a_limit = []\n",
    "number = int(input('Enter the limit : '))\n",
    "\n",
    "for num in range(number):\n",
    "    numbers_till_a_limit.append(num)\n",
    "        \n",
    "print(numbers_till_a_limit)"
   ]
  },
  {
   "cell_type": "markdown",
   "id": "8713aa8e",
   "metadata": {},
   "source": [
    "#### list comprehension approach"
   ]
  },
  {
   "cell_type": "code",
   "execution_count": 6,
   "id": "3af60f2c",
   "metadata": {},
   "outputs": [
    {
     "name": "stdout",
     "output_type": "stream",
     "text": [
      "[0, 1, 2, 3, 4, 5, 6, 7, 8, 9]\n"
     ]
    }
   ],
   "source": [
    "my_list = [i for i in range(10)]\n",
    "print(my_list)"
   ]
  },
  {
   "cell_type": "markdown",
   "id": "9161c5a3",
   "metadata": {},
   "source": [
    "#### 2. With only if condition"
   ]
  },
  {
   "cell_type": "markdown",
   "id": "e8891107",
   "metadata": {},
   "source": [
    "syntax : [temp_var for temp_var in iterable condition]"
   ]
  },
  {
   "cell_type": "markdown",
   "id": "421839ba",
   "metadata": {},
   "source": [
    "#### Traditional approach"
   ]
  },
  {
   "cell_type": "code",
   "execution_count": 7,
   "id": "0caf0e8a",
   "metadata": {},
   "outputs": [
    {
     "name": "stdout",
     "output_type": "stream",
     "text": [
      "Enter the last limit : 50\n",
      "[0, 5, 10, 15, 20, 25, 30, 35, 40, 45, 50]\n"
     ]
    }
   ],
   "source": [
    "multiples_of_5 = []\n",
    "number = int(input('Enter the last limit : '))\n",
    "\n",
    "for num in range(number+1):\n",
    "    if num%5==0:\n",
    "        multiples_of_5.append(num)\n",
    "        \n",
    "print(multiples_of_5)"
   ]
  },
  {
   "cell_type": "markdown",
   "id": "ef5bf682",
   "metadata": {},
   "source": [
    "#### list comprehension approach"
   ]
  },
  {
   "cell_type": "code",
   "execution_count": 9,
   "id": "f49b73aa",
   "metadata": {},
   "outputs": [
    {
     "name": "stdout",
     "output_type": "stream",
     "text": [
      "Enter the last limit : 50\n",
      "[0, 5, 10, 15, 20, 25, 30, 35, 40, 45, 50]\n"
     ]
    }
   ],
   "source": [
    "number = int(input('Enter the last limit : '))\n",
    "\n",
    "my_list = [num for num in range(number+1) if num%5==0]\n",
    "\n",
    "print(my_list)"
   ]
  },
  {
   "cell_type": "markdown",
   "id": "ad856bfa",
   "metadata": {},
   "source": [
    "#### 3. When we have operations for `if` and `else` both"
   ]
  },
  {
   "cell_type": "markdown",
   "id": "5817f9ca",
   "metadata": {},
   "source": [
    "Given a range of numbers:\n",
    "    - If the number is divisible by 3 : spell `foo`\n",
    "    - else : return the number itself"
   ]
  },
  {
   "cell_type": "markdown",
   "id": "82ff790b",
   "metadata": {},
   "source": [
    "syntax : [`output if the if condition is satisfied` `if condition` `else keyword` `output if the else condition is satisfied` for temp_var in iterable]"
   ]
  },
  {
   "cell_type": "markdown",
   "id": "f0adddba",
   "metadata": {},
   "source": [
    "#### Traditional approach"
   ]
  },
  {
   "cell_type": "code",
   "execution_count": 10,
   "id": "9295cdc7",
   "metadata": {},
   "outputs": [
    {
     "name": "stdout",
     "output_type": "stream",
     "text": [
      "Enter the limit : 50\n",
      "['foo', 1, 2, 'foo', 4, 5, 'foo', 7, 8, 'foo', 10, 11, 'foo', 13, 14, 'foo', 16, 17, 'foo', 19, 20, 'foo', 22, 23, 'foo', 25, 26, 'foo', 28, 29, 'foo', 31, 32, 'foo', 34, 35, 'foo', 37, 38, 'foo', 40, 41, 'foo', 43, 44, 'foo', 46, 47, 'foo', 49, 50]\n"
     ]
    }
   ],
   "source": [
    "final_list = []\n",
    "number = int(input('Enter the limit : '))\n",
    "\n",
    "for num in range(number+1):\n",
    "    if num%3 == 0:\n",
    "        final_list.append('foo')\n",
    "    else:\n",
    "        final_list.append(num)\n",
    "        \n",
    "print(final_list)"
   ]
  },
  {
   "cell_type": "markdown",
   "id": "1b4855ea",
   "metadata": {},
   "source": [
    "#### List comprehension approach"
   ]
  },
  {
   "cell_type": "code",
   "execution_count": 12,
   "id": "278b7168",
   "metadata": {},
   "outputs": [
    {
     "name": "stdout",
     "output_type": "stream",
     "text": [
      "Enter the limit : 50\n",
      "['foo', 1, 2, 'foo', 4, 5, 'foo', 7, 8, 'foo', 10, 11, 'foo', 13, 14, 'foo', 16, 17, 'foo', 19, 20, 'foo', 22, 23, 'foo', 25, 26, 'foo', 28, 29, 'foo', 31, 32, 'foo', 34, 35, 'foo', 37, 38, 'foo', 40, 41, 'foo', 43, 44, 'foo', 46, 47, 'foo', 49, 50]\n"
     ]
    }
   ],
   "source": [
    "number = int(input('Enter the limit : '))\n",
    "\n",
    "final_list = [num if not num%3==0 else 'foo' for num in range(number+1)]\n",
    "\n",
    "print(final_list)"
   ]
  },
  {
   "cell_type": "markdown",
   "id": "eea72a99",
   "metadata": {},
   "source": [
    "### 2. Dictionary comprehensions\n",
    "\n",
    "- returns : dictionary\n",
    "\n",
    "```python\n",
    "{generate_key_using_temp_var:generate_value_using_temp_var for temp_var in iterable}\n",
    "```"
   ]
  },
  {
   "cell_type": "raw",
   "id": "6bbc1b00",
   "metadata": {},
   "source": [
    "Problem #1:\n",
    "Create a dictionary where the keys would be numbers and their values would be their respective cubes"
   ]
  },
  {
   "cell_type": "markdown",
   "id": "cc063dca",
   "metadata": {},
   "source": [
    "#### Traditional approach"
   ]
  },
  {
   "cell_type": "code",
   "execution_count": 32,
   "id": "caf4b3aa",
   "metadata": {},
   "outputs": [
    {
     "name": "stdout",
     "output_type": "stream",
     "text": [
      "Enter the limit : 10\n",
      "<class 'dict'>\n",
      "{1: 1, 2: 8, 3: 27, 4: 64, 5: 125, 6: 216, 7: 343, 8: 512, 9: 729}\n"
     ]
    }
   ],
   "source": [
    "all_cubes = {}\n",
    "number = int(input('Enter the limit : '))\n",
    "\n",
    "for num in range(1,number):\n",
    "    all_cubes[num] = num**3\n",
    "\n",
    "print(type(all_cubes))\n",
    "print(all_cubes)"
   ]
  },
  {
   "cell_type": "markdown",
   "id": "08b09e77",
   "metadata": {},
   "source": [
    "#### Dictionary comprehension"
   ]
  },
  {
   "cell_type": "code",
   "execution_count": 33,
   "id": "6274138d",
   "metadata": {},
   "outputs": [
    {
     "name": "stdout",
     "output_type": "stream",
     "text": [
      "Enter the limit : 10\n",
      "<class 'dict'>\n",
      "{1: 1, 2: 8, 3: 27, 4: 64, 5: 125, 6: 216, 7: 343, 8: 512, 9: 729}\n"
     ]
    }
   ],
   "source": [
    "number = int(input('Enter the limit : '))\n",
    "\n",
    "all_cubes = {val:val**3 for val in range(1,number)}\n",
    "\n",
    "print(type(all_cubes))\n",
    "print(all_cubes)"
   ]
  },
  {
   "cell_type": "markdown",
   "id": "4e99540c",
   "metadata": {},
   "source": [
    "#### Using a zip function"
   ]
  },
  {
   "cell_type": "code",
   "execution_count": 38,
   "id": "6ffa209d",
   "metadata": {},
   "outputs": [
    {
     "name": "stdout",
     "output_type": "stream",
     "text": [
      "Rohan 5.3\n",
      "Sohan 6.2\n",
      "Mohan 6.1\n",
      "Ram 5.9\n",
      "Shyam 5.8\n",
      "Geeta 5.3\n",
      "Seeta 5.2\n"
     ]
    }
   ],
   "source": [
    "name_list = ['Rohan', 'Sohan', 'Mohan', 'Ram', 'Shyam', 'Geeta', 'Seeta']\n",
    "heights_list = [5.3, 6.2, 6.1, 5.9, 5.8, 5.3, 5.2]\n",
    "\n",
    "for name, height in zip(name_list, heights_list):\n",
    "    print(name, height)"
   ]
  },
  {
   "cell_type": "markdown",
   "id": "ea4ac661",
   "metadata": {},
   "source": [
    "#### Traditional approach"
   ]
  },
  {
   "cell_type": "code",
   "execution_count": 39,
   "id": "9e324dd3",
   "metadata": {},
   "outputs": [
    {
     "name": "stdout",
     "output_type": "stream",
     "text": [
      "{'Rohan': 5.3, 'Sohan': 6.2, 'Mohan': 6.1, 'Ram': 5.9, 'Shyam': 5.8, 'Geeta': 5.3, 'Seeta': 5.2}\n"
     ]
    }
   ],
   "source": [
    "final_dict = {}\n",
    "\n",
    "for name, height in zip(name_list, heights_list):\n",
    "    final_dict[name] = height\n",
    "    \n",
    "print(final_dict)"
   ]
  },
  {
   "cell_type": "markdown",
   "id": "985f2a97",
   "metadata": {},
   "source": [
    "#### Using Dictionary Comprehension"
   ]
  },
  {
   "cell_type": "code",
   "execution_count": 40,
   "id": "b7367d28",
   "metadata": {},
   "outputs": [
    {
     "name": "stdout",
     "output_type": "stream",
     "text": [
      "{'Rohan': 5.3, 'Sohan': 6.2, 'Mohan': 6.1, 'Ram': 5.9, 'Shyam': 5.8, 'Geeta': 5.3, 'Seeta': 5.2}\n"
     ]
    }
   ],
   "source": [
    "final_dict = {name:height for name, height in zip(name_list, heights_list)}\n",
    "print(final_dict)"
   ]
  },
  {
   "cell_type": "markdown",
   "id": "53d5170b",
   "metadata": {},
   "source": [
    "#### with conditionals"
   ]
  },
  {
   "cell_type": "code",
   "execution_count": 41,
   "id": "73260408",
   "metadata": {},
   "outputs": [
    {
     "name": "stdout",
     "output_type": "stream",
     "text": [
      "{'Sohan': 6.2, 'Mohan': 6.1, 'Ram': 5.9, 'Shyam': 5.8}\n"
     ]
    }
   ],
   "source": [
    "# name of the students whose heights exceed 5'5\n",
    "\n",
    "final_dict = {name:height for name, height in zip(name_list, heights_list) if height>5.5}\n",
    "print(final_dict)"
   ]
  },
  {
   "cell_type": "markdown",
   "id": "a2004e64",
   "metadata": {},
   "source": [
    "#### With if-else conditionals"
   ]
  },
  {
   "cell_type": "code",
   "execution_count": 44,
   "id": "0494f8f5",
   "metadata": {},
   "outputs": [
    {
     "name": "stdout",
     "output_type": "stream",
     "text": [
      "{'Rohan': 'fail', 'Sohan': 'pass', 'Mohan': 'pass', 'Ram': 'pass', 'Shyam': 'pass', 'Geeta': 'fail', 'Seeta': 'fail'}\n"
     ]
    }
   ],
   "source": [
    "# If the height exceeds 5.5 return pass else return fail\n",
    "\n",
    "final_dict = {name:'pass' if height>5.5 else 'fail' for name,height in zip(name_list, heights_list)}\n",
    "\n",
    "print(final_dict)"
   ]
  },
  {
   "cell_type": "markdown",
   "id": "5c5ae124",
   "metadata": {},
   "source": [
    "#### 3. Set Comprehensions"
   ]
  },
  {
   "cell_type": "markdown",
   "id": "cf71fbe4",
   "metadata": {},
   "source": [
    "#### Traditional aproach"
   ]
  },
  {
   "cell_type": "code",
   "execution_count": 47,
   "id": "db895750",
   "metadata": {},
   "outputs": [
    {
     "name": "stdout",
     "output_type": "stream",
     "text": [
      "{'not', 'groot.', 'just', 'enemy.', 'am', 'i', 'your'}\n"
     ]
    }
   ],
   "source": [
    "sentence = 'I am Groot. I am not your enemy. I just am Groot.'\n",
    "unique_words = set()\n",
    "\n",
    "for word in sentence.lower().split():\n",
    "#     print(word)\n",
    "    unique_words.add(word)\n",
    "    \n",
    "print(unique_words)"
   ]
  },
  {
   "cell_type": "markdown",
   "id": "43449b0b",
   "metadata": {},
   "source": [
    "#### Using set comprehensions"
   ]
  },
  {
   "cell_type": "code",
   "execution_count": 48,
   "id": "67c46ed2",
   "metadata": {},
   "outputs": [
    {
     "name": "stdout",
     "output_type": "stream",
     "text": [
      "{'not', 'groot.', 'just', 'enemy.', 'am', 'i', 'your'}\n"
     ]
    }
   ],
   "source": [
    "sentence = 'I am Groot. I am not your enemy. I just am Groot.'\n",
    "\n",
    "unique_words = {word for word in sentence.lower().split()}\n",
    "\n",
    "print(unique_words)"
   ]
  },
  {
   "cell_type": "markdown",
   "id": "9c7b8ccf",
   "metadata": {},
   "source": [
    "### 4. Generator objects"
   ]
  },
  {
   "cell_type": "markdown",
   "id": "de70b805",
   "metadata": {},
   "source": [
    "- faster than the other comprehensions\n",
    "- cannot visualize the generator objects but we can iterate over\n",
    "- same syntax as list comprehensions with `the only difference being the type of brackets that we would be using`\n",
    "- tuple comprehensions : Wrong terminology"
   ]
  },
  {
   "cell_type": "code",
   "execution_count": 54,
   "id": "9f92f827",
   "metadata": {},
   "outputs": [
    {
     "name": "stdout",
     "output_type": "stream",
     "text": [
      "<class 'list'>\n",
      "[0, 1, 2, 3, 4, 5, 6, 7, 8, 9, 10, 11, 12, 13, 14]\n"
     ]
    }
   ],
   "source": [
    "# List comprehension\n",
    "all_numbers_till_15 = [i for i in range(15)]\n",
    "\n",
    "print(type(all_numbers_till_15))\n",
    "print(all_numbers_till_15)"
   ]
  },
  {
   "cell_type": "code",
   "execution_count": 55,
   "id": "dfa764d8",
   "metadata": {},
   "outputs": [
    {
     "name": "stdout",
     "output_type": "stream",
     "text": [
      "<class 'generator'>\n",
      "<generator object <genexpr> at 0x10565c820>\n"
     ]
    }
   ],
   "source": [
    "# Generator object\n",
    "all_numbers_till_15_generator = (i for i in range(15))\n",
    "\n",
    "print(type(all_numbers_till_15_generator))\n",
    "print(all_numbers_till_15_generator)"
   ]
  },
  {
   "cell_type": "code",
   "execution_count": 56,
   "id": "c29de3be",
   "metadata": {
    "scrolled": true
   },
   "outputs": [
    {
     "data": {
      "text/plain": [
       "<generator object <genexpr> at 0x10565c820>"
      ]
     },
     "execution_count": 56,
     "metadata": {},
     "output_type": "execute_result"
    }
   ],
   "source": [
    "all_numbers_till_15_generator"
   ]
  },
  {
   "cell_type": "code",
   "execution_count": 58,
   "id": "dd0a5a33",
   "metadata": {},
   "outputs": [
    {
     "name": "stdout",
     "output_type": "stream",
     "text": [
      "0\n",
      "1\n",
      "2\n",
      "3\n",
      "4\n",
      "5\n",
      "6\n",
      "7\n",
      "8\n",
      "9\n",
      "10\n",
      "11\n",
      "12\n",
      "13\n",
      "14\n"
     ]
    }
   ],
   "source": [
    "for num in all_numbers_till_15_generator:\n",
    "    print(num)"
   ]
  },
  {
   "cell_type": "code",
   "execution_count": 61,
   "id": "dca81750",
   "metadata": {},
   "outputs": [
    {
     "data": {
      "text/plain": [
       "<generator object <genexpr> at 0x10565c820>"
      ]
     },
     "execution_count": 61,
     "metadata": {},
     "output_type": "execute_result"
    }
   ],
   "source": [
    "all_numbers_till_15_generator"
   ]
  }
 ],
 "metadata": {
  "kernelspec": {
   "display_name": "Python 3 (ipykernel)",
   "language": "python",
   "name": "python3"
  },
  "language_info": {
   "codemirror_mode": {
    "name": "ipython",
    "version": 3
   },
   "file_extension": ".py",
   "mimetype": "text/x-python",
   "name": "python",
   "nbconvert_exporter": "python",
   "pygments_lexer": "ipython3",
   "version": "3.9.12"
  }
 },
 "nbformat": 4,
 "nbformat_minor": 5
}

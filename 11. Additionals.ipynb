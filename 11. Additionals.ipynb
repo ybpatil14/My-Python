{
 "cells": [
  {
   "cell_type": "raw",
   "id": "6b8ae1e7",
   "metadata": {},
   "source": [
    "# Question\n",
    "\n",
    "1. You have n number of tuples inside a tuple where all the internal tuples are of different lengths\n",
    "2. Build a program that would make all these tuples of same lengths without loosing any data"
   ]
  },
  {
   "cell_type": "raw",
   "id": "613d35c9",
   "metadata": {},
   "source": [
    "((1,2,3,4,5,6,7,8,9,0),('a','b','c'),(1,0,3,4))"
   ]
  },
  {
   "cell_type": "code",
   "execution_count": 41,
   "id": "1e4277fb",
   "metadata": {},
   "outputs": [
    {
     "data": {
      "text/plain": [
       "((1, 2, 3, 4, 5, 6, 7, 8, 9, 0),\n",
       " ('a', 'b', 'c', None, None, None, None, None, None, None),\n",
       " (1, 0, 3, 4, None, None, None, None, None, None),\n",
       " (1, 0, 2, 4, None, None, None, None, None, None))"
      ]
     },
     "execution_count": 41,
     "metadata": {},
     "output_type": "execute_result"
    }
   ],
   "source": [
    "data = ((1,2,3,4,5,6,7,8,9,0),('a','b','c'),(1,0,3,4), (1,0,2,4))\n",
    "processed_tuple = tuple()\n",
    "\n",
    "max_len = 0\n",
    "for internal_tuple in data:\n",
    "    if len(internal_tuple) > max_len:\n",
    "        max_len = len(internal_tuple)\n",
    "\n",
    "for internal_tuple in data:\n",
    "    if len(internal_tuple) < max_len:\n",
    "        for i in range(max_len-len(internal_tuple)):\n",
    "            internal_tuple = internal_tuple.__add__((None,))\n",
    "    processed_tuple = processed_tuple.__add__((internal_tuple,))\n",
    "    \n",
    "processed_tuple"
   ]
  },
  {
   "cell_type": "markdown",
   "id": "afc1788e",
   "metadata": {},
   "source": [
    "### for-else statements"
   ]
  },
  {
   "cell_type": "code",
   "execution_count": 56,
   "id": "af4b65e8",
   "metadata": {},
   "outputs": [
    {
     "name": "stdout",
     "output_type": "stream",
     "text": [
      "0\n",
      "lalala\n",
      "lalala\n",
      "2\n",
      "lalala\n",
      "lalala\n",
      "4\n",
      "lalala\n",
      "lalala\n",
      "6\n",
      "lalala\n",
      "lalala\n",
      "8\n",
      "lalala\n",
      "lalala\n",
      "Completed !\n"
     ]
    }
   ],
   "source": [
    "for i in range(10):\n",
    "    if i%2 == 0:\n",
    "        print(i)\n",
    "    else:\n",
    "        pass\n",
    "    print('lalala')\n",
    "else:\n",
    "    print('Completed !')"
   ]
  },
  {
   "cell_type": "code",
   "execution_count": 54,
   "id": "e061874f",
   "metadata": {},
   "outputs": [
    {
     "name": "stdout",
     "output_type": "stream",
     "text": [
      "0\n",
      "lalala\n",
      "2\n",
      "lalala\n",
      "4\n",
      "lalala\n",
      "6\n",
      "lalala\n",
      "8\n",
      "lalala\n",
      "Completed !\n"
     ]
    }
   ],
   "source": [
    "for i in range(10):\n",
    "    if i%2 == 0:\n",
    "        print(i)\n",
    "    else:\n",
    "        continue\n",
    "    print('lalala')\n",
    "else:\n",
    "    print('Completed !')"
   ]
  },
  {
   "cell_type": "code",
   "execution_count": 52,
   "id": "f3e3ca8b",
   "metadata": {},
   "outputs": [
    {
     "name": "stdout",
     "output_type": "stream",
     "text": [
      "0\n"
     ]
    }
   ],
   "source": [
    "for i in range(10):\n",
    "    if i%2 == 0:\n",
    "        print(i)\n",
    "    else:\n",
    "        break\n",
    "else:\n",
    "    print('Completed !')"
   ]
  }
 ],
 "metadata": {
  "kernelspec": {
   "display_name": "Python 3 (ipykernel)",
   "language": "python",
   "name": "python3"
  },
  "language_info": {
   "codemirror_mode": {
    "name": "ipython",
    "version": 3
   },
   "file_extension": ".py",
   "mimetype": "text/x-python",
   "name": "python",
   "nbconvert_exporter": "python",
   "pygments_lexer": "ipython3",
   "version": "3.10.8"
  }
 },
 "nbformat": 4,
 "nbformat_minor": 5
}

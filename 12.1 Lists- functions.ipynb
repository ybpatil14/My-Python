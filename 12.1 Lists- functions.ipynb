{
 "cells": [
  {
   "cell_type": "markdown",
   "id": "719200a7",
   "metadata": {},
   "source": [
    "### 1. append"
   ]
  },
  {
   "cell_type": "raw",
   "id": "363e6e23",
   "metadata": {},
   "source": [
    "list_name.append(element)"
   ]
  },
  {
   "cell_type": "code",
   "execution_count": 10,
   "id": "6ea70f0a",
   "metadata": {},
   "outputs": [
    {
     "data": {
      "text/plain": [
       "[1, 2, 3, 4, 5, 100]"
      ]
     },
     "execution_count": 10,
     "metadata": {},
     "output_type": "execute_result"
    }
   ],
   "source": [
    "my_list = [1,2,3,4,5]\n",
    "my_list.append(100)\n",
    "my_list"
   ]
  },
  {
   "cell_type": "code",
   "execution_count": 13,
   "id": "015d5579",
   "metadata": {},
   "outputs": [],
   "source": [
    "my_list = [1,2,3,4,5]\n",
    "my_list.append(100)\n",
    "dummy_variable = my_list"
   ]
  },
  {
   "cell_type": "code",
   "execution_count": 14,
   "id": "70c1f174",
   "metadata": {},
   "outputs": [
    {
     "data": {
      "text/plain": [
       "([1, 2, 3, 4, 5, 100], [1, 2, 3, 4, 5, 100])"
      ]
     },
     "execution_count": 14,
     "metadata": {},
     "output_type": "execute_result"
    }
   ],
   "source": [
    "dummy_variable, my_list"
   ]
  },
  {
   "cell_type": "markdown",
   "id": "538a4bb3",
   "metadata": {},
   "source": [
    "### 2. `__add__`"
   ]
  },
  {
   "cell_type": "raw",
   "id": "05a8bb34",
   "metadata": {},
   "source": [
    "list_name.__add__([element])"
   ]
  },
  {
   "cell_type": "code",
   "execution_count": 15,
   "id": "1f4f4ad3",
   "metadata": {},
   "outputs": [
    {
     "data": {
      "text/plain": [
       "[1, 2, 3, 4, 5, 100]"
      ]
     },
     "execution_count": 15,
     "metadata": {},
     "output_type": "execute_result"
    }
   ],
   "source": [
    "my_list = [1,2,3,4,5]\n",
    "dummy_variable = my_list.__add__([100])\n",
    "dummy_variable"
   ]
  },
  {
   "cell_type": "code",
   "execution_count": 16,
   "id": "076b1cc2",
   "metadata": {},
   "outputs": [
    {
     "data": {
      "text/plain": [
       "([1, 2, 3, 4, 5, 100], [1, 2, 3, 4, 5])"
      ]
     },
     "execution_count": 16,
     "metadata": {},
     "output_type": "execute_result"
    }
   ],
   "source": [
    "dummy_variable, my_list"
   ]
  },
  {
   "cell_type": "markdown",
   "id": "5347f0d1",
   "metadata": {},
   "source": [
    "### 3. extend"
   ]
  },
  {
   "cell_type": "raw",
   "id": "7071bcd2",
   "metadata": {},
   "source": [
    "list_name.extend(another_list) #--- inplace operation #----needs both the elements to be iterables\n",
    "\n",
    "- merges the internal list with the first list : [first list elements, second list elements]"
   ]
  },
  {
   "cell_type": "code",
   "execution_count": 21,
   "id": "f93f78e4",
   "metadata": {},
   "outputs": [],
   "source": [
    "list1 = [1,2,3,4,5]\n",
    "list2 = [6,7,8,9,0]\n",
    "\n",
    "# list1 = [1,2,3,4,5,6,7,8,9,0]"
   ]
  },
  {
   "cell_type": "code",
   "execution_count": 19,
   "id": "648e770f",
   "metadata": {},
   "outputs": [
    {
     "data": {
      "text/plain": [
       "[1, 2, 3, 4, 5, [6, 7, 8, 9, 0]]"
      ]
     },
     "execution_count": 19,
     "metadata": {},
     "output_type": "execute_result"
    }
   ],
   "source": [
    "list1.append(list2)\n",
    "list1"
   ]
  },
  {
   "cell_type": "code",
   "execution_count": 22,
   "id": "6e6e96e7",
   "metadata": {},
   "outputs": [
    {
     "data": {
      "text/plain": [
       "[1, 2, 3, 4, 5, 6, 7, 8, 9, 0]"
      ]
     },
     "execution_count": 22,
     "metadata": {},
     "output_type": "execute_result"
    }
   ],
   "source": [
    "list1 = [1,2,3,4,5]\n",
    "list2 = [6,7,8,9,0]\n",
    "\n",
    "for i in list2:\n",
    "    list1 = list1.__add__([i])\n",
    "\n",
    "list1"
   ]
  },
  {
   "cell_type": "code",
   "execution_count": 23,
   "id": "93aacfe3",
   "metadata": {},
   "outputs": [
    {
     "data": {
      "text/plain": [
       "[1, 2, 3, 4, 5, 6, 7, 8, 9, 0]"
      ]
     },
     "execution_count": 23,
     "metadata": {},
     "output_type": "execute_result"
    }
   ],
   "source": [
    "list1 = [1,2,3,4,5]\n",
    "list2 = [6,7,8,9,0]\n",
    "\n",
    "list1 = list1+list2\n",
    "\n",
    "list1"
   ]
  },
  {
   "cell_type": "code",
   "execution_count": 24,
   "id": "0974f0ce",
   "metadata": {},
   "outputs": [
    {
     "data": {
      "text/plain": [
       "[1, 2, 3, 4, 5, 6, 7, 8, 9, 0]"
      ]
     },
     "execution_count": 24,
     "metadata": {},
     "output_type": "execute_result"
    }
   ],
   "source": [
    "list1 = [1,2,3,4,5]\n",
    "list2 = [6,7,8,9,0]\n",
    "\n",
    "list1 = list1.__add__(list2)\n",
    "list1"
   ]
  },
  {
   "cell_type": "code",
   "execution_count": 25,
   "id": "b96d4f61",
   "metadata": {},
   "outputs": [
    {
     "data": {
      "text/plain": [
       "[1, 2, 3, 4, 5, 6, 7, 8, 9, 0]"
      ]
     },
     "execution_count": 25,
     "metadata": {},
     "output_type": "execute_result"
    }
   ],
   "source": [
    "list1 = [1,2,3,4,5]\n",
    "list2 = [6,7,8,9,0]\n",
    "\n",
    "list1.extend(list2)\n",
    "\n",
    "list1"
   ]
  },
  {
   "cell_type": "code",
   "execution_count": 28,
   "id": "dab4a5e3",
   "metadata": {},
   "outputs": [
    {
     "data": {
      "text/plain": [
       "[1, 2, 3, 4, 5, 55]"
      ]
     },
     "execution_count": 28,
     "metadata": {},
     "output_type": "execute_result"
    }
   ],
   "source": [
    "list1 = [1,2,3,4,5]\n",
    "element = [55]\n",
    "\n",
    "list1.extend(element)\n",
    "list1"
   ]
  },
  {
   "cell_type": "code",
   "execution_count": 29,
   "id": "a3700c69",
   "metadata": {},
   "outputs": [
    {
     "data": {
      "text/plain": [
       "[1, 2, 3, 4, 5, 'a', 'b', 'c']"
      ]
     },
     "execution_count": 29,
     "metadata": {},
     "output_type": "execute_result"
    }
   ],
   "source": [
    "list1 = [1,2,3,4,5]\n",
    "tuple1 = ('a','b','c')\n",
    "\n",
    "list1.extend(tuple1)\n",
    "list1"
   ]
  },
  {
   "cell_type": "code",
   "execution_count": 30,
   "id": "c99c4ac5",
   "metadata": {
    "scrolled": true
   },
   "outputs": [
    {
     "data": {
      "text/plain": [
       "[1, 2, 3, 4, 5, ('a', 'b', 'c')]"
      ]
     },
     "execution_count": 30,
     "metadata": {},
     "output_type": "execute_result"
    }
   ],
   "source": [
    "list1 = [1,2,3,4,5]\n",
    "tuple1 = ('a','b','c')\n",
    "\n",
    "list1.append(tuple1)\n",
    "list1"
   ]
  },
  {
   "cell_type": "code",
   "execution_count": 33,
   "id": "d4f0daf1",
   "metadata": {},
   "outputs": [
    {
     "data": {
      "text/plain": [
       "[1, 2, 3, 4, 5, 6, 7, 8, 9, 0]"
      ]
     },
     "execution_count": 33,
     "metadata": {},
     "output_type": "execute_result"
    }
   ],
   "source": [
    "list1 = [1,2,3,4,5]\n",
    "list2 = [6,7,8,9,0]\n",
    "\n",
    "[*list1, *list2]"
   ]
  },
  {
   "cell_type": "markdown",
   "id": "e337c10b",
   "metadata": {},
   "source": [
    "### 4.count"
   ]
  },
  {
   "cell_type": "raw",
   "id": "ddc54495",
   "metadata": {},
   "source": [
    "list_name.count(element)\n",
    "\n",
    "returns the number of occurences of the given element in the list"
   ]
  },
  {
   "cell_type": "code",
   "execution_count": 45,
   "id": "91cba1b2",
   "metadata": {},
   "outputs": [
    {
     "data": {
      "text/plain": [
       "2"
      ]
     },
     "execution_count": 45,
     "metadata": {},
     "output_type": "execute_result"
    }
   ],
   "source": [
    "list1 = [1,2,3,4,1,2,7,8,9]\n",
    "list1.count(1)"
   ]
  },
  {
   "cell_type": "markdown",
   "id": "e7a26ec3",
   "metadata": {},
   "source": [
    "### 5. index"
   ]
  },
  {
   "cell_type": "raw",
   "id": "88534091",
   "metadata": {},
   "source": [
    "list_name.index(element)\n",
    "\n",
    "- returns the index of the first occurence of the element in the list\n",
    "- raises error if the element is absent"
   ]
  },
  {
   "cell_type": "code",
   "execution_count": 3,
   "id": "41bde59c",
   "metadata": {},
   "outputs": [
    {
     "ename": "ValueError",
     "evalue": "55 is not in list",
     "output_type": "error",
     "traceback": [
      "\u001b[1;31m---------------------------------------------------------------------------\u001b[0m",
      "\u001b[1;31mValueError\u001b[0m                                Traceback (most recent call last)",
      "Input \u001b[1;32mIn [3]\u001b[0m, in \u001b[0;36m<cell line: 3>\u001b[1;34m()\u001b[0m\n\u001b[0;32m      1\u001b[0m list1 \u001b[38;5;241m=\u001b[39m [\u001b[38;5;241m1\u001b[39m,\u001b[38;5;241m2\u001b[39m,\u001b[38;5;241m3\u001b[39m,\u001b[38;5;241m4\u001b[39m,\u001b[38;5;241m5\u001b[39m,\u001b[38;5;241m6\u001b[39m,[\u001b[38;5;124m'\u001b[39m\u001b[38;5;124ma\u001b[39m\u001b[38;5;124m'\u001b[39m,\u001b[38;5;241m55\u001b[39m]]\n\u001b[1;32m----> 3\u001b[0m \u001b[43mlist1\u001b[49m\u001b[38;5;241;43m.\u001b[39;49m\u001b[43mindex\u001b[49m\u001b[43m(\u001b[49m\u001b[38;5;241;43m55\u001b[39;49m\u001b[43m)\u001b[49m\n",
      "\u001b[1;31mValueError\u001b[0m: 55 is not in list"
     ]
    }
   ],
   "source": [
    "list1 = [1,2,3,4,5,6,['a',55]]\n",
    "\n",
    "list1.index(55)\n"
   ]
  },
  {
   "cell_type": "code",
   "execution_count": 47,
   "id": "b19b9799",
   "metadata": {},
   "outputs": [
    {
     "data": {
      "text/plain": [
       "1"
      ]
     },
     "execution_count": 47,
     "metadata": {},
     "output_type": "execute_result"
    }
   ],
   "source": [
    "list1[-1].index(55)"
   ]
  },
  {
   "cell_type": "code",
   "execution_count": 48,
   "id": "22b81ece",
   "metadata": {},
   "outputs": [
    {
     "data": {
      "text/plain": [
       "['a', 55]"
      ]
     },
     "execution_count": 48,
     "metadata": {},
     "output_type": "execute_result"
    }
   ],
   "source": [
    "list1[-1]"
   ]
  },
  {
   "cell_type": "code",
   "execution_count": 49,
   "id": "519e18ea",
   "metadata": {},
   "outputs": [
    {
     "data": {
      "text/plain": [
       "1"
      ]
     },
     "execution_count": 49,
     "metadata": {},
     "output_type": "execute_result"
    }
   ],
   "source": [
    "['a', 55].index(55)"
   ]
  },
  {
   "cell_type": "code",
   "execution_count": 51,
   "id": "73f7fe72",
   "metadata": {},
   "outputs": [
    {
     "name": "stdout",
     "output_type": "stream",
     "text": [
      "55 absent\n"
     ]
    }
   ],
   "source": [
    "element = 55\n",
    "if element in list1:\n",
    "    print(list1.index(element))\n",
    "else:\n",
    "    print(f'{element} is absent')"
   ]
  },
  {
   "cell_type": "markdown",
   "id": "54158cb8",
   "metadata": {},
   "source": [
    "### 6. insert"
   ]
  },
  {
   "cell_type": "raw",
   "id": "fbedb226",
   "metadata": {},
   "source": [
    "list_name.insert(index_to_place_the_element_in, element)\n",
    "\n",
    "- insert the given element at the given position"
   ]
  },
  {
   "cell_type": "code",
   "execution_count": 7,
   "id": "6b0b1b57",
   "metadata": {},
   "outputs": [
    {
     "data": {
      "text/plain": [
       "['a', 1, 2, 3, 4, 5]"
      ]
     },
     "execution_count": 7,
     "metadata": {},
     "output_type": "execute_result"
    }
   ],
   "source": [
    "list1 = [1,2,3,4,5]\n",
    "list1.insert(0,'a')\n",
    "list1"
   ]
  },
  {
   "cell_type": "code",
   "execution_count": 55,
   "id": "50331794",
   "metadata": {},
   "outputs": [
    {
     "data": {
      "text/plain": [
       "[1, 2, 3, 4, 'c', 5]"
      ]
     },
     "execution_count": 55,
     "metadata": {},
     "output_type": "execute_result"
    }
   ],
   "source": [
    "list1 = [1,2,3,4,5]\n",
    "list1.insert(4,'c')\n",
    "list1"
   ]
  },
  {
   "cell_type": "code",
   "execution_count": 56,
   "id": "b0e24eac",
   "metadata": {},
   "outputs": [
    {
     "data": {
      "text/plain": [
       "[1, 2, ['a', 'b', 'c'], 3, 4, 5]"
      ]
     },
     "execution_count": 56,
     "metadata": {},
     "output_type": "execute_result"
    }
   ],
   "source": [
    "list1 = [1,2,3,4,5]\n",
    "list2 = ['a','b','c']\n",
    "\n",
    "list1.insert(2,list2)\n",
    "list1"
   ]
  },
  {
   "cell_type": "code",
   "execution_count": 58,
   "id": "badef5e3",
   "metadata": {},
   "outputs": [
    {
     "data": {
      "text/plain": [
       "[1, 2, 'a', 'b', 'c', 3, 4, 5]"
      ]
     },
     "execution_count": 58,
     "metadata": {},
     "output_type": "execute_result"
    }
   ],
   "source": [
    "index_ = 2\n",
    "\n",
    "list1 = [1,2,3,4,5]\n",
    "list2 = ['a','b','c']\n",
    "\n",
    "list1[:index_].__add__(list2).__add__(list1[index_:])"
   ]
  },
  {
   "cell_type": "code",
   "execution_count": 63,
   "id": "69926764",
   "metadata": {},
   "outputs": [
    {
     "name": "stdout",
     "output_type": "stream",
     "text": [
      "[1, 2, 'c', 3, 4, 5]\n",
      "\n",
      "[1, 2, 'b', 'c', 3, 4, 5]\n",
      "\n",
      "[1, 2, 'a', 'b', 'c', 3, 4, 5]\n",
      "\n"
     ]
    },
    {
     "data": {
      "text/plain": [
       "[1, 2, 'a', 'b', 'c', 3, 4, 5]"
      ]
     },
     "execution_count": 63,
     "metadata": {},
     "output_type": "execute_result"
    }
   ],
   "source": [
    "index_ = 2\n",
    "\n",
    "list1 = [1,2,3,4,5]\n",
    "list2 = ['a','b','c']\n",
    "\n",
    "for i in list2[::-1]:\n",
    "    list1.insert(index_,i)\n",
    "    print(list1)\n",
    "    print()\n",
    "list1"
   ]
  },
  {
   "cell_type": "code",
   "execution_count": 64,
   "id": "fac7087a",
   "metadata": {},
   "outputs": [
    {
     "data": {
      "text/plain": [
       "[5, 2, 3, 4, 1]"
      ]
     },
     "execution_count": 64,
     "metadata": {},
     "output_type": "execute_result"
    }
   ],
   "source": [
    "list1 = [1,2,3,4,5]\n",
    "\n",
    "list1[0], list1[4] = list1[4], list1[0]\n",
    "list1"
   ]
  },
  {
   "cell_type": "code",
   "execution_count": 71,
   "id": "0b1aa5bb",
   "metadata": {},
   "outputs": [
    {
     "data": {
      "text/plain": [
       "[5, 2, 3, 4, 1]"
      ]
     },
     "execution_count": 71,
     "metadata": {},
     "output_type": "execute_result"
    }
   ],
   "source": [
    "list1 = [1,2,3,4,5]\n",
    "\n",
    "first = list1[0]\n",
    "last = list1[-1]\n",
    "\n",
    "list2 = list1[1:]\n",
    "list2.insert(0,last)\n",
    "\n",
    "list2 = list2[:-1]\n",
    "list2 = list2[::-1]\n",
    "list2.insert(0,first)\n",
    "list2 = list2[::-1]\n",
    "list2"
   ]
  },
  {
   "cell_type": "markdown",
   "id": "71f4fb6d",
   "metadata": {},
   "source": [
    "### 7. sort"
   ]
  },
  {
   "cell_type": "raw",
   "id": "0ee511a7",
   "metadata": {},
   "source": [
    "list.sort(reverse = False)\n",
    "\n",
    "- sorts the elements of the list\n",
    "- inplace function"
   ]
  },
  {
   "cell_type": "code",
   "execution_count": 72,
   "id": "19c45837",
   "metadata": {},
   "outputs": [
    {
     "data": {
      "text/plain": [
       "([1, 8, 10, 12, 32, 67, 1089], [1, 32, 67, 12, 10, 1089, 8])"
      ]
     },
     "execution_count": 72,
     "metadata": {},
     "output_type": "execute_result"
    }
   ],
   "source": [
    "list1 = [1,32,67,12,10,1089,8]\n",
    "sorted(list1), list1"
   ]
  },
  {
   "cell_type": "raw",
   "id": "bf84c037",
   "metadata": {},
   "source": [
    "sorted() > built-in function of python, wont change the iterable in place"
   ]
  },
  {
   "cell_type": "code",
   "execution_count": 73,
   "id": "e06e1b1b",
   "metadata": {},
   "outputs": [
    {
     "data": {
      "text/plain": [
       "[1, 8, 10, 12, 32, 67, 1089]"
      ]
     },
     "execution_count": 73,
     "metadata": {},
     "output_type": "execute_result"
    }
   ],
   "source": [
    "list1 = [1,32,67,12,10,1089,8]\n",
    "list1.sort()\n",
    "list1"
   ]
  },
  {
   "cell_type": "raw",
   "id": "8fdb3b9a",
   "metadata": {},
   "source": [
    "1. datatype_name.function() # can be inplace functions, are explicit for these datatypes only\n",
    "2. function(datatype_name) # usually are not inplace type and are generic to a number of data types"
   ]
  },
  {
   "cell_type": "markdown",
   "id": "87ecc5f0",
   "metadata": {},
   "source": [
    "### 8. reverse"
   ]
  },
  {
   "cell_type": "raw",
   "id": "d51a1417",
   "metadata": {},
   "source": [
    "list_name.reverse()\n",
    "\n",
    "- reverses the list"
   ]
  },
  {
   "cell_type": "code",
   "execution_count": 74,
   "id": "f33108dd",
   "metadata": {},
   "outputs": [
    {
     "data": {
      "text/plain": [
       "[5, 3, 2, 4, 1]"
      ]
     },
     "execution_count": 74,
     "metadata": {},
     "output_type": "execute_result"
    }
   ],
   "source": [
    "list1 = [1,4,2,3,5]\n",
    "list1.reverse()\n",
    "list1"
   ]
  },
  {
   "cell_type": "code",
   "execution_count": 75,
   "id": "7dece8a3",
   "metadata": {},
   "outputs": [
    {
     "data": {
      "text/plain": [
       "[1, 4, 2, 3, 5]"
      ]
     },
     "execution_count": 75,
     "metadata": {},
     "output_type": "execute_result"
    }
   ],
   "source": [
    "list1[::-1]"
   ]
  },
  {
   "cell_type": "markdown",
   "id": "8782d527",
   "metadata": {},
   "source": [
    "### 9. copy"
   ]
  },
  {
   "cell_type": "raw",
   "id": "af282c47",
   "metadata": {},
   "source": [
    "list_name.copy()\n",
    "\n",
    "- generates a shallow copy of the current object"
   ]
  },
  {
   "cell_type": "code",
   "execution_count": 76,
   "id": "50bdda0a",
   "metadata": {},
   "outputs": [
    {
     "data": {
      "text/plain": [
       "([1, 2, 3, 4, 5, 100], [1, 2, 3, 4, 5, 100])"
      ]
     },
     "execution_count": 76,
     "metadata": {},
     "output_type": "execute_result"
    }
   ],
   "source": [
    "list1 = [1,2,3,4,5]\n",
    "\n",
    "list2 = list1  # creating a referenced object\n",
    "\n",
    "list1.append(100)\n",
    "\n",
    "list1, list2"
   ]
  },
  {
   "cell_type": "code",
   "execution_count": 77,
   "id": "3295f62f",
   "metadata": {},
   "outputs": [
    {
     "data": {
      "text/plain": [
       "(4406760192, 4406760192)"
      ]
     },
     "execution_count": 77,
     "metadata": {},
     "output_type": "execute_result"
    }
   ],
   "source": [
    "id(list1), id(list2)"
   ]
  },
  {
   "cell_type": "markdown",
   "id": "b82ca070",
   "metadata": {},
   "source": [
    "#### Using .copy() function"
   ]
  },
  {
   "cell_type": "code",
   "execution_count": 98,
   "id": "dd1e6d3b",
   "metadata": {},
   "outputs": [
    {
     "data": {
      "text/plain": [
       "([1, 2, 3, 4, 5, 100], [1, 2, 3, 4, 5])"
      ]
     },
     "execution_count": 98,
     "metadata": {},
     "output_type": "execute_result"
    }
   ],
   "source": [
    "list1 = [1,2,3,4,5]\n",
    "\n",
    "list2 = list1.copy() # creating a different object\n",
    "\n",
    "list1.append(100)\n",
    "\n",
    "list1, list2"
   ]
  },
  {
   "cell_type": "code",
   "execution_count": 99,
   "id": "75c6e21b",
   "metadata": {},
   "outputs": [
    {
     "data": {
      "text/plain": [
       "(4406757312, 4407495168)"
      ]
     },
     "execution_count": 99,
     "metadata": {},
     "output_type": "execute_result"
    }
   ],
   "source": [
    "id(list1), id(list2)"
   ]
  },
  {
   "cell_type": "code",
   "execution_count": 100,
   "id": "663d3ae8",
   "metadata": {},
   "outputs": [
    {
     "data": {
      "text/plain": [
       "(88, 80)"
      ]
     },
     "execution_count": 100,
     "metadata": {},
     "output_type": "execute_result"
    }
   ],
   "source": [
    "list1.__sizeof__(), list2.__sizeof__()"
   ]
  },
  {
   "cell_type": "markdown",
   "id": "9d4b96a2",
   "metadata": {},
   "source": [
    "### 10. clear"
   ]
  },
  {
   "cell_type": "raw",
   "id": "ef50b857",
   "metadata": {},
   "source": [
    "list_name.clear()\n",
    "\n",
    "- empties the list"
   ]
  },
  {
   "cell_type": "code",
   "execution_count": 103,
   "id": "2fa55aea",
   "metadata": {},
   "outputs": [
    {
     "data": {
      "text/plain": [
       "[]"
      ]
     },
     "execution_count": 103,
     "metadata": {},
     "output_type": "execute_result"
    }
   ],
   "source": [
    "list1 = [1,2,3,4,5]\n",
    "list1.clear()\n",
    "list1"
   ]
  },
  {
   "cell_type": "raw",
   "id": "ddbb82d3",
   "metadata": {},
   "source": [
    "del is used to delete the entire variable from the memory\n",
    "list.clear() is just used to empty the list, it still would exist in the memory"
   ]
  },
  {
   "cell_type": "markdown",
   "id": "c6b12f8a",
   "metadata": {},
   "source": [
    "### 11. pop"
   ]
  },
  {
   "cell_type": "raw",
   "id": "955c5fa7",
   "metadata": {},
   "source": [
    "list_name.pop(index)\n",
    "\n",
    "- removes the particular element from the list\n",
    "- by default it removes the last element of the list\n",
    "- if provided with a valid index, it would remove the element at that index\n",
    "- default index = -1 {last element}\n",
    "\n",
    "- returns the item that is been removed from the list"
   ]
  },
  {
   "cell_type": "code",
   "execution_count": 116,
   "id": "0f49638a",
   "metadata": {},
   "outputs": [
    {
     "data": {
      "text/plain": [
       "[1, 2, 3, 4]"
      ]
     },
     "execution_count": 116,
     "metadata": {},
     "output_type": "execute_result"
    }
   ],
   "source": [
    "list1 = [1,2,3,4,5]\n",
    "list1.pop()\n",
    "list1"
   ]
  },
  {
   "cell_type": "code",
   "execution_count": 114,
   "id": "f4102300",
   "metadata": {},
   "outputs": [
    {
     "data": {
      "text/plain": [
       "5"
      ]
     },
     "execution_count": 114,
     "metadata": {},
     "output_type": "execute_result"
    }
   ],
   "source": [
    "list1 = [1,2,3,4,5]\n",
    "x = list1.pop()\n",
    "x"
   ]
  },
  {
   "cell_type": "code",
   "execution_count": 118,
   "id": "9615a263",
   "metadata": {},
   "outputs": [
    {
     "data": {
      "text/plain": [
       "[1, 2, 4, 5]"
      ]
     },
     "execution_count": 118,
     "metadata": {},
     "output_type": "execute_result"
    }
   ],
   "source": [
    "list1 = [1,2,3,4,5]\n",
    "list1.pop(2)\n",
    "list1"
   ]
  },
  {
   "cell_type": "markdown",
   "id": "e4264267",
   "metadata": {},
   "source": [
    "### 12. remove"
   ]
  },
  {
   "cell_type": "raw",
   "id": "21db749d",
   "metadata": {},
   "source": [
    "list_name.remove(element to be removed)\n",
    "\n",
    "- takes in a value and removes the first instance\n",
    "- raises a value error if the element is absent in the list"
   ]
  },
  {
   "cell_type": "code",
   "execution_count": 119,
   "id": "3a7297a3",
   "metadata": {},
   "outputs": [],
   "source": [
    "list1 = [1,2,3,4,5,5,5]\n",
    "list1.remove(5)"
   ]
  },
  {
   "cell_type": "code",
   "execution_count": 120,
   "id": "18294044",
   "metadata": {},
   "outputs": [
    {
     "data": {
      "text/plain": [
       "[1, 2, 3, 4, 5, 5]"
      ]
     },
     "execution_count": 120,
     "metadata": {},
     "output_type": "execute_result"
    }
   ],
   "source": [
    "list1"
   ]
  },
  {
   "cell_type": "code",
   "execution_count": 121,
   "id": "f1daf6b8",
   "metadata": {},
   "outputs": [
    {
     "ename": "ValueError",
     "evalue": "list.remove(x): x not in list",
     "output_type": "error",
     "traceback": [
      "\u001b[0;31m---------------------------------------------------------------------------\u001b[0m",
      "\u001b[0;31mValueError\u001b[0m                                Traceback (most recent call last)",
      "Cell \u001b[0;32mIn [121], line 2\u001b[0m\n\u001b[1;32m      1\u001b[0m list1 \u001b[38;5;241m=\u001b[39m [\u001b[38;5;241m1\u001b[39m,\u001b[38;5;241m2\u001b[39m,\u001b[38;5;241m3\u001b[39m,\u001b[38;5;241m4\u001b[39m,\u001b[38;5;241m5\u001b[39m,\u001b[38;5;241m5\u001b[39m,\u001b[38;5;241m5\u001b[39m]\n\u001b[0;32m----> 2\u001b[0m \u001b[43mlist1\u001b[49m\u001b[38;5;241;43m.\u001b[39;49m\u001b[43mremove\u001b[49m\u001b[43m(\u001b[49m\u001b[38;5;241;43m6\u001b[39;49m\u001b[43m)\u001b[49m\n",
      "\u001b[0;31mValueError\u001b[0m: list.remove(x): x not in list"
     ]
    }
   ],
   "source": [
    "list1 = [1,2,3,4,5,5,5]\n",
    "list1.remove(6)"
   ]
  }
 ],
 "metadata": {
  "kernelspec": {
   "display_name": "Python 3 (ipykernel)",
   "language": "python",
   "name": "python3"
  },
  "language_info": {
   "codemirror_mode": {
    "name": "ipython",
    "version": 3
   },
   "file_extension": ".py",
   "mimetype": "text/x-python",
   "name": "python",
   "nbconvert_exporter": "python",
   "pygments_lexer": "ipython3",
   "version": "3.9.12"
  }
 },
 "nbformat": 4,
 "nbformat_minor": 5
}

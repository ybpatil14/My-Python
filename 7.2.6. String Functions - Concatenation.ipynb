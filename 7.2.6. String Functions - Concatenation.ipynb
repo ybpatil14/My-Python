{
 "cells": [
  {
   "cell_type": "markdown",
   "id": "5149fa2e",
   "metadata": {},
   "source": [
    "### String concatenation"
   ]
  },
  {
   "cell_type": "raw",
   "id": "c97a328f",
   "metadata": {},
   "source": [
    "concatenation > addition "
   ]
  },
  {
   "cell_type": "raw",
   "id": "a1428678",
   "metadata": {},
   "source": [
    "ex. 1: Related to numbers\n",
    "    number1 = 5\n",
    "    number2 = 10\n",
    "    number1 + number2 = 5+10 = 15"
   ]
  },
  {
   "cell_type": "raw",
   "id": "5c7fda09",
   "metadata": {},
   "source": [
    "ex. 2: Related to strings:\n",
    "    data1 = 'G'\n",
    "    data2 = 'root'\n",
    "    data1+data2 = 'Groot'"
   ]
  },
  {
   "cell_type": "markdown",
   "id": "44b81fcd",
   "metadata": {},
   "source": [
    "- It only works with similar data-types\n",
    "    - string + string\n",
    "    - float + int\n",
    "    - int + int\n",
    "    - float + float"
   ]
  },
  {
   "cell_type": "code",
   "execution_count": 1,
   "id": "a9b19e6f",
   "metadata": {},
   "outputs": [
    {
     "data": {
      "text/plain": [
       "'Shyam Chaudhary'"
      ]
     },
     "execution_count": 1,
     "metadata": {},
     "output_type": "execute_result"
    }
   ],
   "source": [
    "'Shyam' + ' ' + 'Chaudhary'"
   ]
  },
  {
   "cell_type": "code",
   "execution_count": 2,
   "id": "85749520",
   "metadata": {},
   "outputs": [
    {
     "ename": "TypeError",
     "evalue": "can only concatenate str (not \"int\") to str",
     "output_type": "error",
     "traceback": [
      "\u001b[0;31m---------------------------------------------------------------------------\u001b[0m",
      "\u001b[0;31mTypeError\u001b[0m                                 Traceback (most recent call last)",
      "Input \u001b[0;32mIn [2]\u001b[0m, in \u001b[0;36m<cell line: 1>\u001b[0;34m()\u001b[0m\n\u001b[0;32m----> 1\u001b[0m \u001b[38;5;124;43m'\u001b[39;49m\u001b[38;5;124;43mShyam\u001b[39;49m\u001b[38;5;124;43m'\u001b[39;49m\u001b[43m \u001b[49m\u001b[38;5;241;43m+\u001b[39;49m\u001b[43m \u001b[49m\u001b[38;5;241;43m2\u001b[39;49m\n",
      "\u001b[0;31mTypeError\u001b[0m: can only concatenate str (not \"int\") to str"
     ]
    }
   ],
   "source": [
    "'Shyam' + 2"
   ]
  },
  {
   "cell_type": "code",
   "execution_count": 4,
   "id": "7c9876de",
   "metadata": {},
   "outputs": [
    {
     "data": {
      "text/plain": [
       "'i am groot'"
      ]
     },
     "execution_count": 4,
     "metadata": {},
     "output_type": "execute_result"
    }
   ],
   "source": [
    "word1 = 'i'\n",
    "word2 = 'am'\n",
    "word3 = 'groot'\n",
    "space = ' '\n",
    "output = 'i am groot'\n",
    "\n",
    "word1 + space + word2 + space + word3"
   ]
  },
  {
   "cell_type": "code",
   "execution_count": 6,
   "id": "fa039c24",
   "metadata": {},
   "outputs": [
    {
     "data": {
      "text/plain": [
       "'i am groot'"
      ]
     },
     "execution_count": 6,
     "metadata": {},
     "output_type": "execute_result"
    }
   ],
   "source": [
    "word1.__add__(space).__add__(word2).__add__(space).__add__(word3)"
   ]
  },
  {
   "cell_type": "markdown",
   "id": "a2ee9800",
   "metadata": {},
   "source": [
    "### Use of multiplication in strings"
   ]
  },
  {
   "cell_type": "markdown",
   "id": "c0ce6e35",
   "metadata": {},
   "source": [
    "- first item should be a string and the other item should be an integer"
   ]
  },
  {
   "cell_type": "code",
   "execution_count": 10,
   "id": "9d62a128",
   "metadata": {},
   "outputs": [
    {
     "data": {
      "text/plain": [
       "'abc abc abc '"
      ]
     },
     "execution_count": 10,
     "metadata": {},
     "output_type": "execute_result"
    }
   ],
   "source": [
    "data = 'abc '\n",
    "data*3"
   ]
  },
  {
   "cell_type": "markdown",
   "id": "c396366e",
   "metadata": {},
   "source": [
    "### Use of addition operator on strings"
   ]
  },
  {
   "cell_type": "markdown",
   "id": "f814c499",
   "metadata": {},
   "source": [
    "- both the items should be strings"
   ]
  },
  {
   "cell_type": "code",
   "execution_count": 13,
   "id": "2d92a89d",
   "metadata": {},
   "outputs": [
    {
     "data": {
      "text/plain": [
       "'Groot is an guardian'"
      ]
     },
     "execution_count": 13,
     "metadata": {},
     "output_type": "execute_result"
    }
   ],
   "source": [
    "a = 'Groot '\n",
    "b = 'is '\n",
    "c = 'an '\n",
    "d = 'guardian'\n",
    "\n",
    "a+b+c+d"
   ]
  },
  {
   "cell_type": "code",
   "execution_count": 14,
   "id": "b6bb0711",
   "metadata": {},
   "outputs": [
    {
     "ename": "TypeError",
     "evalue": "unsupported operand type(s) for -: 'str' and 'str'",
     "output_type": "error",
     "traceback": [
      "\u001b[0;31m---------------------------------------------------------------------------\u001b[0m",
      "\u001b[0;31mTypeError\u001b[0m                                 Traceback (most recent call last)",
      "Input \u001b[0;32mIn [14]\u001b[0m, in \u001b[0;36m<cell line: 1>\u001b[0;34m()\u001b[0m\n\u001b[0;32m----> 1\u001b[0m \u001b[38;5;124;43m'\u001b[39;49m\u001b[38;5;124;43mI am groot\u001b[39;49m\u001b[38;5;124;43m'\u001b[39;49m\u001b[43m \u001b[49m\u001b[38;5;241;43m-\u001b[39;49m\u001b[43m \u001b[49m\u001b[38;5;124;43m'\u001b[39;49m\u001b[38;5;124;43mgroot\u001b[39;49m\u001b[38;5;124;43m'\u001b[39;49m\n",
      "\u001b[0;31mTypeError\u001b[0m: unsupported operand type(s) for -: 'str' and 'str'"
     ]
    }
   ],
   "source": [
    "'I am groot' - 'groot'"
   ]
  },
  {
   "cell_type": "code",
   "execution_count": 16,
   "id": "c1cd2df3",
   "metadata": {},
   "outputs": [
    {
     "data": {
      "text/plain": [
       "'I am '"
      ]
     },
     "execution_count": 16,
     "metadata": {},
     "output_type": "execute_result"
    }
   ],
   "source": [
    "'I am groot'[:-5]"
   ]
  },
  {
   "cell_type": "code",
   "execution_count": 46,
   "id": "5a125ca7",
   "metadata": {},
   "outputs": [
    {
     "data": {
      "text/plain": [
       "'I groot. I am not thor. I am not Loki.'"
      ]
     },
     "execution_count": 46,
     "metadata": {},
     "output_type": "execute_result"
    }
   ],
   "source": [
    "data = 'I am groot. I am not thor. I am not Loki.'\n",
    "data.replace('am ','', 1)"
   ]
  },
  {
   "cell_type": "code",
   "execution_count": 47,
   "id": "c3b0b2a0",
   "metadata": {},
   "outputs": [
    {
     "data": {
      "text/plain": [
       "'I am groot. I'"
      ]
     },
     "execution_count": 47,
     "metadata": {},
     "output_type": "execute_result"
    }
   ],
   "source": [
    "data[:13]"
   ]
  },
  {
   "cell_type": "code",
   "execution_count": 48,
   "id": "3fdaf513",
   "metadata": {},
   "outputs": [
    {
     "data": {
      "text/plain": [
       "' not thor. I am not Loki.'"
      ]
     },
     "execution_count": 48,
     "metadata": {},
     "output_type": "execute_result"
    }
   ],
   "source": [
    "data[16:]"
   ]
  },
  {
   "cell_type": "code",
   "execution_count": 21,
   "id": "1e80582e",
   "metadata": {},
   "outputs": [
    {
     "data": {
      "text/plain": [
       "'I am groot. I not thor. I am not Loki.'"
      ]
     },
     "execution_count": 21,
     "metadata": {},
     "output_type": "execute_result"
    }
   ],
   "source": [
    "data[:13] + data[16:]"
   ]
  },
  {
   "cell_type": "code",
   "execution_count": 22,
   "id": "c9f20a85",
   "metadata": {},
   "outputs": [
    {
     "data": {
      "text/plain": [
       "'ab'"
      ]
     },
     "execution_count": 22,
     "metadata": {},
     "output_type": "execute_result"
    }
   ],
   "source": [
    "data1 = 'a'\n",
    "data2 = 'b'\n",
    "\n",
    "output = 'ab'\n",
    "data1+data2"
   ]
  },
  {
   "cell_type": "code",
   "execution_count": 23,
   "id": "4664ec14",
   "metadata": {
    "scrolled": true
   },
   "outputs": [
    {
     "data": {
      "text/plain": [
       "'ab'"
      ]
     },
     "execution_count": 23,
     "metadata": {},
     "output_type": "execute_result"
    }
   ],
   "source": [
    "data1.__add__(data2)"
   ]
  },
  {
   "cell_type": "markdown",
   "id": "ac206ebc",
   "metadata": {},
   "source": [
    "# Challenge"
   ]
  },
  {
   "cell_type": "code",
   "execution_count": 8,
   "id": "a58f197a",
   "metadata": {},
   "outputs": [
    {
     "data": {
      "text/plain": [
       "'abcdeUVWXYZ'"
      ]
     },
     "execution_count": 8,
     "metadata": {},
     "output_type": "execute_result"
    }
   ],
   "source": [
    "data = 'abcdefghijklmnopqrstuvwxyz'\n",
    "output = 'abcdeUVWXYZ'\n",
    "data1 = data[20:].upper()\n",
    "data2 = data[:5].lower()\n",
    "output = data2+data1\n",
    "output"
   ]
  },
  {
   "cell_type": "code",
   "execution_count": 25,
   "id": "e37381db",
   "metadata": {},
   "outputs": [
    {
     "data": {
      "text/plain": [
       "'abcdeUVWXYZ'"
      ]
     },
     "execution_count": 25,
     "metadata": {},
     "output_type": "execute_result"
    }
   ],
   "source": [
    "data='abcdefghijklmnopqrstuvwxyz'\n",
    "data.replace('fghijklmnopqrstuvwxyz','UVWXYZ')"
   ]
  },
  {
   "cell_type": "code",
   "execution_count": 26,
   "id": "b92e9b5b",
   "metadata": {},
   "outputs": [
    {
     "data": {
      "text/plain": [
       "'abcdeUVWXYZ'"
      ]
     },
     "execution_count": 26,
     "metadata": {},
     "output_type": "execute_result"
    }
   ],
   "source": [
    "data[:5]+data[-6:].upper()"
   ]
  },
  {
   "cell_type": "code",
   "execution_count": 28,
   "id": "8104cb36",
   "metadata": {},
   "outputs": [
    {
     "name": "stdout",
     "output_type": "stream",
     "text": [
      "abcdeUVWXYZ\n"
     ]
    }
   ],
   "source": [
    "data='abcdefghijklmnopqrstuvwxyz'\n",
    "a = data[:5]\n",
    "b= data[-6:].swapcase()\n",
    "c = a + b\n",
    "print(c)"
   ]
  },
  {
   "cell_type": "markdown",
   "id": "fc6523e3",
   "metadata": {},
   "source": [
    "# Challenge 2"
   ]
  },
  {
   "cell_type": "code",
   "execution_count": null,
   "id": "55991273",
   "metadata": {},
   "outputs": [],
   "source": [
    "data1 = 'Rupesh'\n",
    "age = 27\n",
    "\n",
    "'Rupesh is 27 years old. Rupesh is 27 years old.'"
   ]
  },
  {
   "cell_type": "code",
   "execution_count": 29,
   "id": "385cebd9",
   "metadata": {
    "scrolled": true
   },
   "outputs": [
    {
     "name": "stdout",
     "output_type": "stream",
     "text": [
      "Rupesh is 27 years old\n"
     ]
    }
   ],
   "source": [
    "a=\"Rupesh\"\n",
    "age=27\n",
    "print(a,\"is\",age, \"years old\")"
   ]
  },
  {
   "cell_type": "code",
   "execution_count": 33,
   "id": "fa6b87e9",
   "metadata": {
    "scrolled": true
   },
   "outputs": [
    {
     "data": {
      "text/plain": [
       "'ABC'"
      ]
     },
     "execution_count": 33,
     "metadata": {},
     "output_type": "execute_result"
    }
   ],
   "source": [
    "data = 'abc'\n",
    "data.upper()"
   ]
  },
  {
   "cell_type": "code",
   "execution_count": 37,
   "id": "8c9e9101",
   "metadata": {},
   "outputs": [
    {
     "data": {
      "text/plain": [
       "'Rupesh is 27 years old. Rupesh is 27 years old. '"
      ]
     },
     "execution_count": 37,
     "metadata": {},
     "output_type": "execute_result"
    }
   ],
   "source": [
    "data1= 'Rupesh'\n",
    "age='27'\n",
    "(data1+' '+ 'is '+ age +' '+'years '+'old. ')*2"
   ]
  },
  {
   "cell_type": "code",
   "execution_count": null,
   "id": "e62ac988",
   "metadata": {},
   "outputs": [],
   "source": []
  },
  {
   "cell_type": "markdown",
   "id": "7d78f9f2",
   "metadata": {},
   "source": [
    "- Mutable objects:\n",
    "    - Objects that can be changed directly without updating the original variable or creating a new variable"
   ]
  },
  {
   "cell_type": "markdown",
   "id": "18bfbd8c",
   "metadata": {},
   "source": [
    "- Immutable objects : \n",
    "    - Objects that cannot be changed unless they are updated explicitly or stored in a new variable\n",
    "    - They would always stay the same once they have been created"
   ]
  },
  {
   "cell_type": "markdown",
   "id": "1f3d0fac",
   "metadata": {},
   "source": [
    "- String is an immutable object"
   ]
  },
  {
   "cell_type": "code",
   "execution_count": 10,
   "id": "828efdbe",
   "metadata": {},
   "outputs": [
    {
     "data": {
      "text/plain": [
       "'I am not Thor.'"
      ]
     },
     "execution_count": 10,
     "metadata": {},
     "output_type": "execute_result"
    }
   ],
   "source": [
    "a = 'I am Groot.'\n",
    "b = 'I am not Thor.'\n",
    "output = a.replace('Groot','not Thor')\n",
    "output"
   ]
  },
  {
   "cell_type": "code",
   "execution_count": 44,
   "id": "ef25713a",
   "metadata": {},
   "outputs": [],
   "source": [
    "output = a.replace('Groot', 'not Thor')"
   ]
  },
  {
   "cell_type": "code",
   "execution_count": 45,
   "id": "98beabf9",
   "metadata": {
    "scrolled": true
   },
   "outputs": [
    {
     "data": {
      "text/plain": [
       "('I am Groot.', 'I am not Thor.')"
      ]
     },
     "execution_count": 45,
     "metadata": {},
     "output_type": "execute_result"
    }
   ],
   "source": [
    "a, output"
   ]
  }
 ],
 "metadata": {
  "kernelspec": {
   "display_name": "Python 3 (ipykernel)",
   "language": "python",
   "name": "python3"
  },
  "language_info": {
   "codemirror_mode": {
    "name": "ipython",
    "version": 3
   },
   "file_extension": ".py",
   "mimetype": "text/x-python",
   "name": "python",
   "nbconvert_exporter": "python",
   "pygments_lexer": "ipython3",
   "version": "3.9.12"
  }
 },
 "nbformat": 4,
 "nbformat_minor": 5
}

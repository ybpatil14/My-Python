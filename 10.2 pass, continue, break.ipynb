{
 "cells": [
  {
   "cell_type": "markdown",
   "id": "8a023a56",
   "metadata": {},
   "source": [
    "## Two new keywords"
   ]
  },
  {
   "cell_type": "markdown",
   "id": "808a7f8e",
   "metadata": {},
   "source": [
    "- pass\n",
    "- continue\n",
    "- break"
   ]
  },
  {
   "cell_type": "markdown",
   "id": "fed0e036",
   "metadata": {},
   "source": [
    "#### 1. pass"
   ]
  },
  {
   "cell_type": "markdown",
   "id": "864ed7a4",
   "metadata": {},
   "source": [
    "Pass keyword is basically used to skip over a condition when we dont want to do anything if certain condition is achieved"
   ]
  },
  {
   "cell_type": "code",
   "execution_count": 7,
   "id": "1bd4f337",
   "metadata": {},
   "outputs": [
    {
     "name": "stdout",
     "output_type": "stream",
     "text": [
      "1 is odd\n",
      "2 is even\n",
      "3 is odd\n",
      "4 is even\n",
      "5 is odd\n",
      "6 is even\n",
      "7 is odd\n",
      "8 is even\n",
      "9 is odd\n",
      "10 is even\n"
     ]
    }
   ],
   "source": [
    "data = range(0,11)\n",
    "\n",
    "for i in data:\n",
    "    if i==0:\n",
    "        print(end='')\n",
    "    elif i%2==0:\n",
    "        print(f'{i} is even')\n",
    "    else:\n",
    "        print(f'{i} is odd')"
   ]
  },
  {
   "cell_type": "code",
   "execution_count": 10,
   "id": "84820e3f",
   "metadata": {},
   "outputs": [
    {
     "name": "stdout",
     "output_type": "stream",
     "text": [
      "2 is even\n",
      "4 is even\n",
      "5 is odd\n",
      "6 is even\n",
      "7 is odd\n",
      "8 is even\n",
      "9 is odd\n",
      "10 is even\n"
     ]
    }
   ],
   "source": [
    "data = range(0,11)\n",
    "\n",
    "for i in data:\n",
    "    if (i==0) or (i==1) or (i==3):            # agar if / conditional statement ke baad koi initialize statement nai ho,\n",
    "        pass                                  # to vaha par hum pass statement use kar sakte h\n",
    "    elif i%2==0:\n",
    "        print(f'{i} is even')\n",
    "    else:\n",
    "        print(f'{i} is odd')"
   ]
  },
  {
   "cell_type": "code",
   "execution_count": 22,
   "id": "7e214926",
   "metadata": {},
   "outputs": [
    {
     "data": {
      "text/plain": [
       "(0, 1, 2, 3)"
      ]
     },
     "execution_count": 22,
     "metadata": {},
     "output_type": "execute_result"
    }
   ],
   "source": [
    "tuple(range(4))"
   ]
  },
  {
   "cell_type": "markdown",
   "id": "80746fca",
   "metadata": {},
   "source": [
    "##### Program 1"
   ]
  },
  {
   "cell_type": "code",
   "execution_count": 29,
   "id": "3432971e",
   "metadata": {},
   "outputs": [
    {
     "name": "stdout",
     "output_type": "stream",
     "text": [
      "Ramesh got 40 marks and has successfully passed the examination !\n",
      "Suresh got 78 marks and has successfully passed the examination !\n",
      "Gokul got 94 marks and has successfully passed the examination !\n"
     ]
    }
   ],
   "source": [
    "students = ('Ramesh', 'Suresh', 'Gokul','Thanos')\n",
    "marks = (40, 78, 94, 5)\n",
    "\n",
    "if len(students) == len(marks): # checking if both the iterables match\n",
    "    for index in range(len(marks)): # using the length of one iterable to define the range to iterate over\n",
    "        student_name = students[index] # accessing the student name at the current index\n",
    "        marks_obtained = marks[index] # accessing the marks obtained by the student\n",
    "        \n",
    "        if marks_obtained <40: # failing criteria\n",
    "            pass\n",
    "        else: # passed students\n",
    "            print(f'{student_name} got {marks_obtained} marks and has successfully passed the examination !')\n",
    "else:\n",
    "    print('The lengths do not match !')"
   ]
  },
  {
   "cell_type": "markdown",
   "id": "3909cfe2",
   "metadata": {},
   "source": [
    "##### Program 2"
   ]
  },
  {
   "cell_type": "raw",
   "id": "ad6d1ae2",
   "metadata": {},
   "source": [
    "students = ('Ramesh', 'Suresh', 'Gokul','Thanos', 'Potato', 'Harish')\n",
    "marks = (40, 78, 94, 5, 35, 22)\n",
    "\n",
    "Failing_tuple = (('Thanos',5), ('Potato', 35), ('Harish', 22))"
   ]
  },
  {
   "cell_type": "code",
   "execution_count": 37,
   "id": "2f591e35",
   "metadata": {},
   "outputs": [
    {
     "name": "stdout",
     "output_type": "stream",
     "text": [
      "The passing students tuple is : (('Ramesh', 40), ('Suresh', 78), ('Gokul', 94))\n",
      "The failing students tuple is : (('Thanos', 5), ('Potato', 35), ('Harish', 22))\n"
     ]
    }
   ],
   "source": [
    "students = ('Ramesh', 'Suresh', 'Gokul','Thanos', 'Potato', 'Harish')\n",
    "marks = (40, 78, 94, 5, 35, 22)\n",
    "\n",
    "passing_students = tuple()\n",
    "failing_students = tuple()\n",
    "\n",
    "if len(students) == len(marks):\n",
    "    for index in range(len(students)):\n",
    "        student_name = students[index]\n",
    "        marks_obtained = marks[index]\n",
    "        \n",
    "        student_marks_tuple = (student_name, marks_obtained)\n",
    "        \n",
    "        if marks_obtained < 40:\n",
    "            failing_students = failing_students.__add__((student_marks_tuple,))\n",
    "        else:\n",
    "            passing_students = passing_students.__add__((student_marks_tuple,))\n",
    "            \n",
    "    print(f'The passing students tuple is : {passing_students}')\n",
    "    print(f'The failing students tuple is : {failing_students}')\n",
    "    \n",
    "else:\n",
    "    print('Lengths dont match !')"
   ]
  },
  {
   "cell_type": "code",
   "execution_count": 42,
   "id": "6ef5165d",
   "metadata": {},
   "outputs": [
    {
     "name": "stdout",
     "output_type": "stream",
     "text": [
      "9\n"
     ]
    }
   ],
   "source": [
    "number = 9\n",
    "\n",
    "if number%2==0: # condition to be skipped\n",
    "    pass\n",
    "elif number%3==0: # condition to be considered\n",
    "    print(number)"
   ]
  },
  {
   "cell_type": "code",
   "execution_count": 44,
   "id": "5e772d56",
   "metadata": {},
   "outputs": [
    {
     "name": "stdout",
     "output_type": "stream",
     "text": [
      "The number is 0\n",
      "\n",
      "number : 1\n",
      "The number is 1\n",
      "\n",
      "The number is 2\n",
      "\n",
      "number : 3\n",
      "The number is 3\n",
      "\n",
      "The number is 4\n",
      "\n",
      "number : 5\n",
      "The number is 5\n",
      "\n",
      "The number is 6\n",
      "\n",
      "number : 7\n",
      "The number is 7\n",
      "\n",
      "The number is 8\n",
      "\n",
      "number : 9\n",
      "The number is 9\n",
      "\n"
     ]
    }
   ],
   "source": [
    "data = ''\n",
    "for i in range(10):\n",
    "    if i%2==0:\n",
    "        pass\n",
    "    else:\n",
    "        print(f'number : {i}')\n",
    "    print(f'The number is {i}')\n",
    "    print()"
   ]
  },
  {
   "cell_type": "markdown",
   "id": "f2e80733",
   "metadata": {},
   "source": [
    "#### 2. continue"
   ]
  },
  {
   "cell_type": "markdown",
   "id": "a0cb3db4",
   "metadata": {},
   "source": [
    "- While `pass` is used just to skip a statement; `continue` would simply skip the entire iteration if been accessed\n",
    "- pass can be used inside conditionals only but to use continue we need loops"
   ]
  },
  {
   "cell_type": "code",
   "execution_count": 51,
   "id": "09527803",
   "metadata": {},
   "outputs": [
    {
     "name": "stdout",
     "output_type": "stream",
     "text": [
      "0\n",
      "\n",
      "number : 1\n",
      "The number is 1\n",
      "\n",
      "2\n",
      "\n",
      "number : 3\n",
      "The number is 3\n",
      "\n",
      "4\n",
      "\n",
      "number : 5\n",
      "The number is 5\n",
      "\n",
      "6\n",
      "\n",
      "number : 7\n",
      "The number is 7\n",
      "\n",
      "8\n",
      "\n",
      "number : 9\n",
      "The number is 9\n",
      "\n"
     ]
    }
   ],
   "source": [
    "data = ''\n",
    "for i in range(10):\n",
    "    if i%2==0:\n",
    "        continue\n",
    "    else:\n",
    "        print(f'number : {i}')\n",
    "        \n",
    "    print(f'The number is {i}')\n",
    "    print()"
   ]
  },
  {
   "cell_type": "markdown",
   "id": "a6982abe",
   "metadata": {},
   "source": [
    "##### Case I"
   ]
  },
  {
   "cell_type": "code",
   "execution_count": 52,
   "id": "01e9a81d",
   "metadata": {},
   "outputs": [
    {
     "name": "stdout",
     "output_type": "stream",
     "text": [
      "Name is Ramesh\n"
     ]
    }
   ],
   "source": [
    "name= 'Ramesh'\n",
    "\n",
    "if name.istitle():\n",
    "    pass\n",
    "else:\n",
    "    print(1)\n",
    "\n",
    "print(f'Name is {name}')"
   ]
  },
  {
   "cell_type": "markdown",
   "id": "374cbdaa",
   "metadata": {},
   "source": [
    "##### Case II"
   ]
  },
  {
   "cell_type": "code",
   "execution_count": 56,
   "id": "2d4ddf12",
   "metadata": {},
   "outputs": [
    {
     "name": "stdout",
     "output_type": "stream",
     "text": [
      "1\n",
      "Name is ramesh\n",
      "1\n",
      "Name is suresh\n"
     ]
    }
   ],
   "source": [
    "names = ['ramesh', 'suresh']\n",
    "for name in names:\n",
    "    if name.istitle():\n",
    "        continue\n",
    "    else:\n",
    "        print(1)\n",
    "\n",
    "    print(f'Name is {name}')"
   ]
  },
  {
   "cell_type": "markdown",
   "id": "e320719b",
   "metadata": {},
   "source": [
    "#### 3. break"
   ]
  },
  {
   "cell_type": "markdown",
   "id": "a812940e",
   "metadata": {},
   "source": [
    "- unlike `pass` or `continue` the `break` command is explicitly used to terminate the loop at any point"
   ]
  },
  {
   "cell_type": "code",
   "execution_count": 62,
   "id": "ccbd2b24",
   "metadata": {},
   "outputs": [
    {
     "name": "stdout",
     "output_type": "stream",
     "text": [
      "0\n",
      "The number is 0\n",
      "1\n",
      "The number is 1\n",
      "2\n",
      "The number is 2\n",
      "3\n",
      "The number is 3\n",
      "4\n",
      "The number is 4\n"
     ]
    }
   ],
   "source": [
    "for i in range(10):\n",
    "    if i == 5:\n",
    "        break\n",
    "    else:\n",
    "        print(i)\n",
    "    print(f'The number is {i}')"
   ]
  },
  {
   "cell_type": "code",
   "execution_count": 63,
   "id": "8bb809d7",
   "metadata": {},
   "outputs": [
    {
     "name": "stdout",
     "output_type": "stream",
     "text": [
      "0\n",
      "The number is 0\n",
      "1\n",
      "The number is 1\n",
      "2\n",
      "The number is 2\n",
      "3\n",
      "The number is 3\n",
      "4\n",
      "The number is 4\n",
      "The number is 5\n",
      "6\n",
      "The number is 6\n",
      "7\n",
      "The number is 7\n",
      "8\n",
      "The number is 8\n",
      "9\n",
      "The number is 9\n"
     ]
    }
   ],
   "source": [
    "for i in range(10):\n",
    "    if i == 5:\n",
    "        pass\n",
    "    else:\n",
    "        print(i)\n",
    "    print(f'The number is {i}')"
   ]
  },
  {
   "cell_type": "code",
   "execution_count": 64,
   "id": "379ecb1c",
   "metadata": {},
   "outputs": [
    {
     "name": "stdout",
     "output_type": "stream",
     "text": [
      "0\n",
      "The number is 0\n",
      "1\n",
      "The number is 1\n",
      "2\n",
      "The number is 2\n",
      "3\n",
      "The number is 3\n",
      "4\n",
      "The number is 4\n",
      "6\n",
      "The number is 6\n",
      "7\n",
      "The number is 7\n",
      "8\n",
      "The number is 8\n",
      "9\n",
      "The number is 9\n"
     ]
    }
   ],
   "source": [
    "for i in range(10):\n",
    "    if i == 5:\n",
    "        continue\n",
    "    else:\n",
    "        print(i)\n",
    "    print(f'The number is {i}')"
   ]
  }
 ],
 "metadata": {
  "kernelspec": {
   "display_name": "Python 3 (ipykernel)",
   "language": "python",
   "name": "python3"
  },
  "language_info": {
   "codemirror_mode": {
    "name": "ipython",
    "version": 3
   },
   "file_extension": ".py",
   "mimetype": "text/x-python",
   "name": "python",
   "nbconvert_exporter": "python",
   "pygments_lexer": "ipython3",
   "version": "3.9.12"
  }
 },
 "nbformat": 4,
 "nbformat_minor": 5
}

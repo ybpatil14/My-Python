{
 "cells": [
  {
   "cell_type": "markdown",
   "id": "d4197f7f",
   "metadata": {},
   "source": [
    "### Properties\n",
    "- Mappings\n",
    "- It is usually used to store data about something else\n",
    "\n",
    "- key-value pairs which are separated by `:`\n",
    "    - keys : data\n",
    "    - values : meta-data about keys\n",
    "\n",
    "- starts and ends with curly brackets and can be initialized by `{}` or `dict()`\n",
    "\n",
    "- Unordered data type and thats why we cannot use indexing in dictionaries\n",
    "- `A dictionary cannot have duplicate keys`\n",
    "- key can be anything immutable\n",
    "- values can be anything"
   ]
  },
  {
   "cell_type": "raw",
   "id": "4f591d45",
   "metadata": {},
   "source": [
    "{key1:value1,key2:value2,key3:value3}"
   ]
  },
  {
   "cell_type": "markdown",
   "id": "baa97c19",
   "metadata": {},
   "source": [
    "- keys can be consisted of : int, float, strings, tuples {anything purely immutable}\n",
    "- values can contain anything {absolutely anything}  "
   ]
  },
  {
   "cell_type": "code",
   "execution_count": 57,
   "id": "303e0053",
   "metadata": {},
   "outputs": [
    {
     "data": {
      "text/plain": [
       "{1: 'a', 2.55: 'b', 'Groot': 'Hero', 'Marks': 77, (55, 67, 899, 'lalala'): 999}"
      ]
     },
     "execution_count": 57,
     "metadata": {},
     "output_type": "execute_result"
    }
   ],
   "source": [
    "dict1 = {1:'a',2.55:'b','Groot':'Hero','Marks':77, (55,67,899,'lalala'):999}\n",
    "dict1"
   ]
  },
  {
   "cell_type": "code",
   "execution_count": 59,
   "id": "af41d5d7",
   "metadata": {},
   "outputs": [
    {
     "ename": "TypeError",
     "evalue": "unhashable type: 'list'",
     "output_type": "error",
     "traceback": [
      "\u001b[0;31m---------------------------------------------------------------------------\u001b[0m",
      "\u001b[0;31mTypeError\u001b[0m                                 Traceback (most recent call last)",
      "Input \u001b[0;32mIn [59]\u001b[0m, in \u001b[0;36m<cell line: 1>\u001b[0;34m()\u001b[0m\n\u001b[0;32m----> 1\u001b[0m dict2 \u001b[38;5;241m=\u001b[39m {[\u001b[38;5;241m1\u001b[39m,\u001b[38;5;241m2\u001b[39m,\u001b[38;5;241m3\u001b[39m]:\u001b[38;5;124m'\u001b[39m\u001b[38;5;124m55\u001b[39m\u001b[38;5;124m'\u001b[39m,\u001b[38;5;124m'\u001b[39m\u001b[38;5;124mGroot\u001b[39m\u001b[38;5;124m'\u001b[39m:\u001b[38;5;241m13\u001b[39m}\n",
      "\u001b[0;31mTypeError\u001b[0m: unhashable type: 'list'"
     ]
    }
   ],
   "source": [
    "dict2 = {[1,2,3]:'55','Groot':13}"
   ]
  },
  {
   "cell_type": "code",
   "execution_count": null,
   "id": "02fe9a33",
   "metadata": {},
   "outputs": [],
   "source": []
  },
  {
   "cell_type": "code",
   "execution_count": 6,
   "id": "262e59e8",
   "metadata": {},
   "outputs": [],
   "source": [
    "tuple_data = (('Spider man','hero'),('Ant man','hero'),('Darth Vader', 'villian'), ('Kilvish','villian'))"
   ]
  },
  {
   "cell_type": "code",
   "execution_count": 7,
   "id": "c34111c2",
   "metadata": {},
   "outputs": [],
   "source": [
    "my_dict = {'Spider Man':'hero','Ant man':'hero','Darth Vader':'villian','Kilvish':'villian'}"
   ]
  },
  {
   "cell_type": "code",
   "execution_count": 8,
   "id": "ac056d20",
   "metadata": {},
   "outputs": [
    {
     "data": {
      "text/plain": [
       "{'Spider Man': 'hero',\n",
       " 'Ant man': 'hero',\n",
       " 'Darth Vader': 'villian',\n",
       " 'Kilvish': 'villian'}"
      ]
     },
     "execution_count": 8,
     "metadata": {},
     "output_type": "execute_result"
    }
   ],
   "source": [
    "my_dict"
   ]
  },
  {
   "cell_type": "code",
   "execution_count": 9,
   "id": "3e556a74",
   "metadata": {},
   "outputs": [
    {
     "data": {
      "text/plain": [
       "(('Spider man', 'hero'),\n",
       " ('Ant man', 'hero'),\n",
       " ('Darth Vader', 'villian'),\n",
       " ('Kilvish', 'villian'))"
      ]
     },
     "execution_count": 9,
     "metadata": {},
     "output_type": "execute_result"
    }
   ],
   "source": [
    "tuple_data"
   ]
  },
  {
   "cell_type": "code",
   "execution_count": 10,
   "id": "d1175866",
   "metadata": {},
   "outputs": [
    {
     "data": {
      "text/plain": [
       "{'Spider Man': 'villian',\n",
       " 'Ant man': 'hero',\n",
       " 'Darth Vader': 'villian',\n",
       " 'Kilvish': 'villian'}"
      ]
     },
     "execution_count": 10,
     "metadata": {},
     "output_type": "execute_result"
    }
   ],
   "source": [
    "my_dict = {'Spider Man':'hero','Ant man':'hero','Darth Vader':'villian','Kilvish':'villian', 'Spider Man':'villian'}\n",
    "my_dict"
   ]
  },
  {
   "cell_type": "markdown",
   "id": "4e6f2598",
   "metadata": {},
   "source": [
    "### 1. Creating an empty dictionary"
   ]
  },
  {
   "cell_type": "code",
   "execution_count": 11,
   "id": "352c45d0",
   "metadata": {},
   "outputs": [
    {
     "data": {
      "text/plain": [
       "dict"
      ]
     },
     "execution_count": 11,
     "metadata": {},
     "output_type": "execute_result"
    }
   ],
   "source": [
    "# Using empty curly brackets\n",
    "\n",
    "my_dict = {}\n",
    "type(my_dict)"
   ]
  },
  {
   "cell_type": "code",
   "execution_count": 12,
   "id": "18d17ec1",
   "metadata": {},
   "outputs": [
    {
     "data": {
      "text/plain": [
       "dict"
      ]
     },
     "execution_count": 12,
     "metadata": {},
     "output_type": "execute_result"
    }
   ],
   "source": [
    "# Using the dict() constructor\n",
    "\n",
    "my_dict = dict()\n",
    "type(my_dict)"
   ]
  },
  {
   "cell_type": "code",
   "execution_count": 15,
   "id": "101a26d5",
   "metadata": {},
   "outputs": [
    {
     "data": {
      "text/plain": [
       "0"
      ]
     },
     "execution_count": 15,
     "metadata": {},
     "output_type": "execute_result"
    }
   ],
   "source": [
    "len(my_dict) #--- counts the number of individual keys-value pairs"
   ]
  },
  {
   "cell_type": "markdown",
   "id": "3f761456",
   "metadata": {},
   "source": [
    "### Structure of dictionaries"
   ]
  },
  {
   "cell_type": "code",
   "execution_count": 22,
   "id": "c164c5c3",
   "metadata": {},
   "outputs": [
    {
     "data": {
      "text/plain": [
       "{'numbers': [1, 2, 3, 4, 5, 6], 'alphabets': ['a', 'b', 'c', 'd', 'e']}"
      ]
     },
     "execution_count": 22,
     "metadata": {},
     "output_type": "execute_result"
    }
   ],
   "source": [
    "data = {'numbers':[1,2,3,4,5,6], 'alphabets':['a','b','c','d','e']}\n",
    "data"
   ]
  },
  {
   "cell_type": "code",
   "execution_count": 23,
   "id": "587c4019",
   "metadata": {},
   "outputs": [
    {
     "data": {
      "text/plain": [
       "{'numbers': 2, 'alphabets': 'b'}"
      ]
     },
     "execution_count": 23,
     "metadata": {},
     "output_type": "execute_result"
    }
   ],
   "source": [
    "data1 = {'numbers':1, 'numbers':2, 'alphabets':'a', 'alphabets':'b'}\n",
    "data1"
   ]
  },
  {
   "cell_type": "markdown",
   "id": "75294c70",
   "metadata": {},
   "source": [
    "### 2. Adding values to the dictionary"
   ]
  },
  {
   "cell_type": "markdown",
   "id": "8b9de95d",
   "metadata": {},
   "source": [
    "#### 2.1. syntax 1: dict_name[key] = value"
   ]
  },
  {
   "cell_type": "code",
   "execution_count": 16,
   "id": "76864189",
   "metadata": {},
   "outputs": [
    {
     "name": "stdout",
     "output_type": "stream",
     "text": [
      "{}\n",
      "{'Spider Man': 'Hero'}\n"
     ]
    }
   ],
   "source": [
    "my_dict = {}\n",
    "\n",
    "print(my_dict)\n",
    "my_dict['Spider Man'] = 'Hero'\n",
    "print(my_dict)"
   ]
  },
  {
   "cell_type": "markdown",
   "id": "b3ffe2e9",
   "metadata": {},
   "source": [
    "#### 2.2. using dict.update function"
   ]
  },
  {
   "cell_type": "markdown",
   "id": "b70a2bc3",
   "metadata": {},
   "source": [
    "- It adds the key-value pair if the key is notin the dictionary already or it would simply update the value of the given key if it exists in the dictionary"
   ]
  },
  {
   "cell_type": "code",
   "execution_count": 64,
   "id": "7f4b1b8d",
   "metadata": {},
   "outputs": [
    {
     "name": "stdout",
     "output_type": "stream",
     "text": [
      "{}\n",
      "{'Spider Man': 'Hero', 'Super Man': 'Hero', 'BatMan': 'Hero', 'Darth Vader': 'Hero', 'He Man': 'Hero', 'Cat woman': 'Hero'}\n"
     ]
    }
   ],
   "source": [
    "my_dict = {}\n",
    "\n",
    "print(my_dict)\n",
    "my_dict['Spider Man'] = 'Hero'\n",
    "my_dict['Super Man'] = 'Hero'\n",
    "my_dict['BatMan'] = 'Hero'\n",
    "my_dict['Darth Vader'] = 'Hero'\n",
    "my_dict['He Man'] = 'Hero'\n",
    "my_dict['Cat woman'] = 'Hero'\n",
    "print(my_dict)"
   ]
  },
  {
   "cell_type": "code",
   "execution_count": 65,
   "id": "b8639424",
   "metadata": {},
   "outputs": [
    {
     "data": {
      "text/plain": [
       "{'Spider Man': 'Hero',\n",
       " 'Super Man': 'Hero',\n",
       " 'BatMan': 'Hero',\n",
       " 'Darth Vader': 'Villian',\n",
       " 'He Man': 'Hero',\n",
       " 'Cat woman': 'Hero',\n",
       " 'Super Woman': 'Hero'}"
      ]
     },
     "execution_count": 65,
     "metadata": {},
     "output_type": "execute_result"
    }
   ],
   "source": [
    "my_dict.update({'Darth Vader' : 'Villian', 'Super Woman' : 'Hero'})\n",
    "my_dict"
   ]
  },
  {
   "cell_type": "code",
   "execution_count": 20,
   "id": "542a75e0",
   "metadata": {},
   "outputs": [
    {
     "data": {
      "text/plain": [
       "{'Spider Man': 'Hero',\n",
       " 'Super Man': 'Hero',\n",
       " 'BatMan': 'Hero',\n",
       " 'Darth Vader': 'Villian',\n",
       " 'He Man': 'Hero',\n",
       " 'Cat woman': 'Hero',\n",
       " 'Kilvish': 'Villian'}"
      ]
     },
     "execution_count": 20,
     "metadata": {},
     "output_type": "execute_result"
    }
   ],
   "source": [
    "my_dict.update({'Kilvish':'Villian'})\n",
    "my_dict"
   ]
  },
  {
   "cell_type": "code",
   "execution_count": 24,
   "id": "902bb03d",
   "metadata": {
    "scrolled": true
   },
   "outputs": [
    {
     "data": {
      "text/plain": [
       "{'Spider Man': 'Hero',\n",
       " 'Super Man': 'Hero',\n",
       " 'BatMan': 'Hero',\n",
       " 'Darth Vader': 'Villian',\n",
       " 'He Man': 'Hero',\n",
       " 'Cat woman': 'Hero',\n",
       " 'Kilvish': 'Hero'}"
      ]
     },
     "execution_count": 24,
     "metadata": {},
     "output_type": "execute_result"
    }
   ],
   "source": [
    "my_dict['Kilvish'] = 'Hero'\n",
    "my_dict"
   ]
  },
  {
   "cell_type": "markdown",
   "id": "72719eb8",
   "metadata": {},
   "source": [
    "### Iterating over a dictionary"
   ]
  },
  {
   "cell_type": "markdown",
   "id": "a4bdc208",
   "metadata": {},
   "source": [
    "- It would always acces the keys only to iterate over the dictionary"
   ]
  },
  {
   "cell_type": "code",
   "execution_count": 25,
   "id": "14e1ff1e",
   "metadata": {},
   "outputs": [
    {
     "name": "stdout",
     "output_type": "stream",
     "text": [
      "Spider Man\n",
      "Super Man\n",
      "BatMan\n",
      "Darth Vader\n",
      "He Man\n",
      "Cat woman\n",
      "Kilvish\n"
     ]
    }
   ],
   "source": [
    "my_dict = {'Spider Man': 'Hero',\n",
    "            'Super Man': 'Hero',\n",
    "            'BatMan': 'Hero',\n",
    "            'Darth Vader': 'Villian',\n",
    "            'He Man': 'Hero',\n",
    "            'Cat woman': 'Hero',\n",
    "            'Kilvish': 'Hero'}\n",
    "\n",
    "for data in my_dict:\n",
    "    print(data)"
   ]
  },
  {
   "cell_type": "code",
   "execution_count": 26,
   "id": "506b4848",
   "metadata": {},
   "outputs": [],
   "source": [
    "my_dict['Master'] = None"
   ]
  },
  {
   "cell_type": "code",
   "execution_count": 27,
   "id": "3427df06",
   "metadata": {},
   "outputs": [
    {
     "data": {
      "text/plain": [
       "{'Spider Man': 'Hero',\n",
       " 'Super Man': 'Hero',\n",
       " 'BatMan': 'Hero',\n",
       " 'Darth Vader': 'Villian',\n",
       " 'He Man': 'Hero',\n",
       " 'Cat woman': 'Hero',\n",
       " 'Kilvish': 'Hero',\n",
       " 'Master': None}"
      ]
     },
     "execution_count": 27,
     "metadata": {},
     "output_type": "execute_result"
    }
   ],
   "source": [
    "my_dict"
   ]
  },
  {
   "cell_type": "markdown",
   "id": "6c2de0bd",
   "metadata": {},
   "source": [
    "### 2.3. dict.setdefault\n",
    "\n",
    "- It would give the key a pre-determined value and we dont have to give it an explicit value\n",
    "\n",
    "    syntax : dict.setdefault(key,default_value)"
   ]
  },
  {
   "cell_type": "code",
   "execution_count": 28,
   "id": "d7144430",
   "metadata": {},
   "outputs": [],
   "source": [
    "my_dict.setdefault('Ruby')"
   ]
  },
  {
   "cell_type": "code",
   "execution_count": 29,
   "id": "bf96e66a",
   "metadata": {},
   "outputs": [
    {
     "data": {
      "text/plain": [
       "{'Spider Man': 'Hero',\n",
       " 'Super Man': 'Hero',\n",
       " 'BatMan': 'Hero',\n",
       " 'Darth Vader': 'Villian',\n",
       " 'He Man': 'Hero',\n",
       " 'Cat woman': 'Hero',\n",
       " 'Kilvish': 'Hero',\n",
       " 'Master': None,\n",
       " 'Ruby': None}"
      ]
     },
     "execution_count": 29,
     "metadata": {},
     "output_type": "execute_result"
    }
   ],
   "source": [
    "my_dict"
   ]
  },
  {
   "cell_type": "code",
   "execution_count": 34,
   "id": "865d6625",
   "metadata": {},
   "outputs": [],
   "source": [
    "numbers = range(0,11)\n",
    "my_dict = {}\n",
    "for num in numbers:\n",
    "    my_dict.setdefault(num,0)"
   ]
  },
  {
   "cell_type": "code",
   "execution_count": 35,
   "id": "4e7c6022",
   "metadata": {},
   "outputs": [
    {
     "data": {
      "text/plain": [
       "{0: 0, 1: 0, 2: 0, 3: 0, 4: 0, 5: 0, 6: 0, 7: 0, 8: 0, 9: 0, 10: 0}"
      ]
     },
     "execution_count": 35,
     "metadata": {},
     "output_type": "execute_result"
    }
   ],
   "source": [
    "my_dict"
   ]
  },
  {
   "cell_type": "code",
   "execution_count": 36,
   "id": "48cf0b50",
   "metadata": {},
   "outputs": [],
   "source": [
    "money_in_crores = [2,6,8,9,1,5,2,7,3,4,5,6,2,1,7,8,9,0,2,4,1,5,6,6,8,7]\n",
    "for money in money_in_crores:\n",
    "    if money in my_dict:\n",
    "        my_dict[money]+=1"
   ]
  },
  {
   "cell_type": "code",
   "execution_count": 37,
   "id": "82955668",
   "metadata": {},
   "outputs": [
    {
     "data": {
      "text/plain": [
       "{0: 1, 1: 3, 2: 4, 3: 1, 4: 2, 5: 3, 6: 4, 7: 3, 8: 3, 9: 2, 10: 0}"
      ]
     },
     "execution_count": 37,
     "metadata": {},
     "output_type": "execute_result"
    }
   ],
   "source": [
    "my_dict"
   ]
  },
  {
   "cell_type": "code",
   "execution_count": null,
   "id": "869b1073",
   "metadata": {},
   "outputs": [],
   "source": [
    "data = 'I am Groot. I am not your enemy. I just am groot.'"
   ]
  },
  {
   "cell_type": "code",
   "execution_count": 38,
   "id": "91570475",
   "metadata": {},
   "outputs": [
    {
     "data": {
      "text/plain": [
       "{'I': 3,\n",
       " 'am': 3,\n",
       " 'Groot.': 1,\n",
       " 'not': 1,\n",
       " 'your': 1,\n",
       " 'enemy.': 1,\n",
       " 'just': 1,\n",
       " 'groot.': 1}"
      ]
     },
     "execution_count": 38,
     "metadata": {},
     "output_type": "execute_result"
    }
   ],
   "source": [
    "# Ashutosh Singh21:29\n",
    "\n",
    "mydict = {}\n",
    "data = 'I am Groot. I am not your enemy. I just am groot.'\n",
    "data = data.split()\n",
    "for i in data:\n",
    "    mydict[i] = data.count(i)\n",
    "mydict"
   ]
  },
  {
   "cell_type": "code",
   "execution_count": 41,
   "id": "663b169c",
   "metadata": {},
   "outputs": [
    {
     "name": "stdout",
     "output_type": "stream",
     "text": [
      "{'i': 3, ' ': 11, 'a': 3, 'm': 4, 'g': 2, 'r': 3, 'o': 6, 't': 4, '.': 3, 'n': 2, 'y': 2, 'u': 2, 'e': 2, 'j': 1, 's': 1}\n"
     ]
    }
   ],
   "source": [
    "# sonali Jawale21:30\n",
    "\n",
    "data = 'I am Groot. I am not your enemy. I just am groot.'\n",
    "data = data.lower()\n",
    "dictionary={}\n",
    "for i in data:\n",
    "    if i in dictionary:\n",
    "        dictionary[i]+=1\n",
    "    else:\n",
    "        dictionary[i]=1\n",
    "print(dictionary)"
   ]
  },
  {
   "cell_type": "markdown",
   "id": "d3524125",
   "metadata": {},
   "source": [
    "### 2. Accessing elements in a dictionary"
   ]
  },
  {
   "cell_type": "code",
   "execution_count": 42,
   "id": "cccf61bb",
   "metadata": {},
   "outputs": [],
   "source": [
    "my_dict = {'Spider Man': 'Hero',\n",
    "            'Super Man': 'Hero',\n",
    "            'BatMan': 'Hero',\n",
    "            'Darth Vader': 'Villian',\n",
    "            'He Man': 'Hero',\n",
    "            'Cat woman': 'Hero',\n",
    "            'Kilvish': 'Hero'}"
   ]
  },
  {
   "cell_type": "markdown",
   "id": "dae34cce",
   "metadata": {},
   "source": [
    "### syntax 1 : dict_name[key]"
   ]
  },
  {
   "cell_type": "markdown",
   "id": "8116de10",
   "metadata": {},
   "source": [
    "- it returns the value of the key if the key is present in the dictionary\n",
    "- If the key is absent in the dictionary, it raises KeyError : Key is not present in the dictionary"
   ]
  },
  {
   "cell_type": "code",
   "execution_count": 43,
   "id": "e248d476",
   "metadata": {},
   "outputs": [
    {
     "data": {
      "text/plain": [
       "'Hero'"
      ]
     },
     "execution_count": 43,
     "metadata": {},
     "output_type": "execute_result"
    }
   ],
   "source": [
    "my_dict['Spider Man']"
   ]
  },
  {
   "cell_type": "code",
   "execution_count": 44,
   "id": "f98908c7",
   "metadata": {},
   "outputs": [
    {
     "ename": "KeyError",
     "evalue": "'Jadoo'",
     "output_type": "error",
     "traceback": [
      "\u001b[0;31m---------------------------------------------------------------------------\u001b[0m",
      "\u001b[0;31mKeyError\u001b[0m                                  Traceback (most recent call last)",
      "Input \u001b[0;32mIn [44]\u001b[0m, in \u001b[0;36m<cell line: 1>\u001b[0;34m()\u001b[0m\n\u001b[0;32m----> 1\u001b[0m \u001b[43mmy_dict\u001b[49m\u001b[43m[\u001b[49m\u001b[38;5;124;43m'\u001b[39;49m\u001b[38;5;124;43mJadoo\u001b[39;49m\u001b[38;5;124;43m'\u001b[39;49m\u001b[43m]\u001b[49m\n",
      "\u001b[0;31mKeyError\u001b[0m: 'Jadoo'"
     ]
    }
   ],
   "source": [
    "my_dict['Jadoo']"
   ]
  },
  {
   "cell_type": "code",
   "execution_count": 48,
   "id": "d1d415f9",
   "metadata": {},
   "outputs": [
    {
     "name": "stdout",
     "output_type": "stream",
     "text": [
      "Spider Man\n",
      "Hero\n",
      "\n",
      "Super Man\n",
      "Hero\n",
      "\n",
      "Obi Wan Kenobi\n"
     ]
    },
    {
     "ename": "KeyError",
     "evalue": "'Obi Wan Kenobi'",
     "output_type": "error",
     "traceback": [
      "\u001b[0;31m---------------------------------------------------------------------------\u001b[0m",
      "\u001b[0;31mKeyError\u001b[0m                                  Traceback (most recent call last)",
      "Input \u001b[0;32mIn [48]\u001b[0m, in \u001b[0;36m<cell line: 2>\u001b[0;34m()\u001b[0m\n\u001b[1;32m      2\u001b[0m \u001b[38;5;28;01mfor\u001b[39;00m hero \u001b[38;5;129;01min\u001b[39;00m list_of_superheroes:\n\u001b[1;32m      3\u001b[0m     \u001b[38;5;28mprint\u001b[39m(hero)\n\u001b[0;32m----> 4\u001b[0m     \u001b[38;5;28mprint\u001b[39m(\u001b[43mmy_dict\u001b[49m\u001b[43m[\u001b[49m\u001b[43mhero\u001b[49m\u001b[43m]\u001b[49m)\n\u001b[1;32m      5\u001b[0m     \u001b[38;5;28mprint\u001b[39m()\n",
      "\u001b[0;31mKeyError\u001b[0m: 'Obi Wan Kenobi'"
     ]
    }
   ],
   "source": [
    "list_of_superheroes = ['Spider Man', 'Super Man', 'Obi Wan Kenobi', \"BatMan\"]\n",
    "for hero in list_of_superheroes:\n",
    "    print(hero)\n",
    "    print(my_dict[hero])\n",
    "    print()"
   ]
  },
  {
   "cell_type": "markdown",
   "id": "06c96499",
   "metadata": {},
   "source": [
    "### syntax 2 : dict.get function"
   ]
  },
  {
   "cell_type": "raw",
   "id": "e3c98505",
   "metadata": {},
   "source": [
    "dict_name.get(key)"
   ]
  },
  {
   "cell_type": "code",
   "execution_count": 49,
   "id": "5e4454bd",
   "metadata": {},
   "outputs": [
    {
     "data": {
      "text/plain": [
       "{'Spider Man': 'Hero',\n",
       " 'Super Man': 'Hero',\n",
       " 'BatMan': 'Hero',\n",
       " 'Darth Vader': 'Villian',\n",
       " 'He Man': 'Hero',\n",
       " 'Cat woman': 'Hero',\n",
       " 'Kilvish': 'Hero'}"
      ]
     },
     "execution_count": 49,
     "metadata": {},
     "output_type": "execute_result"
    }
   ],
   "source": [
    "my_dict"
   ]
  },
  {
   "cell_type": "code",
   "execution_count": 50,
   "id": "cc753f21",
   "metadata": {},
   "outputs": [
    {
     "data": {
      "text/plain": [
       "'Hero'"
      ]
     },
     "execution_count": 50,
     "metadata": {},
     "output_type": "execute_result"
    }
   ],
   "source": [
    "my_dict.get('Spider Man')"
   ]
  },
  {
   "cell_type": "code",
   "execution_count": 52,
   "id": "45bd21ff",
   "metadata": {},
   "outputs": [
    {
     "name": "stdout",
     "output_type": "stream",
     "text": [
      "None\n"
     ]
    }
   ],
   "source": [
    "print(my_dict.get('Spider Woman'))"
   ]
  },
  {
   "cell_type": "code",
   "execution_count": 53,
   "id": "3b24cc9c",
   "metadata": {},
   "outputs": [
    {
     "name": "stdout",
     "output_type": "stream",
     "text": [
      "Spider Man\n",
      "Hero\n",
      "\n",
      "Super Man\n",
      "Hero\n",
      "\n",
      "Obi Wan Kenobi\n",
      "None\n",
      "\n",
      "BatMan\n",
      "Hero\n",
      "\n"
     ]
    }
   ],
   "source": [
    "list_of_superheroes = ['Spider Man', 'Super Man', 'Obi Wan Kenobi', \"BatMan\"]\n",
    "for hero in list_of_superheroes:\n",
    "    print(hero)\n",
    "    print(my_dict.get(hero))\n",
    "    print()"
   ]
  },
  {
   "cell_type": "code",
   "execution_count": 54,
   "id": "001f1340",
   "metadata": {},
   "outputs": [
    {
     "data": {
      "text/plain": [
       "{'Spider Man': 'Hero',\n",
       " 'Super Man': 'Hero',\n",
       " 'BatMan': 'Hero',\n",
       " 'Darth Vader': 'Villian',\n",
       " 'He Man': 'Hero',\n",
       " 'Cat woman': 'Hero',\n",
       " 'Kilvish': 'Hero'}"
      ]
     },
     "execution_count": 54,
     "metadata": {},
     "output_type": "execute_result"
    }
   ],
   "source": [
    "# Looping over dictionaries\n",
    "my_dict"
   ]
  },
  {
   "cell_type": "code",
   "execution_count": 55,
   "id": "9d6ae4a1",
   "metadata": {},
   "outputs": [
    {
     "name": "stdout",
     "output_type": "stream",
     "text": [
      "Spider Man >>>>> Hero\n",
      "\n",
      "Super Man >>>>> Hero\n",
      "\n",
      "BatMan >>>>> Hero\n",
      "\n",
      "Darth Vader >>>>> Villian\n",
      "\n",
      "He Man >>>>> Hero\n",
      "\n",
      "Cat woman >>>>> Hero\n",
      "\n",
      "Kilvish >>>>> Hero\n",
      "\n"
     ]
    }
   ],
   "source": [
    "for hero in my_dict:\n",
    "    print(f'{hero} >>>>> {my_dict.get(hero)}')\n",
    "    print()"
   ]
  },
  {
   "cell_type": "code",
   "execution_count": null,
   "id": "018a85a6",
   "metadata": {},
   "outputs": [],
   "source": []
  },
  {
   "cell_type": "code",
   "execution_count": 73,
   "id": "522984b6",
   "metadata": {},
   "outputs": [
    {
     "data": {
      "text/plain": [
       "{1: 'a', 2: 'c', 3: 'd'}"
      ]
     },
     "execution_count": 73,
     "metadata": {},
     "output_type": "execute_result"
    }
   ],
   "source": [
    "my_dict = {1:'a',2:'b',2:'c',3:'d'}\n",
    "my_dict"
   ]
  },
  {
   "cell_type": "code",
   "execution_count": 74,
   "id": "0c87b16e",
   "metadata": {},
   "outputs": [
    {
     "data": {
      "text/plain": [
       "{1: 'a', 2: 'a', 3: 'a'}"
      ]
     },
     "execution_count": 74,
     "metadata": {},
     "output_type": "execute_result"
    }
   ],
   "source": [
    "my_dict = {1:'a',2:'a',3:'a'}\n",
    "my_dict"
   ]
  },
  {
   "cell_type": "code",
   "execution_count": 80,
   "id": "7d6ee192",
   "metadata": {},
   "outputs": [
    {
     "data": {
      "text/plain": [
       "{5: 'c'}"
      ]
     },
     "execution_count": 80,
     "metadata": {},
     "output_type": "execute_result"
    }
   ],
   "source": [
    "my_dict = {1:'a',2:'b',3:'b',4:'a',5:'c'}\n",
    "final_dict = {}\n",
    "\n",
    "val = 'c'\n",
    "for key_ in my_dict:\n",
    "    if my_dict.get(key_) == val:\n",
    "        final_dict.update({key_:val})\n",
    "final_dict"
   ]
  },
  {
   "cell_type": "code",
   "execution_count": null,
   "id": "f30fb41f",
   "metadata": {},
   "outputs": [],
   "source": []
  },
  {
   "cell_type": "markdown",
   "id": "65cd372a",
   "metadata": {},
   "source": [
    "### nested dictionary"
   ]
  },
  {
   "cell_type": "code",
   "execution_count": 81,
   "id": "350f3406",
   "metadata": {},
   "outputs": [],
   "source": [
    "dummy = {1:{'monkey':55,'dwarf':20,'business':15,'movie':5},\n",
    "        2:{'monkey':67,'dwarf':10,'business':28,'movie':90},\n",
    "        3:{'monkey':12,'dwarf':34,'business':1,'movie':0},\n",
    "        4:{'monkey':89,'dwarf':0,'business':0,'movie':0},\n",
    "        5:{'monkey':123,'dwarf':1,'business':0,'movie':3}}"
   ]
  },
  {
   "cell_type": "code",
   "execution_count": 82,
   "id": "60c966fe",
   "metadata": {
    "scrolled": true
   },
   "outputs": [
    {
     "data": {
      "text/plain": [
       "{1: {'monkey': 55, 'dwarf': 20, 'business': 15, 'movie': 5},\n",
       " 2: {'monkey': 67, 'dwarf': 10, 'business': 28, 'movie': 90},\n",
       " 3: {'monkey': 12, 'dwarf': 34, 'business': 1, 'movie': 0},\n",
       " 4: {'monkey': 89, 'dwarf': 0, 'business': 0, 'movie': 0},\n",
       " 5: {'monkey': 123, 'dwarf': 1, 'business': 0, 'movie': 3}}"
      ]
     },
     "execution_count": 82,
     "metadata": {},
     "output_type": "execute_result"
    }
   ],
   "source": [
    "dummy"
   ]
  },
  {
   "cell_type": "code",
   "execution_count": null,
   "id": "e605ab2f",
   "metadata": {},
   "outputs": [],
   "source": []
  }
 ],
 "metadata": {
  "kernelspec": {
   "display_name": "Python 3 (ipykernel)",
   "language": "python",
   "name": "python3"
  },
  "language_info": {
   "codemirror_mode": {
    "name": "ipython",
    "version": 3
   },
   "file_extension": ".py",
   "mimetype": "text/x-python",
   "name": "python",
   "nbconvert_exporter": "python",
   "pygments_lexer": "ipython3",
   "version": "3.9.12"
  }
 },
 "nbformat": 4,
 "nbformat_minor": 5
}

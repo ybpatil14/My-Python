{
 "cells": [
  {
   "cell_type": "markdown",
   "id": "539d616b",
   "metadata": {},
   "source": [
    "### Accessing the elements in a tuple"
   ]
  },
  {
   "cell_type": "markdown",
   "id": "0dff5c90",
   "metadata": {},
   "source": [
    "- The index starts with (0) and would end at (length - 1)\n",
    "\n",
    "- syntax : tuple_name[index]\n",
    "    : returns the item in the index position"
   ]
  },
  {
   "cell_type": "code",
   "execution_count": 18,
   "id": "2a978fd2",
   "metadata": {},
   "outputs": [
    {
     "name": "stdout",
     "output_type": "stream",
     "text": [
      "Hari\n",
      "Hari\n"
     ]
    },
    {
     "data": {
      "text/plain": [
       "(True, True)"
      ]
     },
     "execution_count": 18,
     "metadata": {},
     "output_type": "execute_result"
    }
   ],
   "source": [
    "data = ('Charlie','Rama','Hari','Snyder')\n",
    "\n",
    "# I have to access Hari\n",
    "# 1. positive indexing\n",
    "print(data[2])\n",
    "\n",
    "# 2. negative indexing\n",
    "print(data[-2])\n",
    "\n",
    "# Understanding the indexing\n",
    "data[-len(data)] == data[0], data[len(data)-1] == data[-1]"
   ]
  },
  {
   "cell_type": "markdown",
   "id": "c1dcfaf7",
   "metadata": {},
   "source": [
    "### 1. count"
   ]
  },
  {
   "cell_type": "markdown",
   "id": "9d329487",
   "metadata": {},
   "source": [
    "- frequency of occurence in a given tuple of a particular element\n",
    "- syntax : tuple_name.count(element)"
   ]
  },
  {
   "cell_type": "code",
   "execution_count": 19,
   "id": "568b6762",
   "metadata": {},
   "outputs": [
    {
     "data": {
      "text/plain": [
       "2"
      ]
     },
     "execution_count": 19,
     "metadata": {},
     "output_type": "execute_result"
    }
   ],
   "source": [
    "data = (1,2,3,4,5,1,2,112,1056)\n",
    "\n",
    "data.count(1)"
   ]
  },
  {
   "cell_type": "code",
   "execution_count": 22,
   "id": "f18bcd8d",
   "metadata": {},
   "outputs": [
    {
     "data": {
      "text/plain": [
       "0"
      ]
     },
     "execution_count": 22,
     "metadata": {},
     "output_type": "execute_result"
    }
   ],
   "source": [
    "data = ('ramesh', 'suresh','samir','arya')\n",
    "\n",
    "data.count('a')"
   ]
  },
  {
   "cell_type": "markdown",
   "id": "c2ae3207",
   "metadata": {},
   "source": [
    "### 2. index"
   ]
  },
  {
   "cell_type": "markdown",
   "id": "df568456",
   "metadata": {},
   "source": [
    "- gives the position of the first occurence of the element\n",
    "- syntax : tuple_name.index(element)\n",
    "- Note : the `index` function raises `ValueError` if the element been searched is absent in the given tuple"
   ]
  },
  {
   "cell_type": "code",
   "execution_count": 23,
   "id": "6bcb6e8c",
   "metadata": {},
   "outputs": [
    {
     "data": {
      "text/plain": [
       "4"
      ]
     },
     "execution_count": 23,
     "metadata": {},
     "output_type": "execute_result"
    }
   ],
   "source": [
    "data = (1,2,66,32,'007',98,81)\n",
    "data.index('007')"
   ]
  },
  {
   "cell_type": "code",
   "execution_count": 24,
   "id": "c711bb1e",
   "metadata": {},
   "outputs": [
    {
     "ename": "ValueError",
     "evalue": "tuple.index(x): x not in tuple",
     "output_type": "error",
     "traceback": [
      "\u001b[0;31m---------------------------------------------------------------------------\u001b[0m",
      "\u001b[0;31mValueError\u001b[0m                                Traceback (most recent call last)",
      "Input \u001b[0;32mIn [24]\u001b[0m, in \u001b[0;36m<cell line: 2>\u001b[0;34m()\u001b[0m\n\u001b[1;32m      1\u001b[0m data \u001b[38;5;241m=\u001b[39m (\u001b[38;5;241m1\u001b[39m,\u001b[38;5;241m2\u001b[39m,\u001b[38;5;241m66\u001b[39m,\u001b[38;5;241m32\u001b[39m,\u001b[38;5;124m'\u001b[39m\u001b[38;5;124m007\u001b[39m\u001b[38;5;124m'\u001b[39m,\u001b[38;5;241m98\u001b[39m,\u001b[38;5;241m81\u001b[39m)\n\u001b[0;32m----> 2\u001b[0m \u001b[43mdata\u001b[49m\u001b[38;5;241;43m.\u001b[39;49m\u001b[43mindex\u001b[49m\u001b[43m(\u001b[49m\u001b[38;5;241;43m567\u001b[39;49m\u001b[43m)\u001b[49m\n",
      "\u001b[0;31mValueError\u001b[0m: tuple.index(x): x not in tuple"
     ]
    }
   ],
   "source": [
    "data = (1,2,66,32,'007',98,81)\n",
    "data.index(567)"
   ]
  },
  {
   "cell_type": "markdown",
   "id": "a4a389bc",
   "metadata": {},
   "source": [
    "### 3.` __add__`"
   ]
  },
  {
   "cell_type": "markdown",
   "id": "15779b44",
   "metadata": {},
   "source": [
    "- Used to concatenate multiple tuples\n",
    "- syntax : tuple_1.__add__(tuple_2)\n",
    "- Cannot concatenate different data-types together"
   ]
  },
  {
   "cell_type": "code",
   "execution_count": 26,
   "id": "f31440d1",
   "metadata": {},
   "outputs": [
    {
     "data": {
      "text/plain": [
       "(1, 2, 3, 4, 5, 6, 7, 8, 9, 0)"
      ]
     },
     "execution_count": 26,
     "metadata": {},
     "output_type": "execute_result"
    }
   ],
   "source": [
    "data1 = (1,2,3,4,5)\n",
    "data2 = (6,7,8,9,0)\n",
    "\n",
    "data1.__add__(data2)"
   ]
  },
  {
   "cell_type": "code",
   "execution_count": 27,
   "id": "0b2cf6d9",
   "metadata": {},
   "outputs": [
    {
     "ename": "TypeError",
     "evalue": "can only concatenate tuple (not \"str\") to tuple",
     "output_type": "error",
     "traceback": [
      "\u001b[0;31m---------------------------------------------------------------------------\u001b[0m",
      "\u001b[0;31mTypeError\u001b[0m                                 Traceback (most recent call last)",
      "Input \u001b[0;32mIn [27]\u001b[0m, in \u001b[0;36m<cell line: 1>\u001b[0;34m()\u001b[0m\n\u001b[0;32m----> 1\u001b[0m \u001b[43mdata1\u001b[49m\u001b[38;5;241;43m.\u001b[39;49m\u001b[38;5;21;43m__add__\u001b[39;49m\u001b[43m(\u001b[49m\u001b[38;5;124;43m'\u001b[39;49m\u001b[38;5;124;43mI am Groot\u001b[39;49m\u001b[38;5;124;43m'\u001b[39;49m\u001b[43m)\u001b[49m\n",
      "\u001b[0;31mTypeError\u001b[0m: can only concatenate tuple (not \"str\") to tuple"
     ]
    }
   ],
   "source": [
    "data1.__add__('I am Groot')"
   ]
  },
  {
   "cell_type": "markdown",
   "id": "74fef206",
   "metadata": {},
   "source": [
    "### 4. `__contains__`"
   ]
  },
  {
   "cell_type": "markdown",
   "id": "18ee7f47",
   "metadata": {},
   "source": [
    "- To check the presence of a particular element in a tuple\n",
    "- syntax : tuple_name.__contains__(element)"
   ]
  },
  {
   "cell_type": "code",
   "execution_count": 28,
   "id": "6b5b8ba6",
   "metadata": {},
   "outputs": [
    {
     "data": {
      "text/plain": [
       "True"
      ]
     },
     "execution_count": 28,
     "metadata": {},
     "output_type": "execute_result"
    }
   ],
   "source": [
    "data = (1,2,3,4,5,'007',66,1080)\n",
    "\n",
    "data.__contains__('007')"
   ]
  },
  {
   "cell_type": "code",
   "execution_count": 29,
   "id": "263cb288",
   "metadata": {},
   "outputs": [
    {
     "data": {
      "text/plain": [
       "False"
      ]
     },
     "execution_count": 29,
     "metadata": {},
     "output_type": "execute_result"
    }
   ],
   "source": [
    "data = (1,2,3,4,5,'007',66,1080)\n",
    "\n",
    "data.__contains__(79)"
   ]
  },
  {
   "cell_type": "markdown",
   "id": "ef537b0c",
   "metadata": {},
   "source": [
    "### 5. Using `sorted` on a tuple"
   ]
  },
  {
   "cell_type": "markdown",
   "id": "6dd996bc",
   "metadata": {},
   "source": [
    "- To arrange the values of a tuple in a specific order\n",
    "- The order can either be ascending or descending\n",
    "- syntax: sorted(tuple_name, reverse=boolean)\n",
    "- Note : We cannot compare string values to numeric values"
   ]
  },
  {
   "cell_type": "code",
   "execution_count": 32,
   "id": "06f2e3d0",
   "metadata": {},
   "outputs": [
    {
     "data": {
      "text/plain": [
       "[0.07, 1, 2, 3, 4, 5, 66, 1080]"
      ]
     },
     "execution_count": 32,
     "metadata": {},
     "output_type": "execute_result"
    }
   ],
   "source": [
    "data = (1,2,3,4,5,0.07,66,1080)\n",
    "\n",
    "sorted(data)"
   ]
  },
  {
   "cell_type": "code",
   "execution_count": 33,
   "id": "3794a70e",
   "metadata": {},
   "outputs": [
    {
     "ename": "TypeError",
     "evalue": "'<' not supported between instances of 'str' and 'int'",
     "output_type": "error",
     "traceback": [
      "\u001b[0;31m---------------------------------------------------------------------------\u001b[0m",
      "\u001b[0;31mTypeError\u001b[0m                                 Traceback (most recent call last)",
      "Input \u001b[0;32mIn [33]\u001b[0m, in \u001b[0;36m<cell line: 3>\u001b[0;34m()\u001b[0m\n\u001b[1;32m      1\u001b[0m data \u001b[38;5;241m=\u001b[39m (\u001b[38;5;241m1\u001b[39m,\u001b[38;5;241m2\u001b[39m,\u001b[38;5;241m3\u001b[39m,\u001b[38;5;241m4\u001b[39m,\u001b[38;5;241m5\u001b[39m,\u001b[38;5;124m'\u001b[39m\u001b[38;5;124m007\u001b[39m\u001b[38;5;124m'\u001b[39m,\u001b[38;5;241m66\u001b[39m,\u001b[38;5;241m1080\u001b[39m)\n\u001b[0;32m----> 3\u001b[0m \u001b[38;5;28;43msorted\u001b[39;49m\u001b[43m(\u001b[49m\u001b[43mdata\u001b[49m\u001b[43m)\u001b[49m\n",
      "\u001b[0;31mTypeError\u001b[0m: '<' not supported between instances of 'str' and 'int'"
     ]
    }
   ],
   "source": [
    "data = (1,2,3,4,5,'007',66,1080)\n",
    "\n",
    "sorted(data)"
   ]
  },
  {
   "cell_type": "markdown",
   "id": "700719d3",
   "metadata": {},
   "source": [
    "### Extras"
   ]
  },
  {
   "cell_type": "markdown",
   "id": "ef5c75a3",
   "metadata": {},
   "source": [
    "### a. The `enumerate` function"
   ]
  },
  {
   "cell_type": "markdown",
   "id": "3607b45a",
   "metadata": {},
   "source": [
    "- Used to access the indices alongwith the values from an iterable in a loop\n",
    "- syntax : enumerate(data)"
   ]
  },
  {
   "cell_type": "code",
   "execution_count": 34,
   "id": "0b679f8e",
   "metadata": {},
   "outputs": [
    {
     "name": "stdout",
     "output_type": "stream",
     "text": [
      "0 a\n",
      "1 b\n",
      "2 c\n",
      "3 d\n",
      "4 e\n"
     ]
    }
   ],
   "source": [
    "data = ('a','b','c','d','e')\n",
    "\n",
    "for index in range(len(data)):\n",
    "    print(index, data[index])"
   ]
  },
  {
   "cell_type": "code",
   "execution_count": 39,
   "id": "5a2c4ae8",
   "metadata": {},
   "outputs": [
    {
     "name": "stdout",
     "output_type": "stream",
     "text": [
      "(0, 'a')\n",
      "<class 'tuple'>\n",
      "\n",
      "(1, 'b')\n",
      "<class 'tuple'>\n",
      "\n",
      "(2, 'c')\n",
      "<class 'tuple'>\n",
      "\n",
      "(3, 'd')\n",
      "<class 'tuple'>\n",
      "\n",
      "(4, 'e')\n",
      "<class 'tuple'>\n",
      "\n"
     ]
    }
   ],
   "source": [
    "data = ('a','b','c','d','e')\n",
    "\n",
    "for tup in enumerate(data):\n",
    "    print(tup)\n",
    "    print(type(tup))\n",
    "    print()"
   ]
  },
  {
   "cell_type": "code",
   "execution_count": 40,
   "id": "ee039c06",
   "metadata": {},
   "outputs": [
    {
     "name": "stdout",
     "output_type": "stream",
     "text": [
      "0\n",
      "a\n"
     ]
    }
   ],
   "source": [
    "tup = (0, 'a')\n",
    "index, value = tup\n",
    "\n",
    "print(index)\n",
    "print(value)"
   ]
  },
  {
   "cell_type": "code",
   "execution_count": 41,
   "id": "352e637a",
   "metadata": {},
   "outputs": [
    {
     "data": {
      "text/plain": [
       "(54, 'Krish')"
      ]
     },
     "execution_count": 41,
     "metadata": {},
     "output_type": "execute_result"
    }
   ],
   "source": [
    "index = 54\n",
    "value = 'Krish'\n",
    "\n",
    "tup = (index, value)\n",
    "\n",
    "tup"
   ]
  },
  {
   "cell_type": "code",
   "execution_count": 36,
   "id": "f92b87d3",
   "metadata": {},
   "outputs": [
    {
     "name": "stdout",
     "output_type": "stream",
     "text": [
      "0 a\n",
      "1 b\n",
      "2 c\n",
      "3 d\n",
      "4 e\n"
     ]
    }
   ],
   "source": [
    "data = ('a','b','c','d','e')\n",
    "\n",
    "for index,value in enumerate(data):\n",
    "    print(index, value)"
   ]
  },
  {
   "cell_type": "code",
   "execution_count": 42,
   "id": "aa682ff4",
   "metadata": {
    "scrolled": true
   },
   "outputs": [
    {
     "name": "stdout",
     "output_type": "stream",
     "text": [
      "The students for SET A paper are : ('rajesh', 'samresh', 'saitama')\n",
      "The students for SET B paper are : ('kishor', 'rocky')\n"
     ]
    }
   ],
   "source": [
    "student_names = ('rajesh','kishor','samresh','rocky','saitama')\n",
    "set_A = tuple()\n",
    "set_B = tuple()\n",
    "\n",
    "for index, name in enumerate(student_names):\n",
    "    if index%2==0:\n",
    "        set_A = set_A.__add__((name,))\n",
    "    else:\n",
    "        set_B = set_B.__add__((name,))\n",
    "\n",
    "print(f'The students for SET A paper are : {set_A}')\n",
    "print(f'The students for SET B paper are : {set_B}')"
   ]
  },
  {
   "cell_type": "code",
   "execution_count": 46,
   "id": "d49e15f0",
   "metadata": {},
   "outputs": [
    {
     "name": "stdout",
     "output_type": "stream",
     "text": [
      "The corresponding value for 1 is a !\n",
      "\n",
      "The corresponding value for 2 is b !\n",
      "\n",
      "The corresponding value for 3 is c !\n",
      "\n",
      "The corresponding value for 4 is d !\n",
      "\n",
      "The corresponding value for 5 is e !\n",
      "\n"
     ]
    }
   ],
   "source": [
    "data = ('a','b','c','d','e')\n",
    "\n",
    "for number,value in enumerate(data,1):\n",
    "    print(f'The corresponding value for {number} is {value} !')\n",
    "    print()"
   ]
  },
  {
   "cell_type": "markdown",
   "id": "0050964a",
   "metadata": {},
   "source": [
    "### Number of temporary variables in for loop"
   ]
  },
  {
   "cell_type": "code",
   "execution_count": 47,
   "id": "8f65743e",
   "metadata": {},
   "outputs": [
    {
     "name": "stdout",
     "output_type": "stream",
     "text": [
      "I\n",
      "\n",
      " \n",
      "\n",
      "a\n",
      "\n",
      "m\n",
      "\n",
      " \n",
      "\n",
      "G\n",
      "\n",
      "r\n",
      "\n",
      "o\n",
      "\n",
      "o\n",
      "\n",
      "t\n",
      "\n"
     ]
    }
   ],
   "source": [
    "data = 'I am Groot'\n",
    "for temp in data:\n",
    "    print(temp)\n",
    "    print()"
   ]
  },
  {
   "cell_type": "code",
   "execution_count": 50,
   "id": "70526714",
   "metadata": {},
   "outputs": [
    {
     "name": "stdout",
     "output_type": "stream",
     "text": [
      "(0, 'I')\n",
      "(1, ' ')\n",
      "(2, 'a')\n",
      "(3, 'm')\n",
      "(4, ' ')\n",
      "(5, 'G')\n",
      "(6, 'r')\n",
      "(7, 'o')\n",
      "(8, 'o')\n",
      "(9, 't')\n"
     ]
    }
   ],
   "source": [
    "data = 'I am Groot'\n",
    "for temp in enumerate(data):\n",
    "    print(temp)"
   ]
  },
  {
   "cell_type": "code",
   "execution_count": 64,
   "id": "a2d784ea",
   "metadata": {},
   "outputs": [
    {
     "name": "stdout",
     "output_type": "stream",
     "text": [
      "0\n",
      "I\n",
      "55\n",
      "\n",
      "1\n",
      " \n",
      "67\n",
      "\n",
      "2\n",
      "a\n",
      "72\n",
      "\n",
      "3\n",
      "m\n",
      "98\n",
      "\n",
      "4\n",
      " \n",
      "90\n",
      "\n",
      "5\n",
      "G\n",
      "55\n",
      "\n",
      "6\n",
      "r\n",
      "21\n",
      "\n",
      "7\n",
      "o\n",
      "25\n",
      "\n",
      "8\n",
      "o\n",
      "81\n",
      "\n",
      "9\n",
      "t\n",
      "101\n",
      "\n"
     ]
    }
   ],
   "source": [
    "data = ((0, 'I', 55),(1, ' ', 67),(2, 'a', 72),(3, 'm', 98),(4, ' ', 90),(5, 'G', 55),(6, 'r', 21),(7, 'o', 25),(8, 'o', 81),(9, 't', 101))\n",
    "for a,b,c in data:\n",
    "    print(a)\n",
    "    print(b)\n",
    "    print(c)\n",
    "    print()"
   ]
  },
  {
   "cell_type": "code",
   "execution_count": 66,
   "id": "b6387bc9",
   "metadata": {},
   "outputs": [
    {
     "name": "stdout",
     "output_type": "stream",
     "text": [
      "0 I (55, 43, 918)\n",
      "55\n",
      "43\n",
      "918\n",
      "4   (90, 'a', 55)\n",
      "90\n",
      "a\n",
      "55\n",
      "8 o (81, 'pqr')\n",
      "81\n",
      "pqr\n"
     ]
    }
   ],
   "source": [
    "data = ((0, 'I', (55,43,918)),\n",
    "        (1, ' ', 67),\n",
    "        (2, 'a', 72),\n",
    "        (3, 'm', 98),\n",
    "        (4, ' ', (90,'a',55)),\n",
    "        (5, 'G', 55),\n",
    "        (6, 'r', 21),\n",
    "        (7, 'o', 25),\n",
    "        (8, 'o', (81,'pqr')),\n",
    "        (9, 't', 101))\n",
    "\n",
    "for i,j,k in data:\n",
    "    if type(i)==tuple:\n",
    "        print(i,j,k)\n",
    "        for a in i:\n",
    "            print(a)\n",
    "    elif type(j) == tuple:\n",
    "        print(i,j,k)\n",
    "        for a in j:\n",
    "            print(a)\n",
    "    elif type(k) == tuple:\n",
    "        print(i,j,k)\n",
    "        for a in k:\n",
    "            print(a)"
   ]
  },
  {
   "cell_type": "code",
   "execution_count": 57,
   "id": "c968e48e",
   "metadata": {},
   "outputs": [
    {
     "ename": "ValueError",
     "evalue": "not enough values to unpack (expected 3, got 2)",
     "output_type": "error",
     "traceback": [
      "\u001b[0;31m---------------------------------------------------------------------------\u001b[0m",
      "\u001b[0;31mValueError\u001b[0m                                Traceback (most recent call last)",
      "Input \u001b[0;32mIn [57]\u001b[0m, in \u001b[0;36m<cell line: 3>\u001b[0;34m()\u001b[0m\n\u001b[1;32m      1\u001b[0m data \u001b[38;5;241m=\u001b[39m ((\u001b[38;5;241m0\u001b[39m, \u001b[38;5;124m'\u001b[39m\u001b[38;5;124mI\u001b[39m\u001b[38;5;124m'\u001b[39m),(\u001b[38;5;241m1\u001b[39m, \u001b[38;5;124m'\u001b[39m\u001b[38;5;124m \u001b[39m\u001b[38;5;124m'\u001b[39m),(\u001b[38;5;241m2\u001b[39m, \u001b[38;5;124m'\u001b[39m\u001b[38;5;124ma\u001b[39m\u001b[38;5;124m'\u001b[39m),(\u001b[38;5;241m3\u001b[39m, \u001b[38;5;124m'\u001b[39m\u001b[38;5;124mm\u001b[39m\u001b[38;5;124m'\u001b[39m),(\u001b[38;5;241m4\u001b[39m, \u001b[38;5;124m'\u001b[39m\u001b[38;5;124m \u001b[39m\u001b[38;5;124m'\u001b[39m),(\u001b[38;5;241m5\u001b[39m, \u001b[38;5;124m'\u001b[39m\u001b[38;5;124mG\u001b[39m\u001b[38;5;124m'\u001b[39m),(\u001b[38;5;241m6\u001b[39m, \u001b[38;5;124m'\u001b[39m\u001b[38;5;124mr\u001b[39m\u001b[38;5;124m'\u001b[39m),(\u001b[38;5;241m7\u001b[39m, \u001b[38;5;124m'\u001b[39m\u001b[38;5;124mo\u001b[39m\u001b[38;5;124m'\u001b[39m),(\u001b[38;5;241m8\u001b[39m, \u001b[38;5;124m'\u001b[39m\u001b[38;5;124mo\u001b[39m\u001b[38;5;124m'\u001b[39m),(\u001b[38;5;241m9\u001b[39m, \u001b[38;5;124m'\u001b[39m\u001b[38;5;124mt\u001b[39m\u001b[38;5;124m'\u001b[39m,\u001b[38;5;241m55\u001b[39m))\n\u001b[0;32m----> 3\u001b[0m \u001b[38;5;28;01mfor\u001b[39;00m a,b,c \u001b[38;5;129;01min\u001b[39;00m data:\n\u001b[1;32m      4\u001b[0m     \u001b[38;5;28mprint\u001b[39m(a,b,c)\n",
      "\u001b[0;31mValueError\u001b[0m: not enough values to unpack (expected 3, got 2)"
     ]
    }
   ],
   "source": [
    "data = ((0, 'I'),(1, ' '),(2, 'a'),(3, 'm'),(4, ' '),(5, 'G'),(6, 'r'),(7, 'o'),(8, 'o'),(9, 't',55))\n",
    "\n",
    "for a,b,c in data:\n",
    "    print(a,b,c)"
   ]
  },
  {
   "cell_type": "code",
   "execution_count": null,
   "id": "ab696186",
   "metadata": {},
   "outputs": [],
   "source": [
    "a,b,c = (0, 'I')\n",
    "\n",
    "a = 0\n",
    "b = 'I'\n",
    "c = ?"
   ]
  },
  {
   "cell_type": "code",
   "execution_count": 59,
   "id": "8585b97e",
   "metadata": {},
   "outputs": [],
   "source": [
    "data = (1,2,3,4,5)\n",
    "\n",
    "data1, data2, data3, data4, data5 = (1,2,3,4,5)"
   ]
  },
  {
   "cell_type": "code",
   "execution_count": 61,
   "id": "36cb70f3",
   "metadata": {},
   "outputs": [
    {
     "name": "stdout",
     "output_type": "stream",
     "text": [
      "1\n",
      "2\n",
      "3\n",
      "4\n",
      "5\n"
     ]
    }
   ],
   "source": [
    "print(data1)\n",
    "print(data2)\n",
    "print(data3)\n",
    "print(data4)\n",
    "print(data5)"
   ]
  },
  {
   "cell_type": "markdown",
   "id": "7db04304",
   "metadata": {},
   "source": [
    "### Tuple unpacking\n",
    "\n",
    "- When we are accessing n number of elements from a iterable of length n directly\n",
    "- x,y = (10,20) : x=10, y=20"
   ]
  },
  {
   "cell_type": "code",
   "execution_count": null,
   "id": "e5808aa1",
   "metadata": {},
   "outputs": [],
   "source": [
    "x,y = 10,20"
   ]
  },
  {
   "cell_type": "markdown",
   "id": "04bd430d",
   "metadata": {},
   "source": [
    "### b. The `zip` function"
   ]
  },
  {
   "cell_type": "code",
   "execution_count": 67,
   "id": "470e9ce4",
   "metadata": {},
   "outputs": [
    {
     "name": "stdout",
     "output_type": "stream",
     "text": [
      "Ramesh has secured 55 marks !\n",
      "Suresh has secured 92 marks !\n",
      "Suraj has secured 78 marks !\n",
      "Thanos has secured 5 marks !\n"
     ]
    }
   ],
   "source": [
    "students = ('Ramesh', 'Suresh', 'Suraj', 'Thanos')\n",
    "marks = (55, 92, 78, 5)\n",
    "\n",
    "for index in range(len(students)):\n",
    "    print(f'{students[index]} has secured {marks[index]} marks !')"
   ]
  },
  {
   "cell_type": "code",
   "execution_count": 70,
   "id": "69ee88a1",
   "metadata": {
    "scrolled": true
   },
   "outputs": [
    {
     "name": "stdout",
     "output_type": "stream",
     "text": [
      "Ramesh has secured 55 marks !\n",
      "Ramesh has Passed the test !\n",
      "\n",
      "Suresh has secured 92 marks !\n",
      "Suresh has Passed the test !\n",
      "\n",
      "Suraj has secured 78 marks !\n",
      "Suraj has Passed the test !\n",
      "\n",
      "Thanos has secured 5 marks !\n",
      "Thanos has Failed the test !\n",
      "\n"
     ]
    }
   ],
   "source": [
    "students = ('Ramesh', 'Suresh', 'Suraj', 'Thanos')\n",
    "marks = (55, 92, 78, 5)\n",
    "result = ('Pass','Pass','Pass','Fail')\n",
    "\n",
    "for student_name, marks_obtained, final_result in zip(students, marks, result):\n",
    "    print(f'{student_name} has secured {marks_obtained} marks !')\n",
    "    print(f'{student_name} has {final_result}ed the test !')\n",
    "    print()"
   ]
  },
  {
   "cell_type": "code",
   "execution_count": null,
   "id": "cd309c32",
   "metadata": {},
   "outputs": [],
   "source": [
    "students = ('Ramesh', 'Suresh', 'Suraj', 'Thanos')\n",
    "marks = (55, 92, 78, 5)\n",
    "result = ('Pass','Pass','Pass','Fail')\n",
    "\n",
    "# zip(students, marks, result)  >>>  (('Ramesh',55, 'Pass'),('Suresh',92, 'Pass'),('Suraj',78, 'Pass'),('Thanos',5, 'Pass'))"
   ]
  },
  {
   "cell_type": "markdown",
   "id": "d8c00675",
   "metadata": {},
   "source": [
    "### c. Using the keyword `in` with a tuple"
   ]
  },
  {
   "cell_type": "markdown",
   "id": "896ae91c",
   "metadata": {},
   "source": [
    "- Used to check the presence of an element in the tuple\n",
    "- syntax : element in tuple_name"
   ]
  },
  {
   "cell_type": "code",
   "execution_count": 75,
   "id": "8e4cfd09",
   "metadata": {},
   "outputs": [
    {
     "data": {
      "text/plain": [
       "(True, False, False)"
      ]
     },
     "execution_count": 75,
     "metadata": {},
     "output_type": "execute_result"
    }
   ],
   "source": [
    "data = (1,2,3,4,5,'007','Griffin')\n",
    "\n",
    "'Griffin' in data, 98 in data, 'G' in data"
   ]
  },
  {
   "cell_type": "code",
   "execution_count": 73,
   "id": "65500943",
   "metadata": {},
   "outputs": [
    {
     "ename": "TypeError",
     "evalue": "argument of type 'int' is not iterable",
     "output_type": "error",
     "traceback": [
      "\u001b[0;31m---------------------------------------------------------------------------\u001b[0m",
      "\u001b[0;31mTypeError\u001b[0m                                 Traceback (most recent call last)",
      "Input \u001b[0;32mIn [73]\u001b[0m, in \u001b[0;36m<cell line: 1>\u001b[0;34m()\u001b[0m\n\u001b[0;32m----> 1\u001b[0m \u001b[38;5;241;43m55\u001b[39;49m\u001b[43m \u001b[49m\u001b[38;5;129;43;01min\u001b[39;49;00m\u001b[43m \u001b[49m\u001b[38;5;241;43m67\u001b[39;49m\n",
      "\u001b[0;31mTypeError\u001b[0m: argument of type 'int' is not iterable"
     ]
    }
   ],
   "source": [
    "55 in 67"
   ]
  },
  {
   "cell_type": "markdown",
   "id": "c91d6168",
   "metadata": {},
   "source": [
    "### d. Using the keyword `all` with a tuple"
   ]
  },
  {
   "cell_type": "markdown",
   "id": "3ece728c",
   "metadata": {},
   "source": [
    "- Needs all the values to be True"
   ]
  },
  {
   "cell_type": "code",
   "execution_count": 90,
   "id": "b242de8c",
   "metadata": {},
   "outputs": [
    {
     "data": {
      "text/plain": [
       "False"
      ]
     },
     "execution_count": 90,
     "metadata": {},
     "output_type": "execute_result"
    }
   ],
   "source": [
    "data = (True, False, True, True, False)\n",
    "all(data)"
   ]
  },
  {
   "cell_type": "code",
   "execution_count": 99,
   "id": "1106c3df",
   "metadata": {},
   "outputs": [
    {
     "name": "stdout",
     "output_type": "stream",
     "text": [
      "case-1 Failed\n",
      "\n",
      "case-2 Passed !\n",
      "\n",
      "case-3 Passed !\n",
      "\n"
     ]
    }
   ],
   "source": [
    "cases = ('case-1', 'case-2', 'case-3')\n",
    "data1 = (1,2,3,4)\n",
    "data2 = (0.01, 0.45, 0.57)\n",
    "data3 = (-0.5, 56, 90)\n",
    "\n",
    "for case, exp_1, exp_2, exp_3 in zip(cases, data1, data2, data3):\n",
    "    if all((exp_1>0, exp_2>0, exp_3>0)):\n",
    "        print(f'{case} Passed !')\n",
    "    else:\n",
    "        print(f'{case} Failed')\n",
    "    print()"
   ]
  },
  {
   "cell_type": "code",
   "execution_count": 104,
   "id": "7f825aed",
   "metadata": {
    "scrolled": true
   },
   "outputs": [
    {
     "data": {
      "text/plain": [
       "False"
      ]
     },
     "execution_count": 104,
     "metadata": {},
     "output_type": "execute_result"
    }
   ],
   "source": [
    "string = None\n",
    "bool(string)"
   ]
  },
  {
   "cell_type": "markdown",
   "id": "0d3b74db",
   "metadata": {},
   "source": [
    "### e. Using the keyword `any` with a tuple"
   ]
  },
  {
   "cell_type": "markdown",
   "id": "fd53e276",
   "metadata": {},
   "source": [
    "- Even if a single value is True, any would return True"
   ]
  },
  {
   "cell_type": "code",
   "execution_count": 91,
   "id": "d0bcc292",
   "metadata": {},
   "outputs": [
    {
     "data": {
      "text/plain": [
       "True"
      ]
     },
     "execution_count": 91,
     "metadata": {},
     "output_type": "execute_result"
    }
   ],
   "source": [
    "data = (True, False, True, True, False)\n",
    "any(data)"
   ]
  },
  {
   "cell_type": "markdown",
   "id": "8849bc4d",
   "metadata": {},
   "source": [
    "### f. The `None` data type"
   ]
  },
  {
   "cell_type": "raw",
   "id": "3b8979dc",
   "metadata": {},
   "source": [
    "instantiate:\n",
    "    x = None"
   ]
  },
  {
   "cell_type": "code",
   "execution_count": 88,
   "id": "42504f10",
   "metadata": {},
   "outputs": [],
   "source": [
    "data = (-1,-5,-2,-8,-44,-6,-123,-54,-89,-45,-3, -0.5)\n",
    "\n",
    "max_number = None\n",
    "\n",
    "for index in range(len(data)):\n",
    "    if index == 0:\n",
    "        max_number = data[index]\n",
    "    if data[index]>max_number:\n",
    "        max_number = data[index]"
   ]
  },
  {
   "cell_type": "code",
   "execution_count": 89,
   "id": "e5adf3cc",
   "metadata": {},
   "outputs": [
    {
     "data": {
      "text/plain": [
       "-0.5"
      ]
     },
     "execution_count": 89,
     "metadata": {},
     "output_type": "execute_result"
    }
   ],
   "source": [
    "max_number"
   ]
  },
  {
   "cell_type": "code",
   "execution_count": 85,
   "id": "434df789",
   "metadata": {
    "scrolled": true
   },
   "outputs": [
    {
     "data": {
      "text/plain": [
       "NoneType"
      ]
     },
     "execution_count": 85,
     "metadata": {},
     "output_type": "execute_result"
    }
   ],
   "source": [
    "type(None)"
   ]
  },
  {
   "cell_type": "markdown",
   "id": "5100d8f8",
   "metadata": {},
   "source": [
    "### Conversion into booleans"
   ]
  },
  {
   "cell_type": "code",
   "execution_count": 93,
   "id": "bd7794a9",
   "metadata": {},
   "outputs": [
    {
     "data": {
      "text/plain": [
       "True"
      ]
     },
     "execution_count": 93,
     "metadata": {},
     "output_type": "execute_result"
    }
   ],
   "source": [
    "bool(1)"
   ]
  },
  {
   "cell_type": "code",
   "execution_count": 94,
   "id": "07fc2790",
   "metadata": {},
   "outputs": [
    {
     "data": {
      "text/plain": [
       "True"
      ]
     },
     "execution_count": 94,
     "metadata": {},
     "output_type": "execute_result"
    }
   ],
   "source": [
    "bool(10348767836458764857)"
   ]
  },
  {
   "cell_type": "code",
   "execution_count": 95,
   "id": "867286e9",
   "metadata": {
    "scrolled": true
   },
   "outputs": [
    {
     "data": {
      "text/plain": [
       "False"
      ]
     },
     "execution_count": 95,
     "metadata": {},
     "output_type": "execute_result"
    }
   ],
   "source": [
    "bool(0)"
   ]
  },
  {
   "cell_type": "markdown",
   "id": "92a7a87d",
   "metadata": {},
   "source": [
    "- 0 if converted into boolean would always render `False`\n",
    "- Everything else would give `True`"
   ]
  },
  {
   "cell_type": "markdown",
   "id": "2069bd21",
   "metadata": {},
   "source": [
    "### Question"
   ]
  },
  {
   "cell_type": "markdown",
   "id": "1e99a2d5",
   "metadata": {},
   "source": [
    "### Finding the second most frequent element in a string"
   ]
  },
  {
   "cell_type": "code",
   "execution_count": 115,
   "id": "4f1c13c8",
   "metadata": {},
   "outputs": [
    {
     "name": "stdout",
     "output_type": "stream",
     "text": [
      "Please enter your data : I am Groot. I am not your enemy. I just am Groot !\n",
      "The second max occurring letter is m and it occurs 4 times.\n"
     ]
    }
   ],
   "source": [
    "data = input('Please enter your data : ').lower().replace(' ','')\n",
    "\n",
    "letters = tuple()\n",
    "frequencies = tuple()\n",
    "\n",
    "for letter in data:\n",
    "    if not letter in letters:\n",
    "        letters = letters.__add__((letter,))\n",
    "        frequencies = frequencies.__add__((data.count(letter),))\n",
    "\n",
    "sorted_freq = sorted(frequencies)\n",
    "second_max_freq = sorted_freq[-2]\n",
    "\n",
    "\n",
    "second_max_letter = None\n",
    "for index, letter in enumerate(letters):\n",
    "    if frequencies[index] == second_max_freq:\n",
    "        second_max_letter = letter\n",
    "        break\n",
    "\n",
    "print(f'The second max occurring letter is {second_max_letter} and it occurs {second_max_freq} times.')"
   ]
  }
 ],
 "metadata": {
  "kernelspec": {
   "display_name": "Python 3 (ipykernel)",
   "language": "python",
   "name": "python3"
  },
  "language_info": {
   "codemirror_mode": {
    "name": "ipython",
    "version": 3
   },
   "file_extension": ".py",
   "mimetype": "text/x-python",
   "name": "python",
   "nbconvert_exporter": "python",
   "pygments_lexer": "ipython3",
   "version": "3.9.13"
  }
 },
 "nbformat": 4,
 "nbformat_minor": 5
}

{
 "cells": [
  {
   "cell_type": "markdown",
   "id": "45b45617",
   "metadata": {},
   "source": [
    "# Slicing"
   ]
  },
  {
   "cell_type": "raw",
   "id": "94c358eb",
   "metadata": {},
   "source": [
    "object_name[start_index : end_index+1 : step_size]"
   ]
  },
  {
   "cell_type": "raw",
   "id": "b570f896",
   "metadata": {},
   "source": [
    "data = 'I love python'\n",
    "\n",
    "'I'    0   -13\n",
    "' '    1   -12\n",
    "'l'    2   -11\n",
    "'o'    3   -10\n",
    "'v'    4   -9\n",
    "'e'    5   -8\n",
    "' '    6   -7\n",
    "'p'    7   -6\n",
    "'y'    8   -5\n",
    "'t'    9   -4\n",
    "'h'    10  -3\n",
    "'o'    11  -2\n",
    "'n'    12  -1"
   ]
  },
  {
   "cell_type": "code",
   "execution_count": null,
   "id": "62fc3b37",
   "metadata": {},
   "outputs": [],
   "source": [
    "data = 'I love python'"
   ]
  },
  {
   "cell_type": "code",
   "execution_count": 43,
   "id": "693d3fb4",
   "metadata": {
    "scrolled": true
   },
   "outputs": [
    {
     "data": {
      "text/plain": [
       "('I', 'I')"
      ]
     },
     "execution_count": 43,
     "metadata": {},
     "output_type": "execute_result"
    }
   ],
   "source": [
    "data[0], data[-13]"
   ]
  },
  {
   "cell_type": "code",
   "execution_count": 44,
   "id": "176f3369",
   "metadata": {},
   "outputs": [
    {
     "data": {
      "text/plain": [
       "('p', 'p')"
      ]
     },
     "execution_count": 44,
     "metadata": {},
     "output_type": "execute_result"
    }
   ],
   "source": [
    "data[7], data[-6]"
   ]
  },
  {
   "cell_type": "code",
   "execution_count": 48,
   "id": "0adeedf1",
   "metadata": {},
   "outputs": [
    {
     "data": {
      "text/plain": [
       "('love', 'love')"
      ]
     },
     "execution_count": 48,
     "metadata": {},
     "output_type": "execute_result"
    }
   ],
   "source": [
    "data[2:6], data[-11:-7]"
   ]
  },
  {
   "cell_type": "markdown",
   "id": "2da35742",
   "metadata": {},
   "source": [
    "# Example"
   ]
  },
  {
   "cell_type": "code",
   "execution_count": 1,
   "id": "87387eb8",
   "metadata": {},
   "outputs": [],
   "source": [
    "data = 'I love Python but I dont like coding. I am groot.'"
   ]
  },
  {
   "cell_type": "code",
   "execution_count": 127,
   "id": "82a0209c",
   "metadata": {},
   "outputs": [
    {
     "data": {
      "text/plain": [
       "3"
      ]
     },
     "execution_count": 127,
     "metadata": {},
     "output_type": "execute_result"
    }
   ],
   "source": [
    "data.count('I')"
   ]
  },
  {
   "cell_type": "code",
   "execution_count": 122,
   "id": "21ef2d25",
   "metadata": {},
   "outputs": [],
   "source": [
    "starting_point = 0"
   ]
  },
  {
   "cell_type": "code",
   "execution_count": 126,
   "id": "1ba17ff1",
   "metadata": {},
   "outputs": [
    {
     "data": {
      "text/plain": [
       "0"
      ]
     },
     "execution_count": 126,
     "metadata": {},
     "output_type": "execute_result"
    }
   ],
   "source": [
    "first = data[starting_point:].index('I')\n",
    "first"
   ]
  },
  {
   "cell_type": "code",
   "execution_count": 130,
   "id": "02370f29",
   "metadata": {},
   "outputs": [
    {
     "data": {
      "text/plain": [
       "18"
      ]
     },
     "execution_count": 130,
     "metadata": {},
     "output_type": "execute_result"
    }
   ],
   "source": [
    "starting_point = starting_point + first + 1\n",
    "second = data[starting_point:].index('I') + starting_point\n",
    "second"
   ]
  },
  {
   "cell_type": "code",
   "execution_count": 131,
   "id": "ecc3bc38",
   "metadata": {},
   "outputs": [
    {
     "data": {
      "text/plain": [
       "18"
      ]
     },
     "execution_count": 131,
     "metadata": {},
     "output_type": "execute_result"
    }
   ],
   "source": [
    "starting_point = starting_point + second + 1\n",
    "third = data[second:].index('I') + (second)\n",
    "third"
   ]
  },
  {
   "cell_type": "code",
   "execution_count": 66,
   "id": "98f56afa",
   "metadata": {},
   "outputs": [
    {
     "data": {
      "text/plain": [
       "'I'"
      ]
     },
     "execution_count": 66,
     "metadata": {},
     "output_type": "execute_result"
    }
   ],
   "source": [
    "data[third]"
   ]
  },
  {
   "cell_type": "code",
   "execution_count": 67,
   "id": "569a4162",
   "metadata": {},
   "outputs": [
    {
     "data": {
      "text/plain": [
       "'love'"
      ]
     },
     "execution_count": 67,
     "metadata": {},
     "output_type": "execute_result"
    }
   ],
   "source": [
    "data = 'I love python'\n",
    "data[2:-7]"
   ]
  },
  {
   "cell_type": "markdown",
   "id": "668e99b6",
   "metadata": {},
   "source": [
    "### 1. str.rindex('item')\n",
    "\n",
    "- unlike str.index which moves from left to right to find out the first occurence of the prescribed element in the data, str.rindex would find the index traversing in the data from right to left"
   ]
  },
  {
   "cell_type": "code",
   "execution_count": 70,
   "id": "3f348bc5",
   "metadata": {},
   "outputs": [
    {
     "data": {
      "text/plain": [
       "(7, 15)"
      ]
     },
     "execution_count": 70,
     "metadata": {},
     "output_type": "execute_result"
    }
   ],
   "source": [
    "data = 'I love Python. Python is very easy to learn.'\n",
    "data.index('Python'), data.rindex('Python')"
   ]
  },
  {
   "cell_type": "code",
   "execution_count": 74,
   "id": "f85b4b0b",
   "metadata": {},
   "outputs": [
    {
     "data": {
      "text/plain": [
       "'Python'"
      ]
     },
     "execution_count": 74,
     "metadata": {},
     "output_type": "execute_result"
    }
   ],
   "source": [
    "data[7:7+6]"
   ]
  },
  {
   "cell_type": "code",
   "execution_count": 75,
   "id": "d12fc93a",
   "metadata": {},
   "outputs": [
    {
     "data": {
      "text/plain": [
       "'Python'"
      ]
     },
     "execution_count": 75,
     "metadata": {},
     "output_type": "execute_result"
    }
   ],
   "source": [
    "data[15:15+6]"
   ]
  },
  {
   "cell_type": "markdown",
   "id": "97939ea0",
   "metadata": {},
   "source": [
    "### 2. str.ljust(required_length, fillchar)\n",
    "\n",
    "- left-justifies the string\n",
    "- required_length : length of the final output string\n",
    "- fillchar : the character that we want to fill the empty blocks with\n",
    "- by default the fillchar is ' ' {space}"
   ]
  },
  {
   "cell_type": "code",
   "execution_count": 78,
   "id": "cd81ee28",
   "metadata": {},
   "outputs": [
    {
     "data": {
      "text/plain": [
       "('python    ', 10)"
      ]
     },
     "execution_count": 78,
     "metadata": {},
     "output_type": "execute_result"
    }
   ],
   "source": [
    "data = 'python'\n",
    "ljust_data = data.ljust(10)\n",
    "\n",
    "ljust_data, len(ljust_data)"
   ]
  },
  {
   "cell_type": "code",
   "execution_count": 79,
   "id": "08ae4050",
   "metadata": {},
   "outputs": [
    {
     "data": {
      "text/plain": [
       "'python____'"
      ]
     },
     "execution_count": 79,
     "metadata": {},
     "output_type": "execute_result"
    }
   ],
   "source": [
    "data.ljust(10,'_')"
   ]
  },
  {
   "cell_type": "code",
   "execution_count": 81,
   "id": "d49b0f26",
   "metadata": {},
   "outputs": [
    {
     "data": {
      "text/plain": [
       "'python++++'"
      ]
     },
     "execution_count": 81,
     "metadata": {},
     "output_type": "execute_result"
    }
   ],
   "source": [
    "data.ljust(10,'+')"
   ]
  },
  {
   "cell_type": "code",
   "execution_count": 82,
   "id": "7f725bc7",
   "metadata": {},
   "outputs": [
    {
     "name": "stdout",
     "output_type": "stream",
     "text": [
      "Startting the function.........\n",
      "Terminating.........\n"
     ]
    }
   ],
   "source": [
    "print('Starting the function.........')\n",
    "print('Terminating.........')"
   ]
  },
  {
   "cell_type": "code",
   "execution_count": 84,
   "id": "737b25b0",
   "metadata": {},
   "outputs": [
    {
     "name": "stdout",
     "output_type": "stream",
     "text": [
      "Starting the function.............................\n"
     ]
    }
   ],
   "source": [
    "print('Starting the function'.ljust(50,'.'))"
   ]
  },
  {
   "cell_type": "markdown",
   "id": "ee9423e1",
   "metadata": {},
   "source": [
    "### 3. str.rjust(required_length, fillchar)\n",
    "\n",
    "- right-justifies the string\n",
    "- parameters same as str.ljust"
   ]
  },
  {
   "cell_type": "code",
   "execution_count": 85,
   "id": "60984e21",
   "metadata": {},
   "outputs": [
    {
     "data": {
      "text/plain": [
       "'@@@@@@@@@Python'"
      ]
     },
     "execution_count": 85,
     "metadata": {},
     "output_type": "execute_result"
    }
   ],
   "source": [
    "data = 'Python'\n",
    "data.rjust(15,'@')"
   ]
  },
  {
   "cell_type": "markdown",
   "id": "d16eff88",
   "metadata": {},
   "source": [
    "### 4. str.center(final_length, fillchar)\n",
    "\n",
    "- Takes in the final required length and puts the data in the middle of that"
   ]
  },
  {
   "cell_type": "code",
   "execution_count": 86,
   "id": "11868e8a",
   "metadata": {},
   "outputs": [
    {
     "data": {
      "text/plain": [
       "'       Python       '"
      ]
     },
     "execution_count": 86,
     "metadata": {},
     "output_type": "execute_result"
    }
   ],
   "source": [
    "data = 'Python'\n",
    "data.center(20)"
   ]
  },
  {
   "cell_type": "code",
   "execution_count": 90,
   "id": "91fd688f",
   "metadata": {},
   "outputs": [
    {
     "data": {
      "text/plain": [
       "'       Python       '"
      ]
     },
     "execution_count": 90,
     "metadata": {},
     "output_type": "execute_result"
    }
   ],
   "source": [
    "data.rjust(13).ljust(20)"
   ]
  },
  {
   "cell_type": "code",
   "execution_count": 91,
   "id": "9fa3a421",
   "metadata": {},
   "outputs": [
    {
     "data": {
      "text/plain": [
       "'_______Python_______'"
      ]
     },
     "execution_count": 91,
     "metadata": {},
     "output_type": "execute_result"
    }
   ],
   "source": [
    "data.center(20,'_')"
   ]
  },
  {
   "cell_type": "code",
   "execution_count": 98,
   "id": "ae661b7a",
   "metadata": {},
   "outputs": [
    {
     "name": "stdout",
     "output_type": "stream",
     "text": [
      "***********************************Function Starts Here***********************************\n",
      "Content is Apple !\n",
      "************************************Function Ends Here************************************\n",
      "\n",
      "***********************************Function Starts Here***********************************\n",
      "Content is Apple !\n",
      "************************************Function Ends Here************************************\n",
      "\n",
      "***********************************Function Starts Here***********************************\n",
      "Content is Apple !\n",
      "************************************Function Ends Here************************************\n",
      "\n",
      "***********************************Function Starts Here***********************************\n",
      "Content is Apple !\n",
      "************************************Function Ends Here************************************\n",
      "\n",
      "***********************************Function Starts Here***********************************\n",
      "Content is Apple !\n",
      "************************************Function Ends Here************************************\n",
      "\n"
     ]
    }
   ],
   "source": [
    "print('Function Starts Here'.center(90,'*'))\n",
    "print('Content is Apple !')\n",
    "print('Function Ends Here'.center(90,'*'))\n",
    "print()\n",
    "\n",
    "print('Function Starts Here'.center(90,'*'))\n",
    "print('Content is Apple !')\n",
    "print('Function Ends Here'.center(90,'*'))\n",
    "print()\n",
    "\n",
    "print('Function Starts Here'.center(90,'*'))\n",
    "print('Content is Apple !')\n",
    "print('Function Ends Here'.center(90,'*'))\n",
    "print()\n",
    "\n",
    "print('Function Starts Here'.center(90,'*'))\n",
    "print('Content is Apple !')\n",
    "print('Function Ends Here'.center(90,'*'))\n",
    "print()\n",
    "\n",
    "print('Function Starts Here'.center(90,'*'))\n",
    "print('Content is Apple !')\n",
    "print('Function Ends Here'.center(90,'*'))\n",
    "print()"
   ]
  },
  {
   "cell_type": "markdown",
   "id": "b776f09b",
   "metadata": {},
   "source": [
    "### 5. str.replace(data_to_be_replaced, replacement)\n",
    "\n",
    "- replaces the data prescribed with replacement"
   ]
  },
  {
   "cell_type": "code",
   "execution_count": 99,
   "id": "784234ce",
   "metadata": {},
   "outputs": [
    {
     "data": {
      "text/plain": [
       "'I love Python.'"
      ]
     },
     "execution_count": 99,
     "metadata": {},
     "output_type": "execute_result"
    }
   ],
   "source": [
    "data = 'I love Java.'\n",
    "data.replace('Java','Python')"
   ]
  },
  {
   "cell_type": "code",
   "execution_count": 100,
   "id": "a2c39167",
   "metadata": {},
   "outputs": [
    {
     "data": {
      "text/plain": [
       "' I love Python. Python is very easy to learn.'"
      ]
     },
     "execution_count": 100,
     "metadata": {},
     "output_type": "execute_result"
    }
   ],
   "source": [
    "data = ' I love Java. Java is very easy to learn.'\n",
    "data.replace('Java','Python')"
   ]
  },
  {
   "cell_type": "code",
   "execution_count": 105,
   "id": "bfcdc010",
   "metadata": {},
   "outputs": [
    {
     "data": {
      "text/plain": [
       "' I love Java. Java is very easy to learn.'"
      ]
     },
     "execution_count": 105,
     "metadata": {},
     "output_type": "execute_result"
    }
   ],
   "source": [
    "data.replace('java','Python')"
   ]
  },
  {
   "cell_type": "markdown",
   "id": "d816addf",
   "metadata": {},
   "source": [
    "### 6. str.count(item)\n",
    "\n",
    "- returns the count of an item in the string"
   ]
  },
  {
   "cell_type": "code",
   "execution_count": 106,
   "id": "d26d8556",
   "metadata": {},
   "outputs": [
    {
     "data": {
      "text/plain": [
       "2"
      ]
     },
     "execution_count": 106,
     "metadata": {},
     "output_type": "execute_result"
    }
   ],
   "source": [
    "data = ' I love Java. Java is very easy to learn.'\n",
    "data.count('Java')"
   ]
  },
  {
   "cell_type": "code",
   "execution_count": 107,
   "id": "f96a29d3",
   "metadata": {},
   "outputs": [
    {
     "data": {
      "text/plain": [
       "0"
      ]
     },
     "execution_count": 107,
     "metadata": {},
     "output_type": "execute_result"
    }
   ],
   "source": [
    "data.count('Python')"
   ]
  },
  {
   "cell_type": "code",
   "execution_count": 108,
   "id": "864f47e3",
   "metadata": {},
   "outputs": [
    {
     "data": {
      "text/plain": [
       "6"
      ]
     },
     "execution_count": 108,
     "metadata": {},
     "output_type": "execute_result"
    }
   ],
   "source": [
    "data.count('a')"
   ]
  },
  {
   "cell_type": "markdown",
   "id": "45063a0b",
   "metadata": {},
   "source": [
    "# Important : Index and Find"
   ]
  },
  {
   "cell_type": "markdown",
   "id": "3387d15f",
   "metadata": {},
   "source": [
    "- str.index(item) > Would throw an ValueError if the substring is missing\n",
    "- str.find(item) > would return -1 if the substring is missing"
   ]
  },
  {
   "cell_type": "markdown",
   "id": "099a8b9f",
   "metadata": {},
   "source": [
    "### 7. str.find(item)\n",
    "\n",
    "- returns the index{position} of an element in the given string\n",
    "- -1 means that the item does not exist in the string"
   ]
  },
  {
   "cell_type": "code",
   "execution_count": 109,
   "id": "5fbbdcc2",
   "metadata": {},
   "outputs": [
    {
     "data": {
      "text/plain": [
       "2"
      ]
     },
     "execution_count": 109,
     "metadata": {},
     "output_type": "execute_result"
    }
   ],
   "source": [
    "data = \"i love data science\"\n",
    "data.find('love')"
   ]
  },
  {
   "cell_type": "code",
   "execution_count": 110,
   "id": "10639207",
   "metadata": {},
   "outputs": [
    {
     "data": {
      "text/plain": [
       "-1"
      ]
     },
     "execution_count": 110,
     "metadata": {},
     "output_type": "execute_result"
    }
   ],
   "source": [
    "data.find('python')"
   ]
  },
  {
   "cell_type": "code",
   "execution_count": 111,
   "id": "097177e3",
   "metadata": {},
   "outputs": [
    {
     "data": {
      "text/plain": [
       "2"
      ]
     },
     "execution_count": 111,
     "metadata": {},
     "output_type": "execute_result"
    }
   ],
   "source": [
    "data.index('love')"
   ]
  },
  {
   "cell_type": "code",
   "execution_count": 112,
   "id": "fd69d841",
   "metadata": {},
   "outputs": [
    {
     "ename": "ValueError",
     "evalue": "substring not found",
     "output_type": "error",
     "traceback": [
      "\u001b[0;31m---------------------------------------------------------------------------\u001b[0m",
      "\u001b[0;31mValueError\u001b[0m                                Traceback (most recent call last)",
      "Input \u001b[0;32mIn [112]\u001b[0m, in \u001b[0;36m<cell line: 1>\u001b[0;34m()\u001b[0m\n\u001b[0;32m----> 1\u001b[0m \u001b[43mdata\u001b[49m\u001b[38;5;241;43m.\u001b[39;49m\u001b[43mindex\u001b[49m\u001b[43m(\u001b[49m\u001b[38;5;124;43m'\u001b[39;49m\u001b[38;5;124;43mpython\u001b[39;49m\u001b[38;5;124;43m'\u001b[39;49m\u001b[43m)\u001b[49m\n",
      "\u001b[0;31mValueError\u001b[0m: substring not found"
     ]
    }
   ],
   "source": [
    "data.index('python')"
   ]
  },
  {
   "cell_type": "code",
   "execution_count": 114,
   "id": "646f9c7d",
   "metadata": {},
   "outputs": [
    {
     "data": {
      "text/plain": [
       "(False, False, True)"
      ]
     },
     "execution_count": 114,
     "metadata": {},
     "output_type": "execute_result"
    }
   ],
   "source": [
    "a = 'abc@gmail.com'\n",
    "b = 'pqr@gmail.com'\n",
    "c = 'sangram@yahoo.com'\n",
    "\n",
    "a.find('yahoo')>=0, b.find('yahoo')>=0, c.find('yahoo')>=0"
   ]
  },
  {
   "cell_type": "code",
   "execution_count": 115,
   "id": "f0357060",
   "metadata": {},
   "outputs": [
    {
     "ename": "ValueError",
     "evalue": "substring not found",
     "output_type": "error",
     "traceback": [
      "\u001b[0;31m---------------------------------------------------------------------------\u001b[0m",
      "\u001b[0;31mValueError\u001b[0m                                Traceback (most recent call last)",
      "Input \u001b[0;32mIn [115]\u001b[0m, in \u001b[0;36m<cell line: 1>\u001b[0;34m()\u001b[0m\n\u001b[0;32m----> 1\u001b[0m \u001b[43ma\u001b[49m\u001b[38;5;241;43m.\u001b[39;49m\u001b[43mindex\u001b[49m\u001b[43m(\u001b[49m\u001b[38;5;124;43m'\u001b[39;49m\u001b[38;5;124;43myahoo\u001b[39;49m\u001b[38;5;124;43m'\u001b[39;49m\u001b[43m)\u001b[49m\u001b[38;5;241m>\u001b[39m\u001b[38;5;241m=\u001b[39m\u001b[38;5;241m0\u001b[39m, b\u001b[38;5;241m.\u001b[39mindex(\u001b[38;5;124m'\u001b[39m\u001b[38;5;124myahoo\u001b[39m\u001b[38;5;124m'\u001b[39m)\u001b[38;5;241m>\u001b[39m\u001b[38;5;241m=\u001b[39m\u001b[38;5;241m0\u001b[39m, c\u001b[38;5;241m.\u001b[39mindex(\u001b[38;5;124m'\u001b[39m\u001b[38;5;124myahoo\u001b[39m\u001b[38;5;124m'\u001b[39m)\u001b[38;5;241m>\u001b[39m\u001b[38;5;241m=\u001b[39m\u001b[38;5;241m0\u001b[39m\n",
      "\u001b[0;31mValueError\u001b[0m: substring not found"
     ]
    }
   ],
   "source": [
    "a.index('yahoo')>=0, b.index('yahoo')>=0, c.index('yahoo')>=0"
   ]
  },
  {
   "cell_type": "raw",
   "id": "7e7a363d",
   "metadata": {},
   "source": [
    "str.rfind() and str.rindex() works the same way"
   ]
  },
  {
   "cell_type": "code",
   "execution_count": 116,
   "id": "b8e7f9d0",
   "metadata": {},
   "outputs": [
    {
     "data": {
      "text/plain": [
       "'I love python. python is a very easy language. python is mainly used for machine learning'"
      ]
     },
     "execution_count": 116,
     "metadata": {},
     "output_type": "execute_result"
    }
   ],
   "source": [
    "data = 'I love python. python is a very easy language. python is mainly used for machine learning'\n",
    "data"
   ]
  },
  {
   "cell_type": "code",
   "execution_count": 117,
   "id": "d1525556",
   "metadata": {},
   "outputs": [
    {
     "data": {
      "text/plain": [
       "7"
      ]
     },
     "execution_count": 117,
     "metadata": {},
     "output_type": "execute_result"
    }
   ],
   "source": [
    "data.index('python') \n",
    "# start looking at the data from left to right\n",
    "# it would return the first occurence of python in the data that we have"
   ]
  },
  {
   "cell_type": "code",
   "execution_count": 118,
   "id": "45aec843",
   "metadata": {},
   "outputs": [
    {
     "data": {
      "text/plain": [
       "47"
      ]
     },
     "execution_count": 118,
     "metadata": {},
     "output_type": "execute_result"
    }
   ],
   "source": [
    "data.rindex('python')\n",
    "# start looking at the data from right to left\n",
    "# it would return the last occurence of python in the data that we have"
   ]
  },
  {
   "cell_type": "code",
   "execution_count": 119,
   "id": "7ae7fd52",
   "metadata": {},
   "outputs": [
    {
     "data": {
      "text/plain": [
       "47"
      ]
     },
     "execution_count": 119,
     "metadata": {},
     "output_type": "execute_result"
    }
   ],
   "source": [
    "data.rfind('python')\n",
    "# start looking at the data from right to left\n",
    "# it would return the last occurence of python in the data that we have"
   ]
  },
  {
   "cell_type": "code",
   "execution_count": 120,
   "id": "be4a8964",
   "metadata": {
    "scrolled": false
   },
   "outputs": [
    {
     "ename": "ValueError",
     "evalue": "substring not found",
     "output_type": "error",
     "traceback": [
      "\u001b[0;31m---------------------------------------------------------------------------\u001b[0m",
      "\u001b[0;31mValueError\u001b[0m                                Traceback (most recent call last)",
      "Input \u001b[0;32mIn [120]\u001b[0m, in \u001b[0;36m<cell line: 1>\u001b[0;34m()\u001b[0m\n\u001b[0;32m----> 1\u001b[0m \u001b[43mdata\u001b[49m\u001b[38;5;241;43m.\u001b[39;49m\u001b[43mrindex\u001b[49m\u001b[43m(\u001b[49m\u001b[38;5;124;43m'\u001b[39;49m\u001b[38;5;124;43mjava\u001b[39;49m\u001b[38;5;124;43m'\u001b[39;49m\u001b[43m)\u001b[49m\n",
      "\u001b[0;31mValueError\u001b[0m: substring not found"
     ]
    }
   ],
   "source": [
    "data.rindex('java')"
   ]
  },
  {
   "cell_type": "code",
   "execution_count": 121,
   "id": "22033605",
   "metadata": {},
   "outputs": [
    {
     "data": {
      "text/plain": [
       "-1"
      ]
     },
     "execution_count": 121,
     "metadata": {},
     "output_type": "execute_result"
    }
   ],
   "source": [
    "data.rfind('java')"
   ]
  }
 ],
 "metadata": {
  "kernelspec": {
   "display_name": "Python 3 (ipykernel)",
   "language": "python",
   "name": "python3"
  },
  "language_info": {
   "codemirror_mode": {
    "name": "ipython",
    "version": 3
   },
   "file_extension": ".py",
   "mimetype": "text/x-python",
   "name": "python",
   "nbconvert_exporter": "python",
   "pygments_lexer": "ipython3",
   "version": "3.9.12"
  }
 },
 "nbformat": 4,
 "nbformat_minor": 5
}

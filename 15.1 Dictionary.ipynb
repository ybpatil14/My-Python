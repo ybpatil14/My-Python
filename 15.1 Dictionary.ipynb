{
 "cells": [
  {
   "cell_type": "code",
   "execution_count": 2,
   "id": "64e32753",
   "metadata": {},
   "outputs": [
    {
     "data": {
      "text/plain": [
       "{'a': 1, 'b': 2, 'c': 3}"
      ]
     },
     "execution_count": 2,
     "metadata": {},
     "output_type": "execute_result"
    }
   ],
   "source": [
    "my_dict = {'a':1, 'b':2, 'c':3}\n",
    "my_dict"
   ]
  },
  {
   "cell_type": "code",
   "execution_count": 3,
   "id": "2341632c",
   "metadata": {},
   "outputs": [
    {
     "data": {
      "text/plain": [
       "dict"
      ]
     },
     "execution_count": 3,
     "metadata": {},
     "output_type": "execute_result"
    }
   ],
   "source": [
    "type(my_dict)"
   ]
  },
  {
   "cell_type": "code",
   "execution_count": 6,
   "id": "42716aff",
   "metadata": {},
   "outputs": [
    {
     "ename": "KeyError",
     "evalue": "'k'",
     "output_type": "error",
     "traceback": [
      "\u001b[0;31m---------------------------------------------------------------------------\u001b[0m",
      "\u001b[0;31mKeyError\u001b[0m                                  Traceback (most recent call last)",
      "Input \u001b[0;32mIn [6]\u001b[0m, in \u001b[0;36m<cell line: 1>\u001b[0;34m()\u001b[0m\n\u001b[0;32m----> 1\u001b[0m \u001b[43mmy_dict\u001b[49m\u001b[43m[\u001b[49m\u001b[38;5;124;43m'\u001b[39;49m\u001b[38;5;124;43mk\u001b[39;49m\u001b[38;5;124;43m'\u001b[39;49m\u001b[43m]\u001b[49m\n",
      "\u001b[0;31mKeyError\u001b[0m: 'k'"
     ]
    }
   ],
   "source": [
    "my_dict['k']"
   ]
  },
  {
   "cell_type": "code",
   "execution_count": 7,
   "id": "514adbcd",
   "metadata": {},
   "outputs": [
    {
     "data": {
      "text/plain": [
       "2"
      ]
     },
     "execution_count": 7,
     "metadata": {},
     "output_type": "execute_result"
    }
   ],
   "source": [
    "my_dict.get('b')"
   ]
  },
  {
   "cell_type": "code",
   "execution_count": 9,
   "id": "ddf7fa2a",
   "metadata": {},
   "outputs": [
    {
     "name": "stdout",
     "output_type": "stream",
     "text": [
      "None\n"
     ]
    }
   ],
   "source": [
    "print(my_dict.get('k'))"
   ]
  },
  {
   "cell_type": "code",
   "execution_count": 10,
   "id": "777fecd2",
   "metadata": {},
   "outputs": [
    {
     "data": {
      "text/plain": [
       "{'a': 1, 'b': 2, 'c': 3}"
      ]
     },
     "execution_count": 10,
     "metadata": {},
     "output_type": "execute_result"
    }
   ],
   "source": [
    "my_dict = {'a':1, 'b':2, 'c':3}\n",
    "my_dict"
   ]
  },
  {
   "cell_type": "code",
   "execution_count": 11,
   "id": "26e5ab53",
   "metadata": {},
   "outputs": [],
   "source": [
    "my_dict['k'] = 55"
   ]
  },
  {
   "cell_type": "code",
   "execution_count": 12,
   "id": "0ac10832",
   "metadata": {},
   "outputs": [
    {
     "data": {
      "text/plain": [
       "{'a': 1, 'b': 2, 'c': 3, 'k': 55}"
      ]
     },
     "execution_count": 12,
     "metadata": {},
     "output_type": "execute_result"
    }
   ],
   "source": [
    "my_dict"
   ]
  },
  {
   "cell_type": "code",
   "execution_count": 13,
   "id": "ca939f5a",
   "metadata": {},
   "outputs": [],
   "source": [
    "my_dict['a'] = 47"
   ]
  },
  {
   "cell_type": "code",
   "execution_count": 14,
   "id": "dd8ac216",
   "metadata": {},
   "outputs": [
    {
     "data": {
      "text/plain": [
       "{'a': 47, 'b': 2, 'c': 3, 'k': 55}"
      ]
     },
     "execution_count": 14,
     "metadata": {},
     "output_type": "execute_result"
    }
   ],
   "source": [
    "my_dict"
   ]
  },
  {
   "cell_type": "code",
   "execution_count": 15,
   "id": "a91f7be4",
   "metadata": {},
   "outputs": [
    {
     "data": {
      "text/plain": [
       "{'a': 1, 'b': 2, 'c': 3}"
      ]
     },
     "execution_count": 15,
     "metadata": {},
     "output_type": "execute_result"
    }
   ],
   "source": [
    "my_dict = {'a':1, 'b':2, 'c':3}\n",
    "my_dict"
   ]
  },
  {
   "cell_type": "code",
   "execution_count": 16,
   "id": "1b56bb0c",
   "metadata": {},
   "outputs": [
    {
     "data": {
      "text/plain": [
       "{'k': 55, 'j': 47, 'l': 23}"
      ]
     },
     "execution_count": 16,
     "metadata": {},
     "output_type": "execute_result"
    }
   ],
   "source": [
    "my_dict2 = {'k':55, 'j':47, 'l':23}\n",
    "my_dict2"
   ]
  },
  {
   "cell_type": "code",
   "execution_count": 17,
   "id": "2f7c61ed",
   "metadata": {},
   "outputs": [],
   "source": [
    "my_dict.update(my_dict2)"
   ]
  },
  {
   "cell_type": "code",
   "execution_count": 18,
   "id": "1e75992c",
   "metadata": {},
   "outputs": [
    {
     "data": {
      "text/plain": [
       "{'a': 1, 'b': 2, 'c': 3, 'k': 55, 'j': 47, 'l': 23}"
      ]
     },
     "execution_count": 18,
     "metadata": {},
     "output_type": "execute_result"
    }
   ],
   "source": [
    "my_dict"
   ]
  },
  {
   "cell_type": "code",
   "execution_count": 19,
   "id": "813476c8",
   "metadata": {},
   "outputs": [
    {
     "data": {
      "text/plain": [
       "{'z': 26, 'a': 44, 'k': 67}"
      ]
     },
     "execution_count": 19,
     "metadata": {},
     "output_type": "execute_result"
    }
   ],
   "source": [
    "my_dict3 = {'z':26, 'a':44, 'k':67}\n",
    "my_dict3"
   ]
  },
  {
   "cell_type": "code",
   "execution_count": 20,
   "id": "43942b6e",
   "metadata": {},
   "outputs": [
    {
     "data": {
      "text/plain": [
       "{'a': 44, 'b': 2, 'c': 3, 'k': 67, 'j': 47, 'l': 23, 'z': 26}"
      ]
     },
     "execution_count": 20,
     "metadata": {},
     "output_type": "execute_result"
    }
   ],
   "source": [
    "my_dict.update(my_dict3)\n",
    "my_dict"
   ]
  },
  {
   "cell_type": "code",
   "execution_count": 21,
   "id": "78503a39",
   "metadata": {},
   "outputs": [
    {
     "name": "stdout",
     "output_type": "stream",
     "text": [
      "a\n",
      "b\n",
      "c\n",
      "k\n",
      "j\n",
      "l\n",
      "z\n"
     ]
    }
   ],
   "source": [
    "for i in my_dict:\n",
    "    print(i)"
   ]
  },
  {
   "cell_type": "markdown",
   "id": "cd768149",
   "metadata": {},
   "source": [
    "### 1. dict.keys()"
   ]
  },
  {
   "cell_type": "markdown",
   "id": "0552a19c",
   "metadata": {},
   "source": [
    "- Returns a list of all the keys present in the dictionary"
   ]
  },
  {
   "cell_type": "code",
   "execution_count": 22,
   "id": "160cc23e",
   "metadata": {},
   "outputs": [
    {
     "data": {
      "text/plain": [
       "{'a': 44, 'b': 2, 'c': 3, 'k': 67, 'j': 47, 'l': 23, 'z': 26}"
      ]
     },
     "execution_count": 22,
     "metadata": {},
     "output_type": "execute_result"
    }
   ],
   "source": [
    "my_dict = {'a': 44, 'b': 2, 'c': 3, 'k': 67, 'j': 47, 'l': 23, 'z': 26}\n",
    "my_dict"
   ]
  },
  {
   "cell_type": "code",
   "execution_count": 23,
   "id": "2d034bab",
   "metadata": {},
   "outputs": [
    {
     "data": {
      "text/plain": [
       "dict_keys(['a', 'b', 'c', 'k', 'j', 'l', 'z'])"
      ]
     },
     "execution_count": 23,
     "metadata": {},
     "output_type": "execute_result"
    }
   ],
   "source": [
    "my_dict.keys()"
   ]
  },
  {
   "cell_type": "code",
   "execution_count": 26,
   "id": "d43d91e6",
   "metadata": {},
   "outputs": [
    {
     "data": {
      "text/plain": [
       "True"
      ]
     },
     "execution_count": 26,
     "metadata": {},
     "output_type": "execute_result"
    }
   ],
   "source": [
    "key = 'j'\n",
    "key in my_dict"
   ]
  },
  {
   "cell_type": "code",
   "execution_count": 27,
   "id": "394014e7",
   "metadata": {},
   "outputs": [
    {
     "data": {
      "text/plain": [
       "True"
      ]
     },
     "execution_count": 27,
     "metadata": {},
     "output_type": "execute_result"
    }
   ],
   "source": [
    "key in my_dict.keys()"
   ]
  },
  {
   "cell_type": "markdown",
   "id": "7273ae15",
   "metadata": {},
   "source": [
    "### 2. dict.values()"
   ]
  },
  {
   "cell_type": "markdown",
   "id": "55255bfb",
   "metadata": {},
   "source": [
    "- Returns a list of all the values present in the dictionary"
   ]
  },
  {
   "cell_type": "code",
   "execution_count": 30,
   "id": "ac3a9a46",
   "metadata": {},
   "outputs": [
    {
     "data": {
      "text/plain": [
       "{'a': [44, 567], 'b': 2, 'c': 3, 'k': 67, 'j': 47, 'l': 23, 'z': 26}"
      ]
     },
     "execution_count": 30,
     "metadata": {},
     "output_type": "execute_result"
    }
   ],
   "source": [
    "my_dict = {'a': [44,567], 'b': 2, 'c': 3, 'k': 67, 'j': 47, 'l': 23, 'z': 26}\n",
    "my_dict"
   ]
  },
  {
   "cell_type": "code",
   "execution_count": 31,
   "id": "888868bd",
   "metadata": {},
   "outputs": [
    {
     "data": {
      "text/plain": [
       "dict_values([[44, 567], 2, 3, 67, 47, 23, 26])"
      ]
     },
     "execution_count": 31,
     "metadata": {},
     "output_type": "execute_result"
    }
   ],
   "source": [
    "my_dict.values()"
   ]
  },
  {
   "cell_type": "code",
   "execution_count": 32,
   "id": "1fc7ab1a",
   "metadata": {},
   "outputs": [
    {
     "data": {
      "text/plain": [
       "(dict_keys, dict_values)"
      ]
     },
     "execution_count": 32,
     "metadata": {},
     "output_type": "execute_result"
    }
   ],
   "source": [
    "keys_ = my_dict.keys()\n",
    "values_ = my_dict.values()\n",
    "\n",
    "type(keys_), type(values_)"
   ]
  },
  {
   "cell_type": "code",
   "execution_count": 33,
   "id": "4dcc6c48",
   "metadata": {},
   "outputs": [
    {
     "name": "stdout",
     "output_type": "stream",
     "text": [
      "a\n",
      "b\n",
      "c\n",
      "k\n",
      "j\n",
      "l\n",
      "z\n"
     ]
    }
   ],
   "source": [
    "for key in keys_:\n",
    "    print(key)"
   ]
  },
  {
   "cell_type": "code",
   "execution_count": 34,
   "id": "383891a8",
   "metadata": {},
   "outputs": [
    {
     "name": "stdout",
     "output_type": "stream",
     "text": [
      "[44, 567]\n",
      "2\n",
      "3\n",
      "67\n",
      "47\n",
      "23\n",
      "26\n"
     ]
    }
   ],
   "source": [
    "for value in values_:\n",
    "    print(value)"
   ]
  },
  {
   "cell_type": "code",
   "execution_count": 37,
   "id": "ad0140d9",
   "metadata": {},
   "outputs": [],
   "source": [
    "keys__ = list(keys_)"
   ]
  },
  {
   "cell_type": "code",
   "execution_count": 38,
   "id": "590e416d",
   "metadata": {},
   "outputs": [],
   "source": [
    "keys__.append(55)"
   ]
  },
  {
   "cell_type": "code",
   "execution_count": 39,
   "id": "9b5eed1a",
   "metadata": {},
   "outputs": [
    {
     "data": {
      "text/plain": [
       "['a', 'b', 'c', 'k', 'j', 'l', 'z', 55]"
      ]
     },
     "execution_count": 39,
     "metadata": {},
     "output_type": "execute_result"
    }
   ],
   "source": [
    "keys__"
   ]
  },
  {
   "cell_type": "markdown",
   "id": "33c22f5a",
   "metadata": {},
   "source": [
    "### 3. dict.items()"
   ]
  },
  {
   "cell_type": "code",
   "execution_count": 41,
   "id": "90ef073b",
   "metadata": {},
   "outputs": [
    {
     "data": {
      "text/plain": [
       "{'a': [44, 567], 'b': 2, 'c': 3, 'k': 67, 'j': 47, 'l': 23, 'z': 26}"
      ]
     },
     "execution_count": 41,
     "metadata": {},
     "output_type": "execute_result"
    }
   ],
   "source": [
    "my_dict = {'a': [44,567], 'b': 2, 'c': 3, 'k': 67, 'j': 47, 'l': 23, 'z': 26}\n",
    "my_dict"
   ]
  },
  {
   "cell_type": "code",
   "execution_count": 43,
   "id": "234e67c0",
   "metadata": {},
   "outputs": [
    {
     "data": {
      "text/plain": [
       "dict_items([('a', [44, 567]), ('b', 2), ('c', 3), ('k', 67), ('j', 47), ('l', 23), ('z', 26)])"
      ]
     },
     "execution_count": 43,
     "metadata": {},
     "output_type": "execute_result"
    }
   ],
   "source": [
    "my_dict.items()"
   ]
  },
  {
   "cell_type": "code",
   "execution_count": 44,
   "id": "e6c159b1",
   "metadata": {},
   "outputs": [
    {
     "name": "stdout",
     "output_type": "stream",
     "text": [
      "('a', [44, 567])\n",
      "('b', 2)\n",
      "('c', 3)\n",
      "('k', 67)\n",
      "('j', 47)\n",
      "('l', 23)\n",
      "('z', 26)\n"
     ]
    }
   ],
   "source": [
    "for i in my_dict.items():\n",
    "    print(i)"
   ]
  },
  {
   "cell_type": "code",
   "execution_count": 45,
   "id": "ed1b76cf",
   "metadata": {},
   "outputs": [
    {
     "name": "stdout",
     "output_type": "stream",
     "text": [
      "The associated value for a is [44, 567]\n",
      "\n",
      "The associated value for b is 2\n",
      "\n",
      "The associated value for c is 3\n",
      "\n",
      "The associated value for k is 67\n",
      "\n",
      "The associated value for j is 47\n",
      "\n",
      "The associated value for l is 23\n",
      "\n",
      "The associated value for z is 26\n",
      "\n"
     ]
    }
   ],
   "source": [
    "for key,val in my_dict.items():\n",
    "    print(f'The associated value for {key} is {val}')\n",
    "    print()"
   ]
  },
  {
   "cell_type": "code",
   "execution_count": 46,
   "id": "ab701746",
   "metadata": {},
   "outputs": [
    {
     "data": {
      "text/plain": [
       "['__class__',\n",
       " '__class_getitem__',\n",
       " '__contains__',\n",
       " '__delattr__',\n",
       " '__delitem__',\n",
       " '__dir__',\n",
       " '__doc__',\n",
       " '__eq__',\n",
       " '__format__',\n",
       " '__ge__',\n",
       " '__getattribute__',\n",
       " '__getitem__',\n",
       " '__gt__',\n",
       " '__hash__',\n",
       " '__init__',\n",
       " '__init_subclass__',\n",
       " '__ior__',\n",
       " '__iter__',\n",
       " '__le__',\n",
       " '__len__',\n",
       " '__lt__',\n",
       " '__ne__',\n",
       " '__new__',\n",
       " '__or__',\n",
       " '__reduce__',\n",
       " '__reduce_ex__',\n",
       " '__repr__',\n",
       " '__reversed__',\n",
       " '__ror__',\n",
       " '__setattr__',\n",
       " '__setitem__',\n",
       " '__sizeof__',\n",
       " '__str__',\n",
       " '__subclasshook__',\n",
       " 'clear',\n",
       " 'copy',\n",
       " 'fromkeys',\n",
       " 'get',\n",
       " 'items',\n",
       " 'keys',\n",
       " 'pop',\n",
       " 'popitem',\n",
       " 'setdefault',\n",
       " 'update',\n",
       " 'values']"
      ]
     },
     "execution_count": 46,
     "metadata": {},
     "output_type": "execute_result"
    }
   ],
   "source": [
    "dir(dict)"
   ]
  },
  {
   "cell_type": "code",
   "execution_count": 61,
   "id": "288dac9d",
   "metadata": {},
   "outputs": [
    {
     "data": {
      "text/plain": [
       "{1: 2, 3: 4, 5: None}"
      ]
     },
     "execution_count": 61,
     "metadata": {},
     "output_type": "execute_result"
    }
   ],
   "source": [
    "x = ((1,2),(3,4),(5,None))\n",
    "dict(x)"
   ]
  },
  {
   "cell_type": "code",
   "execution_count": 56,
   "id": "a8dc8957",
   "metadata": {},
   "outputs": [
    {
     "data": {
      "text/plain": [
       "[('a', [44, 567]),\n",
       " ('b', 2),\n",
       " ('c', 3),\n",
       " ('k', 67),\n",
       " ('j', 47),\n",
       " ('l', 23),\n",
       " ('z', 26)]"
      ]
     },
     "execution_count": 56,
     "metadata": {},
     "output_type": "execute_result"
    }
   ],
   "source": [
    "list(my_dict.items())"
   ]
  },
  {
   "cell_type": "markdown",
   "id": "fd9e2af0",
   "metadata": {},
   "source": [
    "### 4. dict.clear()"
   ]
  },
  {
   "cell_type": "code",
   "execution_count": 62,
   "id": "e4fd1808",
   "metadata": {},
   "outputs": [
    {
     "data": {
      "text/plain": [
       "{'a': [44, 567], 'b': 2, 'c': 3, 'k': 67, 'j': 47, 'l': 23, 'z': 26}"
      ]
     },
     "execution_count": 62,
     "metadata": {},
     "output_type": "execute_result"
    }
   ],
   "source": [
    "my_dict"
   ]
  },
  {
   "cell_type": "code",
   "execution_count": 63,
   "id": "19529b4b",
   "metadata": {},
   "outputs": [],
   "source": [
    "my_dict.clear()"
   ]
  },
  {
   "cell_type": "code",
   "execution_count": 64,
   "id": "299b401a",
   "metadata": {},
   "outputs": [
    {
     "data": {
      "text/plain": [
       "{}"
      ]
     },
     "execution_count": 64,
     "metadata": {},
     "output_type": "execute_result"
    }
   ],
   "source": [
    "my_dict"
   ]
  },
  {
   "cell_type": "markdown",
   "id": "f6771eec",
   "metadata": {},
   "source": [
    "### 5. dict.copy()"
   ]
  },
  {
   "cell_type": "code",
   "execution_count": 65,
   "id": "c9baddd5",
   "metadata": {},
   "outputs": [],
   "source": [
    "my_dict = {'a': [44, 567], 'b': 2, 'c': 3, 'k': 67, 'j': 47, 'l': 23, 'z': 26}"
   ]
  },
  {
   "cell_type": "code",
   "execution_count": 66,
   "id": "43fc5531",
   "metadata": {},
   "outputs": [],
   "source": [
    "x = my_dict.copy()"
   ]
  },
  {
   "cell_type": "code",
   "execution_count": 67,
   "id": "d058019c",
   "metadata": {},
   "outputs": [
    {
     "data": {
      "text/plain": [
       "{'a': [44, 567], 'b': 2, 'c': 3, 'k': 67, 'j': 47, 'l': 23, 'z': 26}"
      ]
     },
     "execution_count": 67,
     "metadata": {},
     "output_type": "execute_result"
    }
   ],
   "source": [
    "my_dict"
   ]
  },
  {
   "cell_type": "code",
   "execution_count": 68,
   "id": "ca4eb36a",
   "metadata": {},
   "outputs": [
    {
     "data": {
      "text/plain": [
       "{'a': [44, 567], 'b': 2, 'c': 3, 'k': 67, 'j': 47, 'l': 23, 'z': 26}"
      ]
     },
     "execution_count": 68,
     "metadata": {},
     "output_type": "execute_result"
    }
   ],
   "source": [
    "x"
   ]
  },
  {
   "cell_type": "code",
   "execution_count": 69,
   "id": "2dd27754",
   "metadata": {},
   "outputs": [
    {
     "data": {
      "text/plain": [
       "(4417815744, 4418129024)"
      ]
     },
     "execution_count": 69,
     "metadata": {},
     "output_type": "execute_result"
    }
   ],
   "source": [
    "id(my_dict), id(x)"
   ]
  },
  {
   "cell_type": "code",
   "execution_count": 70,
   "id": "96893e61",
   "metadata": {},
   "outputs": [],
   "source": [
    "x.update({4:'abc'})"
   ]
  },
  {
   "cell_type": "code",
   "execution_count": 71,
   "id": "4fddcc81",
   "metadata": {},
   "outputs": [
    {
     "data": {
      "text/plain": [
       "{'a': [44, 567], 'b': 2, 'c': 3, 'k': 67, 'j': 47, 'l': 23, 'z': 26}"
      ]
     },
     "execution_count": 71,
     "metadata": {},
     "output_type": "execute_result"
    }
   ],
   "source": [
    "my_dict"
   ]
  },
  {
   "cell_type": "code",
   "execution_count": 72,
   "id": "caa3bb99",
   "metadata": {},
   "outputs": [
    {
     "data": {
      "text/plain": [
       "{'a': [44, 567], 'b': 2, 'c': 3, 'k': 67, 'j': 47, 'l': 23, 'z': 26, 4: 'abc'}"
      ]
     },
     "execution_count": 72,
     "metadata": {},
     "output_type": "execute_result"
    }
   ],
   "source": [
    "x"
   ]
  },
  {
   "cell_type": "code",
   "execution_count": 73,
   "id": "699b6e91",
   "metadata": {},
   "outputs": [],
   "source": [
    "my_dict['a'].append(555)"
   ]
  },
  {
   "cell_type": "code",
   "execution_count": 74,
   "id": "1fc58861",
   "metadata": {},
   "outputs": [
    {
     "data": {
      "text/plain": [
       "{'a': [44, 567, 555], 'b': 2, 'c': 3, 'k': 67, 'j': 47, 'l': 23, 'z': 26}"
      ]
     },
     "execution_count": 74,
     "metadata": {},
     "output_type": "execute_result"
    }
   ],
   "source": [
    "my_dict"
   ]
  },
  {
   "cell_type": "code",
   "execution_count": 75,
   "id": "49461615",
   "metadata": {},
   "outputs": [
    {
     "data": {
      "text/plain": [
       "{'a': [44, 567, 555],\n",
       " 'b': 2,\n",
       " 'c': 3,\n",
       " 'k': 67,\n",
       " 'j': 47,\n",
       " 'l': 23,\n",
       " 'z': 26,\n",
       " 4: 'abc'}"
      ]
     },
     "execution_count": 75,
     "metadata": {},
     "output_type": "execute_result"
    }
   ],
   "source": [
    "x"
   ]
  },
  {
   "cell_type": "markdown",
   "id": "f306c230",
   "metadata": {},
   "source": [
    "### 6. dict.pop()"
   ]
  },
  {
   "cell_type": "markdown",
   "id": "1b2a737b",
   "metadata": {},
   "source": [
    "removes a key value pair from the dictionary as per the key specified"
   ]
  },
  {
   "cell_type": "code",
   "execution_count": 77,
   "id": "4fdd157b",
   "metadata": {},
   "outputs": [
    {
     "data": {
      "text/plain": [
       "{'a': [44, 567, 555], 'b': 2, 'c': 3, 'k': 67, 'j': 47, 'l': 23, 'z': 26}"
      ]
     },
     "execution_count": 77,
     "metadata": {},
     "output_type": "execute_result"
    }
   ],
   "source": [
    "my_dict = {'a': [44, 567, 555], 'b': 2, 'c': 3, 'k': 67, 'j': 47, 'l': 23, 'z': 26}\n",
    "my_dict"
   ]
  },
  {
   "cell_type": "code",
   "execution_count": 78,
   "id": "2eb5ede6",
   "metadata": {},
   "outputs": [
    {
     "data": {
      "text/plain": [
       "[44, 567, 555]"
      ]
     },
     "execution_count": 78,
     "metadata": {},
     "output_type": "execute_result"
    }
   ],
   "source": [
    "my_dict.pop('a')"
   ]
  },
  {
   "cell_type": "code",
   "execution_count": 79,
   "id": "9bc0194c",
   "metadata": {},
   "outputs": [
    {
     "data": {
      "text/plain": [
       "{'b': 2, 'c': 3, 'k': 67, 'j': 47, 'l': 23, 'z': 26}"
      ]
     },
     "execution_count": 79,
     "metadata": {},
     "output_type": "execute_result"
    }
   ],
   "source": [
    "my_dict"
   ]
  },
  {
   "cell_type": "code",
   "execution_count": 80,
   "id": "5efb7d78",
   "metadata": {},
   "outputs": [
    {
     "ename": "TypeError",
     "evalue": "pop expected at least 1 argument, got 0",
     "output_type": "error",
     "traceback": [
      "\u001b[0;31m---------------------------------------------------------------------------\u001b[0m",
      "\u001b[0;31mTypeError\u001b[0m                                 Traceback (most recent call last)",
      "Input \u001b[0;32mIn [80]\u001b[0m, in \u001b[0;36m<cell line: 1>\u001b[0;34m()\u001b[0m\n\u001b[0;32m----> 1\u001b[0m \u001b[43mmy_dict\u001b[49m\u001b[38;5;241;43m.\u001b[39;49m\u001b[43mpop\u001b[49m\u001b[43m(\u001b[49m\u001b[43m)\u001b[49m\n",
      "\u001b[0;31mTypeError\u001b[0m: pop expected at least 1 argument, got 0"
     ]
    }
   ],
   "source": [
    "my_dict.pop()"
   ]
  },
  {
   "cell_type": "markdown",
   "id": "891297f6",
   "metadata": {},
   "source": [
    "Randomly removes a key-value pair from dictionary"
   ]
  },
  {
   "cell_type": "code",
   "execution_count": 81,
   "id": "6c4a7fb9",
   "metadata": {
    "scrolled": true
   },
   "outputs": [
    {
     "data": {
      "text/plain": [
       "('z', 26)"
      ]
     },
     "execution_count": 81,
     "metadata": {},
     "output_type": "execute_result"
    }
   ],
   "source": [
    "my_dict.popitem()"
   ]
  },
  {
   "cell_type": "code",
   "execution_count": 82,
   "id": "a83cfb9b",
   "metadata": {},
   "outputs": [
    {
     "data": {
      "text/plain": [
       "{'b': 2, 'c': 3, 'k': 67, 'j': 47, 'l': 23}"
      ]
     },
     "execution_count": 82,
     "metadata": {},
     "output_type": "execute_result"
    }
   ],
   "source": [
    "my_dict"
   ]
  },
  {
   "cell_type": "markdown",
   "id": "dbda9542",
   "metadata": {},
   "source": [
    "### Another way of creating dictionaries : Not recommended"
   ]
  },
  {
   "cell_type": "code",
   "execution_count": 84,
   "id": "170686d7",
   "metadata": {},
   "outputs": [
    {
     "data": {
      "text/plain": [
       "{'x': 55, 'y': 67}"
      ]
     },
     "execution_count": 84,
     "metadata": {},
     "output_type": "execute_result"
    }
   ],
   "source": [
    "dict(x=55, y=67)"
   ]
  }
 ],
 "metadata": {
  "kernelspec": {
   "display_name": "Python 3 (ipykernel)",
   "language": "python",
   "name": "python3"
  },
  "language_info": {
   "codemirror_mode": {
    "name": "ipython",
    "version": 3
   },
   "file_extension": ".py",
   "mimetype": "text/x-python",
   "name": "python",
   "nbconvert_exporter": "python",
   "pygments_lexer": "ipython3",
   "version": "3.9.12"
  }
 },
 "nbformat": 4,
 "nbformat_minor": 5
}

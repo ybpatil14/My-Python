{
 "cells": [
  {
   "cell_type": "markdown",
   "id": "26b672db",
   "metadata": {},
   "source": [
    "# Numeric Data Types: "
   ]
  },
  {
   "cell_type": "raw",
   "id": "92a87f91",
   "metadata": {},
   "source": [
    "210 products\n",
    "2.2 billions \n",
    "\n",
    "15 news products"
   ]
  },
  {
   "cell_type": "raw",
   "id": "2d85eb8b",
   "metadata": {},
   "source": [
    "parle g, monaco, 5-star > old products\n",
    "bourbon, oreo, hide-n-seek > new products"
   ]
  },
  {
   "cell_type": "raw",
   "id": "240830bb",
   "metadata": {},
   "source": [
    "parle g = 10 millions\n",
    "bourbon = 25 millions\n",
    "\n",
    "total profit = 35 millions\n",
    "\n",
    "bourbon = 25 millions\n",
    "parle g = 1 million\n"
   ]
  },
  {
   "cell_type": "raw",
   "id": "b0fbd2f4",
   "metadata": {},
   "source": [
    "parle_g = 10"
   ]
  },
  {
   "cell_type": "code",
   "execution_count": null,
   "id": "ca3d3f0e",
   "metadata": {},
   "outputs": [],
   "source": [
    "# integers > whole numbers > positive or negative > ex. 2, 5 1111, 9999, 1000000\n",
    "# floats > fractional elements > positive or negative > ex. 2.1, 6.33, 1.0\n",
    "# complex > real part with an imaginary part > 5i+4j, 3i+15j"
   ]
  },
  {
   "cell_type": "code",
   "execution_count": 4,
   "id": "29bc052a",
   "metadata": {},
   "outputs": [
    {
     "name": "stdout",
     "output_type": "stream",
     "text": [
      "<class 'int'>\n"
     ]
    },
    {
     "data": {
      "text/plain": [
       "int"
      ]
     },
     "execution_count": 4,
     "metadata": {},
     "output_type": "execute_result"
    }
   ],
   "source": [
    "# integers syntax : just a whole number without any decimal points\n",
    "x = 123\n",
    "print(type(x))\n",
    "type(x)"
   ]
  },
  {
   "cell_type": "code",
   "execution_count": 2,
   "id": "bf96b918",
   "metadata": {},
   "outputs": [
    {
     "data": {
      "text/plain": [
       "float"
      ]
     },
     "execution_count": 2,
     "metadata": {},
     "output_type": "execute_result"
    }
   ],
   "source": [
    "x = 123.0\n",
    "type(x)"
   ]
  },
  {
   "cell_type": "code",
   "execution_count": 3,
   "id": "7a413942",
   "metadata": {},
   "outputs": [
    {
     "name": "stdout",
     "output_type": "stream",
     "text": [
      "<class 'float'>\n"
     ]
    }
   ],
   "source": [
    "# float syntax : a number followed by a decimal point and values after the point\n",
    "# Note : Even if we have just 0 {zero} after the point in a number, itd still be considered as a float value\n",
    "y = 55.545\n",
    "print(type(y))"
   ]
  },
  {
   "cell_type": "code",
   "execution_count": 6,
   "id": "2e3f4d73",
   "metadata": {},
   "outputs": [
    {
     "data": {
      "text/plain": [
       "complex"
      ]
     },
     "execution_count": 6,
     "metadata": {},
     "output_type": "execute_result"
    }
   ],
   "source": [
    "# Complex numbers\n",
    "comp_1 = complex(5,6)\n",
    "type(comp_1)"
   ]
  },
  {
   "cell_type": "code",
   "execution_count": 9,
   "id": "70767ec2",
   "metadata": {},
   "outputs": [
    {
     "data": {
      "text/plain": [
       "complex"
      ]
     },
     "execution_count": 9,
     "metadata": {},
     "output_type": "execute_result"
    }
   ],
   "source": [
    "type(5+7j)"
   ]
  },
  {
   "cell_type": "code",
   "execution_count": 13,
   "id": "7238bb57",
   "metadata": {},
   "outputs": [
    {
     "data": {
      "text/plain": [
       "int"
      ]
     },
     "execution_count": 13,
     "metadata": {},
     "output_type": "execute_result"
    }
   ],
   "source": [
    "x,y = 50,10\n",
    "type(x+y)"
   ]
  },
  {
   "cell_type": "code",
   "execution_count": 14,
   "id": "8e99b16f",
   "metadata": {},
   "outputs": [
    {
     "data": {
      "text/plain": [
       "5.0"
      ]
     },
     "execution_count": 14,
     "metadata": {},
     "output_type": "execute_result"
    }
   ],
   "source": [
    "x/y"
   ]
  },
  {
   "cell_type": "code",
   "execution_count": 19,
   "id": "c921d588",
   "metadata": {},
   "outputs": [
    {
     "data": {
      "text/plain": [
       "999999999999.998"
      ]
     },
     "execution_count": 19,
     "metadata": {},
     "output_type": "execute_result"
    }
   ],
   "source": [
    "# Scaling factor\n",
    "sf = 1000000000000\n",
    "num1 = 5\n",
    "num2 = 5.00000000000001 # > 5\n",
    "\n",
    "(num1/num2) * sf"
   ]
  },
  {
   "cell_type": "code",
   "execution_count": 20,
   "id": "f46d742d",
   "metadata": {},
   "outputs": [
    {
     "data": {
      "text/plain": [
       "1000000000000.0"
      ]
     },
     "execution_count": 20,
     "metadata": {},
     "output_type": "execute_result"
    }
   ],
   "source": [
    "(num1/5) * sf"
   ]
  },
  {
   "cell_type": "code",
   "execution_count": 21,
   "id": "08ca6c7f",
   "metadata": {},
   "outputs": [],
   "source": [
    "val1 = 123\n",
    "val2 = 123.005478"
   ]
  },
  {
   "cell_type": "code",
   "execution_count": 23,
   "id": "70aafdd0",
   "metadata": {},
   "outputs": [
    {
     "name": "stdout",
     "output_type": "stream",
     "text": [
      "0.9999554653980532 999955465398.0532\n"
     ]
    }
   ],
   "source": [
    "print(val1/val2, (val1/val2)*sf)"
   ]
  },
  {
   "cell_type": "code",
   "execution_count": 29,
   "id": "f937d6ad",
   "metadata": {},
   "outputs": [
    {
     "name": "stdout",
     "output_type": "stream",
     "text": [
      "165\n"
     ]
    }
   ],
   "source": [
    "# 5 > 5.0\n",
    "# 5.033 > 5\n",
    "\n",
    "# int to float > good > would not lead to loss of data\n",
    "# float to int > might be good or it might be bad > might lead to loss of data\n",
    "\n",
    "\n",
    "a = 55\n",
    "b = 3.65\n",
    "# converting float b to integer\n",
    "b = 3\n",
    "\n",
    "c1 = a*b\n",
    "print(c1)"
   ]
  },
  {
   "cell_type": "code",
   "execution_count": 28,
   "id": "86e587a9",
   "metadata": {},
   "outputs": [
    {
     "name": "stdout",
     "output_type": "stream",
     "text": [
      "200.75\n"
     ]
    }
   ],
   "source": [
    "a = 55\n",
    "b = 3.65\n",
    "\n",
    "c2 = a*b\n",
    "print(c2)"
   ]
  },
  {
   "cell_type": "code",
   "execution_count": 26,
   "id": "012f233b",
   "metadata": {},
   "outputs": [
    {
     "data": {
      "text/plain": [
       "35.75"
      ]
     },
     "execution_count": 26,
     "metadata": {},
     "output_type": "execute_result"
    }
   ],
   "source": [
    "200.75 - 165"
   ]
  },
  {
   "cell_type": "code",
   "execution_count": null,
   "id": "22f5c869",
   "metadata": {},
   "outputs": [],
   "source": [
    "# integer > counts > eg. frequency > number of students in a class, number of people buying a ps5\n",
    "# float > "
   ]
  },
  {
   "cell_type": "code",
   "execution_count": 30,
   "id": "c79ee84e",
   "metadata": {},
   "outputs": [
    {
     "data": {
      "text/plain": [
       "5.3"
      ]
     },
     "execution_count": 30,
     "metadata": {},
     "output_type": "execute_result"
    }
   ],
   "source": [
    "# 55.18654 kgs > 55kgs\n",
    "[6.2, 5, 4.7, 5.5, 5.1]\n",
    "\n",
    "(6.2+5+4.7+5.5+5.1)/5"
   ]
  },
  {
   "cell_type": "code",
   "execution_count": 36,
   "id": "6b9efbf3",
   "metadata": {},
   "outputs": [
    {
     "data": {
      "text/plain": [
       "10.0"
      ]
     },
     "execution_count": 36,
     "metadata": {},
     "output_type": "execute_result"
    }
   ],
   "source": [
    "(10.0+21.9+8.1+4.0+6.0)/5"
   ]
  },
  {
   "cell_type": "code",
   "execution_count": 44,
   "id": "95d485d5",
   "metadata": {},
   "outputs": [
    {
     "data": {
      "text/plain": [
       "250"
      ]
     },
     "execution_count": 44,
     "metadata": {},
     "output_type": "execute_result"
    }
   ],
   "source": [
    "50*5"
   ]
  },
  {
   "cell_type": "code",
   "execution_count": 45,
   "id": "ab36aa09",
   "metadata": {},
   "outputs": [
    {
     "data": {
      "text/plain": [
       "8.333333333333334"
      ]
     },
     "execution_count": 45,
     "metadata": {},
     "output_type": "execute_result"
    }
   ],
   "source": [
    "50/6"
   ]
  },
  {
   "cell_type": "code",
   "execution_count": 46,
   "id": "f5e3e98b",
   "metadata": {},
   "outputs": [
    {
     "data": {
      "text/plain": [
       "10.0"
      ]
     },
     "execution_count": 46,
     "metadata": {},
     "output_type": "execute_result"
    }
   ],
   "source": [
    "50/5"
   ]
  },
  {
   "cell_type": "raw",
   "id": "529dc5a0",
   "metadata": {},
   "source": [
    "# Integer to integer operations\n",
    "# If both the input elements are integers\n",
    "1. integer / integer >> float\n",
    "2. integer * integer >> integer\n",
    "3. integer + integer >> integer\n",
    "4. integer - integer >> integer\n",
    "\n",
    "# If both the input elemenmts are float values\n",
    "1. float / float >> float\n",
    "2. float * float >> float\n",
    "3. float + float >> float\n",
    "4. float - float >> float\n",
    "\n",
    "# If one of the element is float and the other is integer\n",
    "It would always result in a float number"
   ]
  },
  {
   "cell_type": "code",
   "execution_count": 74,
   "id": "be777064",
   "metadata": {},
   "outputs": [
    {
     "name": "stdout",
     "output_type": "stream",
     "text": [
      "-89.0 <class 'float'>\n"
     ]
    }
   ],
   "source": [
    "x = 5\n",
    "y = 56\n",
    "z = 74\n",
    "a = 2.0\n",
    "\n",
    "final = (x+y-(z*a))-a\n",
    "print(final, type(final))"
   ]
  },
  {
   "cell_type": "markdown",
   "id": "01c668a1",
   "metadata": {},
   "source": [
    "# Typecasting\n",
    "\n",
    "- the operation using which we convert one datatype to another"
   ]
  },
  {
   "cell_type": "code",
   "execution_count": 76,
   "id": "3155ba96",
   "metadata": {},
   "outputs": [
    {
     "name": "stdout",
     "output_type": "stream",
     "text": [
      "-89.0 <class 'float'>\n",
      "-89 <class 'int'>\n"
     ]
    }
   ],
   "source": [
    "x = 5\n",
    "y = 56\n",
    "z = 74\n",
    "a = 2.0\n",
    "\n",
    "final = (x+y-(z*a))-a\n",
    "\n",
    "int_final = int(final)\n",
    "\n",
    "print(final, type(final))\n",
    "print(int_final, type(int_final))"
   ]
  },
  {
   "cell_type": "code",
   "execution_count": 82,
   "id": "0f929a65",
   "metadata": {},
   "outputs": [],
   "source": [
    "a = 55\n",
    "b = float(a)"
   ]
  },
  {
   "cell_type": "code",
   "execution_count": 86,
   "id": "b4c09872",
   "metadata": {},
   "outputs": [
    {
     "data": {
      "text/plain": [
       "(55.635, 55)"
      ]
     },
     "execution_count": 86,
     "metadata": {},
     "output_type": "execute_result"
    }
   ],
   "source": [
    "a = 55.635\n",
    "b = int(a)\n",
    "a,b"
   ]
  },
  {
   "cell_type": "code",
   "execution_count": 87,
   "id": "e62b5725",
   "metadata": {},
   "outputs": [
    {
     "data": {
      "text/plain": [
       "55"
      ]
     },
     "execution_count": 87,
     "metadata": {},
     "output_type": "execute_result"
    }
   ],
   "source": [
    "int(55.9999999999)"
   ]
  },
  {
   "cell_type": "code",
   "execution_count": 104,
   "id": "ced15727",
   "metadata": {},
   "outputs": [],
   "source": [
    "a = 55\n",
    "b = 55.0\n",
    "c = 100.0"
   ]
  },
  {
   "cell_type": "code",
   "execution_count": 114,
   "id": "d27b109f",
   "metadata": {
    "scrolled": true
   },
   "outputs": [
    {
     "data": {
      "text/plain": [
       "(28, 24, 24)"
      ]
     },
     "execution_count": 114,
     "metadata": {},
     "output_type": "execute_result"
    }
   ],
   "source": [
    "a.__sizeof__(), b.__sizeof__(), c.__sizeof__()"
   ]
  },
  {
   "cell_type": "code",
   "execution_count": 115,
   "id": "11a3e4c2",
   "metadata": {},
   "outputs": [
    {
     "data": {
      "text/plain": [
       "int"
      ]
     },
     "execution_count": 115,
     "metadata": {},
     "output_type": "execute_result"
    }
   ],
   "source": [
    "type(a)"
   ]
  },
  {
   "cell_type": "raw",
   "id": "9bcb869b",
   "metadata": {},
   "source": [
    "# 1. Float values take much more space than integer values\n",
    "# Note : When we initialize any integer or float value they would be initialized in different bits as per the number"
   ]
  },
  {
   "cell_type": "raw",
   "id": "1538995e",
   "metadata": {},
   "source": [
    "# bit is nothing but the maximum possible space allocation in memory\n",
    "\n",
    "int64 : 65\n",
    "float16 : 65.0\n",
    "    \n",
    "int64 size > float16"
   ]
  },
  {
   "cell_type": "raw",
   "id": "c08d85d5",
   "metadata": {},
   "source": [
    "64bits\n",
    "\n",
    "64bits integer : "
   ]
  },
  {
   "cell_type": "code",
   "execution_count": 170,
   "id": "da07121d",
   "metadata": {},
   "outputs": [
    {
     "data": {
      "text/plain": [
       "(26, 28)"
      ]
     },
     "execution_count": 170,
     "metadata": {},
     "output_type": "execute_result"
    }
   ],
   "source": [
    "x.__sizeof__(), y.__sizeof__()"
   ]
  },
  {
   "cell_type": "code",
   "execution_count": 179,
   "id": "7f2bda59",
   "metadata": {},
   "outputs": [
    {
     "data": {
      "text/plain": [
       "28"
      ]
     },
     "execution_count": 179,
     "metadata": {},
     "output_type": "execute_result"
    }
   ],
   "source": [
    "x = 1\n",
    "x.__sizeof__()"
   ]
  }
 ],
 "metadata": {
  "kernelspec": {
   "display_name": "Python 3 (ipykernel)",
   "language": "python",
   "name": "python3"
  },
  "language_info": {
   "codemirror_mode": {
    "name": "ipython",
    "version": 3
   },
   "file_extension": ".py",
   "mimetype": "text/x-python",
   "name": "python",
   "nbconvert_exporter": "python",
   "pygments_lexer": "ipython3",
   "version": "3.9.13"
  }
 },
 "nbformat": 4,
 "nbformat_minor": 5
}

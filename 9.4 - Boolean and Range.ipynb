{
 "cells": [
  {
   "cell_type": "markdown",
   "id": "de780e40",
   "metadata": {},
   "source": [
    "# 1. Boolean data type"
   ]
  },
  {
   "cell_type": "markdown",
   "id": "f828de72",
   "metadata": {},
   "source": [
    "#### There are only two possible values for this type\n",
    "- True\n",
    "- False\n",
    "\n",
    "#### Syntax:\n",
    "- The first letter should be capital and everything else should be lowercase {i.e the data should be in title-case}\n",
    "- The data should be defined without quotes or else it would be treated as a string instead of a boolean"
   ]
  },
  {
   "cell_type": "code",
   "execution_count": 1,
   "id": "cb7ad300",
   "metadata": {},
   "outputs": [
    {
     "name": "stdout",
     "output_type": "stream",
     "text": [
      "True\n"
     ]
    }
   ],
   "source": [
    "x = True\n",
    "print(x)"
   ]
  },
  {
   "cell_type": "code",
   "execution_count": 2,
   "id": "6f27d0ce",
   "metadata": {},
   "outputs": [
    {
     "name": "stdout",
     "output_type": "stream",
     "text": [
      "False\n"
     ]
    }
   ],
   "source": [
    "y = False\n",
    "print(y)"
   ]
  },
  {
   "cell_type": "code",
   "execution_count": 3,
   "id": "fa07b429",
   "metadata": {},
   "outputs": [
    {
     "data": {
      "text/plain": [
       "(bool, bool)"
      ]
     },
     "execution_count": 3,
     "metadata": {},
     "output_type": "execute_result"
    }
   ],
   "source": [
    "type(x), type(y)"
   ]
  },
  {
   "cell_type": "code",
   "execution_count": 4,
   "id": "f278196b",
   "metadata": {},
   "outputs": [
    {
     "name": "stdout",
     "output_type": "stream",
     "text": [
      "True\n"
     ]
    }
   ],
   "source": [
    "dummy = 'True'\n",
    "print(dummy)"
   ]
  },
  {
   "cell_type": "code",
   "execution_count": 5,
   "id": "98459624",
   "metadata": {},
   "outputs": [
    {
     "data": {
      "text/plain": [
       "str"
      ]
     },
     "execution_count": 5,
     "metadata": {},
     "output_type": "execute_result"
    }
   ],
   "source": [
    "type(dummy)"
   ]
  },
  {
   "cell_type": "markdown",
   "id": "28d059d0",
   "metadata": {},
   "source": [
    "### Automatically generating booleans"
   ]
  },
  {
   "cell_type": "code",
   "execution_count": 6,
   "id": "f3b151cf",
   "metadata": {},
   "outputs": [
    {
     "name": "stdout",
     "output_type": "stream",
     "text": [
      "Please feed your word : Groot\n",
      "True\n"
     ]
    }
   ],
   "source": [
    "var1 = 'Groot'\n",
    "var2 = input('Please feed your word : ')\n",
    "\n",
    "print(var1==var2)"
   ]
  },
  {
   "cell_type": "code",
   "execution_count": 7,
   "id": "3002e20c",
   "metadata": {},
   "outputs": [
    {
     "data": {
      "text/plain": [
       "bool"
      ]
     },
     "execution_count": 7,
     "metadata": {},
     "output_type": "execute_result"
    }
   ],
   "source": [
    "var3 = (var1==var2)\n",
    "\n",
    "type(var3)"
   ]
  },
  {
   "cell_type": "markdown",
   "id": "3dc8f221",
   "metadata": {},
   "source": [
    "## Operators rendering booleans as outputs:\n",
    "- '=='\n",
    "- '>='\n",
    "- '<='\n",
    "- '>'\n",
    "- '<'\n",
    "- '!='\n",
    "- 'in'\n",
    "- 'not in'\n",
    "\n",
    "#### Note : Use all of these without quotes"
   ]
  },
  {
   "cell_type": "markdown",
   "id": "8817af68",
   "metadata": {},
   "source": [
    "### Applications : conditionals"
   ]
  },
  {
   "cell_type": "code",
   "execution_count": 8,
   "id": "12a62d1c",
   "metadata": {},
   "outputs": [
    {
     "data": {
      "text/plain": [
       "False"
      ]
     },
     "execution_count": 8,
     "metadata": {},
     "output_type": "execute_result"
    }
   ],
   "source": [
    "data1 = 'I am Groot'\n",
    "dummy = 'groot'\n",
    "\n",
    "dummy in data1"
   ]
  },
  {
   "cell_type": "markdown",
   "id": "860c0f26",
   "metadata": {},
   "source": [
    "# 2. Range"
   ]
  },
  {
   "cell_type": "markdown",
   "id": "02e7a9fa",
   "metadata": {},
   "source": [
    "#### Definition\n",
    "- Sequence of numbers between two endpoints\n",
    "\n",
    "#### Syntax : \n",
    "- range(start_point, end_point+1, step_size)\n",
    "- Would not consider the end point in the data\n",
    "- Would only work on numbers"
   ]
  },
  {
   "cell_type": "code",
   "execution_count": 11,
   "id": "f8876841",
   "metadata": {},
   "outputs": [
    {
     "data": {
      "text/plain": [
       "range(0, 11)"
      ]
     },
     "execution_count": 11,
     "metadata": {},
     "output_type": "execute_result"
    }
   ],
   "source": [
    "data = range(0,11)\n",
    "data"
   ]
  },
  {
   "cell_type": "code",
   "execution_count": 12,
   "id": "1a2ffffe",
   "metadata": {},
   "outputs": [
    {
     "name": "stdout",
     "output_type": "stream",
     "text": [
      "0\n",
      "1\n",
      "2\n",
      "3\n",
      "4\n",
      "5\n",
      "6\n",
      "7\n",
      "8\n",
      "9\n",
      "10\n"
     ]
    }
   ],
   "source": [
    "for num in data:\n",
    "    print(num)"
   ]
  },
  {
   "cell_type": "code",
   "execution_count": 14,
   "id": "5cdac1aa",
   "metadata": {},
   "outputs": [
    {
     "data": {
      "text/plain": [
       "range"
      ]
     },
     "execution_count": 14,
     "metadata": {},
     "output_type": "execute_result"
    }
   ],
   "source": [
    "type(data)"
   ]
  },
  {
   "cell_type": "markdown",
   "id": "553a622d",
   "metadata": {},
   "source": [
    "#### Step size is used when we have to skip content with defined intervals\n",
    "\n",
    "- Would skip step_size-1 elements"
   ]
  },
  {
   "cell_type": "code",
   "execution_count": 15,
   "id": "905b2b8f",
   "metadata": {},
   "outputs": [
    {
     "name": "stdout",
     "output_type": "stream",
     "text": [
      "0\n",
      "2\n",
      "4\n",
      "6\n",
      "8\n",
      "10\n"
     ]
    }
   ],
   "source": [
    "for i in range(0,11,2):\n",
    "    print(i)"
   ]
  },
  {
   "cell_type": "raw",
   "id": "d38fa493",
   "metadata": {},
   "source": [
    "0,1,2,3,4,5,6,7,8,9,10"
   ]
  },
  {
   "cell_type": "code",
   "execution_count": 16,
   "id": "5714bef4",
   "metadata": {},
   "outputs": [
    {
     "name": "stdout",
     "output_type": "stream",
     "text": [
      "0\n",
      "3\n",
      "6\n",
      "9\n"
     ]
    }
   ],
   "source": [
    "for i in range(0,10,3):\n",
    "    print(i)"
   ]
  },
  {
   "cell_type": "markdown",
   "id": "f7d03112",
   "metadata": {},
   "source": [
    "## Accessing individual elements of a string using range"
   ]
  },
  {
   "cell_type": "code",
   "execution_count": 17,
   "id": "9ba158ec",
   "metadata": {},
   "outputs": [
    {
     "data": {
      "text/plain": [
       "32"
      ]
     },
     "execution_count": 17,
     "metadata": {},
     "output_type": "execute_result"
    }
   ],
   "source": [
    "data = 'i am groot. i am not your enemy.'\n",
    "len(data)"
   ]
  },
  {
   "cell_type": "code",
   "execution_count": 21,
   "id": "8924334b",
   "metadata": {
    "scrolled": true
   },
   "outputs": [
    {
     "name": "stdout",
     "output_type": "stream",
     "text": [
      "0 : i\n",
      "\n",
      "1 :  \n",
      "\n",
      "2 : a\n",
      "\n",
      "3 : m\n",
      "\n",
      "4 :  \n",
      "\n",
      "5 : g\n",
      "\n",
      "6 : r\n",
      "\n",
      "7 : o\n",
      "\n",
      "8 : o\n",
      "\n",
      "9 : t\n",
      "\n",
      "10 : .\n",
      "\n",
      "11 :  \n",
      "\n",
      "12 : i\n",
      "\n",
      "13 :  \n",
      "\n",
      "14 : a\n",
      "\n",
      "15 : m\n",
      "\n",
      "16 :  \n",
      "\n",
      "17 : n\n",
      "\n",
      "18 : o\n",
      "\n",
      "19 : t\n",
      "\n",
      "20 :  \n",
      "\n",
      "21 : y\n",
      "\n",
      "22 : o\n",
      "\n",
      "23 : u\n",
      "\n",
      "24 : r\n",
      "\n",
      "25 :  \n",
      "\n",
      "26 : e\n",
      "\n",
      "27 : n\n",
      "\n",
      "28 : e\n",
      "\n",
      "29 : m\n",
      "\n",
      "30 : y\n",
      "\n",
      "31 : .\n",
      "\n"
     ]
    }
   ],
   "source": [
    "for i in range(len(data)): # range(32) is equivalent to range(0,32)\n",
    "#     print(i)\n",
    "#     print(data[i])\n",
    "    \n",
    "    print(f'{i} : {data[i]}')\n",
    "    print()"
   ]
  },
  {
   "cell_type": "code",
   "execution_count": 26,
   "id": "ce9520c8",
   "metadata": {},
   "outputs": [
    {
     "name": "stdout",
     "output_type": "stream",
     "text": [
      "g\n",
      "o\n",
      "o\n",
      "t\n",
      "o\n",
      "t\n",
      "o\n"
     ]
    }
   ],
   "source": [
    "final = ''\n",
    "\n",
    "for i in range(len(data)):\n",
    "    if (data[i].lower() == 'g') or (data[i]=='o')  or (data[i]=='t'):\n",
    "        print(data[i])\n",
    "        final += data[i]"
   ]
  },
  {
   "cell_type": "code",
   "execution_count": 27,
   "id": "62b78846",
   "metadata": {},
   "outputs": [
    {
     "name": "stdout",
     "output_type": "stream",
     "text": [
      "goototo\n"
     ]
    }
   ],
   "source": [
    "print(final)"
   ]
  },
  {
   "cell_type": "markdown",
   "id": "a1df3920",
   "metadata": {},
   "source": [
    "- range(start, end, step)\n",
    "\n",
    "- string[start : end : step]"
   ]
  },
  {
   "cell_type": "code",
   "execution_count": null,
   "id": "9c996587",
   "metadata": {},
   "outputs": [],
   "source": []
  },
  {
   "cell_type": "code",
   "execution_count": null,
   "id": "dab7b9ec",
   "metadata": {},
   "outputs": [],
   "source": []
  },
  {
   "cell_type": "code",
   "execution_count": null,
   "id": "c3245972",
   "metadata": {},
   "outputs": [],
   "source": []
  },
  {
   "cell_type": "code",
   "execution_count": null,
   "id": "2877d914",
   "metadata": {},
   "outputs": [],
   "source": []
  },
  {
   "cell_type": "code",
   "execution_count": null,
   "id": "f9cc1385",
   "metadata": {},
   "outputs": [],
   "source": []
  },
  {
   "cell_type": "code",
   "execution_count": null,
   "id": "02911703",
   "metadata": {},
   "outputs": [],
   "source": []
  },
  {
   "cell_type": "markdown",
   "id": "2e731fab",
   "metadata": {},
   "source": [
    "### Generic data types\n",
    "- int\n",
    "- float\n",
    "- complex\n",
    "- boolean\n",
    "- strings\n",
    "- range\n",
    "- tuple\n",
    "- list\n",
    "- dictionary\n",
    "- set\n",
    "\n",
    "### Advanced data types\n",
    "- NamedTuple\n",
    "- frozenset\n",
    "- OrderedDict\n",
    "- Arrays\n",
    "- Series\n",
    "- DataFrames"
   ]
  },
  {
   "cell_type": "markdown",
   "id": "f56221e3",
   "metadata": {},
   "source": [
    "### Sorted function"
   ]
  },
  {
   "cell_type": "markdown",
   "id": "ec558e94",
   "metadata": {},
   "source": [
    "Application : \n",
    "- To arrange the items of a given collection data type in a specified order\n",
    "- The order can either be ascending or descending  "
   ]
  },
  {
   "cell_type": "raw",
   "id": "28aaa50a",
   "metadata": {},
   "source": [
    "syntax : sorted(collection data type)"
   ]
  },
  {
   "cell_type": "markdown",
   "id": "8ca14a45",
   "metadata": {},
   "source": [
    "#### Ascending order"
   ]
  },
  {
   "cell_type": "code",
   "execution_count": 4,
   "id": "cbc40539",
   "metadata": {},
   "outputs": [
    {
     "data": {
      "text/plain": [
       "['1', '1', '2', '2', '3', '4', '5']"
      ]
     },
     "execution_count": 4,
     "metadata": {},
     "output_type": "execute_result"
    }
   ],
   "source": [
    "string = '1253241'\n",
    "sorted(string)"
   ]
  },
  {
   "cell_type": "raw",
   "id": "db0134c3",
   "metadata": {},
   "source": [
    "'112345'\n",
    "\n",
    "['1','2','5','3','4','1'] >> ['1','1','2','3','4','5']"
   ]
  },
  {
   "cell_type": "code",
   "execution_count": 5,
   "id": "2018427e",
   "metadata": {},
   "outputs": [
    {
     "data": {
      "text/plain": [
       "['a', 'b', 'c', 'c', 'd', 'e', 'f']"
      ]
     },
     "execution_count": 5,
     "metadata": {},
     "output_type": "execute_result"
    }
   ],
   "source": [
    "string = 'acbdecf'\n",
    "sorted(string)"
   ]
  },
  {
   "cell_type": "markdown",
   "id": "c57041d4",
   "metadata": {},
   "source": [
    "#### Descending order"
   ]
  },
  {
   "cell_type": "code",
   "execution_count": 6,
   "id": "b521f9f0",
   "metadata": {},
   "outputs": [
    {
     "data": {
      "text/plain": [
       "['f', 'e', 'd', 'c', 'c', 'b', 'a']"
      ]
     },
     "execution_count": 6,
     "metadata": {},
     "output_type": "execute_result"
    }
   ],
   "source": [
    "string = 'acbdecf'\n",
    "sorted(string, reverse = True)"
   ]
  },
  {
   "cell_type": "code",
   "execution_count": 7,
   "id": "a49928e5",
   "metadata": {},
   "outputs": [
    {
     "data": {
      "text/plain": [
       "[' ', ' ', '1', '2', '3', 'G', 'I', 'a', 'm', 'o', 'o', 'r', 't']"
      ]
     },
     "execution_count": 7,
     "metadata": {},
     "output_type": "execute_result"
    }
   ],
   "source": [
    "string = 'I am Groot123'\n",
    "sorted(string)"
   ]
  },
  {
   "cell_type": "markdown",
   "id": "62a57611",
   "metadata": {},
   "source": [
    "### Sequence of output for sorted function\n",
    "\n",
    "`It would work as per the ascii character values`\n",
    "\n",
    "- space\n",
    "- punctuation marks\n",
    "- numbers\n",
    "- special characters\n",
    "- uppercase-letters\n",
    "- lowercase-letters"
   ]
  },
  {
   "cell_type": "code",
   "execution_count": 12,
   "id": "55c4d5db",
   "metadata": {},
   "outputs": [
    {
     "data": {
      "text/plain": [
       "[' ',\n",
       " ' ',\n",
       " '!',\n",
       " '$',\n",
       " '%',\n",
       " ',',\n",
       " '.',\n",
       " '1',\n",
       " '2',\n",
       " '3',\n",
       " '@',\n",
       " 'G',\n",
       " 'I',\n",
       " 'a',\n",
       " 'm',\n",
       " 'o',\n",
       " 'o',\n",
       " 'r',\n",
       " 't']"
      ]
     },
     "execution_count": 12,
     "metadata": {},
     "output_type": "execute_result"
    }
   ],
   "source": [
    "string = 'I am Groot@123.,!$%'\n",
    "sorted(string)"
   ]
  },
  {
   "cell_type": "code",
   "execution_count": 10,
   "id": "8c833945",
   "metadata": {},
   "outputs": [
    {
     "data": {
      "text/plain": [
       "['t', 'r', 'o', 'o', 'm', 'a', 'I', 'G', '@', '3', '2', '1', '.', ' ', ' ']"
      ]
     },
     "execution_count": 10,
     "metadata": {},
     "output_type": "execute_result"
    }
   ],
   "source": [
    "string = 'I am Groot@123.'\n",
    "sorted(string, reverse = True)"
   ]
  }
 ],
 "metadata": {
  "kernelspec": {
   "display_name": "Python 3 (ipykernel)",
   "language": "python",
   "name": "python3"
  },
  "language_info": {
   "codemirror_mode": {
    "name": "ipython",
    "version": 3
   },
   "file_extension": ".py",
   "mimetype": "text/x-python",
   "name": "python",
   "nbconvert_exporter": "python",
   "pygments_lexer": "ipython3",
   "version": "3.9.13"
  }
 },
 "nbformat": 4,
 "nbformat_minor": 5
}

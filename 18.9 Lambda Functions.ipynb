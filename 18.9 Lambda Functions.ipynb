{
 "cells": [
  {
   "cell_type": "markdown",
   "id": "929c5e4c",
   "metadata": {},
   "source": [
    "### 1. What is a lambda function ?\n",
    "\n",
    "- A special technique, which allows us to create function objects that behaves just like normal functions only\n",
    "- The lambda functions are always defined in a single line only \n",
    "- The lambda function creates a function object that can be further used to get the desired outputs"
   ]
  },
  {
   "cell_type": "markdown",
   "id": "7b8131c2",
   "metadata": {},
   "source": [
    "### Syntax: "
   ]
  },
  {
   "cell_type": "markdown",
   "id": "3ab0b661",
   "metadata": {},
   "source": [
    "```python\n",
    "    function_name = lambda arguments : expression\n",
    "```"
   ]
  },
  {
   "cell_type": "markdown",
   "id": "b3467826",
   "metadata": {},
   "source": [
    "## Example 1"
   ]
  },
  {
   "cell_type": "markdown",
   "id": "a03f3988",
   "metadata": {},
   "source": [
    "### Using generic function"
   ]
  },
  {
   "cell_type": "code",
   "execution_count": 11,
   "id": "1728479f",
   "metadata": {},
   "outputs": [
    {
     "data": {
      "text/plain": [
       "64"
      ]
     },
     "execution_count": 11,
     "metadata": {},
     "output_type": "execute_result"
    }
   ],
   "source": [
    "def squared(x):\n",
    "    return x**2\n",
    "\n",
    "squared(8)"
   ]
  },
  {
   "cell_type": "markdown",
   "id": "19ace65d",
   "metadata": {},
   "source": [
    "### Using lambda function"
   ]
  },
  {
   "cell_type": "code",
   "execution_count": 10,
   "id": "daa5311c",
   "metadata": {},
   "outputs": [],
   "source": [
    "squared_lambda_function = lambda x : x**2"
   ]
  },
  {
   "cell_type": "code",
   "execution_count": 6,
   "id": "e91c182e",
   "metadata": {},
   "outputs": [
    {
     "data": {
      "text/plain": [
       "function"
      ]
     },
     "execution_count": 6,
     "metadata": {},
     "output_type": "execute_result"
    }
   ],
   "source": [
    "type(squared_lambda_function)"
   ]
  },
  {
   "cell_type": "code",
   "execution_count": 9,
   "id": "65a7a1c2",
   "metadata": {},
   "outputs": [
    {
     "data": {
      "text/plain": [
       "16"
      ]
     },
     "execution_count": 9,
     "metadata": {},
     "output_type": "execute_result"
    }
   ],
   "source": [
    "# Using the lambda function\n",
    "squared_lambda_function(4)"
   ]
  },
  {
   "cell_type": "markdown",
   "id": "0dcc8d33",
   "metadata": {},
   "source": [
    "## Example 2"
   ]
  },
  {
   "cell_type": "markdown",
   "id": "30207267",
   "metadata": {},
   "source": [
    "### Using generic function"
   ]
  },
  {
   "cell_type": "code",
   "execution_count": 12,
   "id": "a24f9ed1",
   "metadata": {},
   "outputs": [],
   "source": [
    "def divisible_by_3(start, end):\n",
    "    final = []\n",
    "    for i in range(start,end):\n",
    "        if i%3==0:\n",
    "            final.append(i)\n",
    "            \n",
    "    return final"
   ]
  },
  {
   "cell_type": "code",
   "execution_count": 13,
   "id": "cb0e6d15",
   "metadata": {},
   "outputs": [
    {
     "data": {
      "text/plain": [
       "[3, 6, 9, 12, 15, 18]"
      ]
     },
     "execution_count": 13,
     "metadata": {},
     "output_type": "execute_result"
    }
   ],
   "source": [
    "start = 1\n",
    "end = 20\n",
    "\n",
    "divisible_by_3(start, end)"
   ]
  },
  {
   "cell_type": "markdown",
   "id": "fe7d5f55",
   "metadata": {},
   "source": [
    "### Using lambda function"
   ]
  },
  {
   "cell_type": "markdown",
   "id": "0cd5e150",
   "metadata": {},
   "source": [
    "#### a. Approach 1"
   ]
  },
  {
   "cell_type": "code",
   "execution_count": 14,
   "id": "c0470020",
   "metadata": {},
   "outputs": [],
   "source": [
    "divisible_by_3_lambda = lambda start,end : [i for i in range(start,end) if i%3==0]"
   ]
  },
  {
   "cell_type": "code",
   "execution_count": 15,
   "id": "3543780d",
   "metadata": {},
   "outputs": [
    {
     "data": {
      "text/plain": [
       "<function __main__.<lambda>(start, end)>"
      ]
     },
     "execution_count": 15,
     "metadata": {},
     "output_type": "execute_result"
    }
   ],
   "source": [
    "divisible_by_3_lambda"
   ]
  },
  {
   "cell_type": "code",
   "execution_count": 16,
   "id": "002b94df",
   "metadata": {},
   "outputs": [
    {
     "data": {
      "text/plain": [
       "[3, 6, 9, 12, 15, 18]"
      ]
     },
     "execution_count": 16,
     "metadata": {},
     "output_type": "execute_result"
    }
   ],
   "source": [
    "divisible_by_3_lambda(1,20)"
   ]
  },
  {
   "cell_type": "markdown",
   "id": "66c953de",
   "metadata": {},
   "source": [
    "#### b. Approach 2"
   ]
  },
  {
   "cell_type": "code",
   "execution_count": 46,
   "id": "c1ec5ec9",
   "metadata": {},
   "outputs": [],
   "source": [
    "divisible_by_3_lambda_2 = lambda x : x if x%3==0 else 0"
   ]
  },
  {
   "cell_type": "code",
   "execution_count": 47,
   "id": "e3dcc121",
   "metadata": {},
   "outputs": [
    {
     "data": {
      "text/plain": [
       "0"
      ]
     },
     "execution_count": 47,
     "metadata": {},
     "output_type": "execute_result"
    }
   ],
   "source": [
    "divisible_by_3_lambda_2(8)"
   ]
  },
  {
   "cell_type": "code",
   "execution_count": 48,
   "id": "d0ada8e2",
   "metadata": {},
   "outputs": [
    {
     "data": {
      "text/plain": [
       "[0, 0, 3, 0, 0, 6, 0, 0, 9, 0, 0, 12, 0, 0, 15, 0, 0, 18, 0]"
      ]
     },
     "execution_count": 48,
     "metadata": {},
     "output_type": "execute_result"
    }
   ],
   "source": [
    "[divisible_by_3_lambda_2(i) for i in range(start,end)]"
   ]
  },
  {
   "cell_type": "code",
   "execution_count": null,
   "id": "107c52e1",
   "metadata": {},
   "outputs": [],
   "source": []
  },
  {
   "cell_type": "code",
   "execution_count": 53,
   "id": "7882e745",
   "metadata": {},
   "outputs": [
    {
     "data": {
      "text/plain": [
       "[4, 1, 8, 3, 5, 6, 7]"
      ]
     },
     "execution_count": 53,
     "metadata": {},
     "output_type": "execute_result"
    }
   ],
   "source": [
    "[i[-1] for i in my_list]"
   ]
  },
  {
   "cell_type": "markdown",
   "id": "6e7c31e9",
   "metadata": {},
   "source": [
    "## 2. Application of lambda functions in sorted"
   ]
  },
  {
   "cell_type": "code",
   "execution_count": 50,
   "id": "911af28b",
   "metadata": {},
   "outputs": [
    {
     "data": {
      "text/plain": [
       "[(1, 4), (2, 1), (7, 8), (5, 3), (9, 5), (2, 6), (0, 7)]"
      ]
     },
     "execution_count": 50,
     "metadata": {},
     "output_type": "execute_result"
    }
   ],
   "source": [
    "my_list = [(1,4), (2,1), (7,8), (5,3), (9,5),(2,6),(0,7)]\n",
    "my_list"
   ]
  },
  {
   "cell_type": "code",
   "execution_count": 52,
   "id": "264202b8",
   "metadata": {},
   "outputs": [
    {
     "data": {
      "text/plain": [
       "[(9, 5), (7, 8), (5, 3), (2, 6), (2, 1), (1, 4), (0, 7)]"
      ]
     },
     "execution_count": 52,
     "metadata": {},
     "output_type": "execute_result"
    }
   ],
   "source": [
    "sorted(my_list, reverse=True)"
   ]
  },
  {
   "cell_type": "code",
   "execution_count": 54,
   "id": "3d594fc0",
   "metadata": {},
   "outputs": [
    {
     "data": {
      "text/plain": [
       "[(2, 1), (5, 3), (1, 4), (9, 5), (2, 6), (0, 7), (7, 8)]"
      ]
     },
     "execution_count": 54,
     "metadata": {},
     "output_type": "execute_result"
    }
   ],
   "source": [
    "sorted(my_list, key = lambda x : x[-1])"
   ]
  },
  {
   "cell_type": "code",
   "execution_count": null,
   "id": "fe6f4792",
   "metadata": {},
   "outputs": [],
   "source": []
  },
  {
   "cell_type": "markdown",
   "id": "5d6d39a9",
   "metadata": {},
   "source": [
    "### Question 1\n",
    "\n",
    "- input some n number of elements : these elements should not be a list or a tuple\n",
    "- output : a dictionary with keys as the individual elements and their values as their respective counts"
   ]
  },
  {
   "cell_type": "raw",
   "id": "1161863d",
   "metadata": {},
   "source": [
    "my_func(2,3,4,2,3,1,7,890)  >>  {1:1, 2:2, 3:2, 4:1, 7:1, 890:1}"
   ]
  },
  {
   "cell_type": "code",
   "execution_count": 65,
   "id": "b75f4120",
   "metadata": {},
   "outputs": [
    {
     "data": {
      "text/plain": [
       "{1: 2, 2: 2, 3: 1, 4: 1, 5: 2, 6: 1, 8: 1}"
      ]
     },
     "execution_count": 65,
     "metadata": {},
     "output_type": "execute_result"
    }
   ],
   "source": [
    "# Siddhesh Sonar\n",
    "my_funct = lambda *a : {key:a.count(key) for key in sorted(a)}\n",
    "\n",
    "my_funct(1,2,3,1,6,5,8,4,5,2)"
   ]
  },
  {
   "cell_type": "code",
   "execution_count": 70,
   "id": "5d1ae0a7",
   "metadata": {},
   "outputs": [
    {
     "data": {
      "text/plain": [
       "[{1: 3}, {2: 3}, {3: 1}, {4: 1}, {8: 1}, {83: 1}, {59: 1}]"
      ]
     },
     "execution_count": 70,
     "metadata": {},
     "output_type": "execute_result"
    }
   ],
   "source": [
    "# Sayali Battuwar21:23\n",
    "element_count = lambda *args : [{i:args.count(i)} for i in set(args)]\n",
    "\n",
    "element_count(1,59,2,1,4,2,3,1,83,2,8)"
   ]
  },
  {
   "cell_type": "code",
   "execution_count": 7,
   "id": "1124b323",
   "metadata": {},
   "outputs": [
    {
     "ename": "NameError",
     "evalue": "name 're' is not defined",
     "output_type": "error",
     "traceback": [
      "\u001b[1;31m---------------------------------------------------------------------------\u001b[0m",
      "\u001b[1;31mNameError\u001b[0m                                 Traceback (most recent call last)",
      "Input \u001b[1;32mIn [7]\u001b[0m, in \u001b[0;36m<cell line: 1>\u001b[1;34m()\u001b[0m\n\u001b[1;32m----> 1\u001b[0m help(\u001b[43mre\u001b[49m)\n",
      "\u001b[1;31mNameError\u001b[0m: name 're' is not defined"
     ]
    }
   ],
   "source": []
  },
  {
   "cell_type": "code",
   "execution_count": null,
   "id": "803c0bb9",
   "metadata": {},
   "outputs": [],
   "source": []
  }
 ],
 "metadata": {
  "kernelspec": {
   "display_name": "Python 3 (ipykernel)",
   "language": "python",
   "name": "python3"
  },
  "language_info": {
   "codemirror_mode": {
    "name": "ipython",
    "version": 3
   },
   "file_extension": ".py",
   "mimetype": "text/x-python",
   "name": "python",
   "nbconvert_exporter": "python",
   "pygments_lexer": "ipython3",
   "version": "3.9.12"
  }
 },
 "nbformat": 4,
 "nbformat_minor": 5
}

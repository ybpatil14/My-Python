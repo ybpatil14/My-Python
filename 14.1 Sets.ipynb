{
 "cells": [
  {
   "cell_type": "raw",
   "id": "f9cbd86b",
   "metadata": {},
   "source": [
    "- collection data type\n",
    "- heterogenous data type - cannot contain mutable objects\n",
    "\n",
    "- partially immutable in nature\n",
    "    - can add or remove data with inplace operations\n",
    "    - cannot change items\n",
    "\n",
    "- unordered data type : It wont preserve the order\n",
    "                      : It would change the order {shuffle} of the elements each time the cell is executed\n",
    "\n",
    "- Since it is unordered in nature, we cannot use positioning/indexing in sets\n",
    "\n",
    "- Wont allow duplicate items\n",
    "\n",
    "- to initialize a set:\n",
    "    - put elements inside curly braces : {elements}\n",
    "    - use the keyword to typecast any other collection data type into a set\n",
    "    \n",
    "- to generate an empty set : \n",
    "    - set()"
   ]
  },
  {
   "cell_type": "code",
   "execution_count": 9,
   "id": "a19c67b4",
   "metadata": {},
   "outputs": [
    {
     "data": {
      "text/plain": [
       "[1, 6, 2, 5, 3, 9, 0, 54, 'Groot']"
      ]
     },
     "execution_count": 9,
     "metadata": {},
     "output_type": "execute_result"
    }
   ],
   "source": [
    "data = [1,6,2,5,3,9,0,54,'Groot']\n",
    "\n",
    "data"
   ]
  },
  {
   "cell_type": "code",
   "execution_count": 10,
   "id": "801de0e0",
   "metadata": {},
   "outputs": [
    {
     "data": {
      "text/plain": [
       "{0, 1, 2, 3, 5, 54, 6, 9, 'Groot'}"
      ]
     },
     "execution_count": 10,
     "metadata": {},
     "output_type": "execute_result"
    }
   ],
   "source": [
    "set_data = {1,6,2,5,3,9,0,54,'Groot'}\n",
    "set_data"
   ]
  },
  {
   "cell_type": "code",
   "execution_count": 11,
   "id": "3c6b4e10",
   "metadata": {},
   "outputs": [
    {
     "data": {
      "text/plain": [
       "{1, 2, 3, 4, 5, 6, 7}"
      ]
     },
     "execution_count": 11,
     "metadata": {},
     "output_type": "execute_result"
    }
   ],
   "source": [
    "set_data = {1,2,3,1,5,6,7,1,2,4,5}\n",
    "set_data"
   ]
  },
  {
   "cell_type": "code",
   "execution_count": 12,
   "id": "1aed228e",
   "metadata": {},
   "outputs": [
    {
     "data": {
      "text/plain": [
       "{0, 1, 2, 3, 5, 54, 6, 9, 'Groot'}"
      ]
     },
     "execution_count": 12,
     "metadata": {},
     "output_type": "execute_result"
    }
   ],
   "source": [
    "data = [1,6,2,5,3,9,0,54,'Groot']\n",
    "set(data)"
   ]
  },
  {
   "cell_type": "code",
   "execution_count": 15,
   "id": "db5fae95",
   "metadata": {},
   "outputs": [
    {
     "data": {
      "text/plain": [
       "set"
      ]
     },
     "execution_count": 15,
     "metadata": {},
     "output_type": "execute_result"
    }
   ],
   "source": [
    "dummy = set()\n",
    "type(dummy)"
   ]
  },
  {
   "cell_type": "code",
   "execution_count": null,
   "id": "756321b8",
   "metadata": {},
   "outputs": [],
   "source": []
  },
  {
   "cell_type": "code",
   "execution_count": 16,
   "id": "d82f27a2",
   "metadata": {},
   "outputs": [
    {
     "data": {
      "text/plain": [
       "'hello i am using python.'"
      ]
     },
     "execution_count": 16,
     "metadata": {},
     "output_type": "execute_result"
    }
   ],
   "source": [
    "data = 'Hello I am using python.'\n",
    "data = data.lower()\n",
    "data"
   ]
  },
  {
   "cell_type": "code",
   "execution_count": 20,
   "id": "1d6a5ef4",
   "metadata": {},
   "outputs": [
    {
     "data": {
      "text/plain": [
       "(['g',\n",
       "  'e',\n",
       "  'p',\n",
       "  'u',\n",
       "  's',\n",
       "  'n',\n",
       "  ' ',\n",
       "  't',\n",
       "  'l',\n",
       "  'a',\n",
       "  'i',\n",
       "  'h',\n",
       "  '.',\n",
       "  'o',\n",
       "  'y',\n",
       "  'm'],\n",
       " 16)"
      ]
     },
     "execution_count": 20,
     "metadata": {},
     "output_type": "execute_result"
    }
   ],
   "source": [
    "element_list = list(data)\n",
    "unique_elements = list(set(element_list))\n",
    "unique_elements, len(unique_elements)"
   ]
  },
  {
   "cell_type": "code",
   "execution_count": 21,
   "id": "6f0b4cb7",
   "metadata": {},
   "outputs": [
    {
     "name": "stdout",
     "output_type": "stream",
     "text": [
      "g 1\n",
      "e 1\n",
      "p 1\n",
      "u 1\n",
      "s 1\n",
      "n 2\n",
      "  4\n",
      "t 1\n",
      "l 2\n",
      "a 1\n",
      "i 2\n",
      "h 2\n",
      ". 1\n",
      "o 2\n",
      "y 1\n",
      "m 1\n"
     ]
    }
   ],
   "source": [
    "for i in unique_elements:\n",
    "    print(i, data.count(i))"
   ]
  },
  {
   "cell_type": "code",
   "execution_count": 22,
   "id": "1cb2985a",
   "metadata": {},
   "outputs": [
    {
     "name": "stdout",
     "output_type": "stream",
     "text": [
      "Enter the comma separated names : Musaib Sayed,Shikhar, Siddhesh Sonar, Akshay Darunte,Akshay Darunte,Rishikesh Khutaphale, Sangra Gaikwad, Akshay Darunte,Akshay Darunte,Rishikesh Khutaphale, Sangra Gaikwad, Akshay Darunte,Rishikesh Khutaphale,sanket,kishor, Siddhesh Sonar, Akshay Darunte,Akshay Darunte,Rishikesh Khutaphale, Sangra Gaikwad, Akshay Darunte,Akshay Darunte,Rishikesh Khutaphale, Sangra Gaikwad, Akshay Darunte,Akshay Darunte,Rishikesh Khutaphale, Sangra Gaikwad, nil suryawanshi, Akshay Darunte,Akshay Darunte,Rishikesh Khutaphale, Sangra Gaikwad,Sandesh, Ashutosh, Musaib Sayed, Akshay Darunte,Akshay Darunte,Rishikesh Khutaphale, Sangra Gaikwad,Musaib Sayed, Akshay Darunte,Akshay Darunte,Rishikesh Khutaphale, Sangra Gaikwad\n"
     ]
    }
   ],
   "source": [
    "data = input('Enter the comma separated names : ')"
   ]
  },
  {
   "cell_type": "code",
   "execution_count": 23,
   "id": "7d055797",
   "metadata": {},
   "outputs": [
    {
     "data": {
      "text/plain": [
       "'Musaib Sayed,Shikhar, Siddhesh Sonar, Akshay Darunte,Akshay Darunte,Rishikesh Khutaphale, Sangra Gaikwad, Akshay Darunte,Akshay Darunte,Rishikesh Khutaphale, Sangra Gaikwad, Akshay Darunte,Rishikesh Khutaphale,sanket,kishor, Siddhesh Sonar, Akshay Darunte,Akshay Darunte,Rishikesh Khutaphale, Sangra Gaikwad, Akshay Darunte,Akshay Darunte,Rishikesh Khutaphale, Sangra Gaikwad, Akshay Darunte,Akshay Darunte,Rishikesh Khutaphale, Sangra Gaikwad, nil suryawanshi, Akshay Darunte,Akshay Darunte,Rishikesh Khutaphale, Sangra Gaikwad,Sandesh, Ashutosh, Musaib Sayed, Akshay Darunte,Akshay Darunte,Rishikesh Khutaphale, Sangra Gaikwad,Musaib Sayed, Akshay Darunte,Akshay Darunte,Rishikesh Khutaphale, Sangra Gaikwad'"
      ]
     },
     "execution_count": 23,
     "metadata": {},
     "output_type": "execute_result"
    }
   ],
   "source": [
    "data"
   ]
  },
  {
   "cell_type": "code",
   "execution_count": 24,
   "id": "a90a0cfd",
   "metadata": {},
   "outputs": [
    {
     "data": {
      "text/plain": [
       "['Musaib Sayed',\n",
       " 'Shikhar',\n",
       " ' Siddhesh Sonar',\n",
       " ' Akshay Darunte',\n",
       " 'Akshay Darunte',\n",
       " 'Rishikesh Khutaphale',\n",
       " ' Sangra Gaikwad',\n",
       " ' Akshay Darunte',\n",
       " 'Akshay Darunte',\n",
       " 'Rishikesh Khutaphale',\n",
       " ' Sangra Gaikwad',\n",
       " ' Akshay Darunte',\n",
       " 'Rishikesh Khutaphale',\n",
       " 'sanket',\n",
       " 'kishor',\n",
       " ' Siddhesh Sonar',\n",
       " ' Akshay Darunte',\n",
       " 'Akshay Darunte',\n",
       " 'Rishikesh Khutaphale',\n",
       " ' Sangra Gaikwad',\n",
       " ' Akshay Darunte',\n",
       " 'Akshay Darunte',\n",
       " 'Rishikesh Khutaphale',\n",
       " ' Sangra Gaikwad',\n",
       " ' Akshay Darunte',\n",
       " 'Akshay Darunte',\n",
       " 'Rishikesh Khutaphale',\n",
       " ' Sangra Gaikwad',\n",
       " ' nil suryawanshi',\n",
       " ' Akshay Darunte',\n",
       " 'Akshay Darunte',\n",
       " 'Rishikesh Khutaphale',\n",
       " ' Sangra Gaikwad',\n",
       " 'Sandesh',\n",
       " ' Ashutosh',\n",
       " ' Musaib Sayed',\n",
       " ' Akshay Darunte',\n",
       " 'Akshay Darunte',\n",
       " 'Rishikesh Khutaphale',\n",
       " ' Sangra Gaikwad',\n",
       " 'Musaib Sayed',\n",
       " ' Akshay Darunte',\n",
       " 'Akshay Darunte',\n",
       " 'Rishikesh Khutaphale',\n",
       " ' Sangra Gaikwad']"
      ]
     },
     "execution_count": 24,
     "metadata": {},
     "output_type": "execute_result"
    }
   ],
   "source": [
    "data = data.split(',')\n",
    "data"
   ]
  },
  {
   "cell_type": "code",
   "execution_count": 25,
   "id": "a2f5cbb9",
   "metadata": {},
   "outputs": [
    {
     "data": {
      "text/plain": [
       "['Musaib Sayed',\n",
       " 'Shikhar',\n",
       " 'Siddhesh Sonar',\n",
       " 'Akshay Darunte',\n",
       " 'Akshay Darunte',\n",
       " 'Rishikesh Khutaphale',\n",
       " 'Sangra Gaikwad',\n",
       " 'Akshay Darunte',\n",
       " 'Akshay Darunte',\n",
       " 'Rishikesh Khutaphale',\n",
       " 'Sangra Gaikwad',\n",
       " 'Akshay Darunte',\n",
       " 'Rishikesh Khutaphale',\n",
       " 'sanket',\n",
       " 'kishor',\n",
       " 'Siddhesh Sonar',\n",
       " 'Akshay Darunte',\n",
       " 'Akshay Darunte',\n",
       " 'Rishikesh Khutaphale',\n",
       " 'Sangra Gaikwad',\n",
       " 'Akshay Darunte',\n",
       " 'Akshay Darunte',\n",
       " 'Rishikesh Khutaphale',\n",
       " 'Sangra Gaikwad',\n",
       " 'Akshay Darunte',\n",
       " 'Akshay Darunte',\n",
       " 'Rishikesh Khutaphale',\n",
       " 'Sangra Gaikwad',\n",
       " 'nil suryawanshi',\n",
       " 'Akshay Darunte',\n",
       " 'Akshay Darunte',\n",
       " 'Rishikesh Khutaphale',\n",
       " 'Sangra Gaikwad',\n",
       " 'Sandesh',\n",
       " 'Ashutosh',\n",
       " 'Musaib Sayed',\n",
       " 'Akshay Darunte',\n",
       " 'Akshay Darunte',\n",
       " 'Rishikesh Khutaphale',\n",
       " 'Sangra Gaikwad',\n",
       " 'Musaib Sayed',\n",
       " 'Akshay Darunte',\n",
       " 'Akshay Darunte',\n",
       " 'Rishikesh Khutaphale',\n",
       " 'Sangra Gaikwad']"
      ]
     },
     "execution_count": 25,
     "metadata": {},
     "output_type": "execute_result"
    }
   ],
   "source": [
    "final = []\n",
    "for i in data:\n",
    "    i = i.strip()\n",
    "    final.append(i)\n",
    "final"
   ]
  },
  {
   "cell_type": "code",
   "execution_count": 26,
   "id": "44acd801",
   "metadata": {},
   "outputs": [
    {
     "data": {
      "text/plain": [
       "45"
      ]
     },
     "execution_count": 26,
     "metadata": {},
     "output_type": "execute_result"
    }
   ],
   "source": [
    "len(data)"
   ]
  },
  {
   "cell_type": "code",
   "execution_count": 27,
   "id": "683c6e18",
   "metadata": {},
   "outputs": [
    {
     "data": {
      "text/plain": [
       "13"
      ]
     },
     "execution_count": 27,
     "metadata": {},
     "output_type": "execute_result"
    }
   ],
   "source": [
    "len(set(data))"
   ]
  },
  {
   "cell_type": "code",
   "execution_count": 52,
   "id": "813734dc",
   "metadata": {},
   "outputs": [],
   "source": [
    "# Mocks result\n",
    "programming = ['Abhishek Mohan Sarate', 'Aditya Digambar Pachghare', 'Arvind Panditrao Kadam', 'Ganesh Gawkar', \n",
    "               'Gaurav Tiwari', 'Hon mahesh Bhausaheb', 'Imran Khan Ayoub Khan', 'Jayashri Sunil Nalawade', \n",
    "               'Kishor Bhausaheb Maharnawar', 'Kriti Komal', 'Mokshit shah', 'Monali Balu Shinde', \n",
    "               'Nikhil Dnyaneshwar Burhade', 'Pavan Sudhakar Raskar', 'Pranali Prashant Vedpathak', \n",
    "               'Prasad Bharat Mule', 'Prashansa Pramod Bagde', 'Rakesh', 'Rohit Pramod Chaudhari', \n",
    "               'Sachin Kisan Khatale', 'Shahnawaz Hasnain Shaikh', 'Shital Labhade', 'Shrikant Tukaram Khade', \n",
    "               'Sonali Pramod Jawale', 'Sufiyan Ul Haque', 'Sukanya Shashikant Jagtap', 'Tejaswini Prakash Khade', \n",
    "               'Vaishali Pramod Gavhane', 'Virendra Mahadeo Thakre', 'Yogita Suhas Deshmukh']\n",
    "\n",
    "syntax_understanding = ['Abhishek Mohan Sarate', 'Arvind Panditrao Kadam', 'Ganesh Gawkar', 'Hon mahesh Bhausaheb', \n",
    "                        'Imran Khan Ayoub Khan', 'Jayashri Sunil Nalawade', 'Kishor Bhausaheb Maharnawar', \n",
    "                        'Kriti Komal', 'Pranali Prashant Vedpathak', 'Prasad Bharat Mule', 'Prashansa Pramod Bagde', \n",
    "                        'Rakesh', 'Sachin Kisan Khatale', 'Shahnawaz Hasnain Shaikh', 'Shital Labhade', \n",
    "                        'Sonali Pramod Jawale', 'Sufiyan Ul Haque', 'Sukanya Shashikant Jagtap', \n",
    "                        'Tejaswini Prakash Khade', 'Vaishali Pramod Gavhane', 'Virendra Mahadeo Thakre', \n",
    "                        'Yogita Suhas Deshmukh']\n",
    "\n",
    "tuples = ['Abhishek Mohan Sarate', 'Aditya Digambar Pachghare', 'Hon mahesh Bhausaheb', 'Imran Khan Ayoub Khan', \n",
    "          'Kishor Bhausaheb Maharnawar', 'Monali Balu Shinde', 'Pranali Prashant Vedpathak', 'Prasad Bharat Mule', \n",
    "          'Sachin Kisan Khatale', 'Shivanjali Somanath Giram', 'Shrikant Tukaram Khade', 'Shubham Pramod Bhilare', \n",
    "          'Tejal Babar', 'Vikram Haridas Nagare', 'Yogesh Bhagwan Patil']\n",
    "\n",
    "for_loop = ['Arvind Panditrao Kadam', 'Dhananjay Rajendra Kale', 'Hon mahesh Bhausaheb', 'Imran Khan Ayoub Khan', \n",
    "            'Jayashri Sunil Nalawade', 'Kishor Bhausaheb Maharnawar', 'Monali Balu Shinde', \n",
    "            'Pranali Prashant Vedpathak', 'Prasad Bharat Mule', 'Sachin Kisan Khatale', 'Shital Labhade', \n",
    "            'Shrikant Tukaram Khade', 'Sonali Pramod Jawale', 'Sufiyan Ul Haque']\n",
    "\n",
    "if_else = ['Arvind Panditrao Kadam', 'Hon mahesh Bhausaheb', 'Jayashri Sunil Nalawade', 'Kishor Bhausaheb Maharnawar', \n",
    "           'Pranali Prashant Vedpathak', 'Sachin Kisan Khatale', 'Sonali Pramod Jawale', 'Sufiyan Ul Haque']"
   ]
  },
  {
   "cell_type": "code",
   "execution_count": 49,
   "id": "259d84e5",
   "metadata": {},
   "outputs": [
    {
     "data": {
      "text/plain": [
       "['Abhishek Mohan Sarate',\n",
       " 'Arvind Panditrao Kadam',\n",
       " 'Ganesh Gawkar',\n",
       " 'Hon mahesh Bhausaheb',\n",
       " 'Imran Khan Ayoub Khan',\n",
       " 'Jayashri Sunil Nalawade',\n",
       " 'Kishor Bhausaheb Maharnawar',\n",
       " 'Kriti Komal',\n",
       " 'Pranali Prashant Vedpathak',\n",
       " 'Prasad Bharat Mule',\n",
       " 'Prashansa Pramod Bagde',\n",
       " 'Rakesh',\n",
       " 'Sachin Kisan Khatale',\n",
       " 'Shahnawaz Hasnain Shaikh',\n",
       " 'Shital Labhade',\n",
       " 'Sonali Pramod Jawale',\n",
       " 'Sufiyan Ul Haque',\n",
       " 'Sukanya Shashikant Jagtap',\n",
       " 'Tejaswini Prakash Khade',\n",
       " 'Vaishali Pramod Gavhane',\n",
       " 'Virendra Mahadeo Thakre',\n",
       " 'Yogita Suhas Deshmukh']"
      ]
     },
     "execution_count": 49,
     "metadata": {},
     "output_type": "execute_result"
    }
   ],
   "source": [
    "students = []\n",
    "for student_name in programming:\n",
    "    if student_name in syntax_understanding:\n",
    "        students.append(student_name)\n",
    "students"
   ]
  },
  {
   "cell_type": "code",
   "execution_count": 51,
   "id": "91155f2f",
   "metadata": {},
   "outputs": [
    {
     "data": {
      "text/plain": [
       "{'Abhishek Mohan Sarate',\n",
       " 'Arvind Panditrao Kadam',\n",
       " 'Ganesh Gawkar',\n",
       " 'Hon mahesh Bhausaheb',\n",
       " 'Imran Khan Ayoub Khan',\n",
       " 'Jayashri Sunil Nalawade',\n",
       " 'Kishor Bhausaheb Maharnawar',\n",
       " 'Kriti Komal',\n",
       " 'Pranali Prashant Vedpathak',\n",
       " 'Prasad Bharat Mule',\n",
       " 'Prashansa Pramod Bagde',\n",
       " 'Rakesh',\n",
       " 'Sachin Kisan Khatale',\n",
       " 'Shahnawaz Hasnain Shaikh',\n",
       " 'Shital Labhade',\n",
       " 'Sonali Pramod Jawale',\n",
       " 'Sufiyan Ul Haque',\n",
       " 'Sukanya Shashikant Jagtap',\n",
       " 'Tejaswini Prakash Khade',\n",
       " 'Vaishali Pramod Gavhane',\n",
       " 'Virendra Mahadeo Thakre',\n",
       " 'Yogita Suhas Deshmukh'}"
      ]
     },
     "execution_count": 51,
     "metadata": {},
     "output_type": "execute_result"
    }
   ],
   "source": [
    "programming = set(programming)\n",
    "syntax_understanding = set(syntax_understanding)\n",
    "\n",
    "programming.intersection(syntax_understanding)"
   ]
  },
  {
   "cell_type": "markdown",
   "id": "9ce9ae27",
   "metadata": {},
   "source": [
    "----------------------------------------------------------------------------------------------------------------------"
   ]
  },
  {
   "cell_type": "markdown",
   "id": "2ee12447",
   "metadata": {},
   "source": [
    "### 1. Intersection of sets"
   ]
  },
  {
   "cell_type": "markdown",
   "id": "3a2a8641",
   "metadata": {},
   "source": [
    "#### 1.1 set1.intersection(set2)"
   ]
  },
  {
   "attachments": {
    "image.png": {
     "image/png": "[encoded data removed]"
    }
   },
   "cell_type": "markdown",
   "id": "9db1467f",
   "metadata": {},
   "source": [
    "<center>INTERSECTION OF TWO SETS</center>\n",
    "    \n",
    "    \n",
    "![image.png](attachment:image.png)"
   ]
  },
  {
   "cell_type": "code",
   "execution_count": 53,
   "id": "456757dd",
   "metadata": {},
   "outputs": [],
   "source": [
    "set1 = {'Hanuman', 'Groot', 'Iron Man', 'Spider Man', 'Bolt', 'Jadoo', 'Black Adam'}\n",
    "set2 = {'ShaktiMan', \"Groot\", 'Dead Pool', 'Hanuman', 'X Man', 'Ant Man', 'Jadoo'}"
   ]
  },
  {
   "cell_type": "code",
   "execution_count": 56,
   "id": "e4f3dccf",
   "metadata": {},
   "outputs": [
    {
     "data": {
      "text/plain": [
       "{'Groot', 'Hanuman', 'Jadoo'}"
      ]
     },
     "execution_count": 56,
     "metadata": {},
     "output_type": "execute_result"
    }
   ],
   "source": [
    "intersection_set = set1.intersection(set2)\n",
    "intersection_set"
   ]
  },
  {
   "cell_type": "code",
   "execution_count": 57,
   "id": "f33ec9b7",
   "metadata": {},
   "outputs": [
    {
     "data": {
      "text/plain": [
       "({'Black Adam', 'Bolt', 'Groot', 'Hanuman', 'Iron Man', 'Jadoo', 'Spider Man'},\n",
       " {'Ant Man', 'Dead Pool', 'Groot', 'Hanuman', 'Jadoo', 'ShaktiMan', 'X Man'},\n",
       " {'Groot', 'Hanuman', 'Jadoo'})"
      ]
     },
     "execution_count": 57,
     "metadata": {},
     "output_type": "execute_result"
    }
   ],
   "source": [
    "set1, set2, intersection_set"
   ]
  },
  {
   "cell_type": "markdown",
   "id": "a7ba242f",
   "metadata": {},
   "source": [
    "----------------------------------------------------------------------------------------------------------------------"
   ]
  },
  {
   "attachments": {
    "image.png": {
     "image/png": "[encoded data removed]"
    }
   },
   "cell_type": "markdown",
   "id": "46a5f198",
   "metadata": {},
   "source": [
    "<center>INTERSECTION OF THREE SETS</center>\n",
    "\n",
    "\n",
    "![image.png](attachment:image.png)\n",
    "\n",
    "\n",
    "<center><h3>Blue+Green : intersection of A and B</h3></center>\n",
    "<center><h3>Orange+Green : intersection of A and C</h3></center>\n",
    "<center><h3>Pink+Green : intersection of B and C</h3></center>\n",
    "<center><h3>Green : intersection of A, B and C</h3><center>"
   ]
  },
  {
   "cell_type": "code",
   "execution_count": 65,
   "id": "633a8c83",
   "metadata": {},
   "outputs": [],
   "source": [
    "set1 = {'Hanuman', 'Groot', 'Iron Man', 'Spider Man', 'Bolt', 'Jadoo', 'Black Adam'}\n",
    "set2 = {'ShaktiMan', \"Groot\", 'Dead Pool', 'Hanuman', 'X Man', 'Ant Man', 'Jadoo', 'Spider Man'}\n",
    "set3 = {'Bahubali', 'Groot', 'Flying Jatt', 'Hawkeye', 'Thor', 'Spider Man', 'Junior G', 'Dracarys'}"
   ]
  },
  {
   "cell_type": "code",
   "execution_count": 66,
   "id": "031d183f",
   "metadata": {},
   "outputs": [
    {
     "data": {
      "text/plain": [
       "['Groot', 'Spider Man']"
      ]
     },
     "execution_count": 66,
     "metadata": {},
     "output_type": "execute_result"
    }
   ],
   "source": [
    "intersection_ = []\n",
    "for i in set1:\n",
    "    if (i in set2) and (i in set3):\n",
    "        intersection_.append(i)\n",
    "intersection_"
   ]
  },
  {
   "cell_type": "code",
   "execution_count": 68,
   "id": "bf49b41b",
   "metadata": {},
   "outputs": [
    {
     "data": {
      "text/plain": [
       "{'Groot', 'Spider Man'}"
      ]
     },
     "execution_count": 68,
     "metadata": {},
     "output_type": "execute_result"
    }
   ],
   "source": [
    "set1.intersection(set2).intersection(set3)"
   ]
  },
  {
   "cell_type": "code",
   "execution_count": 67,
   "id": "e6c504bc",
   "metadata": {},
   "outputs": [
    {
     "data": {
      "text/plain": [
       "{'Groot', 'Spider Man'}"
      ]
     },
     "execution_count": 67,
     "metadata": {},
     "output_type": "execute_result"
    }
   ],
   "source": [
    "set1.intersection(set2,set3)"
   ]
  },
  {
   "cell_type": "markdown",
   "id": "52f1ebe9",
   "metadata": {},
   "source": [
    "----------------------------------------------------------------------------------------------------------------------"
   ]
  },
  {
   "cell_type": "markdown",
   "id": "7817f42f",
   "metadata": {},
   "source": [
    "#### 1.2 set1.intersection_update(set2)"
   ]
  },
  {
   "cell_type": "code",
   "execution_count": 59,
   "id": "bb3444a3",
   "metadata": {},
   "outputs": [
    {
     "name": "stdout",
     "output_type": "stream",
     "text": [
      "{'Bolt', 'Hanuman', 'Jadoo', 'Black Adam', 'Groot', 'Spider Man', 'Iron Man'}\n",
      "\n",
      "{'Groot', 'Hanuman', 'Jadoo'}\n"
     ]
    }
   ],
   "source": [
    "set1 = {'Hanuman', 'Groot', 'Iron Man', 'Spider Man', 'Bolt', 'Jadoo', 'Black Adam'}\n",
    "set2 = {'ShaktiMan', \"Groot\", 'Dead Pool', 'Hanuman', 'X Man', 'Ant Man', 'Jadoo'}\n",
    "\n",
    "print(set1)\n",
    "print()\n",
    "set1.intersection_update(set2)\n",
    "print(set1)"
   ]
  },
  {
   "cell_type": "code",
   "execution_count": 69,
   "id": "fde6ab7e",
   "metadata": {},
   "outputs": [
    {
     "data": {
      "text/plain": [
       "{'Groot', 'Spider Man'}"
      ]
     },
     "execution_count": 69,
     "metadata": {},
     "output_type": "execute_result"
    }
   ],
   "source": [
    "set1 = {'Hanuman', 'Groot', 'Iron Man', 'Spider Man', 'Bolt', 'Jadoo', 'Black Adam'}\n",
    "set2 = {'ShaktiMan', \"Groot\", 'Dead Pool', 'Hanuman', 'X Man', 'Ant Man', 'Jadoo', 'Spider Man'}\n",
    "set3 = {'Bahubali', 'Groot', 'Flying Jatt', 'Hawkeye', 'Thor', 'Spider Man', 'Junior G', 'Dracarys'}\n",
    "\n",
    "set1.intersection_update(set2,set3)\n",
    "set1"
   ]
  },
  {
   "cell_type": "markdown",
   "id": "eaf8b4f1",
   "metadata": {},
   "source": [
    "----------------------------------------------------------------------------------------------------------------------"
   ]
  },
  {
   "cell_type": "code",
   "execution_count": 82,
   "id": "8deb3698",
   "metadata": {},
   "outputs": [
    {
     "data": {
      "text/plain": [
       "{'Groot', 'Hanuman', 'Jadoo', True}"
      ]
     },
     "execution_count": 82,
     "metadata": {},
     "output_type": "execute_result"
    }
   ],
   "source": [
    "set1 = {'Hanuman', 'Groot', 'Iron Man', 'Spider Man', 'Bolt', 'Jadoo', 'Black Adam', True, False, None, True}\n",
    "tuple1 = ('ShaktiMan', \"Groot\", 'Dead Pool', 'Hanuman', 'X Man', 'Ant Man', 'Jadoo', True)\n",
    "\n",
    "set1.intersection(tuple1)"
   ]
  },
  {
   "cell_type": "markdown",
   "id": "2ac033d2",
   "metadata": {},
   "source": [
    "----------------------------------------------------------------------------------------------------------------------"
   ]
  }
 ],
 "metadata": {
  "kernelspec": {
   "display_name": "Python 3 (ipykernel)",
   "language": "python",
   "name": "python3"
  },
  "language_info": {
   "codemirror_mode": {
    "name": "ipython",
    "version": 3
   },
   "file_extension": ".py",
   "mimetype": "text/x-python",
   "name": "python",
   "nbconvert_exporter": "python",
   "pygments_lexer": "ipython3",
   "version": "3.9.12"
  }
 },
 "nbformat": 4,
 "nbformat_minor": 5
}

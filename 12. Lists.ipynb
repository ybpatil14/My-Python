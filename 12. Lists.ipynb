{
 "cells": [
  {
   "cell_type": "markdown",
   "id": "ee234d29",
   "metadata": {},
   "source": [
    "- Mutable data type : We can make changes in the original list without updating its variable explicitly\n",
    "- A collection data-type{iterables} in which the elements are seperated by commas inside square brackets\n",
    "- A list can host absolutely any data type : This is a heterogeneous data-type\n",
    "- syntax : list(collection data type) > classic example of type-casting\n",
    "         : [elements]"
   ]
  },
  {
   "cell_type": "code",
   "execution_count": 1,
   "id": "0ef4d5fe",
   "metadata": {},
   "outputs": [
    {
     "data": {
      "text/plain": [
       "(list, ['Groot'])"
      ]
     },
     "execution_count": 1,
     "metadata": {},
     "output_type": "execute_result"
    }
   ],
   "source": [
    "my_list = ['Groot']\n",
    "type(my_list), my_list"
   ]
  },
  {
   "cell_type": "code",
   "execution_count": 2,
   "id": "3ea13ea2",
   "metadata": {},
   "outputs": [
    {
     "data": {
      "text/plain": [
       "['I am Groot', 1, 2, 3, 1.234, True, None, (1, 2, 3), ['a', 'b', 567]]"
      ]
     },
     "execution_count": 2,
     "metadata": {},
     "output_type": "execute_result"
    }
   ],
   "source": [
    "data = ['I am Groot', 1,2,3, 1.234, True, None, (1,2,3), ['a','b',567]]\n",
    "data"
   ]
  },
  {
   "cell_type": "code",
   "execution_count": 4,
   "id": "0a2c074d",
   "metadata": {},
   "outputs": [
    {
     "data": {
      "text/plain": [
       "['I', ' ', 'a', 'm', ' ', 'G', 'r', 'o', 'o', 't']"
      ]
     },
     "execution_count": 4,
     "metadata": {},
     "output_type": "execute_result"
    }
   ],
   "source": [
    "data = list('I am Groot')\n",
    "data"
   ]
  },
  {
   "cell_type": "code",
   "execution_count": 10,
   "id": "008e585f",
   "metadata": {},
   "outputs": [
    {
     "data": {
      "text/plain": [
       "['I am Groot']"
      ]
     },
     "execution_count": 10,
     "metadata": {},
     "output_type": "execute_result"
    }
   ],
   "source": [
    "data = list(('I am Groot',))\n",
    "data"
   ]
  },
  {
   "cell_type": "markdown",
   "id": "ddadb2dd",
   "metadata": {},
   "source": [
    "### 1. Indexing in lists"
   ]
  },
  {
   "cell_type": "code",
   "execution_count": 11,
   "id": "80c1df3c",
   "metadata": {},
   "outputs": [
    {
     "data": {
      "text/plain": [
       "9"
      ]
     },
     "execution_count": 11,
     "metadata": {},
     "output_type": "execute_result"
    }
   ],
   "source": [
    "data = ['I am Groot', 1,2,3, 1.234, True, None, (1,2,3), ['a','b',567]]\n",
    "len(data)"
   ]
  },
  {
   "cell_type": "code",
   "execution_count": 12,
   "id": "a8dd18ba",
   "metadata": {},
   "outputs": [
    {
     "data": {
      "text/plain": [
       "['a', 'b', 567]"
      ]
     },
     "execution_count": 12,
     "metadata": {},
     "output_type": "execute_result"
    }
   ],
   "source": [
    "data[-1]"
   ]
  },
  {
   "cell_type": "code",
   "execution_count": 13,
   "id": "bd214576",
   "metadata": {},
   "outputs": [
    {
     "data": {
      "text/plain": [
       "['a', 'b', 567]"
      ]
     },
     "execution_count": 13,
     "metadata": {},
     "output_type": "execute_result"
    }
   ],
   "source": [
    "data[len(data)-1]"
   ]
  },
  {
   "cell_type": "code",
   "execution_count": 14,
   "id": "6322363a",
   "metadata": {},
   "outputs": [
    {
     "data": {
      "text/plain": [
       "['a', 'b', 567]"
      ]
     },
     "execution_count": 14,
     "metadata": {},
     "output_type": "execute_result"
    }
   ],
   "source": [
    "data[8]"
   ]
  },
  {
   "cell_type": "markdown",
   "id": "95eb04e5",
   "metadata": {},
   "source": [
    "### 2. Slicing in lists"
   ]
  },
  {
   "cell_type": "code",
   "execution_count": 17,
   "id": "7034868f",
   "metadata": {},
   "outputs": [
    {
     "data": {
      "text/plain": [
       "[1, 3, True, (1, 2, 3)]"
      ]
     },
     "execution_count": 17,
     "metadata": {},
     "output_type": "execute_result"
    }
   ],
   "source": [
    "data[1:8:2]"
   ]
  },
  {
   "cell_type": "markdown",
   "id": "b183decb",
   "metadata": {},
   "source": [
    "### 3. Length function in lists"
   ]
  },
  {
   "cell_type": "code",
   "execution_count": 18,
   "id": "d44165d5",
   "metadata": {},
   "outputs": [
    {
     "data": {
      "text/plain": [
       "9"
      ]
     },
     "execution_count": 18,
     "metadata": {},
     "output_type": "execute_result"
    }
   ],
   "source": [
    "len(data)"
   ]
  },
  {
   "cell_type": "markdown",
   "id": "edc27779",
   "metadata": {},
   "source": [
    "### 4. sorted function in lists"
   ]
  },
  {
   "cell_type": "code",
   "execution_count": 20,
   "id": "339166b8",
   "metadata": {},
   "outputs": [
    {
     "data": {
      "text/plain": [
       "[-0.52435, 1, 2, 3, 4, 5, 6.6, 7]"
      ]
     },
     "execution_count": 20,
     "metadata": {},
     "output_type": "execute_result"
    }
   ],
   "source": [
    "data = [1,2,3,4,5,6.6,7,-0.52435]\n",
    "sorted(data)"
   ]
  },
  {
   "cell_type": "code",
   "execution_count": 21,
   "id": "9042f85c",
   "metadata": {},
   "outputs": [
    {
     "data": {
      "text/plain": [
       "['__add__',\n",
       " '__class__',\n",
       " '__class_getitem__',\n",
       " '__contains__',\n",
       " '__delattr__',\n",
       " '__delitem__',\n",
       " '__dir__',\n",
       " '__doc__',\n",
       " '__eq__',\n",
       " '__format__',\n",
       " '__ge__',\n",
       " '__getattribute__',\n",
       " '__getitem__',\n",
       " '__gt__',\n",
       " '__hash__',\n",
       " '__iadd__',\n",
       " '__imul__',\n",
       " '__init__',\n",
       " '__init_subclass__',\n",
       " '__iter__',\n",
       " '__le__',\n",
       " '__len__',\n",
       " '__lt__',\n",
       " '__mul__',\n",
       " '__ne__',\n",
       " '__new__',\n",
       " '__reduce__',\n",
       " '__reduce_ex__',\n",
       " '__repr__',\n",
       " '__reversed__',\n",
       " '__rmul__',\n",
       " '__setattr__',\n",
       " '__setitem__',\n",
       " '__sizeof__',\n",
       " '__str__',\n",
       " '__subclasshook__',\n",
       " 'append',\n",
       " 'clear',\n",
       " 'copy',\n",
       " 'count',\n",
       " 'extend',\n",
       " 'index',\n",
       " 'insert',\n",
       " 'pop',\n",
       " 'remove',\n",
       " 'reverse',\n",
       " 'sort']"
      ]
     },
     "execution_count": 21,
     "metadata": {},
     "output_type": "execute_result"
    }
   ],
   "source": [
    "dir(data)"
   ]
  },
  {
   "cell_type": "markdown",
   "id": "328ea9c6",
   "metadata": {},
   "source": [
    "### 1. Adding items in the list"
   ]
  },
  {
   "cell_type": "markdown",
   "id": "08f04d25",
   "metadata": {},
   "source": [
    "### Examples of adding elements in the tuples"
   ]
  },
  {
   "cell_type": "code",
   "execution_count": 23,
   "id": "c3226bb5",
   "metadata": {},
   "outputs": [
    {
     "data": {
      "text/plain": [
       "(23, 56, 12, 1, 2, 3)"
      ]
     },
     "execution_count": 23,
     "metadata": {},
     "output_type": "execute_result"
    }
   ],
   "source": [
    "tup1 = (23,56)\n",
    "tup2 = (12,1,2,3)\n",
    "\n",
    "tup1 + tup2"
   ]
  },
  {
   "cell_type": "code",
   "execution_count": 24,
   "id": "dc93fd91",
   "metadata": {},
   "outputs": [
    {
     "data": {
      "text/plain": [
       "(23, 56, 12, 1, 2, 3)"
      ]
     },
     "execution_count": 24,
     "metadata": {},
     "output_type": "execute_result"
    }
   ],
   "source": [
    "tup1.__add__(tup2)"
   ]
  },
  {
   "cell_type": "code",
   "execution_count": 25,
   "id": "0b3ba97a",
   "metadata": {},
   "outputs": [
    {
     "data": {
      "text/plain": [
       "(23, 56)"
      ]
     },
     "execution_count": 25,
     "metadata": {},
     "output_type": "execute_result"
    }
   ],
   "source": [
    "tup1"
   ]
  },
  {
   "cell_type": "code",
   "execution_count": 26,
   "id": "6e021819",
   "metadata": {},
   "outputs": [
    {
     "data": {
      "text/plain": [
       "(12, 1, 2, 3)"
      ]
     },
     "execution_count": 26,
     "metadata": {},
     "output_type": "execute_result"
    }
   ],
   "source": [
    "tup2"
   ]
  },
  {
   "cell_type": "markdown",
   "id": "a7980568",
   "metadata": {},
   "source": [
    "### a. append"
   ]
  },
  {
   "cell_type": "markdown",
   "id": "5c6299b5",
   "metadata": {},
   "source": [
    "- Adds the described element at the end of the given list\n",
    "- updates the original list only ; no need to update the variable externally\n",
    "- syntax : `list_name.append(element_to_add)`\n",
    "- is an `inplace` function : inplace functions are the functions that update the same data directly"
   ]
  },
  {
   "cell_type": "code",
   "execution_count": 29,
   "id": "b1944965",
   "metadata": {},
   "outputs": [
    {
     "name": "stdout",
     "output_type": "stream",
     "text": [
      "1. The list looks like : [1, 2, 3, 4, 5]\n",
      "2. The list looks like : [1, 2, 3, 4, 5, [6]]\n"
     ]
    }
   ],
   "source": [
    "my_list = [1,2,3,4,5]\n",
    "element = [6]\n",
    "\n",
    "print(f'1. The list looks like : {my_list}')\n",
    "my_list.append(element)\n",
    "print(f'2. The list looks like : {my_list}')"
   ]
  },
  {
   "cell_type": "code",
   "execution_count": 30,
   "id": "0afa43eb",
   "metadata": {},
   "outputs": [
    {
     "data": {
      "text/plain": [
       "[1, 2, 3, 4, 5, [6]]"
      ]
     },
     "execution_count": 30,
     "metadata": {},
     "output_type": "execute_result"
    }
   ],
   "source": [
    "my_list"
   ]
  },
  {
   "cell_type": "markdown",
   "id": "5532dd5e",
   "metadata": {},
   "source": [
    "### b. `__add__`"
   ]
  },
  {
   "cell_type": "markdown",
   "id": "aac636d3",
   "metadata": {},
   "source": [
    "- Both the elements should be of the same type"
   ]
  },
  {
   "cell_type": "code",
   "execution_count": 39,
   "id": "2e6c723f",
   "metadata": {},
   "outputs": [
    {
     "data": {
      "text/plain": [
       "[1, 2, 3, 4, 5, [6]]"
      ]
     },
     "execution_count": 39,
     "metadata": {},
     "output_type": "execute_result"
    }
   ],
   "source": [
    "my_list = [1,2,3,4,5]\n",
    "element = [[6]]\n",
    "\n",
    "new_variable = my_list.__add__(element)\n",
    "\n",
    "new_variable"
   ]
  },
  {
   "cell_type": "code",
   "execution_count": 40,
   "id": "0178825c",
   "metadata": {},
   "outputs": [
    {
     "data": {
      "text/plain": [
       "[1, 2, 3, 4, 5]"
      ]
     },
     "execution_count": 40,
     "metadata": {},
     "output_type": "execute_result"
    }
   ],
   "source": [
    "my_list"
   ]
  },
  {
   "cell_type": "markdown",
   "id": "d8bc7d8f",
   "metadata": {},
   "source": [
    "### c. using the `+` operator"
   ]
  },
  {
   "cell_type": "code",
   "execution_count": 41,
   "id": "8f5ae028",
   "metadata": {},
   "outputs": [
    {
     "data": {
      "text/plain": [
       "[1, 2, 3, 4, 5, [6]]"
      ]
     },
     "execution_count": 41,
     "metadata": {},
     "output_type": "execute_result"
    }
   ],
   "source": [
    "my_list = [1,2,3,4,5]\n",
    "element = [[6]]\n",
    "\n",
    "new_variable = my_list + element\n",
    "new_variable"
   ]
  },
  {
   "cell_type": "code",
   "execution_count": 42,
   "id": "90ae02f7",
   "metadata": {},
   "outputs": [
    {
     "data": {
      "text/plain": [
       "[1, 2, 3, 4, 5]"
      ]
     },
     "execution_count": 42,
     "metadata": {},
     "output_type": "execute_result"
    }
   ],
   "source": [
    "my_list"
   ]
  },
  {
   "cell_type": "code",
   "execution_count": 43,
   "id": "491906c5",
   "metadata": {},
   "outputs": [
    {
     "data": {
      "text/plain": [
       "[[6]]"
      ]
     },
     "execution_count": 43,
     "metadata": {},
     "output_type": "execute_result"
    }
   ],
   "source": [
    "element"
   ]
  },
  {
   "cell_type": "code",
   "execution_count": 50,
   "id": "4c3ed7c8",
   "metadata": {
    "scrolled": true
   },
   "outputs": [
    {
     "name": "stdout",
     "output_type": "stream",
     "text": [
      "Enter the comma separated names : Groot,Iron Man,   Spider man, Pablo escobar\n"
     ]
    }
   ],
   "source": [
    "names = input('Enter the comma separated names : ')\n",
    "name_list = names.split(',')"
   ]
  },
  {
   "cell_type": "code",
   "execution_count": 51,
   "id": "e78b4a50",
   "metadata": {},
   "outputs": [
    {
     "data": {
      "text/plain": [
       "['Groot', 'Iron Man', '   Spider man', ' Pablo escobar']"
      ]
     },
     "execution_count": 51,
     "metadata": {},
     "output_type": "execute_result"
    }
   ],
   "source": [
    "name_list"
   ]
  },
  {
   "cell_type": "code",
   "execution_count": 52,
   "id": "07d4934a",
   "metadata": {},
   "outputs": [],
   "source": [
    "for index in range(len(name_list)):\n",
    "    name_list[index] = name_list[index].strip()"
   ]
  },
  {
   "cell_type": "code",
   "execution_count": 53,
   "id": "d72c572b",
   "metadata": {},
   "outputs": [
    {
     "data": {
      "text/plain": [
       "['Groot', 'Iron Man', 'Spider man', 'Pablo escobar']"
      ]
     },
     "execution_count": 53,
     "metadata": {},
     "output_type": "execute_result"
    }
   ],
   "source": [
    "name_list"
   ]
  },
  {
   "cell_type": "code",
   "execution_count": null,
   "id": "48d9180a",
   "metadata": {},
   "outputs": [],
   "source": []
  },
  {
   "cell_type": "code",
   "execution_count": null,
   "id": "eea87a13",
   "metadata": {},
   "outputs": [],
   "source": []
  },
  {
   "cell_type": "code",
   "execution_count": null,
   "id": "35274f8e",
   "metadata": {},
   "outputs": [],
   "source": []
  },
  {
   "cell_type": "code",
   "execution_count": null,
   "id": "a57e7bb2",
   "metadata": {},
   "outputs": [],
   "source": []
  }
 ],
 "metadata": {
  "kernelspec": {
   "display_name": "Python 3 (ipykernel)",
   "language": "python",
   "name": "python3"
  },
  "language_info": {
   "codemirror_mode": {
    "name": "ipython",
    "version": 3
   },
   "file_extension": ".py",
   "mimetype": "text/x-python",
   "name": "python",
   "nbconvert_exporter": "python",
   "pygments_lexer": "ipython3",
   "version": "3.9.12"
  }
 },
 "nbformat": 4,
 "nbformat_minor": 5
}
